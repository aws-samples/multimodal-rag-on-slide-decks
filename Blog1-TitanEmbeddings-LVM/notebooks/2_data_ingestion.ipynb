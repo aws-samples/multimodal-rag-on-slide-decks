{
 "cells": [
  {
   "cell_type": "code",
   "execution_count": 1,
   "id": "e0fc94dd-cfac-4fda-92ea-5db3c9316ea5",
   "metadata": {
    "tags": []
   },
   "outputs": [
    {
     "name": "stdout",
     "output_type": "stream",
     "text": [
      "Requirement already satisfied: huggingface-hub==0.19.4 in /home/ec2-user/anaconda3/envs/python3/lib/python3.10/site-packages (from -r requirements.txt (line 1)) (0.19.4)\n",
      "Requirement already satisfied: sagemaker==2.199.0 in /home/ec2-user/anaconda3/envs/python3/lib/python3.10/site-packages (from -r requirements.txt (line 2)) (2.199.0)\n",
      "Requirement already satisfied: pypdfium2==4.24.0 in /home/ec2-user/anaconda3/envs/python3/lib/python3.10/site-packages (from -r requirements.txt (line 3)) (4.24.0)\n",
      "Requirement already satisfied: httplib2==0.19.0 in /home/ec2-user/anaconda3/envs/python3/lib/python3.10/site-packages (from -r requirements.txt (line 4)) (0.19.0)\n",
      "Requirement already satisfied: langchain==0.0.340 in /home/ec2-user/anaconda3/envs/python3/lib/python3.10/site-packages (from -r requirements.txt (line 5)) (0.0.340)\n",
      "Requirement already satisfied: requests==2.31.0 in /home/ec2-user/anaconda3/envs/python3/lib/python3.10/site-packages (from -r requirements.txt (line 6)) (2.31.0)\n",
      "Requirement already satisfied: pandas==1.5.3 in /home/ec2-user/anaconda3/envs/python3/lib/python3.10/site-packages (from -r requirements.txt (line 7)) (1.5.3)\n",
      "Requirement already satisfied: boto3==1.34.0 in /home/ec2-user/anaconda3/envs/python3/lib/python3.10/site-packages (from -r requirements.txt (line 8)) (1.34.0)\n",
      "Requirement already satisfied: botocore==1.34.0 in /home/ec2-user/anaconda3/envs/python3/lib/python3.10/site-packages (from -r requirements.txt (line 9)) (1.34.0)\n",
      "Requirement already satisfied: opensearch-py==2.4.2 in /home/ec2-user/anaconda3/envs/python3/lib/python3.10/site-packages (from -r requirements.txt (line 10)) (2.4.2)\n",
      "Requirement already satisfied: numexpr==2.8.0 in /home/ec2-user/anaconda3/envs/python3/lib/python3.10/site-packages (from -r requirements.txt (line 11)) (2.8.0)\n",
      "Requirement already satisfied: packaging>=22.0 in /home/ec2-user/anaconda3/envs/python3/lib/python3.10/site-packages (from -r requirements.txt (line 12)) (23.2)\n",
      "Requirement already satisfied: docutils in /home/ec2-user/anaconda3/envs/python3/lib/python3.10/site-packages (from -r requirements.txt (line 13)) (0.16)\n",
      "Requirement already satisfied: filelock in /home/ec2-user/anaconda3/envs/python3/lib/python3.10/site-packages (from huggingface-hub==0.19.4->-r requirements.txt (line 1)) (3.12.4)\n",
      "Requirement already satisfied: fsspec>=2023.5.0 in /home/ec2-user/anaconda3/envs/python3/lib/python3.10/site-packages (from huggingface-hub==0.19.4->-r requirements.txt (line 1)) (2023.10.0)\n",
      "Requirement already satisfied: tqdm>=4.42.1 in /home/ec2-user/anaconda3/envs/python3/lib/python3.10/site-packages (from huggingface-hub==0.19.4->-r requirements.txt (line 1)) (4.66.1)\n",
      "Requirement already satisfied: pyyaml>=5.1 in /home/ec2-user/anaconda3/envs/python3/lib/python3.10/site-packages (from huggingface-hub==0.19.4->-r requirements.txt (line 1)) (6.0.1)\n",
      "Requirement already satisfied: typing-extensions>=3.7.4.3 in /home/ec2-user/anaconda3/envs/python3/lib/python3.10/site-packages (from huggingface-hub==0.19.4->-r requirements.txt (line 1)) (4.8.0)\n",
      "Requirement already satisfied: attrs<24,>=23.1.0 in /home/ec2-user/anaconda3/envs/python3/lib/python3.10/site-packages (from sagemaker==2.199.0->-r requirements.txt (line 2)) (23.1.0)\n",
      "Requirement already satisfied: cloudpickle==2.2.1 in /home/ec2-user/anaconda3/envs/python3/lib/python3.10/site-packages (from sagemaker==2.199.0->-r requirements.txt (line 2)) (2.2.1)\n",
      "Requirement already satisfied: google-pasta in /home/ec2-user/anaconda3/envs/python3/lib/python3.10/site-packages (from sagemaker==2.199.0->-r requirements.txt (line 2)) (0.2.0)\n",
      "Requirement already satisfied: numpy<2.0,>=1.9.0 in /home/ec2-user/anaconda3/envs/python3/lib/python3.10/site-packages (from sagemaker==2.199.0->-r requirements.txt (line 2)) (1.22.4)\n",
      "Requirement already satisfied: protobuf<5.0,>=3.12 in /home/ec2-user/anaconda3/envs/python3/lib/python3.10/site-packages (from sagemaker==2.199.0->-r requirements.txt (line 2)) (4.25.1)\n",
      "Requirement already satisfied: smdebug-rulesconfig==1.0.1 in /home/ec2-user/anaconda3/envs/python3/lib/python3.10/site-packages (from sagemaker==2.199.0->-r requirements.txt (line 2)) (1.0.1)\n",
      "Requirement already satisfied: importlib-metadata<7.0,>=1.4.0 in /home/ec2-user/anaconda3/envs/python3/lib/python3.10/site-packages (from sagemaker==2.199.0->-r requirements.txt (line 2)) (6.8.0)\n",
      "Requirement already satisfied: pathos in /home/ec2-user/anaconda3/envs/python3/lib/python3.10/site-packages (from sagemaker==2.199.0->-r requirements.txt (line 2)) (0.3.1)\n",
      "Requirement already satisfied: schema in /home/ec2-user/anaconda3/envs/python3/lib/python3.10/site-packages (from sagemaker==2.199.0->-r requirements.txt (line 2)) (0.7.5)\n",
      "Requirement already satisfied: jsonschema in /home/ec2-user/anaconda3/envs/python3/lib/python3.10/site-packages (from sagemaker==2.199.0->-r requirements.txt (line 2)) (4.19.1)\n",
      "Requirement already satisfied: platformdirs in /home/ec2-user/anaconda3/envs/python3/lib/python3.10/site-packages (from sagemaker==2.199.0->-r requirements.txt (line 2)) (3.11.0)\n",
      "Requirement already satisfied: tblib==1.7.0 in /home/ec2-user/anaconda3/envs/python3/lib/python3.10/site-packages (from sagemaker==2.199.0->-r requirements.txt (line 2)) (1.7.0)\n",
      "Requirement already satisfied: urllib3<1.27 in /home/ec2-user/anaconda3/envs/python3/lib/python3.10/site-packages (from sagemaker==2.199.0->-r requirements.txt (line 2)) (1.26.18)\n",
      "Requirement already satisfied: uvicorn==0.22.0 in /home/ec2-user/anaconda3/envs/python3/lib/python3.10/site-packages (from sagemaker==2.199.0->-r requirements.txt (line 2)) (0.22.0)\n",
      "Requirement already satisfied: fastapi==0.95.2 in /home/ec2-user/anaconda3/envs/python3/lib/python3.10/site-packages (from sagemaker==2.199.0->-r requirements.txt (line 2)) (0.95.2)\n",
      "Requirement already satisfied: docker in /home/ec2-user/anaconda3/envs/python3/lib/python3.10/site-packages (from sagemaker==2.199.0->-r requirements.txt (line 2)) (6.1.3)\n",
      "Requirement already satisfied: psutil in /home/ec2-user/anaconda3/envs/python3/lib/python3.10/site-packages (from sagemaker==2.199.0->-r requirements.txt (line 2)) (5.9.5)\n",
      "Requirement already satisfied: pyparsing<3,>=2.4.2 in /home/ec2-user/anaconda3/envs/python3/lib/python3.10/site-packages (from httplib2==0.19.0->-r requirements.txt (line 4)) (2.4.7)\n",
      "Requirement already satisfied: SQLAlchemy<3,>=1.4 in /home/ec2-user/anaconda3/envs/python3/lib/python3.10/site-packages (from langchain==0.0.340->-r requirements.txt (line 5)) (2.0.22)\n",
      "Requirement already satisfied: aiohttp<4.0.0,>=3.8.3 in /home/ec2-user/anaconda3/envs/python3/lib/python3.10/site-packages (from langchain==0.0.340->-r requirements.txt (line 5)) (3.8.6)\n",
      "Requirement already satisfied: anyio<4.0 in /home/ec2-user/anaconda3/envs/python3/lib/python3.10/site-packages (from langchain==0.0.340->-r requirements.txt (line 5)) (3.7.1)\n",
      "Requirement already satisfied: async-timeout<5.0.0,>=4.0.0 in /home/ec2-user/anaconda3/envs/python3/lib/python3.10/site-packages (from langchain==0.0.340->-r requirements.txt (line 5)) (4.0.3)\n",
      "Requirement already satisfied: dataclasses-json<0.7,>=0.5.7 in /home/ec2-user/anaconda3/envs/python3/lib/python3.10/site-packages (from langchain==0.0.340->-r requirements.txt (line 5)) (0.6.3)\n",
      "Requirement already satisfied: jsonpatch<2.0,>=1.33 in /home/ec2-user/anaconda3/envs/python3/lib/python3.10/site-packages (from langchain==0.0.340->-r requirements.txt (line 5)) (1.33)\n",
      "Requirement already satisfied: langsmith<0.1.0,>=0.0.63 in /home/ec2-user/anaconda3/envs/python3/lib/python3.10/site-packages (from langchain==0.0.340->-r requirements.txt (line 5)) (0.0.77)\n",
      "Requirement already satisfied: pydantic<3,>=1 in /home/ec2-user/anaconda3/envs/python3/lib/python3.10/site-packages (from langchain==0.0.340->-r requirements.txt (line 5)) (1.10.13)\n",
      "Requirement already satisfied: tenacity<9.0.0,>=8.1.0 in /home/ec2-user/anaconda3/envs/python3/lib/python3.10/site-packages (from langchain==0.0.340->-r requirements.txt (line 5)) (8.2.3)\n",
      "Requirement already satisfied: charset-normalizer<4,>=2 in /home/ec2-user/anaconda3/envs/python3/lib/python3.10/site-packages (from requests==2.31.0->-r requirements.txt (line 6)) (3.3.1)\n",
      "Requirement already satisfied: idna<4,>=2.5 in /home/ec2-user/anaconda3/envs/python3/lib/python3.10/site-packages (from requests==2.31.0->-r requirements.txt (line 6)) (3.4)\n",
      "Requirement already satisfied: certifi>=2017.4.17 in /home/ec2-user/anaconda3/envs/python3/lib/python3.10/site-packages (from requests==2.31.0->-r requirements.txt (line 6)) (2023.7.22)\n",
      "Requirement already satisfied: python-dateutil>=2.8.1 in /home/ec2-user/anaconda3/envs/python3/lib/python3.10/site-packages (from pandas==1.5.3->-r requirements.txt (line 7)) (2.8.2)\n",
      "Requirement already satisfied: pytz>=2020.1 in /home/ec2-user/anaconda3/envs/python3/lib/python3.10/site-packages (from pandas==1.5.3->-r requirements.txt (line 7)) (2023.3.post1)\n",
      "Requirement already satisfied: jmespath<2.0.0,>=0.7.1 in /home/ec2-user/anaconda3/envs/python3/lib/python3.10/site-packages (from boto3==1.34.0->-r requirements.txt (line 8)) (1.0.1)\n",
      "Requirement already satisfied: s3transfer<0.10.0,>=0.9.0 in /home/ec2-user/anaconda3/envs/python3/lib/python3.10/site-packages (from boto3==1.34.0->-r requirements.txt (line 8)) (0.9.0)\n",
      "Requirement already satisfied: six in /home/ec2-user/anaconda3/envs/python3/lib/python3.10/site-packages (from opensearch-py==2.4.2->-r requirements.txt (line 10)) (1.16.0)\n",
      "Requirement already satisfied: starlette<0.28.0,>=0.27.0 in /home/ec2-user/anaconda3/envs/python3/lib/python3.10/site-packages (from fastapi==0.95.2->sagemaker==2.199.0->-r requirements.txt (line 2)) (0.27.0)\n",
      "Requirement already satisfied: click>=7.0 in /home/ec2-user/anaconda3/envs/python3/lib/python3.10/site-packages (from uvicorn==0.22.0->sagemaker==2.199.0->-r requirements.txt (line 2)) (8.1.7)\n",
      "Requirement already satisfied: h11>=0.8 in /home/ec2-user/anaconda3/envs/python3/lib/python3.10/site-packages (from uvicorn==0.22.0->sagemaker==2.199.0->-r requirements.txt (line 2)) (0.14.0)\n",
      "Requirement already satisfied: multidict<7.0,>=4.5 in /home/ec2-user/anaconda3/envs/python3/lib/python3.10/site-packages (from aiohttp<4.0.0,>=3.8.3->langchain==0.0.340->-r requirements.txt (line 5)) (6.0.4)\n",
      "Requirement already satisfied: yarl<2.0,>=1.0 in /home/ec2-user/anaconda3/envs/python3/lib/python3.10/site-packages (from aiohttp<4.0.0,>=3.8.3->langchain==0.0.340->-r requirements.txt (line 5)) (1.9.2)\n",
      "Requirement already satisfied: frozenlist>=1.1.1 in /home/ec2-user/anaconda3/envs/python3/lib/python3.10/site-packages (from aiohttp<4.0.0,>=3.8.3->langchain==0.0.340->-r requirements.txt (line 5)) (1.4.0)\n",
      "Requirement already satisfied: aiosignal>=1.1.2 in /home/ec2-user/anaconda3/envs/python3/lib/python3.10/site-packages (from aiohttp<4.0.0,>=3.8.3->langchain==0.0.340->-r requirements.txt (line 5)) (1.3.1)\n",
      "Requirement already satisfied: sniffio>=1.1 in /home/ec2-user/anaconda3/envs/python3/lib/python3.10/site-packages (from anyio<4.0->langchain==0.0.340->-r requirements.txt (line 5)) (1.3.0)\n",
      "Requirement already satisfied: exceptiongroup in /home/ec2-user/anaconda3/envs/python3/lib/python3.10/site-packages (from anyio<4.0->langchain==0.0.340->-r requirements.txt (line 5)) (1.1.3)\n",
      "Requirement already satisfied: marshmallow<4.0.0,>=3.18.0 in /home/ec2-user/anaconda3/envs/python3/lib/python3.10/site-packages (from dataclasses-json<0.7,>=0.5.7->langchain==0.0.340->-r requirements.txt (line 5)) (3.20.1)\n",
      "Requirement already satisfied: typing-inspect<1,>=0.4.0 in /home/ec2-user/anaconda3/envs/python3/lib/python3.10/site-packages (from dataclasses-json<0.7,>=0.5.7->langchain==0.0.340->-r requirements.txt (line 5)) (0.9.0)\n",
      "Requirement already satisfied: zipp>=0.5 in /home/ec2-user/anaconda3/envs/python3/lib/python3.10/site-packages (from importlib-metadata<7.0,>=1.4.0->sagemaker==2.199.0->-r requirements.txt (line 2)) (3.17.0)\n",
      "Requirement already satisfied: jsonpointer>=1.9 in /home/ec2-user/anaconda3/envs/python3/lib/python3.10/site-packages (from jsonpatch<2.0,>=1.33->langchain==0.0.340->-r requirements.txt (line 5)) (2.4)\n",
      "Requirement already satisfied: greenlet!=0.4.17 in /home/ec2-user/anaconda3/envs/python3/lib/python3.10/site-packages (from SQLAlchemy<3,>=1.4->langchain==0.0.340->-r requirements.txt (line 5)) (3.0.1)\n",
      "Requirement already satisfied: websocket-client>=0.32.0 in /home/ec2-user/anaconda3/envs/python3/lib/python3.10/site-packages (from docker->sagemaker==2.199.0->-r requirements.txt (line 2)) (1.6.4)\n",
      "Requirement already satisfied: jsonschema-specifications>=2023.03.6 in /home/ec2-user/anaconda3/envs/python3/lib/python3.10/site-packages (from jsonschema->sagemaker==2.199.0->-r requirements.txt (line 2)) (2023.7.1)\n",
      "Requirement already satisfied: referencing>=0.28.4 in /home/ec2-user/anaconda3/envs/python3/lib/python3.10/site-packages (from jsonschema->sagemaker==2.199.0->-r requirements.txt (line 2)) (0.30.2)\n",
      "Requirement already satisfied: rpds-py>=0.7.1 in /home/ec2-user/anaconda3/envs/python3/lib/python3.10/site-packages (from jsonschema->sagemaker==2.199.0->-r requirements.txt (line 2)) (0.10.6)\n",
      "Requirement already satisfied: ppft>=1.7.6.7 in /home/ec2-user/anaconda3/envs/python3/lib/python3.10/site-packages (from pathos->sagemaker==2.199.0->-r requirements.txt (line 2)) (1.7.6.7)\n",
      "Requirement already satisfied: dill>=0.3.7 in /home/ec2-user/anaconda3/envs/python3/lib/python3.10/site-packages (from pathos->sagemaker==2.199.0->-r requirements.txt (line 2)) (0.3.7)\n",
      "Requirement already satisfied: pox>=0.3.3 in /home/ec2-user/anaconda3/envs/python3/lib/python3.10/site-packages (from pathos->sagemaker==2.199.0->-r requirements.txt (line 2)) (0.3.3)\n",
      "Requirement already satisfied: multiprocess>=0.70.15 in /home/ec2-user/anaconda3/envs/python3/lib/python3.10/site-packages (from pathos->sagemaker==2.199.0->-r requirements.txt (line 2)) (0.70.15)\n",
      "Requirement already satisfied: contextlib2>=0.5.5 in /home/ec2-user/anaconda3/envs/python3/lib/python3.10/site-packages (from schema->sagemaker==2.199.0->-r requirements.txt (line 2)) (21.6.0)\n",
      "Requirement already satisfied: mypy-extensions>=0.3.0 in /home/ec2-user/anaconda3/envs/python3/lib/python3.10/site-packages (from typing-inspect<1,>=0.4.0->dataclasses-json<0.7,>=0.5.7->langchain==0.0.340->-r requirements.txt (line 5)) (1.0.0)\n"
     ]
    }
   ],
   "source": [
    "!pip install -r requirements.txt"
   ]
  },
  {
   "cell_type": "code",
   "execution_count": 15,
   "id": "beda5d30-06f7-44a6-9b1d-8ac27fb93cfa",
   "metadata": {
    "tags": []
   },
   "outputs": [],
   "source": [
    "import os\n",
    "import glob\n",
    "import json\n",
    "import boto3\n",
    "import codecs\n",
    "import base64\n",
    "import logging\n",
    "import botocore\n",
    "import numpy as np\n",
    "import globals as g\n",
    "from pathlib import Path\n",
    "from opensearchpy import OpenSearch, RequestsHttpConnection, AWSV4SignerAuth\n",
    "from utils import upload_to_s3, get_cfn_outputs, download_image_files_from_s3\n",
    "\n",
    "logging.basicConfig(format='[%(asctime)s] p%(process)s {%(filename)s:%(lineno)d} %(levelname)s - %(message)s', level=logging.INFO)\n",
    "logger = logging.getLogger(__name__)"
   ]
  },
  {
   "cell_type": "code",
   "execution_count": 22,
   "id": "130ccdb0-8e2e-47bc-bd90-34ff8cba1964",
   "metadata": {
    "tags": []
   },
   "outputs": [
    {
     "name": "stderr",
     "output_type": "stream",
     "text": [
      "[2024-01-06 21:12:00,034] p1281 {utils.py:30} INFO - downloaded sagemaker-us-east-1-015469603702/multimodal/img/CMP301_TrainDeploy_E1_20230607_SPEdited_image_1.jpg to img/CMP301_TrainDeploy_E1_20230607_SPEdited_image_1.jpg\n",
      "[2024-01-06 21:12:00,096] p1281 {utils.py:30} INFO - downloaded sagemaker-us-east-1-015469603702/multimodal/img/CMP301_TrainDeploy_E1_20230607_SPEdited_image_10.jpg to img/CMP301_TrainDeploy_E1_20230607_SPEdited_image_10.jpg\n",
      "[2024-01-06 21:12:00,149] p1281 {utils.py:30} INFO - downloaded sagemaker-us-east-1-015469603702/multimodal/img/CMP301_TrainDeploy_E1_20230607_SPEdited_image_11.jpg to img/CMP301_TrainDeploy_E1_20230607_SPEdited_image_11.jpg\n",
      "[2024-01-06 21:12:00,197] p1281 {utils.py:30} INFO - downloaded sagemaker-us-east-1-015469603702/multimodal/img/CMP301_TrainDeploy_E1_20230607_SPEdited_image_12.jpg to img/CMP301_TrainDeploy_E1_20230607_SPEdited_image_12.jpg\n",
      "[2024-01-06 21:12:00,270] p1281 {utils.py:30} INFO - downloaded sagemaker-us-east-1-015469603702/multimodal/img/CMP301_TrainDeploy_E1_20230607_SPEdited_image_13.jpg to img/CMP301_TrainDeploy_E1_20230607_SPEdited_image_13.jpg\n",
      "[2024-01-06 21:12:00,307] p1281 {utils.py:30} INFO - downloaded sagemaker-us-east-1-015469603702/multimodal/img/CMP301_TrainDeploy_E1_20230607_SPEdited_image_14.jpg to img/CMP301_TrainDeploy_E1_20230607_SPEdited_image_14.jpg\n",
      "[2024-01-06 21:12:00,358] p1281 {utils.py:30} INFO - downloaded sagemaker-us-east-1-015469603702/multimodal/img/CMP301_TrainDeploy_E1_20230607_SPEdited_image_15.jpg to img/CMP301_TrainDeploy_E1_20230607_SPEdited_image_15.jpg\n",
      "[2024-01-06 21:12:00,401] p1281 {utils.py:30} INFO - downloaded sagemaker-us-east-1-015469603702/multimodal/img/CMP301_TrainDeploy_E1_20230607_SPEdited_image_16.jpg to img/CMP301_TrainDeploy_E1_20230607_SPEdited_image_16.jpg\n",
      "[2024-01-06 21:12:00,443] p1281 {utils.py:30} INFO - downloaded sagemaker-us-east-1-015469603702/multimodal/img/CMP301_TrainDeploy_E1_20230607_SPEdited_image_17.jpg to img/CMP301_TrainDeploy_E1_20230607_SPEdited_image_17.jpg\n",
      "[2024-01-06 21:12:00,546] p1281 {utils.py:30} INFO - downloaded sagemaker-us-east-1-015469603702/multimodal/img/CMP301_TrainDeploy_E1_20230607_SPEdited_image_18.jpg to img/CMP301_TrainDeploy_E1_20230607_SPEdited_image_18.jpg\n",
      "[2024-01-06 21:12:00,624] p1281 {utils.py:30} INFO - downloaded sagemaker-us-east-1-015469603702/multimodal/img/CMP301_TrainDeploy_E1_20230607_SPEdited_image_19.jpg to img/CMP301_TrainDeploy_E1_20230607_SPEdited_image_19.jpg\n",
      "[2024-01-06 21:12:00,688] p1281 {utils.py:30} INFO - downloaded sagemaker-us-east-1-015469603702/multimodal/img/CMP301_TrainDeploy_E1_20230607_SPEdited_image_2.jpg to img/CMP301_TrainDeploy_E1_20230607_SPEdited_image_2.jpg\n",
      "[2024-01-06 21:12:00,742] p1281 {utils.py:30} INFO - downloaded sagemaker-us-east-1-015469603702/multimodal/img/CMP301_TrainDeploy_E1_20230607_SPEdited_image_20.jpg to img/CMP301_TrainDeploy_E1_20230607_SPEdited_image_20.jpg\n",
      "[2024-01-06 21:12:00,829] p1281 {utils.py:30} INFO - downloaded sagemaker-us-east-1-015469603702/multimodal/img/CMP301_TrainDeploy_E1_20230607_SPEdited_image_21.jpg to img/CMP301_TrainDeploy_E1_20230607_SPEdited_image_21.jpg\n",
      "[2024-01-06 21:12:00,879] p1281 {utils.py:30} INFO - downloaded sagemaker-us-east-1-015469603702/multimodal/img/CMP301_TrainDeploy_E1_20230607_SPEdited_image_22.jpg to img/CMP301_TrainDeploy_E1_20230607_SPEdited_image_22.jpg\n",
      "[2024-01-06 21:12:00,930] p1281 {utils.py:30} INFO - downloaded sagemaker-us-east-1-015469603702/multimodal/img/CMP301_TrainDeploy_E1_20230607_SPEdited_image_23.jpg to img/CMP301_TrainDeploy_E1_20230607_SPEdited_image_23.jpg\n",
      "[2024-01-06 21:12:00,986] p1281 {utils.py:30} INFO - downloaded sagemaker-us-east-1-015469603702/multimodal/img/CMP301_TrainDeploy_E1_20230607_SPEdited_image_24.jpg to img/CMP301_TrainDeploy_E1_20230607_SPEdited_image_24.jpg\n",
      "[2024-01-06 21:12:01,068] p1281 {utils.py:30} INFO - downloaded sagemaker-us-east-1-015469603702/multimodal/img/CMP301_TrainDeploy_E1_20230607_SPEdited_image_25.jpg to img/CMP301_TrainDeploy_E1_20230607_SPEdited_image_25.jpg\n",
      "[2024-01-06 21:12:01,140] p1281 {utils.py:30} INFO - downloaded sagemaker-us-east-1-015469603702/multimodal/img/CMP301_TrainDeploy_E1_20230607_SPEdited_image_26.jpg to img/CMP301_TrainDeploy_E1_20230607_SPEdited_image_26.jpg\n",
      "[2024-01-06 21:12:01,193] p1281 {utils.py:30} INFO - downloaded sagemaker-us-east-1-015469603702/multimodal/img/CMP301_TrainDeploy_E1_20230607_SPEdited_image_27.jpg to img/CMP301_TrainDeploy_E1_20230607_SPEdited_image_27.jpg\n",
      "[2024-01-06 21:12:01,256] p1281 {utils.py:30} INFO - downloaded sagemaker-us-east-1-015469603702/multimodal/img/CMP301_TrainDeploy_E1_20230607_SPEdited_image_28.jpg to img/CMP301_TrainDeploy_E1_20230607_SPEdited_image_28.jpg\n",
      "[2024-01-06 21:12:01,303] p1281 {utils.py:30} INFO - downloaded sagemaker-us-east-1-015469603702/multimodal/img/CMP301_TrainDeploy_E1_20230607_SPEdited_image_29.jpg to img/CMP301_TrainDeploy_E1_20230607_SPEdited_image_29.jpg\n",
      "[2024-01-06 21:12:01,413] p1281 {utils.py:30} INFO - downloaded sagemaker-us-east-1-015469603702/multimodal/img/CMP301_TrainDeploy_E1_20230607_SPEdited_image_3.jpg to img/CMP301_TrainDeploy_E1_20230607_SPEdited_image_3.jpg\n",
      "[2024-01-06 21:12:01,460] p1281 {utils.py:30} INFO - downloaded sagemaker-us-east-1-015469603702/multimodal/img/CMP301_TrainDeploy_E1_20230607_SPEdited_image_30.jpg to img/CMP301_TrainDeploy_E1_20230607_SPEdited_image_30.jpg\n",
      "[2024-01-06 21:12:01,509] p1281 {utils.py:30} INFO - downloaded sagemaker-us-east-1-015469603702/multimodal/img/CMP301_TrainDeploy_E1_20230607_SPEdited_image_31.jpg to img/CMP301_TrainDeploy_E1_20230607_SPEdited_image_31.jpg\n",
      "[2024-01-06 21:12:01,575] p1281 {utils.py:30} INFO - downloaded sagemaker-us-east-1-015469603702/multimodal/img/CMP301_TrainDeploy_E1_20230607_SPEdited_image_4.jpg to img/CMP301_TrainDeploy_E1_20230607_SPEdited_image_4.jpg\n",
      "[2024-01-06 21:12:01,672] p1281 {utils.py:30} INFO - downloaded sagemaker-us-east-1-015469603702/multimodal/img/CMP301_TrainDeploy_E1_20230607_SPEdited_image_5.jpg to img/CMP301_TrainDeploy_E1_20230607_SPEdited_image_5.jpg\n",
      "[2024-01-06 21:12:01,729] p1281 {utils.py:30} INFO - downloaded sagemaker-us-east-1-015469603702/multimodal/img/CMP301_TrainDeploy_E1_20230607_SPEdited_image_6.jpg to img/CMP301_TrainDeploy_E1_20230607_SPEdited_image_6.jpg\n",
      "[2024-01-06 21:12:01,792] p1281 {utils.py:30} INFO - downloaded sagemaker-us-east-1-015469603702/multimodal/img/CMP301_TrainDeploy_E1_20230607_SPEdited_image_7.jpg to img/CMP301_TrainDeploy_E1_20230607_SPEdited_image_7.jpg\n",
      "[2024-01-06 21:12:01,836] p1281 {utils.py:30} INFO - downloaded sagemaker-us-east-1-015469603702/multimodal/img/CMP301_TrainDeploy_E1_20230607_SPEdited_image_8.jpg to img/CMP301_TrainDeploy_E1_20230607_SPEdited_image_8.jpg\n",
      "[2024-01-06 21:12:01,892] p1281 {utils.py:30} INFO - downloaded sagemaker-us-east-1-015469603702/multimodal/img/CMP301_TrainDeploy_E1_20230607_SPEdited_image_9.jpg to img/CMP301_TrainDeploy_E1_20230607_SPEdited_image_9.jpg\n",
      "[2024-01-06 21:12:01,893] p1281 {2349802639.py:3} INFO - downloaded 31 from s3\n"
     ]
    }
   ],
   "source": [
    "# download images from S3, we would be converting these to embeddings\n",
    "image_files = download_image_files_from_s3(g.BUCKET_NAME, g.BUCKET_IMG_PREFIX, g.IMAGE_DIR, g.IMAGE_FILE_EXTN)\n",
    "logger.info(f\"downloaded {len(image_files)} from s3\")"
   ]
  },
  {
   "cell_type": "code",
   "execution_count": 23,
   "id": "ea7ee6d6-0d23-4481-ac3e-d72a2219bc65",
   "metadata": {
    "tags": []
   },
   "outputs": [],
   "source": [
    "def encode_image_to_base64(image_file_path: str):\n",
    "    with open(image_file_path, \"rb\") as image_file:\n",
    "        b64_image = base64.b64encode(image_file.read()).decode('utf8')\n",
    "        b64_image_path = os.path.join(g.B64_ENCODED_IMAGES_DIR, f\"{Path(image_file_path).stem}.b64\")\n",
    "        with open(b64_image_path, \"wb\") as b64_image_file:\n",
    "            b64_image_file.write(bytes(b64_image, 'utf-8'))"
   ]
  },
  {
   "cell_type": "code",
   "execution_count": 24,
   "id": "6d4478ad-9673-4ab5-993e-f0437b3926ac",
   "metadata": {
    "tags": []
   },
   "outputs": [],
   "source": [
    "os.makedirs(g.B64_ENCODED_IMAGES_DIR, exist_ok=True)\n",
    "for image_file_path in glob.glob(os.path.join(g.IMAGE_DIR, f\"*{g.IMAGE_FILE_EXTN}\")):\n",
    "    encode_image_to_base64(image_file_path)"
   ]
  },
  {
   "cell_type": "code",
   "execution_count": 25,
   "id": "8b38cd73-0bce-4313-bc2b-d9cc33a3bb79",
   "metadata": {
    "tags": []
   },
   "outputs": [],
   "source": [
    "def get_embeddings(bedrock: botocore.client, image: str) -> np.ndarray:\n",
    "    body = json.dumps(dict(inputImage=image))\n",
    "    try:\n",
    "        response = bedrock.invoke_model(\n",
    "            body=body, modelId=g.FMC_MODEL_ID, accept=g.ACCEPT_ENCODING, contentType=g.CONTENT_ENCODING\n",
    "        )\n",
    "        response_body = json.loads(response.get(\"body\").read())\n",
    "        embeddings = np.array([response_body.get(\"embedding\")]).astype(np.float32)\n",
    "    except Exception as e:\n",
    "        logger.error(f\"exception while image(truncated)={image[:10]}, exception={e}\")\n",
    "        embeddings = None\n",
    "\n",
    "    return embeddings"
   ]
  },
  {
   "cell_type": "code",
   "execution_count": 29,
   "id": "106a99c9-2aae-4062-9c22-90e2609910a3",
   "metadata": {
    "tags": []
   },
   "outputs": [
    {
     "name": "stdout",
     "output_type": "stream",
     "text": [
      "img/b64_images/CMP301_TrainDeploy_E1_20230607_SPEdited_image_3.b64\n",
      "img/b64_images/CMP301_TrainDeploy_E1_20230607_SPEdited_image_22.b64\n",
      "img/b64_images/CMP301_TrainDeploy_E1_20230607_SPEdited_image_6.b64\n",
      "img/b64_images/CMP301_TrainDeploy_E1_20230607_SPEdited_image_17.b64\n",
      "img/b64_images/CMP301_TrainDeploy_E1_20230607_SPEdited_image_25.b64\n",
      "img/b64_images/CMP301_TrainDeploy_E1_20230607_SPEdited_image_10.b64\n",
      "img/b64_images/CMP301_TrainDeploy_E1_20230607_SPEdited_image_15.b64\n",
      "img/b64_images/CMP301_TrainDeploy_E1_20230607_SPEdited_image_2.b64\n",
      "img/b64_images/CMP301_TrainDeploy_E1_20230607_SPEdited_image_8.b64\n",
      "img/b64_images/CMP301_TrainDeploy_E1_20230607_SPEdited_image_28.b64\n",
      "img/b64_images/CMP301_TrainDeploy_E1_20230607_SPEdited_image_14.b64\n",
      "img/b64_images/CMP301_TrainDeploy_E1_20230607_SPEdited_image_4.b64\n",
      "img/b64_images/CMP301_TrainDeploy_E1_20230607_SPEdited_image_11.b64\n",
      "img/b64_images/CMP301_TrainDeploy_E1_20230607_SPEdited_image_9.b64\n",
      "img/b64_images/CMP301_TrainDeploy_E1_20230607_SPEdited_image_1.b64\n",
      "img/b64_images/CMP301_TrainDeploy_E1_20230607_SPEdited_image_13.b64\n",
      "img/b64_images/CMP301_TrainDeploy_E1_20230607_SPEdited_image_31.b64\n",
      "img/b64_images/CMP301_TrainDeploy_E1_20230607_SPEdited_image_21.b64\n",
      "img/b64_images/CMP301_TrainDeploy_E1_20230607_SPEdited_image_18.b64\n",
      "img/b64_images/CMP301_TrainDeploy_E1_20230607_SPEdited_image_30.b64\n",
      "img/b64_images/CMP301_TrainDeploy_E1_20230607_SPEdited_image_29.b64\n",
      "img/b64_images/CMP301_TrainDeploy_E1_20230607_SPEdited_image_20.b64\n",
      "img/b64_images/CMP301_TrainDeploy_E1_20230607_SPEdited_image_7.b64\n",
      "img/b64_images/CMP301_TrainDeploy_E1_20230607_SPEdited_image_24.b64\n",
      "img/b64_images/CMP301_TrainDeploy_E1_20230607_SPEdited_image_16.b64\n",
      "img/b64_images/CMP301_TrainDeploy_E1_20230607_SPEdited_image_19.b64\n",
      "img/b64_images/CMP301_TrainDeploy_E1_20230607_SPEdited_image_27.b64\n",
      "img/b64_images/CMP301_TrainDeploy_E1_20230607_SPEdited_image_23.b64\n",
      "img/b64_images/CMP301_TrainDeploy_E1_20230607_SPEdited_image_5.b64\n",
      "img/b64_images/CMP301_TrainDeploy_E1_20230607_SPEdited_image_12.b64\n",
      "img/b64_images/CMP301_TrainDeploy_E1_20230607_SPEdited_image_26.b64\n",
      "CPU times: user 1.14 s, sys: 31.4 ms, total: 1.17 s\n",
      "Wall time: 4.98 s\n"
     ]
    }
   ],
   "source": [
    "%%time\n",
    "\n",
    "embeddings_list = []\n",
    "bedrock = boto3.client(service_name=\"bedrock-runtime\", region_name=g.AWS_REGION, endpoint_url=g.FMC_URL)\n",
    "for image_file_path in glob.glob(os.path.join(g.B64_ENCODED_IMAGES_DIR, \"*.b64\")):\n",
    "    print(image_file_path)\n",
    "    # MAX image size supported is 2048 * 2048 pixels\n",
    "    with open(image_file_path, \"rb\") as image_file:\n",
    "        input_image_b64 = image_file.read().decode('utf-8')\n",
    "    \n",
    "    embeddings = get_embeddings(bedrock, input_image_b64)\n",
    "    if embeddings is None:\n",
    "        logger.error(f\"error creating embeddings for {os.path.basename(image_file_path)}\")\n",
    "        continue\n",
    "\n",
    "    data = {\n",
    "        \"image_path\": f\"s3://{g.BUCKET_NAME}/{g.BUCKET_IMG_PREFIX}/{Path(image_file_path).stem}{g.IMAGE_FILE_EXTN}\",\n",
    "        \"metadata\": {\n",
    "          \"slide_filename\": g.SLIDE_DECK,\n",
    "          \"model_id\": g.FMC_MODEL_ID,\n",
    "          \"slide_description\": \"\"\n",
    "        },\n",
    "        \"vector_embedding\": embeddings[0].tolist()\n",
    "      }\n",
    "    \n",
    "    embeddings_list.append(data)\n",
    "\n",
    "    json.dump(embeddings_list,\n",
    "              codecs.open(f\"{Path(g.SLIDE_DECK).stem}.json\", 'w', encoding='utf-8'), \n",
    "              separators=(',', ':'), \n",
    "              sort_keys=True, \n",
    "              indent=2)"
   ]
  },
  {
   "cell_type": "code",
   "execution_count": 31,
   "id": "0e5b2b2e-3c41-4ccd-8260-eb7caf247d05",
   "metadata": {
    "tags": []
   },
   "outputs": [
    {
     "name": "stderr",
     "output_type": "stream",
     "text": [
      "[2024-01-06 21:14:36,671] p1281 {credentials.py:1075} INFO - Found credentials from IAM Role: BaseNotebookInstanceEc2InstanceRole\n"
     ]
    },
    {
     "name": "stdout",
     "output_type": "stream",
     "text": [
      "jcbl0nhke4fyxk2bfjz2.us-east-1.aoss.amazonaws.com\n"
     ]
    }
   ],
   "source": [
    "outputs = get_cfn_outputs(g.CFN_STACK_NAME)\n",
    "os_collection_endpoint = outputs['MultimodalCollectionEndpoint'].split('//')[1]\n",
    "host = os_collection_endpoint\n",
    "session = boto3.Session()\n",
    "credentials = session.get_credentials()\n",
    "auth = AWSV4SignerAuth(credentials, g.AWS_REGION, g.OS_SERVICE)\n",
    "\n",
    "os_client = OpenSearch(\n",
    "    hosts = [{'host': host, 'port': 443}],\n",
    "    http_auth = auth,\n",
    "    use_ssl = True,\n",
    "    verify_certs = True,\n",
    "    connection_class = RequestsHttpConnection,\n",
    "    pool_maxsize = 20\n",
    ")"
   ]
  },
  {
   "cell_type": "code",
   "execution_count": 32,
   "id": "698ea7da-4cc8-43c6-95b8-c9b05e29b772",
   "metadata": {
    "tags": []
   },
   "outputs": [
    {
     "data": {
      "text/plain": [
       "{'MultimodalNotebookInstanceId': 'arn:aws:sagemaker:us-east-1:015469603702:notebook-instance/MultimodalNotebookInstance-AhdR74NPXvN8',\n",
       " 'SQSQueueARN': 'arn:aws:sqs:us-east-1:015469603702:InputfromS3',\n",
       " 'SQSQueueURL': 'https://sqs.us-east-1.amazonaws.com/015469603702/InputfromS3',\n",
       " 'OpenSearchIndexName': 'multimodalslidesindex',\n",
       " 'MultimodalCollectionEndpoint': 'https://jcbl0nhke4fyxk2bfjz2.us-east-1.aoss.amazonaws.com'}"
      ]
     },
     "execution_count": 32,
     "metadata": {},
     "output_type": "execute_result"
    }
   ],
   "source": [
    "outputs"
   ]
  },
  {
   "cell_type": "code",
   "execution_count": 37,
   "id": "06d77228-8db8-4302-a3f9-77cba53a7061",
   "metadata": {
    "tags": []
   },
   "outputs": [
    {
     "name": "stderr",
     "output_type": "stream",
     "text": [
      "[2024-01-06 21:23:08,332] p1281 {base.py:259} INFO - PUT https://jcbl0nhke4fyxk2bfjz2.us-east-1.aoss.amazonaws.com:443/multimodalslidesindex [status:200 request:0.506s]\n"
     ]
    },
    {
     "data": {
      "text/plain": [
       "{'acknowledged': True,\n",
       " 'shards_acknowledged': True,\n",
       " 'index': 'multimodalslidesindex'}"
      ]
     },
     "execution_count": 37,
     "metadata": {},
     "output_type": "execute_result"
    }
   ],
   "source": [
    "index_name = outputs['OpenSearchIndexName']\n",
    "index_body = \"\"\"\n",
    "{\n",
    "  \"settings\": {\n",
    "    \"index.knn\": true\n",
    "  },\n",
    "  \"mappings\": {\n",
    "    \"properties\": {\n",
    "      \"vector_embedding\": {\n",
    "        \"type\": \"knn_vector\",\n",
    "        \"dimension\": 1024,\n",
    "        \"method\": {\n",
    "          \"name\": \"hnsw\",\n",
    "          \"engine\": \"nmslib\",\n",
    "          \"parameters\": {}\n",
    "        }\n",
    "      },\n",
    "      \"image_path\": {\n",
    "        \"type\": \"text\"\n",
    "      },\n",
    "       \"metadata\": { \n",
    "        \"properties\" :\n",
    "          {\n",
    "            \"slide_filename\" : {\n",
    "              \"type\" : \"text\"\n",
    "            },\n",
    "            \"model_id\" : {\n",
    "              \"type\" : \"text\"\n",
    "            },\n",
    "            \"slide_description\":{\n",
    "              \"type\": \"text\"\n",
    "            }\n",
    "          }\n",
    "      }\n",
    "    }\n",
    "  }\n",
    "}\n",
    "\"\"\"\n",
    "index_body = json.loads(index_body)\n",
    "\n",
    "response = os_client.indices.create(index_name, body=index_body)\n",
    "response\n"
   ]
  },
  {
   "cell_type": "code",
   "execution_count": 38,
   "id": "529b3a43-50e1-4569-96b2-fd2bcfaa57fb",
   "metadata": {
    "tags": []
   },
   "outputs": [
    {
     "name": "stderr",
     "output_type": "stream",
     "text": [
      "[2024-01-06 21:24:27,519] p1281 {utils.py:18} INFO - File CMP301_TrainDeploy_E1_20230607_SPEdited.json uploaded to sagemaker-us-east-1-015469603702/multimodal/osi-embeddings-json/CMP301_TrainDeploy_E1_20230607_SPEdited.json.\n"
     ]
    }
   ],
   "source": [
    "upload_to_s3(f\"{Path(g.SLIDE_DECK).stem}.json\", g.BUCKET_NAME, g.BUCKET_EMB_PREFIX)"
   ]
  },
  {
   "cell_type": "code",
   "execution_count": null,
   "id": "b7f972c6-41d2-41e5-85bb-f61817834295",
   "metadata": {},
   "outputs": [],
   "source": []
  }
 ],
 "metadata": {
  "kernelspec": {
   "display_name": "conda_python3",
   "language": "python",
   "name": "conda_python3"
  },
  "language_info": {
   "codemirror_mode": {
    "name": "ipython",
    "version": 3
   },
   "file_extension": ".py",
   "mimetype": "text/x-python",
   "name": "python",
   "nbconvert_exporter": "python",
   "pygments_lexer": "ipython3",
   "version": "3.10.13"
  }
 },
 "nbformat": 4,
 "nbformat_minor": 5
}
