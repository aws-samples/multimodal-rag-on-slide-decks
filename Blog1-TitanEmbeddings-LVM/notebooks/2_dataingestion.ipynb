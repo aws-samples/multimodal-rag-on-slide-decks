{
 "cells": [
  {
   "cell_type": "code",
   "execution_count": null,
   "id": "e0fc94dd-cfac-4fda-92ea-5db3c9316ea5",
   "metadata": {
    "tags": []
   },
   "outputs": [],
   "source": [
    "import sys\n",
    "!{sys.executable} -m pip install -r requirements.txt"
   ]
  },
  {
   "cell_type": "code",
   "execution_count": null,
   "id": "beda5d30-06f7-44a6-9b1d-8ac27fb93cfa",
   "metadata": {
    "tags": []
   },
   "outputs": [],
   "source": [
    "import os\n",
    "import glob\n",
    "import json\n",
    "import boto3\n",
    "import codecs\n",
    "import base64\n",
    "import logging\n",
    "import numpy as np\n",
    "from typing import Dict\n",
    "from pathlib import Path\n",
    "from pandas.core.series import Series\n",
    "from langchain.llms.bedrock import Bedrock\n",
    "\n",
    "logging.basicConfig(format='[%(asctime)s] p%(process)s {%(filename)s:%(lineno)d} %(levelname)s - %(message)s', level=logging.INFO)\n",
    "logger = logging.getLogger(__name__)"
   ]
  },
  {
   "cell_type": "code",
   "execution_count": null,
   "id": "11f52cb6-fa4b-4773-9316-4140f55954e6",
   "metadata": {
    "tags": []
   },
   "outputs": [],
   "source": [
    "%run -i globals.py"
   ]
  },
  {
   "cell_type": "code",
   "execution_count": null,
   "id": "2a6d1a57-db62-4d43-bcad-b0e86e0ee007",
   "metadata": {
    "tags": []
   },
   "outputs": [],
   "source": [
    "bedrock = boto3.client(\n",
    "    service_name=\"bedrock-runtime\", region_name=\"us-east-1\", endpoint_url=FMC_URL\n",
    ")\n",
    "s3 = boto3.client(\"s3\")"
   ]
  },
  {
   "cell_type": "code",
   "execution_count": null,
   "id": "2b342bf9-3def-4568-8e50-ac1724098383",
   "metadata": {
    "tags": []
   },
   "outputs": [],
   "source": [
    "download_from_s3()"
   ]
  },
  {
   "cell_type": "code",
   "execution_count": null,
   "id": "ea7ee6d6-0d23-4481-ac3e-d72a2219bc65",
   "metadata": {
    "tags": []
   },
   "outputs": [],
   "source": [
    "def encode_image_to_base64(image_file_path: str):\n",
    "    with open(image_file_path, \"rb\") as image_file:\n",
    "        b64_image = base64.b64encode(image_file.read()).decode('utf8')\n",
    "        b64_image_path = os.path.join(B64_ENCODED_IMAGES_DIR, f\"{Path(image_file_path).stem}.b64\")\n",
    "        with open(b64_image_path, \"wb\") as b64_image_file:\n",
    "            b64_image_file.write(bytes(b64_image, 'utf-8'))"
   ]
  },
  {
   "cell_type": "code",
   "execution_count": null,
   "id": "6d4478ad-9673-4ab5-993e-f0437b3926ac",
   "metadata": {
    "tags": []
   },
   "outputs": [],
   "source": [
    "for image_file_path in glob.glob(os.path.join(IMAGE_DIR, \"*.jpg\")):\n",
    "    encode_image_to_base64(image_file_path)"
   ]
  },
  {
   "cell_type": "code",
   "execution_count": null,
   "id": "8b38cd73-0bce-4313-bc2b-d9cc33a3bb79",
   "metadata": {
    "tags": []
   },
   "outputs": [],
   "source": [
    "def get_embeddings(image: str) -> np.ndarray:\n",
    "    body = json.dumps(\n",
    "        {\n",
    "            \"inputImage\": image\n",
    "        }\n",
    "    )\n",
    "\n",
    "    modelId = FMC_MODEL_ID\n",
    "    accept = ACCEPT_ENCODING\n",
    "    contentType = CONTENT_ENCODING\n",
    "\n",
    "    try:\n",
    "        response = bedrock.invoke_model(\n",
    "            body=body, modelId=modelId, accept=accept, contentType=contentType\n",
    "        )\n",
    "        response_body = json.loads(response.get(\"body\").read())\n",
    "        # print(response_body)\n",
    "        embeddings = np.array([response_body.get(\"embedding\")]).astype(np.float32)\n",
    "    except Exception as e:\n",
    "        logger.error(f\"exception while image(truncated)={image[:10]}, exception={e}\")\n",
    "        embeddings = None\n",
    "\n",
    "    return embeddings"
   ]
  },
  {
   "cell_type": "code",
   "execution_count": null,
   "id": "a91202d4-d8f9-439d-a664-c69654888091",
   "metadata": {
    "tags": []
   },
   "outputs": [],
   "source": [
    "print(f\"./{Path(SLIDE_DECK).stem}.json\")"
   ]
  },
  {
   "cell_type": "code",
   "execution_count": null,
   "id": "106a99c9-2aae-4062-9c22-90e2609910a3",
   "metadata": {
    "tags": []
   },
   "outputs": [],
   "source": [
    "%%time\n",
    "\n",
    "embeddings_list = []\n",
    "for image_file_path in glob.glob(os.path.join(B64_ENCODED_IMAGES_DIR, \"*.b64\")):\n",
    "    print(image_file_path)\n",
    "    # MAX image size supported is 2048 * 2048 pixels\n",
    "    with open(image_file_path, \"rb\") as image_file:\n",
    "        input_image_b64 = image_file.read().decode('utf-8')\n",
    "    \n",
    "    embeddings = get_embeddings(input_image_b64)\n",
    "    if embeddings is None:\n",
    "        logger.error(f\"error creating embeddings for {os.path.basename(image_file_path)}\")\n",
    "        continue\n",
    "\n",
    "    data = {\n",
    "        \"image_path\": f\"s3://{BUCKET_NAME}/{BUCKET_PREFIX}/{Path(image_file_path).stem}.jpg\",\n",
    "        \"metadata\": {\n",
    "          \"slide_filename\": SLIDE_DECK,\n",
    "          \"model_id\": FMC_MODEL_ID,\n",
    "          \"slide_description\": \"\"\n",
    "        },\n",
    "        \"vector_embedding\": embeddings[0].tolist()\n",
    "      }\n",
    "    \n",
    "    embeddings_list.append(data)\n",
    "\n",
    "    json.dump(embeddings_list, codecs.open(f\"./{Path(SLIDE_DECK).stem}.json\", 'w', encoding='utf-8'), \n",
    "          separators=(',', ':'), \n",
    "          sort_keys=True, \n",
    "          indent=4)"
   ]
  },
  {
   "cell_type": "code",
   "execution_count": null,
   "id": "529b3a43-50e1-4569-96b2-fd2bcfaa57fb",
   "metadata": {},
   "outputs": [],
   "source": [
    "upload_to_s3(f\"./{Path(SLIDE_DECK).stem}.json\", BUCKET_EMB_PREFIX)"
   ]
  },
  {
   "cell_type": "code",
   "execution_count": null,
   "id": "c165fd36-b73c-43c7-8797-bf5b41c83a23",
   "metadata": {},
   "outputs": [],
   "source": []
  }
 ],
 "metadata": {
  "kernelspec": {
   "display_name": "conda_python3",
   "language": "python",
   "name": "conda_python3"
  },
  "language_info": {
   "codemirror_mode": {
    "name": "ipython",
    "version": 3
   },
   "file_extension": ".py",
   "mimetype": "text/x-python",
   "name": "python",
   "nbconvert_exporter": "python",
   "pygments_lexer": "ipython3",
   "version": "3.10.13"
  }
 },
 "nbformat": 4,
 "nbformat_minor": 5
}
