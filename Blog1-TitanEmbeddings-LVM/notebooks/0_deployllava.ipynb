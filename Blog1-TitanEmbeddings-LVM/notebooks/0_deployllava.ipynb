{
 "cells": [
  {
   "cell_type": "code",
   "execution_count": null,
   "id": "4c2ce922-ca84-4da5-b9ae-98aa4967a8dc",
   "metadata": {
    "tags": []
   },
   "outputs": [],
   "source": [
    "!pip install -r requirements.txt"
   ]
  },
  {
   "cell_type": "code",
   "execution_count": null,
   "id": "6340b289-30e4-466d-a36c-4a604cf4c063",
   "metadata": {
    "tags": []
   },
   "outputs": [],
   "source": [
    "import os\n",
    "import shutil\n",
    "import sagemaker\n",
    "import requests as req\n",
    "from pathlib import Path \n",
    "from sagemaker.s3 import S3Uploader\n",
    "from sagemaker import get_execution_role\n",
    "from huggingface_hub import snapshot_download\n",
    "from sagemaker.huggingface.model import HuggingFaceModel\n"
   ]
  },
  {
   "cell_type": "code",
   "execution_count": null,
   "id": "4d1e19b6-b40e-4046-ad16-c04fef30f203",
   "metadata": {
    "tags": []
   },
   "outputs": [],
   "source": [
    "# global constants\n",
    "!pygmentize globals.py"
   ]
  },
  {
   "cell_type": "code",
   "execution_count": null,
   "id": "2278934e-ddc8-4305-b9e7-974a7adcee11",
   "metadata": {
    "tags": []
   },
   "outputs": [],
   "source": [
    "%run -i globals.py\n",
    "%run -i utils.py"
   ]
  },
  {
   "cell_type": "code",
   "execution_count": null,
   "id": "341925e8-f913-40b3-ba76-336ce5961b7a",
   "metadata": {
    "tags": []
   },
   "outputs": [],
   "source": [
    "create_s3_structure()"
   ]
  },
  {
   "cell_type": "code",
   "execution_count": null,
   "id": "17d5b378-ee60-453b-b410-c372ab863a24",
   "metadata": {
    "tags": []
   },
   "outputs": [],
   "source": [
    "model_dir = HF_MODEL_ID.split(\"/\")[-1]\n",
    "model_dir"
   ]
  },
  {
   "cell_type": "code",
   "execution_count": null,
   "id": "5f46fd64-c0f8-4a03-bd56-2af4f54638fb",
   "metadata": {
    "tags": []
   },
   "outputs": [],
   "source": [
    "model_tar_gz_path = os.path.join(os.path.dirname(os.getcwd()), f\"model_{model_dir}.tar.gz\")\n",
    "model_tar_gz_path"
   ]
  },
  {
   "cell_type": "code",
   "execution_count": null,
   "id": "55eb9bd4-b287-4627-847f-c29ac48c0c1e",
   "metadata": {
    "tags": []
   },
   "outputs": [],
   "source": [
    "%%time\n",
    "model_path = os.path.join(os.path.dirname(os.getcwd()), model_dir)\n",
    "Path(model_path).mkdir(exist_ok=True)\n",
    "# Download model from Hugging Face into model_dir\n",
    "snapshot_download(HF_MODEL_ID, local_dir=model_path, local_dir_use_symlinks=False)"
   ]
  },
  {
   "cell_type": "code",
   "execution_count": null,
   "id": "74ddecbd-13e1-40f4-ab41-799b86c45971",
   "metadata": {},
   "outputs": [],
   "source": [
    "inf_dest = os.path.join(model_path, 'code', 'inference.py')\n",
    "shutil.copyfile(\"llava_inference.py\", inf_dest)"
   ]
  },
  {
   "cell_type": "code",
   "execution_count": null,
   "id": "d877fefd-0d85-4f7e-add0-992977863f07",
   "metadata": {
    "tags": []
   },
   "outputs": [],
   "source": [
    "%%time\n",
    "# Create SageMaker model.tar.gz artifact\n",
    "!cd {model_path};tar -cf {model_tar_gz_path} --use-compress-program=pigz *;cd -"
   ]
  },
  {
   "cell_type": "code",
   "execution_count": null,
   "id": "47dd39a8-a2ec-474b-936b-8e507bb994da",
   "metadata": {
    "tags": []
   },
   "outputs": [],
   "source": [
    "%%time\n",
    "# upload model.tar.gz to s3\n",
    "S3Uploader.upload(local_path=model_tar_gz_path, desired_s3_uri=S3_MODEL_URI)\n",
    "\n",
    "print(f\"model uploaded to: {S3_MODEL_URI}\")"
   ]
  },
  {
   "cell_type": "code",
   "execution_count": null,
   "id": "4c801a72-6e60-4e7b-9e7a-6033ada82d4e",
   "metadata": {
    "tags": []
   },
   "outputs": [],
   "source": [
    "%%time\n",
    "\n",
    "role = get_execution_role()\n",
    "print(role)\n",
    "\n",
    "hub = {\n",
    "  'HF_TASK':HF_TASK\n",
    "}\n",
    "# create Hugging Face Model Class\n",
    "huggingface_model = HuggingFaceModel(\n",
    "   model_data=S3_MODEL_URI,                    # path to your model and script\n",
    "   role=role,                                  # iam role with permissions to create an Endpoint\n",
    "   transformers_version=TRANSFORMERS_VERSION,  # transformers version used\n",
    "   pytorch_version=PYTORCH_VERSION,            # pytorch version used\n",
    "   py_version=PYTHON_VERSION,                  # python version used\n",
    "   model_server_workers=1,\n",
    "   env=hub\n",
    ")\n",
    "\n",
    "# deploy the endpoint endpoint\n",
    "predictor = huggingface_model.deploy(\n",
    "    initial_instance_count=1,\n",
    "    instance_type=\"ml.g5.xlarge\",\n",
    ")"
   ]
  },
  {
   "cell_type": "code",
   "execution_count": null,
   "id": "c34d8d30-ed38-4bf9-b894-e1a4590ed432",
   "metadata": {
    "tags": []
   },
   "outputs": [],
   "source": [
    "with open(\"./endpointname.txt\", 'w') as endpoint:\n",
    "    endpoint.write(predictor.endpoint_name)"
   ]
  },
  {
   "cell_type": "code",
   "execution_count": null,
   "id": "e15ddef6-a265-457a-b5a0-4ff8c3df49bf",
   "metadata": {},
   "outputs": [],
   "source": []
  }
 ],
 "metadata": {
  "kernelspec": {
   "display_name": "conda_python3",
   "language": "python",
   "name": "conda_python3"
  },
  "language_info": {
   "codemirror_mode": {
    "name": "ipython",
    "version": 3
   },
   "file_extension": ".py",
   "mimetype": "text/x-python",
   "name": "python",
   "nbconvert_exporter": "python",
   "pygments_lexer": "ipython3",
   "version": "3.10.13"
  }
 },
 "nbformat": 4,
 "nbformat_minor": 5
}
