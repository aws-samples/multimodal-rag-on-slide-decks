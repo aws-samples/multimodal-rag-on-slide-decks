{
 "cells": [
  {
   "cell_type": "markdown",
   "id": "00c6eba0-3e0f-4325-a352-1763d2749055",
   "metadata": {},
   "source": [
    "# Data preparation\n",
    "***This notebook works best with the `conda_python3` on the `ml.t3.medium` instance***.\n",
    "\n",
    "In this notebook we download a publicly available slide deck and convert it into images, one image for each slide. These images are then stored in Amazon S3 from where they can be made available to a Amazon SageMaker Endpoint for inference.\n"
   ]
  },
  {
   "cell_type": "code",
   "execution_count": null,
   "id": "6605ceea-e65d-4822-bbf5-d96f0ae77a83",
   "metadata": {},
   "outputs": [],
   "source": [
    "!pip install -r requirements.txt"
   ]
  },
  {
   "cell_type": "code",
   "execution_count": null,
   "id": "098e628b-575f-444d-b10d-b265d7eef6cb",
   "metadata": {
    "tags": []
   },
   "outputs": [],
   "source": [
    "import httplib2\n",
    "h = httplib2.Http()\n",
    "resp = h.request(\"http://www.google.com\", 'HEAD')\n",
    "assert int(resp[0]['status']) < 400"
   ]
  },
  {
   "cell_type": "code",
   "execution_count": null,
   "id": "42e2d0f4-7495-4f54-a5b7-3a20a4524516",
   "metadata": {
    "tags": []
   },
   "outputs": [],
   "source": [
    "import os\n",
    "import json\n",
    "import glob\n",
    "import boto3\n",
    "import base64\n",
    "import logging\n",
    "import sagemaker\n",
    "from PIL import Image\n",
    "import requests as req\n",
    "from typing import List\n",
    "from pathlib import Path\n",
    "import pypdfium2 as pdfium\n",
    "\n",
    "logging.basicConfig(format='[%(asctime)s] p%(process)s {%(filename)s:%(lineno)d} %(levelname)s - %(message)s', level=logging.INFO)\n",
    "logger = logging.getLogger(__name__)"
   ]
  },
  {
   "cell_type": "code",
   "execution_count": null,
   "id": "ce21685e-ca7b-4b6b-a5f3-a5b7c20e5eaa",
   "metadata": {},
   "outputs": [],
   "source": [
    "%run -i globals.py"
   ]
  },
  {
   "cell_type": "code",
   "execution_count": null,
   "id": "b7b51e5e-946d-41f3-b8a1-b4b89a8f39b9",
   "metadata": {
    "tags": []
   },
   "outputs": [],
   "source": [
    "def get_images(file:str, image_dir:str = IMAGE_DIR):\n",
    "    \"\"\"\n",
    "    Get PIL images from PDF pages and save them to a specified directory\n",
    "    :param file: Path to file\n",
    "    :return: A list of PIL images\n",
    "    \"\"\"\n",
    "\n",
    "    # Get presentation\n",
    "    pdf = pdfium.PdfDocument(file)\n",
    "    n_pages = len(pdf)\n",
    "\n",
    "    # Extracting file name and creating the directory for images\n",
    "    file_name = Path(file).stem  # Gets the file name without extension\n",
    "    img_dir = os.path.join(Path(file).parent, image_dir)\n",
    "    os.makedirs(img_dir, exist_ok=True)\n",
    "\n",
    "    # Get images\n",
    "    image_paths = []\n",
    "    print(f\"Extracting {n_pages} images for {file}\")\n",
    "    for page_number in range(n_pages):\n",
    "        page = pdf.get_page(page_number)\n",
    "        bitmap = page.render(scale=1, rotation=0, crop=(0, 0, 0, 0))\n",
    "        pil_image = bitmap.to_pil()\n",
    "        # pil_images.append(pil_image)\n",
    "\n",
    "        # Saving the image with the specified naming convention\n",
    "        image_path = os.path.join(img_dir, f\"{file_name}_image_{page_number + 1}.jpg\")\n",
    "        pil_image.save(image_path, format=\"JPEG\")\n",
    "        image_paths.append(image_path)\n",
    "\n",
    "    return image_paths"
   ]
  },
  {
   "cell_type": "code",
   "execution_count": null,
   "id": "01db6240-c5a6-48d6-a0d5-6056004b0bf7",
   "metadata": {
    "tags": []
   },
   "outputs": [],
   "source": [
    "url: str = SLIDE_DECK\n",
    "local_file: str = os.path.basename(SLIDE_DECK)\n",
    "r = req.get(url, allow_redirects=True)\n",
    "if r.status_code == 200:\n",
    "    logger.info(f\"{url} downloaded successfully\")\n",
    "    with open(local_file, \"wb\") as f:\n",
    "        f.write(r.content)\n",
    "    logger.info(f\"{url} written to {local_file}\")"
   ]
  },
  {
   "cell_type": "code",
   "execution_count": null,
   "id": "534f0ea7-8d03-483c-a81f-f187493ce4c6",
   "metadata": {
    "tags": []
   },
   "outputs": [],
   "source": [
    "images: List = []\n",
    "file_names = [local_file]\n",
    "for fi in file_names:\n",
    "    images.extend(get_images(fi))\n"
   ]
  },
  {
   "cell_type": "code",
   "execution_count": null,
   "id": "8efa5e75-7c5f-4128-8d6b-df788fb69c6a",
   "metadata": {},
   "outputs": [],
   "source": [
    "for img_path in images:\n",
    "    upload_to_s3(img_path, BUCKET_IMG_PREFIX)\n",
    "    # delete local images after uploading to s3\n",
    "    "
   ]
  },
  {
   "cell_type": "code",
   "execution_count": null,
   "id": "2d7114b9-faf6-4444-af38-46109e9f3d58",
   "metadata": {},
   "outputs": [],
   "source": []
  }
 ],
 "metadata": {
  "kernelspec": {
   "display_name": "conda_python3",
   "language": "python",
   "name": "conda_python3"
  },
  "language_info": {
   "codemirror_mode": {
    "name": "ipython",
    "version": 3
   },
   "file_extension": ".py",
   "mimetype": "text/x-python",
   "name": "python",
   "nbconvert_exporter": "python",
   "pygments_lexer": "ipython3",
   "version": "3.10.13"
  }
 },
 "nbformat": 4,
 "nbformat_minor": 5
}
