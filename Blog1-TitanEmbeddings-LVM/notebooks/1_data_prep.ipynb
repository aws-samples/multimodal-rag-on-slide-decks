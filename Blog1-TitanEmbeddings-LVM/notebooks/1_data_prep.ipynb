{
 "cells": [
  {
   "cell_type": "markdown",
   "id": "00c6eba0-3e0f-4325-a352-1763d2749055",
   "metadata": {},
   "source": [
    "# Data preparation\n",
    "\n",
    "***This notebook works best with the `conda_python3` on the `ml.t3.large` instance***.\n",
    "\n",
    "---\n",
    "\n",
    "In this notebook we download a publicly available slide deck and convert it into images, one image for each slide. These images are then stored in Amazon S3 from where they can be made available to a Amazon SageMaker Endpoint for inference.\n",
    "\n",
    "The slide deck choose is [Train and deploy Stable Diffusion using AWS Trainium & AWS Inferentia](https://d1.awsstatic.com/events/Summits/torsummit2023/CMP301_TrainDeploy_E1_20230607_SPEdited.pdf). To use a different slide deck you can update the `SLIDE_DECK` variable in [`globals.py`](./globals.py).\n"
   ]
  },
  {
   "cell_type": "markdown",
   "id": "34c37157-7d48-4422-a107-7c2ddd843747",
   "metadata": {},
   "source": [
    "## Step 1. Setup\n",
    "\n",
    "Install the required Python packages and import the relevant files."
   ]
  },
  {
   "cell_type": "code",
   "execution_count": 8,
   "id": "6605ceea-e65d-4822-bbf5-d96f0ae77a83",
   "metadata": {
    "tags": []
   },
   "outputs": [
    {
     "name": "stdout",
     "output_type": "stream",
     "text": [
      "Requirement already satisfied: huggingface-hub==0.19.4 in /home/ec2-user/anaconda3/envs/python3/lib/python3.10/site-packages (from -r requirements.txt (line 1)) (0.19.4)\n",
      "Requirement already satisfied: sagemaker==2.199.0 in /home/ec2-user/anaconda3/envs/python3/lib/python3.10/site-packages (from -r requirements.txt (line 2)) (2.199.0)\n",
      "Requirement already satisfied: pypdfium2==4.24.0 in /home/ec2-user/anaconda3/envs/python3/lib/python3.10/site-packages (from -r requirements.txt (line 3)) (4.24.0)\n",
      "Requirement already satisfied: httplib2==0.19.0 in /home/ec2-user/anaconda3/envs/python3/lib/python3.10/site-packages (from -r requirements.txt (line 4)) (0.19.0)\n",
      "Requirement already satisfied: langchain==0.0.340 in /home/ec2-user/anaconda3/envs/python3/lib/python3.10/site-packages (from -r requirements.txt (line 5)) (0.0.340)\n",
      "Requirement already satisfied: requests==2.31.0 in /home/ec2-user/anaconda3/envs/python3/lib/python3.10/site-packages (from -r requirements.txt (line 6)) (2.31.0)\n",
      "Requirement already satisfied: pandas==1.5.3 in /home/ec2-user/anaconda3/envs/python3/lib/python3.10/site-packages (from -r requirements.txt (line 7)) (1.5.3)\n",
      "Requirement already satisfied: boto3==1.34.0 in /home/ec2-user/anaconda3/envs/python3/lib/python3.10/site-packages (from -r requirements.txt (line 8)) (1.34.0)\n",
      "Requirement already satisfied: botocore==1.34.0 in /home/ec2-user/anaconda3/envs/python3/lib/python3.10/site-packages (from -r requirements.txt (line 9)) (1.34.0)\n",
      "Requirement already satisfied: opensearch-py==2.4.2 in /home/ec2-user/anaconda3/envs/python3/lib/python3.10/site-packages (from -r requirements.txt (line 10)) (2.4.2)\n",
      "Requirement already satisfied: numexpr==2.8.0 in /home/ec2-user/anaconda3/envs/python3/lib/python3.10/site-packages (from -r requirements.txt (line 11)) (2.8.0)\n",
      "Requirement already satisfied: packaging>=22.0 in /home/ec2-user/anaconda3/envs/python3/lib/python3.10/site-packages (from -r requirements.txt (line 12)) (23.2)\n",
      "Requirement already satisfied: docutils in /home/ec2-user/anaconda3/envs/python3/lib/python3.10/site-packages (from -r requirements.txt (line 13)) (0.16)\n",
      "Requirement already satisfied: filelock in /home/ec2-user/anaconda3/envs/python3/lib/python3.10/site-packages (from huggingface-hub==0.19.4->-r requirements.txt (line 1)) (3.12.4)\n",
      "Requirement already satisfied: fsspec>=2023.5.0 in /home/ec2-user/anaconda3/envs/python3/lib/python3.10/site-packages (from huggingface-hub==0.19.4->-r requirements.txt (line 1)) (2023.10.0)\n",
      "Requirement already satisfied: tqdm>=4.42.1 in /home/ec2-user/anaconda3/envs/python3/lib/python3.10/site-packages (from huggingface-hub==0.19.4->-r requirements.txt (line 1)) (4.66.1)\n",
      "Requirement already satisfied: pyyaml>=5.1 in /home/ec2-user/anaconda3/envs/python3/lib/python3.10/site-packages (from huggingface-hub==0.19.4->-r requirements.txt (line 1)) (6.0.1)\n",
      "Requirement already satisfied: typing-extensions>=3.7.4.3 in /home/ec2-user/anaconda3/envs/python3/lib/python3.10/site-packages (from huggingface-hub==0.19.4->-r requirements.txt (line 1)) (4.8.0)\n",
      "Requirement already satisfied: attrs<24,>=23.1.0 in /home/ec2-user/anaconda3/envs/python3/lib/python3.10/site-packages (from sagemaker==2.199.0->-r requirements.txt (line 2)) (23.1.0)\n",
      "Requirement already satisfied: cloudpickle==2.2.1 in /home/ec2-user/anaconda3/envs/python3/lib/python3.10/site-packages (from sagemaker==2.199.0->-r requirements.txt (line 2)) (2.2.1)\n",
      "Requirement already satisfied: google-pasta in /home/ec2-user/anaconda3/envs/python3/lib/python3.10/site-packages (from sagemaker==2.199.0->-r requirements.txt (line 2)) (0.2.0)\n",
      "Requirement already satisfied: numpy<2.0,>=1.9.0 in /home/ec2-user/anaconda3/envs/python3/lib/python3.10/site-packages (from sagemaker==2.199.0->-r requirements.txt (line 2)) (1.22.4)\n",
      "Requirement already satisfied: protobuf<5.0,>=3.12 in /home/ec2-user/anaconda3/envs/python3/lib/python3.10/site-packages (from sagemaker==2.199.0->-r requirements.txt (line 2)) (4.25.1)\n",
      "Requirement already satisfied: smdebug-rulesconfig==1.0.1 in /home/ec2-user/anaconda3/envs/python3/lib/python3.10/site-packages (from sagemaker==2.199.0->-r requirements.txt (line 2)) (1.0.1)\n",
      "Requirement already satisfied: importlib-metadata<7.0,>=1.4.0 in /home/ec2-user/anaconda3/envs/python3/lib/python3.10/site-packages (from sagemaker==2.199.0->-r requirements.txt (line 2)) (6.8.0)\n",
      "Requirement already satisfied: pathos in /home/ec2-user/anaconda3/envs/python3/lib/python3.10/site-packages (from sagemaker==2.199.0->-r requirements.txt (line 2)) (0.3.1)\n",
      "Requirement already satisfied: schema in /home/ec2-user/anaconda3/envs/python3/lib/python3.10/site-packages (from sagemaker==2.199.0->-r requirements.txt (line 2)) (0.7.5)\n",
      "Requirement already satisfied: jsonschema in /home/ec2-user/anaconda3/envs/python3/lib/python3.10/site-packages (from sagemaker==2.199.0->-r requirements.txt (line 2)) (4.19.1)\n",
      "Requirement already satisfied: platformdirs in /home/ec2-user/anaconda3/envs/python3/lib/python3.10/site-packages (from sagemaker==2.199.0->-r requirements.txt (line 2)) (3.11.0)\n",
      "Requirement already satisfied: tblib==1.7.0 in /home/ec2-user/anaconda3/envs/python3/lib/python3.10/site-packages (from sagemaker==2.199.0->-r requirements.txt (line 2)) (1.7.0)\n",
      "Requirement already satisfied: urllib3<1.27 in /home/ec2-user/anaconda3/envs/python3/lib/python3.10/site-packages (from sagemaker==2.199.0->-r requirements.txt (line 2)) (1.26.18)\n",
      "Requirement already satisfied: uvicorn==0.22.0 in /home/ec2-user/anaconda3/envs/python3/lib/python3.10/site-packages (from sagemaker==2.199.0->-r requirements.txt (line 2)) (0.22.0)\n",
      "Requirement already satisfied: fastapi==0.95.2 in /home/ec2-user/anaconda3/envs/python3/lib/python3.10/site-packages (from sagemaker==2.199.0->-r requirements.txt (line 2)) (0.95.2)\n",
      "Requirement already satisfied: docker in /home/ec2-user/anaconda3/envs/python3/lib/python3.10/site-packages (from sagemaker==2.199.0->-r requirements.txt (line 2)) (6.1.3)\n",
      "Requirement already satisfied: psutil in /home/ec2-user/anaconda3/envs/python3/lib/python3.10/site-packages (from sagemaker==2.199.0->-r requirements.txt (line 2)) (5.9.5)\n",
      "Requirement already satisfied: pyparsing<3,>=2.4.2 in /home/ec2-user/anaconda3/envs/python3/lib/python3.10/site-packages (from httplib2==0.19.0->-r requirements.txt (line 4)) (2.4.7)\n",
      "Requirement already satisfied: SQLAlchemy<3,>=1.4 in /home/ec2-user/anaconda3/envs/python3/lib/python3.10/site-packages (from langchain==0.0.340->-r requirements.txt (line 5)) (2.0.22)\n",
      "Requirement already satisfied: aiohttp<4.0.0,>=3.8.3 in /home/ec2-user/anaconda3/envs/python3/lib/python3.10/site-packages (from langchain==0.0.340->-r requirements.txt (line 5)) (3.8.6)\n",
      "Requirement already satisfied: anyio<4.0 in /home/ec2-user/anaconda3/envs/python3/lib/python3.10/site-packages (from langchain==0.0.340->-r requirements.txt (line 5)) (3.7.1)\n",
      "Requirement already satisfied: async-timeout<5.0.0,>=4.0.0 in /home/ec2-user/anaconda3/envs/python3/lib/python3.10/site-packages (from langchain==0.0.340->-r requirements.txt (line 5)) (4.0.3)\n",
      "Requirement already satisfied: dataclasses-json<0.7,>=0.5.7 in /home/ec2-user/anaconda3/envs/python3/lib/python3.10/site-packages (from langchain==0.0.340->-r requirements.txt (line 5)) (0.6.3)\n",
      "Requirement already satisfied: jsonpatch<2.0,>=1.33 in /home/ec2-user/anaconda3/envs/python3/lib/python3.10/site-packages (from langchain==0.0.340->-r requirements.txt (line 5)) (1.33)\n",
      "Requirement already satisfied: langsmith<0.1.0,>=0.0.63 in /home/ec2-user/anaconda3/envs/python3/lib/python3.10/site-packages (from langchain==0.0.340->-r requirements.txt (line 5)) (0.0.79)\n",
      "Requirement already satisfied: pydantic<3,>=1 in /home/ec2-user/anaconda3/envs/python3/lib/python3.10/site-packages (from langchain==0.0.340->-r requirements.txt (line 5)) (1.10.13)\n",
      "Requirement already satisfied: tenacity<9.0.0,>=8.1.0 in /home/ec2-user/anaconda3/envs/python3/lib/python3.10/site-packages (from langchain==0.0.340->-r requirements.txt (line 5)) (8.2.3)\n",
      "Requirement already satisfied: charset-normalizer<4,>=2 in /home/ec2-user/anaconda3/envs/python3/lib/python3.10/site-packages (from requests==2.31.0->-r requirements.txt (line 6)) (3.3.1)\n",
      "Requirement already satisfied: idna<4,>=2.5 in /home/ec2-user/anaconda3/envs/python3/lib/python3.10/site-packages (from requests==2.31.0->-r requirements.txt (line 6)) (3.4)\n",
      "Requirement already satisfied: certifi>=2017.4.17 in /home/ec2-user/anaconda3/envs/python3/lib/python3.10/site-packages (from requests==2.31.0->-r requirements.txt (line 6)) (2023.7.22)\n",
      "Requirement already satisfied: python-dateutil>=2.8.1 in /home/ec2-user/anaconda3/envs/python3/lib/python3.10/site-packages (from pandas==1.5.3->-r requirements.txt (line 7)) (2.8.2)\n",
      "Requirement already satisfied: pytz>=2020.1 in /home/ec2-user/anaconda3/envs/python3/lib/python3.10/site-packages (from pandas==1.5.3->-r requirements.txt (line 7)) (2023.3.post1)\n",
      "Requirement already satisfied: jmespath<2.0.0,>=0.7.1 in /home/ec2-user/anaconda3/envs/python3/lib/python3.10/site-packages (from boto3==1.34.0->-r requirements.txt (line 8)) (1.0.1)\n",
      "Requirement already satisfied: s3transfer<0.10.0,>=0.9.0 in /home/ec2-user/anaconda3/envs/python3/lib/python3.10/site-packages (from boto3==1.34.0->-r requirements.txt (line 8)) (0.9.0)\n",
      "Requirement already satisfied: six in /home/ec2-user/anaconda3/envs/python3/lib/python3.10/site-packages (from opensearch-py==2.4.2->-r requirements.txt (line 10)) (1.16.0)\n",
      "Requirement already satisfied: starlette<0.28.0,>=0.27.0 in /home/ec2-user/anaconda3/envs/python3/lib/python3.10/site-packages (from fastapi==0.95.2->sagemaker==2.199.0->-r requirements.txt (line 2)) (0.27.0)\n",
      "Requirement already satisfied: click>=7.0 in /home/ec2-user/anaconda3/envs/python3/lib/python3.10/site-packages (from uvicorn==0.22.0->sagemaker==2.199.0->-r requirements.txt (line 2)) (8.1.7)\n",
      "Requirement already satisfied: h11>=0.8 in /home/ec2-user/anaconda3/envs/python3/lib/python3.10/site-packages (from uvicorn==0.22.0->sagemaker==2.199.0->-r requirements.txt (line 2)) (0.14.0)\n",
      "Requirement already satisfied: multidict<7.0,>=4.5 in /home/ec2-user/anaconda3/envs/python3/lib/python3.10/site-packages (from aiohttp<4.0.0,>=3.8.3->langchain==0.0.340->-r requirements.txt (line 5)) (6.0.4)\n",
      "Requirement already satisfied: yarl<2.0,>=1.0 in /home/ec2-user/anaconda3/envs/python3/lib/python3.10/site-packages (from aiohttp<4.0.0,>=3.8.3->langchain==0.0.340->-r requirements.txt (line 5)) (1.9.2)\n",
      "Requirement already satisfied: frozenlist>=1.1.1 in /home/ec2-user/anaconda3/envs/python3/lib/python3.10/site-packages (from aiohttp<4.0.0,>=3.8.3->langchain==0.0.340->-r requirements.txt (line 5)) (1.4.0)\n",
      "Requirement already satisfied: aiosignal>=1.1.2 in /home/ec2-user/anaconda3/envs/python3/lib/python3.10/site-packages (from aiohttp<4.0.0,>=3.8.3->langchain==0.0.340->-r requirements.txt (line 5)) (1.3.1)\n",
      "Requirement already satisfied: sniffio>=1.1 in /home/ec2-user/anaconda3/envs/python3/lib/python3.10/site-packages (from anyio<4.0->langchain==0.0.340->-r requirements.txt (line 5)) (1.3.0)\n",
      "Requirement already satisfied: exceptiongroup in /home/ec2-user/anaconda3/envs/python3/lib/python3.10/site-packages (from anyio<4.0->langchain==0.0.340->-r requirements.txt (line 5)) (1.1.3)\n",
      "Requirement already satisfied: marshmallow<4.0.0,>=3.18.0 in /home/ec2-user/anaconda3/envs/python3/lib/python3.10/site-packages (from dataclasses-json<0.7,>=0.5.7->langchain==0.0.340->-r requirements.txt (line 5)) (3.20.1)\n",
      "Requirement already satisfied: typing-inspect<1,>=0.4.0 in /home/ec2-user/anaconda3/envs/python3/lib/python3.10/site-packages (from dataclasses-json<0.7,>=0.5.7->langchain==0.0.340->-r requirements.txt (line 5)) (0.9.0)\n",
      "Requirement already satisfied: zipp>=0.5 in /home/ec2-user/anaconda3/envs/python3/lib/python3.10/site-packages (from importlib-metadata<7.0,>=1.4.0->sagemaker==2.199.0->-r requirements.txt (line 2)) (3.17.0)\n",
      "Requirement already satisfied: jsonpointer>=1.9 in /home/ec2-user/anaconda3/envs/python3/lib/python3.10/site-packages (from jsonpatch<2.0,>=1.33->langchain==0.0.340->-r requirements.txt (line 5)) (2.4)\n",
      "Requirement already satisfied: greenlet!=0.4.17 in /home/ec2-user/anaconda3/envs/python3/lib/python3.10/site-packages (from SQLAlchemy<3,>=1.4->langchain==0.0.340->-r requirements.txt (line 5)) (3.0.1)\n",
      "Requirement already satisfied: websocket-client>=0.32.0 in /home/ec2-user/anaconda3/envs/python3/lib/python3.10/site-packages (from docker->sagemaker==2.199.0->-r requirements.txt (line 2)) (1.6.4)\n",
      "Requirement already satisfied: jsonschema-specifications>=2023.03.6 in /home/ec2-user/anaconda3/envs/python3/lib/python3.10/site-packages (from jsonschema->sagemaker==2.199.0->-r requirements.txt (line 2)) (2023.7.1)\n",
      "Requirement already satisfied: referencing>=0.28.4 in /home/ec2-user/anaconda3/envs/python3/lib/python3.10/site-packages (from jsonschema->sagemaker==2.199.0->-r requirements.txt (line 2)) (0.30.2)\n",
      "Requirement already satisfied: rpds-py>=0.7.1 in /home/ec2-user/anaconda3/envs/python3/lib/python3.10/site-packages (from jsonschema->sagemaker==2.199.0->-r requirements.txt (line 2)) (0.10.6)\n",
      "Requirement already satisfied: ppft>=1.7.6.7 in /home/ec2-user/anaconda3/envs/python3/lib/python3.10/site-packages (from pathos->sagemaker==2.199.0->-r requirements.txt (line 2)) (1.7.6.7)\n",
      "Requirement already satisfied: dill>=0.3.7 in /home/ec2-user/anaconda3/envs/python3/lib/python3.10/site-packages (from pathos->sagemaker==2.199.0->-r requirements.txt (line 2)) (0.3.7)\n",
      "Requirement already satisfied: pox>=0.3.3 in /home/ec2-user/anaconda3/envs/python3/lib/python3.10/site-packages (from pathos->sagemaker==2.199.0->-r requirements.txt (line 2)) (0.3.3)\n",
      "Requirement already satisfied: multiprocess>=0.70.15 in /home/ec2-user/anaconda3/envs/python3/lib/python3.10/site-packages (from pathos->sagemaker==2.199.0->-r requirements.txt (line 2)) (0.70.15)\n",
      "Requirement already satisfied: contextlib2>=0.5.5 in /home/ec2-user/anaconda3/envs/python3/lib/python3.10/site-packages (from schema->sagemaker==2.199.0->-r requirements.txt (line 2)) (21.6.0)\n",
      "Requirement already satisfied: mypy-extensions>=0.3.0 in /home/ec2-user/anaconda3/envs/python3/lib/python3.10/site-packages (from typing-inspect<1,>=0.4.0->dataclasses-json<0.7,>=0.5.7->langchain==0.0.340->-r requirements.txt (line 5)) (1.0.0)\n"
     ]
    }
   ],
   "source": [
    "import sys\n",
    "!{sys.executable} -m pip install -r requirements.txt"
   ]
  },
  {
   "cell_type": "code",
   "execution_count": 9,
   "id": "42e2d0f4-7495-4f54-a5b7-3a20a4524516",
   "metadata": {
    "tags": []
   },
   "outputs": [],
   "source": [
    "import os\n",
    "import json\n",
    "import glob\n",
    "import boto3\n",
    "import base64\n",
    "import logging\n",
    "import sagemaker\n",
    "import globals as g\n",
    "from PIL import Image\n",
    "import requests as req\n",
    "from typing import List\n",
    "from pathlib import Path\n",
    "import pypdfium2 as pdfium\n",
    "from utils import upload_to_s3, get_bucket_name\n",
    "\n",
    "logging.basicConfig(format='[%(asctime)s] p%(process)s {%(filename)s:%(lineno)d} %(levelname)s - %(message)s', level=logging.INFO)\n",
    "logger = logging.getLogger(__name__)"
   ]
  },
  {
   "cell_type": "code",
   "execution_count": 10,
   "id": "4de5726f-55a7-4188-afa5-b4623c199ece",
   "metadata": {},
   "outputs": [],
   "source": [
    "bucket_name: str = get_bucket_name(g.CFN_STACK_NAME)"
   ]
  },
  {
   "cell_type": "markdown",
   "id": "7c372263-60c2-4f34-b43a-f6f4285781d6",
   "metadata": {
    "tags": []
   },
   "source": [
    "## Step 2. Download slide deck and convert it into images\n",
    "\n",
    "We download a publicly available slide deck and convert each slide into a `jpg` file using the [`pypdfium2`](https://pypi.org/project/pypdfium2/) package."
   ]
  },
  {
   "cell_type": "code",
   "execution_count": 11,
   "id": "b7b51e5e-946d-41f3-b8a1-b4b89a8f39b9",
   "metadata": {
    "tags": []
   },
   "outputs": [],
   "source": [
    "def get_images(file:str, image_dir:str) -> List:\n",
    "    \"\"\"\n",
    "    Get PIL images from PDF pages and save them to a specified directory\n",
    "    :param file: Path to file\n",
    "    :return: A list of PIL images\n",
    "    \"\"\"\n",
    "\n",
    "    # Get presentation\n",
    "    pdf = pdfium.PdfDocument(file)\n",
    "    n_pages = len(pdf)\n",
    "\n",
    "    # Extracting file name and creating the directory for images\n",
    "    file_name = Path(file).stem  # Gets the file name without extension\n",
    "    os.makedirs(image_dir, exist_ok=True)\n",
    "\n",
    "    # Get images\n",
    "    image_paths = []\n",
    "    print(f\"Extracting {n_pages} images for {file}\")\n",
    "    for page_number in range(n_pages):\n",
    "        page = pdf.get_page(page_number)\n",
    "        bitmap = page.render(scale=1, rotation=0, crop=(0, 0, 0, 0))\n",
    "        pil_image = bitmap.to_pil()\n",
    "        # pil_images.append(pil_image)\n",
    "\n",
    "        # Saving the image with the specified naming convention\n",
    "        image_path = os.path.join(image_dir, f\"{file_name}_image_{page_number + 1}.jpg\")\n",
    "        pil_image.save(image_path, format=\"JPEG\")\n",
    "        image_paths.append(image_path)\n",
    "\n",
    "    return image_paths"
   ]
  },
  {
   "cell_type": "markdown",
   "id": "e814fa33-b236-4962-bf4a-426ce626d8cf",
   "metadata": {},
   "source": [
    "Download a publicly available slide deck."
   ]
  },
  {
   "cell_type": "code",
   "execution_count": 12,
   "id": "01db6240-c5a6-48d6-a0d5-6056004b0bf7",
   "metadata": {
    "tags": []
   },
   "outputs": [
    {
     "name": "stderr",
     "output_type": "stream",
     "text": [
      "[2024-01-09 22:03:48,146] p15227 {751902729.py:5} INFO - https://d1.awsstatic.com/events/Summits/torsummit2023/CMP301_TrainDeploy_E1_20230607_SPEdited.pdf downloaded successfully\n",
      "[2024-01-09 22:03:48,162] p15227 {751902729.py:8} INFO - https://d1.awsstatic.com/events/Summits/torsummit2023/CMP301_TrainDeploy_E1_20230607_SPEdited.pdf written to CMP301_TrainDeploy_E1_20230607_SPEdited.pdf\n"
     ]
    }
   ],
   "source": [
    "url: str = g.SLIDE_DECK\n",
    "local_file: str = os.path.basename(url)\n",
    "r = req.get(url, allow_redirects=True)\n",
    "if r.status_code == 200:\n",
    "    logger.info(f\"{url} downloaded successfully\")\n",
    "    with open(local_file, \"wb\") as f:\n",
    "        f.write(r.content)\n",
    "    logger.info(f\"{url} written to {local_file}\")"
   ]
  },
  {
   "cell_type": "markdown",
   "id": "84fadce2-3f67-42d3-b78c-bc09a518503a",
   "metadata": {},
   "source": [
    "Extract images from the slide deck"
   ]
  },
  {
   "cell_type": "code",
   "execution_count": 13,
   "id": "534f0ea7-8d03-483c-a81f-f187493ce4c6",
   "metadata": {
    "tags": []
   },
   "outputs": [
    {
     "name": "stdout",
     "output_type": "stream",
     "text": [
      "Extracting 31 images for CMP301_TrainDeploy_E1_20230607_SPEdited.pdf\n"
     ]
    },
    {
     "name": "stderr",
     "output_type": "stream",
     "text": [
      "[2024-01-09 22:03:51,714] p15227 {2461950259.py:2} INFO - there are 31 images extracted from this slide deck CMP301_TrainDeploy_E1_20230607_SPEdited.pdf\n"
     ]
    }
   ],
   "source": [
    "images = get_images(local_file, g.IMAGE_DIR)\n",
    "logger.info(f\"there are {len(images)} images extracted from this slide deck {local_file}\")"
   ]
  },
  {
   "cell_type": "markdown",
   "id": "05fc88fa-7a83-49e0-a45f-9b1640259f56",
   "metadata": {},
   "source": [
    "## Step 3. Upload the images into Amazon S3 bucket"
   ]
  },
  {
   "cell_type": "markdown",
   "id": "53600f15-e57b-4e0a-97ab-5f96c93386a3",
   "metadata": {},
   "source": [
    "Now we upload the images into an S3 bucket. This is done for two reasons:\n",
    "1. In a production environment these images could be worked upon in parallel by a batch process.\n",
    "1. An S3 bucket (that is part of a datalake) provides a secure location for an enterprise to store these images and a multimodal model can read these image files directly from the S3 bucket."
   ]
  },
  {
   "cell_type": "code",
   "execution_count": 14,
   "id": "8efa5e75-7c5f-4128-8d6b-df788fb69c6a",
   "metadata": {
    "tags": []
   },
   "outputs": [
    {
     "name": "stderr",
     "output_type": "stream",
     "text": [
      "[2024-01-09 22:03:51,855] p15227 {utils.py:21} INFO - File img/CMP301_TrainDeploy_E1_20230607_SPEdited_image_1.jpg uploaded to multimodal-bucket-731963050968/multimodal/img/CMP301_TrainDeploy_E1_20230607_SPEdited_image_1.jpg.\n",
      "[2024-01-09 22:03:51,962] p15227 {utils.py:21} INFO - File img/CMP301_TrainDeploy_E1_20230607_SPEdited_image_2.jpg uploaded to multimodal-bucket-731963050968/multimodal/img/CMP301_TrainDeploy_E1_20230607_SPEdited_image_2.jpg.\n",
      "[2024-01-09 22:03:52,040] p15227 {utils.py:21} INFO - File img/CMP301_TrainDeploy_E1_20230607_SPEdited_image_3.jpg uploaded to multimodal-bucket-731963050968/multimodal/img/CMP301_TrainDeploy_E1_20230607_SPEdited_image_3.jpg.\n",
      "[2024-01-09 22:03:52,111] p15227 {utils.py:21} INFO - File img/CMP301_TrainDeploy_E1_20230607_SPEdited_image_4.jpg uploaded to multimodal-bucket-731963050968/multimodal/img/CMP301_TrainDeploy_E1_20230607_SPEdited_image_4.jpg.\n",
      "[2024-01-09 22:03:52,207] p15227 {utils.py:21} INFO - File img/CMP301_TrainDeploy_E1_20230607_SPEdited_image_5.jpg uploaded to multimodal-bucket-731963050968/multimodal/img/CMP301_TrainDeploy_E1_20230607_SPEdited_image_5.jpg.\n",
      "[2024-01-09 22:03:52,276] p15227 {utils.py:21} INFO - File img/CMP301_TrainDeploy_E1_20230607_SPEdited_image_6.jpg uploaded to multimodal-bucket-731963050968/multimodal/img/CMP301_TrainDeploy_E1_20230607_SPEdited_image_6.jpg.\n",
      "[2024-01-09 22:03:52,329] p15227 {utils.py:21} INFO - File img/CMP301_TrainDeploy_E1_20230607_SPEdited_image_7.jpg uploaded to multimodal-bucket-731963050968/multimodal/img/CMP301_TrainDeploy_E1_20230607_SPEdited_image_7.jpg.\n",
      "[2024-01-09 22:03:52,376] p15227 {utils.py:21} INFO - File img/CMP301_TrainDeploy_E1_20230607_SPEdited_image_8.jpg uploaded to multimodal-bucket-731963050968/multimodal/img/CMP301_TrainDeploy_E1_20230607_SPEdited_image_8.jpg.\n",
      "[2024-01-09 22:03:52,478] p15227 {utils.py:21} INFO - File img/CMP301_TrainDeploy_E1_20230607_SPEdited_image_9.jpg uploaded to multimodal-bucket-731963050968/multimodal/img/CMP301_TrainDeploy_E1_20230607_SPEdited_image_9.jpg.\n",
      "[2024-01-09 22:03:52,537] p15227 {utils.py:21} INFO - File img/CMP301_TrainDeploy_E1_20230607_SPEdited_image_10.jpg uploaded to multimodal-bucket-731963050968/multimodal/img/CMP301_TrainDeploy_E1_20230607_SPEdited_image_10.jpg.\n",
      "[2024-01-09 22:03:52,589] p15227 {utils.py:21} INFO - File img/CMP301_TrainDeploy_E1_20230607_SPEdited_image_11.jpg uploaded to multimodal-bucket-731963050968/multimodal/img/CMP301_TrainDeploy_E1_20230607_SPEdited_image_11.jpg.\n",
      "[2024-01-09 22:03:52,699] p15227 {utils.py:21} INFO - File img/CMP301_TrainDeploy_E1_20230607_SPEdited_image_12.jpg uploaded to multimodal-bucket-731963050968/multimodal/img/CMP301_TrainDeploy_E1_20230607_SPEdited_image_12.jpg.\n",
      "[2024-01-09 22:03:52,763] p15227 {utils.py:21} INFO - File img/CMP301_TrainDeploy_E1_20230607_SPEdited_image_13.jpg uploaded to multimodal-bucket-731963050968/multimodal/img/CMP301_TrainDeploy_E1_20230607_SPEdited_image_13.jpg.\n",
      "[2024-01-09 22:03:52,899] p15227 {utils.py:21} INFO - File img/CMP301_TrainDeploy_E1_20230607_SPEdited_image_14.jpg uploaded to multimodal-bucket-731963050968/multimodal/img/CMP301_TrainDeploy_E1_20230607_SPEdited_image_14.jpg.\n",
      "[2024-01-09 22:03:53,098] p15227 {utils.py:21} INFO - File img/CMP301_TrainDeploy_E1_20230607_SPEdited_image_15.jpg uploaded to multimodal-bucket-731963050968/multimodal/img/CMP301_TrainDeploy_E1_20230607_SPEdited_image_15.jpg.\n",
      "[2024-01-09 22:03:53,192] p15227 {utils.py:21} INFO - File img/CMP301_TrainDeploy_E1_20230607_SPEdited_image_16.jpg uploaded to multimodal-bucket-731963050968/multimodal/img/CMP301_TrainDeploy_E1_20230607_SPEdited_image_16.jpg.\n",
      "[2024-01-09 22:03:53,345] p15227 {utils.py:21} INFO - File img/CMP301_TrainDeploy_E1_20230607_SPEdited_image_17.jpg uploaded to multimodal-bucket-731963050968/multimodal/img/CMP301_TrainDeploy_E1_20230607_SPEdited_image_17.jpg.\n",
      "[2024-01-09 22:03:53,394] p15227 {utils.py:21} INFO - File img/CMP301_TrainDeploy_E1_20230607_SPEdited_image_18.jpg uploaded to multimodal-bucket-731963050968/multimodal/img/CMP301_TrainDeploy_E1_20230607_SPEdited_image_18.jpg.\n",
      "[2024-01-09 22:03:53,522] p15227 {utils.py:21} INFO - File img/CMP301_TrainDeploy_E1_20230607_SPEdited_image_19.jpg uploaded to multimodal-bucket-731963050968/multimodal/img/CMP301_TrainDeploy_E1_20230607_SPEdited_image_19.jpg.\n",
      "[2024-01-09 22:03:53,604] p15227 {utils.py:21} INFO - File img/CMP301_TrainDeploy_E1_20230607_SPEdited_image_20.jpg uploaded to multimodal-bucket-731963050968/multimodal/img/CMP301_TrainDeploy_E1_20230607_SPEdited_image_20.jpg.\n",
      "[2024-01-09 22:03:53,637] p15227 {utils.py:21} INFO - File img/CMP301_TrainDeploy_E1_20230607_SPEdited_image_21.jpg uploaded to multimodal-bucket-731963050968/multimodal/img/CMP301_TrainDeploy_E1_20230607_SPEdited_image_21.jpg.\n",
      "[2024-01-09 22:03:53,685] p15227 {utils.py:21} INFO - File img/CMP301_TrainDeploy_E1_20230607_SPEdited_image_22.jpg uploaded to multimodal-bucket-731963050968/multimodal/img/CMP301_TrainDeploy_E1_20230607_SPEdited_image_22.jpg.\n",
      "[2024-01-09 22:03:53,803] p15227 {utils.py:21} INFO - File img/CMP301_TrainDeploy_E1_20230607_SPEdited_image_23.jpg uploaded to multimodal-bucket-731963050968/multimodal/img/CMP301_TrainDeploy_E1_20230607_SPEdited_image_23.jpg.\n",
      "[2024-01-09 22:03:53,888] p15227 {utils.py:21} INFO - File img/CMP301_TrainDeploy_E1_20230607_SPEdited_image_24.jpg uploaded to multimodal-bucket-731963050968/multimodal/img/CMP301_TrainDeploy_E1_20230607_SPEdited_image_24.jpg.\n",
      "[2024-01-09 22:03:54,053] p15227 {utils.py:21} INFO - File img/CMP301_TrainDeploy_E1_20230607_SPEdited_image_25.jpg uploaded to multimodal-bucket-731963050968/multimodal/img/CMP301_TrainDeploy_E1_20230607_SPEdited_image_25.jpg.\n",
      "[2024-01-09 22:03:54,108] p15227 {utils.py:21} INFO - File img/CMP301_TrainDeploy_E1_20230607_SPEdited_image_26.jpg uploaded to multimodal-bucket-731963050968/multimodal/img/CMP301_TrainDeploy_E1_20230607_SPEdited_image_26.jpg.\n",
      "[2024-01-09 22:03:54,164] p15227 {utils.py:21} INFO - File img/CMP301_TrainDeploy_E1_20230607_SPEdited_image_27.jpg uploaded to multimodal-bucket-731963050968/multimodal/img/CMP301_TrainDeploy_E1_20230607_SPEdited_image_27.jpg.\n",
      "[2024-01-09 22:03:54,204] p15227 {utils.py:21} INFO - File img/CMP301_TrainDeploy_E1_20230607_SPEdited_image_28.jpg uploaded to multimodal-bucket-731963050968/multimodal/img/CMP301_TrainDeploy_E1_20230607_SPEdited_image_28.jpg.\n",
      "[2024-01-09 22:03:54,239] p15227 {utils.py:21} INFO - File img/CMP301_TrainDeploy_E1_20230607_SPEdited_image_29.jpg uploaded to multimodal-bucket-731963050968/multimodal/img/CMP301_TrainDeploy_E1_20230607_SPEdited_image_29.jpg.\n",
      "[2024-01-09 22:03:54,350] p15227 {utils.py:21} INFO - File img/CMP301_TrainDeploy_E1_20230607_SPEdited_image_30.jpg uploaded to multimodal-bucket-731963050968/multimodal/img/CMP301_TrainDeploy_E1_20230607_SPEdited_image_30.jpg.\n",
      "[2024-01-09 22:03:54,417] p15227 {utils.py:21} INFO - File img/CMP301_TrainDeploy_E1_20230607_SPEdited_image_31.jpg uploaded to multimodal-bucket-731963050968/multimodal/img/CMP301_TrainDeploy_E1_20230607_SPEdited_image_31.jpg.\n"
     ]
    }
   ],
   "source": [
    "_ = list(map(lambda img_path: upload_to_s3(img_path, bucket_name, g.BUCKET_IMG_PREFIX), images))"
   ]
  },
  {
   "cell_type": "code",
   "execution_count": null,
   "id": "b139338d-9f99-4964-b75c-aa0b487d6cf2",
   "metadata": {},
   "outputs": [],
   "source": []
  }
 ],
 "metadata": {
  "kernelspec": {
   "display_name": "conda_python3",
   "language": "python",
   "name": "conda_python3"
  },
  "language_info": {
   "codemirror_mode": {
    "name": "ipython",
    "version": 3
   },
   "file_extension": ".py",
   "mimetype": "text/x-python",
   "name": "python",
   "nbconvert_exporter": "python",
   "pygments_lexer": "ipython3",
   "version": "3.10.13"
  }
 },
 "nbformat": 4,
 "nbformat_minor": 5
}
