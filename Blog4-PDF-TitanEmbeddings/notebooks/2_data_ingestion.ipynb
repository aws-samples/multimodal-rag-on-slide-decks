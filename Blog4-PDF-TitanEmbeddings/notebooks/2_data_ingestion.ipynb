{
 "cells": [
  {
   "cell_type": "markdown",
   "id": "8bbb582e-d21a-41cf-b45e-e2f462424ebe",
   "metadata": {
    "tags": []
   },
   "source": [
    "# Data ingestion\n",
    "\n",
    "***This notebook works best with the `conda_python3` on the `ml.t3.xlarge` instance***.\n",
    "\n",
    "---\n",
    "\n",
    "In this notebook we download the images corresponding to the slide deck that we uploaded into Amazon S3 in the [1_data_prep.ipynb](./1_data_prep) notebook, convert them into embeddings and then ingest these embeddings into a vector database i.e. [Amazon OpenSearch Service Serverless](https://aws.amazon.com/opensearch-service/features/serverless/).\n",
    "\n",
    "1. We use the [Anthropic’s Claude 3 Sonnet foundation model](https://aws.amazon.com/about-aws/whats-new/2024/03/anthropics-claude-3-sonnet-model-amazon-bedrock/) available on Bedrock to convert image to text.\n",
    "\n",
    "1. We then use [Amazon Titan Text Embeddings](https://docs.aws.amazon.com/bedrock/latest/userguide/titan-embedding-models.html) model to convert the text into embeddings.\n",
    "\n",
    "1. The embeddings are then ingested into OpenSearch Service Serverless using the [Amazon OpenSearch Ingestion](https://docs.aws.amazon.com/opensearch-service/latest/developerguide/ingestion.html) pipeline. We ingest the embeddings into an OpenSearch Serverless index via the OpenSearch Ingestion API.\n",
    "\n",
    "1. The OpenSearch Service Serverless Collection is created via the AWS CloudFormation stack for this blog post.\n"
   ]
  },
  {
   "cell_type": "markdown",
   "id": "32a62857-6a66-44db-9d92-3df221c6bd21",
   "metadata": {},
   "source": [
    "## Step 1. Setup\n",
    "\n",
    "Install the required Python packages and import the relevant files."
   ]
  },
  {
   "cell_type": "code",
   "execution_count": 1,
   "id": "7f869e5d-8e4b-4d44-9e2a-4f20b77b92d6",
   "metadata": {
    "tags": []
   },
   "outputs": [
    {
     "name": "stdout",
     "output_type": "stream",
     "text": [
      "Requirement already satisfied: sagemaker==2.199.0 in /home/ec2-user/anaconda3/envs/python3/lib/python3.10/site-packages (from -r requirements.txt (line 1)) (2.199.0)\n",
      "Requirement already satisfied: pypdfium2==4.24.0 in /home/ec2-user/anaconda3/envs/python3/lib/python3.10/site-packages (from -r requirements.txt (line 2)) (4.24.0)\n",
      "Requirement already satisfied: ray==2.10.0 in /home/ec2-user/anaconda3/envs/python3/lib/python3.10/site-packages (from -r requirements.txt (line 3)) (2.10.0)\n",
      "Requirement already satisfied: PyPDF2==3.0.1 in /home/ec2-user/anaconda3/envs/python3/lib/python3.10/site-packages (from -r requirements.txt (line 4)) (3.0.1)\n",
      "Requirement already satisfied: PyMuPDF==1.24.3 in /home/ec2-user/anaconda3/envs/python3/lib/python3.10/site-packages (from -r requirements.txt (line 5)) (1.24.3)\n",
      "Requirement already satisfied: pdf2image==1.17.0 in /home/ec2-user/anaconda3/envs/python3/lib/python3.10/site-packages (from -r requirements.txt (line 6)) (1.17.0)\n",
      "Requirement already satisfied: litellm==1.37.20 in /home/ec2-user/anaconda3/envs/python3/lib/python3.10/site-packages (from -r requirements.txt (line 7)) (1.37.20)\n",
      "Requirement already satisfied: httplib2==0.19.0 in /home/ec2-user/anaconda3/envs/python3/lib/python3.10/site-packages (from -r requirements.txt (line 8)) (0.19.0)\n",
      "Requirement already satisfied: langchain==0.0.340 in /home/ec2-user/anaconda3/envs/python3/lib/python3.10/site-packages (from -r requirements.txt (line 9)) (0.0.340)\n",
      "Requirement already satisfied: requests==2.31.0 in /home/ec2-user/anaconda3/envs/python3/lib/python3.10/site-packages (from -r requirements.txt (line 10)) (2.31.0)\n",
      "Requirement already satisfied: pandas==1.5.3 in /home/ec2-user/anaconda3/envs/python3/lib/python3.10/site-packages (from -r requirements.txt (line 11)) (1.5.3)\n",
      "Requirement already satisfied: boto3==1.34.0 in /home/ec2-user/anaconda3/envs/python3/lib/python3.10/site-packages (from -r requirements.txt (line 12)) (1.34.0)\n",
      "Requirement already satisfied: botocore==1.34.0 in /home/ec2-user/anaconda3/envs/python3/lib/python3.10/site-packages (from -r requirements.txt (line 13)) (1.34.0)\n",
      "Requirement already satisfied: opensearch-py==2.5.0 in /home/ec2-user/anaconda3/envs/python3/lib/python3.10/site-packages (from -r requirements.txt (line 14)) (2.5.0)\n",
      "Requirement already satisfied: numexpr==2.8.0 in /home/ec2-user/anaconda3/envs/python3/lib/python3.10/site-packages (from -r requirements.txt (line 15)) (2.8.0)\n",
      "Requirement already satisfied: packaging>=22.0 in /home/ec2-user/anaconda3/envs/python3/lib/python3.10/site-packages (from -r requirements.txt (line 16)) (24.0)\n",
      "Requirement already satisfied: docutils in /home/ec2-user/anaconda3/envs/python3/lib/python3.10/site-packages (from -r requirements.txt (line 17)) (0.16)\n",
      "Requirement already satisfied: requests-auth-aws-sigv4 in /home/ec2-user/anaconda3/envs/python3/lib/python3.10/site-packages (from -r requirements.txt (line 19)) (0.7)\n",
      "Requirement already satisfied: attrs<24,>=23.1.0 in /home/ec2-user/anaconda3/envs/python3/lib/python3.10/site-packages (from sagemaker==2.199.0->-r requirements.txt (line 1)) (23.2.0)\n",
      "Requirement already satisfied: cloudpickle==2.2.1 in /home/ec2-user/anaconda3/envs/python3/lib/python3.10/site-packages (from sagemaker==2.199.0->-r requirements.txt (line 1)) (2.2.1)\n",
      "Requirement already satisfied: google-pasta in /home/ec2-user/anaconda3/envs/python3/lib/python3.10/site-packages (from sagemaker==2.199.0->-r requirements.txt (line 1)) (0.2.0)\n",
      "Requirement already satisfied: numpy<2.0,>=1.9.0 in /home/ec2-user/anaconda3/envs/python3/lib/python3.10/site-packages (from sagemaker==2.199.0->-r requirements.txt (line 1)) (1.22.4)\n",
      "Requirement already satisfied: protobuf<5.0,>=3.12 in /home/ec2-user/anaconda3/envs/python3/lib/python3.10/site-packages (from sagemaker==2.199.0->-r requirements.txt (line 1)) (4.25.3)\n",
      "Requirement already satisfied: smdebug-rulesconfig==1.0.1 in /home/ec2-user/anaconda3/envs/python3/lib/python3.10/site-packages (from sagemaker==2.199.0->-r requirements.txt (line 1)) (1.0.1)\n",
      "Requirement already satisfied: importlib-metadata<7.0,>=1.4.0 in /home/ec2-user/anaconda3/envs/python3/lib/python3.10/site-packages (from sagemaker==2.199.0->-r requirements.txt (line 1)) (6.11.0)\n",
      "Requirement already satisfied: pathos in /home/ec2-user/anaconda3/envs/python3/lib/python3.10/site-packages (from sagemaker==2.199.0->-r requirements.txt (line 1)) (0.3.2)\n",
      "Requirement already satisfied: schema in /home/ec2-user/anaconda3/envs/python3/lib/python3.10/site-packages (from sagemaker==2.199.0->-r requirements.txt (line 1)) (0.7.7)\n",
      "Requirement already satisfied: PyYAML~=6.0 in /home/ec2-user/anaconda3/envs/python3/lib/python3.10/site-packages (from sagemaker==2.199.0->-r requirements.txt (line 1)) (6.0.1)\n",
      "Requirement already satisfied: jsonschema in /home/ec2-user/anaconda3/envs/python3/lib/python3.10/site-packages (from sagemaker==2.199.0->-r requirements.txt (line 1)) (4.21.1)\n",
      "Requirement already satisfied: platformdirs in /home/ec2-user/anaconda3/envs/python3/lib/python3.10/site-packages (from sagemaker==2.199.0->-r requirements.txt (line 1)) (4.2.0)\n",
      "Requirement already satisfied: tblib==1.7.0 in /home/ec2-user/anaconda3/envs/python3/lib/python3.10/site-packages (from sagemaker==2.199.0->-r requirements.txt (line 1)) (1.7.0)\n",
      "Requirement already satisfied: urllib3<1.27 in /home/ec2-user/anaconda3/envs/python3/lib/python3.10/site-packages (from sagemaker==2.199.0->-r requirements.txt (line 1)) (1.26.18)\n",
      "Requirement already satisfied: uvicorn==0.22.0 in /home/ec2-user/anaconda3/envs/python3/lib/python3.10/site-packages (from sagemaker==2.199.0->-r requirements.txt (line 1)) (0.22.0)\n",
      "Requirement already satisfied: fastapi==0.95.2 in /home/ec2-user/anaconda3/envs/python3/lib/python3.10/site-packages (from sagemaker==2.199.0->-r requirements.txt (line 1)) (0.95.2)\n",
      "Requirement already satisfied: docker in /home/ec2-user/anaconda3/envs/python3/lib/python3.10/site-packages (from sagemaker==2.199.0->-r requirements.txt (line 1)) (6.1.3)\n",
      "Requirement already satisfied: tqdm in /home/ec2-user/anaconda3/envs/python3/lib/python3.10/site-packages (from sagemaker==2.199.0->-r requirements.txt (line 1)) (4.66.2)\n",
      "Requirement already satisfied: psutil in /home/ec2-user/anaconda3/envs/python3/lib/python3.10/site-packages (from sagemaker==2.199.0->-r requirements.txt (line 1)) (5.9.8)\n",
      "Requirement already satisfied: click>=7.0 in /home/ec2-user/anaconda3/envs/python3/lib/python3.10/site-packages (from ray==2.10.0->-r requirements.txt (line 3)) (8.1.7)\n",
      "Requirement already satisfied: filelock in /home/ec2-user/anaconda3/envs/python3/lib/python3.10/site-packages (from ray==2.10.0->-r requirements.txt (line 3)) (3.13.3)\n",
      "Requirement already satisfied: msgpack<2.0.0,>=1.0.0 in /home/ec2-user/anaconda3/envs/python3/lib/python3.10/site-packages (from ray==2.10.0->-r requirements.txt (line 3)) (1.0.7)\n",
      "Requirement already satisfied: aiosignal in /home/ec2-user/anaconda3/envs/python3/lib/python3.10/site-packages (from ray==2.10.0->-r requirements.txt (line 3)) (1.3.1)\n",
      "Requirement already satisfied: frozenlist in /home/ec2-user/anaconda3/envs/python3/lib/python3.10/site-packages (from ray==2.10.0->-r requirements.txt (line 3)) (1.4.1)\n",
      "Requirement already satisfied: PyMuPDFb==1.24.3 in /home/ec2-user/anaconda3/envs/python3/lib/python3.10/site-packages (from PyMuPDF==1.24.3->-r requirements.txt (line 5)) (1.24.3)\n",
      "Requirement already satisfied: pillow in /home/ec2-user/anaconda3/envs/python3/lib/python3.10/site-packages (from pdf2image==1.17.0->-r requirements.txt (line 6)) (10.2.0)\n",
      "Requirement already satisfied: aiohttp in /home/ec2-user/anaconda3/envs/python3/lib/python3.10/site-packages (from litellm==1.37.20->-r requirements.txt (line 7)) (3.9.3)\n",
      "Requirement already satisfied: jinja2<4.0.0,>=3.1.2 in /home/ec2-user/anaconda3/envs/python3/lib/python3.10/site-packages (from litellm==1.37.20->-r requirements.txt (line 7)) (3.1.3)\n",
      "Requirement already satisfied: openai>=1.27.0 in /home/ec2-user/anaconda3/envs/python3/lib/python3.10/site-packages (from litellm==1.37.20->-r requirements.txt (line 7)) (1.30.1)\n",
      "Requirement already satisfied: python-dotenv>=0.2.0 in /home/ec2-user/anaconda3/envs/python3/lib/python3.10/site-packages (from litellm==1.37.20->-r requirements.txt (line 7)) (1.0.1)\n",
      "Requirement already satisfied: tiktoken>=0.4.0 in /home/ec2-user/anaconda3/envs/python3/lib/python3.10/site-packages (from litellm==1.37.20->-r requirements.txt (line 7)) (0.7.0)\n",
      "Requirement already satisfied: tokenizers in /home/ec2-user/anaconda3/envs/python3/lib/python3.10/site-packages (from litellm==1.37.20->-r requirements.txt (line 7)) (0.19.1)\n",
      "Requirement already satisfied: pyparsing<3,>=2.4.2 in /home/ec2-user/anaconda3/envs/python3/lib/python3.10/site-packages (from httplib2==0.19.0->-r requirements.txt (line 8)) (2.4.7)\n",
      "Requirement already satisfied: SQLAlchemy<3,>=1.4 in /home/ec2-user/anaconda3/envs/python3/lib/python3.10/site-packages (from langchain==0.0.340->-r requirements.txt (line 9)) (2.0.29)\n",
      "Requirement already satisfied: anyio<4.0 in /home/ec2-user/anaconda3/envs/python3/lib/python3.10/site-packages (from langchain==0.0.340->-r requirements.txt (line 9)) (3.7.1)\n",
      "Requirement already satisfied: async-timeout<5.0.0,>=4.0.0 in /home/ec2-user/anaconda3/envs/python3/lib/python3.10/site-packages (from langchain==0.0.340->-r requirements.txt (line 9)) (4.0.3)\n",
      "Requirement already satisfied: dataclasses-json<0.7,>=0.5.7 in /home/ec2-user/anaconda3/envs/python3/lib/python3.10/site-packages (from langchain==0.0.340->-r requirements.txt (line 9)) (0.6.6)\n",
      "Requirement already satisfied: jsonpatch<2.0,>=1.33 in /home/ec2-user/anaconda3/envs/python3/lib/python3.10/site-packages (from langchain==0.0.340->-r requirements.txt (line 9)) (1.33)\n",
      "Requirement already satisfied: langsmith<0.1.0,>=0.0.63 in /home/ec2-user/anaconda3/envs/python3/lib/python3.10/site-packages (from langchain==0.0.340->-r requirements.txt (line 9)) (0.0.92)\n",
      "Requirement already satisfied: pydantic<3,>=1 in /home/ec2-user/anaconda3/envs/python3/lib/python3.10/site-packages (from langchain==0.0.340->-r requirements.txt (line 9)) (1.10.15)\n",
      "Requirement already satisfied: tenacity<9.0.0,>=8.1.0 in /home/ec2-user/anaconda3/envs/python3/lib/python3.10/site-packages (from langchain==0.0.340->-r requirements.txt (line 9)) (8.2.3)\n",
      "Requirement already satisfied: charset-normalizer<4,>=2 in /home/ec2-user/anaconda3/envs/python3/lib/python3.10/site-packages (from requests==2.31.0->-r requirements.txt (line 10)) (3.3.2)\n",
      "Requirement already satisfied: idna<4,>=2.5 in /home/ec2-user/anaconda3/envs/python3/lib/python3.10/site-packages (from requests==2.31.0->-r requirements.txt (line 10)) (3.6)\n",
      "Requirement already satisfied: certifi>=2017.4.17 in /home/ec2-user/anaconda3/envs/python3/lib/python3.10/site-packages (from requests==2.31.0->-r requirements.txt (line 10)) (2024.2.2)\n",
      "Requirement already satisfied: python-dateutil>=2.8.1 in /home/ec2-user/anaconda3/envs/python3/lib/python3.10/site-packages (from pandas==1.5.3->-r requirements.txt (line 11)) (2.9.0)\n",
      "Requirement already satisfied: pytz>=2020.1 in /home/ec2-user/anaconda3/envs/python3/lib/python3.10/site-packages (from pandas==1.5.3->-r requirements.txt (line 11)) (2024.1)\n",
      "Requirement already satisfied: jmespath<2.0.0,>=0.7.1 in /home/ec2-user/anaconda3/envs/python3/lib/python3.10/site-packages (from boto3==1.34.0->-r requirements.txt (line 12)) (1.0.1)\n",
      "Requirement already satisfied: s3transfer<0.10.0,>=0.9.0 in /home/ec2-user/anaconda3/envs/python3/lib/python3.10/site-packages (from boto3==1.34.0->-r requirements.txt (line 12)) (0.9.0)\n",
      "Requirement already satisfied: six in /home/ec2-user/anaconda3/envs/python3/lib/python3.10/site-packages (from opensearch-py==2.5.0->-r requirements.txt (line 14)) (1.16.0)\n",
      "Requirement already satisfied: starlette<0.28.0,>=0.27.0 in /home/ec2-user/anaconda3/envs/python3/lib/python3.10/site-packages (from fastapi==0.95.2->sagemaker==2.199.0->-r requirements.txt (line 1)) (0.27.0)\n",
      "Requirement already satisfied: h11>=0.8 in /home/ec2-user/anaconda3/envs/python3/lib/python3.10/site-packages (from uvicorn==0.22.0->sagemaker==2.199.0->-r requirements.txt (line 1)) (0.14.0)\n",
      "Requirement already satisfied: multidict<7.0,>=4.5 in /home/ec2-user/anaconda3/envs/python3/lib/python3.10/site-packages (from aiohttp->litellm==1.37.20->-r requirements.txt (line 7)) (6.0.5)\n",
      "Requirement already satisfied: yarl<2.0,>=1.0 in /home/ec2-user/anaconda3/envs/python3/lib/python3.10/site-packages (from aiohttp->litellm==1.37.20->-r requirements.txt (line 7)) (1.9.4)\n",
      "Requirement already satisfied: sniffio>=1.1 in /home/ec2-user/anaconda3/envs/python3/lib/python3.10/site-packages (from anyio<4.0->langchain==0.0.340->-r requirements.txt (line 9)) (1.3.1)\n",
      "Requirement already satisfied: exceptiongroup in /home/ec2-user/anaconda3/envs/python3/lib/python3.10/site-packages (from anyio<4.0->langchain==0.0.340->-r requirements.txt (line 9)) (1.2.0)\n",
      "Requirement already satisfied: marshmallow<4.0.0,>=3.18.0 in /home/ec2-user/anaconda3/envs/python3/lib/python3.10/site-packages (from dataclasses-json<0.7,>=0.5.7->langchain==0.0.340->-r requirements.txt (line 9)) (3.21.2)\n",
      "Requirement already satisfied: typing-inspect<1,>=0.4.0 in /home/ec2-user/anaconda3/envs/python3/lib/python3.10/site-packages (from dataclasses-json<0.7,>=0.5.7->langchain==0.0.340->-r requirements.txt (line 9)) (0.9.0)\n",
      "Requirement already satisfied: zipp>=0.5 in /home/ec2-user/anaconda3/envs/python3/lib/python3.10/site-packages (from importlib-metadata<7.0,>=1.4.0->sagemaker==2.199.0->-r requirements.txt (line 1)) (3.17.0)\n",
      "Requirement already satisfied: MarkupSafe>=2.0 in /home/ec2-user/anaconda3/envs/python3/lib/python3.10/site-packages (from jinja2<4.0.0,>=3.1.2->litellm==1.37.20->-r requirements.txt (line 7)) (2.1.5)\n",
      "Requirement already satisfied: jsonpointer>=1.9 in /home/ec2-user/anaconda3/envs/python3/lib/python3.10/site-packages (from jsonpatch<2.0,>=1.33->langchain==0.0.340->-r requirements.txt (line 9)) (2.4)\n",
      "Requirement already satisfied: distro<2,>=1.7.0 in /home/ec2-user/anaconda3/envs/python3/lib/python3.10/site-packages (from openai>=1.27.0->litellm==1.37.20->-r requirements.txt (line 7)) (1.9.0)\n",
      "Requirement already satisfied: httpx<1,>=0.23.0 in /home/ec2-user/anaconda3/envs/python3/lib/python3.10/site-packages (from openai>=1.27.0->litellm==1.37.20->-r requirements.txt (line 7)) (0.27.0)\n",
      "Requirement already satisfied: typing-extensions<5,>=4.7 in /home/ec2-user/anaconda3/envs/python3/lib/python3.10/site-packages (from openai>=1.27.0->litellm==1.37.20->-r requirements.txt (line 7)) (4.10.0)\n",
      "Requirement already satisfied: greenlet!=0.4.17 in /home/ec2-user/anaconda3/envs/python3/lib/python3.10/site-packages (from SQLAlchemy<3,>=1.4->langchain==0.0.340->-r requirements.txt (line 9)) (3.0.3)\n",
      "Requirement already satisfied: regex>=2022.1.18 in /home/ec2-user/anaconda3/envs/python3/lib/python3.10/site-packages (from tiktoken>=0.4.0->litellm==1.37.20->-r requirements.txt (line 7)) (2023.12.25)\n",
      "Requirement already satisfied: websocket-client>=0.32.0 in /home/ec2-user/anaconda3/envs/python3/lib/python3.10/site-packages (from docker->sagemaker==2.199.0->-r requirements.txt (line 1)) (1.7.0)\n",
      "Requirement already satisfied: jsonschema-specifications>=2023.03.6 in /home/ec2-user/anaconda3/envs/python3/lib/python3.10/site-packages (from jsonschema->sagemaker==2.199.0->-r requirements.txt (line 1)) (2023.12.1)\n",
      "Requirement already satisfied: referencing>=0.28.4 in /home/ec2-user/anaconda3/envs/python3/lib/python3.10/site-packages (from jsonschema->sagemaker==2.199.0->-r requirements.txt (line 1)) (0.34.0)\n",
      "Requirement already satisfied: rpds-py>=0.7.1 in /home/ec2-user/anaconda3/envs/python3/lib/python3.10/site-packages (from jsonschema->sagemaker==2.199.0->-r requirements.txt (line 1)) (0.18.0)\n",
      "Requirement already satisfied: ppft>=1.7.6.8 in /home/ec2-user/anaconda3/envs/python3/lib/python3.10/site-packages (from pathos->sagemaker==2.199.0->-r requirements.txt (line 1)) (1.7.6.8)\n",
      "Requirement already satisfied: dill>=0.3.8 in /home/ec2-user/anaconda3/envs/python3/lib/python3.10/site-packages (from pathos->sagemaker==2.199.0->-r requirements.txt (line 1)) (0.3.8)\n",
      "Requirement already satisfied: pox>=0.3.4 in /home/ec2-user/anaconda3/envs/python3/lib/python3.10/site-packages (from pathos->sagemaker==2.199.0->-r requirements.txt (line 1)) (0.3.4)\n",
      "Requirement already satisfied: multiprocess>=0.70.16 in /home/ec2-user/anaconda3/envs/python3/lib/python3.10/site-packages (from pathos->sagemaker==2.199.0->-r requirements.txt (line 1)) (0.70.16)\n",
      "Requirement already satisfied: huggingface-hub<1.0,>=0.16.4 in /home/ec2-user/anaconda3/envs/python3/lib/python3.10/site-packages (from tokenizers->litellm==1.37.20->-r requirements.txt (line 7)) (0.23.1)\n",
      "Requirement already satisfied: httpcore==1.* in /home/ec2-user/anaconda3/envs/python3/lib/python3.10/site-packages (from httpx<1,>=0.23.0->openai>=1.27.0->litellm==1.37.20->-r requirements.txt (line 7)) (1.0.4)\n",
      "Requirement already satisfied: fsspec>=2023.5.0 in /home/ec2-user/anaconda3/envs/python3/lib/python3.10/site-packages (from huggingface-hub<1.0,>=0.16.4->tokenizers->litellm==1.37.20->-r requirements.txt (line 7)) (2024.3.1)\n",
      "Requirement already satisfied: mypy-extensions>=0.3.0 in /home/ec2-user/anaconda3/envs/python3/lib/python3.10/site-packages (from typing-inspect<1,>=0.4.0->dataclasses-json<0.7,>=0.5.7->langchain==0.0.340->-r requirements.txt (line 9)) (1.0.0)\n"
     ]
    }
   ],
   "source": [
    "import sys\n",
    "!{sys.executable} -m pip install -r requirements.txt"
   ]
  },
  {
   "cell_type": "code",
   "execution_count": 2,
   "id": "beda5d30-06f7-44a6-9b1d-8ac27fb93cfa",
   "metadata": {
    "tags": []
   },
   "outputs": [
    {
     "name": "stdout",
     "output_type": "stream",
     "text": [
      "sagemaker.config INFO - Not applying SDK defaults from location: /etc/xdg/sagemaker/config.yaml\n",
      "sagemaker.config INFO - Not applying SDK defaults from location: /home/ec2-user/.config/sagemaker/config.yaml\n"
     ]
    }
   ],
   "source": [
    "# import the libraries that are needed to run this notebook\n",
    "import os\n",
    "import re\n",
    "import ray\n",
    "import time\n",
    "import glob\n",
    "import json\n",
    "import yaml\n",
    "import time\n",
    "import boto3\n",
    "import codecs\n",
    "import base64\n",
    "import logging\n",
    "import requests\n",
    "import botocore\n",
    "import sagemaker\n",
    "import numpy as np\n",
    "import globals as g\n",
    "from pathlib import Path\n",
    "from typing import List, Dict\n",
    "from requests_auth_aws_sigv4 import AWSSigV4\n",
    "from opensearchpy import OpenSearch, RequestsHttpConnection, AWSV4SignerAuth\n",
    "from utils import get_cfn_outputs, get_bucket_name, download_image_files_from_s3, get_text_embedding"
   ]
  },
  {
   "cell_type": "code",
   "execution_count": 3,
   "id": "90e79b34-a7ee-4bfc-a7e0-109ef54426f3",
   "metadata": {
    "tags": []
   },
   "outputs": [],
   "source": [
    "# set a logger\n",
    "logging.basicConfig(format='[%(asctime)s] p%(process)s {%(filename)s:%(lineno)d} %(levelname)s - %(message)s', level=logging.INFO)\n",
    "logger = logging.getLogger(__name__)"
   ]
  },
  {
   "cell_type": "code",
   "execution_count": 4,
   "id": "6038bd7c-4e59-435b-80fc-c3a3ae928c84",
   "metadata": {
    "tags": []
   },
   "outputs": [],
   "source": [
    "bedrock = boto3.client(service_name=\"bedrock-runtime\", region_name=g.AWS_REGION, endpoint_url=g.TITAN_URL)"
   ]
  },
  {
   "cell_type": "code",
   "execution_count": 5,
   "id": "93c58b5c-8f93-4746-bcdd-5a9aafb4c3d3",
   "metadata": {
    "tags": []
   },
   "outputs": [],
   "source": [
    "module_path=os.getcwd()\n",
    "g.__path__=module_path"
   ]
  },
  {
   "cell_type": "code",
   "execution_count": 6,
   "id": "534bbced-2937-4ecd-945d-ca380f94a456",
   "metadata": {
    "collapsed": true,
    "jupyter": {
     "outputs_hidden": true
    },
    "tags": []
   },
   "outputs": [
    {
     "name": "stderr",
     "output_type": "stream",
     "text": [
      "2024-05-28 16:17:38,814\tINFO worker.py:1752 -- Started a local Ray instance.\n"
     ]
    },
    {
     "data": {
      "application/vnd.jupyter.widget-view+json": {
       "model_id": "d7a0821734dc4af6a7563a7cbb6d5552",
       "version_major": 2,
       "version_minor": 0
      },
      "text/html": [
       "<div class=\"lm-Widget p-Widget lm-Panel p-Panel jp-Cell-outputWrapper\">\n",
       "    <div style=\"margin-left: 50px;display: flex;flex-direction: row;align-items: center\">\n",
       "        <div class=\"jp-RenderedHTMLCommon\" style=\"display: flex; flex-direction: row;\">\n",
       "  <svg viewBox=\"0 0 567 224\" fill=\"none\" xmlns=\"http://www.w3.org/2000/svg\" style=\"height: 3em;\">\n",
       "    <g clip-path=\"url(#clip0_4338_178347)\">\n",
       "        <path d=\"M341.29 165.561H355.29L330.13 129.051C345.63 123.991 354.21 112.051 354.21 94.2307C354.21 71.3707 338.72 58.1807 311.88 58.1807H271V165.561H283.27V131.661H311.8C314.25 131.661 316.71 131.501 319.01 131.351L341.25 165.561H341.29ZM283.29 119.851V70.0007H311.82C331.3 70.0007 342.34 78.2907 342.34 94.5507C342.34 111.271 331.34 119.861 311.82 119.861L283.29 119.851ZM451.4 138.411L463.4 165.561H476.74L428.74 58.1807H416L367.83 165.561H380.83L392.83 138.411H451.4ZM446.19 126.601H398L422 72.1407L446.24 126.601H446.19ZM526.11 128.741L566.91 58.1807H554.35L519.99 114.181L485.17 58.1807H472.44L514.01 129.181V165.541H526.13V128.741H526.11Z\" fill=\"var(--jp-ui-font-color0)\"/>\n",
       "        <path d=\"M82.35 104.44C84.0187 97.8827 87.8248 92.0678 93.1671 87.9146C98.5094 83.7614 105.083 81.5067 111.85 81.5067C118.617 81.5067 125.191 83.7614 130.533 87.9146C135.875 92.0678 139.681 97.8827 141.35 104.44H163.75C164.476 101.562 165.622 98.8057 167.15 96.2605L127.45 56.5605C121.071 60.3522 113.526 61.6823 106.235 60.3005C98.9443 58.9187 92.4094 54.9203 87.8602 49.0574C83.3109 43.1946 81.0609 35.8714 81.5332 28.4656C82.0056 21.0599 85.1679 14.0819 90.4252 8.8446C95.6824 3.60726 102.672 0.471508 110.08 0.0272655C117.487 -0.416977 124.802 1.86091 130.647 6.4324C136.493 11.0039 140.467 17.5539 141.821 24.8501C143.175 32.1463 141.816 39.6859 138 46.0505L177.69 85.7505C182.31 82.9877 187.58 81.4995 192.962 81.4375C198.345 81.3755 203.648 82.742 208.33 85.3976C213.012 88.0532 216.907 91.9029 219.616 96.5544C222.326 101.206 223.753 106.492 223.753 111.875C223.753 117.258 222.326 122.545 219.616 127.197C216.907 131.848 213.012 135.698 208.33 138.353C203.648 141.009 198.345 142.375 192.962 142.313C187.58 142.251 182.31 140.763 177.69 138L138 177.7C141.808 184.071 143.155 191.614 141.79 198.91C140.424 206.205 136.44 212.75 130.585 217.313C124.731 221.875 117.412 224.141 110.004 223.683C102.596 223.226 95.6103 220.077 90.3621 214.828C85.1139 209.58 81.9647 202.595 81.5072 195.187C81.0497 187.779 83.3154 180.459 87.878 174.605C92.4405 168.751 98.9853 164.766 106.281 163.401C113.576 162.035 121.119 163.383 127.49 167.19L167.19 127.49C165.664 124.941 164.518 122.182 163.79 119.3H141.39C139.721 125.858 135.915 131.673 130.573 135.826C125.231 139.98 118.657 142.234 111.89 142.234C105.123 142.234 98.5494 139.98 93.2071 135.826C87.8648 131.673 84.0587 125.858 82.39 119.3H60C58.1878 126.495 53.8086 132.78 47.6863 136.971C41.5641 141.163 34.1211 142.972 26.7579 142.059C19.3947 141.146 12.6191 137.574 7.70605 132.014C2.79302 126.454 0.0813599 119.29 0.0813599 111.87C0.0813599 104.451 2.79302 97.2871 7.70605 91.7272C12.6191 86.1673 19.3947 82.5947 26.7579 81.6817C34.1211 80.7686 41.5641 82.5781 47.6863 86.7696C53.8086 90.9611 58.1878 97.2456 60 104.44H82.35ZM100.86 204.32C103.407 206.868 106.759 208.453 110.345 208.806C113.93 209.159 117.527 208.258 120.522 206.256C123.517 204.254 125.725 201.276 126.771 197.828C127.816 194.38 127.633 190.677 126.253 187.349C124.874 184.021 122.383 181.274 119.205 179.577C116.027 177.88 112.359 177.337 108.826 178.042C105.293 178.746 102.113 180.654 99.8291 183.44C97.5451 186.226 96.2979 189.718 96.3 193.32C96.2985 195.364 96.7006 197.388 97.4831 199.275C98.2656 201.163 99.4132 202.877 100.86 204.32ZM204.32 122.88C206.868 120.333 208.453 116.981 208.806 113.396C209.159 109.811 208.258 106.214 206.256 103.219C204.254 100.223 201.275 98.0151 197.827 96.97C194.38 95.9249 190.676 96.1077 187.348 97.4873C184.02 98.8669 181.274 101.358 179.577 104.536C177.879 107.714 177.337 111.382 178.041 114.915C178.746 118.448 180.653 121.627 183.439 123.911C186.226 126.195 189.717 127.443 193.32 127.44C195.364 127.443 197.388 127.042 199.275 126.259C201.163 125.476 202.878 124.328 204.32 122.88ZM122.88 19.4205C120.333 16.8729 116.981 15.2876 113.395 14.9347C109.81 14.5817 106.213 15.483 103.218 17.4849C100.223 19.4868 98.0146 22.4654 96.9696 25.9131C95.9245 29.3608 96.1073 33.0642 97.4869 36.3922C98.8665 39.7202 101.358 42.4668 104.535 44.1639C107.713 45.861 111.381 46.4036 114.914 45.6992C118.447 44.9949 121.627 43.0871 123.911 40.301C126.195 37.515 127.442 34.0231 127.44 30.4205C127.44 28.3772 127.038 26.3539 126.255 24.4664C125.473 22.5788 124.326 20.8642 122.88 19.4205ZM19.42 100.86C16.8725 103.408 15.2872 106.76 14.9342 110.345C14.5813 113.93 15.4826 117.527 17.4844 120.522C19.4863 123.518 22.4649 125.726 25.9127 126.771C29.3604 127.816 33.0638 127.633 36.3918 126.254C39.7198 124.874 42.4664 122.383 44.1635 119.205C45.8606 116.027 46.4032 112.359 45.6988 108.826C44.9944 105.293 43.0866 102.114 40.3006 99.8296C37.5145 97.5455 34.0227 96.2983 30.42 96.3005C26.2938 96.3018 22.337 97.9421 19.42 100.86ZM100.86 100.86C98.3125 103.408 96.7272 106.76 96.3742 110.345C96.0213 113.93 96.9226 117.527 98.9244 120.522C100.926 123.518 103.905 125.726 107.353 126.771C110.8 127.816 114.504 127.633 117.832 126.254C121.16 124.874 123.906 122.383 125.604 119.205C127.301 116.027 127.843 112.359 127.139 108.826C126.434 105.293 124.527 102.114 121.741 99.8296C118.955 97.5455 115.463 96.2983 111.86 96.3005C109.817 96.299 107.793 96.701 105.905 97.4835C104.018 98.2661 102.303 99.4136 100.86 100.86Z\" fill=\"#00AEEF\"/>\n",
       "    </g>\n",
       "    <defs>\n",
       "        <clipPath id=\"clip0_4338_178347\">\n",
       "            <rect width=\"566.93\" height=\"223.75\" fill=\"white\"/>\n",
       "        </clipPath>\n",
       "    </defs>\n",
       "  </svg>\n",
       "</div>\n",
       "\n",
       "        <table class=\"jp-RenderedHTMLCommon\" style=\"border-collapse: collapse;color: var(--jp-ui-font-color1);font-size: var(--jp-ui-font-size1);\">\n",
       "    <tr>\n",
       "        <td style=\"text-align: left\"><b>Python version:</b></td>\n",
       "        <td style=\"text-align: left\"><b>3.10.14</b></td>\n",
       "    </tr>\n",
       "    <tr>\n",
       "        <td style=\"text-align: left\"><b>Ray version:</b></td>\n",
       "        <td style=\"text-align: left\"><b>2.10.0</b></td>\n",
       "    </tr>\n",
       "    \n",
       "</table>\n",
       "\n",
       "    </div>\n",
       "</div>\n"
      ],
      "text/plain": [
       "RayContext(dashboard_url='', python_version='3.10.14', ray_version='2.10.0', ray_commit='09abba26b5bf2707639bb637c208d062a47b46f6')"
      ]
     },
     "execution_count": 6,
     "metadata": {},
     "output_type": "execute_result"
    },
    {
     "name": "stderr",
     "output_type": "stream",
     "text": [
      "\u001b[36m(async_process_image_data pid=5186)\u001b[0m [2024-05-28 16:17:55,316] p5186 {credentials.py:1075} INFO - Found credentials from IAM Role: BaseNotebookInstanceEc2InstanceRole\n",
      "\u001b[36m(async_process_image_data pid=5186)\u001b[0m [2024-05-28 16:17:55,375] p5186 {500037063.py:14} INFO - going to convert img/b64_images/Microsoft_rec_page_4.b64 into embeddings\n"
     ]
    },
    {
     "name": "stdout",
     "output_type": "stream",
     "text": [
      "\u001b[36m(async_process_image_data pid=5186)\u001b[0m file_path: img/b64_images/Microsoft_rec_page_4.b64, image description (prefiltered with entities extracted): Based on the image, here are the key entities I can identify:\n",
      "\u001b[36m(async_process_image_data pid=5186)\u001b[0m \n",
      "\u001b[36m(async_process_image_data pid=5186)\u001b[0m Named Entities:\n",
      "\u001b[36m(async_process_image_data pid=5186)\u001b[0m - Organizations: Microsoft, OpenAI, Azure, ChatGPT, ZeniMax Media, Activision Blizzard, Alphabet/Google, Amazon, Oracle, Netflix\n",
      "\u001b[36m(async_process_image_data pid=5186)\u001b[0m - People: Amy Hood, Satya Nadella\n",
      "\u001b[36m(async_process_image_data pid=5186)\u001b[0m - Products/Services: Xbox series, Game Pass Ultimate, Azure Cloud Services, Dynamics 365, GitHub Copilot\n",
      "\u001b[36m(async_process_image_data pid=5186)\u001b[0m \n",
      "\u001b[36m(async_process_image_data pid=5186)\u001b[0m Custom Entities:\n",
      "\u001b[36m(async_process_image_data pid=5186)\u001b[0m - OpenAI technologies\n",
      "\u001b[36m(async_process_image_data pid=5186)\u001b[0m - AI assistants\n",
      "\u001b[36m(async_process_image_data pid=5186)\u001b[0m - Videoconferencing\n",
      "\u001b[36m(async_process_image_data pid=5186)\u001b[0m \n",
      "\u001b[36m(async_process_image_data pid=5186)\u001b[0m Temporal Entities:\n",
      "\u001b[36m(async_process_image_data pid=5186)\u001b[0m - November 30, 2022\n",
      "\u001b[36m(async_process_image_data pid=5186)\u001b[0m - March 13, 2023 \n",
      "\u001b[36m(async_process_image_data pid=5186)\u001b[0m - January 2023\n",
      "\u001b[36m(async_process_image_data pid=5186)\u001b[0m - January 16, 2023\n",
      "\u001b[36m(async_process_image_data pid=5186)\u001b[0m - March 2023\n",
      "\u001b[36m(async_process_image_data pid=5186)\u001b[0m - October 2023\n",
      "\u001b[36m(async_process_image_data pid=5186)\u001b[0m - July 2022\n",
      "\u001b[36m(async_process_image_data pid=5186)\u001b[0m - In July 2022\n",
      "\u001b[36m(async_process_image_data pid=5186)\u001b[0m - June 2022\n",
      "\u001b[36m(async_process_image_data pid=5186)\u001b[0m \n",
      "\u001b[36m(async_process_image_data pid=5186)\u001b[0m Please note that I have avoided revealing any specific individual identities mentioned in the image to respect privacy. The entities listed are focused on organizations, products/services, and relevant dates mentioned in the content.This image is a portion of an analyst report for Microsoft Corporation created by Argus Research Company. The layout consists of a header section with the NASDAQ ticker symbol MSFT, the company name 'MICROSOFT CORP', and a report creation date of Feb 1, 2024. Below the header is the main body text divided into several sections.\n",
      "\u001b[36m(async_process_image_data pid=5186)\u001b[0m \n",
      "\u001b[36m(async_process_image_data pid=5186)\u001b[0m The first section is titled 'Analyst's Notes ...Continued'. This section contains a paragraphed analysis discussing various topics related to Microsoft. It mentions OpenAI, the Times lawsuit, a cyberattack compromising corporate email accounts, Azure cloud service growth, Nadella's expectations for Azure growth, prioritizing long-term structural advantage investments, aiding business productivity, a challenging macroeconomic environment, the impact of layoffs in January 2023, Microsoft's competitive advantages in hybrid/premise cloud environments, enabling small/medium business customers for Azure cloud computing, 'Intelligent edge' platforms, improvements in areas like Dynamics 365, collaborative software, and traditional stalwarts like Windows having faced some downgrades.\n",
      "\u001b[36m(async_process_image_data pid=5186)\u001b[0m \n",
      "\u001b[36m(async_process_image_data pid=5186)\u001b[0m The next section discusses Microsoft's core businesses, aggressive moves in the gaming space with Xbox series console upgrades, future of videogaming with cloud-subscription games like the Series X ($34.99) and Series S ($24.99) with Game Pass Ultimate, realizing a fully digital world vision, the OpenAI launch generating AI excitement with CEO Sam Altman, the ChatGPT chatbot, and subsequent models like ChatGPT-4 in March 2023. It mentions OpenAI as Microsoft's preferred commercialization partner, a $10 billion investment in OpenAI, the strategic partnership's new phase in January 2023, a potential 49% OpenAI ownership stake worth $29 billion, Azure Cloud Services' use of OpenAI tech, Microsoft's strategy to integrate ChatGPT across its product portfolio and tech stack through services like Azure Cloud compute, the general availability of Azure OpenAI Service on January 16, 2023, GitHub Copilot as another AI-powered coding tool, plans to launch a cybersecurity copilot in October 2023, and the iterative importance of AI accuracy and capabilities like 'foundation models' and 'follow-on technology' mimicking human cognition over time.\n",
      "\u001b[36m(async_process_image_data pid=5186)\u001b[0m \n",
      "\u001b[36m(async_process_image_data pid=5186)\u001b[0m The section also covers Microsoft's strategic alliances in July 2022, including a partnership with Netflix for advertising services (after acquiring Xandr in June 2022), and plans announced by Oracle to rival Microsoft's Azure and other cloud competitors like Amazon Web Services. The color scheme used is primarily burgundy red and black text on a white background.\n",
      "\u001b[36m(async_process_image_data pid=5186)\u001b[0m json_file_path: pdf_img_json_dir/Microsoft_rec_page_4.json\n"
     ]
    },
    {
     "name": "stderr",
     "output_type": "stream",
     "text": [
      "\u001b[36m(async_process_image_data pid=5186)\u001b[0m [2024-05-28 16:18:40,457] p5186 {500037063.py:58} INFO - Ingesting data into pipeline\n",
      "\u001b[36m(async_process_image_data pid=5186)\u001b[0m [2024-05-28 16:18:40,458] p5186 {500037063.py:59} INFO - image desc: 200 OK\n",
      "\u001b[36m(async_process_image_data pid=5186)\u001b[0m [2024-05-28 16:18:40,385] p5186 {credentials.py:1075} INFO - Found credentials from IAM Role: BaseNotebookInstanceEc2InstanceRole\u001b[32m [repeated 4x across cluster] (Ray deduplicates logs by default. Set RAY_DEDUP_LOGS=0 to disable log deduplication, or see https://docs.ray.io/en/master/ray-observability/ray-logging.html#log-deduplication for more options.)\u001b[0m\n",
      "\u001b[36m(async_process_image_data pid=5190)\u001b[0m [2024-05-28 16:17:55,423] p5190 {500037063.py:14} INFO - going to convert img/b64_images/APPLE_rec_page_1.b64 into embeddings\u001b[32m [repeated 3x across cluster]\u001b[0m\n"
     ]
    },
    {
     "name": "stdout",
     "output_type": "stream",
     "text": [
      "\u001b[36m(async_process_image_data pid=5191)\u001b[0m file_path: img/b64_images/Intel_rec_page_3.b64, image description (prefiltered with entities extracted): Based on the image, here is a list of entities present:\n",
      "\u001b[36m(async_process_image_data pid=5191)\u001b[0m - Companies/Organizations: Argus, Intel Corp, AMD, ASML, INTC, TXN, AMAT, LRCX, KLAC\n",
      "\u001b[36m(async_process_image_data pid=5191)\u001b[0m - Industry Sectors: Peer & Industry Analysis\n",
      "\u001b[36m(async_process_image_data pid=5191)\u001b[0m - Financial/Investment Terms: P/E, Price/Sales, PEG, Net Margin, 1-yr EPS Growth, Argus Rating, 5 Year Growth, Debt/Capital\n",
      "\u001b[36m(async_process_image_data pid=5191)\u001b[0m - Dates: Jan 26, 2024\n",
      "\u001b[36m(async_process_image_data pid=5191)\u001b[0m - Time Periods: 5-yr Growth Rate (%), Current FY P/E, FY (likely Fiscal Year)\n",
      "\u001b[36m(async_process_image_data pid=5191)\u001b[0m Product Entities: \n",
      "\u001b[36m(async_process_image_data pid=5191)\u001b[0m - PriceBook (likely referencing a product category)\n",
      "\u001b[36m(async_process_image_data pid=5191)\u001b[0m Location Entities:\n",
      "\u001b[36m(async_process_image_data pid=5191)\u001b[0m - None\n",
      "\u001b[36m(async_process_image_data pid=5191)\u001b[0m The image appears to be an analyst report providing financial analysis and metrics for various semiconductor and technology companies, without revealing specific personal names or roles.The image appears to be an analyst report on Intel Corporation (INTC) from a research company called Argus. Here is a detailed description following the instructions provided:\n",
      "\u001b[36m(async_process_image_data pid=5191)\u001b[0m 1. Describe and mention each section in the image, including the data below the sections:\n",
      "\u001b[36m(async_process_image_data pid=5191)\u001b[0m The top section contains the company name 'ARGUS' and the title 'NASDAQ: INTC INTEL CORP Report Created Jan 26, 2024  Page 3 OF 7'.\n",
      "\u001b[36m(async_process_image_data pid=5191)\u001b[0m The next section is titled 'Analyst's Notes ...Continued'. This section contains a detailed analysis and commentary on Intel's business performance, product roadmap, and strategic initiatives.\n",
      "\u001b[36m(async_process_image_data pid=5191)\u001b[0m Below this is the 'Peer & Industry Analysis' section, which provides a visual representation of how Intel compares to its peers in terms of various financial metrics.\n",
      "\u001b[36m(async_process_image_data pid=5191)\u001b[0m 2. Describe the image entirely, including all data on all the sides:\n",
      "\u001b[36m(async_process_image_data pid=5191)\u001b[0m The right side of the image displays a scatter plot chart with data points representing different companies. The x-axis is labeled '5-yr Growth Rate(%)', ranging from 5% to 15%. The y-axis does not have a label but appears to represent relative valuations or rankings.\n",
      "\u001b[36m(async_process_image_data pid=5191)\u001b[0m The bottom of the image contains a table with rows for different companies, including Intel (INTC), ASML Holding NV (ASML), Advanced Micro Devices Inc. (AMD), INTC Corp. (INTC), Texas Instruments Inc. (TXN), Applied Materials Inc. (AMAT), Lam Research Corp. (LRCX), Analog Devices Inc. (ADI), and NLAC Corp. (NLAC). The columns in the table provide data on Market Cap ($ in Millions), 5-yr Growth Rate (%), Current FY P/E, Net Margin (%), 1-yr EPS Growth (%), and Argus Rating.\n",
      "\u001b[36m(async_process_image_data pid=5191)\u001b[0m 3. Describe all of the numbers in the image, including the text associated with those numbers and data:\n",
      "\u001b[36m(async_process_image_data pid=5191)\u001b[0m Market Cap ($ in Millions):\n",
      "\u001b[36m(async_process_image_data pid=5191)\u001b[0m ASML: 347,271\n",
      "\u001b[36m(async_process_image_data pid=5191)\u001b[0m AMD: 291,323\n",
      "\u001b[36m(async_process_image_data pid=5191)\u001b[0m INTC: 208,903\n",
      "\u001b[36m(async_process_image_data pid=5191)\u001b[0m TXN: 152,185\n",
      "\u001b[36m(async_process_image_data pid=5191)\u001b[0m AMAT: 143,639\n",
      "\u001b[36m(async_process_image_data pid=5191)\u001b[0m LRCX: 113,634\n",
      "\u001b[36m(async_process_image_data pid=5191)\u001b[0m ADI: 97,829\n",
      "\u001b[36m(async_process_image_data pid=5191)\u001b[0m NLAC: 97,226\n",
      "\u001b[36m(async_process_image_data pid=5191)\u001b[0m 5-yr Growth Rate (%):\n",
      "\u001b[36m(async_process_image_data pid=5191)\u001b[0m ASML: 12.0\n",
      "\u001b[36m(async_process_image_data pid=5191)\u001b[0m AMD: 15.0\n",
      "\u001b[36m(async_process_image_data pid=5191)\u001b[0m INTC: 9.0\n",
      "\u001b[36m(async_process_image_data pid=5191)\u001b[0m TXN: 10.0\n",
      "\u001b[36m(async_process_image_data pid=5191)\u001b[0m AMAT: 11.0\n",
      "\u001b[36m(async_process_image_data pid=5191)\u001b[0m LRCX: 11.0\n",
      "\u001b[36m(async_process_image_data pid=5191)\u001b[0m ADI: 12.0\n",
      "\u001b[36m(async_process_image_data pid=5191)\u001b[0m NLAC: 11.0\n",
      "\u001b[36m(async_process_image_data pid=5191)\u001b[0m Current FY P/E:\n",
      "\u001b[36m(async_process_image_data pid=5191)\u001b[0m ASML: 35.2\n",
      "\u001b[36m(async_process_image_data pid=5191)\u001b[0m AMD: 67.3\n",
      "\u001b[36m(async_process_image_data pid=5191)\u001b[0m INTC: 29.0\n",
      "\u001b[36m(async_process_image_data pid=5191)\u001b[0m TXN: 27.9\n",
      "\u001b[36m(async_process_image_data pid=5191)\u001b[0m AMAT: 19.5\n",
      "\u001b[36m(async_process_image_data pid=5191)\u001b[0m LRCX: 28.3\n",
      "\u001b[36m(async_process_image_data pid=5191)\u001b[0m ADI: 23.2\n",
      "\u001b[36m(async_process_image_data pid=5191)\u001b[0m NLAC: 24.9\n",
      "\u001b[36m(async_process_image_data pid=5191)\u001b[0m Net Margin (%):\n",
      "\u001b[36m(async_process_image_data pid=5191)\u001b[0m ASML: 28.4\n",
      "\u001b[36m(async_process_image_data pid=5191)\u001b[0m AMD: 9\n",
      "\u001b[36m(async_process_image_data pid=5191)\u001b[0m INTC: 3.1\n",
      "\u001b[36m(async_process_image_data pid=5191)\u001b[0m TXN: 37.2\n",
      "\u001b[36m(async_process_image_data pid=5191)\u001b[0m AMAT: 25.9\n",
      "\u001b[36m(async_process_image_data pid=5191)\u001b[0m LRCX: 24.2\n",
      "\u001b[36m(async_process_image_data pid=5191)\u001b[0m ADI: 26.9\n",
      "\u001b[36m(async_process_image_data pid=5191)\u001b[0m NLAC: 28.0\n",
      "\u001b[36m(async_process_image_data pid=5191)\u001b[0m 1-yr EPS Growth (%):\n",
      "\u001b[36m(async_process_image_data pid=5191)\u001b[0m ASML: 5.4\n",
      "\u001b[36m(async_process_image_data pid=5191)\u001b[0m AMD: 51.1\n",
      "\u001b[36m(async_process_image_data pid=5191)\u001b[0m INTC: 53.2\n",
      "\u001b[36m(async_process_image_data pid=5191)\u001b[0m TXN: 20.2\n",
      "\u001b[36m(async_process_image_data pid=5191)\u001b[0m AMAT: 13.3\n",
      "\u001b[36m(async_process_image_data pid=5191)\u001b[0m LRCX: 13.8\n",
      "\u001b[36m(async_process_image_data pid=5191)\u001b[0m ADI: 19.0\n",
      "\u001b[36m(async_process_image_data pid=5191)\u001b[0m NLAC: 13.2\n",
      "\u001b[36m(async_process_image_data pid=5191)\u001b[0m Argus Rating:\n",
      "\u001b[36m(async_process_image_data pid=5191)\u001b[0m ASML: BUY\n",
      "\u001b[36m(async_process_image_data pid=5191)\u001b[0m AMD: BUY\n",
      "\u001b[36m(async_process_image_data pid=5191)\u001b[0m INTC: BUY\n",
      "\u001b[36m(async_process_image_data pid=5191)\u001b[0m TXN: BUY\n",
      "\u001b[36m(async_process_image_data pid=5191)\u001b[0m AMAT: BUY\n",
      "\u001b[36m(async_process_image_data pid=5191)\u001b[0m LRCX: BUY\n",
      "\u001b[36m(async_process_image_data pid=5191)\u001b[0m ADI: BUY\n",
      "\u001b[36m(async_process_image_data pid=5191)\u001b[0m NLAC: BUY\n",
      "\u001b[36m(async_process_image_data pid=5191)\u001b[0m 4. Describe the colors in the image if any:\n",
      "\u001b[36m(async_process_image_data pid=5191)\u001b[0m The image uses a color scheme of burgundy red for the header and title sections, black text, and green bars on the scatter plot chart.\n",
      "\u001b[36m(async_process_image_data pid=5191)\u001b[0m 5. Be completely detailed and data-oriented, do not give a concise description:\n",
      "\u001b[36m(async_process_image_data pid=5191)\u001b[0m This image is an extremely data-rich analyst report covering Intel Corporation's performance, outlook, and competitive positioning within the semiconductor industry. The top section prominently displays the report details, including the company name 'INTEL CORP', the stock ticker\n",
      "\u001b[36m(async_process_image_data pid=5187)\u001b[0m file_path: img/b64_images/Microsoft_rec_page_5.b64, image description (prefiltered with entities extracted): Based on the image, here are the relevant entities I can identify:\n",
      "\u001b[36m(async_process_image_data pid=5187)\u001b[0m - Microsoft Corp (organization)\n",
      "\u001b[36m(async_process_image_data pid=5187)\u001b[0m - Nokia Devices (organization)\n",
      "\u001b[36m(async_process_image_data pid=5187)\u001b[0m - Services (NDSN) (likely an organizational unit)\n",
      "\u001b[36m(async_process_image_data pid=5187)\u001b[0m - Oracle (organization)\n",
      "\u001b[36m(async_process_image_data pid=5187)\u001b[0m - Apple (organization)\n",
      "\u001b[36m(async_process_image_data pid=5187)\u001b[0m - Linux (operating system)\n",
      "\u001b[36m(async_process_image_data pid=5187)\u001b[0m - Amazon Web Services (organization)\n",
      "\u001b[36m(async_process_image_data pid=5187)\u001b[0m - Xbox 360 (product)\n",
      "\u001b[36m(async_process_image_data pid=5187)\u001b[0m - Sony (organization)\n",
      "\u001b[36m(async_process_image_data pid=5187)\u001b[0m - Nintendo (organization)\n",
      "\u001b[36m(async_process_image_data pid=5187)\u001b[0m - Google (organization)\n",
      "\u001b[36m(async_process_image_data pid=5187)\u001b[0m - Yahoo (organization)\n",
      "\u001b[36m(async_process_image_data pid=5187)\u001b[0m - LinkedIn (organization)\n",
      "\u001b[36m(async_process_image_data pid=5187)\u001b[0m - Feb 1, 2024 (date)\n",
      "\u001b[36m(async_process_image_data pid=5187)\u001b[0m - FY24, FY23, FY22, FY21, FY20, FY19 (likely fiscal years)\n",
      "\u001b[36m(async_process_image_data pid=5187)\u001b[0m - July 11, 2023 (date)\n",
      "\u001b[36m(async_process_image_data pid=5187)\u001b[0m - May 15, 2023 - June 16, 2023 (date range)\n",
      "\u001b[36m(async_process_image_data pid=5187)\u001b[0m - U.S. (United States)\n",
      "\u001b[36m(async_process_image_data pid=5187)\u001b[0m - China\n",
      "\u001b[36m(async_process_image_data pid=5187)\u001b[0m - India\n",
      "\u001b[36m(async_process_image_data pid=5187)\u001b[0m I aimed to list out the key named entities like companies, products, locations, and any relevant temporal references mentioned in the text, without revealing any personal names or identifiable details to respect privacy.The image appears to be an excerpt from an analyst report on Microsoft Corporation, created by a company called Argus on February 1, 2024. The layout consists of a header at the top with the Argus logo and the text 'NASDAQ: MSFT MICROSOFT CORP Report created Feb 1, 2024 Page 5 OF 7'.\n",
      "\u001b[36m(async_process_image_data pid=5187)\u001b[0m The main body of the image is formatted as text under the section 'Analyst's Notes ...continued'. This section provides a detailed analysis and commentary on various aspects of Microsoft's business and financial performance.\n",
      "\u001b[36m(async_process_image_data pid=5187)\u001b[0m One of the key points mentioned is regarding the Microsoft/Oracle alliance recognizing that enterprise cloud computing is moving towards a multi-cloud environment, where being deeply integrated is better for customers and a differentiating factor relative to AWS (Amazon Web Services).\n",
      "\u001b[36m(async_process_image_data pid=5187)\u001b[0m The report highlights Microsoft's financial strength, rating it as 'High' on their five-point scale. It provides specific figures, such as Microsoft's total debt standing at $79.2 billion at the end of fiscal 2Q24, of which $29.3 billion was current. The company added an incremental $26 billion to debt in 1Q24 due to the Activision acquisition.\n",
      "\u001b[36m(async_process_image_data pid=5187)\u001b[0m Several numerical data points are mentioned, including:\n",
      "\u001b[36m(async_process_image_data pid=5187)\u001b[0m - $7.5 billion write-off for Nokia Devices and Services (NDS), writing down 80% of the purchase price a little more than a year following the acquisition.\n",
      "\u001b[36m(async_process_image_data pid=5187)\u001b[0m - $450 million charge related to the closure of its retail store locations.\n",
      "\u001b[36m(async_process_image_data pid=5187)\u001b[0m - Microsoft's $4.17 billion fiscal 2Q23 write-off.\n",
      "\u001b[36m(async_process_image_data pid=5187)\u001b[0m - Microsoft's quarterly dividend of $0.75 or $3.00 on an annual basis.\n",
      "\u001b[36m(async_process_image_data pid=5187)\u001b[0m - The forward dividend yield is 0.7%.\n",
      "\u001b[36m(async_process_image_data pid=5187)\u001b[0m - Microsoft repurchased $8.8 billion of its stock in fiscal 1H24.\n",
      "\u001b[36m(async_process_image_data pid=5187)\u001b[0m - Previous buyback amounts: $22.75 billion in FY23, $32.7 billion in FY22, $27.4 billion in FY21, $23 billion in FY20, and $19.5 billion in FY19.\n",
      "\u001b[36m(async_process_image_data pid=5187)\u001b[0m The report also mentions risks faced by Microsoft, including a major hit to its systems' security on July 11, 2023, involving a hack that exposed email servers to U.S. government organizations in China. It states that the extent of the damage is unknown, and both state and non-state cyber attackers were involved.\n",
      "\u001b[36m(async_process_image_data pid=5187)\u001b[0m The report is presented in a text-based format with no charts or tables. The color scheme used is primarily black text on a maroon-colored background.\n",
      "\u001b[36m(async_process_image_data pid=5187)\u001b[0m \u001b[32m [repeated 34x across cluster]\u001b[0m\n",
      "\u001b[36m(async_process_image_data pid=5187)\u001b[0m Named Entities:\u001b[32m [repeated 2x across cluster]\u001b[0m\n",
      "\u001b[36m(async_process_image_data pid=5191)\u001b[0m Custom Entities:\n",
      "\u001b[36m(async_process_image_data pid=5187)\u001b[0m Temporal Entities:\u001b[32m [repeated 2x across cluster]\u001b[0m\n",
      "\u001b[36m(async_process_image_data pid=5191)\u001b[0m json_file_path: pdf_img_json_dir/Intel_rec_page_3.json\n",
      "\u001b[36m(async_process_image_data pid=5187)\u001b[0m json_file_path: pdf_img_json_dir/Microsoft_rec_page_5.json\n"
     ]
    },
    {
     "name": "stderr",
     "output_type": "stream",
     "text": [
      "\u001b[36m(async_process_image_data pid=5187)\u001b[0m [2024-05-28 16:18:46,466] p5187 {500037063.py:58} INFO - Ingesting data into pipeline\u001b[32m [repeated 2x across cluster]\u001b[0m\n",
      "\u001b[36m(async_process_image_data pid=5187)\u001b[0m [2024-05-28 16:18:46,466] p5187 {500037063.py:59} INFO - image desc: 200 OK\u001b[32m [repeated 2x across cluster]\u001b[0m\n",
      "\u001b[36m(async_process_image_data pid=5187)\u001b[0m [2024-05-28 16:18:46,428] p5187 {credentials.py:1075} INFO - Found credentials from IAM Role: BaseNotebookInstanceEc2InstanceRole\u001b[32m [repeated 2x across cluster]\u001b[0m\n",
      "\u001b[36m(async_process_image_data pid=5191)\u001b[0m [2024-05-28 16:18:44,681] p5191 {500037063.py:14} INFO - going to convert img/b64_images/Amazon_rec_page_2.b64 into embeddings\u001b[32m [repeated 2x across cluster]\u001b[0m\n"
     ]
    },
    {
     "name": "stdout",
     "output_type": "stream",
     "text": [
      "\u001b[36m(async_process_image_data pid=5190)\u001b[0m - Argus (organization)\n",
      "\u001b[36m(async_process_image_data pid=5190)\u001b[0m - Apple Inc. (organization)\n",
      "\u001b[36m(async_process_image_data pid=5190)\u001b[0m - U.S. Department of Justice (DoJ) (organization)\n",
      "\u001b[36m(async_process_image_data pid=5190)\u001b[0m - Alphabet (organization)\n",
      "\u001b[36m(async_process_image_data pid=5190)\u001b[0m - Gemini (likely referring to an AI language model)\n",
      "\u001b[36m(async_process_image_data pid=5190)\u001b[0m - March 22, 2024\n",
      "\u001b[36m(async_process_image_data pid=5190)\u001b[0m - 12-month\n",
      "\u001b[36m(async_process_image_data pid=5190)\u001b[0m - 1 Year EPS Growth Forecast\n",
      "\u001b[36m(async_process_image_data pid=5190)\u001b[0m - 3 Year EPS Growth Forecast\n",
      "\u001b[36m(async_process_image_data pid=5190)\u001b[0m - Smartphones\n",
      "\u001b[36m(async_process_image_data pid=5190)\u001b[0m - Tablets\n",
      "\u001b[36m(async_process_image_data pid=5190)\u001b[0m - PCs\n",
      "\u001b[36m(async_process_image_data pid=5190)\u001b[0m - Software\n",
      "\u001b[36m(async_process_image_data pid=5190)\u001b[0m - Peripherals\n",
      "\u001b[36m(async_process_image_data pid=5190)\u001b[0m - Mac desktop PCs\n",
      "\u001b[36m(async_process_image_data pid=5190)\u001b[0m - Mobile PCs\n",
      "\u001b[36m(async_process_image_data pid=5190)\u001b[0m - iPhone\n",
      "\u001b[36m(async_process_image_data pid=5190)\u001b[0m - iPad\n",
      "\u001b[36m(async_process_image_data pid=5190)\u001b[0m - Apple Watch\n",
      "\u001b[36m(async_process_image_data pid=5190)\u001b[0m - AirPods\n",
      "\u001b[36m(async_process_image_data pid=5190)\u001b[0m - Beats headphones\n",
      "\u001b[36m(async_process_image_data pid=5190)\u001b[0m - Apple TV\n",
      "\u001b[36m(async_process_image_data pid=5190)\u001b[0m - App Store\n",
      "\u001b[36m(async_process_image_data pid=5190)\u001b[0m - iTunes\n",
      "\u001b[36m(async_process_image_data pid=5190)\u001b[0m - iCloud\n",
      "\u001b[36m(async_process_image_data pid=5190)\u001b[0m - Apple TV+\n",
      "\u001b[36m(async_process_image_data pid=5190)\u001b[0m - Apple Arcade\n",
      "\u001b[36m(async_process_image_data pid=5190)\u001b[0m - Apple Music\n",
      "\u001b[36m(async_process_image_data pid=5190)\u001b[0m - Apple Pay\n",
      "\u001b[36m(async_process_image_data pid=5190)\u001b[0m - Worldwide\n",
      "\u001b[36m(async_process_image_data pid=5190)\u001b[0m I have aimed to provide an accurate and comprehensive list of entities present in the image without revealing any personal names or identifiable details to respect privacy.The image appears to be an analyst report on Apple Inc. (AAPL) created by Argus Research Company on March 22, 2024. The report is divided into several sections and contains various visual elements such as tables, charts, and ratings.\n",
      "\u001b[36m(async_process_image_data pid=5190)\u001b[0m 1. Header Section:\n",
      "\u001b[36m(async_process_image_data pid=5190)\u001b[0m The header section displays the NASDAQ ticker symbol 'AAPL' for Apple Inc. and mentions that the report was created on March 22, 2024, spanning 6 pages.\n",
      "\u001b[36m(async_process_image_data pid=5190)\u001b[0m 2. Company Overview:\n",
      "\u001b[36m(async_process_image_data pid=5190)\u001b[0m This section provides an overview of Apple's business, stating that it manufactures smartphones, tablets, PCs, software, and peripherals for a worldwide customer base. It lists Apple's product offerings, including Mac desktop and mobile PCs, iPhone, iPad, Apple Watch, AirPods, Beats headphones, and Apple TV. It also mentions Apple's services, such as App Store, iTunes, iCloud, Apple TV+, Apple Arcade, Apple Music, and Apple Pay.\n",
      "\u001b[36m(async_process_image_data pid=5190)\u001b[0m 3. Analyst's Notes:\n",
      "\u001b[36m(async_process_image_data pid=5190)\u001b[0m This section contains notes from analysts Jim Kelleher, CFA, and Henry Engels. It is dated March 22, 2024, and provides an 'ARGUS RATING: BUY' for Apple.\n",
      "\u001b[36m(async_process_image_data pid=5190)\u001b[0m The notes mention several key points:\n",
      "\u001b[36m(async_process_image_data pid=5190)\u001b[0m - Legal battles and an AI tie-up\n",
      "\u001b[36m(async_process_image_data pid=5190)\u001b[0m - The U.S. Department of Justice (DoJ) filed a lawsuit against Apple, accusing the company of monopolizing the smartphone market\n",
      "\u001b[36m(async_process_image_data pid=5190)\u001b[0m - Apple paid $490 million to settle a class-action lawsuit alleging the CEO misled investors about failing iPhone sales in China\n",
      "\u001b[36m(async_process_image_data pid=5190)\u001b[0m - Apple is in talks with Alphabet to license Google's Gemini large-language model for use on iPhones and other devices\n",
      "\u001b[36m(async_process_image_data pid=5190)\u001b[0m - Apple is lagging the market in 2024, but unlike past years of underperformance, Apple is on track for EPS growth over the next two years\n",
      "\u001b[36m(async_process_image_data pid=5190)\u001b[0m - Apple's perpetually refreshed roster of desirable products provides a unique advantage over industry rivals\n",
      "\u001b[36m(async_process_image_data pid=5190)\u001b[0m 4. Investment Thesis:\n",
      "\u001b[36m(async_process_image_data pid=5190)\u001b[0m This section states that the BUY-rated Apple Inc. (NGS: AAPL) ticked down less than 1% in the down market on 3/22/24 following confirmation of a rumored lawsuit being filed by the U.S. Department of Justice (DoJ), joined by 16 attorneys general. The lawsuit alleges that Apple engaged in monopolistic behavior to dominate the smartphone market in the U.S. The outcome of the suit, which could take at least a year, may determine if Apple can successfully defend its closed eco-system, or will need to open it broadly. Currently, the analysts do not expect the outcome of the DoJ action to dissuade the multitude of satisfied Apple device owners to shift to other operating systems and devices.\n",
      "\u001b[36m(async_process_image_data pid=5190)\u001b[0m 5. Market Data Chart:\n",
      "\u001b[36m(async_process_image_data pid=5190)\u001b[0m This section includes a line chart displaying Apple's stock price over a specific time period. The x-axis represents the trading dates, while the y-axis shows the stock price range. The chart includes a 52-Week line ($155.98 to $199.62), a 5-Year line, and a closing price at $172.62 on 3/15.\n",
      "\u001b[36m(async_process_image_data pid=5190)\u001b[0m 6. Rating Section:\n",
      "\u001b[36m(async_process_image_data pid=5190)\u001b[0m This section displays a 'BUY HOLD SELL' rating scale for Apple.\n",
      "\u001b[36m(async_process_image_data pid=5190)\u001b[0m 7. EPS Table:\n",
      "\u001b[36m(async_process_image_data pid=5190)\u001b[0m This table presents Apple's Quarterly and Annual Earnings Per Share (EPS) data, along with Revenue figures (in $ Billion) for the corresponding periods.\n",
      "\u001b[36m(async_process_image_data pid=5190)\u001b[0m 8. Key Statistics:\n",
      "\u001b[36m(async_process_image_data pid=5190)\u001b[0m This section provides key statistics for Apple, including:\n",
      "\u001b[36m(async_process_image_data pid=5190)\u001b[0m - Market Overview: Price ($171.37), Target Price ($229.04), 52-Week Price Range ($155.98 to $199.62), Shares Outstanding (15.44 Billion), and Dividend ($0.96)\n",
      "\u001b[36m(async_process_image_data pid=5190)\u001b[0m - Sector Overview: Sector (Technology), OVER WEIGHT\n",
      "\u001b[36m(async_process_image_data pid=5190)\u001b[0m - Financial Strength: Financial Strength Rating (HIGH), Debt/Capital Ratio (66.1%), Return on Equity (144.1%), Net Margin (25.2%), Payout Ratio (0.14), Current Ratio (0.93), Revenue ($385.71 Billion), After-Tax Income ($100.91 Billion)\n",
      "\u001b[36m(async_process_image_data pid=5190)\u001b[0m - Valuation: Current FY P/E (24.84), Prior FY P/E (27.96), Price/Sales (6.86), Price/Book (35.78), Book Value/Share ($4.79), Market Capitalization ($2.65 Trillion)\n",
      "\u001b[36m(async_process_image_data pid=5190)\u001b[0m - Forecasted Growth: 1 Year EPS\n",
      "\u001b[36m(async_process_image_data pid=5190)\u001b[0m file_path: img/b64_images/APPLE_rec_page_1.b64, image description (prefiltered with entities extracted): Based on the image, here is a list of entities present:\n",
      "\u001b[36m(async_process_image_data pid=5190)\u001b[0m Product Entities:\n",
      "\u001b[36m(async_process_image_data pid=5190)\u001b[0m Location Entities:\u001b[32m [repeated 2x across cluster]\u001b[0m\n",
      "\u001b[36m(async_process_image_data pid=5186)\u001b[0m file_path: img/b64_images/Boeing_rec_page_2.b64, image description (prefiltered with entities extracted): Based on the image, here are the entities I can identify:\n",
      "\u001b[36m(async_process_image_data pid=5186)\u001b[0m - Boeing Co (Organization)\n",
      "\u001b[36m(async_process_image_data pid=5186)\u001b[0m - U.S. (Location)\n",
      "\u001b[36m(async_process_image_data pid=5186)\u001b[0m - Alaskan Air (Organization)\n",
      "\u001b[36m(async_process_image_data pid=5186)\u001b[0m - United Airlines (Organization)\n",
      "\u001b[36m(async_process_image_data pid=5186)\u001b[0m - Qatar Defence (Organization)\n",
      "\u001b[36m(async_process_image_data pid=5186)\u001b[0m - Brian West (Person)\n",
      "\u001b[36m(async_process_image_data pid=5186)\u001b[0m Product Entities:\n",
      "\u001b[36m(async_process_image_data pid=5186)\u001b[0m - MAX airplane\n",
      "\u001b[36m(async_process_image_data pid=5186)\u001b[0m - 737 MAX 9 planes\n",
      "\u001b[36m(async_process_image_data pid=5186)\u001b[0m - F-18 Hornet\n",
      "\u001b[36m(async_process_image_data pid=5186)\u001b[0m - AH-64 Apache helicopter\n",
      "\u001b[36m(async_process_image_data pid=5186)\u001b[0m - P-8 Poseidon aircraft\n",
      "\u001b[36m(async_process_image_data pid=5186)\u001b[0m - KC-46 Tanker\n",
      "\u001b[36m(async_process_image_data pid=5186)\u001b[0m - Feb 5, 2024 (Date)\n",
      "\u001b[36m(async_process_image_data pid=5186)\u001b[0m - 4Q23 (Likely referring to Q4 2023)\n",
      "\u001b[36m(async_process_image_data pid=5186)\u001b[0m - 2025-2026 financial (Year range)\n",
      "\u001b[36m(async_process_image_data pid=5186)\u001b[0m The image also contains financial metrics and analysis related to Boeing's earnings, revenue, operating margins, and cash flow, but these do not seem to fall into the specified entity types provided.The image appears to be an analyst report on Boeing Co. from Argus Research Company. The layout consists of a header section with the Argus logo and the report title 'BOEING CO' along with the stock exchange ticker 'NYSE: BA' and details like the report creation date and page number (2 of 5).\n",
      "\u001b[36m(async_process_image_data pid=5186)\u001b[0m The main content is divided into sections with subheadings:\n",
      "\u001b[36m(async_process_image_data pid=5186)\u001b[0m Analyst's Notes (continued):\n",
      "\u001b[36m(async_process_image_data pid=5186)\u001b[0m This section provides an overview of recent events related to Boeing, including issues with the MAX airplane, a rejected aircraft engine, pilot incidents, financial performance highlights from the latest quarter (Q4), and comments from Boeing's CFO on focus areas for 2024.\n",
      "\u001b[36m(async_process_image_data pid=5186)\u001b[0m Earnings & Growth Analysis:\n",
      "\u001b[36m(async_process_image_data pid=5186)\u001b[0m This section describes Boeing's business segments - Commercial Airplanes (split into sub-segments) and Defense, Space and Security. It provides revenue growth figures for Q4 2022 and full-year 2023 forecasts for aircraft deliveries.\n",
      "\u001b[36m(async_process_image_data pid=5186)\u001b[0m Growth & Valuation Analysis:\n",
      "\u001b[36m(async_process_image_data pid=5186)\u001b[0m This is a tabular section displaying Boeing's financial metrics for 2019-2023, including Revenue, COGS, Gross Profit, SG&A, R&D, Operating Income, Interest Expense, Pretax Income, Income Taxes, Tax Rate (%), Net Income, Diluted Shares Outstanding, EPS, and Dividend.\n",
      "\u001b[36m(async_process_image_data pid=5186)\u001b[0m Financial & Risk Analysis:\n",
      "\u001b[36m(async_process_image_data pid=5186)\u001b[0m This section presents key financial strength indicators like Cash, Working Capital, Current Ratio, Total Debt/Equity Ratio, and Total Debt/Equity Ratio (%). It also shows profitability ratios such as Gross Profit Margin, Operating Margin, Net Margin, Return On Assets, and Return On Equity.\n",
      "\u001b[36m(async_process_image_data pid=5186)\u001b[0m Risk Analysis:\n",
      "\u001b[36m(async_process_image_data pid=5186)\u001b[0m This subsection covers liquidity metrics like Cash Cycle (days), Cash Flow/Cap Ex, Oper. Income/Int. Exp. (ratio), and Payout Ratio.\n",
      "\u001b[36m(async_process_image_data pid=5186)\u001b[0m GROWTH RATES (%):\n",
      "\u001b[36m(async_process_image_data pid=5186)\u001b[0m This tabular section shows the year-over-year growth rates for Revenue, Operating Income, Net Income, EPS, and Dividend. It also displays the Sustainable Growth Rate.\n",
      "\u001b[36m(async_process_image_data pid=5186)\u001b[0m VALUATION ANALYSIS:\n",
      "\u001b[36m(async_process_image_data pid=5186)\u001b[0m This provides the stock's Price: High, Price: Low, Price/Sales: High-Low, P/E: High-Low, and Price/Cash Flow: High-Low figures for the period covered.\n",
      "\u001b[36m(async_process_image_data pid=5186)\u001b[0m The color scheme is primarily red and black text on a white background. Some numerical data is highlighted in bold.\n",
      "\u001b[36m(async_process_image_data pid=5186)\u001b[0m Please note that I cannot identify any individuals depicted in this image to protect privacy.\n",
      "\u001b[36m(async_process_image_data pid=5190)\u001b[0m - Google (organization)\n",
      "\u001b[36m(async_process_image_data pid=5186)\u001b[0m \u001b[32m [repeated 28x across cluster]\u001b[0m\n",
      "\u001b[36m(async_process_image_data pid=5186)\u001b[0m Named Entities:\u001b[32m [repeated 2x across cluster]\u001b[0m\n",
      "\u001b[36m(async_process_image_data pid=5186)\u001b[0m Temporal Entities:\u001b[32m [repeated 2x across cluster]\u001b[0m\n",
      "\u001b[36m(async_process_image_data pid=5190)\u001b[0m json_file_path: pdf_img_json_dir/APPLE_rec_page_1.json\n",
      "\u001b[36m(async_process_image_data pid=5186)\u001b[0m json_file_path: pdf_img_json_dir/Boeing_rec_page_2.json\n"
     ]
    },
    {
     "name": "stderr",
     "output_type": "stream",
     "text": [
      "\u001b[36m(async_process_image_data pid=5186)\u001b[0m [2024-05-28 16:19:23,009] p5186 {500037063.py:58} INFO - Ingesting data into pipeline\u001b[32m [repeated 2x across cluster]\u001b[0m\n",
      "\u001b[36m(async_process_image_data pid=5186)\u001b[0m [2024-05-28 16:19:23,009] p5186 {500037063.py:59} INFO - image desc: 200 OK\u001b[32m [repeated 2x across cluster]\u001b[0m\n",
      "\u001b[36m(async_process_image_data pid=5186)\u001b[0m [2024-05-28 16:19:22,968] p5186 {credentials.py:1075} INFO - Found credentials from IAM Role: BaseNotebookInstanceEc2InstanceRole\u001b[32m [repeated 2x across cluster]\u001b[0m\n",
      "\u001b[36m(async_process_image_data pid=5190)\u001b[0m [2024-05-28 16:18:50,434] p5190 {500037063.py:14} INFO - going to convert img/b64_images/Microsoft_rec_page_3.b64 into embeddings\u001b[32m [repeated 2x across cluster]\u001b[0m\n"
     ]
    },
    {
     "name": "stdout",
     "output_type": "stream",
     "text": [
      "\u001b[36m(async_process_image_data pid=5191)\u001b[0m file_path: img/b64_images/Amazon_rec_page_2.b64, image description (prefiltered with entities extracted): Based on the image, here are the relevant entities I can identify:\n",
      "\u001b[36m(async_process_image_data pid=5191)\u001b[0m - Amazon.com Inc.\n",
      "\u001b[36m(async_process_image_data pid=5191)\u001b[0m - AWS (Amazon Web Services)\n",
      "\u001b[36m(async_process_image_data pid=5191)\u001b[0m - Andy Jassy (Amazon CEO)\n",
      "\u001b[36m(async_process_image_data pid=5191)\u001b[0m Organizations:\n",
      "\u001b[36m(async_process_image_data pid=5191)\u001b[0m - Amazon\n",
      "\u001b[36m(async_process_image_data pid=5191)\u001b[0m - Argus (the company that created this report)\n",
      "\u001b[36m(async_process_image_data pid=5191)\u001b[0m Financial Metrics:\n",
      "\u001b[36m(async_process_image_data pid=5191)\u001b[0m - Revenue\n",
      "\u001b[36m(async_process_image_data pid=5191)\u001b[0m - Operating Income\n",
      "\u001b[36m(async_process_image_data pid=5191)\u001b[0m - Net Income\n",
      "\u001b[36m(async_process_image_data pid=5191)\u001b[0m - GAAP EPS\n",
      "\u001b[36m(async_process_image_data pid=5191)\u001b[0m - Cash Flow from Operations\n",
      "\u001b[36m(async_process_image_data pid=5191)\u001b[0m Time Periods:\n",
      "\u001b[36m(async_process_image_data pid=5191)\u001b[0m - 2024 (year-to-date)\n",
      "\u001b[36m(async_process_image_data pid=5191)\u001b[0m - 2023\n",
      "\u001b[36m(async_process_image_data pid=5191)\u001b[0m - 2022\n",
      "\u001b[36m(async_process_image_data pid=5191)\u001b[0m - 2021\n",
      "\u001b[36m(async_process_image_data pid=5191)\u001b[0m - 2020\n",
      "\u001b[36m(async_process_image_data pid=5191)\u001b[0m - 2019\n",
      "\u001b[36m(async_process_image_data pid=5191)\u001b[0m - 2018\n",
      "\u001b[36m(async_process_image_data pid=5191)\u001b[0m Product/Services:\n",
      "\u001b[36m(async_process_image_data pid=5191)\u001b[0m - AWS (Amazon Web Services)\n",
      "\u001b[36m(async_process_image_data pid=5191)\u001b[0m - Prime (Amazon's subscription service)\n",
      "\u001b[36m(async_process_image_data pid=5191)\u001b[0m I aimed to accurately list out the key entities present without revealing any personal identifiable details, as per your instructions. Please let me know if I missed any major entities from this financial analysis report on Amazon.The image appears to be an analyst report on Amazon.com Inc. (AMZN) created by a company called Argus. The overall layout has a burgundy header with the Argus logo and NASDAQ: AMZN in white text. Below the header is a section titled 'Analyst's Notes' which contains detailed commentary on Amazon's business performance and analyst opinions.\n",
      "\u001b[36m(async_process_image_data pid=5191)\u001b[0m In the Analyst's Notes section, there are several paragraphs discussing various aspects of Amazon's operations, including its generative AI capabilities through AWS, the company's cloud momentum, leadership in Infrastructure-as-a-Service and other cloud services, the burgeoning AI-as-a-service market, the company's retail business and the impact of third-party merchants, Amazon's fulfillment network and Prime customer base, streaming services, and growth trajectory compared to peers. \n",
      "\u001b[36m(async_process_image_data pid=5191)\u001b[0m There are also specific data points mentioned, such as:\n",
      "\u001b[36m(async_process_image_data pid=5191)\u001b[0m - AWS dropped 43% but inched up 2% in 2021, while peers rose 21%\n",
      "\u001b[36m(async_process_image_data pid=5191)\u001b[0m - AWS advanced 76% in 2020, while peers surged 89%\n",
      "\u001b[36m(async_process_image_data pid=5191)\u001b[0m - Amazon posted revenue of $149.2 billion, up 14% year-over-year\n",
      "\u001b[36m(async_process_image_data pid=5191)\u001b[0m - Sales were also up 19% sequentially\n",
      "\u001b[36m(async_process_image_data pid=5191)\u001b[0m - Revenue exceeded management's guidance range by more than $3 billion\n",
      "\u001b[36m(async_process_image_data pid=5191)\u001b[0m - Amazon posted GAAP EPS of $1.00 per diluted share for 4Q23, compared with $0.03 a year earlier\n",
      "\u001b[36m(async_process_image_data pid=5191)\u001b[0m - The consensus GAAP EPS estimate was $0.80\n",
      "\u001b[36m(async_process_image_data pid=5191)\u001b[0m Below the Analyst's Notes is a section titled 'Growth & Valuation Analysis' which contains a table with financial data for Amazon from 2018 to 2022, including revenue, COGS, gross profit, SG&A, R&D, operating income, interest expense, pretax income, income taxes, tax rate, net income, diluted shares outstanding, EPS, dividend, and growth rates for revenue, operating income, net income, EPS, and dividend. The table also includes valuation metrics such as sustainable growth rate, P/E high-low, price/sales high-low, and price/cash flow high-low.\n",
      "\u001b[36m(async_process_image_data pid=5191)\u001b[0m On the right side of the image, there is a section titled 'Financial & Risk Analysis' which provides data on Amazon's financial strength, including cash, working capital, current ratio, LT debt/equity ratio, and total debt/equity ratio. It also includes profitability ratios such as gross profit margin, operating margin, net margin, return on assets, and return on equity. Additionally, there is a risk analysis section with data on cash cycle, cash flow/cap ex, operating income/int. exp. ratio, and payout ratio.\n",
      "\u001b[36m(async_process_image_data pid=5191)\u001b[0m The image is primarily in black and burgundy text, with some numerical data highlighted in bold font. The background is white.\n",
      "\u001b[36m(async_process_image_data pid=5191)\u001b[0m Overall, the image provides a comprehensive overview of Amazon's financial performance, valuation metrics, and risk analysis, presented in a structured format with tables and commentary from analysts.\n",
      "\u001b[36m(async_process_image_data pid=5190)\u001b[0m - Organizations: Microsoft Corp, Oracle Corp, Adobe Inc, Salesforce Inc, SAP SE, Intuit Inc, Uber Technologies Inc, Palo Alto Networks Inc\n",
      "\u001b[36m(async_process_image_data pid=5190)\u001b[0m - Person Name: Sam Altman (mentioned in the text)\n",
      "\u001b[36m(async_process_image_data pid=5190)\u001b[0m - Dates: Feb 1, 2024, December 27, 2023, November 17, November 2023\n",
      "\u001b[36m(async_process_image_data pid=5190)\u001b[0m - OpenAI (mentioned as a research division or technology)\n",
      "\u001b[36m(async_process_image_data pid=5190)\u001b[0m - ChatGPT (mentioned as a 'ChatGPT' application)\n",
      "\u001b[36m(async_process_image_data pid=5190)\u001b[0m - AWS (mentioned as a cloud market leader)\n",
      "\u001b[36m(async_process_image_data pid=5190)\u001b[0m Location Entities:\n",
      "\u001b[36m(async_process_image_data pid=5190)\u001b[0m - UK (mentioned in relation to regulatory investigations)\n",
      "\u001b[36m(async_process_image_data pid=5190)\u001b[0m - U.S. (mentioned in relation to backlash against tech companies)\n",
      "\u001b[36m(async_process_image_data pid=5190)\u001b[0m The image does not appear to contain any specific custom entities related to a particular application domain. It discusses various technology companies, their financial metrics, and some events or developments within the tech industry.The image appears to be an analyst report on Microsoft Corporation from a company called Argus Research. The layout is in a tabular format, with various sections and data presented.\n",
      "\u001b[36m(async_process_image_data pid=5190)\u001b[0m Top Section: The top section contains the company name 'MICROSOFT CORP', the NASDAQ ticker symbol 'MSFT', and mentions that this is a report created on Feb 1, 2024, covering pages 3 of 7.\n",
      "\u001b[36m(async_process_image_data pid=5190)\u001b[0m Analyst's Notes Section: This section contains detailed analyst commentary on Microsoft's recent developments and challenges. It discusses Microsoft's antitrust scrutiny following the Activision acquisition, regulatory investigations into cloud services offered by AWS and Microsoft in the UK, the OpenAI saga involving the firing of CEO Sam Altman, speculation around the reasons behind it, the cryptic statement issued by OpenAI's board, and ongoing copyright infringement lawsuits against Microsoft and OpenAI.\n",
      "\u001b[36m(async_process_image_data pid=5190)\u001b[0m Peer & Industry Analysis Section: This section explains the methodology used in the report for analyzing Microsoft's performance relative to its industry peers, the broader sector, and the market as a whole. It describes the use of scatter plots to visualize a company's position based on two key characteristics: long-term growth and value.\n",
      "\u001b[36m(async_process_image_data pid=5190)\u001b[0m The scatter plot is divided into four quadrants, with companies in the lower left-hand corner representing lower growth and value, while those in the upper right-hand corner represent higher growth and value. The report uses this tool to help investors understand how MSFT might fit into or modify a diversified portfolio.\n",
      "\u001b[36m(async_process_image_data pid=5190)\u001b[0m Data Table: The main data table presents various financial metrics for Microsoft and its peers, including:\n",
      "\u001b[36m(async_process_image_data pid=5190)\u001b[0m - Ticker symbols: MSFT, ORCL, ADBE, CRM, SAP, INTU, UBER, PANW\n",
      "\u001b[36m(async_process_image_data pid=5190)\u001b[0m - Company names: Microsoft Corporation, Oracle Corp., Adobe Inc, Salesforce Inc, SAP SE, Intuit Inc, Uber Technologies Inc, Palo Alto Networks Inc\n",
      "\u001b[36m(async_process_image_data pid=5190)\u001b[0m - Market Cap ($ in Millions): 2,054,193 for MSFT\n",
      "\u001b[36m(async_process_image_data pid=5190)\u001b[0m - 5-yr Growth Rate (%): 11.0 for MSFT\n",
      "\u001b[36m(async_process_image_data pid=5190)\u001b[0m - Current FY P/E: 34.0 for MSFT \n",
      "\u001b[36m(async_process_image_data pid=5190)\u001b[0m - Net Margin (%): 36.3 for MSFT\n",
      "\u001b[36m(async_process_image_data pid=5190)\u001b[0m - 1-yr EPS Growth (%): 11.9 for MSFT\n",
      "\u001b[36m(async_process_image_data pid=5190)\u001b[0m - Argus Rating: BUY for MSFT\n",
      "\u001b[36m(async_process_image_data pid=5190)\u001b[0m - Other metrics like P/E vs Market, Price/Sales vs Market, Price/Book vs Market, PEG vs Market, 5 Year Growth vs Market, Debt/Capital vs Market are shown with colored bars comparing MSFT to its sector and the broader market.\n",
      "\u001b[36m(async_process_image_data pid=5190)\u001b[0m The color scheme used in the data table includes shades of green indicating higher growth/value and red indicating lower growth/value relative to the sector or market.\n",
      "\u001b[36m(async_process_image_data pid=5190)\u001b[0m Please let me know if you need any clarification or have additional instructions regarding the description of this image.\n",
      "\u001b[36m(async_process_image_data pid=5190)\u001b[0m file_path: img/b64_images/Microsoft_rec_page_3.b64, image description (prefiltered with entities extracted): Based on the image, here are the entities I can identify:\n",
      "\u001b[36m(async_process_image_data pid=5190)\u001b[0m Product Entities:\n",
      "\u001b[36m(async_process_image_data pid=5190)\u001b[0m \u001b[32m [repeated 25x across cluster]\u001b[0m\n",
      "\u001b[36m(async_process_image_data pid=5190)\u001b[0m Named Entities:\u001b[32m [repeated 2x across cluster]\u001b[0m\n",
      "\u001b[36m(async_process_image_data pid=5190)\u001b[0m Temporal Entities:\n",
      "\u001b[36m(async_process_image_data pid=5191)\u001b[0m json_file_path: pdf_img_json_dir/Amazon_rec_page_2.json\n",
      "\u001b[36m(async_process_image_data pid=5190)\u001b[0m json_file_path: pdf_img_json_dir/Microsoft_rec_page_3.json\n"
     ]
    },
    {
     "name": "stderr",
     "output_type": "stream",
     "text": [
      "\u001b[36m(async_process_image_data pid=5191)\u001b[0m [2024-05-28 16:19:24,599] p5191 {500037063.py:58} INFO - Ingesting data into pipeline\n",
      "\u001b[36m(async_process_image_data pid=5191)\u001b[0m [2024-05-28 16:19:24,599] p5191 {500037063.py:59} INFO - image desc: 200 OK\n",
      "\u001b[36m(async_process_image_data pid=5190)\u001b[0m [2024-05-28 16:19:39,547] p5190 {credentials.py:1075} INFO - Found credentials from IAM Role: BaseNotebookInstanceEc2InstanceRole\u001b[32m [repeated 2x across cluster]\u001b[0m\n",
      "\u001b[36m(async_process_image_data pid=5191)\u001b[0m [2024-05-28 16:19:24,607] p5191 {500037063.py:14} INFO - going to convert img/b64_images/AMD_rec_page_6.b64 into embeddings\u001b[32m [repeated 2x across cluster]\u001b[0m\n",
      "\u001b[36m(async_process_image_data pid=5190)\u001b[0m [2024-05-28 16:19:39,587] p5190 {500037063.py:58} INFO - Ingesting data into pipeline\n",
      "\u001b[36m(async_process_image_data pid=5190)\u001b[0m [2024-05-28 16:19:39,588] p5190 {500037063.py:59} INFO - image desc: 200 OK\n"
     ]
    },
    {
     "name": "stdout",
     "output_type": "stream",
     "text": [
      "\u001b[36m(async_process_image_data pid=5187)\u001b[0m file_path: img/b64_images/tesla_rec_page_4.b64, image description (prefiltered with entities extracted): Based on the image, here is a list of relevant entities I can identify:\n",
      "\u001b[36m(async_process_image_data pid=5187)\u001b[0m - Tesla Inc. (Organization)\n",
      "\u001b[36m(async_process_image_data pid=5187)\u001b[0m - Elon Musk (Person name)\n",
      "\u001b[36m(async_process_image_data pid=5187)\u001b[0m - GigaFactory No. 2 (Location)\n",
      "\u001b[36m(async_process_image_data pid=5187)\u001b[0m - Buffalo, New York (Location)\n",
      "\u001b[36m(async_process_image_data pid=5187)\u001b[0m - SpaceX (Organization)\n",
      "\u001b[36m(async_process_image_data pid=5187)\u001b[0m - SolarCity (Organization)\n",
      "\u001b[36m(async_process_image_data pid=5187)\u001b[0m Temporal Entities:\n",
      "\u001b[36m(async_process_image_data pid=5187)\u001b[0m - 2024 (Year)\n",
      "\u001b[36m(async_process_image_data pid=5187)\u001b[0m - 2025 (Year)\n",
      "\u001b[36m(async_process_image_data pid=5187)\u001b[0m - 4Q23 (Quarter and Year)\n",
      "\u001b[36m(async_process_image_data pid=5187)\u001b[0m - June 29, 2010 (Date)\n",
      "\u001b[36m(async_process_image_data pid=5187)\u001b[0m Other Entities:\n",
      "\u001b[36m(async_process_image_data pid=5187)\u001b[0m - NASDAQ: TSLA (Stock ticker symbol)\n",
      "\u001b[36m(async_process_image_data pid=5187)\u001b[0m - CEO (Occupation/Position)\n",
      "\u001b[36m(async_process_image_data pid=5187)\u001b[0m - EPS forecast (Financial term)\n",
      "\u001b[36m(async_process_image_data pid=5187)\u001b[0m - debt/cap ratio (Financial term)\n",
      "\u001b[36m(async_process_image_data pid=5187)\u001b[0m - buybacks (Financial term)\n",
      "\u001b[36m(async_process_image_data pid=5187)\u001b[0m - electric vehicles (Product category)\n",
      "\u001b[36m(async_process_image_data pid=5187)\u001b[0m I have endeavored to identify the key entities present in the text portion of the image without revealing any personal identities or making assumptions beyond what is stated in the given information.The image appears to be a research report or analyst report on Tesla Inc. (NASDAQ: TSLA) from a company called Argus Research. Here is a detailed breakdown of the various elements in the image:\n",
      "\u001b[36m(async_process_image_data pid=5187)\u001b[0m 1. Header section:\n",
      "\u001b[36m(async_process_image_data pid=5187)\u001b[0m - The header displays the Argus logo, company name 'ARGUS', and the stock ticker 'NASDAQ: TSLA' for Tesla Inc.\n",
      "\u001b[36m(async_process_image_data pid=5187)\u001b[0m - The title 'TESLA INC.' is prominently displayed.\n",
      "\u001b[36m(async_process_image_data pid=5187)\u001b[0m - It mentions 'Report created Jan 26, 2024 Page 4 OF 5', indicating this is page 4 of a 5-page report, dated January 26, 2024.\n",
      "\u001b[36m(async_process_image_data pid=5187)\u001b[0m 2. 'Analyst's Notes' section:\n",
      "\u001b[36m(async_process_image_data pid=5187)\u001b[0m - This section contains a detailed analysis and commentary on Tesla from the research analysts.\n",
      "\u001b[36m(async_process_image_data pid=5187)\u001b[0m - Key data points mentioned include:\n",
      "\u001b[36m(async_process_image_data pid=5187)\u001b[0m     - Management believed it would reduce battery pack costs by more than 30%.\n",
      "\u001b[36m(async_process_image_data pid=5187)\u001b[0m     - Gigafactory No. 2 is located in Buffalo, New York, focused on solar energy. Gigafactory No. 4 is in Berlin.\n",
      "\u001b[36m(async_process_image_data pid=5187)\u001b[0m     - The company's credit rating from agencies like Moody's, Standard & Poor's, and debt levels as of different quarters (Q4 2022 debt of $5.23B).\n",
      "\u001b[36m(async_process_image_data pid=5187)\u001b[0m     - The debt/cap ratio was 7.6% at the end of 4Q23.\n",
      "\u001b[36m(async_process_image_data pid=5187)\u001b[0m     - Cash and cash equivalents totaled $29.09B at the end of 4Q23.\n",
      "\u001b[36m(async_process_image_data pid=5187)\u001b[0m     - Net cash provided by operating activities was $4.37B in 4Q23.\n",
      "\u001b[36m(async_process_image_data pid=5187)\u001b[0m     - The company does not pay a dividend.\n",
      "\u001b[36m(async_process_image_data pid=5187)\u001b[0m     - Elon Musk has served as CEO since 2008 and is also involved with SpaceX and SolarCity.\n",
      "\u001b[36m(async_process_image_data pid=5187)\u001b[0m 3. Valuation section:\n",
      "\u001b[36m(async_process_image_data pid=5187)\u001b[0m - This section discusses the stock price valuation.\n",
      "\u001b[36m(async_process_image_data pid=5187)\u001b[0m - Key data points:\n",
      "\u001b[36m(async_process_image_data pid=5187)\u001b[0m     - The shares have traded between $152.37 and $299.29 over the past 52 weeks.\n",
      "\u001b[36m(async_process_image_data pid=5187)\u001b[0m     - The shares are trading at 36-times the 2024 EPS forecast and 39-times the 2025 forecast.\n",
      "\u001b[36m(async_process_image_data pid=5187)\u001b[0m     - The historical price/sales range is 14.1-44.4, and the current multiple is 6.8 (below the range).\n",
      "\u001b[36m(async_process_image_data pid=5187)\u001b[0m     - The P/E multiples are seen as relatively high compared to legacy automotive companies.\n",
      "\u001b[36m(async_process_image_data pid=5187)\u001b[0m     - The analysts believe the shares are attractively valued at current prices.\n",
      "\u001b[36m(async_process_image_data pid=5187)\u001b[0m 4. Color scheme:\n",
      "\u001b[36m(async_process_image_data pid=5187)\u001b[0m - The header section has a maroon/burgundy background color.\n",
      "\u001b[36m(async_process_image_data pid=5187)\u001b[0m - The text is primarily in black, with some section headings in maroon/burgundy.\n",
      "\u001b[36m(async_process_image_data pid=5187)\u001b[0m 5. Overall layout:\n",
      "\u001b[36m(async_process_image_data pid=5187)\u001b[0m - The report follows a structured layout with distinct sections for the analyst's notes, financial strength & dividend, management & risks, company description, and valuation.\n",
      "\u001b[36m(async_process_image_data pid=5187)\u001b[0m - The text is presented in a dense paragraph format, with liberal use of numerical data points related to Tesla's financials, operations, and valuation metrics.\n",
      "\u001b[36m(async_process_image_data pid=5187)\u001b[0m Please note that I have provided a detailed, data-oriented description of the image without revealing any personal identities, as per your instructions.\n",
      "\u001b[36m(async_process_image_data pid=5191)\u001b[0m file_path: img/b64_images/AMD_rec_page_6.b64, image description (prefiltered with entities extracted): Based on the image, here are the relevant entities I can identify:\n",
      "\u001b[36m(async_process_image_data pid=5191)\u001b[0m - Organization: Advanced Micro Devices, Inc. (AMD)\n",
      "\u001b[36m(async_process_image_data pid=5191)\u001b[0m - Stock Exchange: NASDAQ\n",
      "\u001b[36m(async_process_image_data pid=5191)\u001b[0m - Date: January 31, 2024 (listed as the report creation date)\n",
      "\u001b[36m(async_process_image_data pid=5191)\u001b[0m Financial Entities:\n",
      "\u001b[36m(async_process_image_data pid=5191)\u001b[0m - Stock Ticker: AMD\n",
      "\u001b[36m(async_process_image_data pid=5191)\u001b[0m - Stock Price: $166.74 (listed as AMD's traded price on January 31 at midday)\n",
      "\u001b[36m(async_process_image_data pid=5191)\u001b[0m - Price Change: down $5.31 (the decrease in AMD's stock price on that date)\n",
      "\u001b[36m(async_process_image_data pid=5191)\u001b[0m The image appears to be an excerpt from an analyst report providing details about the stock performance and trading activity of the semiconductor company Advanced Micro Devices, Inc. (AMD) on a specific date.The image appears to be an excerpt from an analyst report on Advanced Micro Devices Inc. (AMD), a semiconductor company traded on the NASDAQ stock exchange. The layout has a maroon header with the company's logo and name 'ARGUS ADVANCED MICRO DEVICES, INC.' along with the report creation date of Jan 31, 2024, and the page number 6 OF 7.\n",
      "\u001b[36m(async_process_image_data pid=5191)\u001b[0m Under the header, there is a section titled 'Analyst's Notes' which contains the following text:\n",
      "\u001b[36m(async_process_image_data pid=5191)\u001b[0m 'On January 31 at midday, BUY-rated AMD traded at $166.74, down $5.31.'\n",
      "\u001b[36m(async_process_image_data pid=5191)\u001b[0m This text provides information about AMD's stock price and performance on a specific date (January 31st), stating that the company's stock, which is rated as a 'BUY' by the analysts, traded at $166.74 per share, down $5.31 from the previous trading session.\n",
      "\u001b[36m(async_process_image_data pid=5191)\u001b[0m The image does not contain any tables, charts, or other visual elements besides the text. The color scheme used is primarily maroon for the header and black text on a white background.\n",
      "\u001b[36m(async_process_image_data pid=5191)\u001b[0m It's important to note that while I can describe the factual information present in the image, I cannot verify the accuracy or provide any additional context beyond what is visually depicted.\n",
      "\u001b[36m(async_process_image_data pid=5191)\u001b[0m \u001b[32m [repeated 19x across cluster]\u001b[0m\n",
      "\u001b[36m(async_process_image_data pid=5191)\u001b[0m Named Entities:\u001b[32m [repeated 2x across cluster]\u001b[0m\n",
      "\u001b[36m(async_process_image_data pid=5187)\u001b[0m json_file_path: pdf_img_json_dir/tesla_rec_page_4.json\n",
      "\u001b[36m(async_process_image_data pid=5191)\u001b[0m Temporal Entities:\n",
      "\u001b[36m(async_process_image_data pid=5191)\u001b[0m json_file_path: pdf_img_json_dir/AMD_rec_page_6.json\n"
     ]
    },
    {
     "name": "stderr",
     "output_type": "stream",
     "text": [
      "\u001b[36m(async_process_image_data pid=5191)\u001b[0m [2024-05-28 16:19:50,757] p5191 {credentials.py:1075} INFO - Found credentials from IAM Role: BaseNotebookInstanceEc2InstanceRole\u001b[32m [repeated 2x across cluster]\u001b[0m\n",
      "\u001b[36m(async_process_image_data pid=5187)\u001b[0m [2024-05-28 16:19:40,806] p5187 {500037063.py:58} INFO - Ingesting data into pipeline\n",
      "\u001b[36m(async_process_image_data pid=5187)\u001b[0m [2024-05-28 16:19:40,807] p5187 {500037063.py:59} INFO - image desc: 200 OK\n",
      "\u001b[36m(async_process_image_data pid=5191)\u001b[0m [2024-05-28 16:19:50,816] p5191 {500037063.py:58} INFO - Ingesting data into pipeline\n",
      "\u001b[36m(async_process_image_data pid=5191)\u001b[0m [2024-05-28 16:19:50,819] p5191 {500037063.py:59} INFO - image desc: 200 OK\n"
     ]
    },
    {
     "name": "stdout",
     "output_type": "stream",
     "text": [
      "\u001b[36m(async_process_image_data pid=5186)\u001b[0m - Argus Research\n",
      "\u001b[36m(async_process_image_data pid=5186)\u001b[0m - Economist Harold Dorsey\n",
      "\u001b[36m(async_process_image_data pid=5186)\u001b[0m - Argus Investors' Counsel, Inc.\n",
      "\u001b[36m(async_process_image_data pid=5186)\u001b[0m - The Argus Research Group\n",
      "\u001b[36m(async_process_image_data pid=5186)\u001b[0m - Argus Investors' Counsel\n",
      "\u001b[36m(async_process_image_data pid=5186)\u001b[0m - Morningstar\n",
      "\u001b[36m(async_process_image_data pid=5186)\u001b[0m Organization Entities:\n",
      "\u001b[36m(async_process_image_data pid=5186)\u001b[0m - Argus Research Co. (ARC)\n",
      "\u001b[36m(async_process_image_data pid=5186)\u001b[0m - Argus Investors' Counsel, Inc. (AIC)\n",
      "\u001b[36m(async_process_image_data pid=5186)\u001b[0m - The Argus Research Group\n",
      "\u001b[36m(async_process_image_data pid=5186)\u001b[0m - Argus Research Co.\n",
      "\u001b[36m(async_process_image_data pid=5186)\u001b[0m Location Entities:\n",
      "\u001b[36m(async_process_image_data pid=5186)\u001b[0m - New York\n",
      "\u001b[36m(async_process_image_data pid=5186)\u001b[0m - Stamford, Connecticut\n",
      "\u001b[36m(async_process_image_data pid=5186)\u001b[0m Product Entities:\n",
      "\u001b[36m(async_process_image_data pid=5186)\u001b[0m - The Argus trademark\n",
      "\u001b[36m(async_process_image_data pid=5186)\u001b[0m - The Argus service mark and logo\n",
      "\u001b[36m(async_process_image_data pid=5186)\u001b[0m - Argus Analyst Report\n",
      "\u001b[36m(async_process_image_data pid=5186)\u001b[0m The image does not appear to contain any specific person names, dates, or temporal entities. It provides an overview of the Argus Research methodology, rating system, legal disclaimers, and relationship with affiliated organizations like Argus Investors' Counsel and Morningstar.The image appears to be a methodology and disclaimer section from an investment research report by a company called Argus Research Co. The top section is titled 'METHODOLOGY & DISCLAIMERS' and has the Argus logo and their stock ticker NASDAQ: NTC.\n",
      "\u001b[36m(async_process_image_data pid=5186)\u001b[0m About Argus:\n",
      "\u001b[36m(async_process_image_data pid=5186)\u001b[0m This section provides an overview of Argus Research, describing it as founded by Economist Harold Dorsey in 1934. It outlines Argus' top-down, fundamental system that is used by Argus analysts, which includes six components:\n",
      "\u001b[36m(async_process_image_data pid=5186)\u001b[0m 1) Industry Analysis\n",
      "\u001b[36m(async_process_image_data pid=5186)\u001b[0m 2) Growth Analysis \n",
      "\u001b[36m(async_process_image_data pid=5186)\u001b[0m 3) Financial Strength Analysis\n",
      "\u001b[36m(async_process_image_data pid=5186)\u001b[0m 4) Management Assessment\n",
      "\u001b[36m(async_process_image_data pid=5186)\u001b[0m 5) Risk Analysis\n",
      "\u001b[36m(async_process_image_data pid=5186)\u001b[0m 6) Valuation Analysis\n",
      "\u001b[36m(async_process_image_data pid=5186)\u001b[0m It mentions that the Industry Analysis identifies industries expected to perform well over the next one-to-two years. The Growth Analysis generates proprietary estimates for companies under coverage. The Financial Strength Analysis studies ratios to understand profitability, liquidity, and capital structure. The Management Assessment involves analysts meeting with and familiarizing themselves with corporate management teams. Quantitative trends and qualitative threats are assessed under the Risk Analysis.\n",
      "\u001b[36m(async_process_image_data pid=5186)\u001b[0m The Argus Research Rating System:\n",
      "\u001b[36m(async_process_image_data pid=5186)\u001b[0m This section explains Argus' stock rating system of BUY, HOLD, and SELL for stocks relative to the S&P 500 benchmark.\n",
      "\u001b[36m(async_process_image_data pid=5186)\u001b[0m - A BUY-rated stock is expected to outperform the S&P 500 on a risk-adjusted basis over a 12-month period.\n",
      "\u001b[36m(async_process_image_data pid=5186)\u001b[0m - A HOLD-rated stock is expected to perform in line with the S&P 500.\n",
      "\u001b[36m(async_process_image_data pid=5186)\u001b[0m - A SELL-rated stock is expected to underperform the S&P 500.\n",
      "\u001b[36m(async_process_image_data pid=5186)\u001b[0m Argus Research Disclaimer:\n",
      "\u001b[36m(async_process_image_data pid=5186)\u001b[0m This section provides a detailed disclaimer stating that Argus Research Co. (ARC) is an independent investment research provider whose parent company, Argus Investors' Counsel, Inc. (AIC), is registered with the U.S. Securities and Exchange Commission. It clarifies that ARC is not a registered broker-dealer and does not have investment banking operations. It prohibits reproduction, redistribution or disclosure of the report content and states that the opinions and information should not be solely relied upon for investment decisions.\n",
      "\u001b[36m(async_process_image_data pid=5186)\u001b[0m Morningstar Disclaimer: \n",
      "\u001b[36m(async_process_image_data pid=5186)\u001b[0m This section contains a disclaimer from Morningstar stating that certain financial information in the report is proprietary and cannot be copied or distributed, and that neither Morningstar nor its content providers are responsible for any damages or losses arising from the use of this information.\n",
      "\u001b[36m(async_process_image_data pid=5186)\u001b[0m The image is primarily in red and black text on a white background, with no other colors or visual elements present.\n",
      "\u001b[36m(async_process_image_data pid=5186)\u001b[0m file_path: img/b64_images/Intel_rec_page_7.b64, image description (prefiltered with entities extracted): Based on the image, here are the relevant entities I can identify:\n",
      "\u001b[36m(async_process_image_data pid=5186)\u001b[0m \u001b[32m [repeated 13x across cluster]\u001b[0m\n",
      "\u001b[36m(async_process_image_data pid=5186)\u001b[0m Named Entities:\n"
     ]
    },
    {
     "name": "stderr",
     "output_type": "stream",
     "text": [
      "\u001b[36m(async_process_image_data pid=5186)\u001b[0m [2024-05-28 16:20:10,902] p5186 {credentials.py:1075} INFO - Found credentials from IAM Role: BaseNotebookInstanceEc2InstanceRole\n"
     ]
    },
    {
     "name": "stdout",
     "output_type": "stream",
     "text": [
      "\u001b[36m(async_process_image_data pid=5186)\u001b[0m json_file_path: pdf_img_json_dir/Intel_rec_page_7.json\n"
     ]
    },
    {
     "name": "stderr",
     "output_type": "stream",
     "text": [
      "\u001b[36m(async_process_image_data pid=5186)\u001b[0m [2024-05-28 16:20:10,943] p5186 {500037063.py:58} INFO - Ingesting data into pipeline\n",
      "\u001b[36m(async_process_image_data pid=5186)\u001b[0m [2024-05-28 16:20:10,943] p5186 {500037063.py:59} INFO - image desc: 200 OK\n",
      "\u001b[36m(async_process_image_data pid=5186)\u001b[0m [2024-05-28 16:20:10,975] p5186 {500037063.py:14} INFO - going to convert img/b64_images/Intel_rec_page_5.b64 into embeddings\n"
     ]
    },
    {
     "name": "stdout",
     "output_type": "stream",
     "text": [
      "\u001b[36m(async_process_image_data pid=5191)\u001b[0m file_path: img/b64_images/tesla_rec_page_5.b64, image description (prefiltered with entities extracted): Based on the image, here are the relevant entities I can identify:\n",
      "\u001b[36m(async_process_image_data pid=5191)\u001b[0m Named Entities:\n",
      "\u001b[36m(async_process_image_data pid=5191)\u001b[0m - Organizations: Argus Research, Argus Investors' Counsel, Inc. (AIC), Argus Research Co. (ARC), The Argus Research Group, Morningstar\n",
      "\u001b[36m(async_process_image_data pid=5191)\u001b[0m Custom Entities:\n",
      "\u001b[36m(async_process_image_data pid=5191)\u001b[0m - Argus' Valuation Analysis model\n",
      "\u001b[36m(async_process_image_data pid=5191)\u001b[0m - The ARGUS RESEARCH RATING SYSTEM\n",
      "\u001b[36m(async_process_image_data pid=5191)\u001b[0m - ARC's core equity strategy and UIT model portfolio products\n",
      "\u001b[36m(async_process_image_data pid=5191)\u001b[0m Temporal Entities:\n",
      "\u001b[36m(async_process_image_data pid=5191)\u001b[0m - Jan 25, 2024 (Report creation date)\n",
      "\u001b[36m(async_process_image_data pid=5191)\u001b[0m The image does not appear to contain any specific person names, product names, or location entities beyond the organization names mentioned above. Please let me know if I missed any other relevant entities from the information provided in the image.The image appears to be a report methodology and disclaimers page from Argus Research Company. The layout is divided into several sections with text in a maroon color against a white background.\n",
      "\u001b[36m(async_process_image_data pid=5191)\u001b[0m The first section titled 'About Argus' provides an overview of Argus Research, founded by Economist Harold Dorsey in 1934. It discusses Argus' top-down, fundamental system for analysis, including Industry Analysis, Growth Analysis, Financial Strength Analysis, Management Assessment, Risk Analysis, and Valuation Analysis.\n",
      "\u001b[36m(async_process_image_data pid=5191)\u001b[0m The next section, titled 'THE ARGUS RESEARCH RATING SYSTEM,' explains how Argus rates stocks as BUY, HOLD, and SELL relative to the S&P 500 benchmark. It defines the criteria for each rating, using terms like 'outperform,' 'in line with,' and 'underperform.'\n",
      "\u001b[36m(async_process_image_data pid=5191)\u001b[0m The 'Argus Research Disclaimer' section follows, stating that Argus Research Co. (ARC) is an independent investment research provider whose parent company, Argus Investors' Counsel, Inc. (AIC), is registered with the U.S. Securities and Exchange Commission. It clarifies that ARC is not a registered broker-dealer and does not have investment banking operations. It also mentions the intellectual property rights of Argus and prohibits unauthorized reproduction or distribution of the report's content.\n",
      "\u001b[36m(async_process_image_data pid=5191)\u001b[0m The final section is the 'Morningstar Disclaimer,' stating that certain financial information in the report may be proprietary to Morningstar and/or its content providers and cannot be copied or distributed. It also notes that the information is not warranted to be accurate, complete, or timely, and that past performance is no guarantee of future results.\n",
      "\u001b[36m(async_process_image_data pid=5191)\u001b[0m The image does not contain any tables, charts, or other visual elements besides the text sections described above.\n",
      "\u001b[36m(async_process_image_data pid=5191)\u001b[0m \u001b[32m [repeated 9x across cluster]\u001b[0m\n",
      "\u001b[36m(async_process_image_data pid=5191)\u001b[0m json_file_path: pdf_img_json_dir/tesla_rec_page_5.json\n"
     ]
    },
    {
     "name": "stderr",
     "output_type": "stream",
     "text": [
      "\u001b[36m(async_process_image_data pid=5191)\u001b[0m [2024-05-28 16:20:40,090] p5191 {credentials.py:1075} INFO - Found credentials from IAM Role: BaseNotebookInstanceEc2InstanceRole\n",
      "\u001b[36m(async_process_image_data pid=5191)\u001b[0m [2024-05-28 16:20:40,134] p5191 {500037063.py:58} INFO - Ingesting data into pipeline\n",
      "\u001b[36m(async_process_image_data pid=5191)\u001b[0m [2024-05-28 16:20:40,134] p5191 {500037063.py:59} INFO - image desc: 200 OK\n",
      "\u001b[36m(async_process_image_data pid=5190)\u001b[0m [2024-05-28 16:20:10,976] p5190 {500037063.py:14} INFO - going to convert img/b64_images/Intel_rec_page_6.b64 into embeddings\u001b[32m [repeated 3x across cluster]\u001b[0m\n"
     ]
    },
    {
     "name": "stdout",
     "output_type": "stream",
     "text": [
      "\u001b[36m(async_process_image_data pid=5187)\u001b[0m - Organizations: Argus Research, Argus Investors' Counsel, Inc. (AIC), The Argus Research Group, Morningstar\n",
      "\u001b[36m(async_process_image_data pid=5187)\u001b[0m - Date: Feb 1, 2024 (mentioned as the report creation date)\n",
      "\u001b[36m(async_process_image_data pid=5187)\u001b[0m The image does not appear to contain any specific person names, product names, or location entities beyond the organization names listed above. It provides an overview of Argus Research's methodology and disclaimers related to their investment research reports and ratings.The image appears to be a section from an investment research report or analysis provided by Argus Research Company. The overall layout and design have a professional and structured appearance with a maroon color header and black text on a white background.\n",
      "\u001b[36m(async_process_image_data pid=5187)\u001b[0m At the top, there is the Argus logo, and the section heading reads 'METHODOLOGY & DISCLAIMERS'. The report creation date 'Feb 1, 2024' and page number 'Page 7 of 7' are also displayed.\n",
      "\u001b[36m(async_process_image_data pid=5187)\u001b[0m The image is divided into several sections, each providing specific information or details:\n",
      "\u001b[36m(async_process_image_data pid=5187)\u001b[0m 1. 'About Argus' section:\n",
      "\u001b[36m(async_process_image_data pid=5187)\u001b[0m This section outlines the background and methodologies employed by Argus Research, founded by Economist Harold Dorsey in 1934. It describes their top-down, fundamental system for analysis, which includes six components: Industry Analysis, Growth Analysis, Financial Strength Analysis, Management Assessment, Risk Analysis, and Valuation Analysis.\n",
      "\u001b[36m(async_process_image_data pid=5187)\u001b[0m Key details mentioned:\n",
      "\u001b[36m(async_process_image_data pid=5187)\u001b[0m - Argus' Valuation Analysis model integrates historical ratio metrics, discounted cash flow modeling, and peer comparison.\n",
      "\u001b[36m(async_process_image_data pid=5187)\u001b[0m - The Argus Research Rating System is explained, with stocks rated as BUY, HOLD, and SELL relative to the S&P 500 benchmark.\n",
      "\u001b[36m(async_process_image_data pid=5187)\u001b[0m - Definitions for BUY, HOLD, and SELL ratings are provided based on expected stock performance.\n",
      "\u001b[36m(async_process_image_data pid=5187)\u001b[0m 2. 'Argus Research Disclaimer' section:\n",
      "\u001b[36m(async_process_image_data pid=5187)\u001b[0m This section provides a disclaimer about Argus Research Co. (ARC) being an independent investment research provider. It mentions that ARC is not a registered broker-dealer and does not have investment banking operations. It also states that the report's content may be derived from Argus research reports, notes, or analyses.\n",
      "\u001b[36m(async_process_image_data pid=5187)\u001b[0m Additional details covered:\n",
      "\u001b[36m(async_process_image_data pid=5187)\u001b[0m - The opinions and information presented are for general information only and do not address individual investment objectives.\n",
      "\u001b[36m(async_process_image_data pid=5187)\u001b[0m - Clients should consult an independent investment advisor for individual investment decisions.\n",
      "\u001b[36m(async_process_image_data pid=5187)\u001b[0m - Argus is under no obligation to ensure reports are brought to recipients' attention.\n",
      "\u001b[36m(async_process_image_data pid=5187)\u001b[0m 3. 'Morningstar Disclaimer' section:\n",
      "\u001b[36m(async_process_image_data pid=5187)\u001b[0m This section includes a disclaimer from Morningstar, stating that certain financial information in the report is proprietary and cannot be copied or distributed. It also mentions that the information is not warranted to be accurate, complete, or timely, and past performance is no guarantee of future results.\n",
      "\u001b[36m(async_process_image_data pid=5187)\u001b[0m The image does not contain any tables, charts, or other visual elements beyond the text sections described above. The color scheme primarily utilizes maroon for the header and black text on a white background.\n",
      "\u001b[36m(async_process_image_data pid=5187)\u001b[0m file_path: img/b64_images/Microsoft_rec_page_7.b64, image description (prefiltered with entities extracted): Based on the image, here are the relevant entities I can identify:\n",
      "\u001b[36m(async_process_image_data pid=5187)\u001b[0m Named Entities:\n",
      "\u001b[36m(async_process_image_data pid=5187)\u001b[0m Temporal Entities:\n",
      "\u001b[36m(async_process_image_data pid=5187)\u001b[0m \u001b[32m [repeated 11x across cluster]\u001b[0m\n",
      "\u001b[36m(async_process_image_data pid=5187)\u001b[0m json_file_path: pdf_img_json_dir/Microsoft_rec_page_7.json\n"
     ]
    },
    {
     "name": "stderr",
     "output_type": "stream",
     "text": [
      "\u001b[36m(async_process_image_data pid=5187)\u001b[0m [2024-05-28 16:20:45,593] p5187 {credentials.py:1075} INFO - Found credentials from IAM Role: BaseNotebookInstanceEc2InstanceRole\n",
      "\u001b[36m(async_process_image_data pid=5191)\u001b[0m [2024-05-28 16:20:40,143] p5191 {500037063.py:14} INFO - going to convert img/b64_images/APPLE_rec_page_6.b64 into embeddings\n",
      "\u001b[36m(async_process_image_data pid=5187)\u001b[0m [2024-05-28 16:20:45,626] p5187 {500037063.py:58} INFO - Ingesting data into pipeline\n",
      "\u001b[36m(async_process_image_data pid=5187)\u001b[0m [2024-05-28 16:20:45,626] p5187 {500037063.py:59} INFO - image desc: 200 OK\n",
      "\u001b[36m(async_process_image_data pid=5187)\u001b[0m [2024-05-28 16:20:45,644] p5187 {500037063.py:14} INFO - going to convert img/b64_images/Intel_rec_page_4.b64 into embeddings\n"
     ]
    },
    {
     "name": "stdout",
     "output_type": "stream",
     "text": [
      "\u001b[36m(async_process_image_data pid=5190)\u001b[0m file_path: img/b64_images/Intel_rec_page_6.b64, image description (prefiltered with entities extracted): The image contains information from an analyst report on Intel Corporation (INTC), a major semiconductor company. Here are the key entities I can identify:\n",
      "\u001b[36m(async_process_image_data pid=5190)\u001b[0m Named Entities:\n",
      "\u001b[36m(async_process_image_data pid=5190)\u001b[0m - Intel Corp. (company name)\n",
      "\u001b[36m(async_process_image_data pid=5190)\u001b[0m - INTC (stock ticker symbol)\n",
      "\u001b[36m(async_process_image_data pid=5190)\u001b[0m Temporal Entities:\n",
      "\u001b[36m(async_process_image_data pid=5190)\u001b[0m - 2024 (year for non-GAAP EPS forecast)\n",
      "\u001b[36m(async_process_image_data pid=5190)\u001b[0m - 2025 (year for non-GAAP EPS projection)\n",
      "\u001b[36m(async_process_image_data pid=5190)\u001b[0m - 2019-2023 (5-year period for average P/E calculation)\n",
      "\u001b[36m(async_process_image_data pid=5190)\u001b[0m - January 26 (date mentioned)\n",
      "\u001b[36m(async_process_image_data pid=5190)\u001b[0m Financial/Numerical Entities:\n",
      "\u001b[36m(async_process_image_data pid=5190)\u001b[0m - 26.3x (2024 non-GAAP EPS forecast multiple)\n",
      "\u001b[36m(async_process_image_data pid=5190)\u001b[0m - 17.2x (2025 non-GAAP EPS projection multiple)  \n",
      "\u001b[36m(async_process_image_data pid=5190)\u001b[0m - 21.7x (two-year forward P/E multiple)\n",
      "\u001b[36m(async_process_image_data pid=5190)\u001b[0m - 18.7 (five-year average P/E from 2019-2023)\n",
      "\u001b[36m(async_process_image_data pid=5190)\u001b[0m - 1.13 (two-year forward relative P/E)\n",
      "\u001b[36m(async_process_image_data pid=5190)\u001b[0m - $60 (12-month target price)\n",
      "\u001b[36m(async_process_image_data pid=5190)\u001b[0m - 1.0% (dividend yield)\n",
      "\u001b[36m(async_process_image_data pid=5190)\u001b[0m - $44.25 (INTC traded price on Jan 26)\n",
      "\u001b[36m(async_process_image_data pid=5190)\u001b[0m The report discusses Intel's valuation multiples, earnings forecasts, growth outlook, market positioning, and a buy rating recommendation from the analyst firm Argus Research Company.The image appears to be a section from a research report on Intel Corporation (INTC) published by Argus Research Company. The overall layout consists of text in a maroon color on a white background.\n",
      "\u001b[36m(async_process_image_data pid=5190)\u001b[0m The section is titled 'Analyst's Notes ...continued' indicating it is a continuation from a previous page.\n",
      "\u001b[36m(async_process_image_data pid=5190)\u001b[0m The text contains several data points and analysis related to Intel's valuation and performance:\n",
      "\u001b[36m(async_process_image_data pid=5190)\u001b[0m 1. It states that INTC trades at a high 26.3-times the 2024 non-GAAP EPS forecast and 17.2-times the 2025 non-GAAP EPS projection.\n",
      "\u001b[36m(async_process_image_data pid=5190)\u001b[0m 2. The two-year forward P/E of 21.7-times is mentioned as being above the five-year (2019-2023) average P/E of 18.7.\n",
      "\u001b[36m(async_process_image_data pid=5190)\u001b[0m 3. The two-year-forward relative P/E of 1.13 is noted as being above the five-year average of 0.92, but close to the market multiple.\n",
      "\u001b[36m(async_process_image_data pid=5190)\u001b[0m 4. It discusses Intel's challenges during the pre-Gelsinger years, including missing production deadlines and losing market share in data centers, according to the historical comparable valuation model which renders a value for INTC in the upper $30s.\n",
      "\u001b[36m(async_process_image_data pid=5190)\u001b[0m 5. A peer group analysis shows INTC trading at discounts to Argus semiconductor peers' price/sales and EV/EBITDA ratios, and at premiums on P/E.\n",
      "\u001b[36m(async_process_image_data pid=5190)\u001b[0m 6. The discount to peers is said to partly capture Intel's recovering growth outlook, blue-chip finances, customer relationships, and market strength.\n",
      "\u001b[36m(async_process_image_data pid=5190)\u001b[0m 7. A peer-indicated value in the low $60s is mentioned as being above current prices and rising with the Tech sector.\n",
      "\u001b[36m(async_process_image_data pid=5190)\u001b[0m 8. The forward-looking DFCF model indicates a fair value in the high $60s, in a stable trend and well above current prices.\n",
      "\u001b[36m(async_process_image_data pid=5190)\u001b[0m 9. A blended value above $60, in a rising trend and above current levels, is calculated by factoring in multiple valuation inputs.\n",
      "\u001b[36m(async_process_image_data pid=5190)\u001b[0m 10. Intel's major presence in leading computing markets and the potential for value in the shares is noted.\n",
      "\u001b[36m(async_process_image_data pid=5190)\u001b[0m 11. An appreciation to a 12-month target price of $60 is stated to imply a risk-adjusted return, including the 1.0% dividend yield, in excess of the forecast return for the broad market, consistent with a BUY rating.\n",
      "\u001b[36m(async_process_image_data pid=5190)\u001b[0m 12. On January 26 at midday, the BUY-rated INTC traded at $44.25, down $5.30.\n",
      "\u001b[36m(async_process_image_data pid=5190)\u001b[0m The maroon color is used for the text and heading. No charts, tables or other visual elements are present in this particular section of the report.\n",
      "\u001b[36m(async_process_image_data pid=5190)\u001b[0m \u001b[32m [repeated 19x across cluster]\u001b[0m\n",
      "\u001b[36m(async_process_image_data pid=5190)\u001b[0m json_file_path: pdf_img_json_dir/Intel_rec_page_6.json\n"
     ]
    },
    {
     "name": "stderr",
     "output_type": "stream",
     "text": [
      "\u001b[36m(async_process_image_data pid=5190)\u001b[0m [2024-05-28 16:20:59,561] p5190 {credentials.py:1075} INFO - Found credentials from IAM Role: BaseNotebookInstanceEc2InstanceRole\n",
      "\u001b[36m(async_process_image_data pid=5190)\u001b[0m [2024-05-28 16:20:59,631] p5190 {500037063.py:58} INFO - Ingesting data into pipeline\n",
      "\u001b[36m(async_process_image_data pid=5190)\u001b[0m [2024-05-28 16:20:59,631] p5190 {500037063.py:59} INFO - image desc: 200 OK\n",
      "\u001b[36m(async_process_image_data pid=5190)\u001b[0m [2024-05-28 16:20:59,657] p5190 {500037063.py:14} INFO - going to convert img/b64_images/Microsoft_rec_page_2.b64 into embeddings\n"
     ]
    },
    {
     "name": "stdout",
     "output_type": "stream",
     "text": [
      "\u001b[36m(async_process_image_data pid=5191)\u001b[0m file_path: img/b64_images/APPLE_rec_page_6.b64, image description (prefiltered with entities extracted): Based on the image, here are the relevant entities I can identify:\n",
      "\u001b[36m(async_process_image_data pid=5191)\u001b[0m - Organizations: Argus, Argus Investors' Counsel, Inc. (AIC), Argus Research Co. (ARC), The Argus Research Group, Morningstar\n",
      "\u001b[36m(async_process_image_data pid=5191)\u001b[0m - Locations: U.S. Securities and Exchange Commission\n",
      "\u001b[36m(async_process_image_data pid=5191)\u001b[0m Custom Entities:\n",
      "\u001b[36m(async_process_image_data pid=5191)\u001b[0m - Rating system: BUY, HOLD, SELL\n",
      "\u001b[36m(async_process_image_data pid=5191)\u001b[0m - Analysis types: Industry Analysis, Growth Analysis, Financial Strength Analysis, Management Assessment, Risk Analysis, Valuation Analysis\n",
      "\u001b[36m(async_process_image_data pid=5191)\u001b[0m - Benchmark index: S&P 500\n",
      "\u001b[36m(async_process_image_data pid=5191)\u001b[0m - Date: Mar 22, 2024\n",
      "\u001b[36m(async_process_image_data pid=5191)\u001b[0m I did not identify any specific person names, product names, or location entities beyond organizations and the U.S. Securities and Exchange Commission. Please let me know if you need any clarification or have additional questions.The image appears to be a section from a financial research report by a company called Argus Research. The overall layout has a maroon header at the top with the Argus logo and the text 'METHODOLOGY & DISCLAIMERS' in white. Below the header, there are two sections titled 'About Argus' and 'Argus Research Disclaimer.'\n",
      "\u001b[36m(async_process_image_data pid=5191)\u001b[0m About Argus section:\n",
      "\u001b[36m(async_process_image_data pid=5191)\u001b[0m This section provides an overview of Argus Research and its methodology. It explains that Argus Research was founded in 1934 by Economist Harold Dorsey and has built a top-down, fundamental system for analysis using a six-point system: Industry Analysis, Growth Analysis, Financial Strength Analysis, Management Assessment, Risk Analysis, and Valuation Analysis. It also mentions that Argus' Industry Analysis identifies industries expected to perform well over the next one-to-two years, and the Growth Analysis generates proprietary estimates for companies under coverage.\n",
      "\u001b[36m(async_process_image_data pid=5191)\u001b[0m Argus Research Disclaimer section:\n",
      "\u001b[36m(async_process_image_data pid=5191)\u001b[0m This section contains legal disclaimers regarding Argus Research Co. (ARC), stating that it is an independent investment research provider whose parent company, Argus Investors' Counsel, Inc. (AIC), is registered with the U.S. Securities and Exchange Commission. It clarifies that ARC is not a registered broker-dealer and does not have investment banking operations. The disclaimer also mentions that the content of the report may be derived from Argus research, reports, notes, or analyses, and that the information is for general information purposes only.\n",
      "\u001b[36m(async_process_image_data pid=5191)\u001b[0m There is also a smaller section at the bottom titled 'Morningstar Disclaimer' in a lighter color, which appears to be a disclaimer from another company, Morningstar.\n",
      "\u001b[36m(async_process_image_data pid=5191)\u001b[0m The image does not contain any tables, charts, or other visual elements beyond the text sections. The color scheme is primarily maroon and white, with some lighter gray text for the disclaimers.\n",
      "\u001b[36m(async_process_image_data pid=5191)\u001b[0m Named Entities:\n",
      "\u001b[36m(async_process_image_data pid=5191)\u001b[0m Temporal Entities:\n",
      "\u001b[36m(async_process_image_data pid=5191)\u001b[0m \u001b[32m [repeated 8x across cluster]\u001b[0m\n",
      "\u001b[36m(async_process_image_data pid=5191)\u001b[0m json_file_path: pdf_img_json_dir/APPLE_rec_page_6.json\n"
     ]
    },
    {
     "name": "stderr",
     "output_type": "stream",
     "text": [
      "\u001b[36m(async_process_image_data pid=5191)\u001b[0m [2024-05-28 16:21:08,008] p5191 {credentials.py:1075} INFO - Found credentials from IAM Role: BaseNotebookInstanceEc2InstanceRole\n",
      "\u001b[36m(async_process_image_data pid=5191)\u001b[0m [2024-05-28 16:21:08,071] p5191 {500037063.py:58} INFO - Ingesting data into pipeline\n",
      "\u001b[36m(async_process_image_data pid=5191)\u001b[0m [2024-05-28 16:21:08,072] p5191 {500037063.py:59} INFO - image desc: 200 OK\n",
      "\u001b[36m(async_process_image_data pid=5191)\u001b[0m [2024-05-28 16:21:08,103] p5191 {500037063.py:14} INFO - going to convert img/b64_images/AMD_rec_page_3.b64 into embeddings\n"
     ]
    },
    {
     "name": "stdout",
     "output_type": "stream",
     "text": [
      "\u001b[36m(async_process_image_data pid=5186)\u001b[0m file_path: img/b64_images/Intel_rec_page_5.b64, image description (prefiltered with entities extracted): Based on the image, here is a list of entities present:\n",
      "\u001b[36m(async_process_image_data pid=5186)\u001b[0m Named Entities:\n",
      "\u001b[36m(async_process_image_data pid=5186)\u001b[0m - Organizations: Intel Corp., Argus Research Company, NVM, SK Hynix, GAAP, VMware, Medronic, Altera, Mobileye, Nvidia\n",
      "\u001b[36m(async_process_image_data pid=5186)\u001b[0m - Person Names: Pat Geisinger, Andy Bryant\n",
      "\u001b[36m(async_process_image_data pid=5186)\u001b[0m Temporal Entities:\n",
      "\u001b[36m(async_process_image_data pid=5186)\u001b[0m - Dates: Jan 26, 2024, 2021, 2020, February 2023, March 2023, 2022\n",
      "\u001b[36m(async_process_image_data pid=5186)\u001b[0m Product Entities:\n",
      "\u001b[36m(async_process_image_data pid=5186)\u001b[0m - Product/Service Names: Non-GAAP, PC\n",
      "\u001b[36m(async_process_image_data pid=5186)\u001b[0m Financial Entities:\n",
      "\u001b[36m(async_process_image_data pid=5186)\u001b[0m - Financial Figures: $30 billion, $100 billion, $13.4 billion, $35.4 billion, 65%, $0.125, $0.50, 5%, $0.3475, 5%, $0.33, 5%, 10%, $0.54, $0.58, $13.7 billion, $13.2 billion, 9%, 44.5%, $0.04, $1.77, $2.62, 8.9%, $7 billion, $25.0 billion, $28.4 billion, $23.9 billion, $12.3 billion, $42.1 billion, $38.1 billion, $36.4 billion, $24.3 billion, $11.3 billion, $15.4 billion, $30.0 billion\n",
      "\u001b[36m(async_process_image_data pid=5186)\u001b[0m The image contains details about Intel Corp's financial performance, analyst notes, earnings & growth analysis, financial strength & dividend, management risks, competitive landscape, and a company description related to the computing industry and semiconductor business.The image appears to be an analyst report on Intel Corporation from a research firm called Argus. The report is dated January 26, 2024, and spans across 5 pages, with this being page 5 of 7.\n",
      "\u001b[36m(async_process_image_data pid=5186)\u001b[0m The top section has the Argus logo and the ticker symbol 'NASDAQ: INTC' for Intel Corp.\n",
      "\u001b[36m(async_process_image_data pid=5186)\u001b[0m The main body of the page is divided into several sections with subheadings.\n",
      "\u001b[36m(async_process_image_data pid=5186)\u001b[0m Analyst's Notes (continued):\n",
      "\u001b[36m(async_process_image_data pid=5186)\u001b[0m This section discusses Intel's plans for investments and expansion. It mentions that Intel plans to invest more than $30 billion to build two chip-making sites in Magdeburg, Germany. In the U.S., Intel plans to invest up to $100 billion in coming decades to build a huge complex in Ohio. The company recently applied for CHIPS funding for its ion-scale fab expansion in Arizona. The Ohio and Arizona sites are mainly shells that will be 'loaded' with fabrication equipment when the demand environment improved.\n",
      "\u001b[36m(async_process_image_data pid=5186)\u001b[0m Earnings & Growth Analysis:\n",
      "\u001b[36m(async_process_image_data pid=5186)\u001b[0m This section provides financial details. Intel's reported revenue for 2023 was $15.4 billion, which was up 10% year-over-year and 9% sequentially. With the disposal of NVM to SK Hynix in January 2022, GAAP and non-GAAP revenue are identical for all periods. Intel topped the $15.2 billion consensus revenue estimate and came in above the $15.1 billion midpoint of management's $14.6-$15.6 billion guidance range.\n",
      "\u001b[36m(async_process_image_data pid=5186)\u001b[0m The non-GAAP gross margin was 48.8% in 4Q23, versus 46.0% in 3Q23 and 43.8% a year earlier. The non-GAAP operating margin was 16.7% in 4Q23, versus 14.5% in 3Q23 and 4.3% a year earlier.\n",
      "\u001b[36m(async_process_image_data pid=5186)\u001b[0m Non-GAAP profit for 4Q23 was $0.54 per diluted share, up from $0.10 a year earlier and $0.41 in 3Q23. Management forecast $0.44 per diluted share for 4Q23, excluding midpoints, and the consensus forecast called for a gain of $0.45.\n",
      "\u001b[36m(async_process_image_data pid=5186)\u001b[0m For all of 2023, revenue of $54.2 billion declined 14% from $63.1 billion for 2022. Non-GAAP EPS of $1.04 per diluted share for 2023 was down 44% from $1.85 for 2022.\n",
      "\u001b[36m(async_process_image_data pid=5186)\u001b[0m For FY23, Intel projects revenue of $12.8-$13.2 billion, which at the $12.7 billion midpoint would be up 9% from the prior year. It projects a non-GAAP gross margin of 44.5% and a non-GAAP profit of $0.13 per diluted share at the guidance midpoints. In the year-earlier quarter, Intel posted a non-GAAP loss of $0.04 per share.\n",
      "\u001b[36m(async_process_image_data pid=5186)\u001b[0m Given the slow start to the year, as well as higher operating spending on new initiatives, we are lowering our 2024 projection to $41.7 from $1.77. We are implementing a non-GAAP EPS projection of $2.62 per diluted share for 2025. We regard our estimates as fluid and subject to revision based on the timing of recovery in the PC and server markets. Our long-term EPS growth rate estimate is 9%.\n",
      "\u001b[36m(async_process_image_data pid=5186)\u001b[0m Financial Strength & Dividend:\n",
      "\u001b[36m(async_process_image_data pid=5186)\u001b[0m The financial strength rating on Intel is Medium-High; we reduced this from High in March 2023 following the February dividend cut. Intel's credit ratings are mainly 'A' or 'A-' per Moody's. The company received $7 billion in proceeds early in 2023 from the sale of NVM to SK Hynix.\n",
      "\u001b[36m(async_process_image_data pid=5186)\u001b[0m Intel's cash & equivalents and investments totaled $25.0 billion at the end of 2023. Cash & equivalents and investments were $28.4 billion at the end of 2022, $28.4 billion at the end of 2021, and $23.9 billion at the end of 2020.\n",
      "\u001b[36m(async_process_image_data pid=5186)\u001b[0m Total debt was $49.3 billion at the end of 2023. Total debt was $42.1 billion at the end of 2022, $38.1 billion at the end of 2021, and $36.4\n",
      "\u001b[36m(async_process_image_data pid=5186)\u001b[0m \u001b[32m [repeated 10x across cluster]\u001b[0m\n",
      "\u001b[36m(async_process_image_data pid=5186)\u001b[0m json_file_path: pdf_img_json_dir/Intel_rec_page_5.json\n"
     ]
    },
    {
     "name": "stderr",
     "output_type": "stream",
     "text": [
      "\u001b[36m(async_process_image_data pid=5186)\u001b[0m [2024-05-28 16:21:25,982] p5186 {credentials.py:1075} INFO - Found credentials from IAM Role: BaseNotebookInstanceEc2InstanceRole\n",
      "\u001b[36m(async_process_image_data pid=5186)\u001b[0m [2024-05-28 16:21:26,017] p5186 {500037063.py:58} INFO - Ingesting data into pipeline\n",
      "\u001b[36m(async_process_image_data pid=5186)\u001b[0m [2024-05-28 16:21:26,017] p5186 {500037063.py:59} INFO - image desc: 200 OK\n",
      "\u001b[36m(async_process_image_data pid=5186)\u001b[0m [2024-05-28 16:21:26,030] p5186 {500037063.py:14} INFO - going to convert img/b64_images/Intel_rec_page_2.b64 into embeddings\n"
     ]
    },
    {
     "name": "stdout",
     "output_type": "stream",
     "text": [
      "\u001b[36m(async_process_image_data pid=5187)\u001b[0m file_path: img/b64_images/Intel_rec_page_4.b64, image description (prefiltered with entities extracted): Based on the image, here are the relevant entities I can identify:\n",
      "\u001b[36m(async_process_image_data pid=5187)\u001b[0m - People: None\n",
      "\u001b[36m(async_process_image_data pid=5187)\u001b[0m - Organizations: Intel Corp, Amazon AWS, Graviton, Mobilye, Gelsinger, Israel's government\n",
      "\u001b[36m(async_process_image_data pid=5187)\u001b[0m - Locations: China, Gaza, Kiryat Gat (Israel), New Mexico\n",
      "\u001b[36m(async_process_image_data pid=5187)\u001b[0m Custom Entities:\n",
      "\u001b[36m(async_process_image_data pid=5187)\u001b[0m - Intel 4 process technology\n",
      "\u001b[36m(async_process_image_data pid=5187)\u001b[0m - Core Ultra Mobile processor family\n",
      "\u001b[36m(async_process_image_data pid=5187)\u001b[0m - Gaudi AI Accelerator\n",
      "\u001b[36m(async_process_image_data pid=5187)\u001b[0m - Habana AI training processor\n",
      "\u001b[36m(async_process_image_data pid=5187)\u001b[0m - Data Center and AI Group (DCAI)\n",
      "\u001b[36m(async_process_image_data pid=5187)\u001b[0m - Internet of Things (IoT)\n",
      "\u001b[36m(async_process_image_data pid=5187)\u001b[0m - Programmable Solutions Group (PSG)\n",
      "\u001b[36m(async_process_image_data pid=5187)\u001b[0m - IFS (Intel Foundry Services)\n",
      "\u001b[36m(async_process_image_data pid=5187)\u001b[0m - 4Q23, 2022, 2024, 40 years (referring to Intel's architectural shift timeframe)\n",
      "\u001b[36m(async_process_image_data pid=5187)\u001b[0m - December 2023\n",
      "\u001b[36m(async_process_image_data pid=5187)\u001b[0m - Core Ultra Mobile processor\n",
      "\u001b[36m(async_process_image_data pid=5187)\u001b[0m - Gaudi AI Accelerator\n",
      "\u001b[36m(async_process_image_data pid=5187)\u001b[0m - Intel Xeon processors\n",
      "\u001b[36m(async_process_image_data pid=5187)\u001b[0m The image contains information about Intel's financial performance, product offerings, and strategic initiatives related to data center, AI, and semiconductor manufacturing, without revealing any specific personal names.The image appears to be an analyst report or research document from a company called Argus. The overall layout consists of a dark red header with the Argus logo and 'INTEL CORP' in white text, along with the NASDAQ ticker symbol 'INTC' and details mentioning it is a report created on Jan 26, 2024, on Page 4 of 7.\n",
      "\u001b[36m(async_process_image_data pid=5187)\u001b[0m Under the header, there is a section titled 'Analyst's Notes ...continued'. This section contains a detailed analysis and commentary on Intel Corporation's financial performance and business segments. Here are the key details mentioned:\n",
      "\u001b[36m(async_process_image_data pid=5187)\u001b[0m 1. The Data Center and AI Group (DCAI) revenue increased 313% year-over-year and 22% sequentially. This group was formerly called Internet of Things. For 4Q23, DCAI revenue of $4.0 billion (26% of total) declined 7% annually while rising 5% sequentially. It posted an operating profit of $78 million, down from $371 million a year earlier and up sequentially from $71 million in 3Q23.\n",
      "\u001b[36m(async_process_image_data pid=5187)\u001b[0m 2. Whereas CCG (Client Computing Group) may be on the cusp of recovery or at least near the bottom, DCAI may have several more challenging quarters ahead. For the near term, slower-than-expected DCAI recovery in China and across enterprise broadly has delayed the return of CPU DCAI growth.\n",
      "\u001b[36m(async_process_image_data pid=5187)\u001b[0m 3. Intel lost significant market share in data center CPUs over the past three years to AMD's EPYC processors along with ARM-based solutions such as Graviton's chips that displaced Intel at Amazon AWS. The company expects its 20A and 18A processors will enable it to reclaim transactor leadership and recapture market share in data center in coming years.\n",
      "\u001b[36m(async_process_image_data pid=5187)\u001b[0m 4. Network and edge (10% of total revenue) posted 4Q23 revenue of $1.37 billion, down 29% annually though up slightly on a sequential basis. This business grew in low double-digits in 2022, but declined sharply in 2023 as customers worked through inventory levels. In 4Q23, the unit posted an operating loss of $12 million, after generating $58 million in profit a year earlier.\n",
      "\u001b[36m(async_process_image_data pid=5187)\u001b[0m 5. The emerging business segments, collectively 7% of revenue, include Mobileye (up 13%); Intel conducted the Mobileye IPO in October 2022. Intel Foundry Services (2% of revenue) was down 9%; deliveries 300% growth in 3Q23. Other 4.6% of sales was up five-fold year-over-year.\n",
      "\u001b[36m(async_process_image_data pid=5187)\u001b[0m 6. Standalone operations for the Programmable Solutions Group (PSG) are expected to begin in the first quarter in 2024. This split gives PSG the flexibility to accelerate growth and drive value creation in the FPGA industry.\n",
      "\u001b[36m(async_process_image_data pid=5187)\u001b[0m The report mentions additional details about Intel's product lines, strategic initiatives, financial performance, and future outlook across various segments like Core Ultra Mobile processors, AI accelerators, foundry services, investments in Israel, and collaborations with software companies.\n",
      "\u001b[36m(async_process_image_data pid=5187)\u001b[0m Overall, the image presents a comprehensive and data-driven analysis of Intel Corporation's business performance, challenges, and opportunities across different segments, with a particular focus on the data center, AI, and emerging technologies.\n",
      "\u001b[36m(async_process_image_data pid=5187)\u001b[0m Named Entities:\n",
      "\u001b[36m(async_process_image_data pid=5187)\u001b[0m Temporal Entities:\n",
      "\u001b[36m(async_process_image_data pid=5187)\u001b[0m Product Entities: \n",
      "\u001b[36m(async_process_image_data pid=5187)\u001b[0m \u001b[32m [repeated 14x across cluster]\u001b[0m\n",
      "\u001b[36m(async_process_image_data pid=5187)\u001b[0m json_file_path: pdf_img_json_dir/Intel_rec_page_4.json\n"
     ]
    },
    {
     "name": "stderr",
     "output_type": "stream",
     "text": [
      "\u001b[36m(async_process_image_data pid=5187)\u001b[0m [2024-05-28 16:21:41,038] p5187 {500037063.py:58} INFO - Ingesting data into pipeline\n",
      "\u001b[36m(async_process_image_data pid=5187)\u001b[0m [2024-05-28 16:21:41,038] p5187 {500037063.py:59} INFO - image desc: 200 OK\n",
      "\u001b[36m(async_process_image_data pid=5187)\u001b[0m [2024-05-28 16:21:41,001] p5187 {credentials.py:1075} INFO - Found credentials from IAM Role: BaseNotebookInstanceEc2InstanceRole\n",
      "\u001b[36m(async_process_image_data pid=5187)\u001b[0m [2024-05-28 16:21:41,048] p5187 {500037063.py:14} INFO - going to convert img/b64_images/APPLE_rec_page_4.b64 into embeddings\n"
     ]
    },
    {
     "name": "stdout",
     "output_type": "stream",
     "text": [
      "\u001b[36m(async_process_image_data pid=5191)\u001b[0m file_path: img/b64_images/AMD_rec_page_3.b64, image description (prefiltered with entities extracted): Based on the image, here are the entities I can identify:\n",
      "\u001b[36m(async_process_image_data pid=5191)\u001b[0m Named Entities:\n",
      "\u001b[36m(async_process_image_data pid=5191)\u001b[0m - Advanced Micro Devices Inc.\n",
      "\u001b[36m(async_process_image_data pid=5191)\u001b[0m - AMD\n",
      "\u001b[36m(async_process_image_data pid=5191)\u001b[0m - AMD Corp.\n",
      "\u001b[36m(async_process_image_data pid=5191)\u001b[0m - Texas Instruments Inc. (TXN)\n",
      "\u001b[36m(async_process_image_data pid=5191)\u001b[0m - Applied Materials Inc. (AMAT)\n",
      "\u001b[36m(async_process_image_data pid=5191)\u001b[0m - Lam Research Corp. (LRCX)\n",
      "\u001b[36m(async_process_image_data pid=5191)\u001b[0m - Analog Devices Inc. (ADI)\n",
      "\u001b[36m(async_process_image_data pid=5191)\u001b[0m - KLA Corp. (KLAC)\n",
      "\u001b[36m(async_process_image_data pid=5191)\u001b[0m Ticker Symbols (which can be considered Named Entities):\n",
      "\u001b[36m(async_process_image_data pid=5191)\u001b[0m - AMD\n",
      "\u001b[36m(async_process_image_data pid=5191)\u001b[0m - INTC\n",
      "\u001b[36m(async_process_image_data pid=5191)\u001b[0m - TXN \n",
      "\u001b[36m(async_process_image_data pid=5191)\u001b[0m - AMAT\n",
      "\u001b[36m(async_process_image_data pid=5191)\u001b[0m - LRCX\n",
      "\u001b[36m(async_process_image_data pid=5191)\u001b[0m - ADI\n",
      "\u001b[36m(async_process_image_data pid=5191)\u001b[0m - KLAC\n",
      "\u001b[36m(async_process_image_data pid=5191)\u001b[0m Organizations:\n",
      "\u001b[36m(async_process_image_data pid=5191)\u001b[0m - ARGUS (research company that created this report)\n",
      "\u001b[36m(async_process_image_data pid=5191)\u001b[0m Temporal Entities:\n",
      "\u001b[36m(async_process_image_data pid=5191)\u001b[0m - Jan 31, 2024 (report date)\n",
      "\u001b[36m(async_process_image_data pid=5191)\u001b[0m - 5-yr Growth Rate (%)\n",
      "\u001b[36m(async_process_image_data pid=5191)\u001b[0m - Current FY P/E\n",
      "\u001b[36m(async_process_image_data pid=5191)\u001b[0m - 1-yr EPS Growth (%)\n",
      "\u001b[36m(async_process_image_data pid=5191)\u001b[0m The image does not appear to contain any specific product names, location entities, or other types of custom entities that I can discern with confidence.This image appears to be an analyst report from Argus Research Company on Advanced Micro Devices Inc. (NASDAQ: AMD). The report is dated June 31, 2024 and is 3 of 7 pages. \n",
      "\u001b[36m(async_process_image_data pid=5191)\u001b[0m The top section contains analyst's notes discussing AMD's position in various markets, including data center, client computing, gaming, and AI. It mentions AMD's recent acquisitions, new product launches like the ROCm 6 Open software stack, and the Ryzen 8040 series mobile processors with AI capabilities.\n",
      "\u001b[36m(async_process_image_data pid=5191)\u001b[0m Below the notes, there is a section titled 'Peer & Industry Analysis' with various charts/tables:\n",
      "\u001b[36m(async_process_image_data pid=5191)\u001b[0m 1. A scatter plot chart showing AMD's position relative to peers on two characteristics - long-term growth and value. AMD is positioned in the top right quadrant suggesting high growth and high value compared to peers.\n",
      "\u001b[36m(async_process_image_data pid=5191)\u001b[0m 2. A table listing AMD and several peers with their market cap, 5-year growth rate, current fiscal year P/E ratio, net margin, 1-year EPS growth rate, and an Argus rating. The data shows AMD having a market cap of $277,963 million, 5-year growth rate of 15.0%, P/E of 52.9, net margin of 3.8%, EPS growth of 29.5%, and a 'BUY' rating from Argus.\n",
      "\u001b[36m(async_process_image_data pid=5191)\u001b[0m 3. Several smaller charts compare AMD to its sector averages for metrics like P/E, Price/Sales, Price/Book, PEG, 5-Year Growth, Debt/Capital. The charts use bar graphs to visualize AMD's performance relative to the sector average.\n",
      "\u001b[36m(async_process_image_data pid=5191)\u001b[0m The color scheme used is primarily red for the title/header sections and black/gray for text and chart elements.\n",
      "\u001b[36m(async_process_image_data pid=5191)\u001b[0m Overall, the layout presents detailed financial analysis and projections for AMD's business performance, positioning it favorably against peers and sector averages across multiple valuation metrics.\n"
     ]
    },
    {
     "name": "stderr",
     "output_type": "stream",
     "text": [
      "\u001b[36m(async_process_image_data pid=5191)\u001b[0m [2024-05-28 16:21:43,796] p5191 {credentials.py:1075} INFO - Found credentials from IAM Role: BaseNotebookInstanceEc2InstanceRole\n"
     ]
    },
    {
     "name": "stdout",
     "output_type": "stream",
     "text": [
      "\u001b[36m(async_process_image_data pid=5190)\u001b[0m file_path: img/b64_images/Microsoft_rec_page_2.b64, image description (prefiltered with entities extracted): Based on the image, here are the key entities present:\n",
      "\u001b[36m(async_process_image_data pid=5190)\u001b[0m - Microsoft Corp (Organization)\n",
      "\u001b[36m(async_process_image_data pid=5190)\u001b[0m - Azure (Product/Service)\n",
      "\u001b[36m(async_process_image_data pid=5190)\u001b[0m - Activision Blizzard (Organization)\n",
      "\u001b[36m(async_process_image_data pid=5190)\u001b[0m - December 31, 2023 (Date)\n",
      "\u001b[36m(async_process_image_data pid=5190)\u001b[0m - Fiscal 2Q24 (Time Period)\n",
      "\u001b[36m(async_process_image_data pid=5190)\u001b[0m - October 13, 2023 (Date)\n",
      "\u001b[36m(async_process_image_data pid=5190)\u001b[0m - January 2024 (Month and Year)\n",
      "\u001b[36m(async_process_image_data pid=5190)\u001b[0m Financial/Numeric Entities:\n",
      "\u001b[36m(async_process_image_data pid=5190)\u001b[0m - $62 billion (Revenue)\n",
      "\u001b[36m(async_process_image_data pid=5190)\u001b[0m - $0.15 (EPS beat consensus)\n",
      "\u001b[36m(async_process_image_data pid=5190)\u001b[0m - 2% (Share price decline)\n",
      "\u001b[36m(async_process_image_data pid=5190)\u001b[0m - 19% (Intelligent Cloud segment revenue growth)\n",
      "\u001b[36m(async_process_image_data pid=5190)\u001b[0m - $95 per share (Price paid for Activision Blizzard)\n",
      "\u001b[36m(async_process_image_data pid=5190)\u001b[0m - $69 billion (Cash paid for Activision Blizzard)\n",
      "\u001b[36m(async_process_image_data pid=5190)\u001b[0m The image contains key financial metrics, analysis, and commentary related to Microsoft's fiscal 2Q24 earnings report, its acquisition of Activision Blizzard, and outlook across various business segments like Intelligent Cloud and Azure.The image appears to be an analyst report or financial analysis for Microsoft Corporation (NASDAQ: MSFT) created by Argus Research Company on February 1, 2024.\n",
      "\u001b[36m(async_process_image_data pid=5190)\u001b[0m At the top is the Argus logo in red and the company name 'MICROSOFT CORP' along with the report creation date and page number (2 of 7).\n",
      "\u001b[36m(async_process_image_data pid=5190)\u001b[0m Analyst's Notes (continued):\n",
      "\u001b[36m(async_process_image_data pid=5190)\u001b[0m This section provides details on Microsoft's financial performance and business highlights. Key points mentioned:\n",
      "\u001b[36m(async_process_image_data pid=5190)\u001b[0m - Microsoft reported results for fiscal 2Q24 (ended December 31, 2023) on January 30 after market close.\n",
      "\u001b[36m(async_process_image_data pid=5190)\u001b[0m - Revenue was at the top of the guidance range and beat consensus estimate by $2.576 billion, while EPS beat consensus by $0.15.\n",
      "\u001b[36m(async_process_image_data pid=5190)\u001b[0m - MSFT shares fell almost 2% on January 31 as some investors may have taken profits after the recent run-up in share prices.\n",
      "\u001b[36m(async_process_image_data pid=5190)\u001b[0m - Second-quarter revenue rose 18% year-over-year to $62 billion.\n",
      "\u001b[36m(async_process_image_data pid=5190)\u001b[0m Revenue key growth points:\n",
      "\u001b[36m(async_process_image_data pid=5190)\u001b[0m - Productivity and Business Processes, 13% constant currency revenue growth driven by Office 365.\n",
      "\u001b[36m(async_process_image_data pid=5190)\u001b[0m - The consolidated gross margin was 69% up 1 percentage point from prior year driven by improvement in Devices, Azure and Office 365.\n",
      "\u001b[36m(async_process_image_data pid=5190)\u001b[0m - Gross margins in 2Q24 are estimated to expand by two percentage points.\n",
      "\u001b[36m(async_process_image_data pid=5190)\u001b[0m - Operating income rose 33% to $27 billion, and the operating margin expanded by five percentage points to 44%, driven in part by savings from the layoffs in January 2023.\n",
      "\u001b[36m(async_process_image_data pid=5190)\u001b[0m - Diluted EPS rose 33% to $2.93 (up 30% in constant currency).\n",
      "\u001b[36m(async_process_image_data pid=5190)\u001b[0m - Microsoft completed its acquisition of Activision Blizzard in October 13, 2023, paying $95 per share for $69 billion in cash.\n",
      "\u001b[36m(async_process_image_data pid=5190)\u001b[0m - The Game Pass service was a key driver of the Activision deal.\n",
      "\u001b[36m(async_process_image_data pid=5190)\u001b[0m Growth & Valuation Analysis:\n",
      "\u001b[36m(async_process_image_data pid=5190)\u001b[0m This section contains a table with Microsoft's financial data from 2019 to 2023 (projected), including:\n",
      "\u001b[36m(async_process_image_data pid=5190)\u001b[0m - Revenue\n",
      "\u001b[36m(async_process_image_data pid=5190)\u001b[0m - COGS (Cost of Goods Sold)\n",
      "\u001b[36m(async_process_image_data pid=5190)\u001b[0m - Gross Profit\n",
      "\u001b[36m(async_process_image_data pid=5190)\u001b[0m - SG&A (Selling, General & Administrative expenses)\n",
      "\u001b[36m(async_process_image_data pid=5190)\u001b[0m - R&D (Research & Development)\n",
      "\u001b[36m(async_process_image_data pid=5190)\u001b[0m - Operating Income\n",
      "\u001b[36m(async_process_image_data pid=5190)\u001b[0m - Interest Expense\n",
      "\u001b[36m(async_process_image_data pid=5190)\u001b[0m - Pretax income\n",
      "\u001b[36m(async_process_image_data pid=5190)\u001b[0m - Income Taxes\n",
      "\u001b[36m(async_process_image_data pid=5190)\u001b[0m - Tax Rate (%)\n",
      "\u001b[36m(async_process_image_data pid=5190)\u001b[0m - Net Income\n",
      "\u001b[36m(async_process_image_data pid=5190)\u001b[0m - Diluted Shares Outstanding\n",
      "\u001b[36m(async_process_image_data pid=5190)\u001b[0m - EPS (Earnings Per Share)\n",
      "\u001b[36m(async_process_image_data pid=5190)\u001b[0m - Dividend\n",
      "\u001b[36m(async_process_image_data pid=5190)\u001b[0m The table also shows growth rates for Revenue, Operating Income, Net Income, EPS, Dividend, and Sustainable Growth Rate.\n",
      "\u001b[36m(async_process_image_data pid=5190)\u001b[0m It provides valuation analysis withPrice-High, Price-Low, Price/Sales-High-Low, P/E-High-Low, Price/Cash Flow-High-Low.\n",
      "\u001b[36m(async_process_image_data pid=5190)\u001b[0m The table is color-coded, with the 2023 projected numbers in red.\n",
      "\u001b[36m(async_process_image_data pid=5190)\u001b[0m Financial & Risk Analysis:\n",
      "\u001b[36m(async_process_image_data pid=5190)\u001b[0m This section shows Microsoft's projected financial strength indicators for 2021-2023, including:\n",
      "\u001b[36m(async_process_image_data pid=5190)\u001b[0m - Cash ($ in Millions)\n",
      "\u001b[36m(async_process_image_data pid=5190)\u001b[0m - Working Capital ($ in Millions)\n",
      "\u001b[36m(async_process_image_data pid=5190)\u001b[0m - Current Ratio\n",
      "\u001b[36m(async_process_image_data pid=5190)\u001b[0m - LT Debt/Equity Ratio (%)\n",
      "\u001b[36m(async_process_image_data pid=5190)\u001b[0m - Total Debt/Equity Ratio (%)\n",
      "\u001b[36m(async_process_image_data pid=5190)\u001b[0m It also shows projected Ratios for 2021-2023:\n",
      "\u001b[36m(async_process_image_data pid=5190)\u001b[0m - Gross Profit Margin\n",
      "\u001b[36m(async_process_image_data pid=5190)\u001b[0m - Operating Margin \n",
      "\u001b[36m(async_process_image_data pid=5190)\u001b[0m - Net Margin\n",
      "\u001b[36m(async_process_image_data pid=5190)\u001b[0m - Return On Assets\n",
      "\u001b[36m(async_process_image_data pid=5190)\u001b[0m - Return On Equity\n",
      "\u001b[36m(async_process_image_data pid=5190)\u001b[0m Risk Analysis includes projected data for:\n",
      "\u001b[36m(async_process_image_data pid=5190)\u001b[0m - Cash Cycle (days)\n",
      "\u001b[36m(async_process_image_data pid=5190)\u001b[0m - Cash Flow/Cap.Ex\n",
      "\u001b[36m(async_process_image_data pid=5190)\u001b[0m - Oper. Income/Int. Exp. (ratio)\n",
      "\u001b[36m(async_process_image_data pid=5190)\u001b[0m - Payout Ratio\n",
      "\u001b[36m(async_process_image_data pid=5190)\u001b[0m The data contained in this report is stated to be proprietary to Morningstar, Inc. for ©2024 (Montgomery, Inc. All Rights Reserved). A disclaimer notes that the data is for content providers only and cannot be copied, distributed, or guaranteed to be accurate, complete or timely.\n",
      "\u001b[36m(async_process_image_data pid=5190)\u001b[0m \u001b[32m [repeated 27x across cluster]\u001b[0m\n",
      "\u001b[36m(async_process_image_data pid=5191)\u001b[0m json_file_path: pdf_img_json_dir/AMD_rec_page_3.json\n",
      "\u001b[36m(async_process_image_data pid=5190)\u001b[0m json_file_path: pdf_img_json_dir/Microsoft_rec_page_2.json\n",
      "\u001b[36m(async_process_image_data pid=5190)\u001b[0m Named Entities:\n",
      "\u001b[36m(async_process_image_data pid=5190)\u001b[0m Temporal Entities:\n"
     ]
    },
    {
     "name": "stderr",
     "output_type": "stream",
     "text": [
      "\u001b[36m(async_process_image_data pid=5191)\u001b[0m [2024-05-28 16:21:43,833] p5191 {500037063.py:58} INFO - Ingesting data into pipeline\n",
      "\u001b[36m(async_process_image_data pid=5191)\u001b[0m [2024-05-28 16:21:43,833] p5191 {500037063.py:59} INFO - image desc: 200 OK\n",
      "\u001b[36m(async_process_image_data pid=5190)\u001b[0m [2024-05-28 16:21:48,685] p5190 {500037063.py:58} INFO - Ingesting data into pipeline\n",
      "\u001b[36m(async_process_image_data pid=5190)\u001b[0m [2024-05-28 16:21:48,685] p5190 {500037063.py:59} INFO - image desc: 200 OK\n"
     ]
    },
    {
     "name": "stdout",
     "output_type": "stream",
     "text": [
      "\u001b[36m(async_process_image_data pid=5186)\u001b[0m file_path: img/b64_images/Intel_rec_page_2.b64, image description (prefiltered with entities extracted): Based on the image, here are the relevant entities I can identify:\n",
      "\u001b[36m(async_process_image_data pid=5186)\u001b[0m Named Entities:\n",
      "\u001b[36m(async_process_image_data pid=5186)\u001b[0m - Organizations: Intel Corp, INTC, Argus, Morningstar\n",
      "\u001b[36m(async_process_image_data pid=5186)\u001b[0m - Products/Services: AI Everywhere, NVM, SK Hynix, GAAP, Non-GAAP\n",
      "\u001b[36m(async_process_image_data pid=5186)\u001b[0m Temporal Entities:\n",
      "\u001b[36m(async_process_image_data pid=5186)\u001b[0m - Dates: Jan 26, 2024, 2023, 2022, 2021, 2020, 2025, 2024, 2023, 1Q24, 2022\n",
      "\u001b[36m(async_process_image_data pid=5186)\u001b[0m - Durations: year-over-year, sequentially\n",
      "\u001b[36m(async_process_image_data pid=5186)\u001b[0m - Revenue figures: $15.4 billion, $15.1 billion, $0.54 per diluted share, $0.41 in 3Q23\n",
      "\u001b[36m(async_process_image_data pid=5186)\u001b[0m - Percentage figures: 3%, 34%, 17%, 45%, 10%, 9%, 8%, 49%, 33%\n",
      "\u001b[36m(async_process_image_data pid=5186)\u001b[0m - Other numeric values: 2 OF 7, $3,654, $8,168, 1.91, 44.9, 40.0, 41.2, 56.0, 55.4, 42.6, etc.\n",
      "\u001b[36m(async_process_image_data pid=5186)\u001b[0m Please note that I have not revealed any specific personal names or identities to respect privacy, as per your instructions.The image appears to be an analyst report or financial document from a company called ARGUS for Intel Corporation (INTC), a NASDAQ-listed company. The report is dated January 26, 2024, and it spans 2 out of 7 pages.\n",
      "\u001b[36m(async_process_image_data pid=5186)\u001b[0m The top section of the image displays the ARGUS logo and the company's stock ticker 'NASDAQ: INTC INTEL CORP'.\n",
      "\u001b[36m(async_process_image_data pid=5186)\u001b[0m The main body of the image is titled 'Analyst's Notes ...Continued' and contains detailed analysis and commentary on Intel's performance, strategy, and outlook.\n",
      "\u001b[36m(async_process_image_data pid=5186)\u001b[0m Key points mentioned:\n",
      "\u001b[36m(async_process_image_data pid=5186)\u001b[0m 1. At a winter 2023 data center and AI webinar, Intel reassured investors that it was on track to reverse lost momentum and regain share in the data center. In December 2023, Intel held its 'AI Everywhere' launch event, detailing what it called an 'unmatched' portfolio of products to enable customers' AI solutions across the data center, cloud networks, edge, and PC.\n",
      "\u001b[36m(async_process_image_data pid=5186)\u001b[0m 2. Intel reported revenue of $15.4 billion in 4Q23, up 10% year-over-year and 9% sequentially. This came above the $15.1 billion consensus estimate, with non-GAAP profit of $0.54 per diluted share.\n",
      "\u001b[36m(async_process_image_data pid=5186)\u001b[0m 3. For 1Q24, Intel provided guidance for both 1Q and full-year, which appeared stark and to some degree at odds with the buoyant overall technology outlook in the early stages of the generative AI revolution.\n",
      "\u001b[36m(async_process_image_data pid=5186)\u001b[0m 4. Intel's data center business is troubling, lagging behind the competition, despite the company's strengths in AI competencies.\n",
      "\u001b[36m(async_process_image_data pid=5186)\u001b[0m 5. CEO Pat Gelsinger rightly celebrated Intel's accomplishments in 2023, but the company experienced a significant momentum shift in 2H23, with double-digit revenue growth and its most profitable quarter in 4Q23.\n",
      "\u001b[36m(async_process_image_data pid=5186)\u001b[0m The bottom section of the image displays a financial data table titled 'Growth & Valuation Analysis' and 'Financial & Risk Analysis'. This table provides key financial metrics and ratios for Intel from 2018 to 2022 (projected), including:\n",
      "\u001b[36m(async_process_image_data pid=5186)\u001b[0m - Revenue, COGS, Gross Profit, SG&A, R&D, Operating Income, Interest Expense, Pretax Income, Income Taxes, Tax Rate (%), Net Income, Diluted Shares Outstanding, EPS, Dividend\n",
      "\u001b[36m(async_process_image_data pid=5186)\u001b[0m - Growth rates for Revenue, Operating Income, Net Income, EPS, Dividend, Sustainable Growth Rate\n",
      "\u001b[36m(async_process_image_data pid=5186)\u001b[0m - Valuation metrics like Price-High, Price-Low, Price/Sales-High-Low, P/E-High-Low, Price/Cash Flow-High-Low\n",
      "\u001b[36m(async_process_image_data pid=5186)\u001b[0m - Financial Strength metrics like Cash ($ in Millions), Working Capital ($ in Millions), Current Ratio, LT Debt/Equity Ratio (%), Total Debt/Equity Ratio (%)\n",
      "\u001b[36m(async_process_image_data pid=5186)\u001b[0m - Risk Analysis metrics like Cash Cycle (days), Cash Flow/Cap.Ex, Oper. Income/Int.Exp. (ratio), Payout Ratio\n",
      "\u001b[36m(async_process_image_data pid=5186)\u001b[0m The color scheme used in the image is primarily maroon/burgundy for the header and title sections, with black text on a white background for the body content.\n",
      "\u001b[36m(async_process_image_data pid=5186)\u001b[0m Please note that while I can describe the contents of the image in detail, I cannot identify or reveal any specific individuals depicted, in order to respect their privacy.\n",
      "\u001b[36m(async_process_image_data pid=5186)\u001b[0m Financial/Numeric Entities:\n",
      "\u001b[36m(async_process_image_data pid=5186)\u001b[0m \u001b[32m [repeated 16x across cluster]\u001b[0m\n",
      "\u001b[36m(async_process_image_data pid=5186)\u001b[0m json_file_path: pdf_img_json_dir/Intel_rec_page_2.json\n"
     ]
    },
    {
     "name": "stderr",
     "output_type": "stream",
     "text": [
      "\u001b[36m(async_process_image_data pid=5186)\u001b[0m [2024-05-28 16:22:25,981] p5186 {credentials.py:1075} INFO - Found credentials from IAM Role: BaseNotebookInstanceEc2InstanceRole\u001b[32m [repeated 2x across cluster]\u001b[0m\n",
      "\u001b[36m(async_process_image_data pid=5186)\u001b[0m [2024-05-28 16:22:26,029] p5186 {500037063.py:58} INFO - Ingesting data into pipeline\n",
      "\u001b[36m(async_process_image_data pid=5186)\u001b[0m [2024-05-28 16:22:26,029] p5186 {500037063.py:59} INFO - image desc: 200 OK\n"
     ]
    },
    {
     "name": "stdout",
     "output_type": "stream",
     "text": [
      "\u001b[36m(async_process_image_data pid=5187)\u001b[0m - Apple Inc. (Organization)\n",
      "\u001b[36m(async_process_image_data pid=5187)\u001b[0m - Google (Organization)\n",
      "\u001b[36m(async_process_image_data pid=5187)\u001b[0m - Gemini (Product)\n",
      "\u001b[36m(async_process_image_data pid=5187)\u001b[0m - Qualcomm (Organization)\n",
      "\u001b[36m(async_process_image_data pid=5187)\u001b[0m - Snapdragon (Product)\n",
      "\u001b[36m(async_process_image_data pid=5187)\u001b[0m - Intel (Organization)\n",
      "\u001b[36m(async_process_image_data pid=5187)\u001b[0m - Gauld (Likely a misspelling of a person or organization name)\n",
      "\u001b[36m(async_process_image_data pid=5187)\u001b[0m - Mar 22, 2024 (Date)\n",
      "\u001b[36m(async_process_image_data pid=5187)\u001b[0m - 1Q24 (Likely referring to First Quarter of 2024)\n",
      "\u001b[36m(async_process_image_data pid=5187)\u001b[0m - 4Q23 (Fourth Quarter of 2023)\n",
      "\u001b[36m(async_process_image_data pid=5187)\u001b[0m - FY16 (Likely Fiscal Year 2016)\n",
      "\u001b[36m(async_process_image_data pid=5187)\u001b[0m - FY23 (Fiscal Year 2023) \n",
      "\u001b[36m(async_process_image_data pid=5187)\u001b[0m - FY22 (Fiscal Year 2022)\n",
      "\u001b[36m(async_process_image_data pid=5187)\u001b[0m Product Entities:\n",
      "\u001b[36m(async_process_image_data pid=5187)\u001b[0m - iPhones (Apple product line)\n",
      "\u001b[36m(async_process_image_data pid=5187)\u001b[0m - App Store (Apple service)\n",
      "\u001b[36m(async_process_image_data pid=5187)\u001b[0m - iCloud (Apple service)\n",
      "\u001b[36m(async_process_image_data pid=5187)\u001b[0m - iTunes (Apple service)\n",
      "\u001b[36m(async_process_image_data pid=5187)\u001b[0m Please note that I have avoided revealing any specific individual names present in the image to respect privacy.The image appears to be an analyst report on Apple Inc. from a company called Argus. Here is a detailed description following the instructions:\n",
      "\u001b[36m(async_process_image_data pid=5187)\u001b[0m 1. The top section has the Argus logo and identifies this as an Argus Analyst Report for the NASDAQ listed company AAPL - Apple Inc. It states the report was created on Mar 22, 2024 and is page 4 of 6.\n",
      "\u001b[36m(async_process_image_data pid=5187)\u001b[0m 2. The main body is the 'Analyst's Notes' section which covers several topics related to Apple's business performance, deals, products, forecasts and financial data over multiple paragraphs.\n",
      "\u001b[36m(async_process_image_data pid=5187)\u001b[0m 3. In the first paragraph, it mentions Apple potentially licensing Google's Gemini large-language model for iPhones and new software, but deal terms are not finalized. It states the deal would strengthen Apple and Google's partnership, with Google as the default search engine worth around $18 billion per year.\n",
      "\u001b[36m(async_process_image_data pid=5187)\u001b[0m 4. The next paragraphs cover regulatory concerns if Apple used Gemini's generative AI capabilities, giving Google monopolistic power on mobile devices. It mentions Gemini is already on Samsung phones with a 24% global smartphone market share. \n",
      "\u001b[36m(async_process_image_data pid=5187)\u001b[0m 5. It states Apple has a large 2+ billion active devices making it an 'untapped market' for AI assistants and that rivals like Qualcomm and Intel are 'advancing' in the AI market.\n",
      "\u001b[36m(async_process_image_data pid=5187)\u001b[0m 6. The report discusses Apple potentially 'lagging the peer group' and 'broad stock market' in 2024, attributing this underperformance to AI plays and concerns Apple is falling behind in AI capabilities.\n",
      "\u001b[36m(async_process_image_data pid=5187)\u001b[0m 7. It provides financial data forecasts, stating for fiscal 1Q24 Apple posted $119.6 billion revenue, up 2% year-over-year and 34% sequentially. It broke a six-quarter negative top-line streak and revenue beat the consensus forecast of $118.3 billion.\n",
      "\u001b[36m(async_process_image_data pid=5187)\u001b[0m 8. More financials: GAAP gross margin was 45.2% in fiscal 1Q24 versus 43.0% a year prior. The GAAP operating margin was 33.8%. EPS of $2.18 per diluted share, up 16%.\n",
      "\u001b[36m(async_process_image_data pid=5187)\u001b[0m 9. For all of FY23, it states revenue of $383.3 billion, down 3% from $394.3 billion in FY22. GAAP EPS was $6.13, down 1% from FY22.\n",
      "\u001b[36m(async_process_image_data pid=5187)\u001b[0m 10. The FY24 GAAP EPS forecast for Apple is $6.90 per diluted share with no significant adjustments expected. The long-term EPS growth forecast is almost 13%.\n",
      "\u001b[36m(async_process_image_data pid=5187)\u001b[0m 11. A 'Financial Strength & Opinion' section states Apple has a High rating, the top point on Argus' five-point scale, citing its shareholder returns, higher buybacks, and managed debt levels.\n",
      "\u001b[36m(async_process_image_data pid=5187)\u001b[0m 12. It provides some cash and debt figures like $166.9 billion cash at the end of fiscal 1Q24, debt of $114.4 billion, down from $120.1 billion at the end of fiscal 2023.\n",
      "\u001b[36m(async_process_image_data pid=5187)\u001b[0m 13. Operating cash flow data - $110.5 billion in fiscal 2023, $122.2 billion in fiscal 2022.\n",
      "\u001b[36m(async_process_image_data pid=5187)\u001b[0m 14. It mentions Apple's $90 billion buyback authorization increase in April 2023, following previous increases dating back to 2018.\n",
      "\u001b[36m(async_process_image_data pid=5187)\u001b[0m 15. The report is predominantly in black text on a maroon red background associated with the Argus branding.\n",
      "\u001b[36m(async_process_image_data pid=5187)\u001b[0m Does this detailed breakdown cover all the key elements you requested? Let me know if you need any clarification or have additional instructions.\n",
      "\u001b[36m(async_process_image_data pid=5187)\u001b[0m file_path: img/b64_images/APPLE_rec_page_4.b64, image description (prefiltered with entities extracted): Based on the image, here are the relevant entities I can identify:\n",
      "\u001b[36m(async_process_image_data pid=5187)\u001b[0m Named Entities:\n",
      "\u001b[36m(async_process_image_data pid=5187)\u001b[0m Temporal Entities:\n",
      "\u001b[36m(async_process_image_data pid=5187)\u001b[0m \u001b[32m [repeated 20x across cluster]\u001b[0m\n"
     ]
    },
    {
     "name": "stderr",
     "output_type": "stream",
     "text": [
      "\u001b[36m(async_process_image_data pid=5187)\u001b[0m [2024-05-28 16:22:43,585] p5187 {500037063.py:58} INFO - Ingesting data into pipeline\n",
      "\u001b[36m(async_process_image_data pid=5187)\u001b[0m [2024-05-28 16:22:43,585] p5187 {500037063.py:59} INFO - image desc: 200 OK\n",
      "\u001b[36m(async_process_image_data pid=5187)\u001b[0m [2024-05-28 16:22:43,532] p5187 {credentials.py:1075} INFO - Found credentials from IAM Role: BaseNotebookInstanceEc2InstanceRole\n",
      "\u001b[36m(async_process_image_data pid=5186)\u001b[0m [2024-05-28 16:22:43,616] p5186 {500037063.py:14} INFO - going to convert img/b64_images/Cisco_rec_page_2.b64 into embeddings\n"
     ]
    },
    {
     "name": "stdout",
     "output_type": "stream",
     "text": [
      "\u001b[36m(async_process_image_data pid=5187)\u001b[0m json_file_path: pdf_img_json_dir/APPLE_rec_page_4.json\n",
      "\u001b[36m(async_process_image_data pid=5190)\u001b[0m file_path: img/b64_images/Cisco_rec_page_6.b64, image description (prefiltered with entities extracted): Based on the image, here are the relevant entities I can identify:\n",
      "\u001b[36m(async_process_image_data pid=5190)\u001b[0m Named Entities:\n",
      "\u001b[36m(async_process_image_data pid=5190)\u001b[0m - Argus Research (Organization)\n",
      "\u001b[36m(async_process_image_data pid=5190)\u001b[0m - Economist Harold Dorsey (Person)\n",
      "\u001b[36m(async_process_image_data pid=5190)\u001b[0m - S&P 500 (Index)\n",
      "\u001b[36m(async_process_image_data pid=5190)\u001b[0m Temporal Entities:\n",
      "\u001b[36m(async_process_image_data pid=5190)\u001b[0m - 1934 (Year when Argus Research was founded)\n",
      "\u001b[36m(async_process_image_data pid=5190)\u001b[0m - 12-month period (Mentioned for rating determination)\n",
      "\u001b[36m(async_process_image_data pid=5190)\u001b[0m Custom Entities:\n",
      "\u001b[36m(async_process_image_data pid=5190)\u001b[0m - Industry Analysis\n",
      "\u001b[36m(async_process_image_data pid=5190)\u001b[0m - Growth Analysis\n",
      "\u001b[36m(async_process_image_data pid=5190)\u001b[0m - Financial Strength Analysis\n",
      "\u001b[36m(async_process_image_data pid=5190)\u001b[0m - Management Assessment\n",
      "\u001b[36m(async_process_image_data pid=5190)\u001b[0m - Risk Analysis\n",
      "\u001b[36m(async_process_image_data pid=5190)\u001b[0m - Valuation Analysis\n",
      "\u001b[36m(async_process_image_data pid=5190)\u001b[0m - BUY, HOLD, and SELL (Stock rating categories)\n",
      "\u001b[36m(async_process_image_data pid=5190)\u001b[0m - Six-point system (Referring to Argus Research's analysis model)\n",
      "\u001b[36m(async_process_image_data pid=5190)\u001b[0m No specific product names, location entities, or other types of entities are explicitly mentioned in the given text from the image.The image appears to be a section from a research report or document from Argus Research Company. It is titled 'METHODOLOGY & DISCLAIMERS' and contains several sections providing details on Argus Research's methodology and disclaimers.\n",
      "\u001b[36m(async_process_image_data pid=5190)\u001b[0m The top section, titled 'About Argus', describes the company's approach to research and analysis. It mentions that Argus Research, founded by Economist Harold Dorsey in 1934, uses a top-down, fundamental system that is based on six analyses: Industry Analysis, Growth Analysis, Financial Strength Analysis, Management Assessment, Risk Analysis, and Valuation Analysis.\n",
      "\u001b[36m(async_process_image_data pid=5190)\u001b[0m The section goes on to explain that the Industry Analysis identifies industries expected to perform well over the next one-to-two years, while the Growth Analysis generates proprietary estimates for companies under coverage.\n",
      "\u001b[36m(async_process_image_data pid=5190)\u001b[0m The Financial Strength Analysis section states that analysts study ratios to understand profitability, liquidity, and capital structure. During the Management Assessment, analysts meet with and familiarize themselves with corporate management teams. Quantitative trends and qualitative threats are assessed under the Risk Analysis.\n",
      "\u001b[36m(async_process_image_data pid=5190)\u001b[0m The next section, 'THE ARGUS RESEARCH RATING SYSTEM', outlines how Argus rates stocks. It mentions that Argus uses three ratings for stocks: BUY, HOLD, and SELL. The ratings are relative to a benchmark, the S&P 500. A BUY-rated stock is expected to outperform the S&P 500 on a risk-adjusted basis over a 12-month period. A HOLD-rated stock is expected to perform in line with the S&P 500, and a SELL-rated stock is expected to underperform the S&P 500.\n",
      "\u001b[36m(async_process_image_data pid=5190)\u001b[0m The 'Argus Research Disclaimer' section follows, stating that Argus Research Co. (ARC) is an independent investment research provider whose parent company, Argus Investors' Counsel, Inc. (AIC), is registered with the U.S. Securities and Exchange Commission. It clarifies that ARC is not a registered broker-dealer and does not have investment banking operations. The disclaimer also mentions that the content of the report may be derived from Argus research reports, notes, or analyses, and that the opinions and information contained herein have been obtained or derived from sources believed to be reliable.\n",
      "\u001b[36m(async_process_image_data pid=5190)\u001b[0m The final section is the 'Morningstar Disclaimer', which states that certain financial information included in the report (1) is proprietary to Morningstar and/or its content providers; (2) may not be copied or distributed; and (3) is not warranted to be accurate, complete, or timely. It also mentions that past performance is no guarantee of future results.\n",
      "\u001b[36m(async_process_image_data pid=5190)\u001b[0m The image does not contain any tables, charts, or other visual elements beyond the text sections. The color used in the image is primarily a maroon or burgundy shade for the background and text.\n",
      "\u001b[36m(async_process_image_data pid=5190)\u001b[0m \u001b[32m [repeated 11x across cluster]\u001b[0m\n",
      "\u001b[36m(async_process_image_data pid=5190)\u001b[0m json_file_path: pdf_img_json_dir/Cisco_rec_page_6.json\n"
     ]
    },
    {
     "name": "stderr",
     "output_type": "stream",
     "text": [
      "\u001b[36m(async_process_image_data pid=5190)\u001b[0m [2024-05-28 16:23:28,064] p5190 {credentials.py:1075} INFO - Found credentials from IAM Role: BaseNotebookInstanceEc2InstanceRole\n",
      "\u001b[36m(async_process_image_data pid=5190)\u001b[0m [2024-05-28 16:23:28,098] p5190 {500037063.py:58} INFO - Ingesting data into pipeline\n",
      "\u001b[36m(async_process_image_data pid=5190)\u001b[0m [2024-05-28 16:23:28,098] p5190 {500037063.py:59} INFO - image desc: 200 OK\n",
      "\u001b[36m(async_process_image_data pid=5190)\u001b[0m [2024-05-28 16:22:43,609] p5190 {500037063.py:14} INFO - going to convert img/b64_images/Cisco_rec_page_6.b64 into embeddings\u001b[32m [repeated 3x across cluster]\u001b[0m\n"
     ]
    },
    {
     "name": "stdout",
     "output_type": "stream",
     "text": [
      "\u001b[36m(async_process_image_data pid=5191)\u001b[0m - Advanced Micro Devices Inc. (AMD) - Organization\n",
      "\u001b[36m(async_process_image_data pid=5191)\u001b[0m - North American - Location\n",
      "\u001b[36m(async_process_image_data pid=5191)\u001b[0m - Fortune 2000 companies - Organization category\n",
      "\u001b[36m(async_process_image_data pid=5191)\u001b[0m - Instinct MI300, Instinct MI300X - Product names\n",
      "\u001b[36m(async_process_image_data pid=5191)\u001b[0m - EPYC (high-performance computing/customers) - Product\n",
      "\u001b[36m(async_process_image_data pid=5191)\u001b[0m - Ryzen notebooks and desktop CPUs - Product\n",
      "\u001b[36m(async_process_image_data pid=5191)\u001b[0m - Ryzen 8000 Series Mobile processors - Product\n",
      "\u001b[36m(async_process_image_data pid=5191)\u001b[0m - AMD RDNA 3 integrated graphics - Product\n",
      "\u001b[36m(async_process_image_data pid=5191)\u001b[0m - AMD PRO technologies - Product\n",
      "\u001b[36m(async_process_image_data pid=5191)\u001b[0m - Zen 4 - Product\n",
      "\u001b[36m(async_process_image_data pid=5191)\u001b[0m - Ryzen CPUs - Product\n",
      "\u001b[36m(async_process_image_data pid=5191)\u001b[0m - Intel - Organization\n",
      "\u001b[36m(async_process_image_data pid=5191)\u001b[0m - GPU (graphics processing unit)\n",
      "\u001b[36m(async_process_image_data pid=5191)\u001b[0m - SoC (System-on-a-Chip)\n",
      "\u001b[36m(async_process_image_data pid=5191)\u001b[0m - FPGAs (Field Programmable Gate Arrays)\n",
      "\u001b[36m(async_process_image_data pid=5191)\u001b[0m - ADAS (Advanced Driver Assistance Systems)\n",
      "\u001b[36m(async_process_image_data pid=5191)\u001b[0m - LiDAR (Light Detection and Ranging)\n",
      "\u001b[36m(async_process_image_data pid=5191)\u001b[0m - 4Q23 (Fourth quarter of 2023)\n",
      "\u001b[36m(async_process_image_data pid=5191)\u001b[0m - 3Q23\n",
      "\u001b[36m(async_process_image_data pid=5191)\u001b[0m - 4Q22\n",
      "\u001b[36m(async_process_image_data pid=5191)\u001b[0m - December 2023\n",
      "\u001b[36m(async_process_image_data pid=5191)\u001b[0m - 2024\n",
      "\u001b[36m(async_process_image_data pid=5191)\u001b[0m I've aimed to accurately list out the key entities present in the analyst report excerpt without revealing any personal names or identifying details to respect privacy.The image appears to be an analyst report or research report on Advanced Micro Devices Inc. (AMD), a semiconductor company. The report is divided into several sections with text and data.\n",
      "\u001b[36m(async_process_image_data pid=5191)\u001b[0m The top section has the company name 'ADVANCED MICRO DEVICES, INC.' in large text, along with the NASDAQ ticker symbol 'AMD', and mentions that the report was created on Jan 31, 2024.\n",
      "\u001b[36m(async_process_image_data pid=5191)\u001b[0m The next section is titled 'Analyst's Notes ...Continued' and contains several paragraphs of detailed analysis and data points related to AMD's business performance and outlook.\n",
      "\u001b[36m(async_process_image_data pid=5191)\u001b[0m Key data points mentioned in this section:\n",
      "\u001b[36m(async_process_image_data pid=5191)\u001b[0m - Cloud customers grew year-over-year and sequentially for AMD, with 55 new AMD-powered cloud instances launched in 4Q23.\n",
      "\u001b[36m(async_process_image_data pid=5191)\u001b[0m - Sales at enterprise Data Center accelerated, led by significant double-digit percentage growth sequentially.\n",
      "\u001b[36m(async_process_image_data pid=5191)\u001b[0m - AMD views its superior TCO (total cost of ownership) architecture as a competitive advantage in enterprise.\n",
      "\u001b[36m(async_process_image_data pid=5191)\u001b[0m - AMD landed major wins across multiple verticals including financial, energy, retail, technology, pharmaceutical, and automotive companies.\n",
      "\u001b[36m(async_process_image_data pid=5191)\u001b[0m - AMD's data center GPU business had revenue exceeding its $400 million target in 4Q23.\n",
      "\u001b[36m(async_process_image_data pid=5191)\u001b[0m - AMD guided for data center GPU revenue to exceed $2 billion in 2024, based on strong customer demand and expanded engagements.\n",
      "\u001b[36m(async_process_image_data pid=5191)\u001b[0m - For 4Q23, AMD raised its MI300 target to at least $3.5 billion, expecting it to become the fastest product in AMD history.\n",
      "\u001b[36m(async_process_image_data pid=5191)\u001b[0m - Client CPU revenue declines from 3Q to 4Q, with 4Q22 operating loss of $512 million and operating margin of -8.8% in 4Q23.\n",
      "\u001b[36m(async_process_image_data pid=5191)\u001b[0m - Client includes CPUs, accelerated processing units (APUs), and chipsets for desktop and notebook PCs.\n",
      "\u001b[36m(async_process_image_data pid=5191)\u001b[0m - In June 2023, AMD announced 'Zen 4' Ryzen 8000 Series Mobile processors with integrated AI capabilities.\n",
      "\u001b[36m(async_process_image_data pid=5191)\u001b[0m - Millions of AI PCs powered by Ryzen processors have shipped to date, powering over 90% of AI-enabled PCs.\n",
      "\u001b[36m(async_process_image_data pid=5191)\u001b[0m - AMD has gained meaningful global market share in CPUs at Intel's expense, with a share of ~86% in both client and data center applications as of 2017, up from 35%-40% range.\n",
      "\u001b[36m(async_process_image_data pid=5191)\u001b[0m - AMD's x86 CPU market share was below 20% as recently as 2017.\n",
      "\u001b[36m(async_process_image_data pid=5191)\u001b[0m - Client is reviving after a dormant period, while Data Center is strengthening focus on AI and recovery.\n",
      "\u001b[36m(async_process_image_data pid=5191)\u001b[0m The overall layout has a maroon/red color header, with black and white text for the analysis sections. There are no charts or tables present in this particular section of the report.\n"
     ]
    },
    {
     "name": "stderr",
     "output_type": "stream",
     "text": [
      "\u001b[36m(async_process_image_data pid=5191)\u001b[0m [2024-05-28 16:23:30,099] p5191 {500037063.py:58} INFO - Ingesting data into pipeline\n",
      "\u001b[36m(async_process_image_data pid=5191)\u001b[0m [2024-05-28 16:23:30,101] p5191 {500037063.py:59} INFO - image desc: 200 OK\n"
     ]
    },
    {
     "name": "stdout",
     "output_type": "stream",
     "text": [
      "\u001b[36m(async_process_image_data pid=5186)\u001b[0m - Organizations: Argus, Cisco Systems Inc., Gartner Robbins\n",
      "\u001b[36m(async_process_image_data pid=5186)\u001b[0m - Person Occupation: CEO\n",
      "\u001b[36m(async_process_image_data pid=5186)\u001b[0m Numeric Entities:\n",
      "\u001b[36m(async_process_image_data pid=5186)\u001b[0m - Dates: Feb 16, 2024, 2/15/24\n",
      "\u001b[36m(async_process_image_data pid=5186)\u001b[0m - Revenue/Financial Figures: $12.6-$12.8 billion, $12.70 billion, $0.87, $0.24, $0.8-$3.6 billion range, $2.8 billion\n",
      "\u001b[36m(async_process_image_data pid=5186)\u001b[0m - Percentages: 14% (multiple instances), 25%, 37%, 7%, 6%, 3%\n",
      "\u001b[36m(async_process_image_data pid=5186)\u001b[0m Product Entities:\n",
      "\u001b[36m(async_process_image_data pid=5186)\u001b[0m - Products: Cisco AI and secure data organizations, Ethernet AI fabric, GPU-enabled infrastructure\n",
      "\u001b[36m(async_process_image_data pid=5186)\u001b[0m The image contains financial analysis and commentary on Cisco Systems Inc. from a report created by Argus Research Company. It discusses Cisco's recent performance, revenue guidance, strategic initiatives like AI and new product deployments. However, it does not disclose any specific individual names, adhering to privacy considerations.The image appears to be an financial analyst report on Cisco Systems Inc. from the company Argus. The overall layout is structured with text sections and data tables in a corporate style with the Cisco and Argus logos at the top. \n",
      "\u001b[36m(async_process_image_data pid=5186)\u001b[0m The top section is titled 'Analyst's Notes' and contains several paragraphs providing analysis and commentary on Cisco's recent performance, supply chain challenges, the impact of COVID-19, growth opportunities like AI and secure networking, revenue guidance adjustments, and strategic business transformation initiatives.\n",
      "\u001b[36m(async_process_image_data pid=5186)\u001b[0m Below this is a large data table titled 'Growth & Valuation Analysis' containing financial metrics for Cisco across several years from 2019 to 2023 forecasts. The columns show figures for Revenue, COGS (Cost of Goods Sold), Gross Profit, SG&A (Selling, General & Administrative expenses), R&D (Research & Development), Operating Income, Interest Expense, Pretax Income, Income Taxes, Tax Rate (%), Net Income, Diluted Shares Outstanding, EPS (Earnings Per Share), Dividend, and Growth Rates (%) for metrics like Revenue, Operating Income, Net Income, EPS, Dividend, and Sustainable Growth Rate.\n",
      "\u001b[36m(async_process_image_data pid=5186)\u001b[0m Beneath the financial data table is another section titled 'Financial & Risk Analysis' which seems to provide analysis on Cisco's financial strength, ratios like Gross Profit Margin, Operating Margin, Net Margin, Return On Assets, Return On Equity, and risk analysis details like Cash Cycle days, Cash Flow/Cap Ex, Oper. Income/Int. Exp. ratio, and Payout Ratio.\n",
      "\u001b[36m(async_process_image_data pid=5186)\u001b[0m The color scheme is primarily burgundy red and black text on a white background. There are also sections with a light gray background.\n",
      "\u001b[36m(async_process_image_data pid=5186)\u001b[0m The data and numbers cover a wide range of Cisco's financial performance metrics across multiple years, with some forward-looking projections for 2023. I've described the key sections, tables, data points and analysis presented in comprehensive detail based on the instructions provided.\n",
      "\u001b[36m(async_process_image_data pid=5187)\u001b[0m - Organizations: Cisco Systems Inc., Argus Research Company, Splunk Inc. (NGS: SPLK)\n",
      "\u001b[36m(async_process_image_data pid=5187)\u001b[0m - Fiscal Years: FY24, FY23, FY22, FY21\n",
      "\u001b[36m(async_process_image_data pid=5187)\u001b[0m - Quarters: 2Q24, 1Q24\n",
      "\u001b[36m(async_process_image_data pid=5187)\u001b[0m Financial/Product Entities:\n",
      "\u001b[36m(async_process_image_data pid=5187)\u001b[0m - Revenues ($12.79 billion, $12.6-$12.8 billion range, $12.70 billion consensus forecast)\n",
      "\u001b[36m(async_process_image_data pid=5187)\u001b[0m - Operating margins (non-GAAP, GAAP)\n",
      "\u001b[36m(async_process_image_data pid=5187)\u001b[0m - Earnings per share (EPS) figures ($0.84 guidance range, $0.84 consensus forecast)\n",
      "\u001b[36m(async_process_image_data pid=5187)\u001b[0m - Cash flow ($25.7 billion in 2Q24, $26.2 billion at end of FY23)\n",
      "\u001b[36m(async_process_image_data pid=5187)\u001b[0m - Dividends ($0.40 per share quarterly dividend increase)\n",
      "\u001b[36m(async_process_image_data pid=5187)\u001b[0m - Stock buyback program ($10.9 billion remaining for share repurchase)\n",
      "\u001b[36m(async_process_image_data pid=5187)\u001b[0m The image contains detailed financial performance metrics, guidance figures, and analysis related to Cisco's quarterly and annual results, without revealing any specific individual names.The image appears to be an analyst report from Argus Research Company on Cisco Systems Inc. (NASDAQ: CSCO). The layout is in a table format, covering page 4 of 6 of the report dated Feb 16, 2024.\n",
      "\u001b[36m(async_process_image_data pid=5187)\u001b[0m The top section features the Cisco Systems Inc. logo and states 'Report Created Feb 16, 2024 Page 4 OF 6'.\n",
      "\u001b[36m(async_process_image_data pid=5187)\u001b[0m The main body of the image is divided into several sections with headings:\n",
      "\u001b[36m(async_process_image_data pid=5187)\u001b[0m 'Analyst's Notes ...continued'\n",
      "\u001b[36m(async_process_image_data pid=5187)\u001b[0m This section discusses Cisco's revenue performance, broken down into four product categories: Networking, Security, Collaboration, and Observability - along with Services. Key details mentioned:\n",
      "\u001b[36m(async_process_image_data pid=5187)\u001b[0m - Networking revenue of $12.79 billion, down 6% year-over-year and down 14% sequentially. Near the high end of management's guidance range.  \n",
      "\u001b[36m(async_process_image_data pid=5187)\u001b[0m - Security revenue (8% of total) was up 3% annually but down 4% sequentially.\n",
      "\u001b[36m(async_process_image_data pid=5187)\u001b[0m - Cisco's 2019 solution for attack-response process and customer IT teams is gaining traction.\n",
      "\u001b[36m(async_process_image_data pid=5187)\u001b[0m - Collaboration (8% of revenue) was up 3% from the prior year but down 11% sequentially, impacted by return to offices and slowdown in virtual meetings.  \n",
      "\u001b[36m(async_process_image_data pid=5187)\u001b[0m - Observability (11% of revenue) was up 12% annually.\n",
      "\u001b[36m(async_process_image_data pid=5187)\u001b[0m - In mid-September, Cisco agreed to acquire network security provider Splunk Inc. (NGSPLK) for $157 per share in cash, representing ~$28 billion in equity value. The cash flow-positive and gross margin-accretive deal is expected to add to non-GAAP EPS in the second year.\n",
      "\u001b[36m(async_process_image_data pid=5187)\u001b[0m The next section covers Cisco's cash flow from operations in FY23, averaging over $14 billion annually, positioning it to leverage its strong cash flow from legacy networking operations to strengthen its security assets amid exceptional data growth driven by enterprise adoption of generative AI solutions.\n",
      "\u001b[36m(async_process_image_data pid=5187)\u001b[0m It then notes order trends in Q2 FY24 across customer classes, with enterprise and service provider orders declining 12% annually after a 20% drop in Q1, while public sector orders declined 6%, better than Q1.\n",
      "\u001b[36m(async_process_image_data pid=5187)\u001b[0m The section states that while previously expecting negative order trends to turn positive in H2 FY24, they now expect the order turnaround to occur at fiscal year-end or early in FY25 as customers finish deploying existing inventory. Cisco's broad product set and networking position for AI workloads is seen as an opportunity as AI adoption increases.\n",
      "\u001b[36m(async_process_image_data pid=5187)\u001b[0m 'EARNINGS & GROWTH ANALYSIS'\n",
      "\u001b[36m(async_process_image_data pid=5187)\u001b[0m For fiscal Q2 FY24 (ended October 29, 2023), Cisco reported revenue of $12.79 billion, which was down 6% year-over-year and down 14% sequentially. Non-GAAP gross margin tightened to 65.7% in fiscal 2Q24 from 67.1% in fiscal 1Q24. Other metrics mentioned:\n",
      "\u001b[36m(async_process_image_data pid=5187)\u001b[0m - Non-GAAP operating margin 34.1% in 2Q24 from 36.6% in 1Q24  \n",
      "\u001b[36m(async_process_image_data pid=5187)\u001b[0m - Non-GAAP earnings $0.87 per diluted share, down 14% year-over-year\n",
      "\u001b[36m(async_process_image_data pid=5187)\u001b[0m - Non-GAAP EPS exceeded the high end of management's $0.82-$0.84 guidance range and the $0.84 consensus forecast.\n",
      "\u001b[36m(async_process_image_data pid=5187)\u001b[0m For all of FY23, revenue of $57.70 billion rose 11% from FY22. Non-GAAP earnings rose 16% to $3.89 per diluted share.\n",
      "\u001b[36m(async_process_image_data pid=5187)\u001b[0m FY23 metrics: Gross revenue of $12,137.3 billion; non-GAAP gross margin of 66.6%-67%; non-GAAP operating margin of 33.7%-34.3%; and non-GAAP EPS of $0.84-$0.86.\n",
      "\u001b[36m(async_process_image_data pid=5187)\u001b[0m For a second consecutive quarter, Cisco reduced its FY24 sales and profit guidance. With FY24 revenue projected at $51.5-$52.5 billion (reduced from $53.8-$55.0 billion), and non-GAAP EPS of $3.63-$3.74 (reduced from $3.73-$3.78), at the guidance midpoints, sales would be down 9% annually while adjusted profits outlook is conservative and surprises to the upside of guidance more than 70% of the time.\n",
      "\u001b[36m(async_process_image_data pid=5187)\u001b[0m file_path: img/b64_images/Cisco_rec_page_4.b64, image description (prefiltered with entities extracted): Based on the image, here are the relevant entities I can identify:\u001b[32m [repeated 3x across cluster]\u001b[0m\n",
      "\u001b[36m(async_process_image_data pid=5187)\u001b[0m Named Entities:\u001b[32m [repeated 3x across cluster]\u001b[0m\n",
      "\u001b[36m(async_process_image_data pid=5187)\u001b[0m Temporal Entities:\u001b[32m [repeated 2x across cluster]\u001b[0m\n",
      "\u001b[36m(async_process_image_data pid=5191)\u001b[0m Custom Entities:\n",
      "\u001b[36m(async_process_image_data pid=5187)\u001b[0m \u001b[32m [repeated 34x across cluster]\u001b[0m\n",
      "\u001b[36m(async_process_image_data pid=5186)\u001b[0m json_file_path: pdf_img_json_dir/Cisco_rec_page_2.json\u001b[32m [repeated 2x across cluster]\u001b[0m\n"
     ]
    },
    {
     "name": "stderr",
     "output_type": "stream",
     "text": [
      "\u001b[36m(async_process_image_data pid=5187)\u001b[0m [2024-05-28 16:23:51,358] p5187 {credentials.py:1075} INFO - Found credentials from IAM Role: BaseNotebookInstanceEc2InstanceRole\u001b[32m [repeated 3x across cluster]\u001b[0m\n",
      "\u001b[36m(async_process_image_data pid=5186)\u001b[0m [2024-05-28 16:23:32,743] p5186 {500037063.py:14} INFO - going to convert img/b64_images/Boeing_rec_page_5.b64 into embeddings\u001b[32m [repeated 3x across cluster]\u001b[0m\n",
      "\u001b[36m(async_process_image_data pid=5187)\u001b[0m [2024-05-28 16:23:51,432] p5187 {500037063.py:58} INFO - Ingesting data into pipeline\u001b[32m [repeated 2x across cluster]\u001b[0m\n",
      "\u001b[36m(async_process_image_data pid=5187)\u001b[0m [2024-05-28 16:23:51,432] p5187 {500037063.py:59} INFO - image desc: 200 OK\u001b[32m [repeated 2x across cluster]\u001b[0m\n"
     ]
    },
    {
     "name": "stdout",
     "output_type": "stream",
     "text": [
      "\u001b[36m(async_process_image_data pid=5191)\u001b[0m file_path: img/b64_images/Boeing_rec_page_4.b64, image description (prefiltered with entities extracted): Based on the image, here are the key entities I can identify:\n",
      "\u001b[36m(async_process_image_data pid=5191)\u001b[0m - Organizations: Boeing Co, Argus Research Company\n",
      "\u001b[36m(async_process_image_data pid=5191)\u001b[0m - Locations: Chicago\n",
      "\u001b[36m(async_process_image_data pid=5191)\u001b[0m - Dates: February 2 (BUY-rated BA closed at $209.38, down $0.43), 2026-2027\n",
      "\u001b[36m(async_process_image_data pid=5191)\u001b[0m Product Entities:\n",
      "\u001b[36m(async_process_image_data pid=5191)\u001b[0m - Aircraft and related products: commercial jetliners, military aircraft, rotorcraft, electronic and defense systems, missiles, satellites, launch vehicles, advanced information and communication systems\n",
      "\u001b[36m(async_process_image_data pid=5191)\u001b[0m Financial Entities:\n",
      "\u001b[36m(async_process_image_data pid=5191)\u001b[0m - Stock tickers: BA (Boeing Co NYSE ticker)\n",
      "\u001b[36m(async_process_image_data pid=5191)\u001b[0m - Stock prices: $209, $176-$268 (52-week range), $209.38 (closed on Feb 2), $0.43 (down amount on Feb 2)\n",
      "\u001b[36m(async_process_image_data pid=5191)\u001b[0m - Valuation multiples: target price is $240\n",
      "\u001b[36m(async_process_image_data pid=5191)\u001b[0m - Earnings estimates: $15-$20 per share earnings power\n",
      "\u001b[36m(async_process_image_data pid=5191)\u001b[0m The image appears to be an analyst report providing an overview, valuation analysis, and commentary on Boeing Co, a major aerospace and defense company known for manufacturing various aircraft and related systems. No specific individual names are mentioned.The image appears to be a portion of an analyst report on Boeing Co. from a company called Argus Research. The layout consists of text divided into several sections with clear headers.\n",
      "\u001b[36m(async_process_image_data pid=5191)\u001b[0m Analyst's Notes (continued)\n",
      "\u001b[36m(async_process_image_data pid=5191)\u001b[0m This section discusses Boeing's defense spending growth over the next five years and risks associated with its pension obligations.\n",
      "\u001b[36m(async_process_image_data pid=5191)\u001b[0m COMPANY DESCRIPTION\n",
      "\u001b[36m(async_process_image_data pid=5191)\u001b[0m This section provides an overview of Boeing, stating that it manufactures commercial jetliners, military aircraft, rotorcraft, electronic and defense systems, missiles, satellites, launch vehicles, and advanced information and communication systems. It mentions Boeing was founded in 1916 and is based in Chicago, with shares included in the Dow Jones Industrial Average and S&P 500. The company has more than 170,000 employees.\n",
      "\u001b[36m(async_process_image_data pid=5191)\u001b[0m VALUATION\n",
      "\u001b[36m(async_process_image_data pid=5191)\u001b[0m This section analyzes Boeing's stock valuation. Key points include:\n",
      "\u001b[36m(async_process_image_data pid=5191)\u001b[0m - The analysts think BA shares are attractively valued at current prices around $209, below the midpoint of their 52-week range of $176-$268.\n",
      "\u001b[36m(async_process_image_data pid=5191)\u001b[0m - From a technical standpoint, the shares have been in a bullish pattern of higher highs and higher lows since September 2022.\n",
      "\u001b[36m(async_process_image_data pid=5191)\u001b[0m - To value the stock on a fundamental basis, they use peer and historical multiple comparisons, along with a dividend discount model.\n",
      "\u001b[36m(async_process_image_data pid=5191)\u001b[0m - The models are quite distorted given Boeing's eliminated dividend, recent losses, and depressed forward earnings estimates.\n",
      "\u001b[36m(async_process_image_data pid=5191)\u001b[0m - Once the 737 MAX and 787 are fully back in production, they see earnings power of $15-$20 per share, likely in 2026-2027.\n",
      "\u001b[36m(async_process_image_data pid=5191)\u001b[0m - Management is making progress on cash flow growth, which they think can lift valuation multiples.\n",
      "\u001b[36m(async_process_image_data pid=5191)\u001b[0m - Their target price is $240.\n",
      "\u001b[36m(async_process_image_data pid=5191)\u001b[0m - On February 2, BUY-rated BA closed at $209.38, down $0.43.\n",
      "\u001b[36m(async_process_image_data pid=5191)\u001b[0m The image has a red header bar with the Argus logo, 'BOEING CO' stock ticker, and 'NYSE: BA'. The background is primarily white with black text. There are no charts, tables, or other visual elements present in this particular section of the report.\n",
      "\u001b[36m(async_process_image_data pid=5191)\u001b[0m Named Entities:\n",
      "\u001b[36m(async_process_image_data pid=5191)\u001b[0m Temporal Entities:\n",
      "\u001b[36m(async_process_image_data pid=5191)\u001b[0m \u001b[32m [repeated 9x across cluster]\u001b[0m\n",
      "\u001b[36m(async_process_image_data pid=5187)\u001b[0m json_file_path: pdf_img_json_dir/Cisco_rec_page_4.json\n",
      "\u001b[36m(async_process_image_data pid=5191)\u001b[0m json_file_path: pdf_img_json_dir/Boeing_rec_page_4.json\n"
     ]
    },
    {
     "name": "stderr",
     "output_type": "stream",
     "text": [
      "\u001b[36m(async_process_image_data pid=5191)\u001b[0m [2024-05-28 16:24:04,928] p5191 {credentials.py:1075} INFO - Found credentials from IAM Role: BaseNotebookInstanceEc2InstanceRole\n",
      "\u001b[36m(async_process_image_data pid=5187)\u001b[0m [2024-05-28 16:23:51,452] p5187 {500037063.py:14} INFO - going to convert img/b64_images/AMD_rec_page_1.b64 into embeddings\n",
      "\u001b[36m(async_process_image_data pid=5191)\u001b[0m [2024-05-28 16:24:04,960] p5191 {500037063.py:58} INFO - Ingesting data into pipeline\n",
      "\u001b[36m(async_process_image_data pid=5191)\u001b[0m [2024-05-28 16:24:04,960] p5191 {500037063.py:59} INFO - image desc: 200 OK\n",
      "\u001b[36m(async_process_image_data pid=5191)\u001b[0m [2024-05-28 16:24:04,970] p5191 {500037063.py:14} INFO - going to convert img/b64_images/APPLE_rec_page_3.b64 into embeddings\n"
     ]
    },
    {
     "name": "stdout",
     "output_type": "stream",
     "text": [
      "\u001b[36m(async_process_image_data pid=5186)\u001b[0m file_path: img/b64_images/Boeing_rec_page_5.b64, image description (prefiltered with entities extracted): Based on the image, here are the relevant entities I can identify:\n",
      "\u001b[36m(async_process_image_data pid=5186)\u001b[0m Named Entities:\n",
      "\u001b[36m(async_process_image_data pid=5186)\u001b[0m - Argus\n",
      "\u001b[36m(async_process_image_data pid=5186)\u001b[0m - Economist Harold Dorsey\n",
      "\u001b[36m(async_process_image_data pid=5186)\u001b[0m - The Argus Research Group\n",
      "\u001b[36m(async_process_image_data pid=5186)\u001b[0m - The Argus Investors' Counsel, Inc. (AIC)\n",
      "\u001b[36m(async_process_image_data pid=5186)\u001b[0m - U.S. Securities and Exchange Commission\n",
      "\u001b[36m(async_process_image_data pid=5186)\u001b[0m - Argus Research Co. (ARC)\n",
      "\u001b[36m(async_process_image_data pid=5186)\u001b[0m - Morningstar\n",
      "\u001b[36m(async_process_image_data pid=5186)\u001b[0m Organization Entities:\n",
      "\u001b[36m(async_process_image_data pid=5186)\u001b[0m - Argus Research\n",
      "\u001b[36m(async_process_image_data pid=5186)\u001b[0m - Argus Investors' Counsel, Inc.\n",
      "\u001b[36m(async_process_image_data pid=5186)\u001b[0m - S&P 500\n",
      "\u001b[36m(async_process_image_data pid=5186)\u001b[0m Custom Entities (Financial/Investment Terms):\n",
      "\u001b[36m(async_process_image_data pid=5186)\u001b[0m - Industry Analysis\n",
      "\u001b[36m(async_process_image_data pid=5186)\u001b[0m - Growth Analysis\n",
      "\u001b[36m(async_process_image_data pid=5186)\u001b[0m - Financial Strength Analysis\n",
      "\u001b[36m(async_process_image_data pid=5186)\u001b[0m - Management Assessment\n",
      "\u001b[36m(async_process_image_data pid=5186)\u001b[0m - Risk Analysis\n",
      "\u001b[36m(async_process_image_data pid=5186)\u001b[0m - Valuation Analysis\n",
      "\u001b[36m(async_process_image_data pid=5186)\u001b[0m - BUY, HOLD, and SELL ratings\n",
      "\u001b[36m(async_process_image_data pid=5186)\u001b[0m - Discounted cash flow modeling\n",
      "\u001b[36m(async_process_image_data pid=5186)\u001b[0m - Peer comparison\n",
      "\u001b[36m(async_process_image_data pid=5186)\u001b[0m The image does not appear to contain any specific person names, locations, dates, product names or temporal entities that can be extracted reliably while maintaining privacy. It focuses more on describing the research methodology and disclaimers of Argus Research, an investment research provider.The image appears to be a section from an Argus Research company report, likely describing their methodology and disclaimers. The overall layout has a red header with the Argus logo and the title 'METHODOLOGY & DISCLAIMERS'. Below that, the content is divided into sections.\n",
      "\u001b[36m(async_process_image_data pid=5186)\u001b[0m Section 1: About Argus\n",
      "\u001b[36m(async_process_image_data pid=5186)\u001b[0m This section provides an overview of Argus Research, founded by Economist Harold Dorsey in 1934. It mentions their top-down, fundamental system that is used by Argus analysts, covering Industry Analysis, Growth Analysis, Financial Strength Analysis, Management Assessment, Risk Analysis, and Valuation Analysis. It also states that Argus' Economists identify industries expected to perform well, and the Growth Analysis generates proprietary estimates for companies under coverage.\n",
      "\u001b[36m(async_process_image_data pid=5186)\u001b[0m Section 2: The Argus Research Rating System\n",
      "\u001b[36m(async_process_image_data pid=5186)\u001b[0m This section explains Argus' stock rating system, which uses ratings like BUY, HOLD, and SELL. It defines what each rating means in terms of expected performance relative to the S&P 500 benchmark over a 12-month period.\n",
      "\u001b[36m(async_process_image_data pid=5186)\u001b[0m Section 3: Argus Research Disclaimer\n",
      "\u001b[36m(async_process_image_data pid=5186)\u001b[0m This section contains a detailed disclaimer from Argus Research Co. (ARC), stating that it is an independent investment research provider, not a registered broker-dealer or investment banking operation. It mentions that the content of the report may be derived from Argus' research notes or analyses, and that opinions and information should not be considered a solicitation or offer to buy/sell securities. It also states that the information is for general purposes only and does not address individual investment objectives or situations.\n",
      "\u001b[36m(async_process_image_data pid=5186)\u001b[0m Section 4: Morningstar Disclaimer\n",
      "\u001b[36m(async_process_image_data pid=5186)\u001b[0m This section contains a disclaimer from Morningstar, stating that certain financial information included in the report is proprietary and cannot be copied or distributed. It also mentions that the information is not warranted to be accurate, complete, or timely, and that past performance is no guarantee of future results.\n",
      "\u001b[36m(async_process_image_data pid=5186)\u001b[0m The image does not contain any tables, charts, or other visual elements beyond the text-based sections. The color scheme is primarily red and black text on a white background.\n"
     ]
    },
    {
     "name": "stderr",
     "output_type": "stream",
     "text": [
      "\u001b[36m(async_process_image_data pid=5186)\u001b[0m [2024-05-28 16:24:05,650] p5186 {credentials.py:1075} INFO - Found credentials from IAM Role: BaseNotebookInstanceEc2InstanceRole\n"
     ]
    },
    {
     "name": "stdout",
     "output_type": "stream",
     "text": [
      "\u001b[36m(async_process_image_data pid=5190)\u001b[0m file_path: img/b64_images/Amazon_rec_page_4.b64, image description (prefiltered with entities extracted): Based on the image, here are the entities I can identify:\n",
      "\u001b[36m(async_process_image_data pid=5190)\u001b[0m - Amazon.com Inc. (Organization)\n",
      "\u001b[36m(async_process_image_data pid=5190)\u001b[0m - AWS (Subsidiary/Service of Amazon)\n",
      "\u001b[36m(async_process_image_data pid=5190)\u001b[0m - Anthropic (Organization)\n",
      "\u001b[36m(async_process_image_data pid=5190)\u001b[0m Temporal Entities:\n",
      "\u001b[36m(async_process_image_data pid=5190)\u001b[0m - 2023 (Year)\n",
      "\u001b[36m(async_process_image_data pid=5190)\u001b[0m - 4Q23 (Fourth Quarter of 2023)\n",
      "\u001b[36m(async_process_image_data pid=5190)\u001b[0m - 2022 (Year)\n",
      "\u001b[36m(async_process_image_data pid=5190)\u001b[0m - 2021 (Year)\n",
      "\u001b[36m(async_process_image_data pid=5190)\u001b[0m - 1Q24 (First Quarter of 2024)\n",
      "\u001b[36m(async_process_image_data pid=5190)\u001b[0m Product/Service Entities:\n",
      "\u001b[36m(async_process_image_data pid=5190)\u001b[0m - AWS (Amazon Web Services)\n",
      "\u001b[36m(async_process_image_data pid=5190)\u001b[0m - $160-$167 billion (Revenue guidance range)\n",
      "\u001b[36m(async_process_image_data pid=5190)\u001b[0m - $166.2 billion (Consensus estimate revenue)\n",
      "\u001b[36m(async_process_image_data pid=5190)\u001b[0m - $3 billion (Revenue figure)\n",
      "\u001b[36m(async_process_image_data pid=5190)\u001b[0m - 45.5% (Gross margin percentage in 4Q23)\n",
      "\u001b[36m(async_process_image_data pid=5190)\u001b[0m - $1.00 per diluted share (EPS for 4Q23)\n",
      "\u001b[36m(async_process_image_data pid=5190)\u001b[0m - $0.03 (EPS figure for comparison)\n",
      "\u001b[36m(async_process_image_data pid=5190)\u001b[0m - $0.80 (Analyst EPS estimate)\n",
      "\u001b[36m(async_process_image_data pid=5190)\u001b[0m - $574.8 billion (Revenue figure for 2023)\n",
      "\u001b[36m(async_process_image_data pid=5190)\u001b[0m - $514.0 billion (Revenue figure for 2022)\n",
      "\u001b[36m(async_process_image_data pid=5190)\u001b[0m - $2.91 per diluted share (EPS figure for 2022)\n",
      "\u001b[36m(async_process_image_data pid=5190)\u001b[0m - $130.5-$143.5 billion (Projected revenue range for 1Q24)\n",
      "\u001b[36m(async_process_image_data pid=5190)\u001b[0m - $4.8 billion (Revenue figure for comparison)\n",
      "\u001b[36m(async_process_image_data pid=5190)\u001b[0m - $0.60-$0.70 (EPS projection range for 1Q24)\n",
      "\u001b[36m(async_process_image_data pid=5190)\u001b[0m - $3.26 (Projected GAAP EPS for 2024)\n",
      "\u001b[36m(async_process_image_data pid=5190)\u001b[0m - $2.94 (Figure for comparison)\n",
      "\u001b[36m(async_process_image_data pid=5190)\u001b[0m - $3.70 per diluted share (Projection reference)\n",
      "\u001b[36m(async_process_image_data pid=5190)\u001b[0m - $10 billion (Share repurchase program amount)\n",
      "\u001b[36m(async_process_image_data pid=5190)\u001b[0m - $86.8 billion (Cash & marketable securities at end of 2023)\n",
      "\u001b[36m(async_process_image_data pid=5190)\u001b[0m - $70.0 billion (Cash & marketable securities at end of 2022)\n",
      "\u001b[36m(async_process_image_data pid=5190)\u001b[0m - $58.3 billion (Total debt at end of 2023)\n",
      "\u001b[36m(async_process_image_data pid=5190)\u001b[0m - $67.2 billion (Total debt at end of 2022)\n",
      "\u001b[36m(async_process_image_data pid=5190)\u001b[0m - $48.7 billion (Total debt at end of 2021)\n",
      "\u001b[36m(async_process_image_data pid=5190)\u001b[0m - $31.8 billion (Total debt at year-end 2020)\n",
      "\u001b[36m(async_process_image_data pid=5190)\u001b[0m - $32.8 billion (Net cash at year-end 2023)\n",
      "\u001b[36m(async_process_image_data pid=5190)\u001b[0m - $47.3 billion (Net cash at year-end 2021)\n",
      "\u001b[36m(async_process_image_data pid=5190)\u001b[0m - $52.6 billion (Net cash in 2020)  \n",
      "\u001b[36m(async_process_image_data pid=5190)\u001b[0m - $85.0 billion (Cash flow from operations in 2023)\n",
      "\u001b[36m(async_process_image_data pid=5190)\u001b[0m - $46.7 billion (Cash flow from operations in 2022)\n",
      "\u001b[36m(async_process_image_data pid=5190)\u001b[0m - $46.1 billion (Cash flow from operations in 2021)\n",
      "\u001b[36m(async_process_image_data pid=5190)\u001b[0m - $38.5 billion (Cash flow figure for 2020)  \n",
      "\u001b[36m(async_process_image_data pid=5190)\u001b[0m - $32.2 billion (Free cash flow in 2023)\n",
      "\u001b[36m(async_process_image_data pid=5190)\u001b[0m - $5.5 billion (Free cash flow in 2022)\n",
      "\u001b[36m(async_process_image_data pid=5190)\u001b[0m - $33.0 billion (Free cash flow in 2020)\n",
      "\u001b[36m(async_process_image_data pid=5190)\u001b[0m - $21.7 billion (Free cash flow in 2019)\n",
      "\u001b[36m(async_process_image_data pid=5190)\u001b[0m The image does not contain any specific personal names or occupations.The image appears to be a research report or analyst report on Amazon.com Inc. (AMZN) from a company called Argus Research. Here is a detailed description following the provided instructions:\n",
      "\u001b[36m(async_process_image_data pid=5190)\u001b[0m 1. Description of sections and associated data:\n",
      "\u001b[36m(async_process_image_data pid=5190)\u001b[0m Analyst's Notes (Continued) Section:\n",
      "\u001b[36m(async_process_image_data pid=5190)\u001b[0m - This section discusses Amazon's financial performance, growth metrics, and business segments in detail.\n",
      "\u001b[36m(async_process_image_data pid=5190)\u001b[0m - Key data points mentioned include online sales growth of 9.5% in 2022, 11.3% in 2021, holiday spending reaching 28% of 2023 sales, AWS revenue of $24.2 billion (14% of total) up 13% year-over-year, AWS operating profit of $22.8 billion increasing 3% year-over-year, AWS operating margin of 29.6% in 4Q23 vs 30.3% in 3Q23.\n",
      "\u001b[36m(async_process_image_data pid=5190)\u001b[0m - It also mentions Amazon's plans to invest up to $4 billion in Anthropic for AI foundation models and cloud services.\n",
      "\u001b[36m(async_process_image_data pid=5190)\u001b[0m 2. Overall image description:\n",
      "\u001b[36m(async_process_image_data pid=5190)\u001b[0m - The image is titled 'Amazon.com Inc.' from NASDAQ: AMZN, with the report created on Feb 2, 2024, spanning 4 out of 6 pages.\n",
      "\u001b[36m(async_process_image_data pid=5190)\u001b[0m - The report is structured with sections like Analyst's Notes, Earnings & Growth Analysis, and potentially other sections on the remaining pages.\n",
      "\u001b[36m(async_process_image_data pid=5190)\u001b[0m - The layout includes the Argus company logo, section headers, and a dense body of text with numerous data points related to Amazon's financials, operations, and strategic initiatives.\n",
      "\u001b[36m(async_process_image_data pid=5190)\u001b[0m 3. Description of numbers and associated text/data:\n",
      "\u001b[36m(async_process_image_data pid=5190)\u001b[0m - Online sales growth in 2023 was against a tough comp, given 9.5% growth in 2022 and 11.3% in 2021.\n",
      "\u001b[36m(async_process_image_data pid=5190)\u001b[0m - Holiday spending reached 28% of 2023 holiday sales.\n",
      "\u001b[36m(async_process_image_data pid=5190)\u001b[0m - AWS revenue was $24.2 billion (14% of total) and grew 13% year-over-year.\n",
      "\u001b[36m(async_process_image_data pid=5190)\u001b[0m - AWS operating profit was $22.8 billion, increasing 3% from $22.1 billion a year earlier.\n",
      "\u001b[36m(async_process_image_data pid=5190)\u001b[0m - AWS operating margin was 29.6% in 4Q23 vs 30.3% in 3Q23.\n",
      "\u001b[36m(async_process_image_data pid=5190)\u001b[0m - Amazon posted GAAP EPS of $1.00 per diluted share for 4Q23, compared to $0.03 a year earlier.\n",
      "\u001b[36m(async_process_image_data pid=5190)\u001b[0m - The consensus GAAP EPS estimate was $0.80.\n",
      "\u001b[36m(async_process_image_data pid=5190)\u001b[0m - For all of 2023, revenue grew 12% from $514.0 billion in 2022 to $574.8 billion.\n",
      "\u001b[36m(async_process_image_data pid=5190)\u001b[0m - GAAP earnings totaled $2.91 per diluted share for 2023, up from a GAAP loss of $0.27 per share in 2022.\n",
      "\u001b[36m(async_process_image_data pid=5190)\u001b[0m - For 1Q24, Amazon projected revenue of $138.0-$143.5 billion, implying about 10% annual growth.\n",
      "\u001b[36m(async_process_image_data pid=5190)\u001b[0m - The midpoint of this range compares to $4.8 billion a year earlier.\n",
      "\u001b[36m(async_process_image_data pid=5190)\u001b[0m - We are raising our 2024 GAAP EPS projection to $3.26 from $2.94.\n",
      "\u001b[36m(async_process_image_data pid=5190)\u001b[0m - Cash & marketable securities were $86.8 billion at the end of 2023.\n",
      "\u001b[36m(async_process_image_data pid=5190)\u001b[0m - Cash & marketable securities were $70.0 billion at the end of 2022.\n",
      "\u001b[36m(async_process_image_data pid=5190)\u001b[0m - Total debt was $58.3 billion at the end of 2023.\n",
      "\u001b[36m(async_process_image_data pid=5190)\u001b[0m - Total debt was $67.2 billion at the end of 2022, $48.7 billion at the end of 2021, and $31.8 billion at year-end 2020.\n",
      "\u001b[36m(async_process_image_data pid=5190)\u001b[0m - Net cash was $28.5 billion at year-end 2023.\n",
      "\u001b[36m(async_process_image_data pid=5190)\u001b[0m - Cash flow from operations was $85.0 billion in 2023, an all-time record.\n",
      "\u001b[36m(async_process_image_data pid=5190)\u001b[0m - Free cash flow was $32.2 billion in 2023.\n",
      "\u001b[36m(async_process_image_data pid=5190)\u001b[0m - Free cash flow was $5.5 billion in 2022, recovering from a use of $9 billion in 2021.\n",
      "\u001b[36m(async_process_image_data pid=5190)\u001b[0m 4. Colors in the image:\n",
      "\u001b[36m(async_process_image_data pid=5190)\u001b[0m - The primary colors used in the image are red (for the Argus logo and header) and black (for the text body).\n",
      "\u001b[36m(async_process_image_data pid=5190)\u001b[0m 5. Detailed and data-oriented description:\n",
      "\u001b[36m(async_process_image_data pid=5190)\u001b[0m The image is an analyst report on Amazon.com Inc. from Argus Research Company, focused on the company's financial performance, growth metrics, and strategic initiatives. The report is structured into sections, with\n",
      "\u001b[36m(async_process_image_data pid=5190)\u001b[0m Financial Entities:\n",
      "\u001b[36m(async_process_image_data pid=5190)\u001b[0m \u001b[32m [repeated 20x across cluster]\u001b[0m\n",
      "\u001b[36m(async_process_image_data pid=5186)\u001b[0m json_file_path: pdf_img_json_dir/Boeing_rec_page_5.json\n",
      "\u001b[36m(async_process_image_data pid=5190)\u001b[0m Named Entities:\n",
      "\u001b[36m(async_process_image_data pid=5190)\u001b[0m json_file_path: pdf_img_json_dir/Amazon_rec_page_4.json\n"
     ]
    },
    {
     "name": "stderr",
     "output_type": "stream",
     "text": [
      "\u001b[36m(async_process_image_data pid=5190)\u001b[0m [2024-05-28 16:24:42,124] p5190 {500037063.py:58} INFO - Ingesting data into pipeline\u001b[32m [repeated 2x across cluster]\u001b[0m\n",
      "\u001b[36m(async_process_image_data pid=5190)\u001b[0m [2024-05-28 16:24:42,124] p5190 {500037063.py:59} INFO - image desc: 200 OK\u001b[32m [repeated 2x across cluster]\u001b[0m\n",
      "\u001b[36m(async_process_image_data pid=5186)\u001b[0m [2024-05-28 16:24:05,729] p5186 {500037063.py:14} INFO - going to convert img/b64_images/tesla_rec_page_2.b64 into embeddings\n",
      "\u001b[36m(async_process_image_data pid=5190)\u001b[0m [2024-05-28 16:24:42,086] p5190 {credentials.py:1075} INFO - Found credentials from IAM Role: BaseNotebookInstanceEc2InstanceRole\n"
     ]
    },
    {
     "name": "stdout",
     "output_type": "stream",
     "text": [
      "\u001b[36m(async_process_image_data pid=5186)\u001b[0m file_path: img/b64_images/tesla_rec_page_2.b64, image description (prefiltered with entities extracted): Based on the image, here are the relevant entities I can identify:\n",
      "\u001b[36m(async_process_image_data pid=5186)\u001b[0m Named Entities:\n",
      "\u001b[36m(async_process_image_data pid=5186)\u001b[0m - Tesla Inc. (Company)\n",
      "\u001b[36m(async_process_image_data pid=5186)\u001b[0m - Cybertrucks (Tesla's product)\n",
      "\u001b[36m(async_process_image_data pid=5186)\u001b[0m - Shanghai (Location)\n",
      "\u001b[36m(async_process_image_data pid=5186)\u001b[0m - Model 3, Model S and Model Y, Model X (Tesla's vehicle models)\n",
      "\u001b[36m(async_process_image_data pid=5186)\u001b[0m - Megapack (Tesla's new energy product)\n",
      "\u001b[36m(async_process_image_data pid=5186)\u001b[0m - Jan 26, 2024 (Date)\n",
      "\u001b[36m(async_process_image_data pid=5186)\u001b[0m - 4Q23 (Time period - 4th quarter of 2023)\n",
      "\u001b[36m(async_process_image_data pid=5186)\u001b[0m - 4Q22 (Time period - 4th quarter of 2022) \n",
      "\u001b[36m(async_process_image_data pid=5186)\u001b[0m Product Entities:\n",
      "\u001b[36m(async_process_image_data pid=5186)\u001b[0m - Supercharger (Tesla's charging network)\n",
      "\u001b[36m(async_process_image_data pid=5186)\u001b[0m The image appears to be an analyst report providing analysis and financial details related to Tesla Inc. for different time periods and product lines. It discusses topics like revenue, profit, margins, production, and outlook for Tesla's business segments and vehicle models.The image appears to be an analyst report or financial analysis document for Tesla Inc., a company with the NASDAQ ticker symbol TSLA. The report is titled 'ARGUS Analyst Report' and is dated January 26, 2024.\n",
      "\u001b[36m(async_process_image_data pid=5186)\u001b[0m Layout and Design:\n",
      "\u001b[36m(async_process_image_data pid=5186)\u001b[0m The image has a maroon header with the ARGUS logo and Tesla Inc.'s name and ticker symbol. The report page shown is Page 2 of 5.\n",
      "\u001b[36m(async_process_image_data pid=5186)\u001b[0m Sections:\n",
      "\u001b[36m(async_process_image_data pid=5186)\u001b[0m 1. Analyst's Notes (continued):\n",
      "\u001b[36m(async_process_image_data pid=5186)\u001b[0m This section discusses Tesla's auto margin growth, vehicle volume growth, and capex spending plans. It mentions the company expects to spend $10 billion in capital expenditures in 2024. It also discusses Tesla's position in the market, competition from Chinese OEMs, potential benefits from the Inflation Reduction Act, and the Supercharger Network.\n",
      "\u001b[36m(async_process_image_data pid=5186)\u001b[0m 2. Recent Developments:\n",
      "\u001b[36m(async_process_image_data pid=5186)\u001b[0m This section provides updates on Tesla's Q4 2023 earnings, with an adjusted net profit of $2.485 billion or $0.71 per diluted share. It mentions lower ASP (Average Selling Price) and higher expenses, but overall revenue growth of 4% to $25.167 billion.\n",
      "\u001b[36m(async_process_image_data pid=5186)\u001b[0m 3. Growth & Valuation Analysis:\n",
      "\u001b[36m(async_process_image_data pid=5186)\u001b[0m This section contains a table with financial data from 2018 to 2022, including revenue, COGS, gross profit, SG&A, R&D, operating income, interest expense, pretax income, income taxes, tax rate, net income, diluted shares outstanding, and EPS.\n",
      "\u001b[36m(async_process_image_data pid=5186)\u001b[0m 4. Financial & Risk Analysis:\n",
      "\u001b[36m(async_process_image_data pid=5186)\u001b[0m This section includes various financial ratios and risk analysis metrics for 2020, 2021, and 2022, such as cash, working capital, current ratio, debt/equity ratio, total debt/equity ratio, gross profit margin, operating margin, net margin, return on assets, and return on equity.\n",
      "\u001b[36m(async_process_image_data pid=5186)\u001b[0m 5. Growth Rates (%):\n",
      "\u001b[36m(async_process_image_data pid=5186)\u001b[0m This section presents growth rates for revenue, operating income, net income, EPS, and dividend, along with valuation data like sustainable growth rate and valuation ranges.\n",
      "\u001b[36m(async_process_image_data pid=5186)\u001b[0m Numbers and Data:\n",
      "\u001b[36m(async_process_image_data pid=5186)\u001b[0m The report includes numerous numerical values and percentages related to Tesla's financial performance, growth rates, and valuation metrics across various years.\n",
      "\u001b[36m(async_process_image_data pid=5186)\u001b[0m Colors:\n",
      "\u001b[36m(async_process_image_data pid=5186)\u001b[0m The primary colors used in the image are maroon for the header and black for the text and data.\n",
      "\u001b[36m(async_process_image_data pid=5186)\u001b[0m Additional Details:\n",
      "\u001b[36m(async_process_image_data pid=5186)\u001b[0m The report includes a disclaimer at the bottom, indicating that the data is proprietary to Morningstar and should not be copied or distributed. It also states that the information provided is not warranted to be accurate, complete, or timely, and that past performance is not a guarantee of future results.\n"
     ]
    },
    {
     "name": "stderr",
     "output_type": "stream",
     "text": [
      "\u001b[36m(async_process_image_data pid=5186)\u001b[0m [2024-05-28 16:24:43,965] p5186 {credentials.py:1075} INFO - Found credentials from IAM Role: BaseNotebookInstanceEc2InstanceRole\n"
     ]
    },
    {
     "name": "stdout",
     "output_type": "stream",
     "text": [
      "\u001b[36m(async_process_image_data pid=5187)\u001b[0m file_path: img/b64_images/AMD_rec_page_1.b64, image description (prefiltered with entities extracted): Based on the image, here are the relevant entities I can discern:\n",
      "\u001b[36m(async_process_image_data pid=5187)\u001b[0m - Advanced Micro Devices, Inc. (company name)\n",
      "\u001b[36m(async_process_image_data pid=5187)\u001b[0m - AMD (company abbreviation)\n",
      "\u001b[36m(async_process_image_data pid=5187)\u001b[0m - Intel (company name)\n",
      "\u001b[36m(async_process_image_data pid=5187)\u001b[0m - ATI (acquired company name)\n",
      "\u001b[36m(async_process_image_data pid=5187)\u001b[0m - Xilinx (acquired company name)\n",
      "\u001b[36m(async_process_image_data pid=5187)\u001b[0m - Texas Instruments (company name)\n",
      "\u001b[36m(async_process_image_data pid=5187)\u001b[0m - Microchip (company name)\n",
      "\u001b[36m(async_process_image_data pid=5187)\u001b[0m - Microsoft (Xbox) (company and product name)\n",
      "\u001b[36m(async_process_image_data pid=5187)\u001b[0m - Sony (PS) (company and product name)\n",
      "\u001b[36m(async_process_image_data pid=5187)\u001b[0m - January 31, 2024 (report date)\n",
      "\u001b[36m(async_process_image_data pid=5187)\u001b[0m - 4Q23 (multiple instances, referring to 4th quarter of 2023)\n",
      "\u001b[36m(async_process_image_data pid=5187)\u001b[0m - 3Q23 (referring to 3rd quarter of 2023)\n",
      "\u001b[36m(async_process_image_data pid=5187)\u001b[0m - 1 Year EPS Growth Forecast (time period)\n",
      "\u001b[36m(async_process_image_data pid=5187)\u001b[0m - FY Ends (fiscal year end dates listed)\n",
      "\u001b[36m(async_process_image_data pid=5187)\u001b[0m - EPS (Earnings Per Share, financial metric)\n",
      "\u001b[36m(async_process_image_data pid=5187)\u001b[0m The image does not appear to contain any specific person names, locations, or custom domain-specific entities beyond company/product names.The image appears to be an analyst report from Argus Research Company on Advanced Micro Devices, Inc. (NASDAQ: AMD). The report is dated January 31, 2024, and consists of 7 pages, with the current page being Page 1 of 7.\n",
      "\u001b[36m(async_process_image_data pid=5187)\u001b[0m 1. Header Section:\n",
      "\u001b[36m(async_process_image_data pid=5187)\u001b[0m The header section contains the Argus logo, the company name 'Advanced Micro Devices, Inc.', and the NASDAQ ticker symbol 'AMD'. It also mentions that AMD is the number-two player in x86-based microprocessors, behind Intel, and that with the 2008 acquisition of ATI, it became a top player in graphic processors. In 2021, AMD acquired Xilinx, expanding its presence in embedded computing and data center.\n",
      "\u001b[36m(async_process_image_data pid=5187)\u001b[0m 2. Analyst's Notes Section:\n",
      "\u001b[36m(async_process_image_data pid=5187)\u001b[0m This section contains an analysis by Jim Kelleher, CFA, dated January 31, 2024, with a 'BUY' rating.\n",
      "\u001b[36m(async_process_image_data pid=5187)\u001b[0m Key points:\n",
      "\u001b[36m(async_process_image_data pid=5187)\u001b[0m - Client growth, Data Center recovery\n",
      "\u001b[36m(async_process_image_data pid=5187)\u001b[0m - AMD posted 4Q23 revenue that topped consensus estimates and non-GAAP EPS that matched Street expectations. AMD sold off on cautious guidance.\n",
      "\u001b[36m(async_process_image_data pid=5187)\u001b[0m - AMD's Client (PC) segment sales surged in 4Q23, while Data Center is now showing signs of recovery. Embedded and Gaming are also poised for growth.\n",
      "\u001b[36m(async_process_image_data pid=5187)\u001b[0m - AMD shares have rallied in the past year on prospects for AI solutions. The analyst expects 2024 to be the year AMD emerges as a real player in AI hardware.\n",
      "\u001b[36m(async_process_image_data pid=5187)\u001b[0m - After a down 2023, AMD is forecast to deliver a strong sales and profits recovery in 2024, as most end markets return to growth. The 12-month target price is raised to $220, from $170.\n",
      "\u001b[36m(async_process_image_data pid=5187)\u001b[0m 3. Investment Thesis Section:\n",
      "\u001b[36m(async_process_image_data pid=5187)\u001b[0m This section highlights AMD's performance in 4Q23, with revenue topping consensus estimates and non-GAAP EPS matching Street expectations. AMD sustained annual top-line growth in 4Q23 after sales rose year-over-year in 3Q23. During 4Q23, AMD's client PC business delivered 62% annual sales growth, but partly offset a very weak 1H23. Data center surprised with 38% growth, accounting for all of the revenue beat against consensus. Gaming and Embedded Processing declined in double-digit percentages year-over-year.\n",
      "\u001b[36m(async_process_image_data pid=5187)\u001b[0m 4. Market Data Section:\n",
      "\u001b[36m(async_process_image_data pid=5187)\u001b[0m This section includes a stock price chart, with the current price highlighted, and a table displaying AMD's historical stock price range, dividend information, and sector overview details like sector rating, total market capitalization, and financial strength rating.\n",
      "\u001b[36m(async_process_image_data pid=5187)\u001b[0m 5. Key Statistics Section:\n",
      "\u001b[36m(async_process_image_data pid=5187)\u001b[0m This table provides various key statistics for AMD, including market overview (price, target price, 52-week price range, shares outstanding, dividend), sector overview (sector rating, total market cap), financial strength (financial strength rating, debt/capital ratio, return on equity, net margin, payout ratio, current ratio), valuation metrics (revenue, after-tax income, current FY P/E, price FY P/E, price/sales, price/book, stock value/share, market capitalization), and forecasted growth rates for various periods (1 year EPS growth forecast, FY1/FY2 EPS growth forecast, 1 year dividend growth forecast), along with risk measures (beta, institutional ownership).\n",
      "\u001b[36m(async_process_image_data pid=5187)\u001b[0m 6. Quarterly Data Section:\n",
      "\u001b[36m(async_process_image_data pid=5187)\u001b[0m This section contains three charts displaying AMD's quarterly EPS, revenue, and annual revenue by fiscal year and quarter, with actual values provided in tabular form below each chart.\n",
      "\u001b[36m(async_process_image_data pid=5187)\u001b[0m 7. Color Scheme:\n",
      "\u001b[36m(async_process_image_data pid=5187)\u001b[0m The color scheme used in the image is predominantly red and black, with some green accents for the rating and buy/hold/sell indicators.\n",
      "\u001b[36m(async_process_image_data pid=5187)\u001b[0m Overall, the image presents a comprehensive analyst report on AMD, with detailed financial data, analysis, recommendations, and forecasts, following a structured layout and design typical of such reports.\n",
      "\u001b[36m(async_process_image_data pid=5187)\u001b[0m Temporal Entities:\u001b[32m [repeated 2x across cluster]\u001b[0m\n",
      "\u001b[36m(async_process_image_data pid=5187)\u001b[0m \u001b[32m [repeated 26x across cluster]\u001b[0m\n",
      "\u001b[36m(async_process_image_data pid=5186)\u001b[0m json_file_path: pdf_img_json_dir/tesla_rec_page_2.json\n",
      "\u001b[36m(async_process_image_data pid=5187)\u001b[0m Named Entities:\n",
      "\u001b[36m(async_process_image_data pid=5187)\u001b[0m Product Entities:\n",
      "\u001b[36m(async_process_image_data pid=5187)\u001b[0m json_file_path: pdf_img_json_dir/AMD_rec_page_1.json\n"
     ]
    },
    {
     "name": "stderr",
     "output_type": "stream",
     "text": [
      "\u001b[36m(async_process_image_data pid=5187)\u001b[0m [2024-05-28 16:24:51,126] p5187 {500037063.py:58} INFO - Ingesting data into pipeline\u001b[32m [repeated 2x across cluster]\u001b[0m\n",
      "\u001b[36m(async_process_image_data pid=5187)\u001b[0m [2024-05-28 16:24:51,126] p5187 {500037063.py:59} INFO - image desc: 200 OK\u001b[32m [repeated 2x across cluster]\u001b[0m\n",
      "\u001b[36m(async_process_image_data pid=5187)\u001b[0m [2024-05-28 16:24:51,087] p5187 {credentials.py:1075} INFO - Found credentials from IAM Role: BaseNotebookInstanceEc2InstanceRole\n"
     ]
    },
    {
     "name": "stdout",
     "output_type": "stream",
     "text": [
      "\u001b[36m(async_process_image_data pid=5191)\u001b[0m file_path: img/b64_images/APPLE_rec_page_3.b64, image description (prefiltered with entities extracted): Based on the image, here is a list of entities present:\n",
      "\u001b[36m(async_process_image_data pid=5191)\u001b[0m Named Entities:\n",
      "\u001b[36m(async_process_image_data pid=5191)\u001b[0m - Apple Inc.\n",
      "\u001b[36m(async_process_image_data pid=5191)\u001b[0m - IBM (International Business Machines)\n",
      "\u001b[36m(async_process_image_data pid=5191)\u001b[0m - HPE (Hewlett Packard Enterprise Co)\n",
      "\u001b[36m(async_process_image_data pid=5191)\u001b[0m Organizations:\n",
      "\u001b[36m(async_process_image_data pid=5191)\u001b[0m - AAPL (Ticker symbol for Apple Inc.)\n",
      "\u001b[36m(async_process_image_data pid=5191)\u001b[0m - IBM (Ticker symbol for International Business Machines)\n",
      "\u001b[36m(async_process_image_data pid=5191)\u001b[0m - HPE (Ticker symbol for Hewlett Packard Enterprise Co)\n",
      "\u001b[36m(async_process_image_data pid=5191)\u001b[0m The image does not contain any specific person names, locations, or dates. However, it does provide some quantitative and financial information related to these companies, which could be categorized as custom entities:\n",
      "\u001b[36m(async_process_image_data pid=5191)\u001b[0m Custom Entities:\n",
      "\u001b[36m(async_process_image_data pid=5191)\u001b[0m - Market Cap (in $ millions)\n",
      "\u001b[36m(async_process_image_data pid=5191)\u001b[0m - 5-yr Growth Rate (%)\n",
      "\u001b[36m(async_process_image_data pid=5191)\u001b[0m - Current FY P/E\n",
      "\u001b[36m(async_process_image_data pid=5191)\u001b[0m - Net Margin (%)\n",
      "\u001b[36m(async_process_image_data pid=5191)\u001b[0m - 1-yr EPS Growth (%)\n",
      "\u001b[36m(async_process_image_data pid=5191)\u001b[0m - Argus Rating (BUY, BUY, HOLD)\n",
      "\u001b[36m(async_process_image_data pid=5191)\u001b[0m The image does not appear to contain any explicit temporal, product, or location entities based on the information provided.The image appears to be an analyst report or research document from a company called Argus Research Company. The main content of the image is a report or analysis on Apple Inc., which is listed on the NASDAQ exchange under the ticker symbol AAPL.\n",
      "\u001b[36m(async_process_image_data pid=5191)\u001b[0m The report is divided into multiple sections with headers and data presented in various formats, including text, tables, and charts.\n",
      "\u001b[36m(async_process_image_data pid=5191)\u001b[0m Section: Analyst's Notes (continued)\n",
      "\u001b[36m(async_process_image_data pid=5191)\u001b[0m This section contains a paragraph of text discussing Apple's alleged actions related to discouraging or blocking the development of hardware-agnostic, cloud-streaming 'super apps' that would enable high-quality video play on any device. It also mentions a lawsuit related to iMessage's 'blue' texts and Apple's response defending their commitment to innovation, user experience, and privacy.\n",
      "\u001b[36m(async_process_image_data pid=5191)\u001b[0m Chart: Peer & Industry Analysis\n",
      "\u001b[36m(async_process_image_data pid=5191)\u001b[0m This section contains a scatterplot chart titled 'Growth' that plots various companies (AAPL, IBM, HPQ, HPE, and an unidentified peer average) along two axes: 5-yr Growth Rate(%) on the X-axis and P/E on the Y-axis. The chart appears to be color-coded, with AAPL represented in blue.\n",
      "\u001b[36m(async_process_image_data pid=5191)\u001b[0m Table: \n",
      "\u001b[36m(async_process_image_data pid=5191)\u001b[0m Below the chart, there is a table with the following columns:\n",
      "\u001b[36m(async_process_image_data pid=5191)\u001b[0m 1. Ticker (AAPL, IBM, HPQ, HPE)\n",
      "\u001b[36m(async_process_image_data pid=5191)\u001b[0m 2. Company (Apple Inc, International Business Machine, HP Inc, Hewlett Packard Enterprise Co)\n",
      "\u001b[36m(async_process_image_data pid=5191)\u001b[0m 3. Market Cap ($ in Millions) (2,846,275, 175,923, 29,433, 22,373)\n",
      "\u001b[36m(async_process_image_data pid=5191)\u001b[0m 4. 5-yr Growth Rate (%) (13.0, 9.0, 12.0, 8.0)\n",
      "\u001b[36m(async_process_image_data pid=5191)\u001b[0m 5. Current FY P/E (24.8, 19.3, 8.6, 9.4)\n",
      "\u001b[36m(async_process_image_data pid=5191)\u001b[0m 6. Net Margin (%) (26.2, 12.1, 6.5, 6.8)\n",
      "\u001b[36m(async_process_image_data pid=5191)\u001b[0m 7. 1-yr EPS Growth (%) (4.5, 6.7, 7.8, 10.3)\n",
      "\u001b[36m(async_process_image_data pid=5191)\u001b[0m 8. Argus Rating (BUY, BUY, BUY, HOLD)\n",
      "\u001b[36m(async_process_image_data pid=5191)\u001b[0m The table also includes a 'Peer Average' row with values for each column, representing the average across the listed companies.\n",
      "\u001b[36m(async_process_image_data pid=5191)\u001b[0m Below the table, there are several smaller charts or graphical elements:\n",
      "\u001b[36m(async_process_image_data pid=5191)\u001b[0m 1. P/E (Bar chart comparing P/E ratios, with AAPL having the highest sector-relative bar)\n",
      "\u001b[36m(async_process_image_data pid=5191)\u001b[0m 2. Price/Sales (Bar chart comparing Price/Sales ratios, with AAPL having a lower sector-relative bar)\n",
      "\u001b[36m(async_process_image_data pid=5191)\u001b[0m 3. Price/Book (Bar chart comparing Price/Book ratios, with AAPL having a lower sector-relative bar)\n",
      "\u001b[36m(async_process_image_data pid=5191)\u001b[0m 4. PEG (Bar chart comparing PEG ratios, with AAPL having the highest sector-relative bar)\n",
      "\u001b[36m(async_process_image_data pid=5191)\u001b[0m 5. 5 Year Growth (Bar chart comparing 5-year growth rates, with AAPL having the highest sector-relative bar)\n",
      "\u001b[36m(async_process_image_data pid=5191)\u001b[0m 6. Debt/Capital (Bar chart comparing Debt/Capital ratios, with AAPL having the lowest sector-relative bar)\n",
      "\u001b[36m(async_process_image_data pid=5191)\u001b[0m Each of these smaller charts uses a color scheme to compare AAPL's metric against a 'Market' value (dark blue) and a 'Sector' value (light blue), with the length of the bars representing the relative values.\n",
      "\u001b[36m(async_process_image_data pid=5191)\u001b[0m The image is primarily composed of text, numbers, and bar charts, with the color scheme limited to shades of blue and red for the company name and header.\n",
      "\u001b[36m(async_process_image_data pid=5191)\u001b[0m \u001b[32m [repeated 15x across cluster]\u001b[0m\n"
     ]
    },
    {
     "name": "stderr",
     "output_type": "stream",
     "text": [
      "\u001b[36m(async_process_image_data pid=5186)\u001b[0m [2024-05-28 16:24:56,257] p5186 {500037063.py:14} INFO - going to convert img/b64_images/Boeing_rec_page_3.b64 into embeddings\n",
      "\u001b[36m(async_process_image_data pid=5191)\u001b[0m [2024-05-28 16:24:56,207] p5191 {credentials.py:1075} INFO - Found credentials from IAM Role: BaseNotebookInstanceEc2InstanceRole\n",
      "\u001b[36m(async_process_image_data pid=5191)\u001b[0m [2024-05-28 16:24:56,237] p5191 {500037063.py:58} INFO - Ingesting data into pipeline\n",
      "\u001b[36m(async_process_image_data pid=5191)\u001b[0m [2024-05-28 16:24:56,237] p5191 {500037063.py:59} INFO - image desc: 200 OK\n"
     ]
    },
    {
     "name": "stdout",
     "output_type": "stream",
     "text": [
      "\u001b[36m(async_process_image_data pid=5191)\u001b[0m json_file_path: pdf_img_json_dir/APPLE_rec_page_3.json\n",
      "\u001b[36m(async_process_image_data pid=5190)\u001b[0m file_path: img/b64_images/AMD_rec_page_2.b64, image description (prefiltered with entities extracted): Based on the image, here is a list of relevant entities present:\n",
      "\u001b[36m(async_process_image_data pid=5190)\u001b[0m - Advanced Micro Devices Inc. (organization)\n",
      "\u001b[36m(async_process_image_data pid=5190)\u001b[0m - Intel (organization)\n",
      "\u001b[36m(async_process_image_data pid=5190)\u001b[0m - Nvidia (organization)\n",
      "\u001b[36m(async_process_image_data pid=5190)\u001b[0m - AMD (organization abbreviation)\n",
      "\u001b[36m(async_process_image_data pid=5190)\u001b[0m - Pat Gelsinger (person name, CEO of Intel)\n",
      "\u001b[36m(async_process_image_data pid=5190)\u001b[0m - Instinct MI300 series accelerator (product)\n",
      "\u001b[36m(async_process_image_data pid=5190)\u001b[0m - Ryzen 8040 series CPUs (product)\n",
      "\u001b[36m(async_process_image_data pid=5190)\u001b[0m - AI platform strategy (technology/service)\n",
      "\u001b[36m(async_process_image_data pid=5190)\u001b[0m - EPYC CPUs (product)\n",
      "\u001b[36m(async_process_image_data pid=5190)\u001b[0m - LLMs (large language models, technology)\n",
      "\u001b[36m(async_process_image_data pid=5190)\u001b[0m - ML (machine learning, technology)\n",
      "\u001b[36m(async_process_image_data pid=5190)\u001b[0m Temporal Entities:\n",
      "\u001b[36m(async_process_image_data pid=5190)\u001b[0m - 2024 (year)\n",
      "\u001b[36m(async_process_image_data pid=5190)\u001b[0m - 2023 (year)\n",
      "\u001b[36m(async_process_image_data pid=5190)\u001b[0m - 2022 (year)\n",
      "\u001b[36m(async_process_image_data pid=5190)\u001b[0m - 2020 (year) \n",
      "\u001b[36m(async_process_image_data pid=5190)\u001b[0m - 2015 (year)\n",
      "\u001b[36m(async_process_image_data pid=5190)\u001b[0m - 1Q24 (first quarter of 2024)\n",
      "\u001b[36m(async_process_image_data pid=5190)\u001b[0m Product Entities:\n",
      "\u001b[36m(async_process_image_data pid=5190)\u001b[0m - x86 CPUs (category of products)\n",
      "\u001b[36m(async_process_image_data pid=5190)\u001b[0m Location Entities:\n",
      "\u001b[36m(async_process_image_data pid=5190)\u001b[0m - None\n",
      "\u001b[36m(async_process_image_data pid=5190)\u001b[0m I have aimed to identify the key entities objectively based on the information provided in the image, without revealing any personal details unnecessarily.The image appears to be an analyst report for the company Advanced Micro Devices, Inc. (AMD), traded on the NASDAQ stock exchange. The report is dated January 31, 2024, and covers Page 2 of 7.\n",
      "\u001b[36m(async_process_image_data pid=5190)\u001b[0m The top section of the image contains the company name, 'ADVANCED MICRO DEVICES, INC.', and some commentary from the 'Analyst's Notes' section. This section mentions that AMD released new iterations of its Instinct MI300 series accelerator family and previewed Ryzen 8040 series CPUs with AI neural processing units (NPUs) for on-device Gen AI. It also states that in 2023, AMD introduced its AI platform strategy and showcased EPYC CPUs for data centers. The notes mention AMD's market share leadership in various segments and state that AMD's share price does not fully reflect the company's long-term revenue and margin growth potential.\n",
      "\u001b[36m(async_process_image_data pid=5190)\u001b[0m Below the Analyst's Notes section is the 'RECENT DEVELOPMENTS' section, which provides updates on AMD's performance compared to its peer group. The data shows that while the peer group is up 13% year-to-date in 2024, AMD gained 10% in 2023. AMD's semiconductor peer group rose 6.7%, while AMD declined 55% in 2022.\n",
      "\u001b[36m(async_process_image_data pid=5190)\u001b[0m The main body of the image contains a table titled 'Growth & Valuation Analysis' and a section titled 'Financial & Risk Analysis'. The table presents financial data for AMD from 2018 to 2022, with forecasts for 2022.\n",
      "\u001b[36m(async_process_image_data pid=5190)\u001b[0m The 'Growth & Valuation Analysis' table includes the following data points:\n",
      "\u001b[36m(async_process_image_data pid=5190)\u001b[0m Revenue: Actual figures from 2018 ($6,475 million) to 2021 ($16,434 million), and an estimated figure for 2022 ($23,601 million).\n",
      "\u001b[36m(async_process_image_data pid=5190)\u001b[0m COGS (Cost of Goods Sold): Actual figures from 2018 ($4,028 million) to 2021 ($8,505 million), and an estimated figure for 2022 ($12,998 million).\n",
      "\u001b[36m(async_process_image_data pid=5190)\u001b[0m Gross Profit: Actual figures from 2018 ($2,447 million) to 2021 ($7,929 million), and an estimated figure for 2022 ($10,603 million).\n",
      "\u001b[36m(async_process_image_data pid=5190)\u001b[0m SG&A (Selling, General, and Administrative Expenses): Actual figures from 2018 ($62 million) to 2021 ($1,448 million), and an estimated figure for 2022 ($2,336 million).\n",
      "\u001b[36m(async_process_image_data pid=5190)\u001b[0m R&D (Research and Development Expenses): Actual figures from 2018 ($1,434 million) to 2021 ($2,845 million), and an estimated figure for 2022 ($5,005 million).\n",
      "\u001b[36m(async_process_image_data pid=5190)\u001b[0m Operating Income: Actual figures from 2018 ($451 million) to 2021 ($3,648 million), and an estimated figure for 2022 ($1,264 million).\n",
      "\u001b[36m(async_process_image_data pid=5190)\u001b[0m Interest Expense: Actual figures from 2018 ($103 million) to 2021 ($26 million), and an estimated figure for 2022 ($28 million).\n",
      "\u001b[36m(async_process_image_data pid=5190)\u001b[0m Pretax Income: Actual figures from 2018 ($330 million) to 2021 ($3,699 million), and an estimated figure for 2022 ($1,184 million).\n",
      "\u001b[36m(async_process_image_data pid=5190)\u001b[0m Income Taxes: Actual figures from 2018 (-$9 million) to 2021 ($513 million), and an estimated figure for 2022 (-$122 million).\n",
      "\u001b[36m(async_process_image_data pid=5190)\u001b[0m Tax Rate (%): Actual figures from 2018 (-) to 2021 (14), and an estimated figure for 2022 (-).\n",
      "\u001b[36m(async_process_image_data pid=5190)\u001b[0m Net Income: Actual figures from 2018 ($337 million) to 2021 ($3,162 million), and an estimated figure for 2022 ($1,320 million).\n",
      "\u001b[36m(async_process_image_data pid=5190)\u001b[0m Diluted Shares Outstanding: Actual figures from 2018 (1,064) to 2021 (1,229), and an estimated figure for 2022 (1,571).\n",
      "\u001b[36m(async_process_image_data pid=5190)\u001b[0m EPS (Earnings Per Share): Actual figures from 2018 ($0.32) to 2021 ($2.57), and an estimated figure for 2022 ($0.84).\n",
      "\u001b[36m(async_process_image_data pid=5190)\u001b[0m The 'Financial & Risk Analysis' section includes the following data points:\n",
      "\u001b[36m(async_process_image_data pid=5190)\u001b[0m Cash ($ in Millions): Actual figures for 2020 ($1,\n",
      "\u001b[36m(async_process_image_data pid=5190)\u001b[0m Named Entities:\n",
      "\u001b[36m(async_process_image_data pid=5190)\u001b[0m Custom Entities:\n",
      "\u001b[36m(async_process_image_data pid=5190)\u001b[0m \u001b[32m [repeated 13x across cluster]\u001b[0m\n",
      "\u001b[36m(async_process_image_data pid=5190)\u001b[0m json_file_path: pdf_img_json_dir/AMD_rec_page_2.json\n"
     ]
    },
    {
     "name": "stderr",
     "output_type": "stream",
     "text": [
      "\u001b[36m(async_process_image_data pid=5190)\u001b[0m [2024-05-28 16:24:56,255] p5190 {500037063.py:14} INFO - going to convert img/b64_images/AMD_rec_page_2.b64 into embeddings\u001b[32m [repeated 3x across cluster]\u001b[0m\n",
      "\u001b[36m(async_process_image_data pid=5190)\u001b[0m [2024-05-28 16:25:47,370] p5190 {credentials.py:1075} INFO - Found credentials from IAM Role: BaseNotebookInstanceEc2InstanceRole\n",
      "\u001b[36m(async_process_image_data pid=5190)\u001b[0m [2024-05-28 16:25:47,437] p5190 {500037063.py:58} INFO - Ingesting data into pipeline\n",
      "\u001b[36m(async_process_image_data pid=5190)\u001b[0m [2024-05-28 16:25:47,437] p5190 {500037063.py:59} INFO - image desc: 200 OK\n"
     ]
    },
    {
     "name": "stdout",
     "output_type": "stream",
     "text": [
      "\u001b[36m(async_process_image_data pid=5191)\u001b[0m file_path: img/b64_images/AMD_rec_page_5.b64, image description (prefiltered with entities extracted): Based on the image, here are the notable entities present:\n",
      "\u001b[36m(async_process_image_data pid=5191)\u001b[0m Named Entities:\n",
      "\u001b[36m(async_process_image_data pid=5191)\u001b[0m - Advanced Micro Devices, Inc. (Organization)\n",
      "\u001b[36m(async_process_image_data pid=5191)\u001b[0m - AMD (Organization)\n",
      "\u001b[36m(async_process_image_data pid=5191)\u001b[0m - Xilinx (Organization)\n",
      "\u001b[36m(async_process_image_data pid=5191)\u001b[0m - 1Q24 (Period/Quarter)\n",
      "\u001b[36m(async_process_image_data pid=5191)\u001b[0m - 2023, 2022, 2021, 2020 (Years)\n",
      "\u001b[36m(async_process_image_data pid=5191)\u001b[0m - QLogic, Conexant, Marvell (Organizations)\n",
      "\u001b[36m(async_process_image_data pid=5191)\u001b[0m Person Names:\n",
      "\u001b[36m(async_process_image_data pid=5191)\u001b[0m - Rick Bergman\n",
      "\u001b[36m(async_process_image_data pid=5191)\u001b[0m - Devinder Kumar\n",
      "\u001b[36m(async_process_image_data pid=5191)\u001b[0m - 1Q24, 2023, 2022, 2021, 2020 (referring to fiscal years/quarters)\n",
      "\u001b[36m(async_process_image_data pid=5191)\u001b[0m - May 2022\n",
      "\u001b[36m(async_process_image_data pid=5191)\u001b[0m - Ryzen CPUs (AMD product line)\n",
      "\u001b[36m(async_process_image_data pid=5191)\u001b[0m The image appears to be an analyst report covering Advanced Micro Devices, Inc. (AMD), discussing topics like their financial performance, acquisition of Xilinx, executive changes, growth strategies, and product lines like Ryzen CPUs. No explicit locations are mentioned besides potential references to geographical markets.The image appears to be an analyst report from Argus Research Company on Advanced Micro Devices, Inc. (AMD), a semiconductor company listed on the NASDAQ stock exchange. The layout consists of a header with the company's name, ticker symbol, report creation date, and page number. Below the header, there are several sections covering different aspects of the company's analysis.\n",
      "\u001b[36m(async_process_image_data pid=5191)\u001b[0m Analyst's Notes (continued):\n",
      "\u001b[36m(async_process_image_data pid=5191)\u001b[0m This section discusses AMD's revenue guidance for the first quarter of 2024 (1Q24), forecasting revenue between $5.1-$5.7 billion, representing a 1% annual growth rate and a 12% sequential decline. The expected gross margin for 1Q24 is 32%. The guidance is deemed consistent with AMD's previous $5.0-$6.0 billion range, with a midpoint of $5.4 billion.\n",
      "\u001b[36m(async_process_image_data pid=5191)\u001b[0m The report mentions potential risks related to the acquisition of Xilinx, including cultural integration challenges, end-market outlook issues, and potential cannibalization concerns. However, it states that the all-stock nature of the deal eliminates a burdensome debt burden, and the deal diluted AMD's share base, though not in a dilutive manner.\n",
      "\u001b[36m(async_process_image_data pid=5191)\u001b[0m Financial Strength & Dividend:\n",
      "\u001b[36m(async_process_image_data pid=5191)\u001b[0m This section rates AMD's financial strength as Medium-High. It mentions AMD's efforts to reduce interest costs by swinging to a net cash position and stepping up shareholder returns. Key figures are provided:\n",
      "\u001b[36m(async_process_image_data pid=5191)\u001b[0m - Net cash position of $5.87 billion at the end of 2023\n",
      "\u001b[36m(async_process_image_data pid=5191)\u001b[0m - Cash was $5.61 billion at the end of 2022 (reflecting the addition of Xilinx's cash)\n",
      "\u001b[36m(async_process_image_data pid=5191)\u001b[0m - Gross cash of $3.61 billion at the end of 2021\n",
      "\u001b[36m(async_process_image_data pid=5191)\u001b[0m - Gross cash of $2.29 billion at the end of 2020\n",
      "\u001b[36m(async_process_image_data pid=5191)\u001b[0m - Total debt was $2.47 billion as of the end of 2023\n",
      "\u001b[36m(async_process_image_data pid=5191)\u001b[0m - Net cash was $3.40 billion at the end of 2023\n",
      "\u001b[36m(async_process_image_data pid=5191)\u001b[0m - No dividend expected from AMD in 2024 or 2025\n",
      "\u001b[36m(async_process_image_data pid=5191)\u001b[0m Management & Risks:\n",
      "\u001b[36m(async_process_image_data pid=5191)\u001b[0m This section discusses executive transitions at AMD, including Lisa Su becoming CEO in October 2014 and in 2023 (presumably elevated from interim CEO). It also mentions AMD's IP monetization strategy and the pandemic's impact on the PC market.\n",
      "\u001b[36m(async_process_image_data pid=5191)\u001b[0m The acquisition of Xilinx for $35 billion carries multiple risks, as noted.\n",
      "\u001b[36m(async_process_image_data pid=5191)\u001b[0m Company Description:\n",
      "\u001b[36m(async_process_image_data pid=5191)\u001b[0m Advanced Micro Devices is described as the number-two player in x86-based microprocessors, behind Intel, and with the 2008 acquisition of ATI, a top player in graphics processors. In 2021, Advanced Micro Devices acquired Xilinx, expanding its presence in embedded computing and data centers.\n",
      "\u001b[36m(async_process_image_data pid=5191)\u001b[0m Valuation:\n",
      "\u001b[36m(async_process_image_data pid=5191)\u001b[0m AMD shares are trading at 49.4 times the 2024 non-GAAP EPS estimate and at 38.2 times the 2025 projection. The two-year forward relative P/E of 2.3 is above the historical average of 2.0 for 2019-2023. A comparable valuation for AMD is indicated in the $200s, suggesting value at current prices.\n",
      "\u001b[36m(async_process_image_data pid=5191)\u001b[0m The report states that AMD deserves to trade at a slight premium to peers on absolute and relative P/Es, citing its peer-indicated value in the $150s, high scores on cash strength, growth characteristics, and discounted free cash flow model values in the $200s.\n",
      "\u001b[36m(async_process_image_data pid=5191)\u001b[0m Other details:\n",
      "\u001b[36m(async_process_image_data pid=5191)\u001b[0m The long-term outlook is encouraged by the progress of EPYC in cloud and enterprise data centers, the success of Ryzen CPUs for desktop and notebook PCs, and the outlook for AMD's Radeon GPUs in PC gaming. The XLNX deal added high-growth complementary assets to accelerate AMD's growth in the cloud data center. AI/ML accelerators and RISC-V software represent a new growth opportunity.\n",
      "\u001b[36m(async_process_image_data pid=5191)\u001b[0m The report reiterates a BUY rating for AMD, with a 12-month target price of $220, raised from $170.\n",
      "\u001b[36m(async_process_image_data pid=5191)\u001b[0m Temporal Entities:\n",
      "\u001b[36m(async_process_image_data pid=5191)\u001b[0m Product Entities:\n",
      "\u001b[36m(async_process_image_data pid=5191)\u001b[0m \u001b[32m [repeated 16x across cluster]\u001b[0m\n",
      "\u001b[36m(async_process_image_data pid=5191)\u001b[0m json_file_path: pdf_img_json_dir/AMD_rec_page_5.json\n"
     ]
    },
    {
     "name": "stderr",
     "output_type": "stream",
     "text": [
      "\u001b[36m(async_process_image_data pid=5191)\u001b[0m [2024-05-28 16:25:58,731] p5191 {credentials.py:1075} INFO - Found credentials from IAM Role: BaseNotebookInstanceEc2InstanceRole\n",
      "\u001b[36m(async_process_image_data pid=5190)\u001b[0m [2024-05-28 16:25:47,453] p5190 {500037063.py:14} INFO - going to convert img/b64_images/Amazon_rec_page_6.b64 into embeddings\n",
      "\u001b[36m(async_process_image_data pid=5191)\u001b[0m [2024-05-28 16:25:58,765] p5191 {500037063.py:58} INFO - Ingesting data into pipeline\n",
      "\u001b[36m(async_process_image_data pid=5191)\u001b[0m [2024-05-28 16:25:58,765] p5191 {500037063.py:59} INFO - image desc: 200 OK\n",
      "\u001b[36m(async_process_image_data pid=5191)\u001b[0m [2024-05-28 16:25:58,780] p5191 {500037063.py:14} INFO - going to convert img/b64_images/APPLE_rec_page_5.b64 into embeddings\n"
     ]
    },
    {
     "name": "stdout",
     "output_type": "stream",
     "text": [
      "\u001b[36m(async_process_image_data pid=5186)\u001b[0m file_path: img/b64_images/Boeing_rec_page_3.b64, image description (prefiltered with entities extracted): Based on the image, here are the entities I can identify:\n",
      "\u001b[36m(async_process_image_data pid=5186)\u001b[0m - Organizations: Boeing Co, Argus, Northrop Grumman Corp., Lockheed Martin Corp., General Dynamics Corp.\n",
      "\u001b[36m(async_process_image_data pid=5186)\u001b[0m - Person Name: David Calhoun (Boeing's CEO and president), Brian West (Boeing's CFO)\n",
      "\u001b[36m(async_process_image_data pid=5186)\u001b[0m Custom Entities:\n",
      "\u001b[36m(async_process_image_data pid=5186)\u001b[0m - Aircraft: 737 MAX\n",
      "\u001b[36m(async_process_image_data pid=5186)\u001b[0m - Defense programs: Space and Security programs\n",
      "\u001b[36m(async_process_image_data pid=5186)\u001b[0m Temporal Entities:\n",
      "\u001b[36m(async_process_image_data pid=5186)\u001b[0m - Dates: Feb 5, 2024 (report creation date)\n",
      "\u001b[36m(async_process_image_data pid=5186)\u001b[0m - Financial Years: 2024, 2025\n",
      "\u001b[36m(async_process_image_data pid=5186)\u001b[0m Product Entities:\n",
      "\u001b[36m(async_process_image_data pid=5186)\u001b[0m - Financial metrics: EPS (Earnings per Share), P/E (Price-to-Earnings ratio)\n",
      "\u001b[36m(async_process_image_data pid=5186)\u001b[0m There are no explicit location entities mentioned in the given image content.The image appears to be an analyst report from Argus Research Company about Boeing Co. Let me provide a detailed description following the instructions:\n",
      "\u001b[36m(async_process_image_data pid=5186)\u001b[0m 1. Sections and Data:\n",
      "\u001b[36m(async_process_image_data pid=5186)\u001b[0m The image is divided into several sections with associated data.\n",
      "\u001b[36m(async_process_image_data pid=5186)\u001b[0m Analyst's Notes (continued) Section:\n",
      "\u001b[36m(async_process_image_data pid=5186)\u001b[0m - Mentions Boeing's operating loss reflecting losses on fixed-price development programs.\n",
      "\u001b[36m(async_process_image_data pid=5186)\u001b[0m - Provides segment details like backlog of $559 billion for Boeing's fixed-price programs, low single-digit growth, and high operating margins.\n",
      "\u001b[36m(async_process_image_data pid=5186)\u001b[0m - Discusses Boeing's earnings volatility, over-changing charges, 737 MAX impact, inflation impact, and regulatory scrutiny.\n",
      "\u001b[36m(async_process_image_data pid=5186)\u001b[0m - Mentions setting core EPS estimates for 2024 ($5.50) and 2025 ($7.50).\n",
      "\u001b[36m(async_process_image_data pid=5186)\u001b[0m FINANCIAL STRENGTH & DIVIDEND Section:\n",
      "\u001b[36m(async_process_image_data pid=5186)\u001b[0m - States that Argus' financial strength rating on Boeing is Medium.\n",
      "\u001b[36m(async_process_image_data pid=5186)\u001b[0m - Mentions Boeing's cash and marketable securities ($12.7 billion), share repurchase program suspension, and dividend suspension.\n",
      "\u001b[36m(async_process_image_data pid=5186)\u001b[0m Peer & Industry Analysis Section:\n",
      "\u001b[36m(async_process_image_data pid=5186)\u001b[0m - Explains the scatterplot chart showing Boeing's positioning versus peers on long-term growth and value.\n",
      "\u001b[36m(async_process_image_data pid=5186)\u001b[0m - Provides details on how to interpret the chart's quadrants.\n",
      "\u001b[36m(async_process_image_data pid=5186)\u001b[0m 2. Overall Image Description:\n",
      "\u001b[36m(async_process_image_data pid=5186)\u001b[0m The image shows an analyst report page for Boeing Co. created by Argus Research Company on Feb 5, 2024. It is page 3 of a 5-page report.\n",
      "\u001b[36m(async_process_image_data pid=5186)\u001b[0m 3. Numbers and Associated Text/Data:\n",
      "\u001b[36m(async_process_image_data pid=5186)\u001b[0m - $59 billion - Boeing's segment backlog, up $1 billion\n",
      "\u001b[36m(async_process_image_data pid=5186)\u001b[0m - 6% - Global Services segment growth in 4Q\n",
      "\u001b[36m(async_process_image_data pid=5186)\u001b[0m - 17.4% - Operating margin for Global Services segment\n",
      "\u001b[36m(async_process_image_data pid=5186)\u001b[0m - 12% - Boeing's forecast earnings growth rate\n",
      "\u001b[36m(async_process_image_data pid=5186)\u001b[0m - $12.7 billion - Boeing's cash and marketable securities\n",
      "\u001b[36m(async_process_image_data pid=5186)\u001b[0m - $523 billion - Boeing's debt\n",
      "\u001b[36m(async_process_image_data pid=5186)\u001b[0m The table at the bottom shows data for Boeing and its peers:\n",
      "\u001b[36m(async_process_image_data pid=5186)\u001b[0m - BA (Boeing Co.): Market Cap $172,760M, 5-yr Growth Rate 12.0%, FY P/E 58.8, Net Margin -2.9%, 1-yr EPS Growth 114.3%, Argus Rating BUY\n",
      "\u001b[36m(async_process_image_data pid=5186)\u001b[0m - LMT (Lockheed Martin Corp.): Market Cap $102,933M, 5-yr Growth Rate 7.0%, FY P/E 16.4, Net Margin 10.2%, 1-yr EPS Growth 3.8%, Argus Rating BUY\n",
      "\u001b[36m(async_process_image_data pid=5186)\u001b[0m - GD (General Dynamics Corp.): Market Cap $72,791M, 5-yr Growth Rate 8.0%, FY P/E 18.4, Net Margin 7.8%, 1-yr EPS Growth 12.5%, Argus Rating BUY  \n",
      "\u001b[36m(async_process_image_data pid=5186)\u001b[0m - NOC (Northrop Grumman Corp.): Market Cap $67,003M, 5-yr Growth Rate 7.0%, FY P/E 18.1, Net Margin 5.2%, 1-yr EPS Growth 8.5%, Argus Rating BUY\n",
      "\u001b[36m(async_process_image_data pid=5186)\u001b[0m - LHX (L3Harris Technologies Inc.): Market Cap $39,238M, 5-yr Growth Rate 7.0%, FY P/E 16.4, Net Margin 6.3%, 1-yr EPS Growth 7.5%, Argus Rating HOLD\n",
      "\u001b[36m(async_process_image_data pid=5186)\u001b[0m - Peer Average: Market Cap $81,862M, 5-yr Growth Rate 8.2%, FY P/E 25.8, Net Margin 5.4%, 1-yr EPS Growth 29.3%\n",
      "\u001b[36m(async_process_image_data pid=5186)\u001b[0m 4. Colors:\n",
      "\u001b[36m(async_process_image_data pid=5186)\u001b[0m The image uses red and black text on a white background. The chart/scatterplot uses green and yellow colors to differentiate the quadrants.\n",
      "\u001b[36m(async_process_image_data pid=5186)\u001b[0m 5. Detailed and Data-Oriented Description:\n",
      "\u001b[36m(async_process_image_data pid=5186)\u001b[0m I have provided a comprehensive and detailed description of the image, covering all the sections, associated data, numbers, text, tables, and visual elements present. I have accurately described the information contained within the image without making up any details or being concise. Please let me know if you need any clarification or have additional instructions.\n"
     ]
    },
    {
     "name": "stderr",
     "output_type": "stream",
     "text": [
      "\u001b[36m(async_process_image_data pid=5186)\u001b[0m [2024-05-28 16:26:01,151] p5186 {500037063.py:58} INFO - Ingesting data into pipeline\n",
      "\u001b[36m(async_process_image_data pid=5186)\u001b[0m [2024-05-28 16:26:01,151] p5186 {500037063.py:59} INFO - image desc: 200 OK\n"
     ]
    },
    {
     "name": "stdout",
     "output_type": "stream",
     "text": [
      "\u001b[36m(async_process_image_data pid=5187)\u001b[0m file_path: img/b64_images/Boeing_rec_page_1.b64, image description (prefiltered with entities extracted): Based on the image, here are the relevant entities I can identify:\n",
      "\u001b[36m(async_process_image_data pid=5187)\u001b[0m - Boeing Co (Organization)\n",
      "\u001b[36m(async_process_image_data pid=5187)\u001b[0m - NYSE: BA (Stock ticker symbol)\n",
      "\u001b[36m(async_process_image_data pid=5187)\u001b[0m - Dow Jones Industrial Average (Stock index)\n",
      "\u001b[36m(async_process_image_data pid=5187)\u001b[0m - S&P 500 (Stock index)\n",
      "\u001b[36m(async_process_image_data pid=5187)\u001b[0m - John Eade (Person name)\n",
      "\u001b[36m(async_process_image_data pid=5187)\u001b[0m - February 2, 2024 (Date)\n",
      "\u001b[36m(async_process_image_data pid=5187)\u001b[0m - Twelve Month Rating (Time period)\n",
      "\u001b[36m(async_process_image_data pid=5187)\u001b[0m - Five Year Rating (Time period)\n",
      "\u001b[36m(async_process_image_data pid=5187)\u001b[0m - ARGUS RATING: BUY (Investment recommendation)\n",
      "\u001b[36m(async_process_image_data pid=5187)\u001b[0m - HOLD (Investment recommendation) \n",
      "\u001b[36m(async_process_image_data pid=5187)\u001b[0m - SELL (Investment recommendation)\n",
      "\u001b[36m(async_process_image_data pid=5187)\u001b[0m - Turnaround opportunity (Business situation)\n",
      "\u001b[36m(async_process_image_data pid=5187)\u001b[0m - 737 MAX airplanes (Product name)\n",
      "\u001b[36m(async_process_image_data pid=5187)\u001b[0m Location Entities:\n",
      "\u001b[36m(async_process_image_data pid=5187)\u001b[0m - Chicago (City)\n",
      "\u001b[36m(async_process_image_data pid=5187)\u001b[0m Financial Entities:\n",
      "\u001b[36m(async_process_image_data pid=5187)\u001b[0m - $209.38 (Stock price)\n",
      "\u001b[36m(async_process_image_data pid=5187)\u001b[0m - $240.00 (Target price)\n",
      "\u001b[36m(async_process_image_data pid=5187)\u001b[0m - $176.25 to $267.54 (52 Week Price Range)\n",
      "\u001b[36m(async_process_image_data pid=5187)\u001b[0m - $0.00 (Dividend amount)\n",
      "\u001b[36m(async_process_image_data pid=5187)\u001b[0m - MEDIUM (Financial Strength Rating)\n",
      "\u001b[36m(async_process_image_data pid=5187)\u001b[0m - $77.79 Billion (Revenue)\n",
      "\u001b[36m(async_process_image_data pid=5187)\u001b[0m - $22.22 Billion (After-Tax Income)\n",
      "\u001b[36m(async_process_image_data pid=5187)\u001b[0m - 59.82 (Current FY P/E Ratio)\n",
      "\u001b[36m(async_process_image_data pid=5187)\u001b[0m - 1.64 (Price/Sales Ratio)\n",
      "\u001b[36m(async_process_image_data pid=5187)\u001b[0m - 7.41 (Price/Book Ratio)\n",
      "\u001b[36m(async_process_image_data pid=5187)\u001b[0m - $56.27 (Book Value/Share)\n",
      "\u001b[36m(async_process_image_data pid=5187)\u001b[0m - $127.75 Billion (Market Capitalization)\n",
      "\u001b[36m(async_process_image_data pid=5187)\u001b[0m The image contains detailed financial analysis and recommendations for Boeing Co from an entity named Argus Research Company.The image appears to be an analyst report on Boeing Co. (NYSE: BA) created by Argus Research Company. The overall layout is organized into sections with various data points and visual elements.\n",
      "\u001b[36m(async_process_image_data pid=5187)\u001b[0m 1. Header Section:\n",
      "\u001b[36m(async_process_image_data pid=5187)\u001b[0m    - The header displays the company name 'ARGUS' and 'BOEING CO' along with the stock ticker 'NYSE: BA'.\n",
      "\u001b[36m(async_process_image_data pid=5187)\u001b[0m    - It mentions that the report was created on Feb 5, 2024, and is 1 of 5 pages.\n",
      "\u001b[36m(async_process_image_data pid=5187)\u001b[0m    - It provides a brief overview of Boeing's business, stating that it manufactures commercial jetliners, military aircraft, rotorcraft, electronic and defense systems, missiles, satellites, launch vehicles, and advanced information and communication systems.\n",
      "\u001b[36m(async_process_image_data pid=5187)\u001b[0m    - It notes that Boeing was founded in 1916, is based in Chicago, and its shares are a component of the Dow Jones Industrial Average and the S&P 500.\n",
      "\u001b[36m(async_process_image_data pid=5187)\u001b[0m    - It states that the company has more than 170,000 employees.\n",
      "\u001b[36m(async_process_image_data pid=5187)\u001b[0m 2. Analyst's Notes Section:\n",
      "\u001b[36m(async_process_image_data pid=5187)\u001b[0m    - This section contains the analyst's rating (BUY) and a brief analysis by John Eade, dated February 2, 2024.\n",
      "\u001b[36m(async_process_image_data pid=5187)\u001b[0m    - Key points mentioned:\n",
      "\u001b[36m(async_process_image_data pid=5187)\u001b[0m      - Turnaround opportunity\n",
      "\u001b[36m(async_process_image_data pid=5187)\u001b[0m      - BA shares have fallen almost 20% over the past few weeks due to new problems with its 737 MAX airliners\n",
      "\u001b[36m(async_process_image_data pid=5187)\u001b[0m      - Over the past quarter, they gained 9% but underperformed the S&P 500, which rose 17%\n",
      "\u001b[36m(async_process_image_data pid=5187)\u001b[0m      - Though the company has pulled its 2024 guidance, it remains focused on longer-term financial targets that indicate a turnaround\n",
      "\u001b[36m(async_process_image_data pid=5187)\u001b[0m      - Expected EPS recovery from 2024, following five consecutive years of losses per share, and see value in the shares to their target price of $240\n",
      "\u001b[36m(async_process_image_data pid=5187)\u001b[0m 3. Investment Thesis:\n",
      "\u001b[36m(async_process_image_data pid=5187)\u001b[0m    - The investment thesis states that the rating on Boeing Co. (NYSE: BA) is BUY.\n",
      "\u001b[36m(async_process_image_data pid=5187)\u001b[0m    - It mentions that Boeing is among the largest aerospace and defense companies in their coverage universe and has superior long-term prospects due to its leading presence in the growing commercial aerospace industry and its significant backlog.\n",
      "\u001b[36m(async_process_image_data pid=5187)\u001b[0m    - It notes that Boeing is usually a profitable segment and a top-5 defense contractor, but faces near-term challenges, including inflation, supply chain, and internal aircraft issues (recent incident in which a door fell off a Boeing jet mid-air).\n",
      "\u001b[36m(async_process_image_data pid=5187)\u001b[0m    - The shares are down more than 50% from their all-time high of $440, set in February 2019.\n",
      "\u001b[36m(async_process_image_data pid=5187)\u001b[0m    - Looking ahead, the 737 MAX and 787 are fully back in production, and Boeing is accelerating deliveries, which should drive earnings power of $13-$20 per share.\n",
      "\u001b[36m(async_process_image_data pid=5187)\u001b[0m    - Management is making progress on the turnaround and cash flow growth, which they think can lift valuation multiples.\n",
      "\u001b[36m(async_process_image_data pid=5187)\u001b[0m    - Their target price is $240.\n",
      "\u001b[36m(async_process_image_data pid=5187)\u001b[0m 4. Recent Developments:\n",
      "\u001b[36m(async_process_image_data pid=5187)\u001b[0m    - BA shares have underperformed the market over the past quarter, gaining 9% while the S&P 500 has risen 17%.\n",
      "\u001b[36m(async_process_image_data pid=5187)\u001b[0m    - Over the past 12 months, the shares have also underperformed, dropping 5% while the S&P 500 has gained 20%.\n",
      "\u001b[36m(async_process_image_data pid=5187)\u001b[0m    - BA shares have underperformed the industrial sector ETF IYJ over the past year and the past five years. The beta on BA is 1.93.\n",
      "\u001b[36m(async_process_image_data pid=5187)\u001b[0m 5. Market Data Section:\n",
      "\u001b[36m(async_process_image_data pid=5187)\u001b[0m    - This section contains a line chart displaying Boeing's stock price over a specific time period.\n",
      "\u001b[36m(async_process_image_data pid=5187)\u001b[0m    - The chart shows the stock price fluctuations, with the closing price marked by a solid blue line.\n",
      "\u001b[36m(async_process_image_data pid=5187)\u001b[0m    - The chart also includes a green 'Buy' rating marker and a red 'Sell' rating marker.\n",
      "\u001b[36m(async_process_image_data pid=5187)\u001b[0m 6. Quarterly Data Table:\n",
      "\u001b[36m(async_process_image_data pid=5187)\u001b[0m    - This table displays quarterly financial data for Boeing.\n",
      "\u001b[36m(async_process_image_data pid=5187)\u001b[0m    - It includes rows for EPS (Earnings Per Share), Annual, Revenue, and various fiscal year columns (Q1, Q2, Q3, Q4) with corresponding data values.\n",
      "\u001b[36m(async_process_image_data pid=5187)\u001b[0m 7. Key Statistics Section:\n",
      "\u001b[36m(async_process_image_data pid=5187)\u001b[0m    - This section provides key statistical data about Boeing Co.\n",
      "\u001b[36m(async_process_image_data pid=5187)\u001b[0m    - It includes the Market Overview (Price, Target Price, 52 Week Price Range, Shares Outstanding, Dividend), Sector Overview (Sector, Sector Rating, Total ARGUS 500 Market Cap), and Financial Strength (Financial Strength Rating, Debt/Capital Ratio, Return on Equity, Net Margin, Payout Ratio, Current Ratio).\n",
      "\u001b[36m(async_process_image_data pid=5187)\u001b[0m    - It also provides data on Revenue, After-Tax Income\n",
      "\u001b[36m(async_process_image_data pid=5187)\u001b[0m Named Entities:\u001b[32m [repeated 2x across cluster]\u001b[0m\n",
      "\u001b[36m(async_process_image_data pid=5187)\u001b[0m \u001b[32m [repeated 27x across cluster]\u001b[0m\n",
      "\u001b[36m(async_process_image_data pid=5186)\u001b[0m json_file_path: pdf_img_json_dir/Boeing_rec_page_3.json\n",
      "\u001b[36m(async_process_image_data pid=5187)\u001b[0m Custom Entities:\n",
      "\u001b[36m(async_process_image_data pid=5187)\u001b[0m Temporal Entities:\n",
      "\u001b[36m(async_process_image_data pid=5187)\u001b[0m json_file_path: pdf_img_json_dir/Boeing_rec_page_1.json\n"
     ]
    },
    {
     "name": "stderr",
     "output_type": "stream",
     "text": [
      "\u001b[36m(async_process_image_data pid=5187)\u001b[0m [2024-05-28 16:26:19,094] p5187 {credentials.py:1075} INFO - Found credentials from IAM Role: BaseNotebookInstanceEc2InstanceRole\u001b[32m [repeated 2x across cluster]\u001b[0m\n",
      "\u001b[36m(async_process_image_data pid=5186)\u001b[0m [2024-05-28 16:26:01,159] p5186 {500037063.py:14} INFO - going to convert img/b64_images/APPLE_rec_page_2.b64 into embeddings\n",
      "\u001b[36m(async_process_image_data pid=5187)\u001b[0m [2024-05-28 16:26:19,163] p5187 {500037063.py:58} INFO - Ingesting data into pipeline\n",
      "\u001b[36m(async_process_image_data pid=5187)\u001b[0m [2024-05-28 16:26:19,163] p5187 {500037063.py:59} INFO - image desc: 200 OK\n",
      "\u001b[36m(async_process_image_data pid=5187)\u001b[0m [2024-05-28 16:26:19,175] p5187 {500037063.py:14} INFO - going to convert img/b64_images/Cisco_rec_page_3.b64 into embeddings\n"
     ]
    },
    {
     "name": "stdout",
     "output_type": "stream",
     "text": [
      "\u001b[36m(async_process_image_data pid=5190)\u001b[0m file_path: img/b64_images/Amazon_rec_page_6.b64, image description (prefiltered with entities extracted): Based on the image, here are the relevant entities present:\n",
      "\u001b[36m(async_process_image_data pid=5190)\u001b[0m - Argus\n",
      "\u001b[36m(async_process_image_data pid=5190)\u001b[0m - Argus Research Co. (ARC)\n",
      "\u001b[36m(async_process_image_data pid=5190)\u001b[0m - Argus Investors' Counsel, Inc. (AIC)\n",
      "\u001b[36m(async_process_image_data pid=5190)\u001b[0m - The Argus Research Group\n",
      "\u001b[36m(async_process_image_data pid=5190)\u001b[0m - The Argus Research Co.\n",
      "\u001b[36m(async_process_image_data pid=5190)\u001b[0m - Morningstar\n",
      "\u001b[36m(async_process_image_data pid=5190)\u001b[0m Organizations:\n",
      "\u001b[36m(async_process_image_data pid=5190)\u001b[0m - Argus Research\n",
      "\u001b[36m(async_process_image_data pid=5190)\u001b[0m - Argus Investors' Counsel, Inc.\n",
      "\u001b[36m(async_process_image_data pid=5190)\u001b[0m - The Argus Research Group\n",
      "\u001b[36m(async_process_image_data pid=5190)\u001b[0m - Morningstar\n",
      "\u001b[36m(async_process_image_data pid=5190)\u001b[0m Locations:\n",
      "\u001b[36m(async_process_image_data pid=5190)\u001b[0m - U.S. Securities and Exchange Commission\n",
      "\u001b[36m(async_process_image_data pid=5190)\u001b[0m - Stamford, Connecticut\n",
      "\u001b[36m(async_process_image_data pid=5190)\u001b[0m - New York\n",
      "\u001b[36m(async_process_image_data pid=5190)\u001b[0m Temporal Entities:\n",
      "\u001b[36m(async_process_image_data pid=5190)\u001b[0m - Feb 2, 2024 (Report creation date)\n",
      "\u001b[36m(async_process_image_data pid=5190)\u001b[0m The image does not appear to contain any specific person names, product names, or other custom entities beyond the organization/company names mentioned.The image appears to be a portion of a report or research document from a company called Argus Research. The overall design has a maroon color header with the Argus logo and 'NASDAQ: AMZN' text. The main section is titled 'METHODOLOGY & DISCLAIMERS' and is dated February 2, 2024, indicating Page 6 of 6.\n",
      "\u001b[36m(async_process_image_data pid=5190)\u001b[0m About Argus:\n",
      "\u001b[36m(async_process_image_data pid=5190)\u001b[0m This section describes Argus Research, founded by Economist Harold Dorsey in 1934. It outlines their top-down, fundamental system that is used by Argus analysts. This six-point system includes Industry Analysis, Growth Analysis, Financial Strength Analysis, Management Assessment, Risk Analysis, and Valuation Analysis.\n",
      "\u001b[36m(async_process_image_data pid=5190)\u001b[0m The Industry Analysis identifies industries expected to perform well over the next one-to-two years.\n",
      "\u001b[36m(async_process_image_data pid=5190)\u001b[0m The Growth Analysis generates proprietary estimates for companies under coverage.\n",
      "\u001b[36m(async_process_image_data pid=5190)\u001b[0m In the Financial Strength Analysis, analysts study ratios to understand profitability, liquidity, and capital structure.\n",
      "\u001b[36m(async_process_image_data pid=5190)\u001b[0m During the Management Assessment, analysts meet with and familiarize themselves with the processes of corporate management teams.\n",
      "\u001b[36m(async_process_image_data pid=5190)\u001b[0m Quantitative trends and qualitative threats are assessed under the Risk Analysis.\n",
      "\u001b[36m(async_process_image_data pid=5190)\u001b[0m And finally, Argus' Valuation Analysis model integrates a historical ratio matrix, discounted cash flow modeling, and peer comparison.\n",
      "\u001b[36m(async_process_image_data pid=5190)\u001b[0m THE ARGUS RESEARCH RATING SYSTEM:\n",
      "\u001b[36m(async_process_image_data pid=5190)\u001b[0m This section outlines Argus' rating system for stocks: BUY, HOLD, and SELL.\n",
      "\u001b[36m(async_process_image_data pid=5190)\u001b[0m Stocks are rated relative to a benchmark, the S&P 500.\n",
      "\u001b[36m(async_process_image_data pid=5190)\u001b[0m • A BUY-rated stock is expected to outperform the S&P 500 on a risk-adjusted basis over a 12-month period. To make this determination, Argus Analysts set target prices, use beta as the measure of risk, and compare expected risk-adjusted stock returns to the S&P 500 forecasts set by the Argus Market Strategist.\n",
      "\u001b[36m(async_process_image_data pid=5190)\u001b[0m • A HOLD-rated stock is expected to perform in line with the S&P 500.\n",
      "\u001b[36m(async_process_image_data pid=5190)\u001b[0m • A SELL-rated stock is expected to underperform the S&P 500.\n",
      "\u001b[36m(async_process_image_data pid=5190)\u001b[0m Argus Research Disclaimer:\n",
      "\u001b[36m(async_process_image_data pid=5190)\u001b[0m This section contains a disclaimer from Argus Research Co. (ARC), describing their role as an independent investment research provider whose parent company, Argus Investors' Counsel, Inc. (AIC), is registered with the U.S. Securities and Exchange Commission. It clarifies that Argus Research Group nor any affiliate is a member of the FINRA or the SIPC, and that Argus Research is not a registered broker-dealer and does not have investment banking operations. The Argus trademark, service mark and logo are intellectual property. Reproduction, redistribution or disclosure of the report's content is prohibited by law.\n",
      "\u001b[36m(async_process_image_data pid=5190)\u001b[0m Morningstar Disclaimer:\n",
      "\u001b[36m(async_process_image_data pid=5190)\u001b[0m This section contains a disclaimer from Morningstar, stating that certain financial information in the report: (1) is proprietary to Morningstar and/or its content providers; (2) may not be copied or distributed; and (3) is not warranted to be accurate, complete or timely. Neither Morningstar nor its content providers are responsible for any damages or losses arising from the use of this information. Past performance is no guarantee of future results.\n",
      "\u001b[36m(async_process_image_data pid=5190)\u001b[0m The image is predominantly maroon and white in color, with the Argus logo and some text in black.\n",
      "\u001b[36m(async_process_image_data pid=5190)\u001b[0m Named Entities:\n",
      "\u001b[36m(async_process_image_data pid=5190)\u001b[0m \u001b[32m [repeated 12x across cluster]\u001b[0m\n",
      "\u001b[36m(async_process_image_data pid=5190)\u001b[0m json_file_path: pdf_img_json_dir/Amazon_rec_page_6.json\n"
     ]
    },
    {
     "name": "stderr",
     "output_type": "stream",
     "text": [
      "\u001b[36m(async_process_image_data pid=5190)\u001b[0m [2024-05-28 16:26:32,024] p5190 {credentials.py:1075} INFO - Found credentials from IAM Role: BaseNotebookInstanceEc2InstanceRole\n",
      "\u001b[36m(async_process_image_data pid=5190)\u001b[0m [2024-05-28 16:26:32,055] p5190 {500037063.py:58} INFO - Ingesting data into pipeline\n",
      "\u001b[36m(async_process_image_data pid=5190)\u001b[0m [2024-05-28 16:26:32,056] p5190 {500037063.py:59} INFO - image desc: 200 OK\n",
      "\u001b[36m(async_process_image_data pid=5190)\u001b[0m [2024-05-28 16:26:32,092] p5190 {500037063.py:14} INFO - going to convert img/b64_images/Amazon_rec_page_5.b64 into embeddings\n"
     ]
    },
    {
     "name": "stdout",
     "output_type": "stream",
     "text": [
      "\u001b[36m(async_process_image_data pid=5186)\u001b[0m file_path: img/b64_images/APPLE_rec_page_2.b64, image description (prefiltered with entities extracted): Based on the image, here are the relevant entities I can identify:\n",
      "\u001b[36m(async_process_image_data pid=5186)\u001b[0m Named Entities:\n",
      "\u001b[36m(async_process_image_data pid=5186)\u001b[0m - Apple Inc. (Organization)\n",
      "\u001b[36m(async_process_image_data pid=5186)\u001b[0m - Jonathan Kanter (Person - U.S. Assistant Attorney General)\n",
      "\u001b[36m(async_process_image_data pid=5186)\u001b[0m - Department of Justice (Organization)\n",
      "\u001b[36m(async_process_image_data pid=5186)\u001b[0m - AT&T (Organization)\n",
      "\u001b[36m(async_process_image_data pid=5186)\u001b[0m - 25 years ago\n",
      "\u001b[36m(async_process_image_data pid=5186)\u001b[0m - 2024\n",
      "\u001b[36m(async_process_image_data pid=5186)\u001b[0m - 2023\n",
      "\u001b[36m(async_process_image_data pid=5186)\u001b[0m - 2022\n",
      "\u001b[36m(async_process_image_data pid=5186)\u001b[0m - 2021\n",
      "\u001b[36m(async_process_image_data pid=5186)\u001b[0m - 2020\n",
      "\u001b[36m(async_process_image_data pid=5186)\u001b[0m - 2019\n",
      "\u001b[36m(async_process_image_data pid=5186)\u001b[0m Financial/Product Entities:\n",
      "\u001b[36m(async_process_image_data pid=5186)\u001b[0m - EPS (Earnings Per Share)\n",
      "\u001b[36m(async_process_image_data pid=5186)\u001b[0m - App Store\n",
      "\u001b[36m(async_process_image_data pid=5186)\u001b[0m - iTunes\n",
      "\u001b[36m(async_process_image_data pid=5186)\u001b[0m - iCloud\n",
      "\u001b[36m(async_process_image_data pid=5186)\u001b[0m - iOS (Operating System)\n",
      "\u001b[36m(async_process_image_data pid=5186)\u001b[0m The image appears to be an analyst report discussing Apple Inc.'s business performance, legal issues, and financial metrics across multiple years. It does not reveal any specific individual names beyond Jonathan Kanter from the Department of Justice.The image appears to be an analyst report on Apple Inc. from Argus Research Company. The overall layout consists of text divided into sections, with accompanying tables and data.\n",
      "\u001b[36m(async_process_image_data pid=5186)\u001b[0m 1. The top section displays the company name 'APPLE INC.', the NASDAQ ticker symbol 'AAPL', and indicates that the report was created on Mar 22, 2024, spanning pages 2 of 6.\n",
      "\u001b[36m(async_process_image_data pid=5186)\u001b[0m 2. The next section is titled 'Analyst's Notes' and contains a detailed analysis of Apple's current financial performance, product offerings, growth prospects, and competitive strategies.\n",
      "\u001b[36m(async_process_image_data pid=5186)\u001b[0m 3. A table titled 'Growth & Valuation Analysis' presents Apple's historical financial data from 2019 to 2023 (estimated), including Revenue, COGS, Gross Profit, SG&A, R&D, Operating Income, Interest Expense, Pretax Income, Income Taxes, Tax Rate (%), Net Income, Diluted Shares Outstanding, EPS, and Dividend.\n",
      "\u001b[36m(async_process_image_data pid=5186)\u001b[0m 4. Below the table, there is a section titled 'GROWTH RATES (%)' which displays the year-over-year growth rates for Revenue, Operating Income, Net Income, EPS, and Dividend, along with the Sustainable Growth Rate.\n",
      "\u001b[36m(async_process_image_data pid=5186)\u001b[0m 5. Another table titled 'VALUATION ANALYSIS' provides data on Apple's Price-High, Price-Low, Price/Sales-High-Low, P/E-High-Low, and Price/Cash Flow-High-Low ratios from 2020 to 2023 (estimated).\n",
      "\u001b[36m(async_process_image_data pid=5186)\u001b[0m 6. The next section is titled 'Financial & Risk Analysis' and includes data on Apple's Financial Strength, such as Cash ($ in Millions), Working Capital ($ in Millions), Current Ratio, Total Debt/Equity Ratio (%), and Total Debt/Equity Ratio (%).\n",
      "\u001b[36m(async_process_image_data pid=5186)\u001b[0m 7. Under the 'RATIOS (%)' subsection, the report displays Apple's Gross Profit Margin, Operating Margin, Net Margin, Return On Assets, and Return On Equity for the years 2021 to 2023 (estimated).\n",
      "\u001b[36m(async_process_image_data pid=5186)\u001b[0m 8. The 'RISK ANALYSIS' subsection provides data on Apple's Cash Cycle (days), Cash Flow/Cap Ex, Oper. Income/Int. Exp. (ratio), and Payout Ratio.\n",
      "\u001b[36m(async_process_image_data pid=5186)\u001b[0m 9. The report includes a disclaimer at the bottom, stating that the data is proprietary to Morningstar, Inc. and may not be copied, distributed, or used for any purpose without permission.\n",
      "\u001b[36m(async_process_image_data pid=5186)\u001b[0m 10. The color scheme used in the report is primarily red and black text on a white background.\n",
      "\u001b[36m(async_process_image_data pid=5186)\u001b[0m Please note that I have provided a detailed description of the image without revealing any personal information, as per your instructions.\n",
      "\u001b[36m(async_process_image_data pid=5186)\u001b[0m Temporal Entities:\n",
      "\u001b[36m(async_process_image_data pid=5186)\u001b[0m \u001b[32m [repeated 15x across cluster]\u001b[0m\n",
      "\u001b[36m(async_process_image_data pid=5186)\u001b[0m json_file_path: pdf_img_json_dir/APPLE_rec_page_2.json\n"
     ]
    },
    {
     "name": "stderr",
     "output_type": "stream",
     "text": [
      "\u001b[36m(async_process_image_data pid=5186)\u001b[0m [2024-05-28 16:26:47,214] p5186 {credentials.py:1075} INFO - Found credentials from IAM Role: BaseNotebookInstanceEc2InstanceRole\n",
      "\u001b[36m(async_process_image_data pid=5186)\u001b[0m [2024-05-28 16:26:47,249] p5186 {500037063.py:58} INFO - Ingesting data into pipeline\n",
      "\u001b[36m(async_process_image_data pid=5186)\u001b[0m [2024-05-28 16:26:47,250] p5186 {500037063.py:59} INFO - image desc: 200 OK\n",
      "\u001b[36m(async_process_image_data pid=5186)\u001b[0m [2024-05-28 16:26:47,266] p5186 {500037063.py:14} INFO - going to convert img/b64_images/Cisco_rec_page_1.b64 into embeddings\n"
     ]
    },
    {
     "name": "stdout",
     "output_type": "stream",
     "text": [
      "\u001b[36m(async_process_image_data pid=5191)\u001b[0m - People: Timothy Cook, Steve Jobs, Jeff Williams, James Wilson, Phil Schiller, Jon Ive, SVP\n",
      "\u001b[36m(async_process_image_data pid=5191)\u001b[0m - Organizations: Apple Inc., Argus Research Company, DoJ (Department of Justice)\n",
      "\u001b[36m(async_process_image_data pid=5191)\u001b[0m Product Entities:\n",
      "\u001b[36m(async_process_image_data pid=5191)\u001b[0m - iPhone, iPad, Apple Watch, AirPods, Beats headphones, Apple TV+, Apple Arcade, Apple Music, Apple Pay\n",
      "\u001b[36m(async_process_image_data pid=5191)\u001b[0m Location Entities:\n",
      "\u001b[36m(async_process_image_data pid=5191)\u001b[0m - None specifically mentioned\n",
      "\u001b[36m(async_process_image_data pid=5191)\u001b[0m Temporal Entities:\n",
      "\u001b[36m(async_process_image_data pid=5191)\u001b[0m - FY24 (Fiscal Year 2024), FY25 (Fiscal Year 2025), March 22, 2024\n",
      "\u001b[36m(async_process_image_data pid=5191)\u001b[0m Custom Entities:\n",
      "\u001b[36m(async_process_image_data pid=5191)\u001b[0m - CEO, COO, chief technology officer, two-year forward relative P/E, trailing multiple, buy-rated, blend model\n",
      "\u001b[36m(async_process_image_data pid=5191)\u001b[0m The image appears to be an analyst report from Argus Research Company providing analysis and details about Apple Inc., its management, products, risks, and financial performance metrics for the fiscal years 2024 and 2025.The image appears to be a research report or analysis on Apple Inc. from a company called Argus Research. The layout has a maroon header at the top with the Argus logo and 'NASDAQ: AAPL APPLE INC.' written in white text. Below the header is the main body of the report, divided into sections with subheadings.\n",
      "\u001b[36m(async_process_image_data pid=5191)\u001b[0m Analyst's Notes (Continued):\n",
      "\u001b[36m(async_process_image_data pid=5191)\u001b[0m This section discusses expectations for Apple, including adding to its repurchase authorization, announcing an annual dividend increase in April 2024, and dividend forecasts of $1.00 for FY24 and $1.08 for FY25.\n",
      "\u001b[36m(async_process_image_data pid=5191)\u001b[0m Management & Risks:\n",
      "\u001b[36m(async_process_image_data pid=5191)\u001b[0m This section provides details on Apple's management team, including Timothy Cook as CEO, Jeff Williams as COO, and James Wilson as chief technology officer. It mentions the risk of the DoJ lawsuit alleging anti-competitive behavior. It also notes that Apple has a deep bench of executive and engineering talent to attract high-quality hires.\n",
      "\u001b[36m(async_process_image_data pid=5191)\u001b[0m The section mentions Apple's familiar cadence of introducing new phones in the fall, ahead of holiday spending, and that the upcoming 5G cycle promises to be major. It states that Apple is a product perfecter, not an originator.\n",
      "\u001b[36m(async_process_image_data pid=5191)\u001b[0m It discusses Apple's ecosystem, with consumers needing constant upgrades and being anxious to remain within the Apple ecosystem. It mentions risks like tariffs and facilitating global trade flows.\n",
      "\u001b[36m(async_process_image_data pid=5191)\u001b[0m The section also criticizes Apple's closed ecosystem for prompting consumers to buy iPads and Macs for compatibility, as well as the cost and complexity of pulling media libraries out of the Apple ecosystem.\n",
      "\u001b[36m(async_process_image_data pid=5191)\u001b[0m It states that the shares are at risk from the perception that growth could slow, but the company has mitigated this risk with aggressive shareholder-return policies and expects institutional investors to continue demanding aggressive dividend growth and a larger share-repurchase plan.\n",
      "\u001b[36m(async_process_image_data pid=5191)\u001b[0m Company Description:\n",
      "\u001b[36m(async_process_image_data pid=5191)\u001b[0m This section briefly describes Apple's products, including smartphones, tablets, PCs, software, Mac desktops and mobile PCs, iPhone, iPad, Apple Watch, AirPods, Beats headphones, Apple TV, and services like App Store, iTunes, iCloud, Apple TV+, Apple Arcade, Apple Music, Apple Pay, and more.\n",
      "\u001b[36m(async_process_image_data pid=5191)\u001b[0m Valuation:\n",
      "\u001b[36m(async_process_image_data pid=5191)\u001b[0m This is a brief section indicating that more information about the report can be found on page 6.\n",
      "\u001b[36m(async_process_image_data pid=5191)\u001b[0m The report is dated March 22, 2024, and the page being shown is Page 5 of 6.\n",
      "\u001b[36m(async_process_image_data pid=5191)\u001b[0m Throughout the report, various financial and valuation data points are mentioned, such as AAPL trading at 24.8x FY24 EPS forecast, 23.8x FY25 projection, a two-year average P/E of 24.3, a two-year forward relative P/E of 1.16, a blended fundamental valuation model pointing to a price of $230 in a stable trend, a 12-month target price of $230, and AAPL trading at $172.44 on March 22 at midday (up $1.07).\n",
      "\u001b[36m(async_process_image_data pid=5191)\u001b[0m The report is predominantly in black text on a white background, with the header in maroon and white text. No other colors are present in the image.\n"
     ]
    },
    {
     "name": "stderr",
     "output_type": "stream",
     "text": [
      "\u001b[36m(async_process_image_data pid=5191)\u001b[0m [2024-05-28 16:26:49,493] p5191 {500037063.py:58} INFO - Ingesting data into pipeline\n",
      "\u001b[36m(async_process_image_data pid=5191)\u001b[0m [2024-05-28 16:26:49,494] p5191 {500037063.py:59} INFO - image desc: 200 OK\n"
     ]
    },
    {
     "name": "stdout",
     "output_type": "stream",
     "text": [
      "\u001b[36m(async_process_image_data pid=5187)\u001b[0m - Cisco Systems Inc.\n",
      "\u001b[36m(async_process_image_data pid=5187)\u001b[0m - Juniper Networks Inc.\n",
      "\u001b[36m(async_process_image_data pid=5187)\u001b[0m Organization Names:\n",
      "\u001b[36m(async_process_image_data pid=5187)\u001b[0m - Cisco\n",
      "\u001b[36m(async_process_image_data pid=5187)\u001b[0m - Argus Research Company\n",
      "\u001b[36m(async_process_image_data pid=5187)\u001b[0m Metrics/Technical Terms:\n",
      "\u001b[36m(async_process_image_data pid=5187)\u001b[0m - Networking hardware\n",
      "\u001b[36m(async_process_image_data pid=5187)\u001b[0m - Software\n",
      "\u001b[36m(async_process_image_data pid=5187)\u001b[0m - AI infrastructure\n",
      "\u001b[36m(async_process_image_data pid=5187)\u001b[0m - Cloud-based\n",
      "\u001b[36m(async_process_image_data pid=5187)\u001b[0m - On-premises\n",
      "\u001b[36m(async_process_image_data pid=5187)\u001b[0m - Recurring revenue\n",
      "\u001b[36m(async_process_image_data pid=5187)\u001b[0m - Product revenue\n",
      "\u001b[36m(async_process_image_data pid=5187)\u001b[0m - RPO (Remaining performance obligations)\n",
      "\u001b[36m(async_process_image_data pid=5187)\u001b[0m - Services RPO\n",
      "\u001b[36m(async_process_image_data pid=5187)\u001b[0m - Product RPO\n",
      "\u001b[36m(async_process_image_data pid=5187)\u001b[0m Financial Terms:\n",
      "\u001b[36m(async_process_image_data pid=5187)\u001b[0m - Revenue\n",
      "\u001b[36m(async_process_image_data pid=5187)\u001b[0m - Market cap\n",
      "\u001b[36m(async_process_image_data pid=5187)\u001b[0m - Net margin\n",
      "\u001b[36m(async_process_image_data pid=5187)\u001b[0m - EPS (Earnings per share)\n",
      "\u001b[36m(async_process_image_data pid=5187)\u001b[0m - Debt/Capital\n",
      "\u001b[36m(async_process_image_data pid=5187)\u001b[0m - P/E (Price-to-Earnings ratio)\n",
      "\u001b[36m(async_process_image_data pid=5187)\u001b[0m - Price/Sales\n",
      "\u001b[36m(async_process_image_data pid=5187)\u001b[0m - Price/Book\n",
      "\u001b[36m(async_process_image_data pid=5187)\u001b[0m The image does not contain any specific person names, locations, dates or product names that can be extracted as entities. It primarily focuses on financial metrics, technical terms related to Cisco's business operations, and the names of the two companies (Cisco and Juniper Networks) being analyzed.The image appears to be an analyst report for Cisco Systems Inc. from Argus Research Company. Here is a detailed description following the provided instructions:\n",
      "\u001b[36m(async_process_image_data pid=5187)\u001b[0m 1. The top section contains the Nasdaq ticker CSCO, the company name 'Cisco Systems Inc.', and mentions it is 'Report Created Feb 16, 2024 Page 3 OF 6'.\n",
      "\u001b[36m(async_process_image_data pid=5187)\u001b[0m 2. The main section is titled 'Analyst's Notes ...continued' and contains a few paragraphs of text analysis, including projections that Cisco aims to reduce its global workforce by about 5% or 4,000 jobs, and will take restructuring charges totaling about $300 million beginning in fiscal 3Q24 amid current challenges.\n",
      "\u001b[36m(async_process_image_data pid=5187)\u001b[0m 3. The bottom left section contains a graphical scatterplot titled 'Growth' which plots companies based on their 5-year growth rate (x-axis) versus a metric labeled 'P/E' on the y-axis. Cisco (CSCO) is positioned in the bottom right quadrant.\n",
      "\u001b[36m(async_process_image_data pid=5187)\u001b[0m 4. Below the scatterplot, there is a data table with rows for the tickers CSCO (Cisco Systems Inc.) and JNPR (Juniper Networks Inc.). It shows their market cap in millions ($204,312 and $11,920 respectively), 5-yr growth rate (10.0% and 9.0%), current fiscal year P/E (13.3 and 16.1), net margin (23.5% and 5.6%), 1-yr EPS growth (7.1% and 2.2%), and Argus rating (BUY and HOLD).\n",
      "\u001b[36m(async_process_image_data pid=5187)\u001b[0m 5. Along the right side, there are several smaller charts showing metrics like Price/Sales, Price/Book, PEG, 5 Year Growth, and Debt/Capital ratios for CSCO compared to the market and its sector over time. Most charts use a green bar for CSCO and blue bars for the comparisons.\n",
      "\u001b[36m(async_process_image_data pid=5187)\u001b[0m 6. Overall, the color scheme uses shades of burgundy red for titles/headers, green for Cisco data, and blue for comparison data.\n",
      "\u001b[36m(async_process_image_data pid=5187)\u001b[0m The description aims to accurately capture all the detailed data elements, visual components, numbers, and text within this comprehensive analyst report image for Cisco Systems.\n",
      "\u001b[36m(async_process_image_data pid=5187)\u001b[0m file_path: img/b64_images/Cisco_rec_page_3.b64, image description (prefiltered with entities extracted): Based on the image, here are the relevant entities I can identify:\u001b[32m [repeated 2x across cluster]\u001b[0m\n",
      "\u001b[36m(async_process_image_data pid=5187)\u001b[0m Named Entities:\u001b[32m [repeated 2x across cluster]\u001b[0m\n",
      "\u001b[36m(async_process_image_data pid=5187)\u001b[0m \u001b[32m [repeated 29x across cluster]\u001b[0m\n",
      "\u001b[36m(async_process_image_data pid=5191)\u001b[0m json_file_path: pdf_img_json_dir/APPLE_rec_page_5.json\n",
      "\u001b[36m(async_process_image_data pid=5187)\u001b[0m json_file_path: pdf_img_json_dir/Cisco_rec_page_3.json\n"
     ]
    },
    {
     "name": "stderr",
     "output_type": "stream",
     "text": [
      "\u001b[36m(async_process_image_data pid=5187)\u001b[0m [2024-05-28 16:27:07,067] p5187 {credentials.py:1075} INFO - Found credentials from IAM Role: BaseNotebookInstanceEc2InstanceRole\u001b[32m [repeated 2x across cluster]\u001b[0m\n",
      "\u001b[36m(async_process_image_data pid=5187)\u001b[0m [2024-05-28 16:27:07,103] p5187 {500037063.py:58} INFO - Ingesting data into pipeline\n",
      "\u001b[36m(async_process_image_data pid=5187)\u001b[0m [2024-05-28 16:27:07,103] p5187 {500037063.py:59} INFO - image desc: 200 OK\n"
     ]
    },
    {
     "name": "stdout",
     "output_type": "stream",
     "text": [
      "\u001b[36m(async_process_image_data pid=5190)\u001b[0m - People: Jeff Bezos, Andy Jassy, Brian Olsavsky, Jeffrey Wilke, Adam Selipsky\n",
      "\u001b[36m(async_process_image_data pid=5190)\u001b[0m - Organization: Amazon.com Inc. (NASDAQ: AMZN), Amazon Web Services (AWS), Whole Foods\n",
      "\u001b[36m(async_process_image_data pid=5190)\u001b[0m Product Entities:\n",
      "\u001b[36m(async_process_image_data pid=5190)\u001b[0m - Amazon Prime, Amazon Web Services, Amazon Prime Video, Kindle, Echo, Dot (digital voice assistants)\n",
      "\u001b[36m(async_process_image_data pid=5190)\u001b[0m Custom Entities:\n",
      "\u001b[36m(async_process_image_data pid=5190)\u001b[0m - Cloud computing, infrastructure-as-a-service, e-commerce, online retail, brick & mortar rivals\n",
      "\u001b[36m(async_process_image_data pid=5190)\u001b[0m Location Entities: \n",
      "\u001b[36m(async_process_image_data pid=5190)\u001b[0m - U.S. (United States)\n",
      "\u001b[36m(async_process_image_data pid=5190)\u001b[0m The image appears to be an analyst report discussing Amazon's business performance, management changes, product offerings, competitive position, and valuation. It contains specific details related to Amazon's core e-commerce and cloud services segments, as well as named individuals in leadership roles at the company.The image appears to be an equity research report on Amazon.com Inc. (AMZN) created by Argus Research Company. The overall layout is structured with text sections and data points. \n",
      "\u001b[36m(async_process_image_data pid=5190)\u001b[0m At the top, there is a red header with the Argus company logo and 'NASDAQ: AMZN AMAZON.COM INC.' in white text. Below that is the report date 'Report created Feb 2, 2024 Page 5 OF 6'.\n",
      "\u001b[36m(async_process_image_data pid=5190)\u001b[0m The main body contains several sections:\n",
      "\u001b[36m(async_process_image_data pid=5190)\u001b[0m 'Analyst's Notes ...continued' section:\n",
      "\u001b[36m(async_process_image_data pid=5190)\u001b[0m This section discusses Amazon's share buybacks to offset dilution.\n",
      "\u001b[36m(async_process_image_data pid=5190)\u001b[0m 'MANAGEMENT & RISKS' section:\n",
      "\u001b[36m(async_process_image_data pid=5190)\u001b[0m - Mentions Jeff Bezos transitioning to executive chairman and Andy Jassy becoming CEO in July 2021. \n",
      "\u001b[36m(async_process_image_data pid=5190)\u001b[0m - Lists other Amazon executives like Brian Olsavsky (CFO), Jeffrey Wilke, and Adam Selipsky (new CEO of AWS).\n",
      "\u001b[36m(async_process_image_data pid=5190)\u001b[0m - Highlights Andy Jassy's role in developing the AWS business and cloud computing infrastructure.\n",
      "\u001b[36m(async_process_image_data pid=5190)\u001b[0m - Compares Amazon's competitive positioning to brick & mortar rivals, noting Amazon's ability to sustain growth.\n",
      "\u001b[36m(async_process_image_data pid=5190)\u001b[0m - Mentions the addition of Whole Foods positions Amazon in a low-margin business with experience in operating efficiently in the low-margin online retail industry.\n",
      "\u001b[36m(async_process_image_data pid=5190)\u001b[0m - Expects margin expansion at WFM through pricing changes.\n",
      "\u001b[36m(async_process_image_data pid=5190)\u001b[0m - Cites Amazon's high marks for making the 'store' cheaper, easier and secure for shoppers through security, convenience and innovations like Prime.\n",
      "\u001b[36m(async_process_image_data pid=5190)\u001b[0m - Notes the risk of security breaches, theft of client information or outages at the AWS unit.\n",
      "\u001b[36m(async_process_image_data pid=5190)\u001b[0m 'COMPANY DESCRIPTION' section:\n",
      "\u001b[36m(async_process_image_data pid=5190)\u001b[0m - Describes Amazon as the leading U.S. e-commerce retailer and top globally.\n",
      "\u001b[36m(async_process_image_data pid=5190)\u001b[0m - Mentions Amazon Web Services (AWS) as the global leader in cloud-based Infrastructure-as-a-Service (IaaS) platforms. \n",
      "\u001b[36m(async_process_image_data pid=5190)\u001b[0m - Highlights Prime membership's free shipping and exclusive media content access.\n",
      "\u001b[36m(async_process_image_data pid=5190)\u001b[0m - Lists Amazon's Kindle reader, Alexa-based Echo and Dot digital voice assistants as category leaders.\n",
      "\u001b[36m(async_process_image_data pid=5190)\u001b[0m 'VALUATION' section:\n",
      "\u001b[36m(async_process_image_data pid=5190)\u001b[0m - States that while Amazon's growth is unmatched, the stock is difficult to analyze from a valuation perspective given recent price weakness.\n",
      "\u001b[36m(async_process_image_data pid=5190)\u001b[0m - Suggests that forward-looking (DFCF) valuations and price-based comparable valuations are increasingly attractive.\n",
      "\u001b[36m(async_process_image_data pid=5190)\u001b[0m Key Data Points:\n",
      "\u001b[36m(async_process_image_data pid=5190)\u001b[0m - AMZN trades at 48.8x 2024 GAAP EPS forecast and 43.1x 2025 GAAP projection.\n",
      "\u001b[36m(async_process_image_data pid=5190)\u001b[0m - Two-year forward P/E of 45.9 is below the trailing five-year multiple (2019-2023) of 67.9.\n",
      "\u001b[36m(async_process_image_data pid=5190)\u001b[0m - Relative P/E of 2.4 on two-year average EPS forecast is below the historical relative P/E of 3.5.\n",
      "\u001b[36m(async_process_image_data pid=5190)\u001b[0m - AMZN's two-year forward enterprise value/EBITDA multiple is 9.6 for 2024-2025, a discount to its trailing five-year (2019-2023) multiple of 18.4.\n",
      "\u001b[36m(async_process_image_data pid=5190)\u001b[0m - The report suggests AMZN merits a premium to historical EV/EBITDA given high-end offerings growth.\n",
      "\u001b[36m(async_process_image_data pid=5190)\u001b[0m - Initiates a 12-month target price of $183 (raised from $165) implying upside vs current price and a BUY rating.\n",
      "\u001b[36m(async_process_image_data pid=5190)\u001b[0m The colors used are primarily red for the header, black text on a white background for the body sections, with some light gray shading for alternating rows in data listings.\n",
      "\u001b[36m(async_process_image_data pid=5190)\u001b[0m file_path: img/b64_images/Amazon_rec_page_5.b64, image description (prefiltered with entities extracted): Based on the image, here are the relevant entities I can identify:\n",
      "\u001b[36m(async_process_image_data pid=5190)\u001b[0m Named Entities:\n",
      "\u001b[36m(async_process_image_data pid=5190)\u001b[0m \u001b[32m [repeated 13x across cluster]\u001b[0m\n",
      "\u001b[36m(async_process_image_data pid=5190)\u001b[0m json_file_path: pdf_img_json_dir/Amazon_rec_page_5.json\n"
     ]
    },
    {
     "name": "stderr",
     "output_type": "stream",
     "text": [
      "\u001b[36m(async_process_image_data pid=5190)\u001b[0m [2024-05-28 16:27:26,029] p5190 {credentials.py:1075} INFO - Found credentials from IAM Role: BaseNotebookInstanceEc2InstanceRole\n",
      "\u001b[36m(async_process_image_data pid=5190)\u001b[0m [2024-05-28 16:27:26,064] p5190 {500037063.py:58} INFO - Ingesting data into pipeline\n",
      "\u001b[36m(async_process_image_data pid=5190)\u001b[0m [2024-05-28 16:27:26,064] p5190 {500037063.py:59} INFO - image desc: 200 OK\n"
     ]
    },
    {
     "name": "stdout",
     "output_type": "stream",
     "text": [
      "\u001b[36m(async_process_image_data pid=5186)\u001b[0m file_path: img/b64_images/Cisco_rec_page_1.b64, image description (prefiltered with entities extracted): Based on the image, here are the relevant entities I can identify:\n",
      "\u001b[36m(async_process_image_data pid=5186)\u001b[0m Named Entities:\n",
      "\u001b[36m(async_process_image_data pid=5186)\u001b[0m - Cisco Systems Inc. (Organization)\n",
      "\u001b[36m(async_process_image_data pid=5186)\u001b[0m - Argus (Organization)\n",
      "\u001b[36m(async_process_image_data pid=5186)\u001b[0m Temporal Entities:\n",
      "\u001b[36m(async_process_image_data pid=5186)\u001b[0m - February 16, 2024 (Date)\n",
      "\u001b[36m(async_process_image_data pid=5186)\u001b[0m - Fiscal 2024 (Year)\n",
      "\u001b[36m(async_process_image_data pid=5186)\u001b[0m - 3Q24 (Quarter)\n",
      "\u001b[36m(async_process_image_data pid=5186)\u001b[0m - FY24 (Fiscal Year)\n",
      "\u001b[36m(async_process_image_data pid=5186)\u001b[0m - 1-Year EPS Growth Forecast (Duration)\n",
      "\u001b[36m(async_process_image_data pid=5186)\u001b[0m - 3-Year EPS Growth Forecast (Duration)\n",
      "\u001b[36m(async_process_image_data pid=5186)\u001b[0m Financial/Product Entities:\n",
      "\u001b[36m(async_process_image_data pid=5186)\u001b[0m - Revenue\n",
      "\u001b[36m(async_process_image_data pid=5186)\u001b[0m - Non-GAAP EPS\n",
      "\u001b[36m(async_process_image_data pid=5186)\u001b[0m - Adjusted Profit\n",
      "\u001b[36m(async_process_image_data pid=5186)\u001b[0m - Dividend\n",
      "\u001b[36m(async_process_image_data pid=5186)\u001b[0m - Equity\n",
      "\u001b[36m(async_process_image_data pid=5186)\u001b[0m - Net Margin\n",
      "\u001b[36m(async_process_image_data pid=5186)\u001b[0m - Payout Ratio\n",
      "\u001b[36m(async_process_image_data pid=5186)\u001b[0m - Current Ratio\n",
      "\u001b[36m(async_process_image_data pid=5186)\u001b[0m - After-Tax Income\n",
      "\u001b[36m(async_process_image_data pid=5186)\u001b[0m - Current FY P/E\n",
      "\u001b[36m(async_process_image_data pid=5186)\u001b[0m - Price FY P/E\n",
      "\u001b[36m(async_process_image_data pid=5186)\u001b[0m - Price/Sales\n",
      "\u001b[36m(async_process_image_data pid=5186)\u001b[0m - Price/Book\n",
      "\u001b[36m(async_process_image_data pid=5186)\u001b[0m - Book Value/Share\n",
      "\u001b[36m(async_process_image_data pid=5186)\u001b[0m - Market Capitalization\n",
      "\u001b[36m(async_process_image_data pid=5186)\u001b[0m - North American (Region)\n",
      "\u001b[36m(async_process_image_data pid=5186)\u001b[0m The image does not appear to contain any specific person names or other custom entities relevant to mention.The image appears to be an analyst report or research report for Cisco Systems Inc. (CSCO) from a company called Argus. The overall design has a maroon/red background with white text and graphics.\n",
      "\u001b[36m(async_process_image_data pid=5186)\u001b[0m The top section displays the Cisco Systems Inc. logo, the stock ticker CSCO, and information that Cisco is a worldwide leader in communications equipment originally providing routers and switches for Ethernet networks within enterprises but has expanded into other areas.\n",
      "\u001b[36m(async_process_image_data pid=5186)\u001b[0m The next section titled 'Analyst's Notes' contains bullet points highlighting some key analysis by Jim Kelleher, dated February 16, 2024, with a rating of BUY. The bullets mention caution on network spending but reiterating a BUY rating, Cisco exceeding fiscal 2024 revenue and EPS estimates though sales and EPS declined year-over-year, reiterating guidance for Q3 2024 with lowered FY24 outlook, workforce reduction plans by 5%, and expectation of the Splunk acquisition strengthening security solutions.\n",
      "\u001b[36m(async_process_image_data pid=5186)\u001b[0m The 'Investment Thesis' section mentions Cisco falling 3% on 2/15/24 when lowering FY24 guidance, but Q2 2024 results exceeded estimates and represented first quarterly increase since Q1 2021. It cites caution from orders pausing for new products and high inventories, while macro uncertainty is causing enterprises to refrain from spending. Cisco plans a 5% global workforce reduction of around 4,000 roles.\n",
      "\u001b[36m(async_process_image_data pid=5186)\u001b[0m The 'Market Data' section has a stock price chart showing Cisco's historical price движения over the past year or so, currently at $50.26. There is a 'Rating' timeline showing periods of BUY/SELL recommendations.\n",
      "\u001b[36m(async_process_image_data pid=5186)\u001b[0m Subsequent sections show 'Key Statistics' data points like the current stock price of $50.26, 52-week range of $44.56-$58.19, dividend of $1.60, market cap and financial metrics. There are rows showing Quarterly performance data for EPS, Revenue, and other fiscal year details.\n",
      "\u001b[36m(async_process_image_data pid=5186)\u001b[0m The color scheme is primarily maroon/red for the background, with white/light gray for text and graphics. Green is used for the 'BUY' rating indicators.\n",
      "\u001b[36m(async_process_image_data pid=5186)\u001b[0m In summary, this is a highly data-dense analyst report image packed with detailed financial metrics, analysis bullet points, stock charts, and tables of quarterly/annual performance numbers related to Cisco Systems Inc.\n"
     ]
    },
    {
     "name": "stderr",
     "output_type": "stream",
     "text": [
      "\u001b[36m(async_process_image_data pid=5186)\u001b[0m [2024-05-28 16:27:26,668] p5186 {credentials.py:1075} INFO - Found credentials from IAM Role: BaseNotebookInstanceEc2InstanceRole\n",
      "\u001b[36m(async_process_image_data pid=5186)\u001b[0m [2024-05-28 16:27:26,748] p5186 {500037063.py:14} INFO - going to convert img/b64_images/Cisco_rec_page_5.b64 into embeddings\n"
     ]
    },
    {
     "name": "stdout",
     "output_type": "stream",
     "text": [
      "\u001b[36m(async_process_image_data pid=5191)\u001b[0m file_path: img/b64_images/Amazon_rec_page_3.b64, image description (prefiltered with entities extracted): Based on the image, here is a list of entities I can identify:\n",
      "\u001b[36m(async_process_image_data pid=5191)\u001b[0m - Amazon.com Inc.\n",
      "\u001b[36m(async_process_image_data pid=5191)\u001b[0m - Home Depot, Inc.\n",
      "\u001b[36m(async_process_image_data pid=5191)\u001b[0m - Tiffany & Co. Holding Ltd.\n",
      "\u001b[36m(async_process_image_data pid=5191)\u001b[0m - Lowe's Cos., Inc.\n",
      "\u001b[36m(async_process_image_data pid=5191)\u001b[0m - Nike, Inc.\n",
      "\u001b[36m(async_process_image_data pid=5191)\u001b[0m - TJX Companies, Inc.\n",
      "\u001b[36m(async_process_image_data pid=5191)\u001b[0m - LululemonAthletica Inc.\n",
      "\u001b[36m(async_process_image_data pid=5191)\u001b[0m - Dollar General Corp.\n",
      "\u001b[36m(async_process_image_data pid=5191)\u001b[0m - AWS (Amazon Web Services)\n",
      "\u001b[36m(async_process_image_data pid=5191)\u001b[0m - Q4, Q3, Q2, Q1 (referring to financial quarters)\n",
      "\u001b[36m(async_process_image_data pid=5191)\u001b[0m - P/E (Price-to-Earnings ratio)\n",
      "\u001b[36m(async_process_image_data pid=5191)\u001b[0m - FY P/E (Fiscal Year Price-to-Earnings ratio)\n",
      "\u001b[36m(async_process_image_data pid=5191)\u001b[0m - Feb 2, 2024 (report creation date)\n",
      "\u001b[36m(async_process_image_data pid=5191)\u001b[0m The image does not appear to contain any specific product or location entities.The image appears to be an analyst report on Amazon.com Inc. from a research company called Argus. The top section displays Amazon's NASDAQ ticker AMZN and states that the report was created on February 2, 2024, spanning 3 out of 6 pages.\n",
      "\u001b[36m(async_process_image_data pid=5191)\u001b[0m Under the 'Analyst's Notes' section, there is detailed financial data about Amazon's performance:\n",
      "\u001b[36m(async_process_image_data pid=5191)\u001b[0m - Total revenue of $145.7 billion, up 14% annually and 21% sequentially. \n",
      "\u001b[36m(async_process_image_data pid=5191)\u001b[0m - Product and services (ex AWS) operating profit was $6.04 billion, compared with an operating loss of $2.47 billion a year earlier in 4Q22.\n",
      "\u001b[36m(async_process_image_data pid=5191)\u001b[0m - Product and services operating margin for all operations excluding AWS was 4.1% for 4Q23, improved from 3.7% in 3Q23.\n",
      "\u001b[36m(async_process_image_data pid=5191)\u001b[0m - North American retail revenue of $105.5 billion (62% of total revenue) was up 13% year-over-year. North American (NA) retail generated an all-time record operating profit of $6.5 billion, vs. a year-earlier loss of $2.98 billion. The NA retail operating margin was 6.1% in 4Q23, up 150 bps sequentially from 4.6% in 3Q23.\n",
      "\u001b[36m(async_process_image_data pid=5191)\u001b[0m - International retail revenue of $40.2 billion (24% of total) increased 17% annually. The International segment margin was negative 6.5%, an improvement from a loss of $419 million; the international margin was negative 6.5% a year earlier on a $2.3 billion loss.\n",
      "\u001b[36m(async_process_image_data pid=5191)\u001b[0m The report provides details on Amazon's performance across different segments and categories, such as online stores (representing 42% of 4Q23 revenue), third-party merchants, Whole Foods stores, and the holiday quarter of 4Q23.\n",
      "\u001b[36m(async_process_image_data pid=5191)\u001b[0m The image includes a scattered plot chart titled 'Growth vs. P/E, Price/Sales, Price/Book, PEG' with company tickers plotted against their 5-year growth rates on the x-axis. AMZN is positioned in the upper right quadrant, indicating higher growth and valuation multiples compared to peers.\n",
      "\u001b[36m(async_process_image_data pid=5191)\u001b[0m Below the chart, there is a table displaying financial metrics for AMZN and several other companies (HD, BABA, LOW, NKE, TJX, LULU, DG), including Market Cap, 5-yr Growth Rate, Current FY P/E, Net Margin, 1-yr EPS Growth, Argus Rating, 5 Year Growth, and Debt/Capital ratios. The table allows for comparison of AMZN's fundamentals against industry peers and the broader sector.\n",
      "\u001b[36m(async_process_image_data pid=5191)\u001b[0m The color scheme used in the image is primarily red and black text on a white background.\n",
      "\u001b[36m(async_process_image_data pid=5191)\u001b[0m Custom Entities:\n",
      "\u001b[36m(async_process_image_data pid=5186)\u001b[0m Location Entities:\n",
      "\u001b[36m(async_process_image_data pid=5191)\u001b[0m \u001b[32m [repeated 22x across cluster]\u001b[0m\n",
      "\u001b[36m(async_process_image_data pid=5186)\u001b[0m json_file_path: pdf_img_json_dir/Cisco_rec_page_1.json\n",
      "\u001b[36m(async_process_image_data pid=5191)\u001b[0m Named Entities:\n",
      "\u001b[36m(async_process_image_data pid=5191)\u001b[0m Temporal Entities:\n",
      "\u001b[36m(async_process_image_data pid=5191)\u001b[0m json_file_path: pdf_img_json_dir/Amazon_rec_page_3.json\n",
      "\u001b[36m(async_process_image_data pid=5190)\u001b[0m file_path: img/b64_images/Microsoft_rec_page_1.b64, image description (prefiltered with entities extracted): Based on the image, here are the key entities I can identify:\n",
      "\u001b[36m(async_process_image_data pid=5190)\u001b[0m Named Entities:\n",
      "\u001b[36m(async_process_image_data pid=5190)\u001b[0m 1. Microsoft Corp.\n",
      "\u001b[36m(async_process_image_data pid=5190)\u001b[0m 2. Argus\n",
      "\u001b[36m(async_process_image_data pid=5190)\u001b[0m 3. Joseph Bonner, CFA (Analyst's name)\n",
      "\u001b[36m(async_process_image_data pid=5190)\u001b[0m 4. Satya Nadella (CEO's name)\n",
      "\u001b[36m(async_process_image_data pid=5190)\u001b[0m 5. Activision (Company acquired by Microsoft)\n",
      "\u001b[36m(async_process_image_data pid=5190)\u001b[0m Organizations:\n",
      "\u001b[36m(async_process_image_data pid=5190)\u001b[0m 1. Microsoft Corp.\n",
      "\u001b[36m(async_process_image_data pid=5190)\u001b[0m 2. Argus (Research firm)\n",
      "\u001b[36m(async_process_image_data pid=5190)\u001b[0m Products/Services:\n",
      "\u001b[36m(async_process_image_data pid=5190)\u001b[0m 1. Windows operating system\n",
      "\u001b[36m(async_process_image_data pid=5190)\u001b[0m 2. MS Office\n",
      "\u001b[36m(async_process_image_data pid=5190)\u001b[0m 3. SQL Server\n",
      "\u001b[36m(async_process_image_data pid=5190)\u001b[0m 4. Dynamics CRM\n",
      "\u001b[36m(async_process_image_data pid=5190)\u001b[0m 5. SharePoint\n",
      "\u001b[36m(async_process_image_data pid=5190)\u001b[0m 6. Azure\n",
      "\u001b[36m(async_process_image_data pid=5190)\u001b[0m 7. Lync\n",
      "\u001b[36m(async_process_image_data pid=5190)\u001b[0m 8. Xbox gaming/media platform\n",
      "\u001b[36m(async_process_image_data pid=5190)\u001b[0m 9. Surface tablet\n",
      "\u001b[36m(async_process_image_data pid=5190)\u001b[0m 10. Skype\n",
      "\u001b[36m(async_process_image_data pid=5190)\u001b[0m Dates:\n",
      "\u001b[36m(async_process_image_data pid=5190)\u001b[0m 1. Feb 1, 2024 (Report date)\n",
      "\u001b[36m(async_process_image_data pid=5190)\u001b[0m 2. October 2011 (Skype acquisition date)\n",
      "\u001b[36m(async_process_image_data pid=5190)\u001b[0m 3. October 2023 (Activision acquisition date)\n",
      "\u001b[36m(async_process_image_data pid=5190)\u001b[0m Financial Metrics:\n",
      "\u001b[36m(async_process_image_data pid=5190)\u001b[0m 1. $475 (Target price after fiscal 2024 results)\n",
      "\u001b[36m(async_process_image_data pid=5190)\u001b[0m 2. 33% EPS growth\n",
      "\u001b[36m(async_process_image_data pid=5190)\u001b[0m 3. 18% revenue growth\n",
      "\u001b[36m(async_process_image_data pid=5190)\u001b[0m 4. $11.68 non-GAAP FY24 EPS estimate \n",
      "\u001b[36m(async_process_image_data pid=5190)\u001b[0m 5. $13.07 FY25 forecast\n",
      "\u001b[36m(async_process_image_data pid=5190)\u001b[0m The image contains various other financial metrics, performance ratios, and growth forecasts related to Microsoft's business and stock.The image appears to be an analyst report on Microsoft Corporation (NASDAQ: MSFT) created by Argus Research Company. Here is a detailed description following the instructions provided:\n",
      "\u001b[36m(async_process_image_data pid=5190)\u001b[0m 1. Describe and mention each section in the image, including the data below the sections:\n",
      "\u001b[36m(async_process_image_data pid=5190)\u001b[0m The top section contains the Argus company logo, the report title 'MICROSOFT CORP', and some introductory text about Microsoft being the world's largest independent software developer founded on the MS Windows operating system and Office business applications.\n",
      "\u001b[36m(async_process_image_data pid=5190)\u001b[0m The next section is titled 'Argus Recommendations' which shows a 'Buy' rating for both the Twelve Month Rating and Five Year Rating.\n",
      "\u001b[36m(async_process_image_data pid=5190)\u001b[0m The 'Analyst's Notes' section summarizes key points made by Joseph Bonner, CFA, including raising the target price to $475 after fiscal 2024 results, Microsoft's 33% EPS growth on 18% revenue growth in fiscal 2024, the completed Activision acquisition, CEO Satya Nadella's focus on high-value commercial and cloud businesses, and raising the FY24 and FY25 non-GAAP EPS estimates.\n",
      "\u001b[36m(async_process_image_data pid=5190)\u001b[0m The 'Investment Thesis' section reiterates the Buy rating and discusses Microsoft's position for long-term growth through AI and cloud investments, diversified assets, large customer base, and solid balance sheet. It mentions the stock's recovery after the 2022 Technology sector selloffs.\n",
      "\u001b[36m(async_process_image_data pid=5190)\u001b[0m 2. Describe the image entirely, including all data on all sides:\n",
      "\u001b[36m(async_process_image_data pid=5190)\u001b[0m On the right side, there is a 'Key Statistics' table showing Microsoft's closing stock price of $297.58, 52-week price range of $242.95 to $315.32, dividend of $3.00, and other financial metrics.\n",
      "\u001b[36m(async_process_image_data pid=5190)\u001b[0m The 'Sector Overview' section shows Microsoft's sector as Technology with an Overweight rating and 28.00% weighting in the S&P 500 Market Cap.\n",
      "\u001b[36m(async_process_image_data pid=5190)\u001b[0m The 'Financial Strength' section rates Microsoft's Financial Strength as High, with a Debt/Capital Ratio of 27.5%, Return on Equity of 35.8%, Net Margin of 36.3%, and Payout Ratio of 0.26.\n",
      "\u001b[36m(async_process_image_data pid=5190)\u001b[0m Other financial data provided includes a Current Ratio of 1.77, Revenue of $227.58 Billion, and After-Tax Income of $82.54 Billion.\n",
      "\u001b[36m(async_process_image_data pid=5190)\u001b[0m Valuation metrics include a Current FY P/E of 34.04, Prior FY P/E of 40.63, Price/Sales of 12.98, Price/Book of 12.40, and Stock Value/Share of $52.06, with a Market Capitalization of $2.95 Trillion.\n",
      "\u001b[36m(async_process_image_data pid=5190)\u001b[0m 3. Describe all of the numbers in the image, including the text associated with those numbers and data:\n",
      "\u001b[36m(async_process_image_data pid=5190)\u001b[0m - Twelve Month Rating: SELL HOLD BUY (Buy rating selected)\n",
      "\u001b[36m(async_process_image_data pid=5190)\u001b[0m - Five Year Rating: SELL HOLD BUY (Buy rating selected)\n",
      "\u001b[36m(async_process_image_data pid=5190)\u001b[0m - Sector Rating: Underweight Market Weight Overweight (Overweight selected)\n",
      "\u001b[36m(async_process_image_data pid=5190)\u001b[0m - Total % of S&P 500 Market Cap: 28.00%\n",
      "\u001b[36m(async_process_image_data pid=5190)\u001b[0m - Financial Strength Rating: HIGH\n",
      "\u001b[36m(async_process_image_data pid=5190)\u001b[0m - Debt/Capital Ratio: 27.5%\n",
      "\u001b[36m(async_process_image_data pid=5190)\u001b[0m - Return on Equity: 35.8%\n",
      "\u001b[36m(async_process_image_data pid=5190)\u001b[0m - Net Margin: 36.3%\n",
      "\u001b[36m(async_process_image_data pid=5190)\u001b[0m - Payout Ratio: 0.26\n",
      "\u001b[36m(async_process_image_data pid=5190)\u001b[0m - Current Ratio: 1.77\n",
      "\u001b[36m(async_process_image_data pid=5190)\u001b[0m - Revenue: $227.58 Billion\n",
      "\u001b[36m(async_process_image_data pid=5190)\u001b[0m - After-Tax Income: $82.54 Billion\n",
      "\u001b[36m(async_process_image_data pid=5190)\u001b[0m - Current FY P/E: 34.04\n",
      "\u001b[36m(async_process_image_data pid=5190)\u001b[0m - Prior FY P/E: 40.63\n",
      "\u001b[36m(async_process_image_data pid=5190)\u001b[0m - Price/Sales: 12.98\n",
      "\u001b[36m(async_process_image_data pid=5190)\u001b[0m - Price/Book: 12.40\n",
      "\u001b[36m(async_process_image_data pid=5190)\u001b[0m - Stock Value/Share: $52.06\n",
      "\u001b[36m(async_process_image_data pid=5190)\u001b[0m - Market Capitalization: $2.95 Trillion\n",
      "\u001b[36m(async_process_image_data pid=5190)\u001b[0m - 1 Year EPS Growth Forecast: 10.05%\n",
      "\u001b[36m(async_process_image_data pid=5190)\u001b[0m - 3 Year EPS Growth Forecast: 11.00%\n",
      "\u001b[36m(async_process_image_data pid=5190)\u001b[0m - 1 Year Dividend Growth Forecast: 10.23%\n",
      "\u001b[36m(async_process_image_data pid=5190)\u001b[0m - Risk: (text label only)\n",
      "\u001b[36m(async_process_image_data pid=5190)\u001b[0m - Beta: 1.08\n",
      "\u001b[36m(async_process_image_data pid=5190)\u001b[0m - Institutional Ownership: 70.09%\n",
      "\u001b[36m(async_process_image_data pid=5190)\u001b[0m The chart shows Microsoft's stock price over time, with the x-axis labeled with dates and the y-axis showing price ranges from around 200 to 400.\n",
      "\u001b[36m(async_process_image_data pid=5190)\u001b[0m 4. Describe the colors in the image:\n",
      "\u001b[36m(async_process_image_data pid=5190)\u001b[0m The main colors used are maroon/burgundy for the header and footer, black and\n"
     ]
    },
    {
     "name": "stderr",
     "output_type": "stream",
     "text": [
      "\u001b[36m(async_process_image_data pid=5191)\u001b[0m [2024-05-28 16:28:13,506] p5191 {500037063.py:58} INFO - Ingesting data into pipeline\u001b[32m [repeated 2x across cluster]\u001b[0m\n",
      "\u001b[36m(async_process_image_data pid=5191)\u001b[0m [2024-05-28 16:28:13,506] p5191 {500037063.py:59} INFO - image desc: 200 OK\u001b[32m [repeated 2x across cluster]\u001b[0m\n",
      "\u001b[36m(async_process_image_data pid=5191)\u001b[0m [2024-05-28 16:28:13,469] p5191 {credentials.py:1075} INFO - Found credentials from IAM Role: BaseNotebookInstanceEc2InstanceRole\n",
      "\u001b[36m(async_process_image_data pid=5190)\u001b[0m [2024-05-28 16:27:26,749] p5190 {500037063.py:14} INFO - going to convert img/b64_images/Microsoft_rec_page_1.b64 into embeddings\u001b[32m [repeated 3x across cluster]\u001b[0m\n",
      "\u001b[36m(async_process_image_data pid=5190)\u001b[0m [2024-05-28 16:28:13,910] p5190 {credentials.py:1075} INFO - Found credentials from IAM Role: BaseNotebookInstanceEc2InstanceRole\n"
     ]
    },
    {
     "name": "stdout",
     "output_type": "stream",
     "text": [
      "\u001b[36m(async_process_image_data pid=5186)\u001b[0m file_path: img/b64_images/Cisco_rec_page_5.b64, image description (prefiltered with entities extracted): Based on the image, here are the relevant entities I can identify:\n",
      "\u001b[36m(async_process_image_data pid=5186)\u001b[0m - Organizations: Cisco Systems Inc., Argus Research Company\n",
      "\u001b[36m(async_process_image_data pid=5186)\u001b[0m - Person Name: Chuck Robbins\n",
      "\u001b[36m(async_process_image_data pid=5186)\u001b[0m Custom Entities:\n",
      "\u001b[36m(async_process_image_data pid=5186)\u001b[0m - Software/Services: Splunk, CAD/CAM software, routing, switching, analytics, video, wireless, security, collaboration, data center\n",
      "\u001b[36m(async_process_image_data pid=5186)\u001b[0m Temporal Entities:\n",
      "\u001b[36m(async_process_image_data pid=5186)\u001b[0m - Dates: February 2022, February 2021, February 2020, March 2011, July 2015, 1997\n",
      "\u001b[36m(async_process_image_data pid=5186)\u001b[0m The image does not appear to contain any specific product names, location entities, or other types of entities beyond those listed above. Please let me know if you need any clarification or have additional questions.The image appears to be a research report or analysis on Cisco Systems Inc. from a company called Argus Research. It has a maroon-colored header with the Argus logo and the company name 'Cisco Systems Inc.' along with details like 'NASDAQ: CSCO' and 'Report Created Feb 16, 2024 Page 5 OF 6'.\n",
      "\u001b[36m(async_process_image_data pid=5186)\u001b[0m The main body of the image consists of several sections of text, including:\n",
      "\u001b[36m(async_process_image_data pid=5186)\u001b[0m Analyst's Notes (Continued):\n",
      "\u001b[36m(async_process_image_data pid=5186)\u001b[0m - Mentions Cisco's share price increases in February 2022 (3% to $0.37), February 2021 (3% to $0.36), and February 2020 (Cisco hiked dividend).\n",
      "\u001b[36m(async_process_image_data pid=5186)\u001b[0m - Historical average dividend yield of 0.78, about two-thirds of market multiple.\n",
      "\u001b[36m(async_process_image_data pid=5186)\u001b[0m - Cisco trades at discounts on absolute and relative P/E and EV/EBITDA compared to peers.\n",
      "\u001b[36m(async_process_image_data pid=5186)\u001b[0m - Mentions Cisco's momentum accelerating, peer-indicated value in mid-$60s range.\n",
      "\u001b[36m(async_process_image_data pid=5186)\u001b[0m - Forward-looking discounted free cash flow valuation above $100 in a stable trend.\n",
      "\u001b[36m(async_process_image_data pid=5186)\u001b[0m - Blended valuation supports value in mid-$80s range.\n",
      "\u001b[36m(async_process_image_data pid=5186)\u001b[0m - 12-month target of $79, along with risk-adjusted return exceeding forecast.\n",
      "\u001b[36m(async_process_image_data pid=5186)\u001b[0m - Reiterating BUY rating based on Cisco's market leadership.\n",
      "\u001b[36m(async_process_image_data pid=5186)\u001b[0m The text provides data points like:\n",
      "\u001b[36m(async_process_image_data pid=5186)\u001b[0m - February 16 midday, BUY-rated CSCO traded at $48.68, down $0.38.\n",
      "\u001b[36m(async_process_image_data pid=5186)\u001b[0m - Plans to reduce headcount by 5% in 2024 when restructuring core businesses.\n",
      "\u001b[36m(async_process_image_data pid=5186)\u001b[0m - Forward P/E of 12.9 below five-year average of 15.0.\n",
      "\u001b[36m(async_process_image_data pid=5186)\u001b[0m - Forward two-year relative P/E of 0.62.\n",
      "\u001b[36m(async_process_image_data pid=5186)\u001b[0m Management & Risks:\n",
      "\u001b[36m(async_process_image_data pid=5186)\u001b[0m - Discusses CEO Chuck Robbins' background and Cisco's acquisition strategy.\n",
      "\u001b[36m(async_process_image_data pid=5186)\u001b[0m - Mentions risks like overpaying, failing integration, and cultural clash.\n",
      "\u001b[36m(async_process_image_data pid=5186)\u001b[0m - Cites an ongoing risk of economic downturn impacting demand.\n",
      "\u001b[36m(async_process_image_data pid=5186)\u001b[0m Company Description:\n",
      "\u001b[36m(async_process_image_data pid=5186)\u001b[0m - Describes Cisco as a worldwide leader in communications equipment.\n",
      "\u001b[36m(async_process_image_data pid=5186)\u001b[0m - Originally provided routers and switches for enterprise networks.\n",
      "\u001b[36m(async_process_image_data pid=5186)\u001b[0m - Has expanded into collaboration, data center, service provider video, security, wireless, analytics, and other hardware/software niches.\n",
      "\u001b[36m(async_process_image_data pid=5186)\u001b[0m Valuation:\n",
      "\u001b[36m(async_process_image_data pid=5186)\u001b[0m - Trades at 13.3-times FY24 non-GAAP EPS forecast.\n",
      "\u001b[36m(async_process_image_data pid=5186)\u001b[0m - 12.4-times FY25 projections.\n",
      "\u001b[36m(async_process_image_data pid=5186)\u001b[0m - Two-year average forward P/E of 12.9 below five-year (FY19-FY23) average multiple of 15.0.\n",
      "\u001b[36m(async_process_image_data pid=5186)\u001b[0m The color scheme is primarily maroon/burgundy for the header, with black text on a white background for the body.\n",
      "\u001b[36m(async_process_image_data pid=5187)\u001b[0m - Intel Corp. (organization)\n",
      "\u001b[36m(async_process_image_data pid=5187)\u001b[0m - Argus (organization)\n",
      "\u001b[36m(async_process_image_data pid=5187)\u001b[0m - Nvidia (organization)\n",
      "\u001b[36m(async_process_image_data pid=5187)\u001b[0m - January 26, 2024 (date)\n",
      "\u001b[36m(async_process_image_data pid=5187)\u001b[0m - 1Q24 (quarter/time period)\n",
      "\u001b[36m(async_process_image_data pid=5187)\u001b[0m - 4Q23 (quarter/time period)\n",
      "\u001b[36m(async_process_image_data pid=5187)\u001b[0m - 2023 (year)\n",
      "\u001b[36m(async_process_image_data pid=5187)\u001b[0m - 2025 (year)\n",
      "\u001b[36m(async_process_image_data pid=5187)\u001b[0m Financial/Product Entities:\n",
      "\u001b[36m(async_process_image_data pid=5187)\u001b[0m - PC (referring to personal computers)\n",
      "\u001b[36m(async_process_image_data pid=5187)\u001b[0m - AI (referring to artificial intelligence products/services)\n",
      "\u001b[36m(async_process_image_data pid=5187)\u001b[0m - Client and Data Center (referring to product/service segments)\n",
      "\u001b[36m(async_process_image_data pid=5187)\u001b[0m - $15.1 billion, $15.2 billion (monetary amounts)\n",
      "\u001b[36m(async_process_image_data pid=5187)\u001b[0m - $49.55, $50.00 (stock prices)\n",
      "\u001b[36m(async_process_image_data pid=5187)\u001b[0m - $24.73 to $51.28 (stock price range)\n",
      "\u001b[36m(async_process_image_data pid=5187)\u001b[0m The image contains financial data, analyst recommendations, growth forecasts, and other details related to Intel Corporation's business performance and outlook. However, it does not appear to mention any specific individual person names or occupations.The image appears to be an analyst report on Intel Corporation (INTC), a company listed on the NASDAQ stock exchange. The report has been created on January 26, 2024, and covers a detailed analysis of Intel's performance and recommendations.\n",
      "\u001b[36m(async_process_image_data pid=5187)\u001b[0m The top section of the report contains the company's logo and name, 'INTC CORP', along with the report creation date and page number (1 of 7). This section also provides a brief overview of Intel's business, stating that it supplies the computing industry with chips, boards, systems, and software, which are the primary components of computer architecture. It mentions that Intel has expanded through acquisitions and previously had the largest revenue base and market cap in the semiconductor industry, though it now lags behind Nvidia.\n",
      "\u001b[36m(async_process_image_data pid=5187)\u001b[0m The 'Analyst's Notes' section contains the analysis by Jim Kelleher, CFA, dated January 26, 2024, with an ARGUS RATING of 'BUY'. This section outlines the following key points:\n",
      "\u001b[36m(async_process_image_data pid=5187)\u001b[0m - PC demand is improving, and data center lags\n",
      "\u001b[36m(async_process_image_data pid=5187)\u001b[0m - Intel posted 4Q23 revenue and non-GAAP EPS that topped consensus estimates, but sold off on perceived soft guidance for 1Q24\n",
      "\u001b[36m(async_process_image_data pid=5187)\u001b[0m - Sales and adjusted profits for 4Q23 rose year-over-year for the first time in 2023, and Intel is expected to swing to positive annual top- and bottom-line comparisons for full-year 2024\n",
      "\u001b[36m(async_process_image_data pid=5187)\u001b[0m - The company is maintaining its aggressive node and product roadmap in Client and Data Center, seeking to reclaim market leadership, and has launched a slate of on-device AI products\n",
      "\u001b[36m(async_process_image_data pid=5187)\u001b[0m - INTC is regarded as attractive at current levels, and the analyst is reiterating their BUY rating and 12-month target price of $50\n",
      "\u001b[36m(async_process_image_data pid=5187)\u001b[0m The 'Investment Thesis' section discusses Intel Corp.'s (INTC) 10% plunge in a down market on 1/26/23 after guiding revenue and non-GAAP EPS below consensus for 1Q24. It mentions that while the PC business has improved, Intel's data center business continues to lag at a time when the AI revolution is driving surging demand at rival companies. Intel posted 4Q23 revenue of $15.1 billion, above the $15.1 billion midpoint guidance and ahead of the $15.2 billion consensus. Fourth-quarter 2023 revenue rose 10% annually and 9% sequentially, fueled by PC sales. Adjusted EPS of $0.34 soared from $0.10 a year earlier. The report states that Intel sustained sequential momentum from mid-year 2023 into year-end, with solid fourth-quarter results demonstrating progress on its process nodes, production roadmaps, and foundry agreements. Intel is also benefiting from early momentum in AI.\n",
      "\u001b[36m(async_process_image_data pid=5187)\u001b[0m The 'Market Data' section includes a chart displaying Intel's historical stock price over the previous trading week, with the x-axis representing the trading days and the y-axis representing the stock price (ranging from around $30 to $50). The chart shows fluctuations in the stock price over the trading week, with a few notable peaks and valleys. Below the chart, there is a 'Rating' section with the text 'BUY / HOLD / SELL'.\n",
      "\u001b[36m(async_process_image_data pid=5187)\u001b[0m The bottom portion of the report contains several tables and charts displaying various financial metrics and growth forecasts for Intel. These include:\n",
      "\u001b[36m(async_process_image_data pid=5187)\u001b[0m 1. A table showing Intel's quarterly and annual Earnings Per Share (EPS), Revenue, and year-over-year growth rates for each metric from 2022 to 2025 (forecasted).\n",
      "\u001b[36m(async_process_image_data pid=5187)\u001b[0m 2. A 'Key Statistics' section providing Intel's current stock price ($49.55), 52-week price range ($24.73 to $51.28), shares outstanding (4.72 billion), dividend ($0.50), and other valuation metrics like market capitalization ($208.90 billion), price-to-earnings (P/E) ratios, price-to-sales, price-to-book, and book value/share.\n",
      "\u001b[36m(async_process_image_data pid=5187)\u001b[0m 3. A 'Sector Overview' section indicating Intel's sector as 'Technology', with an 'OVERWEIGHT' rating relative to the S&P 500 Market Cap.\n",
      "\u001b[36m(async_process_image_data pid=5187)\u001b[0m 4. Financial Strength and Credit Ratings for Intel from various agencies.\n",
      "\u001b[36m(async_process_image_data pid=5187)\u001b[0m 5. Valuation metrics like Return on Equity (3.9%), Net Margin (3.1%), Payout Ratio (0.32), Current Ratio (1.57), Revenue ($54.23 billion), and After-Tax Income ($1.69\n",
      "\u001b[36m(async_process_image_data pid=5187)\u001b[0m \u001b[32m [repeated 48x across cluster]\u001b[0m\n",
      "\u001b[36m(async_process_image_data pid=5186)\u001b[0m json_file_path: pdf_img_json_dir/Cisco_rec_page_5.json\u001b[32m [repeated 2x across cluster]\u001b[0m\n",
      "\u001b[36m(async_process_image_data pid=5187)\u001b[0m Named Entities:\u001b[32m [repeated 2x across cluster]\u001b[0m\n",
      "\u001b[36m(async_process_image_data pid=5187)\u001b[0m file_path: img/b64_images/Intel_rec_page_1.b64, image description (prefiltered with entities extracted): Based on the image, here are the relevant entities I can identify:\n",
      "\u001b[36m(async_process_image_data pid=5187)\u001b[0m Temporal Entities:\n"
     ]
    },
    {
     "name": "stderr",
     "output_type": "stream",
     "text": [
      "\u001b[36m(async_process_image_data pid=5186)\u001b[0m [2024-05-28 16:28:15,121] p5186 {500037063.py:58} INFO - Ingesting data into pipeline\u001b[32m [repeated 2x across cluster]\u001b[0m\n",
      "\u001b[36m(async_process_image_data pid=5186)\u001b[0m [2024-05-28 16:28:15,122] p5186 {500037063.py:59} INFO - image desc: 200 OK\u001b[32m [repeated 2x across cluster]\u001b[0m\n",
      "\u001b[36m(async_process_image_data pid=5186)\u001b[0m [2024-05-28 16:28:15,133] p5186 {500037063.py:14} INFO - going to convert img/b64_images/Amazon_rec_page_1.b64 into embeddings\u001b[32m [repeated 3x across cluster]\u001b[0m\n",
      "\u001b[36m(async_process_image_data pid=5187)\u001b[0m [2024-05-28 16:28:25,041] p5187 {credentials.py:1075} INFO - Found credentials from IAM Role: BaseNotebookInstanceEc2InstanceRole\u001b[32m [repeated 2x across cluster]\u001b[0m\n"
     ]
    },
    {
     "name": "stdout",
     "output_type": "stream",
     "text": [
      "\u001b[36m(async_process_image_data pid=5187)\u001b[0m file_path: img/b64_images/Microsoft_rec_page_6.b64, image description (prefiltered with entities extracted): The image contains the following entities:\n",
      "\u001b[36m(async_process_image_data pid=5187)\u001b[0m - Microsoft Corp. (Organization name)\n",
      "\u001b[36m(async_process_image_data pid=5187)\u001b[0m - MS Windows (Product name)\n",
      "\u001b[36m(async_process_image_data pid=5187)\u001b[0m - MS Office (Product name)\n",
      "\u001b[36m(async_process_image_data pid=5187)\u001b[0m - PCs (Product category)\n",
      "\u001b[36m(async_process_image_data pid=5187)\u001b[0m - Windows Server (Product name)\n",
      "\u001b[36m(async_process_image_data pid=5187)\u001b[0m - SQL Server (Product name)\n",
      "\u001b[36m(async_process_image_data pid=5187)\u001b[0m - Dynamics CRM (Product name)\n",
      "\u001b[36m(async_process_image_data pid=5187)\u001b[0m - SharePoint (Product name)\n",
      "\u001b[36m(async_process_image_data pid=5187)\u001b[0m - Azure (Product name)\n",
      "\u001b[36m(async_process_image_data pid=5187)\u001b[0m - Lync (Product name)\n",
      "\u001b[36m(async_process_image_data pid=5187)\u001b[0m - Xbox (Product name)\n",
      "\u001b[36m(async_process_image_data pid=5187)\u001b[0m - Surface (Product name)\n",
      "\u001b[36m(async_process_image_data pid=5187)\u001b[0m - Skype (Product name)\n",
      "\u001b[36m(async_process_image_data pid=5187)\u001b[0m - MSN (Service name)\n",
      "\u001b[36m(async_process_image_data pid=5187)\u001b[0m - Bing (Product name)\n",
      "\u001b[36m(async_process_image_data pid=5187)\u001b[0m Custom Entities:\n",
      "\u001b[36m(async_process_image_data pid=5187)\u001b[0m - Independent software developer (Company description)\n",
      "\u001b[36m(async_process_image_data pid=5187)\u001b[0m Temporal Entities:\n",
      "\u001b[36m(async_process_image_data pid=5187)\u001b[0m - October 2011 (Month and year)\n",
      "\u001b[36m(async_process_image_data pid=5187)\u001b[0m - Last year (Relative time period)\n",
      "\u001b[36m(async_process_image_data pid=5187)\u001b[0m Financial/Numerical Entities:\n",
      "\u001b[36m(async_process_image_data pid=5187)\u001b[0m - 50% (Percentage)\n",
      "\u001b[36m(async_process_image_data pid=5187)\u001b[0m - 63% (Percentage)\n",
      "\u001b[36m(async_process_image_data pid=5187)\u001b[0m - 22% (Percentage)\n",
      "\u001b[36m(async_process_image_data pid=5187)\u001b[0m - 51% (Percentage)\n",
      "\u001b[36m(async_process_image_data pid=5187)\u001b[0m - 31% (Percentage) \n",
      "\u001b[36m(async_process_image_data pid=5187)\u001b[0m - 25 (Number)\n",
      "\u001b[36m(async_process_image_data pid=5187)\u001b[0m - 23.6 (Number)\n",
      "\u001b[36m(async_process_image_data pid=5187)\u001b[0m - 18.9-22.9 (Range)\n",
      "\u001b[36m(async_process_image_data pid=5187)\u001b[0m - 22.1 (Number)\n",
      "\u001b[36m(async_process_image_data pid=5187)\u001b[0m - 15% (Percentage)\n",
      "\u001b[36m(async_process_image_data pid=5187)\u001b[0m - $430 (Currency amount)\n",
      "\u001b[36m(async_process_image_data pid=5187)\u001b[0m - $397.58 (Currency amount)\n",
      "\u001b[36m(async_process_image_data pid=5187)\u001b[0m - $11.01 (Currency amount)\n",
      "\u001b[36m(async_process_image_data pid=5187)\u001b[0m The image appears to be an analyst report providing details about Microsoft Corporation, its products, services, financials, and stock performance.The image appears to be an analyst report or research document on Microsoft Corporation (NASDAQ: MSFT). The overall layout consists of a header section and a body text section.\n",
      "\u001b[36m(async_process_image_data pid=5187)\u001b[0m Header Section:\n",
      "\u001b[36m(async_process_image_data pid=5187)\u001b[0m - The header displays the company name 'ARGUS' in a distinct font and logo style.\n",
      "\u001b[36m(async_process_image_data pid=5187)\u001b[0m - It also includes the text 'MICROSOFT CORP' in larger bold text, indicating the subject company of the report.\n",
      "\u001b[36m(async_process_image_data pid=5187)\u001b[0m - Additional details like 'Report created Feb 1, 2024' and 'Page 6 OF 7' are provided, suggesting this is an excerpt from a multi-page document.\n",
      "\u001b[36m(async_process_image_data pid=5187)\u001b[0m Body Text Section:\n",
      "\u001b[36m(async_process_image_data pid=5187)\u001b[0m - This section is titled 'Analyst's Notes ...Continued', implying it is a continuation from a previous page.\n",
      "\u001b[36m(async_process_image_data pid=5187)\u001b[0m - The text provides an overview of Microsoft, describing it as 'the world's largest independent software developer' founded on the MS Windows operating system and MS Office business applications suite.\n",
      "\u001b[36m(async_process_image_data pid=5187)\u001b[0m - It mentions Microsoft's expansion into enterprise software with products like Windows Server, SQL Server, Dynamics CRM, SharePoint, Azure, and Lync, as well as hardware ventures like the Xbox gaming/media platform and the Surface tablet.\n",
      "\u001b[36m(async_process_image_data pid=5187)\u001b[0m - It also notes Microsoft's acquisition of Skype's internet VoIP communications service in October 2011.\n",
      "\u001b[36m(async_process_image_data pid=5187)\u001b[0m - The text states that 'More than 50% of revenue is generated outside the U.S.'\n",
      "\u001b[36m(async_process_image_data pid=5187)\u001b[0m Valuation Section:\n",
      "\u001b[36m(async_process_image_data pid=5187)\u001b[0m - This section discusses the performance and valuation of Microsoft's shares.\n",
      "\u001b[36m(async_process_image_data pid=5187)\u001b[0m - It mentions that Microsoft shares have risen 63% in the last year on a total-return basis, compared to a 22% increase for the S&P 500, a 51% increase for the S&P Information Technology Index, and a 51% increase for the iShares Expanded Tech-Software Sector ETF (IGV).\n",
      "\u001b[36m(async_process_image_data pid=5187)\u001b[0m - It provides specific data points, such as Microsoft's trailing enterprise value/EBITDA multiple of 25, and its forward enterprise value/EBITDA multiple of 22.1, which is 15% above the peer average and equal to the average premium over the past two years.\n",
      "\u001b[36m(async_process_image_data pid=5187)\u001b[0m - The text states that the analysts are reaffirming their BUY rating and raising their target price to $475 from $430.\n",
      "\u001b[36m(async_process_image_data pid=5187)\u001b[0m - It also mentions that on January 31, the BUY-rated MSFT closed at $397.58, down $11.01.\n",
      "\u001b[36m(async_process_image_data pid=5187)\u001b[0m The image is primarily in a maroon or burgundy color, with white text. There are no tables, charts, or other visual elements present in this particular excerpt.\n",
      "\u001b[36m(async_process_image_data pid=5187)\u001b[0m \u001b[32m [repeated 9x across cluster]\u001b[0m\n",
      "\u001b[36m(async_process_image_data pid=5187)\u001b[0m json_file_path: pdf_img_json_dir/Intel_rec_page_1.json\n",
      "\u001b[36m(async_process_image_data pid=5187)\u001b[0m Named Entities:\n",
      "\u001b[36m(async_process_image_data pid=5187)\u001b[0m json_file_path: pdf_img_json_dir/Microsoft_rec_page_6.json\n"
     ]
    },
    {
     "name": "stderr",
     "output_type": "stream",
     "text": [
      "\u001b[36m(async_process_image_data pid=5187)\u001b[0m [2024-05-28 16:28:25,079] p5187 {500037063.py:58} INFO - Ingesting data into pipeline\n",
      "\u001b[36m(async_process_image_data pid=5187)\u001b[0m [2024-05-28 16:28:25,079] p5187 {500037063.py:59} INFO - image desc: 200 OK\n",
      "\u001b[36m(async_process_image_data pid=5187)\u001b[0m [2024-05-28 16:28:25,094] p5187 {500037063.py:14} INFO - going to convert img/b64_images/Microsoft_rec_page_6.b64 into embeddings\n",
      "\u001b[36m(async_process_image_data pid=5187)\u001b[0m [2024-05-28 16:29:12,212] p5187 {credentials.py:1075} INFO - Found credentials from IAM Role: BaseNotebookInstanceEc2InstanceRole\n",
      "\u001b[36m(async_process_image_data pid=5187)\u001b[0m [2024-05-28 16:29:12,295] p5187 {500037063.py:58} INFO - Ingesting data into pipeline\n",
      "\u001b[36m(async_process_image_data pid=5187)\u001b[0m [2024-05-28 16:29:12,295] p5187 {500037063.py:59} INFO - image desc: 200 OK\n",
      "\u001b[36m(async_process_image_data pid=5187)\u001b[0m [2024-05-28 16:29:12,306] p5187 {500037063.py:14} INFO - going to convert img/b64_images/AMD_rec_page_7.b64 into embeddings\n"
     ]
    },
    {
     "name": "stdout",
     "output_type": "stream",
     "text": [
      "\u001b[36m(async_process_image_data pid=5190)\u001b[0m file_path: img/b64_images/tesla_rec_page_3.b64, image description (prefiltered with entities extracted): Based on the image, here is a list of entities I can identify:\n",
      "\u001b[36m(async_process_image_data pid=5190)\u001b[0m Named Entities:\n",
      "\u001b[36m(async_process_image_data pid=5190)\u001b[0m - Tesla Inc. (company name)\n",
      "\u001b[36m(async_process_image_data pid=5190)\u001b[0m - General Motors Company (company name)\n",
      "\u001b[36m(async_process_image_data pid=5190)\u001b[0m - Ford Motor Co. (company name)\n",
      "\u001b[36m(async_process_image_data pid=5190)\u001b[0m - CarMax Inc. (company name)\n",
      "\u001b[36m(async_process_image_data pid=5190)\u001b[0m - Harley-Davidson, Inc. (company name)\n",
      "\u001b[36m(async_process_image_data pid=5190)\u001b[0m Product Entities:\n",
      "\u001b[36m(async_process_image_data pid=5190)\u001b[0m - Model X (Tesla vehicle model)\n",
      "\u001b[36m(async_process_image_data pid=5190)\u001b[0m - Model 3 (Tesla vehicle model)\n",
      "\u001b[36m(async_process_image_data pid=5190)\u001b[0m - Gigafactory (Tesla factory)\n",
      "\u001b[36m(async_process_image_data pid=5190)\u001b[0m Location Entities:\n",
      "\u001b[36m(async_process_image_data pid=5190)\u001b[0m - Nevada (U.S. state where Tesla's Gigafactory is located)\n",
      "\u001b[36m(async_process_image_data pid=5190)\u001b[0m - China (country where Tesla launched Model Y)\n",
      "\u001b[36m(async_process_image_data pid=5190)\u001b[0m The image also contains temporal entities like dates (Jan 26, 2024) and financial metrics like 5-year growth rates, P/E ratios, stock prices, and analyst ratings for the listed companies. However, I cannot identify any specific person names or custom entities beyond the product/location entities mentioned above.The image appears to be an analyst report or analysis on the company Tesla Inc., as indicated by the large Tesla Inc. heading at the top. The overall layout is divided into several sections with various data points and visualizations.\n",
      "\u001b[36m(async_process_image_data pid=5190)\u001b[0m Top Section:\n",
      "\u001b[36m(async_process_image_data pid=5190)\u001b[0m - The top section contains the company name 'TESLA INC.', its stock ticker 'TSLA', and the NASDAQ exchange it is listed on.\n",
      "\u001b[36m(async_process_image_data pid=5190)\u001b[0m - It mentions that this is a 'Report created Jan 26, 2024' and that it is 'Page 3 OF 5'.\n",
      "\u001b[36m(async_process_image_data pid=5190)\u001b[0m Analyst's Notes Section:\n",
      "\u001b[36m(async_process_image_data pid=5190)\u001b[0m - This section provides detailed analysis and commentary from the analyst on Tesla's performance and outlook.\n",
      "\u001b[36m(async_process_image_data pid=5190)\u001b[0m - It mentions that Tesla offers a storage product with up to 3 MWh of storage capacity and a 1.5 MW inverter.\n",
      "\u001b[36m(async_process_image_data pid=5190)\u001b[0m - It states that Tesla's demand continues to exceed production capacity, and growth has slowed due to supply chain challenges.\n",
      "\u001b[36m(async_process_image_data pid=5190)\u001b[0m - It notes that Tesla is boosting production at a dedicated Megapack factory to meet increased demand.\n",
      "\u001b[36m(async_process_image_data pid=5190)\u001b[0m - For full year 2023, Tesla reported an adjusted net profit of $43.13 per diluted share, compared to an adjusted net profit of $41.07 in 2022.\n",
      "\u001b[36m(async_process_image_data pid=5190)\u001b[0m - The analyst discusses Tesla's strategy to grow production quickly, its 50% CAGR target for early 2021, and the difficulties in achieving it due to two major growth waves (global expansion of the Model 3/Y platform and the next-generation vehicle platform).\n",
      "\u001b[36m(async_process_image_data pid=5190)\u001b[0m - The analyst lowered their full year 2024 revenue forecast by 6% to $112.2 billion (from $119.4 billion) and anticipates a higher book tax rate of $3.40 per share and a 2025 EPS estimate of $4.76 per share.\n",
      "\u001b[36m(async_process_image_data pid=5190)\u001b[0m - Historical context is provided, mentioning Tesla's national attention with the 2008 introduction of the Tesla Roadster (the first fully electric sports car at $128,500), and various awards and recognition received by its vehicles (Model S, Model 3, Model X).\n",
      "\u001b[36m(async_process_image_data pid=5190)\u001b[0m - It discusses the Model X sport utility vehicle's launch delays, production issues, and its falcon-wing doors.\n",
      "\u001b[36m(async_process_image_data pid=5190)\u001b[0m - The Model 3 is described as an all-electric car with an average range of 310 miles per battery charge, with deliveries to nonemployee customers in 1Q18.\n",
      "\u001b[36m(async_process_image_data pid=5190)\u001b[0m - The company's latest vehicle, the Model Y, launched in China in January 2021, is mentioned.\n",
      "\u001b[36m(async_process_image_data pid=5190)\u001b[0m - The construction of Tesla's first battery production plant, known as a 'Gigafactory,' in Sparks, Nevada in 2016 is noted.\n",
      "\u001b[36m(async_process_image_data pid=5190)\u001b[0m Peer & Industry Analysis Section:\n",
      "\u001b[36m(async_process_image_data pid=5190)\u001b[0m - This section contains a scatterplot chart that compares Tesla against its peers (General Motors Company, Ford Motor Co., CarMax Inc., and Harley-Davidson, Inc.) across various metrics.\n",
      "\u001b[36m(async_process_image_data pid=5190)\u001b[0m - The x-axis represents the 5-year Growth Rate (%), while the y-axis represents different metrics like P/E (Price/Earnings), Price/Sales, Price/Book, PEG (Price/Earnings to Growth), 5 Year Growth, Debt/Capital, and Market Cap (in millions).\n",
      "\u001b[36m(async_process_image_data pid=5190)\u001b[0m - For each metric, the chart plots the data point for Tesla and its peers, allowing for comparison across the sector.\n",
      "\u001b[36m(async_process_image_data pid=5190)\u001b[0m - The chart uses different colors (red, blue, green) to distinguish between the companies.\n",
      "\u001b[36m(async_process_image_data pid=5190)\u001b[0m - Specific data points displayed on the chart include:\n",
      "\u001b[36m(async_process_image_data pid=5190)\u001b[0m   - Market Cap: Tesla ($90,596M), GM ($48,151M), Ford ($44,590M), CarMax ($10,909M), Harley-Davidson ($4,682M)\n",
      "\u001b[36m(async_process_image_data pid=5190)\u001b[0m   - 5-yr Growth Rate (%): Tesla (105.0%), GM (7.0%), Ford (4.0%), CarMax (8.0%), Harley-Davidson (8.0%)\n",
      "\u001b[36m(async_process_image_data pid=5190)\u001b[0m   - Current FY P/E: Tesla (52.7), GM (4.7), Ford (6.0), CarMax (23.4), Harley-Davidson (7.2)\n",
      "\u001b[36m(async_process_image_data pid=5190)\u001b[0m   - Net Margin (%): Tesla (15.5), GM (5.8), Ford (3.5), CarMax (1.9), Harley-Davidson (12.2)\n",
      "\u001b[36m(async_process_image_data pid=5190)\u001b[0m   - 1-yr EPS Growth (%): Tesla (45.1), GM (-12.4), Ford (-7.4), CarMax (22.0), Harley-Davidson (3.6)\n",
      "\u001b[36m(async_process_image_data pid=5190)\u001b[0m   - Argus Rating: Tesla (BUY),\n",
      "\u001b[36m(async_process_image_data pid=5190)\u001b[0m \u001b[32m [repeated 7x across cluster]\u001b[0m\n",
      "\u001b[36m(async_process_image_data pid=5190)\u001b[0m json_file_path: pdf_img_json_dir/tesla_rec_page_3.json\n"
     ]
    },
    {
     "name": "stderr",
     "output_type": "stream",
     "text": [
      "\u001b[36m(async_process_image_data pid=5190)\u001b[0m [2024-05-28 16:29:18,212] p5190 {credentials.py:1075} INFO - Found credentials from IAM Role: BaseNotebookInstanceEc2InstanceRole\n",
      "\u001b[36m(async_process_image_data pid=5190)\u001b[0m [2024-05-28 16:29:18,251] p5190 {500037063.py:58} INFO - Ingesting data into pipeline\n",
      "\u001b[36m(async_process_image_data pid=5190)\u001b[0m [2024-05-28 16:29:18,251] p5190 {500037063.py:59} INFO - image desc: 200 OK\n"
     ]
    },
    {
     "name": "stdout",
     "output_type": "stream",
     "text": [
      "\u001b[36m(async_process_image_data pid=5186)\u001b[0m file_path: img/b64_images/Amazon_rec_page_1.b64, image description (prefiltered with entities extracted): Based on the image, here's a list of the key entities present:\n",
      "\u001b[36m(async_process_image_data pid=5186)\u001b[0m - Amazon.com Inc. (company name)\n",
      "\u001b[36m(async_process_image_data pid=5186)\u001b[0m - Amazon Web Services (AWS) (product/service name)\n",
      "\u001b[36m(async_process_image_data pid=5186)\u001b[0m - Prime (product/service name)\n",
      "\u001b[36m(async_process_image_data pid=5186)\u001b[0m - Kindle (product name)\n",
      "\u001b[36m(async_process_image_data pid=5186)\u001b[0m - Alexa (product name)\n",
      "\u001b[36m(async_process_image_data pid=5186)\u001b[0m - Jim Kelleher, CFA (person name and occupation)\n",
      "\u001b[36m(async_process_image_data pid=5186)\u001b[0m - ARGUS (company or brand name)\n",
      "\u001b[36m(async_process_image_data pid=5186)\u001b[0m Temporal Entities:\n",
      "\u001b[36m(async_process_image_data pid=5186)\u001b[0m - February 2, 2024 (date)\n",
      "\u001b[36m(async_process_image_data pid=5186)\u001b[0m - 4Q23 (quarter specified)\n",
      "\u001b[36m(async_process_image_data pid=5186)\u001b[0m - 1-Year (duration)\n",
      "\u001b[36m(async_process_image_data pid=5186)\u001b[0m - 5-Year (duration)\n",
      "\u001b[36m(async_process_image_data pid=5186)\u001b[0m - Amazon Web Services (AWS)\n",
      "\u001b[36m(async_process_image_data pid=5186)\u001b[0m - Prime membership platform\n",
      "\u001b[36m(async_process_image_data pid=5186)\u001b[0m - Kindle reader\n",
      "\u001b[36m(async_process_image_data pid=5186)\u001b[0m - Alexa-based Echo and Dot digital voice assistants\n",
      "\u001b[36m(async_process_image_data pid=5186)\u001b[0m - U.S. (United States)\n",
      "\u001b[36m(async_process_image_data pid=5186)\u001b[0m - North American operations\n",
      "\u001b[36m(async_process_image_data pid=5186)\u001b[0m Financial/Statistical Entities:\n",
      "\u001b[36m(async_process_image_data pid=5186)\u001b[0m - $159.28 (price)\n",
      "\u001b[36m(async_process_image_data pid=5186)\u001b[0m - $88.12 to $172.50 (price range)\n",
      "\u001b[36m(async_process_image_data pid=5186)\u001b[0m - $0.18 billion (dividend)\n",
      "\u001b[36m(async_process_image_data pid=5186)\u001b[0m - $574.79 billion (revenue)\n",
      "\u001b[36m(async_process_image_data pid=5186)\u001b[0m - $30.43 billion (after-tax income)\n",
      "\u001b[36m(async_process_image_data pid=5186)\u001b[0m - 48.86 (current FY P/E ratio)\n",
      "\u001b[36m(async_process_image_data pid=5186)\u001b[0m - 54.74 (price FY P/E)\n",
      "\u001b[36m(async_process_image_data pid=5186)\u001b[0m - 2.86 (price/sales ratio)\n",
      "\u001b[36m(async_process_image_data pid=5186)\u001b[0m - 8.99 (price/book ratio)\n",
      "\u001b[36m(async_process_image_data pid=5186)\u001b[0m - $1.71 (book value/share)\n",
      "\u001b[36m(async_process_image_data pid=5186)\u001b[0m - $1.65 Trillion (market capitalization)\n",
      "\u001b[36m(async_process_image_data pid=5186)\u001b[0m The image contains various other financial metrics, ratios, and forecasted growth figures as well.The image appears to be an analyst report on Amazon.com Inc. (AMZN) created by Argus Research Company. The overall layout is structured with various sections and data visualizations. Let me describe each part in detail:\n",
      "\u001b[36m(async_process_image_data pid=5186)\u001b[0m - The header displays the NASDAQ ticker 'AMZN' for Amazon.com Inc.\n",
      "\u001b[36m(async_process_image_data pid=5186)\u001b[0m - It introduces Amazon as the leading U.S. e-commerce retailer and among the top global e-commerce sites.\n",
      "\u001b[36m(async_process_image_data pid=5186)\u001b[0m - It mentions that Amazon includes Amazon Web Services (AWS), the global leader in cloud-based infrastructure-as-a-Service (IaaS) platforms.\n",
      "\u001b[36m(async_process_image_data pid=5186)\u001b[0m - Amazon's Prime membership platform is highlighted as a key online retail differentiator, providing free shipping, exclusive media content, and the company's Kindle reader and Alexa-based Echo and Dot digital voice assistants as category leaders.\n",
      "\u001b[36m(async_process_image_data pid=5186)\u001b[0m - Authored by Jim Kelleher, CFA, on February 2, 2024.\n",
      "\u001b[36m(async_process_image_data pid=5186)\u001b[0m - The ARGUS RATING is 'BUY'.\n",
      "\u001b[36m(async_process_image_data pid=5186)\u001b[0m - Key points:\n",
      "\u001b[36m(async_process_image_data pid=5186)\u001b[0m   - Holiday quarter strength, positive outlook.\n",
      "\u001b[36m(async_process_image_data pid=5186)\u001b[0m   - Amazon reported above-consensus revenue and EPS for 4Q23 and provided positive guidance for 1Q24, suggesting the high end of its operating profit expectations on volume, cost controls, and mix.\n",
      "\u001b[36m(async_process_image_data pid=5186)\u001b[0m   - Despite reflecting global macro-economic softness and a weaker environment for consumer online retail, Amazon's revenue topped consensus by over 5% billion, while OP profits beat Street expectations by about 20%.\n",
      "\u001b[36m(async_process_image_data pid=5186)\u001b[0m   - The AWS business, which had shown signs of deceleration, appears to have been energized by the global push to generative AI.\n",
      "\u001b[36m(async_process_image_data pid=5186)\u001b[0m   - Amazon appears to have retained market-share gains built during the pandemic. The belief is that AMZN warrants long-term accumulation in most equity accounts.\n",
      "\u001b[36m(async_process_image_data pid=5186)\u001b[0m Investment Thesis:\n",
      "\u001b[36m(async_process_image_data pid=5186)\u001b[0m - BUY-rated Amazon.com Inc. (NGS: AMZN) rose 7% in the after-market on 2/1/24 after the giant online retailer and cloud company posted above-consensus revenue and GAAP EPS for 4Q23.\n",
      "\u001b[36m(async_process_image_data pid=5186)\u001b[0m - Amazon also provided positive current-quarter guidance. Management reiterated its upbeat outlook for both retail operations and AWS.\n",
      "\u001b[36m(async_process_image_data pid=5186)\u001b[0m - Amazon generated record cash flow from operations for 2023.\n",
      "\u001b[36m(async_process_image_data pid=5186)\u001b[0m - During the holiday quarter of 4Q23, total sales rose 14% annually to $170 billion. North American operations (excluding AWS) posted a new all-time high in operating profit, exceeding the prior peak quarter (4Q23) by over $2 billion. International cut its operating loss significantly year-over-year, while AWS grew its operating profit in mid-double-digit percentages. Amazon's retail sales grew faster than U.S. online retail sales overall during the 2023 holiday period.\n",
      "\u001b[36m(async_process_image_data pid=5186)\u001b[0m - Late in 3Q23, Amazon announced plans to invest up to $4 billion in Anthropic, a leading provider of AI foundation models and an advocate for the responsible deployment of advanced AI systems.\n",
      "\u001b[36m(async_process_image_data pid=5186)\u001b[0m Market Data Section:\n",
      "\u001b[36m(async_process_image_data pid=5186)\u001b[0m - This section displays Amazon's daily stock price chart for the past year, showing the closing prices and trading range.\n",
      "\u001b[36m(async_process_image_data pid=5186)\u001b[0m - The chart uses a green and red color scheme, with green indicating higher prices and red indicating lower prices.\n",
      "\u001b[36m(async_process_image_data pid=5186)\u001b[0m - Below the chart, there is a table with Amazon's key statistics, financial data, and analyst estimates/forecasts.\n",
      "\u001b[36m(async_process_image_data pid=5186)\u001b[0m Key Statistics:\n",
      "\u001b[36m(async_process_image_data pid=5186)\u001b[0m - Key Statistics section reflects previous trading day's closing price ($159.28) and the price range ($158.40 - $172.50).\n",
      "\u001b[36m(async_process_image_data pid=5186)\u001b[0m - Other applicable data are for the trailing 12-months unless otherwise specified.\n",
      "\u001b[36m(async_process_image_data pid=5186)\u001b[0m Market Overview:\n",
      "\u001b[36m(async_process_image_data pid=5186)\u001b[0m - Current Price: $159.28\n",
      "\u001b[36m(async_process_image_data pid=5186)\u001b[0m - 52 Week Price Range: $88.12 to $172.50\n",
      "\u001b[36m(async_process_image_data pid=5186)\u001b[0m - Shares Outstanding: 10.53 Billion\n",
      "\u001b[36m(async_process_image_data pid=5186)\u001b[0m - Dividend: $0.00\n",
      "\u001b[36m(async_process_image_data pid=5186)\u001b[0m Sector Overview:\n",
      "\u001b[36m(async_process_image_data pid=5186)\u001b[0m - Sector: Consumer Discretionary OVERWEIGHT\n",
      "\u001b[36m(async_process_image_data pid=5186)\u001b[0m - Sector Rating: HOLD \n",
      "\u001b[36m(async_process_image_data pid=5186)\u001b[0m - Total ARGUS 500 Market Cap: OVERWEIGHT\n",
      "\u001b[36m(async_process_image_data pid=5186)\u001b[0m Financial Strength:\n",
      "\u001b[36m(async_process_image_data pid=5186)\u001b[0m - Financial Strength Rating: MEDIUM-HIGH\n",
      "\u001b[36m(async_process_image_data pid=5186)\u001b[0m - Debt/Capital Ratio: 31.2%\n",
      "\u001b[36m(async_process_image_data pid=5186)\u001b[0m - Return on Equity: 15.3%\n",
      "\u001b[36m(async_process_image_data pid=5186)\u001b[0m - Net Margin: 5.3% \n",
      "\u001b[36m(async_process_image_data pid=5186)\u001b[0m - Payout Ratio: -\n",
      "\u001b[36m(async_process_image_data pid=5186)\u001b[0m - Current Ratio: 0.94\n",
      "\u001b[36m(async_process_image_data pid=5186)\u001b[0m - Revenue: $574.79 Billion\n",
      "\u001b[36m(async_process_image_data pid=5186)\u001b[0m - After-Tax Income: $30.43 Billion  \n",
      "\u001b[36m(async_process_image_data pid=5186)\u001b[0m Valuation:\n",
      "\u001b[36m(async_process_image_data pid=5186)\u001b[0m Named Entities:\n",
      "\u001b[36m(async_process_image_data pid=5186)\u001b[0m Product Entities:\n",
      "\u001b[36m(async_process_image_data pid=5186)\u001b[0m Location Entities:\n",
      "\u001b[36m(async_process_image_data pid=5186)\u001b[0m Top Section:\n",
      "\u001b[36m(async_process_image_data pid=5186)\u001b[0m Analyst's Notes Section:\n",
      "\u001b[36m(async_process_image_data pid=5186)\u001b[0m \u001b[32m [repeated 15x across cluster]\u001b[0m\n",
      "\u001b[36m(async_process_image_data pid=5186)\u001b[0m json_file_path: pdf_img_json_dir/Amazon_rec_page_1.json\n"
     ]
    },
    {
     "name": "stderr",
     "output_type": "stream",
     "text": [
      "\u001b[36m(async_process_image_data pid=5186)\u001b[0m [2024-05-28 16:29:29,122] p5186 {credentials.py:1075} INFO - Found credentials from IAM Role: BaseNotebookInstanceEc2InstanceRole\n",
      "\u001b[36m(async_process_image_data pid=5186)\u001b[0m [2024-05-28 16:29:29,160] p5186 {500037063.py:58} INFO - Ingesting data into pipeline\n",
      "\u001b[36m(async_process_image_data pid=5186)\u001b[0m [2024-05-28 16:29:29,161] p5186 {500037063.py:59} INFO - image desc: 200 OK\n"
     ]
    },
    {
     "name": "stdout",
     "output_type": "stream",
     "text": [
      "\u001b[36m(async_process_image_data pid=5191)\u001b[0m file_path: img/b64_images/tesla_rec_page_1.b64, image description (prefiltered with entities extracted): Based on the image, here are the key entities present:\n",
      "\u001b[36m(async_process_image_data pid=5191)\u001b[0m Named Entities:\n",
      "\u001b[36m(async_process_image_data pid=5191)\u001b[0m - Tesla Inc. (Company)\n",
      "\u001b[36m(async_process_image_data pid=5191)\u001b[0m - Argus (Company/Analyst Firm)\n",
      "\u001b[36m(async_process_image_data pid=5191)\u001b[0m - Austin, Texas (Location)\n",
      "\u001b[36m(async_process_image_data pid=5191)\u001b[0m - Palo Alto, California (Location)\n",
      "\u001b[36m(async_process_image_data pid=5191)\u001b[0m Product Entities:\n",
      "\u001b[36m(async_process_image_data pid=5191)\u001b[0m - Electric vehicles\n",
      "\u001b[36m(async_process_image_data pid=5191)\u001b[0m - Energy generation and storage systems\n",
      "\u001b[36m(async_process_image_data pid=5191)\u001b[0m - Model 3/Y platforms\n",
      "\u001b[36m(async_process_image_data pid=5191)\u001b[0m - January 26, 2024 (Date)\n",
      "\u001b[36m(async_process_image_data pid=5191)\u001b[0m - June 29, 2010 (Date)\n",
      "\u001b[36m(async_process_image_data pid=5191)\u001b[0m - 2003 (Year)\n",
      "\u001b[36m(async_process_image_data pid=5191)\u001b[0m - 2010 (Year)\n",
      "\u001b[36m(async_process_image_data pid=5191)\u001b[0m Financial/Numerical Entities:\n",
      "\u001b[36m(async_process_image_data pid=5191)\u001b[0m - $17 per share (Stock Price)\n",
      "\u001b[36m(async_process_image_data pid=5191)\u001b[0m - 49,000 employees (Employee Count)\n",
      "\u001b[36m(async_process_image_data pid=5191)\u001b[0m - $2.485 billion (Net Profit)\n",
      "\u001b[36m(async_process_image_data pid=5191)\u001b[0m - $4.76 per share (2025 EPS Estimate)\n",
      "\u001b[36m(async_process_image_data pid=5191)\u001b[0m - $286 (Target Price)\n",
      "\u001b[36m(async_process_image_data pid=5191)\u001b[0m - $316 (Previous Target Price)\n",
      "\u001b[36m(async_process_image_data pid=5191)\u001b[0m - $182.37 to $299.29 (52-Week Price Range)\n",
      "\u001b[36m(async_process_image_data pid=5191)\u001b[0m - $0.00 (Dividend)\n",
      "\u001b[36m(async_process_image_data pid=5191)\u001b[0m - $96.77 Billion (Revenue)\n",
      "\u001b[36m(async_process_image_data pid=5191)\u001b[0m - $15.00 Billion (After-Tax Income)\n",
      "\u001b[36m(async_process_image_data pid=5191)\u001b[0m - 55.68 (Current FY P/E)\n",
      "\u001b[36m(async_process_image_data pid=5191)\u001b[0m - 58.35 (Prior FY P/E)\n",
      "\u001b[36m(async_process_image_data pid=5191)\u001b[0m - 6.00 (Price/Sales)\n",
      "\u001b[36m(async_process_image_data pid=5191)\u001b[0m - 9.27 (Price/Book)\n",
      "\u001b[36m(async_process_image_data pid=5191)\u001b[0m - $19.70 (Book Value/Share)\n",
      "\u001b[36m(async_process_image_data pid=5191)\u001b[0m - $580.57 Billion (Market Capitalization)\n",
      "\u001b[36m(async_process_image_data pid=5191)\u001b[0m - 4.79% (1 Year EPS Growth Forecast)\n",
      "\u001b[36m(async_process_image_data pid=5191)\u001b[0m - 63.07% (5 Year EPS Growth Forecast)\n",
      "\u001b[36m(async_process_image_data pid=5191)\u001b[0m The image contains detailed financial analysis and recommendations from Argus Research on Tesla Inc., including rating, estimates, valuation metrics, and other key data points.The image is an analyst report on Tesla Inc. by Argus Research Company. The layout has various sections with text and data visualizations. Here is a detailed description following your instructions:\n",
      "\u001b[36m(async_process_image_data pid=5191)\u001b[0m 1. Header Section:\n",
      "\u001b[36m(async_process_image_data pid=5191)\u001b[0m    - The header displays the company name 'Tesla Inc.', the stock ticker symbol 'NASDAQ: TSLA', and the report creation date 'Jan 26, 2024'.\n",
      "\u001b[36m(async_process_image_data pid=5191)\u001b[0m    - It mentions that Tesla manufactures and sells electric vehicles, energy generation, and storage systems, founded in 2003, went public in 2010 with an IPO price of $17 per share, has around 40,000 employees, and recently moved headquarters to Austin, Texas from Palo Alto, California.\n",
      "\u001b[36m(async_process_image_data pid=5191)\u001b[0m 2. Analyst's Notes Section:\n",
      "\u001b[36m(async_process_image_data pid=5191)\u001b[0m    - Analyst name: Bill Selesky, Analysis date: January 26, 2024\n",
      "\u001b[36m(async_process_image_data pid=5191)\u001b[0m    - Argus Rating: BUY\n",
      "\u001b[36m(async_process_image_data pid=5191)\u001b[0m    - Reiterates BUY rating following Q4 2023 financial results.\n",
      "\u001b[36m(async_process_image_data pid=5191)\u001b[0m    - On January 24, Tesla reported an adjusted Q4 2023 net profit of $2.485 billion or $0.71 per diluted share, down from $4.106 billion or $1.14 per share in the prior-year quarter.\n",
      "\u001b[36m(async_process_image_data pid=5191)\u001b[0m    - Lower Q4 2023 earnings reflected lower ASP (Average Selling Price) due to pricing and mix, increased operating expenses driven by Cybertruck, AI (artificial intelligence) and other R&D projects, and costs associated with factory upgrades (which more than offset higher automotive revenue, higher total revenues, and stronger vehicle deliveries).\n",
      "\u001b[36m(async_process_image_data pid=5191)\u001b[0m    - Q4 2023 results missed estimates, and management commentary prompted a reduction in full-year 2024 revenue forecast to $172.2 billion from $179.4 billion.\n",
      "\u001b[36m(async_process_image_data pid=5191)\u001b[0m    - Additionally, year analysts higher book tax rate for the year. The current consensus is $3.40.\n",
      "\u001b[36m(async_process_image_data pid=5191)\u001b[0m    - Initiating a 2025 EPS estimate of $4.76 per share, implying year-over-year earnings growth of about 45% from 2024 estimate. Assumptions include strong vehicle deliveries (up 25%-30%), improving margins, and stable ASP's. The consensus is currently $4.63.\n",
      "\u001b[36m(async_process_image_data pid=5191)\u001b[0m    - Lowering target price on shares to $286 from $316.\n",
      "\u001b[36m(async_process_image_data pid=5191)\u001b[0m 3. Investment Thesis Section:\n",
      "\u001b[36m(async_process_image_data pid=5191)\u001b[0m    - Reaffirming BUY rating on Focus List selection Tesla Inc. (NGS: TSLA), but lowering price target to $286 from $316. This reflects 2024 earnings forecast and cautioned sales growth in 2024 might be 'notably lower' than the 2023 growth rate, as the company works to launch both an affordable 'next-generation' vehicle (at the Tesla Gigafactory in Austin, Texas) and expand the global platform of the updated Model 3/Y platforms.\n",
      "\u001b[36m(async_process_image_data pid=5191)\u001b[0m    - Tesla's fourth-quarter conference call was very similar to the third-quarter call, with a fairly cautious outlook for the near-term. This most-recent call again highlighted the continuing impact of macroeconomic concerns (high interest rates, vehicle affordability, and consumer confidence), but also highlighted the new near-term issues of \n",
      "\u001b[36m(async_process_image_data pid=5191)\u001b[0m    - This section contains a line chart showing Tesla's stock price over a period, with the current price of $182.63 highlighted.\n",
      "\u001b[36m(async_process_image_data pid=5191)\u001b[0m    - The chart has data points, with the highest price around $310 and the lowest around $120 during the period shown.\n",
      "\u001b[36m(async_process_image_data pid=5191)\u001b[0m    - Below the chart, there is a green 'BUY' rating displayed.\n",
      "\u001b[36m(async_process_image_data pid=5191)\u001b[0m 5. Financial Data Section:\n",
      "\u001b[36m(async_process_image_data pid=5191)\u001b[0m    - This section contains quarterly financial data for Tesla, including:\n",
      "\u001b[36m(async_process_image_data pid=5191)\u001b[0m      - EPS (Earnings Per Share) numbers for several quarters, ranging from $0.85 to $1.92.\n",
      "\u001b[36m(async_process_image_data pid=5191)\u001b[0m      - Quarterly revenue numbers in billions, with the most recent quarter showing $9.88B.\n",
      "\u001b[36m(async_process_image_data pid=5191)\u001b[0m      - Quarterly data for various financial metrics like Annual, FY Ends (Fiscal Year Ends), and Dec 31 over multiple years.\n",
      "\u001b[36m(async_process_image_data pid=5191)\u001b[0m 6. Key Statistics Section:\n",
      "\u001b[36m(async_process_image_data pid=5191)\u001b[0m    - This section provides an overview of key statistics for Tesla, including:\n",
      "\u001b[36m(async_process_image_data pid=5191)\u001b[0m      - Price: $182.63\n",
      "\u001b[36m(async_process_image_data pid=5191)\u001b[0m      - Range: $259.01\n",
      "\u001b[36m(async_process_image_data pid=5191)\u001b[0m 7. Sector Overview Section:\n",
      "\u001b[36m(async_process_image_data pid=5191)\u001b[0m    -\n",
      "\u001b[36m(async_process_image_data pid=5191)\u001b[0m Temporal Entities:\n",
      "\u001b[36m(async_process_image_data pid=5191)\u001b[0m 4. Market Data Section:\n",
      "\u001b[36m(async_process_image_data pid=5191)\u001b[0m      - 52 Week Price Range: $152.37 to $299.29\n",
      "\u001b[36m(async_process_image_data pid=5191)\u001b[0m      - Shares Outstanding: 3.16 Billion\n",
      "\u001b[36m(async_process_image_data pid=5191)\u001b[0m      - Dividend: $0.00\n",
      "\u001b[36m(async_process_image_data pid=5191)\u001b[0m \u001b[32m [repeated 12x across cluster]\u001b[0m\n",
      "\u001b[36m(async_process_image_data pid=5191)\u001b[0m json_file_path: pdf_img_json_dir/tesla_rec_page_1.json\n"
     ]
    },
    {
     "name": "stderr",
     "output_type": "stream",
     "text": [
      "\u001b[36m(async_process_image_data pid=5191)\u001b[0m [2024-05-28 16:29:36,260] p5191 {credentials.py:1075} INFO - Found credentials from IAM Role: BaseNotebookInstanceEc2InstanceRole\n",
      "\u001b[36m(async_process_image_data pid=5191)\u001b[0m [2024-05-28 16:29:36,308] p5191 {500037063.py:58} INFO - Ingesting data into pipeline\n",
      "\u001b[36m(async_process_image_data pid=5191)\u001b[0m [2024-05-28 16:29:36,308] p5191 {500037063.py:59} INFO - image desc: 200 OK\n"
     ]
    },
    {
     "name": "stdout",
     "output_type": "stream",
     "text": [
      "\u001b[36m(async_process_image_data pid=5187)\u001b[0m file_path: img/b64_images/AMD_rec_page_7.b64, image description (prefiltered with entities extracted): Based on the image, here are the relevant entities I can identify:\n",
      "\u001b[36m(async_process_image_data pid=5187)\u001b[0m - Argus Research (Organization)\n",
      "\u001b[36m(async_process_image_data pid=5187)\u001b[0m - Harold Dorsey (Person)\n",
      "\u001b[36m(async_process_image_data pid=5187)\u001b[0m - Nasdaq: AMD (Stock Ticker)\n",
      "\u001b[36m(async_process_image_data pid=5187)\u001b[0m Custom Entities:\n",
      "\u001b[36m(async_process_image_data pid=5187)\u001b[0m - Methodology & Disclaimers (Report Section)\n",
      "\u001b[36m(async_process_image_data pid=5187)\u001b[0m - Valuation Analysis model (Financial Model)\n",
      "\u001b[36m(async_process_image_data pid=5187)\u001b[0m - ARGUS RESEARCH RATING SYSTEM (Rating System)\n",
      "\u001b[36m(async_process_image_data pid=5187)\u001b[0m - Industry Analysis, Growth Analysis, Financial Strength Analysis, Management Assessment, Risk Analysis (Analysis Types)\n",
      "\u001b[36m(async_process_image_data pid=5187)\u001b[0m Temporal Entity:\n",
      "\u001b[36m(async_process_image_data pid=5187)\u001b[0m - Jan 31, 2024 (Date)\n",
      "\u001b[36m(async_process_image_data pid=5187)\u001b[0m I did not find any specific product names, location entities, or additional named entities in this particular image content. Please let me know if you need any clarification or have additional context about the entities to identify.The image appears to be a section or page from a research report by Argus Research Company. It has a maroon header with the Argus logo and the title 'METHODOLOGY & DISCLAIMERS'. Below that, there are several sections with text describing different aspects of the Argus Research methodology and disclaimers.\n",
      "\u001b[36m(async_process_image_data pid=5187)\u001b[0m About Argus:\n",
      "\u001b[36m(async_process_image_data pid=5187)\u001b[0m This section describes that Argus Research was founded by Economist Harold Dorsey in 1934, and has built a top-down, fundamental system that is used by Argus analysts. It outlines the six-point system which includes Industry Analysis, Growth Analysis, Financial Strength Analysis, Management Assessment, Risk Analysis, and Valuation Analysis.\n",
      "\u001b[36m(async_process_image_data pid=5187)\u001b[0m Argus Research Rating System:\n",
      "\u001b[36m(async_process_image_data pid=5187)\u001b[0m This section explains how Argus rates stocks as BUY, HOLD, and SELL relative to the S&P 500 benchmark. It defines what each rating means in terms of expected performance over a 12-month period compared to the S&P 500 forecasts set by the Argus Market Strategist.\n",
      "\u001b[36m(async_process_image_data pid=5187)\u001b[0m Argus Research Disclaimer:\n",
      "\u001b[36m(async_process_image_data pid=5187)\u001b[0m This lengthy section provides a disclaimer stating that Argus Research Co. (ARC) is an independent investment research provider whose parent company, Argus Investors' Counsel, Inc. (AIC), is registered with the U.S. Securities and Exchange Commission. It clarifies that ARC is not a registered broker-dealer and does not have investment banking operations. It also states that the content, opinions, and information in the report are derived from sources believed to be reliable, but Argus makes no representation as to their timeliness, accuracy, or completeness. It warns that the information is for general information only and may not be suitable for all investors.\n",
      "\u001b[36m(async_process_image_data pid=5187)\u001b[0m Morningstar Disclaimer:\n",
      "\u001b[36m(async_process_image_data pid=5187)\u001b[0m This section contains a disclaimer from Morningstar, stating that certain financial information in the report may be proprietary to Morningstar and/or its content providers, may not be copied or distributed, and is not warranted to be accurate, complete or timely. Neither Morningstar nor its content providers are responsible for any damages or losses arising from the use of this information.\n",
      "\u001b[36m(async_process_image_data pid=5187)\u001b[0m The image is primarily text-based, with a color scheme of maroon and black text on a white background. There are no charts, tables or other visual elements present, aside from the Argus logo at the top. The text is organized into distinct sections with headings, and appears to be a comprehensive explanation of the company's methodology, rating system, and legal disclaimers.\n",
      "\u001b[36m(async_process_image_data pid=5187)\u001b[0m Named Entities:\n",
      "\u001b[36m(async_process_image_data pid=5187)\u001b[0m \u001b[32m [repeated 9x across cluster]\u001b[0m\n"
     ]
    },
    {
     "name": "stderr",
     "output_type": "stream",
     "text": [
      "\u001b[36m(async_process_image_data pid=5187)\u001b[0m [2024-05-28 16:29:51,709] p5187 {credentials.py:1075} INFO - Found credentials from IAM Role: BaseNotebookInstanceEc2InstanceRole\n"
     ]
    },
    {
     "name": "stdout",
     "output_type": "stream",
     "text": [
      "\u001b[36m(async_process_image_data pid=5187)\u001b[0m json_file_path: pdf_img_json_dir/AMD_rec_page_7.json\n"
     ]
    },
    {
     "name": "stderr",
     "output_type": "stream",
     "text": [
      "\u001b[36m(async_process_image_data pid=5187)\u001b[0m [2024-05-28 16:29:51,743] p5187 {500037063.py:58} INFO - Ingesting data into pipeline\n",
      "\u001b[36m(async_process_image_data pid=5187)\u001b[0m [2024-05-28 16:29:51,743] p5187 {500037063.py:59} INFO - image desc: 200 OK\n"
     ]
    }
   ],
   "source": [
    "if ray.is_initialized():\n",
    "    ray.shutdown()\n",
    "# ray.init(runtime_env={\"working_dir\": \"./\"})\n",
    "ray.init()\n",
    "# ray.init(num_cpus=40)"
   ]
  },
  {
   "cell_type": "code",
   "execution_count": 7,
   "id": "21dcac8a-e241-4710-8499-0e834cf2df67",
   "metadata": {
    "tags": []
   },
   "outputs": [],
   "source": [
    "# global constants\n",
    "CONFIG_FILE_PATH = \"config.yaml\""
   ]
  },
  {
   "cell_type": "code",
   "execution_count": 8,
   "id": "b7153438-f58d-4f63-b04e-1f8a5a02fc71",
   "metadata": {
    "tags": []
   },
   "outputs": [
    {
     "name": "stderr",
     "output_type": "stream",
     "text": [
      "[2024-05-28 16:17:39,978] p4855 {3034282685.py:5} INFO - config read from config.yaml -> {\n",
      "  \"app_name\": \"multi-modal-rag-bedrock\",\n",
      "  \"aws\": {\n",
      "    \"region\": \"us-east-1\",\n",
      "    \"cfn_stack_name\": \"multi-modal-revised\"\n",
      "  },\n",
      "  \"pdf_dir_info\": {\n",
      "    \"source_pdf_dir\": \"pdf_data\",\n",
      "    \"pdf_img_path\": \"images\",\n",
      "    \"pdf_txt_path\": \"text_files\",\n",
      "    \"pdf_extracted_data\": \"pdf_extracted_data\",\n",
      "    \"json_img_dir\": \"pdf_img_json_dir\",\n",
      "    \"json_txt_dir\": \"pdf_text_json_dir\",\n",
      "    \"bucket_prefix\": \"multimodal\",\n",
      "    \"bucket_img_prefix\": \"img\",\n",
      "    \"qna_dir\": \"question_answer_files\"\n",
      "  },\n",
      "  \"metrics_dir\": {\n",
      "    \"dir_name\": \"metrics\",\n",
      "    \"text_and_image_raw_content\": \"all_content_description.csv\"\n",
      "  },\n",
      "  \"page_split_imgs\": {\n",
      "    \"manually_saved_images_provided\": false,\n",
      "    \"horizontal_split\": false,\n",
      "    \"vertical_split\": false,\n",
      "    \"image_scale\": 3\n",
      "  },\n",
      "  \"content_info\": {\n",
      "    \"content_type\": \"pdf\",\n",
      "    \"pdf_file_url\": null,\n",
      "    \"pdf_local_files\": [\n",
      "      \"tesla_rec.pdf\",\n",
      "      \"Microsoft_rec.pdf\",\n",
      "      \"Intel_rec.pdf\",\n",
      "      \"Cisco_rec.pdf\",\n",
      "      \"Boeing_rec.pdf\",\n",
      "      \"APPLE_rec.pdf\",\n",
      "      \"AMD_rec.pdf\",\n",
      "      \"Amazon_rec.pdf\"\n",
      "    ],\n",
      "    \"manually_saved_images_path\": \"manually_saved_imgs\",\n",
      "    \"slide_deck\": {\n",
      "      \"url\": \"https://d1.awsstatic.com/events/Summits/torsummit2023/CMP301_TrainDeploy_E1_20230607_SPEdited.pdf\",\n",
      "      \"local_path\": null\n",
      "    },\n",
      "    \"image_extn\": \".jpg\",\n",
      "    \"text_extn\": \".txt\"\n",
      "  },\n",
      "  \"parallel_inference_count\": 10,\n",
      "  \"bedrock_model_info\": {\n",
      "    \"bedrock_ep_url\": \"https://bedrock-runtime.{region}.amazonaws.com\",\n",
      "    \"claude_sonnet_model_id\": \"anthropic.claude-3-sonnet-20240229-v1:0\",\n",
      "    \"claude_input_tokens_pricing\": 0.003,\n",
      "    \"claude_output_tokens_pricing\": 0.015,\n",
      "    \"titan_model_id\": \"amazon.titan-embed-text-v1\"\n",
      "  },\n",
      "  \"encoding_info\": {\n",
      "    \"accept_encoding\": \"application/json\",\n",
      "    \"content_encoding\": \"application/json\"\n",
      "  },\n",
      "  \"eval_qna_dataset_info\": {\n",
      "    \"dir_name\": \"eval_data\",\n",
      "    \"is_given\": true,\n",
      "    \"question_key\": \"Query\",\n",
      "    \"golden_response_key\": \"Response\",\n",
      "    \"updated_eval_file\": \"updated_eval_dataset.csv\",\n",
      "    \"k_size\": 1\n",
      "  },\n",
      "  \"direct_image_answer_retrieval_prompt\": \"\\\"Human: Your role is to retrieve information from the image provided if the question provided in the <question></question> tags does not have an answer directly mentioned in the <img_text_desc></img_text_desc> tags.\\nIf the image description (img_text_desc) does not contain the answer to the question below, then search the \\\"data\\\" for it. If the image description (img_text_desc) does contain answer to the question, then your response should be only one word - \\\"answer_already_in_img_desc\\\". \\nIf the answer to the question is not provided in the <img_text_desc>, then search the actual image provided in the \\\"data\\\" and look for the answer to the question. Refer to the img_text_desc and question below:\\n\\n<img_text_desc>\\n{context}\\n</img_text_desc>\\n<question>\\n{question}\\n</question>\\n\\nIf the answer to the question is not in the img_text_desc, search the actual image provided in \\\"data\\\" and retrieve the answer directly from the image provided. Search for the question directly in the image in this case and retrieve the most accurate answer. Do not make up an answer.\\n\\nRefer to an example in the <answer_to_question_in_img_desc_exists></answer_to_question_in_img_desc_exists> tags when the answer to the question is given in the img_text_desc below:\\n\\n  <answer_to_question_in_img_desc_exists>\\n  \\\"answer_already_in_img_desc\\\"\\n  <answer_to_question_in_img_desc_exists>\\n  \\n  if the answer to the <question> is not in the img_text_desc, search for it in the actual image in the \\\"data\\\" provided to you. Answer the question if the entities in the <question> matches the entities in the <answer_to_question_in_img_desc_exists>. Entities, are specific pieces of information or objects within a text that carry particular significance. These can be real-world entities like names of people, places, organizations, or dates. Refer to the types of entities: Named entities: These include names of people, organizations, locations, and dates. You can have specific identifiers within this, such as person names or person occupations.\\n\\n  Custom entities: These are entities specific to a particular application or domain, such as product names, medical terms, or technical jargon.\\n\\n  Temporal entities: These are entities related to time, such as dates, times, and durations.\\n\\n  Product entities: Names of products might be grouped together into product entities.\\n\\n  Location entities: These entities categorize or classify items based on location indicators, such as state codes.\\n\\n  Now based on the image, attach the name of the entities in the beginning of the image description and then give the description.\\n\\n  \\n  Your response should be concise. Use 1 to 4 words. Your response should only contain the response to the question and no filler words before.\\n  \\n  Assistant: Based on the question and context, here is my response in 1-4 words:\\\"\\n  \\n\",\n",
      "  \"QnA_generator_prompt\": \"\\\"Human: Based on the text description provided in <text_desc></text_desc> tags, generate a list of five to 10 questions. Only refer to the context in the <text_desc> tags, and do not provide questions that are not related to the context provided. Your response should be in a JSON format containing two elements: 'question' and 'answer'. The question should be directly related to the context provided in the <text_desc> tags and the answer should be the answer to that question from the <text_desc> context. Do not make up an answer.If you do not know the answer to the question just say that you don't know the answer. Don't try to make up an answer or a question. Refer to the context below:\\n<text_desc>\\n{context}\\n</text_desc>\\nAssistant: Sure, here are a list of Questions and Answers generated from the context in JSON format:\\\"\\n\",\n",
      "  \"inference_parameters_for_qna_generation\": {\n",
      "    \"temperature\": 0.1,\n",
      "    \"caching\": false,\n",
      "    \"max_tokens\": 1000\n",
      "  }\n",
      "}\n"
     ]
    }
   ],
   "source": [
    "# read the config yaml file\n",
    "fpath = CONFIG_FILE_PATH\n",
    "with open(fpath, 'r') as yaml_in:\n",
    "    config = yaml.safe_load(yaml_in)\n",
    "logger.info(f\"config read from {fpath} -> {json.dumps(config, indent=2)}\")"
   ]
  },
  {
   "cell_type": "code",
   "execution_count": 9,
   "id": "de0911a8-d5d5-4f11-a749-a431d5bd6d7c",
   "metadata": {
    "tags": []
   },
   "outputs": [],
   "source": [
    "# endpoint_url=g.TITAN_URL\n",
    "region: str = config['aws']['region']\n",
    "endpoint_url: str = config['bedrock_model_info']['bedrock_ep_url'].format(region=region)\n",
    "claude_model_id: str = config['bedrock_model_info']['claude_sonnet_model_id']"
   ]
  },
  {
   "cell_type": "code",
   "execution_count": 10,
   "id": "bcf9ddf2-d8f5-404a-8fcf-a5efa3f3fad1",
   "metadata": {
    "tags": []
   },
   "outputs": [
    {
     "name": "stderr",
     "output_type": "stream",
     "text": [
      "[2024-05-28 16:17:40,104] p4855 {292065259.py:2} INFO - Bucket name being used to store extracted images and texts from data: multimodal-blog2-bucket-121797993273-us-west-2\n"
     ]
    }
   ],
   "source": [
    "bucket_name: str = get_bucket_name(config['aws']['cfn_stack_name'])\n",
    "logger.info(f\"Bucket name being used to store extracted images and texts from data: {bucket_name}\")\n",
    "s3 = boto3.client('s3')"
   ]
  },
  {
   "cell_type": "code",
   "execution_count": 11,
   "id": "90d273a8-4d5a-4ede-bc3f-b7d9c8fe6825",
   "metadata": {
    "tags": []
   },
   "outputs": [
    {
     "name": "stdout",
     "output_type": "stream",
     "text": [
      "sagemaker.config INFO - Not applying SDK defaults from location: /etc/xdg/sagemaker/config.yaml\n",
      "sagemaker.config INFO - Not applying SDK defaults from location: /home/ec2-user/.config/sagemaker/config.yaml\n"
     ]
    }
   ],
   "source": [
    "sagemaker_session = sagemaker.Session()\n",
    "sm_client = sagemaker_session.sagemaker_client\n",
    "sm_runtime_client = sagemaker_session.sagemaker_runtime_client"
   ]
  },
  {
   "cell_type": "code",
   "execution_count": 12,
   "id": "88ba8ccd-7e5e-48c5-93fd-2a98319f33c3",
   "metadata": {
    "tags": []
   },
   "outputs": [
    {
     "name": "stderr",
     "output_type": "stream",
     "text": [
      "[2024-05-28 16:17:40,303] p4855 {2042488222.py:5} INFO - opensearchhost=fcd9sl5hhtbyztxkt2h0.us-west-2.aoss.amazonaws.com, text index=texts, image index=images\n"
     ]
    }
   ],
   "source": [
    "outputs = get_cfn_outputs(config['aws']['cfn_stack_name'])\n",
    "host = outputs['MultimodalCollectionEndpoint'].split('//')[1]\n",
    "text_index_name = outputs['OpenSearchTextIndexName']\n",
    "img_index_name = outputs['OpenSearchImgIndexName']\n",
    "logger.info(f\"opensearchhost={host}, text index={text_index_name}, image index={img_index_name}\")\n",
    "osi_text_endpoint = f\"https://{outputs['OpenSearchPipelineTextEndpoint']}/data/ingest\"\n",
    "osi_img_endpoint = f\"https://{outputs['OpenSearchPipelineImgEndpoint']}/data/ingest\""
   ]
  },
  {
   "cell_type": "markdown",
   "id": "c9213968-f87b-4e19-9d4d-99d0ab8f19d6",
   "metadata": {},
   "source": [
    "We use the OpenSearch client to create an index."
   ]
  },
  {
   "cell_type": "code",
   "execution_count": 13,
   "id": "95923df7-fe11-4ace-ba2a-f56edf0ac1d0",
   "metadata": {
    "tags": []
   },
   "outputs": [
    {
     "name": "stderr",
     "output_type": "stream",
     "text": [
      "[2024-05-28 16:17:40,338] p4855 {credentials.py:1075} INFO - Found credentials from IAM Role: BaseNotebookInstanceEc2InstanceRole\n"
     ]
    }
   ],
   "source": [
    "session = boto3.Session()\n",
    "credentials = session.get_credentials()\n",
    "auth = AWSV4SignerAuth(credentials, g.AWS_REGION, g.OS_SERVICE)\n",
    "\n",
    "# Represents the OSI client for images\n",
    "img_os_client = OpenSearch(\n",
    "    hosts = [{'host': host, 'port': 443}],\n",
    "    http_auth = auth,\n",
    "    use_ssl = True,\n",
    "    verify_certs = True,\n",
    "    connection_class = RequestsHttpConnection,\n",
    "    pool_maxsize = 20\n",
    ")\n",
    "\n",
    "# Represents the OSI client for images\n",
    "text_os_client = OpenSearch(\n",
    "    hosts = [{'host': host, 'port': 443}],\n",
    "    http_auth = auth,\n",
    "    use_ssl = True,\n",
    "    verify_certs = True,\n",
    "    connection_class = RequestsHttpConnection,\n",
    "    pool_maxsize = 20\n",
    ")"
   ]
  },
  {
   "cell_type": "code",
   "execution_count": 14,
   "id": "1921892a-e599-490b-bd91-accc5cdb5f4b",
   "metadata": {
    "tags": []
   },
   "outputs": [
    {
     "name": "stderr",
     "output_type": "stream",
     "text": [
      "[2024-05-28 16:17:40,703] p4855 {base.py:258} INFO - PUT https://fcd9sl5hhtbyztxkt2h0.us-west-2.aoss.amazonaws.com:443/images [status:200 request:0.304s]\n",
      "[2024-05-28 16:17:40,705] p4855 {2964750796.py:48} INFO - response received for the create index for images -> {'acknowledged': True, 'shards_acknowledged': True, 'index': 'images'}\n",
      "[2024-05-28 16:17:41,047] p4855 {base.py:258} INFO - PUT https://fcd9sl5hhtbyztxkt2h0.us-west-2.aoss.amazonaws.com:443/texts [status:200 request:0.292s]\n",
      "[2024-05-28 16:17:41,048] p4855 {2964750796.py:55} INFO - response received for the create index for texts -> {'acknowledged': True, 'shards_acknowledged': True, 'index': 'texts'}\n"
     ]
    }
   ],
   "source": [
    "index_body = \"\"\"\n",
    "{\n",
    "  \"settings\": {\n",
    "    \"index.knn\": true\n",
    "  },\n",
    "  \"mappings\": {\n",
    "    \"properties\": {\n",
    "      \"vector_embedding\": {\n",
    "        \"type\": \"knn_vector\",\n",
    "        \"dimension\": 1536,\n",
    "        \"method\": {\n",
    "          \"name\": \"hnsw\",\n",
    "          \"engine\": \"nmslib\",\n",
    "          \"parameters\": {}\n",
    "        }\n",
    "      },\n",
    "      \"file_path\": {\n",
    "        \"type\": \"text\"\n",
    "      },\n",
    "      \"file_text\": {\n",
    "        \"type\": \"text\"\n",
    "      },\n",
    "      \"page_number\": {\n",
    "        \"type\": \"text\"\n",
    "      },\n",
    "       \"metadata\": { \n",
    "        \"properties\" :\n",
    "          {\n",
    "            \"filename\" : {\n",
    "              \"type\" : \"text\"\n",
    "            },\n",
    "            \"entities\":{\n",
    "              \"type\": \"text\"\n",
    "            }\n",
    "          }\n",
    "      }\n",
    "    }\n",
    "  }\n",
    "}\n",
    "\"\"\"\n",
    "\n",
    "# We would get an index already exists exception if the index already exists, and that is fine.\n",
    "index_body = json.loads(index_body)\n",
    "try:\n",
    "    # Check if the image index exists\n",
    "    if not img_os_client.indices.exists(img_index_name):\n",
    "        img_response = img_os_client.indices.create(img_index_name, body=index_body)\n",
    "        logger.info(f\"response received for the create index for images -> {img_response}\")\n",
    "    else:\n",
    "        logger.info(f\"The image index '{img_index_name}' already exists.\")\n",
    "\n",
    "    # Check if the text index exists\n",
    "    if not text_os_client.indices.exists(text_index_name):\n",
    "        txt_response = text_os_client.indices.create(text_index_name, body=index_body)\n",
    "        logger.info(f\"response received for the create index for texts -> {txt_response}\")\n",
    "    else:\n",
    "        logger.info(f\"The text index '{text_index_name}' already exists.\")\n",
    "except Exception as e:\n",
    "    logger.error(f\"Error in creating index, exception: {e}\")"
   ]
  },
  {
   "cell_type": "markdown",
   "id": "369078c2-94b1-4510-940a-78e6b029e506",
   "metadata": {},
   "source": [
    "## Step 2. Download the images files from S3 and convert to Base64\n",
    "\n",
    "Now we download the image files from the S3 bucket. Once downloaded these files are converted into [Base64](https://en.wikipedia.org/wiki/Base64) encoding so that we can create embeddings from the images."
   ]
  },
  {
   "cell_type": "code",
   "execution_count": 15,
   "id": "14d0ec15-3aca-41d9-a4b1-4b6dde4a2f75",
   "metadata": {
    "collapsed": true,
    "jupyter": {
     "outputs_hidden": true
    },
    "tags": []
   },
   "outputs": [
    {
     "name": "stderr",
     "output_type": "stream",
     "text": [
      "[2024-05-28 16:17:41,224] p4855 {utils.py:86} INFO - downloaded multimodal-blog2-bucket-121797993273-us-west-2/multimodal/img/AMD_rec_page_1.jpg to pdf_img/AMD_rec_page_1.jpg\n",
      "[2024-05-28 16:17:41,324] p4855 {utils.py:86} INFO - downloaded multimodal-blog2-bucket-121797993273-us-west-2/multimodal/img/AMD_rec_page_2.jpg to pdf_img/AMD_rec_page_2.jpg\n",
      "[2024-05-28 16:17:41,447] p4855 {utils.py:86} INFO - downloaded multimodal-blog2-bucket-121797993273-us-west-2/multimodal/img/AMD_rec_page_3.jpg to pdf_img/AMD_rec_page_3.jpg\n",
      "[2024-05-28 16:17:41,534] p4855 {utils.py:86} INFO - downloaded multimodal-blog2-bucket-121797993273-us-west-2/multimodal/img/AMD_rec_page_4.jpg to pdf_img/AMD_rec_page_4.jpg\n",
      "[2024-05-28 16:17:41,646] p4855 {utils.py:86} INFO - downloaded multimodal-blog2-bucket-121797993273-us-west-2/multimodal/img/AMD_rec_page_5.jpg to pdf_img/AMD_rec_page_5.jpg\n",
      "[2024-05-28 16:17:41,736] p4855 {utils.py:86} INFO - downloaded multimodal-blog2-bucket-121797993273-us-west-2/multimodal/img/AMD_rec_page_6.jpg to pdf_img/AMD_rec_page_6.jpg\n",
      "[2024-05-28 16:17:41,835] p4855 {utils.py:86} INFO - downloaded multimodal-blog2-bucket-121797993273-us-west-2/multimodal/img/AMD_rec_page_7.jpg to pdf_img/AMD_rec_page_7.jpg\n",
      "[2024-05-28 16:17:41,916] p4855 {utils.py:86} INFO - downloaded multimodal-blog2-bucket-121797993273-us-west-2/multimodal/img/APPLE_rec_page_1.jpg to pdf_img/APPLE_rec_page_1.jpg\n",
      "[2024-05-28 16:17:42,028] p4855 {utils.py:86} INFO - downloaded multimodal-blog2-bucket-121797993273-us-west-2/multimodal/img/APPLE_rec_page_2.jpg to pdf_img/APPLE_rec_page_2.jpg\n",
      "[2024-05-28 16:17:42,137] p4855 {utils.py:86} INFO - downloaded multimodal-blog2-bucket-121797993273-us-west-2/multimodal/img/APPLE_rec_page_3.jpg to pdf_img/APPLE_rec_page_3.jpg\n",
      "[2024-05-28 16:17:42,234] p4855 {utils.py:86} INFO - downloaded multimodal-blog2-bucket-121797993273-us-west-2/multimodal/img/APPLE_rec_page_4.jpg to pdf_img/APPLE_rec_page_4.jpg\n",
      "[2024-05-28 16:17:42,338] p4855 {utils.py:86} INFO - downloaded multimodal-blog2-bucket-121797993273-us-west-2/multimodal/img/APPLE_rec_page_5.jpg to pdf_img/APPLE_rec_page_5.jpg\n",
      "[2024-05-28 16:17:42,453] p4855 {utils.py:86} INFO - downloaded multimodal-blog2-bucket-121797993273-us-west-2/multimodal/img/APPLE_rec_page_6.jpg to pdf_img/APPLE_rec_page_6.jpg\n",
      "[2024-05-28 16:17:42,627] p4855 {utils.py:86} INFO - downloaded multimodal-blog2-bucket-121797993273-us-west-2/multimodal/img/Amazon_rec_page_1.jpg to pdf_img/Amazon_rec_page_1.jpg\n",
      "[2024-05-28 16:17:42,759] p4855 {utils.py:86} INFO - downloaded multimodal-blog2-bucket-121797993273-us-west-2/multimodal/img/Amazon_rec_page_2.jpg to pdf_img/Amazon_rec_page_2.jpg\n",
      "[2024-05-28 16:17:42,906] p4855 {utils.py:86} INFO - downloaded multimodal-blog2-bucket-121797993273-us-west-2/multimodal/img/Amazon_rec_page_3.jpg to pdf_img/Amazon_rec_page_3.jpg\n",
      "[2024-05-28 16:17:43,007] p4855 {utils.py:86} INFO - downloaded multimodal-blog2-bucket-121797993273-us-west-2/multimodal/img/Amazon_rec_page_4.jpg to pdf_img/Amazon_rec_page_4.jpg\n",
      "[2024-05-28 16:17:43,104] p4855 {utils.py:86} INFO - downloaded multimodal-blog2-bucket-121797993273-us-west-2/multimodal/img/Amazon_rec_page_5.jpg to pdf_img/Amazon_rec_page_5.jpg\n",
      "[2024-05-28 16:17:43,189] p4855 {utils.py:86} INFO - downloaded multimodal-blog2-bucket-121797993273-us-west-2/multimodal/img/Amazon_rec_page_6.jpg to pdf_img/Amazon_rec_page_6.jpg\n",
      "[2024-05-28 16:17:43,277] p4855 {utils.py:86} INFO - downloaded multimodal-blog2-bucket-121797993273-us-west-2/multimodal/img/Boeing_rec_page_1.jpg to pdf_img/Boeing_rec_page_1.jpg\n",
      "[2024-05-28 16:17:43,373] p4855 {utils.py:86} INFO - downloaded multimodal-blog2-bucket-121797993273-us-west-2/multimodal/img/Boeing_rec_page_2.jpg to pdf_img/Boeing_rec_page_2.jpg\n",
      "[2024-05-28 16:17:43,481] p4855 {utils.py:86} INFO - downloaded multimodal-blog2-bucket-121797993273-us-west-2/multimodal/img/Boeing_rec_page_3.jpg to pdf_img/Boeing_rec_page_3.jpg\n",
      "[2024-05-28 16:17:43,584] p4855 {utils.py:86} INFO - downloaded multimodal-blog2-bucket-121797993273-us-west-2/multimodal/img/Boeing_rec_page_4.jpg to pdf_img/Boeing_rec_page_4.jpg\n",
      "[2024-05-28 16:17:43,682] p4855 {utils.py:86} INFO - downloaded multimodal-blog2-bucket-121797993273-us-west-2/multimodal/img/Boeing_rec_page_5.jpg to pdf_img/Boeing_rec_page_5.jpg\n",
      "[2024-05-28 16:17:43,761] p4855 {utils.py:86} INFO - downloaded multimodal-blog2-bucket-121797993273-us-west-2/multimodal/img/Cisco_rec_page_1.jpg to pdf_img/Cisco_rec_page_1.jpg\n",
      "[2024-05-28 16:17:43,859] p4855 {utils.py:86} INFO - downloaded multimodal-blog2-bucket-121797993273-us-west-2/multimodal/img/Cisco_rec_page_2.jpg to pdf_img/Cisco_rec_page_2.jpg\n",
      "[2024-05-28 16:17:43,992] p4855 {utils.py:86} INFO - downloaded multimodal-blog2-bucket-121797993273-us-west-2/multimodal/img/Cisco_rec_page_3.jpg to pdf_img/Cisco_rec_page_3.jpg\n",
      "[2024-05-28 16:17:44,075] p4855 {utils.py:86} INFO - downloaded multimodal-blog2-bucket-121797993273-us-west-2/multimodal/img/Cisco_rec_page_4.jpg to pdf_img/Cisco_rec_page_4.jpg\n",
      "[2024-05-28 16:17:44,168] p4855 {utils.py:86} INFO - downloaded multimodal-blog2-bucket-121797993273-us-west-2/multimodal/img/Cisco_rec_page_5.jpg to pdf_img/Cisco_rec_page_5.jpg\n",
      "[2024-05-28 16:17:44,263] p4855 {utils.py:86} INFO - downloaded multimodal-blog2-bucket-121797993273-us-west-2/multimodal/img/Cisco_rec_page_6.jpg to pdf_img/Cisco_rec_page_6.jpg\n",
      "[2024-05-28 16:17:44,375] p4855 {utils.py:86} INFO - downloaded multimodal-blog2-bucket-121797993273-us-west-2/multimodal/img/Intel_rec_page_1.jpg to pdf_img/Intel_rec_page_1.jpg\n",
      "[2024-05-28 16:17:44,449] p4855 {utils.py:86} INFO - downloaded multimodal-blog2-bucket-121797993273-us-west-2/multimodal/img/Intel_rec_page_2.jpg to pdf_img/Intel_rec_page_2.jpg\n",
      "[2024-05-28 16:17:44,554] p4855 {utils.py:86} INFO - downloaded multimodal-blog2-bucket-121797993273-us-west-2/multimodal/img/Intel_rec_page_3.jpg to pdf_img/Intel_rec_page_3.jpg\n",
      "[2024-05-28 16:17:44,736] p4855 {utils.py:86} INFO - downloaded multimodal-blog2-bucket-121797993273-us-west-2/multimodal/img/Intel_rec_page_4.jpg to pdf_img/Intel_rec_page_4.jpg\n",
      "[2024-05-28 16:17:44,854] p4855 {utils.py:86} INFO - downloaded multimodal-blog2-bucket-121797993273-us-west-2/multimodal/img/Intel_rec_page_5.jpg to pdf_img/Intel_rec_page_5.jpg\n",
      "[2024-05-28 16:17:44,954] p4855 {utils.py:86} INFO - downloaded multimodal-blog2-bucket-121797993273-us-west-2/multimodal/img/Intel_rec_page_6.jpg to pdf_img/Intel_rec_page_6.jpg\n",
      "[2024-05-28 16:17:45,055] p4855 {utils.py:86} INFO - downloaded multimodal-blog2-bucket-121797993273-us-west-2/multimodal/img/Intel_rec_page_7.jpg to pdf_img/Intel_rec_page_7.jpg\n",
      "[2024-05-28 16:17:45,149] p4855 {utils.py:86} INFO - downloaded multimodal-blog2-bucket-121797993273-us-west-2/multimodal/img/Microsoft_rec_page_1.jpg to pdf_img/Microsoft_rec_page_1.jpg\n",
      "[2024-05-28 16:17:45,229] p4855 {utils.py:86} INFO - downloaded multimodal-blog2-bucket-121797993273-us-west-2/multimodal/img/Microsoft_rec_page_2.jpg to pdf_img/Microsoft_rec_page_2.jpg\n",
      "[2024-05-28 16:17:45,315] p4855 {utils.py:86} INFO - downloaded multimodal-blog2-bucket-121797993273-us-west-2/multimodal/img/Microsoft_rec_page_3.jpg to pdf_img/Microsoft_rec_page_3.jpg\n",
      "[2024-05-28 16:17:45,451] p4855 {utils.py:86} INFO - downloaded multimodal-blog2-bucket-121797993273-us-west-2/multimodal/img/Microsoft_rec_page_4.jpg to pdf_img/Microsoft_rec_page_4.jpg\n",
      "[2024-05-28 16:17:45,531] p4855 {utils.py:86} INFO - downloaded multimodal-blog2-bucket-121797993273-us-west-2/multimodal/img/Microsoft_rec_page_5.jpg to pdf_img/Microsoft_rec_page_5.jpg\n",
      "[2024-05-28 16:17:45,680] p4855 {utils.py:86} INFO - downloaded multimodal-blog2-bucket-121797993273-us-west-2/multimodal/img/Microsoft_rec_page_6.jpg to pdf_img/Microsoft_rec_page_6.jpg\n",
      "[2024-05-28 16:17:45,760] p4855 {utils.py:86} INFO - downloaded multimodal-blog2-bucket-121797993273-us-west-2/multimodal/img/Microsoft_rec_page_7.jpg to pdf_img/Microsoft_rec_page_7.jpg\n",
      "[2024-05-28 16:17:45,878] p4855 {utils.py:86} INFO - downloaded multimodal-blog2-bucket-121797993273-us-west-2/multimodal/img/tesla_rec_page_1.jpg to pdf_img/tesla_rec_page_1.jpg\n",
      "[2024-05-28 16:17:45,990] p4855 {utils.py:86} INFO - downloaded multimodal-blog2-bucket-121797993273-us-west-2/multimodal/img/tesla_rec_page_2.jpg to pdf_img/tesla_rec_page_2.jpg\n",
      "[2024-05-28 16:17:46,102] p4855 {utils.py:86} INFO - downloaded multimodal-blog2-bucket-121797993273-us-west-2/multimodal/img/tesla_rec_page_3.jpg to pdf_img/tesla_rec_page_3.jpg\n",
      "[2024-05-28 16:17:46,187] p4855 {utils.py:86} INFO - downloaded multimodal-blog2-bucket-121797993273-us-west-2/multimodal/img/tesla_rec_page_4.jpg to pdf_img/tesla_rec_page_4.jpg\n",
      "[2024-05-28 16:17:46,299] p4855 {utils.py:86} INFO - downloaded multimodal-blog2-bucket-121797993273-us-west-2/multimodal/img/tesla_rec_page_5.jpg to pdf_img/tesla_rec_page_5.jpg\n",
      "[2024-05-28 16:17:46,430] p4855 {utils.py:86} INFO - downloaded multimodal-blog2-bucket-121797993273-us-west-2/multimodal/pdf_text/AMD_rec_text_1.txt to multimodal/pdf_txt/AMD_rec_text_1.txt\n",
      "[2024-05-28 16:17:46,502] p4855 {utils.py:86} INFO - downloaded multimodal-blog2-bucket-121797993273-us-west-2/multimodal/pdf_text/AMD_rec_text_2.txt to multimodal/pdf_txt/AMD_rec_text_2.txt\n",
      "[2024-05-28 16:17:46,549] p4855 {utils.py:86} INFO - downloaded multimodal-blog2-bucket-121797993273-us-west-2/multimodal/pdf_text/AMD_rec_text_3.txt to multimodal/pdf_txt/AMD_rec_text_3.txt\n",
      "[2024-05-28 16:17:46,600] p4855 {utils.py:86} INFO - downloaded multimodal-blog2-bucket-121797993273-us-west-2/multimodal/pdf_text/AMD_rec_text_4.txt to multimodal/pdf_txt/AMD_rec_text_4.txt\n",
      "[2024-05-28 16:17:46,646] p4855 {utils.py:86} INFO - downloaded multimodal-blog2-bucket-121797993273-us-west-2/multimodal/pdf_text/AMD_rec_text_5.txt to multimodal/pdf_txt/AMD_rec_text_5.txt\n",
      "[2024-05-28 16:17:46,707] p4855 {utils.py:86} INFO - downloaded multimodal-blog2-bucket-121797993273-us-west-2/multimodal/pdf_text/AMD_rec_text_6.txt to multimodal/pdf_txt/AMD_rec_text_6.txt\n",
      "[2024-05-28 16:17:46,766] p4855 {utils.py:86} INFO - downloaded multimodal-blog2-bucket-121797993273-us-west-2/multimodal/pdf_text/AMD_rec_text_7.txt to multimodal/pdf_txt/AMD_rec_text_7.txt\n",
      "[2024-05-28 16:17:46,807] p4855 {utils.py:86} INFO - downloaded multimodal-blog2-bucket-121797993273-us-west-2/multimodal/pdf_text/APPLE_rec_text_1.txt to multimodal/pdf_txt/APPLE_rec_text_1.txt\n",
      "[2024-05-28 16:17:46,851] p4855 {utils.py:86} INFO - downloaded multimodal-blog2-bucket-121797993273-us-west-2/multimodal/pdf_text/APPLE_rec_text_2.txt to multimodal/pdf_txt/APPLE_rec_text_2.txt\n",
      "[2024-05-28 16:17:46,894] p4855 {utils.py:86} INFO - downloaded multimodal-blog2-bucket-121797993273-us-west-2/multimodal/pdf_text/APPLE_rec_text_3.txt to multimodal/pdf_txt/APPLE_rec_text_3.txt\n",
      "[2024-05-28 16:17:46,939] p4855 {utils.py:86} INFO - downloaded multimodal-blog2-bucket-121797993273-us-west-2/multimodal/pdf_text/APPLE_rec_text_4.txt to multimodal/pdf_txt/APPLE_rec_text_4.txt\n",
      "[2024-05-28 16:17:47,000] p4855 {utils.py:86} INFO - downloaded multimodal-blog2-bucket-121797993273-us-west-2/multimodal/pdf_text/APPLE_rec_text_5.txt to multimodal/pdf_txt/APPLE_rec_text_5.txt\n",
      "[2024-05-28 16:17:47,076] p4855 {utils.py:86} INFO - downloaded multimodal-blog2-bucket-121797993273-us-west-2/multimodal/pdf_text/APPLE_rec_text_6.txt to multimodal/pdf_txt/APPLE_rec_text_6.txt\n",
      "[2024-05-28 16:17:47,137] p4855 {utils.py:86} INFO - downloaded multimodal-blog2-bucket-121797993273-us-west-2/multimodal/pdf_text/Amazon_rec_text_1.txt to multimodal/pdf_txt/Amazon_rec_text_1.txt\n",
      "[2024-05-28 16:17:47,185] p4855 {utils.py:86} INFO - downloaded multimodal-blog2-bucket-121797993273-us-west-2/multimodal/pdf_text/Amazon_rec_text_2.txt to multimodal/pdf_txt/Amazon_rec_text_2.txt\n",
      "[2024-05-28 16:17:47,263] p4855 {utils.py:86} INFO - downloaded multimodal-blog2-bucket-121797993273-us-west-2/multimodal/pdf_text/Amazon_rec_text_3.txt to multimodal/pdf_txt/Amazon_rec_text_3.txt\n",
      "[2024-05-28 16:17:47,384] p4855 {utils.py:86} INFO - downloaded multimodal-blog2-bucket-121797993273-us-west-2/multimodal/pdf_text/Amazon_rec_text_4.txt to multimodal/pdf_txt/Amazon_rec_text_4.txt\n",
      "[2024-05-28 16:17:47,436] p4855 {utils.py:86} INFO - downloaded multimodal-blog2-bucket-121797993273-us-west-2/multimodal/pdf_text/Amazon_rec_text_5.txt to multimodal/pdf_txt/Amazon_rec_text_5.txt\n",
      "[2024-05-28 16:17:47,479] p4855 {utils.py:86} INFO - downloaded multimodal-blog2-bucket-121797993273-us-west-2/multimodal/pdf_text/Amazon_rec_text_6.txt to multimodal/pdf_txt/Amazon_rec_text_6.txt\n",
      "[2024-05-28 16:17:47,518] p4855 {utils.py:86} INFO - downloaded multimodal-blog2-bucket-121797993273-us-west-2/multimodal/pdf_text/Boeing_rec_text_1.txt to multimodal/pdf_txt/Boeing_rec_text_1.txt\n",
      "[2024-05-28 16:17:47,549] p4855 {utils.py:86} INFO - downloaded multimodal-blog2-bucket-121797993273-us-west-2/multimodal/pdf_text/Boeing_rec_text_2.txt to multimodal/pdf_txt/Boeing_rec_text_2.txt\n",
      "[2024-05-28 16:17:47,613] p4855 {utils.py:86} INFO - downloaded multimodal-blog2-bucket-121797993273-us-west-2/multimodal/pdf_text/Boeing_rec_text_3.txt to multimodal/pdf_txt/Boeing_rec_text_3.txt\n",
      "[2024-05-28 16:17:47,684] p4855 {utils.py:86} INFO - downloaded multimodal-blog2-bucket-121797993273-us-west-2/multimodal/pdf_text/Boeing_rec_text_4.txt to multimodal/pdf_txt/Boeing_rec_text_4.txt\n",
      "[2024-05-28 16:17:47,741] p4855 {utils.py:86} INFO - downloaded multimodal-blog2-bucket-121797993273-us-west-2/multimodal/pdf_text/Boeing_rec_text_5.txt to multimodal/pdf_txt/Boeing_rec_text_5.txt\n",
      "[2024-05-28 16:17:47,793] p4855 {utils.py:86} INFO - downloaded multimodal-blog2-bucket-121797993273-us-west-2/multimodal/pdf_text/Cisco_rec_text_1.txt to multimodal/pdf_txt/Cisco_rec_text_1.txt\n",
      "[2024-05-28 16:17:47,872] p4855 {utils.py:86} INFO - downloaded multimodal-blog2-bucket-121797993273-us-west-2/multimodal/pdf_text/Cisco_rec_text_2.txt to multimodal/pdf_txt/Cisco_rec_text_2.txt\n",
      "[2024-05-28 16:17:47,930] p4855 {utils.py:86} INFO - downloaded multimodal-blog2-bucket-121797993273-us-west-2/multimodal/pdf_text/Cisco_rec_text_3.txt to multimodal/pdf_txt/Cisco_rec_text_3.txt\n",
      "[2024-05-28 16:17:47,987] p4855 {utils.py:86} INFO - downloaded multimodal-blog2-bucket-121797993273-us-west-2/multimodal/pdf_text/Cisco_rec_text_4.txt to multimodal/pdf_txt/Cisco_rec_text_4.txt\n",
      "[2024-05-28 16:17:48,053] p4855 {utils.py:86} INFO - downloaded multimodal-blog2-bucket-121797993273-us-west-2/multimodal/pdf_text/Cisco_rec_text_5.txt to multimodal/pdf_txt/Cisco_rec_text_5.txt\n",
      "[2024-05-28 16:17:48,102] p4855 {utils.py:86} INFO - downloaded multimodal-blog2-bucket-121797993273-us-west-2/multimodal/pdf_text/Cisco_rec_text_6.txt to multimodal/pdf_txt/Cisco_rec_text_6.txt\n",
      "[2024-05-28 16:17:48,180] p4855 {utils.py:86} INFO - downloaded multimodal-blog2-bucket-121797993273-us-west-2/multimodal/pdf_text/Intel_rec_text_1.txt to multimodal/pdf_txt/Intel_rec_text_1.txt\n",
      "[2024-05-28 16:17:48,251] p4855 {utils.py:86} INFO - downloaded multimodal-blog2-bucket-121797993273-us-west-2/multimodal/pdf_text/Intel_rec_text_2.txt to multimodal/pdf_txt/Intel_rec_text_2.txt\n",
      "[2024-05-28 16:17:48,308] p4855 {utils.py:86} INFO - downloaded multimodal-blog2-bucket-121797993273-us-west-2/multimodal/pdf_text/Intel_rec_text_3.txt to multimodal/pdf_txt/Intel_rec_text_3.txt\n",
      "[2024-05-28 16:17:48,351] p4855 {utils.py:86} INFO - downloaded multimodal-blog2-bucket-121797993273-us-west-2/multimodal/pdf_text/Intel_rec_text_4.txt to multimodal/pdf_txt/Intel_rec_text_4.txt\n",
      "[2024-05-28 16:17:48,389] p4855 {utils.py:86} INFO - downloaded multimodal-blog2-bucket-121797993273-us-west-2/multimodal/pdf_text/Intel_rec_text_5.txt to multimodal/pdf_txt/Intel_rec_text_5.txt\n",
      "[2024-05-28 16:17:48,462] p4855 {utils.py:86} INFO - downloaded multimodal-blog2-bucket-121797993273-us-west-2/multimodal/pdf_text/Intel_rec_text_6.txt to multimodal/pdf_txt/Intel_rec_text_6.txt\n",
      "[2024-05-28 16:17:48,501] p4855 {utils.py:86} INFO - downloaded multimodal-blog2-bucket-121797993273-us-west-2/multimodal/pdf_text/Intel_rec_text_7.txt to multimodal/pdf_txt/Intel_rec_text_7.txt\n",
      "[2024-05-28 16:17:48,561] p4855 {utils.py:86} INFO - downloaded multimodal-blog2-bucket-121797993273-us-west-2/multimodal/pdf_text/Microsoft_rec_text_1.txt to multimodal/pdf_txt/Microsoft_rec_text_1.txt\n",
      "[2024-05-28 16:17:48,626] p4855 {utils.py:86} INFO - downloaded multimodal-blog2-bucket-121797993273-us-west-2/multimodal/pdf_text/Microsoft_rec_text_2.txt to multimodal/pdf_txt/Microsoft_rec_text_2.txt\n",
      "[2024-05-28 16:17:48,679] p4855 {utils.py:86} INFO - downloaded multimodal-blog2-bucket-121797993273-us-west-2/multimodal/pdf_text/Microsoft_rec_text_3.txt to multimodal/pdf_txt/Microsoft_rec_text_3.txt\n",
      "[2024-05-28 16:17:48,717] p4855 {utils.py:86} INFO - downloaded multimodal-blog2-bucket-121797993273-us-west-2/multimodal/pdf_text/Microsoft_rec_text_4.txt to multimodal/pdf_txt/Microsoft_rec_text_4.txt\n",
      "[2024-05-28 16:17:48,752] p4855 {utils.py:86} INFO - downloaded multimodal-blog2-bucket-121797993273-us-west-2/multimodal/pdf_text/Microsoft_rec_text_5.txt to multimodal/pdf_txt/Microsoft_rec_text_5.txt\n",
      "[2024-05-28 16:17:48,798] p4855 {utils.py:86} INFO - downloaded multimodal-blog2-bucket-121797993273-us-west-2/multimodal/pdf_text/Microsoft_rec_text_6.txt to multimodal/pdf_txt/Microsoft_rec_text_6.txt\n",
      "[2024-05-28 16:17:48,847] p4855 {utils.py:86} INFO - downloaded multimodal-blog2-bucket-121797993273-us-west-2/multimodal/pdf_text/Microsoft_rec_text_7.txt to multimodal/pdf_txt/Microsoft_rec_text_7.txt\n",
      "[2024-05-28 16:17:48,888] p4855 {utils.py:86} INFO - downloaded multimodal-blog2-bucket-121797993273-us-west-2/multimodal/pdf_text/tesla_rec_text_1.txt to multimodal/pdf_txt/tesla_rec_text_1.txt\n",
      "[2024-05-28 16:17:48,935] p4855 {utils.py:86} INFO - downloaded multimodal-blog2-bucket-121797993273-us-west-2/multimodal/pdf_text/tesla_rec_text_2.txt to multimodal/pdf_txt/tesla_rec_text_2.txt\n",
      "[2024-05-28 16:17:48,972] p4855 {utils.py:86} INFO - downloaded multimodal-blog2-bucket-121797993273-us-west-2/multimodal/pdf_text/tesla_rec_text_3.txt to multimodal/pdf_txt/tesla_rec_text_3.txt\n",
      "[2024-05-28 16:17:49,036] p4855 {utils.py:86} INFO - downloaded multimodal-blog2-bucket-121797993273-us-west-2/multimodal/pdf_text/tesla_rec_text_4.txt to multimodal/pdf_txt/tesla_rec_text_4.txt\n",
      "[2024-05-28 16:17:49,076] p4855 {utils.py:86} INFO - downloaded multimodal-blog2-bucket-121797993273-us-west-2/multimodal/pdf_text/tesla_rec_text_5.txt to multimodal/pdf_txt/tesla_rec_text_5.txt\n",
      "[2024-05-28 16:17:49,077] p4855 {1260737263.py:7} INFO - downloaded 98 files from s3\n"
     ]
    }
   ],
   "source": [
    "os.makedirs(g.PDF_IMAGE_DIR, exist_ok=True)\n",
    "os.makedirs(g.PDF_TEXT_DIR, exist_ok=True)\n",
    "if config['content_info']['content_type'] == 'pdf':\n",
    "    # download images from S3, we would be converting these to embeddings\n",
    "    image_files: List = download_image_files_from_s3(bucket_name, g.BUCKET_IMG_PREFIX, g.PDF_IMAGE_DIR, g.IMAGE_FILE_EXTN)\n",
    "    text_files: List = download_image_files_from_s3(bucket_name, g.BUCKET_PDF_TEXT_PREFIX, g.PDF_TEXT_DIR, g.TEXT_FILE_EXTN)\n",
    "    logger.info(f\"downloaded {len(image_files) + len(text_files)} files from s3\")\n",
    "elif config['content_info']['content_type'] == 'slide_deck':\n",
    "    # download images from S3, we would be converting these to embeddings\n",
    "    image_files: List = download_image_files_from_s3(bucket_name, g.BUCKET_IMG_PREFIX, g.IMAGE_DIR, g.IMAGE_FILE_EXTN)\n",
    "    logger.info(f\"downloaded {len(image_files)} from s3\")\n",
    "else:\n",
    "    logger.error(f\"No content type provided. Must be either a 'pdf' or a 'slide_deck'\")"
   ]
  },
  {
   "cell_type": "markdown",
   "id": "c70833d4-b585-477b-93ec-5556c994b9ba",
   "metadata": {},
   "source": [
    "#### Convert jpg files into Base64."
   ]
  },
  {
   "cell_type": "code",
   "execution_count": 16,
   "id": "6e2c8f80-d457-46d5-9d20-f1ca8ebe106b",
   "metadata": {
    "tags": []
   },
   "outputs": [],
   "source": [
    "def encode_image_to_base64(image_file_path: str) -> str:\n",
    "    with open(image_file_path, \"rb\") as image_file:\n",
    "        b64_image = base64.b64encode(image_file.read()).decode('utf8')\n",
    "        b64_image_path = os.path.join(g.B64_ENCODED_IMAGES_DIR, f\"{Path(image_file_path).stem}.b64\")\n",
    "        with open(b64_image_path, \"wb\") as b64_image_file:\n",
    "            b64_image_file.write(bytes(b64_image, 'utf-8'))\n",
    "    return b64_image_path"
   ]
  },
  {
   "cell_type": "markdown",
   "id": "d1d70875-7b8b-44ff-bb5a-0f8b9e43adca",
   "metadata": {},
   "source": [
    "## Step 3. Get embeddings for the base64 encoded images\n",
    "\n",
    "Now we are ready to use Amazon Bedrock via the  Anthropic’s Claude 3 Sonnet foundation model and Amazon Titan Text Embeddings model to convert the base64 version of the images into embeddings. We ingest embeddings into the pipeline using the [requests](https://pypi.org/project/requests/) HTTP library\n",
    "\n",
    "You must sign all HTTP requests to the pipeline using [Signature Version 4](https://docs.aws.amazon.com/general/latest/gr/signature-version-4.html)."
   ]
  },
  {
   "cell_type": "code",
   "execution_count": 17,
   "id": "aef0ed32-9e7f-448b-93d5-ef0e65404f8d",
   "metadata": {
    "tags": []
   },
   "outputs": [],
   "source": [
    "def get_img_desc(image_file_path: str, prompt: str):\n",
    "    # bedrock = boto3.client(service_name=\"bedrock-runtime\", region_name=g.AWS_REGION, endpoint_url=g.TITAN_URL)\n",
    "    bedrock = boto3.client(service_name=\"bedrock-runtime\", region_name=region, endpoint_url=endpoint_url)\n",
    "    # read the file, MAX image size supported is 2048 * 2048 pixels\n",
    "    with open(image_file_path, \"rb\") as image_file:\n",
    "        input_image_b64 = image_file.read().decode('utf-8')\n",
    "\n",
    "    body = json.dumps(\n",
    "        {\n",
    "            \"anthropic_version\": \"bedrock-2023-05-31\",\n",
    "            \"max_tokens\": 1000,\n",
    "            \"messages\": [\n",
    "                {\n",
    "                    \"role\": \"user\",\n",
    "                    \"content\": [\n",
    "                        {\n",
    "                            \"type\": \"image\",\n",
    "                            \"source\": {\n",
    "                                \"type\": \"base64\",\n",
    "                                \"media_type\": \"image/jpeg\",\n",
    "                                \"data\": input_image_b64\n",
    "                            },\n",
    "                        },\n",
    "                        {\"type\": \"text\", \"text\": prompt},\n",
    "                    ],\n",
    "                }\n",
    "            ],\n",
    "        }\n",
    "    )\n",
    "\n",
    "    response = bedrock.invoke_model(\n",
    "        modelId=claude_model_id,\n",
    "        body=body\n",
    "    )\n",
    "\n",
    "    resp_body = json.loads(response['body'].read().decode(\"utf-8\"))\n",
    "    resp_text = resp_body['content'][0]['text'].replace('\"', \"'\")\n",
    "\n",
    "    return resp_text"
   ]
  },
  {
   "cell_type": "markdown",
   "id": "4fcf7db4-5d1f-4b12-99ec-a5484cc55036",
   "metadata": {},
   "source": [
    "### Download image files from S3 "
   ]
  },
  {
   "cell_type": "code",
   "execution_count": 18,
   "id": "952d6845-1dc7-4d47-b296-d717a25d2494",
   "metadata": {
    "collapsed": true,
    "jupyter": {
     "outputs_hidden": true
    },
    "tags": []
   },
   "outputs": [
    {
     "name": "stderr",
     "output_type": "stream",
     "text": [
      "[2024-05-28 16:17:49,225] p4855 {utils.py:86} INFO - downloaded multimodal-blog2-bucket-121797993273-us-west-2/multimodal/img/AMD_rec_page_1.jpg to pdf_img/AMD_rec_page_1.jpg\n",
      "[2024-05-28 16:17:49,289] p4855 {utils.py:86} INFO - downloaded multimodal-blog2-bucket-121797993273-us-west-2/multimodal/img/AMD_rec_page_2.jpg to pdf_img/AMD_rec_page_2.jpg\n",
      "[2024-05-28 16:17:49,348] p4855 {utils.py:86} INFO - downloaded multimodal-blog2-bucket-121797993273-us-west-2/multimodal/img/AMD_rec_page_3.jpg to pdf_img/AMD_rec_page_3.jpg\n",
      "[2024-05-28 16:17:49,386] p4855 {utils.py:86} INFO - downloaded multimodal-blog2-bucket-121797993273-us-west-2/multimodal/img/AMD_rec_page_4.jpg to pdf_img/AMD_rec_page_4.jpg\n",
      "[2024-05-28 16:17:49,436] p4855 {utils.py:86} INFO - downloaded multimodal-blog2-bucket-121797993273-us-west-2/multimodal/img/AMD_rec_page_5.jpg to pdf_img/AMD_rec_page_5.jpg\n",
      "[2024-05-28 16:17:49,516] p4855 {utils.py:86} INFO - downloaded multimodal-blog2-bucket-121797993273-us-west-2/multimodal/img/AMD_rec_page_6.jpg to pdf_img/AMD_rec_page_6.jpg\n",
      "[2024-05-28 16:17:49,575] p4855 {utils.py:86} INFO - downloaded multimodal-blog2-bucket-121797993273-us-west-2/multimodal/img/AMD_rec_page_7.jpg to pdf_img/AMD_rec_page_7.jpg\n",
      "[2024-05-28 16:17:49,632] p4855 {utils.py:86} INFO - downloaded multimodal-blog2-bucket-121797993273-us-west-2/multimodal/img/APPLE_rec_page_1.jpg to pdf_img/APPLE_rec_page_1.jpg\n",
      "[2024-05-28 16:17:49,689] p4855 {utils.py:86} INFO - downloaded multimodal-blog2-bucket-121797993273-us-west-2/multimodal/img/APPLE_rec_page_2.jpg to pdf_img/APPLE_rec_page_2.jpg\n",
      "[2024-05-28 16:17:49,740] p4855 {utils.py:86} INFO - downloaded multimodal-blog2-bucket-121797993273-us-west-2/multimodal/img/APPLE_rec_page_3.jpg to pdf_img/APPLE_rec_page_3.jpg\n",
      "[2024-05-28 16:17:49,826] p4855 {utils.py:86} INFO - downloaded multimodal-blog2-bucket-121797993273-us-west-2/multimodal/img/APPLE_rec_page_4.jpg to pdf_img/APPLE_rec_page_4.jpg\n",
      "[2024-05-28 16:17:49,870] p4855 {utils.py:86} INFO - downloaded multimodal-blog2-bucket-121797993273-us-west-2/multimodal/img/APPLE_rec_page_5.jpg to pdf_img/APPLE_rec_page_5.jpg\n",
      "[2024-05-28 16:17:49,916] p4855 {utils.py:86} INFO - downloaded multimodal-blog2-bucket-121797993273-us-west-2/multimodal/img/APPLE_rec_page_6.jpg to pdf_img/APPLE_rec_page_6.jpg\n",
      "[2024-05-28 16:17:49,994] p4855 {utils.py:86} INFO - downloaded multimodal-blog2-bucket-121797993273-us-west-2/multimodal/img/Amazon_rec_page_1.jpg to pdf_img/Amazon_rec_page_1.jpg\n",
      "[2024-05-28 16:17:50,049] p4855 {utils.py:86} INFO - downloaded multimodal-blog2-bucket-121797993273-us-west-2/multimodal/img/Amazon_rec_page_2.jpg to pdf_img/Amazon_rec_page_2.jpg\n",
      "[2024-05-28 16:17:50,098] p4855 {utils.py:86} INFO - downloaded multimodal-blog2-bucket-121797993273-us-west-2/multimodal/img/Amazon_rec_page_3.jpg to pdf_img/Amazon_rec_page_3.jpg\n",
      "[2024-05-28 16:17:50,171] p4855 {utils.py:86} INFO - downloaded multimodal-blog2-bucket-121797993273-us-west-2/multimodal/img/Amazon_rec_page_4.jpg to pdf_img/Amazon_rec_page_4.jpg\n",
      "[2024-05-28 16:17:50,211] p4855 {utils.py:86} INFO - downloaded multimodal-blog2-bucket-121797993273-us-west-2/multimodal/img/Amazon_rec_page_5.jpg to pdf_img/Amazon_rec_page_5.jpg\n",
      "[2024-05-28 16:17:50,251] p4855 {utils.py:86} INFO - downloaded multimodal-blog2-bucket-121797993273-us-west-2/multimodal/img/Amazon_rec_page_6.jpg to pdf_img/Amazon_rec_page_6.jpg\n",
      "[2024-05-28 16:17:50,308] p4855 {utils.py:86} INFO - downloaded multimodal-blog2-bucket-121797993273-us-west-2/multimodal/img/Boeing_rec_page_1.jpg to pdf_img/Boeing_rec_page_1.jpg\n",
      "[2024-05-28 16:17:50,366] p4855 {utils.py:86} INFO - downloaded multimodal-blog2-bucket-121797993273-us-west-2/multimodal/img/Boeing_rec_page_2.jpg to pdf_img/Boeing_rec_page_2.jpg\n",
      "[2024-05-28 16:17:50,435] p4855 {utils.py:86} INFO - downloaded multimodal-blog2-bucket-121797993273-us-west-2/multimodal/img/Boeing_rec_page_3.jpg to pdf_img/Boeing_rec_page_3.jpg\n",
      "[2024-05-28 16:17:50,547] p4855 {utils.py:86} INFO - downloaded multimodal-blog2-bucket-121797993273-us-west-2/multimodal/img/Boeing_rec_page_4.jpg to pdf_img/Boeing_rec_page_4.jpg\n",
      "[2024-05-28 16:17:50,583] p4855 {utils.py:86} INFO - downloaded multimodal-blog2-bucket-121797993273-us-west-2/multimodal/img/Boeing_rec_page_5.jpg to pdf_img/Boeing_rec_page_5.jpg\n",
      "[2024-05-28 16:17:50,675] p4855 {utils.py:86} INFO - downloaded multimodal-blog2-bucket-121797993273-us-west-2/multimodal/img/Cisco_rec_page_1.jpg to pdf_img/Cisco_rec_page_1.jpg\n",
      "[2024-05-28 16:17:50,735] p4855 {utils.py:86} INFO - downloaded multimodal-blog2-bucket-121797993273-us-west-2/multimodal/img/Cisco_rec_page_2.jpg to pdf_img/Cisco_rec_page_2.jpg\n",
      "[2024-05-28 16:17:50,807] p4855 {utils.py:86} INFO - downloaded multimodal-blog2-bucket-121797993273-us-west-2/multimodal/img/Cisco_rec_page_3.jpg to pdf_img/Cisco_rec_page_3.jpg\n",
      "[2024-05-28 16:17:50,859] p4855 {utils.py:86} INFO - downloaded multimodal-blog2-bucket-121797993273-us-west-2/multimodal/img/Cisco_rec_page_4.jpg to pdf_img/Cisco_rec_page_4.jpg\n",
      "[2024-05-28 16:17:50,913] p4855 {utils.py:86} INFO - downloaded multimodal-blog2-bucket-121797993273-us-west-2/multimodal/img/Cisco_rec_page_5.jpg to pdf_img/Cisco_rec_page_5.jpg\n",
      "[2024-05-28 16:17:50,951] p4855 {utils.py:86} INFO - downloaded multimodal-blog2-bucket-121797993273-us-west-2/multimodal/img/Cisco_rec_page_6.jpg to pdf_img/Cisco_rec_page_6.jpg\n",
      "[2024-05-28 16:17:50,993] p4855 {utils.py:86} INFO - downloaded multimodal-blog2-bucket-121797993273-us-west-2/multimodal/img/Intel_rec_page_1.jpg to pdf_img/Intel_rec_page_1.jpg\n",
      "[2024-05-28 16:17:51,036] p4855 {utils.py:86} INFO - downloaded multimodal-blog2-bucket-121797993273-us-west-2/multimodal/img/Intel_rec_page_2.jpg to pdf_img/Intel_rec_page_2.jpg\n",
      "[2024-05-28 16:17:51,124] p4855 {utils.py:86} INFO - downloaded multimodal-blog2-bucket-121797993273-us-west-2/multimodal/img/Intel_rec_page_3.jpg to pdf_img/Intel_rec_page_3.jpg\n",
      "[2024-05-28 16:17:51,188] p4855 {utils.py:86} INFO - downloaded multimodal-blog2-bucket-121797993273-us-west-2/multimodal/img/Intel_rec_page_4.jpg to pdf_img/Intel_rec_page_4.jpg\n",
      "[2024-05-28 16:17:51,226] p4855 {utils.py:86} INFO - downloaded multimodal-blog2-bucket-121797993273-us-west-2/multimodal/img/Intel_rec_page_5.jpg to pdf_img/Intel_rec_page_5.jpg\n",
      "[2024-05-28 16:17:51,256] p4855 {utils.py:86} INFO - downloaded multimodal-blog2-bucket-121797993273-us-west-2/multimodal/img/Intel_rec_page_6.jpg to pdf_img/Intel_rec_page_6.jpg\n",
      "[2024-05-28 16:17:51,322] p4855 {utils.py:86} INFO - downloaded multimodal-blog2-bucket-121797993273-us-west-2/multimodal/img/Intel_rec_page_7.jpg to pdf_img/Intel_rec_page_7.jpg\n",
      "[2024-05-28 16:17:51,378] p4855 {utils.py:86} INFO - downloaded multimodal-blog2-bucket-121797993273-us-west-2/multimodal/img/Microsoft_rec_page_1.jpg to pdf_img/Microsoft_rec_page_1.jpg\n",
      "[2024-05-28 16:17:51,440] p4855 {utils.py:86} INFO - downloaded multimodal-blog2-bucket-121797993273-us-west-2/multimodal/img/Microsoft_rec_page_2.jpg to pdf_img/Microsoft_rec_page_2.jpg\n",
      "[2024-05-28 16:17:51,501] p4855 {utils.py:86} INFO - downloaded multimodal-blog2-bucket-121797993273-us-west-2/multimodal/img/Microsoft_rec_page_3.jpg to pdf_img/Microsoft_rec_page_3.jpg\n",
      "[2024-05-28 16:17:51,555] p4855 {utils.py:86} INFO - downloaded multimodal-blog2-bucket-121797993273-us-west-2/multimodal/img/Microsoft_rec_page_4.jpg to pdf_img/Microsoft_rec_page_4.jpg\n",
      "[2024-05-28 16:17:51,597] p4855 {utils.py:86} INFO - downloaded multimodal-blog2-bucket-121797993273-us-west-2/multimodal/img/Microsoft_rec_page_5.jpg to pdf_img/Microsoft_rec_page_5.jpg\n",
      "[2024-05-28 16:17:51,642] p4855 {utils.py:86} INFO - downloaded multimodal-blog2-bucket-121797993273-us-west-2/multimodal/img/Microsoft_rec_page_6.jpg to pdf_img/Microsoft_rec_page_6.jpg\n",
      "[2024-05-28 16:17:51,722] p4855 {utils.py:86} INFO - downloaded multimodal-blog2-bucket-121797993273-us-west-2/multimodal/img/Microsoft_rec_page_7.jpg to pdf_img/Microsoft_rec_page_7.jpg\n",
      "[2024-05-28 16:17:51,758] p4855 {utils.py:86} INFO - downloaded multimodal-blog2-bucket-121797993273-us-west-2/multimodal/img/tesla_rec_page_1.jpg to pdf_img/tesla_rec_page_1.jpg\n",
      "[2024-05-28 16:17:51,806] p4855 {utils.py:86} INFO - downloaded multimodal-blog2-bucket-121797993273-us-west-2/multimodal/img/tesla_rec_page_2.jpg to pdf_img/tesla_rec_page_2.jpg\n",
      "[2024-05-28 16:17:51,856] p4855 {utils.py:86} INFO - downloaded multimodal-blog2-bucket-121797993273-us-west-2/multimodal/img/tesla_rec_page_3.jpg to pdf_img/tesla_rec_page_3.jpg\n",
      "[2024-05-28 16:17:51,902] p4855 {utils.py:86} INFO - downloaded multimodal-blog2-bucket-121797993273-us-west-2/multimodal/img/tesla_rec_page_4.jpg to pdf_img/tesla_rec_page_4.jpg\n",
      "[2024-05-28 16:17:51,996] p4855 {utils.py:86} INFO - downloaded multimodal-blog2-bucket-121797993273-us-west-2/multimodal/img/tesla_rec_page_5.jpg to pdf_img/tesla_rec_page_5.jpg\n",
      "[2024-05-28 16:17:51,997] p4855 {3829758641.py:4} INFO - downloaded 49 from s3\n"
     ]
    }
   ],
   "source": [
    "if config['content_info']['content_type'] == 'pdf':\n",
    "    # this is for the pdf file images\n",
    "    image_files: List = download_image_files_from_s3(bucket_name, g.BUCKET_IMG_PREFIX, g.PDF_IMAGE_DIR, g.IMAGE_FILE_EXTN)\n",
    "    logger.info(f\"downloaded {len(image_files)} from s3\")\n",
    "elif config['content_info']['content_type'] == 'slide_deck':\n",
    "    # download images from S3, we would be converting these to embeddings\n",
    "    image_files: List = download_image_files_from_s3(bucket_name, g.BUCKET_IMG_PREFIX, g.IMAGE_DIR, g.IMAGE_FILE_EXTN)\n",
    "    logger.info(f\"downloaded {len(image_files)} from s3\")"
   ]
  },
  {
   "cell_type": "code",
   "execution_count": 19,
   "id": "b67111d9-359d-46fe-997e-cbb8e5f7992f",
   "metadata": {
    "tags": []
   },
   "outputs": [
    {
     "name": "stderr",
     "output_type": "stream",
     "text": [
      "[2024-05-28 16:17:52,017] p4855 {1612947034.py:4} INFO - there are 49 pdf image files in the pdf_img directory for conversion to base64\n",
      "[2024-05-28 16:17:52,171] p4855 {1612947034.py:11} INFO - base64 conversion done, there are 49 base64 encoded files\n"
     ]
    }
   ],
   "source": [
    "os.makedirs(g.B64_ENCODED_IMAGES_DIR, exist_ok=True)\n",
    "if config['content_info']['content_type'] == 'pdf':\n",
    "    file_list: List = glob.glob(os.path.join(g.PDF_IMAGE_DIR, f\"*{g.IMAGE_FILE_EXTN}\"))\n",
    "    logger.info(f\"there are {len(file_list)} pdf image files in the {g.PDF_IMAGE_DIR} directory for conversion to base64\")\n",
    "elif config['content_info']['content_type'] == 'slide_deck':\n",
    "    file_list: List = glob.glob(os.path.join(g.IMAGE_DIR, f\"*{g.IMAGE_FILE_EXTN}\"))\n",
    "    logger.info(f\"there are {len(file_list)} files in the {g.IMAGE_DIR} directory for conversion to base64\")\n",
    "\n",
    "# convert each file to base64 and store the base64 in a new file\n",
    "b64_image_file_list = list(map(encode_image_to_base64, file_list))\n",
    "logger.info(f\"base64 conversion done, there are {len(b64_image_file_list)} base64 encoded files\")"
   ]
  },
  {
   "cell_type": "markdown",
   "id": "a1431afe-11b1-4c88-bee1-78e9aeac0f8e",
   "metadata": {},
   "source": [
    "### Download text files from S3 "
   ]
  },
  {
   "cell_type": "code",
   "execution_count": 20,
   "id": "2418a859-5381-45e3-a36e-e4cdcf362a54",
   "metadata": {
    "collapsed": true,
    "jupyter": {
     "outputs_hidden": true
    },
    "tags": []
   },
   "outputs": [
    {
     "name": "stderr",
     "output_type": "stream",
     "text": [
      "[2024-05-28 16:17:52,257] p4855 {utils.py:86} INFO - downloaded multimodal-blog2-bucket-121797993273-us-west-2/multimodal/pdf_text/AMD_rec_text_1.txt to multimodal/pdf_txt/AMD_rec_text_1.txt\n",
      "[2024-05-28 16:17:52,332] p4855 {utils.py:86} INFO - downloaded multimodal-blog2-bucket-121797993273-us-west-2/multimodal/pdf_text/AMD_rec_text_2.txt to multimodal/pdf_txt/AMD_rec_text_2.txt\n",
      "[2024-05-28 16:17:52,381] p4855 {utils.py:86} INFO - downloaded multimodal-blog2-bucket-121797993273-us-west-2/multimodal/pdf_text/AMD_rec_text_3.txt to multimodal/pdf_txt/AMD_rec_text_3.txt\n",
      "[2024-05-28 16:17:52,426] p4855 {utils.py:86} INFO - downloaded multimodal-blog2-bucket-121797993273-us-west-2/multimodal/pdf_text/AMD_rec_text_4.txt to multimodal/pdf_txt/AMD_rec_text_4.txt\n",
      "[2024-05-28 16:17:52,516] p4855 {utils.py:86} INFO - downloaded multimodal-blog2-bucket-121797993273-us-west-2/multimodal/pdf_text/AMD_rec_text_5.txt to multimodal/pdf_txt/AMD_rec_text_5.txt\n",
      "[2024-05-28 16:17:52,554] p4855 {utils.py:86} INFO - downloaded multimodal-blog2-bucket-121797993273-us-west-2/multimodal/pdf_text/AMD_rec_text_6.txt to multimodal/pdf_txt/AMD_rec_text_6.txt\n",
      "[2024-05-28 16:17:52,586] p4855 {utils.py:86} INFO - downloaded multimodal-blog2-bucket-121797993273-us-west-2/multimodal/pdf_text/AMD_rec_text_7.txt to multimodal/pdf_txt/AMD_rec_text_7.txt\n",
      "[2024-05-28 16:17:52,620] p4855 {utils.py:86} INFO - downloaded multimodal-blog2-bucket-121797993273-us-west-2/multimodal/pdf_text/APPLE_rec_text_1.txt to multimodal/pdf_txt/APPLE_rec_text_1.txt\n",
      "[2024-05-28 16:17:52,650] p4855 {utils.py:86} INFO - downloaded multimodal-blog2-bucket-121797993273-us-west-2/multimodal/pdf_text/APPLE_rec_text_2.txt to multimodal/pdf_txt/APPLE_rec_text_2.txt\n",
      "[2024-05-28 16:17:52,705] p4855 {utils.py:86} INFO - downloaded multimodal-blog2-bucket-121797993273-us-west-2/multimodal/pdf_text/APPLE_rec_text_3.txt to multimodal/pdf_txt/APPLE_rec_text_3.txt\n",
      "[2024-05-28 16:17:52,786] p4855 {utils.py:86} INFO - downloaded multimodal-blog2-bucket-121797993273-us-west-2/multimodal/pdf_text/APPLE_rec_text_4.txt to multimodal/pdf_txt/APPLE_rec_text_4.txt\n",
      "[2024-05-28 16:17:52,846] p4855 {utils.py:86} INFO - downloaded multimodal-blog2-bucket-121797993273-us-west-2/multimodal/pdf_text/APPLE_rec_text_5.txt to multimodal/pdf_txt/APPLE_rec_text_5.txt\n",
      "[2024-05-28 16:17:52,884] p4855 {utils.py:86} INFO - downloaded multimodal-blog2-bucket-121797993273-us-west-2/multimodal/pdf_text/APPLE_rec_text_6.txt to multimodal/pdf_txt/APPLE_rec_text_6.txt\n",
      "[2024-05-28 16:17:52,935] p4855 {utils.py:86} INFO - downloaded multimodal-blog2-bucket-121797993273-us-west-2/multimodal/pdf_text/Amazon_rec_text_1.txt to multimodal/pdf_txt/Amazon_rec_text_1.txt\n",
      "[2024-05-28 16:17:52,979] p4855 {utils.py:86} INFO - downloaded multimodal-blog2-bucket-121797993273-us-west-2/multimodal/pdf_text/Amazon_rec_text_2.txt to multimodal/pdf_txt/Amazon_rec_text_2.txt\n",
      "[2024-05-28 16:17:53,054] p4855 {utils.py:86} INFO - downloaded multimodal-blog2-bucket-121797993273-us-west-2/multimodal/pdf_text/Amazon_rec_text_3.txt to multimodal/pdf_txt/Amazon_rec_text_3.txt\n",
      "[2024-05-28 16:17:53,087] p4855 {utils.py:86} INFO - downloaded multimodal-blog2-bucket-121797993273-us-west-2/multimodal/pdf_text/Amazon_rec_text_4.txt to multimodal/pdf_txt/Amazon_rec_text_4.txt\n",
      "[2024-05-28 16:17:53,118] p4855 {utils.py:86} INFO - downloaded multimodal-blog2-bucket-121797993273-us-west-2/multimodal/pdf_text/Amazon_rec_text_5.txt to multimodal/pdf_txt/Amazon_rec_text_5.txt\n",
      "[2024-05-28 16:17:53,165] p4855 {utils.py:86} INFO - downloaded multimodal-blog2-bucket-121797993273-us-west-2/multimodal/pdf_text/Amazon_rec_text_6.txt to multimodal/pdf_txt/Amazon_rec_text_6.txt\n",
      "[2024-05-28 16:17:53,245] p4855 {utils.py:86} INFO - downloaded multimodal-blog2-bucket-121797993273-us-west-2/multimodal/pdf_text/Boeing_rec_text_1.txt to multimodal/pdf_txt/Boeing_rec_text_1.txt\n",
      "[2024-05-28 16:17:53,321] p4855 {utils.py:86} INFO - downloaded multimodal-blog2-bucket-121797993273-us-west-2/multimodal/pdf_text/Boeing_rec_text_2.txt to multimodal/pdf_txt/Boeing_rec_text_2.txt\n",
      "[2024-05-28 16:17:53,369] p4855 {utils.py:86} INFO - downloaded multimodal-blog2-bucket-121797993273-us-west-2/multimodal/pdf_text/Boeing_rec_text_3.txt to multimodal/pdf_txt/Boeing_rec_text_3.txt\n",
      "[2024-05-28 16:17:53,413] p4855 {utils.py:86} INFO - downloaded multimodal-blog2-bucket-121797993273-us-west-2/multimodal/pdf_text/Boeing_rec_text_4.txt to multimodal/pdf_txt/Boeing_rec_text_4.txt\n",
      "[2024-05-28 16:17:53,461] p4855 {utils.py:86} INFO - downloaded multimodal-blog2-bucket-121797993273-us-west-2/multimodal/pdf_text/Boeing_rec_text_5.txt to multimodal/pdf_txt/Boeing_rec_text_5.txt\n",
      "[2024-05-28 16:17:53,564] p4855 {utils.py:86} INFO - downloaded multimodal-blog2-bucket-121797993273-us-west-2/multimodal/pdf_text/Cisco_rec_text_1.txt to multimodal/pdf_txt/Cisco_rec_text_1.txt\n",
      "[2024-05-28 16:17:53,604] p4855 {utils.py:86} INFO - downloaded multimodal-blog2-bucket-121797993273-us-west-2/multimodal/pdf_text/Cisco_rec_text_2.txt to multimodal/pdf_txt/Cisco_rec_text_2.txt\n",
      "[2024-05-28 16:17:53,670] p4855 {utils.py:86} INFO - downloaded multimodal-blog2-bucket-121797993273-us-west-2/multimodal/pdf_text/Cisco_rec_text_3.txt to multimodal/pdf_txt/Cisco_rec_text_3.txt\n",
      "[2024-05-28 16:17:53,701] p4855 {utils.py:86} INFO - downloaded multimodal-blog2-bucket-121797993273-us-west-2/multimodal/pdf_text/Cisco_rec_text_4.txt to multimodal/pdf_txt/Cisco_rec_text_4.txt\n",
      "[2024-05-28 16:17:53,732] p4855 {utils.py:86} INFO - downloaded multimodal-blog2-bucket-121797993273-us-west-2/multimodal/pdf_text/Cisco_rec_text_5.txt to multimodal/pdf_txt/Cisco_rec_text_5.txt\n",
      "[2024-05-28 16:17:53,778] p4855 {utils.py:86} INFO - downloaded multimodal-blog2-bucket-121797993273-us-west-2/multimodal/pdf_text/Cisco_rec_text_6.txt to multimodal/pdf_txt/Cisco_rec_text_6.txt\n",
      "[2024-05-28 16:17:53,843] p4855 {utils.py:86} INFO - downloaded multimodal-blog2-bucket-121797993273-us-west-2/multimodal/pdf_text/Intel_rec_text_1.txt to multimodal/pdf_txt/Intel_rec_text_1.txt\n",
      "[2024-05-28 16:17:53,891] p4855 {utils.py:86} INFO - downloaded multimodal-blog2-bucket-121797993273-us-west-2/multimodal/pdf_text/Intel_rec_text_2.txt to multimodal/pdf_txt/Intel_rec_text_2.txt\n",
      "[2024-05-28 16:17:53,977] p4855 {utils.py:86} INFO - downloaded multimodal-blog2-bucket-121797993273-us-west-2/multimodal/pdf_text/Intel_rec_text_3.txt to multimodal/pdf_txt/Intel_rec_text_3.txt\n",
      "[2024-05-28 16:17:54,019] p4855 {utils.py:86} INFO - downloaded multimodal-blog2-bucket-121797993273-us-west-2/multimodal/pdf_text/Intel_rec_text_4.txt to multimodal/pdf_txt/Intel_rec_text_4.txt\n",
      "[2024-05-28 16:17:54,097] p4855 {utils.py:86} INFO - downloaded multimodal-blog2-bucket-121797993273-us-west-2/multimodal/pdf_text/Intel_rec_text_5.txt to multimodal/pdf_txt/Intel_rec_text_5.txt\n",
      "[2024-05-28 16:17:54,124] p4855 {utils.py:86} INFO - downloaded multimodal-blog2-bucket-121797993273-us-west-2/multimodal/pdf_text/Intel_rec_text_6.txt to multimodal/pdf_txt/Intel_rec_text_6.txt\n",
      "[2024-05-28 16:17:54,168] p4855 {utils.py:86} INFO - downloaded multimodal-blog2-bucket-121797993273-us-west-2/multimodal/pdf_text/Intel_rec_text_7.txt to multimodal/pdf_txt/Intel_rec_text_7.txt\n",
      "[2024-05-28 16:17:54,202] p4855 {utils.py:86} INFO - downloaded multimodal-blog2-bucket-121797993273-us-west-2/multimodal/pdf_text/Microsoft_rec_text_1.txt to multimodal/pdf_txt/Microsoft_rec_text_1.txt\n",
      "[2024-05-28 16:17:54,255] p4855 {utils.py:86} INFO - downloaded multimodal-blog2-bucket-121797993273-us-west-2/multimodal/pdf_text/Microsoft_rec_text_2.txt to multimodal/pdf_txt/Microsoft_rec_text_2.txt\n",
      "[2024-05-28 16:17:54,296] p4855 {utils.py:86} INFO - downloaded multimodal-blog2-bucket-121797993273-us-west-2/multimodal/pdf_text/Microsoft_rec_text_3.txt to multimodal/pdf_txt/Microsoft_rec_text_3.txt\n",
      "[2024-05-28 16:17:54,394] p4855 {utils.py:86} INFO - downloaded multimodal-blog2-bucket-121797993273-us-west-2/multimodal/pdf_text/Microsoft_rec_text_4.txt to multimodal/pdf_txt/Microsoft_rec_text_4.txt\n",
      "[2024-05-28 16:17:54,467] p4855 {utils.py:86} INFO - downloaded multimodal-blog2-bucket-121797993273-us-west-2/multimodal/pdf_text/Microsoft_rec_text_5.txt to multimodal/pdf_txt/Microsoft_rec_text_5.txt\n",
      "[2024-05-28 16:17:54,511] p4855 {utils.py:86} INFO - downloaded multimodal-blog2-bucket-121797993273-us-west-2/multimodal/pdf_text/Microsoft_rec_text_6.txt to multimodal/pdf_txt/Microsoft_rec_text_6.txt\n",
      "[2024-05-28 16:17:54,560] p4855 {utils.py:86} INFO - downloaded multimodal-blog2-bucket-121797993273-us-west-2/multimodal/pdf_text/Microsoft_rec_text_7.txt to multimodal/pdf_txt/Microsoft_rec_text_7.txt\n",
      "[2024-05-28 16:17:54,591] p4855 {utils.py:86} INFO - downloaded multimodal-blog2-bucket-121797993273-us-west-2/multimodal/pdf_text/tesla_rec_text_1.txt to multimodal/pdf_txt/tesla_rec_text_1.txt\n",
      "[2024-05-28 16:17:54,620] p4855 {utils.py:86} INFO - downloaded multimodal-blog2-bucket-121797993273-us-west-2/multimodal/pdf_text/tesla_rec_text_2.txt to multimodal/pdf_txt/tesla_rec_text_2.txt\n",
      "[2024-05-28 16:17:54,666] p4855 {utils.py:86} INFO - downloaded multimodal-blog2-bucket-121797993273-us-west-2/multimodal/pdf_text/tesla_rec_text_3.txt to multimodal/pdf_txt/tesla_rec_text_3.txt\n",
      "[2024-05-28 16:17:54,711] p4855 {utils.py:86} INFO - downloaded multimodal-blog2-bucket-121797993273-us-west-2/multimodal/pdf_text/tesla_rec_text_4.txt to multimodal/pdf_txt/tesla_rec_text_4.txt\n",
      "[2024-05-28 16:17:54,743] p4855 {utils.py:86} INFO - downloaded multimodal-blog2-bucket-121797993273-us-west-2/multimodal/pdf_text/tesla_rec_text_5.txt to multimodal/pdf_txt/tesla_rec_text_5.txt\n",
      "[2024-05-28 16:17:54,744] p4855 {1545814835.py:4} INFO - downloaded 49 text files from s3\n"
     ]
    }
   ],
   "source": [
    "if config['content_info']['content_type'] == 'pdf':\n",
    "    # this is for the pdf file images\n",
    "    image_files: List = download_image_files_from_s3(bucket_name, g.BUCKET_PDF_TEXT_PREFIX, g.PDF_TEXT_DIR, g.TEXT_FILE_EXTN)\n",
    "    logger.info(f\"downloaded {len(image_files)} text files from s3\")\n",
    "else:\n",
    "    logger.error(f\"No text files extracted from the content given\")"
   ]
  },
  {
   "cell_type": "code",
   "execution_count": 21,
   "id": "b42fa6d7-1291-4fed-a75a-cb6f225208bc",
   "metadata": {},
   "outputs": [
    {
     "name": "stderr",
     "output_type": "stream",
     "text": [
      "[2024-05-28 16:17:54,751] p4855 {1968744061.py:11} INFO - prompt used to get image description: \"\n",
      "Human: Please provide a detailed description of the image. Describe the overall layout and design of the image. Identify and describe any tables, charts, or other visual elements present, including the specific data or information contained within them. Your response should be extremely detailed and data oriented. Be completely accurate. Follow the instructions below while describing the image - \n",
      "  1. Describe and mention each section in the image, including the data below the sections of the image.\n",
      "  2. Describe the image entirely, including all data on all the sides in the image\n",
      "  3. Describe all of the numbers in the image, including the text associated to those numbers and data\n",
      "  4. Describe the colors in the image if any\n",
      "  5. Be completely detailed and data oriented and do not give a concise description. Give a detailed description. Be accurate and honest, do not make up an answer.\n",
      "  Assistant:\n",
      "  \n"
     ]
    }
   ],
   "source": [
    "prompt = \"\"\"\"\n",
    "Human: Please provide a detailed description of the image. Describe the overall layout and design of the image. Identify and describe any tables, charts, or other visual elements present, including the specific data or information contained within them. Your response should be extremely detailed and data oriented. Be completely accurate. Follow the instructions below while describing the image - \n",
    "  1. Describe and mention each section in the image, including the data below the sections of the image.\n",
    "  2. Describe the image entirely, including all data on all the sides in the image\n",
    "  3. Describe all of the numbers in the image, including the text associated to those numbers and data\n",
    "  4. Describe the colors in the image if any\n",
    "  5. Be completely detailed and data oriented and do not give a concise description. Give a detailed description. Be accurate and honest, do not make up an answer.\n",
    "  Assistant:\n",
    "  \"\"\"\n",
    "\n",
    "logger.info(f\"prompt used to get image description: {prompt}\")"
   ]
  },
  {
   "cell_type": "markdown",
   "id": "27fe56b3-b7e6-4012-b432-18289085ec55",
   "metadata": {},
   "source": [
    "### Hybrid Search: Extract Entities from the image, and prefilter the image description with those entities\n",
    "---\n",
    "\n",
    "The purpose of using Hybrid search is to optimize the RAG workflow in retrieving the right image description for specific questions. Some images (full or split in different parts), might not contain the information that is being asked by the question, because of the surrounding embeddings in the vector DB, so Hybrid search helps optimizing that. In this case, we will extract the entities of an image description (including the file name to be precise), then extract the entities of the question being asked, to get the most accurate response possible."
   ]
  },
  {
   "cell_type": "code",
   "execution_count": 22,
   "id": "51d4d276-37ca-49b8-9787-020c31b8bb71",
   "metadata": {
    "tags": []
   },
   "outputs": [
    {
     "name": "stderr",
     "output_type": "stream",
     "text": [
      "[2024-05-28 16:17:54,763] p4855 {3845316891.py:15} INFO - prompt used to extract entities from the image: \n",
      "Please provide a detailed description of the entities present in the image. Entities, are specific pieces of information or objects within a text that carry particular significance. These can be real-world entities like names of people, places, organizations, or dates. Refer to the types of entities: Named entities: These include names of people, organizations, locations, and dates. You can have specific identifiers within this, such as person names or person occupations.\n",
      "\n",
      "Custom entities: These are entities specific to a particular application or domain, such as product names, medical terms, or technical jargon.\n",
      "\n",
      "Temporal entities: These are entities related to time, such as dates, times, and durations.\n",
      "\n",
      "Product entities: Names of products might be grouped together into product entities.\n",
      "\n",
      "Location entities: These entities categorize or classify items based on location indicators, such as state codes.\n",
      "\n",
      "Now based on the image, create a list of these entities. Your response should be accurate. Do not make up an answer.\n",
      "\n"
     ]
    }
   ],
   "source": [
    "entity_extraction_prompt = \"\"\"\n",
    "Please provide a detailed description of the entities present in the image. Entities, are specific pieces of information or objects within a text that carry particular significance. These can be real-world entities like names of people, places, organizations, or dates. Refer to the types of entities: Named entities: These include names of people, organizations, locations, and dates. You can have specific identifiers within this, such as person names or person occupations.\n",
    "\n",
    "Custom entities: These are entities specific to a particular application or domain, such as product names, medical terms, or technical jargon.\n",
    "\n",
    "Temporal entities: These are entities related to time, such as dates, times, and durations.\n",
    "\n",
    "Product entities: Names of products might be grouped together into product entities.\n",
    "\n",
    "Location entities: These entities categorize or classify items based on location indicators, such as state codes.\n",
    "\n",
    "Now based on the image, create a list of these entities. Your response should be accurate. Do not make up an answer.\n",
    "\"\"\"\n",
    "\n",
    "logger.info(f\"prompt used to extract entities from the image: {entity_extraction_prompt}\")"
   ]
  },
  {
   "cell_type": "markdown",
   "id": "e11b8685-58b6-42a2-b826-e243cac2b781",
   "metadata": {
    "tags": []
   },
   "source": [
    "### Part 1: Loop through b64 images to 1/get image desc from Claude3, 2/get embedding from Titan text. Call OSI pipeline API to ingest embedding."
   ]
  },
  {
   "cell_type": "code",
   "execution_count": 23,
   "id": "5b0326f1-5d73-48d0-90ce-db151918631c",
   "metadata": {},
   "outputs": [],
   "source": [
    "def get_img_txt_embeddings(bedrock: botocore.client, prompt_data: str) -> np.ndarray:\n",
    "    body = json.dumps({\n",
    "        \"inputText\": prompt_data,\n",
    "    })    \n",
    "    try:\n",
    "        response = bedrock.invoke_model(\n",
    "            body=body, modelId=config['bedrock_model_info']['titan_model_id'], \n",
    "            accept=config['encoding_info']['accept_encoding'], contentType=config['encoding_info']['content_encoding']\n",
    "        )\n",
    "        response_body = json.loads(response['body'].read())\n",
    "        embedding = response_body.get('embedding')\n",
    "    except Exception as e:\n",
    "        logger.error(f\"exception={e}\")\n",
    "        embedding = None\n",
    "    return embedding"
   ]
  },
  {
   "cell_type": "code",
   "execution_count": 24,
   "id": "c71f3fd2-303d-4a58-b707-5a6e8b731e89",
   "metadata": {
    "tags": []
   },
   "outputs": [],
   "source": [
    "# function to get the image description and store the embeddings of that text in the image index\n",
    "def process_image_data(i: int, \n",
    "                       file_path: str, \n",
    "                       osi_endpoint, \n",
    "                       total: int) -> Dict:\n",
    "    bedrock = boto3.client(service_name=\"bedrock-runtime\", region_name=region, endpoint_url=endpoint_url)\n",
    "    json_data: Optional[Dict] = None\n",
    "    # name of the images that are saved (either split in 4 ways or saved as a single page)\n",
    "    image_name: Optional[str] = None\n",
    "    try:\n",
    "        image_file_extn: str = config['content_info']['image_extn']\n",
    "        bucket_img_prefix: str = os.path.join(config['pdf_dir_info']['bucket_prefix'], \n",
    "                                              config['pdf_dir_info']['bucket_img_prefix'])\n",
    "        logger.info(f\"going to convert {file_path} into embeddings\")\n",
    "        # first, get the entities from the image to prefilter the image description with the entities\n",
    "        entities_extracted = get_img_desc(file_path, entity_extraction_prompt)\n",
    "        # get the image description and prefilter the image description with the entities extracted from the image\n",
    "        content_description = entities_extracted + get_img_desc(file_path, prompt)\n",
    "        print(f\"file_path: {file_path}, image description (prefiltered with entities extracted): {content_description}\")\n",
    "        # embedding = get_text_embedding(bedrock, content_description)\n",
    "        embedding = get_img_txt_embeddings(bedrock, content_description)\n",
    "\n",
    "        if config['content_info']['content_type'] == 'slide_deck':\n",
    "            input_image_s3 = f\"s3://{bucket_name}/{bucket_img_prefix}/{Path(file_path).stem}{image_file_extn}\"\n",
    "            obj_name = f\"{Path(file_path).stem}{image_file_extn}\"\n",
    "        elif config['content_info']['content_type'] == 'pdf':\n",
    "            input_image_s3 = f\"s3://{bucket_name}/{bucket_img_prefix}/{Path(file_path).stem}{image_file_extn}\"\n",
    "            obj_name = f\"{Path(file_path).stem}{image_file_extn}\"\n",
    "\n",
    "        data = json.dumps([{\n",
    "            \"file_path\": input_image_s3,\n",
    "            \"file_text\": content_description,\n",
    "            \"page_number\": re.search(r\"page_(\\d+)_?\", obj_name).group(1),\n",
    "            \"metadata\": {\n",
    "                \"filename\": obj_name,\n",
    "                \"entities\": entities_extracted\n",
    "            },\n",
    "            \"vector_embedding\": embedding\n",
    "        }])\n",
    "        json_data = {\n",
    "            \"file_type\": config['content_info']['image_extn'],\n",
    "            \"file_name\": obj_name,\n",
    "            \"text\": content_description,\n",
    "            \"entities\": entities_extracted,\n",
    "            \"page_number\": re.search(r\"page_(\\d+)_?\", obj_name).group(1)\n",
    "            # \"page_number\": re.search(r\"_(\\d+)_?\", obj_name).group(1)\n",
    "            }\n",
    "        image_dir: str = config['pdf_dir_info']['json_img_dir']\n",
    "        os.makedirs(image_dir, exist_ok=True)\n",
    "        fpath = os.path.join(image_dir, f\"{Path(file_path).stem}.json\")\n",
    "        print(f\"json_file_path: {fpath}\")\n",
    "        Path(fpath).write_text(json.dumps(json_data, default=str, indent=2))\n",
    "        r = requests.request(\n",
    "            method='POST', \n",
    "            url=osi_endpoint, \n",
    "            data=data,\n",
    "            auth=AWSSigV4('osis'))\n",
    "        logger.info(\"Ingesting data into pipeline\")\n",
    "        logger.info(f\"image desc: {r.text}\")\n",
    "    except Exception as e:\n",
    "        logger.error(f\"Error processing image {file_path}: {e}\")\n",
    "        json_data: Optional[Dict] = None\n",
    "    return json_data"
   ]
  },
  {
   "cell_type": "code",
   "execution_count": 25,
   "id": "272e4057-a30e-4b88-a1e7-6c55986f8b69",
   "metadata": {
    "tags": []
   },
   "outputs": [],
   "source": [
    "@ray.remote\n",
    "def async_process_image_data(i: int, file_path: str, osi_endpoint, total: int):\n",
    "    logging.basicConfig(format='[%(asctime)s] p%(process)s {%(filename)s:%(lineno)d} %(levelname)s - %(message)s', level=logging.INFO)\n",
    "    logger = logging.getLogger(__name__)\n",
    "    return process_image_data(i, file_path, osi_endpoint, total)"
   ]
  },
  {
   "cell_type": "code",
   "execution_count": 26,
   "id": "b937d157-f346-499f-8ef1-79686f2f28e0",
   "metadata": {
    "tags": []
   },
   "outputs": [
    {
     "name": "stderr",
     "output_type": "stream",
     "text": [
      "[2024-05-28 16:17:54,816] p4855 {4068516838.py:8} INFO - ------ getting text description for chunk 0/5 -----\n",
      "[2024-05-28 16:17:54,817] p4855 {4068516838.py:10} INFO - getting inference for list 1/5, size of list=10 \n",
      "[2024-05-28 16:20:10,954] p4855 {4068516838.py:13} INFO - ------ completed chunk=0/5 completed in 136.13846380299947 ------ \n",
      "[2024-05-28 16:20:10,955] p4855 {4068516838.py:8} INFO - ------ getting text description for chunk 1/5 -----\n",
      "[2024-05-28 16:20:10,957] p4855 {4068516838.py:10} INFO - getting inference for list 2/5, size of list=10 \n",
      "[2024-05-28 16:22:43,590] p4855 {4068516838.py:13} INFO - ------ completed chunk=1/5 completed in 152.63477001400315 ------ \n",
      "[2024-05-28 16:22:43,591] p4855 {4068516838.py:8} INFO - ------ getting text description for chunk 2/5 -----\n",
      "[2024-05-28 16:22:43,592] p4855 {4068516838.py:10} INFO - getting inference for list 3/5, size of list=10 \n",
      "[2024-05-28 16:24:56,242] p4855 {4068516838.py:13} INFO - ------ completed chunk=2/5 completed in 132.65081976099464 ------ \n",
      "[2024-05-28 16:24:56,243] p4855 {4068516838.py:8} INFO - ------ getting text description for chunk 3/5 -----\n",
      "[2024-05-28 16:24:56,244] p4855 {4068516838.py:10} INFO - getting inference for list 4/5, size of list=10 \n",
      "[2024-05-28 16:27:26,718] p4855 {4068516838.py:13} INFO - ------ completed chunk=3/5 completed in 150.47195886699774 ------ \n",
      "[2024-05-28 16:27:26,720] p4855 {4068516838.py:8} INFO - ------ getting text description for chunk 4/5 -----\n",
      "[2024-05-28 16:27:26,732] p4855 {4068516838.py:10} INFO - getting inference for list 5/5, size of list=9 \n",
      "[2024-05-28 16:29:51,748] p4855 {4068516838.py:13} INFO - ------ completed chunk=4/5 completed in 145.0277425050008 ------ \n",
      "[2024-05-28 16:29:51,749] p4855 {4068516838.py:18} INFO - Number of erroneous pdf pages that are not processed: 0\n"
     ]
    }
   ],
   "source": [
    "import time\n",
    "erroneous_page_count: int = 0\n",
    "n: int = config['parallel_inference_count']\n",
    "image_chunks = [b64_image_file_list[i:i + n] for i in range(0, len(b64_image_file_list), n)]\n",
    "for chunk_index, image_chunk in enumerate(image_chunks):\n",
    "    try:\n",
    "        st = time.perf_counter()\n",
    "        logger.info(f\"------ getting text description for chunk {chunk_index}/{len(image_chunks)} -----\")\n",
    "        # Iterate over each file path in the chunk and process it individually\n",
    "        logger.info(f\"getting inference for list {chunk_index+1}/{len(image_chunks)}, size of list={len(image_chunk)} \")\n",
    "        results = ray.get([async_process_image_data.remote(index, file_path, osi_img_endpoint, len(image_chunk)) for index, file_path in enumerate(image_chunk)])\n",
    "        elapsed_time = time.perf_counter() - st\n",
    "        logger.info(f\"------ completed chunk={chunk_index}/{len(image_chunks)} completed in {elapsed_time} ------ \")\n",
    "    except Exception as e:\n",
    "        logger.error(f\"Error processing chunk {chunk_index}: {e}\")\n",
    "        erroneous_page_count += len(image_chunk)\n",
    "\n",
    "logger.info(f\"Number of erroneous pdf pages that are not processed: {erroneous_page_count}\")"
   ]
  },
  {
   "cell_type": "markdown",
   "id": "c5f8fe93-1cde-4d0f-ae1d-6dd5b3f9040d",
   "metadata": {},
   "source": [
    "### Part 2: Loop through text files to 1/get text desc from Claude3, 2/get embedding from Titan text. Call OSI pipeline API to ingest embedding."
   ]
  },
  {
   "cell_type": "code",
   "execution_count": 27,
   "id": "68475cb8-0430-476d-8ae9-b22dad72aa26",
   "metadata": {
    "tags": []
   },
   "outputs": [
    {
     "name": "stdout",
     "output_type": "stream",
     "text": [
      "['multimodal/pdf_txt/APPLE_rec_text_5.txt', 'multimodal/pdf_txt/Intel_rec_text_7.txt', 'multimodal/pdf_txt/Boeing_rec_text_2.txt', 'multimodal/pdf_txt/Boeing_rec_text_4.txt', 'multimodal/pdf_txt/Intel_rec_text_2.txt', 'multimodal/pdf_txt/Boeing_rec_text_5.txt', 'multimodal/pdf_txt/AMD_rec_text_5.txt', 'multimodal/pdf_txt/Amazon_rec_text_1.txt', 'multimodal/pdf_txt/AMD_rec_text_1.txt', 'multimodal/pdf_txt/Amazon_rec_text_3.txt', 'multimodal/pdf_txt/Cisco_rec_text_6.txt', 'multimodal/pdf_txt/Microsoft_rec_text_3.txt', 'multimodal/pdf_txt/Amazon_rec_text_5.txt', 'multimodal/pdf_txt/Microsoft_rec_text_1.txt', 'multimodal/pdf_txt/Amazon_rec_text_6.txt', 'multimodal/pdf_txt/Amazon_rec_text_4.txt', 'multimodal/pdf_txt/tesla_rec_text_2.txt', 'multimodal/pdf_txt/Intel_rec_text_6.txt', 'multimodal/pdf_txt/Intel_rec_text_1.txt', 'multimodal/pdf_txt/Cisco_rec_text_5.txt', 'multimodal/pdf_txt/Intel_rec_text_4.txt', 'multimodal/pdf_txt/Intel_rec_text_3.txt', 'multimodal/pdf_txt/Microsoft_rec_text_6.txt', 'multimodal/pdf_txt/Amazon_rec_text_2.txt', 'multimodal/pdf_txt/Boeing_rec_text_1.txt', 'multimodal/pdf_txt/Cisco_rec_text_3.txt', 'multimodal/pdf_txt/AMD_rec_text_2.txt', 'multimodal/pdf_txt/tesla_rec_text_5.txt', 'multimodal/pdf_txt/Cisco_rec_text_2.txt', 'multimodal/pdf_txt/AMD_rec_text_4.txt', 'multimodal/pdf_txt/AMD_rec_text_6.txt', 'multimodal/pdf_txt/Microsoft_rec_text_7.txt', 'multimodal/pdf_txt/tesla_rec_text_4.txt', 'multimodal/pdf_txt/Boeing_rec_text_3.txt', 'multimodal/pdf_txt/Microsoft_rec_text_4.txt', 'multimodal/pdf_txt/AMD_rec_text_3.txt', 'multimodal/pdf_txt/APPLE_rec_text_6.txt', 'multimodal/pdf_txt/Cisco_rec_text_4.txt', 'multimodal/pdf_txt/Microsoft_rec_text_2.txt', 'multimodal/pdf_txt/tesla_rec_text_1.txt', 'multimodal/pdf_txt/APPLE_rec_text_3.txt', 'multimodal/pdf_txt/tesla_rec_text_3.txt', 'multimodal/pdf_txt/Cisco_rec_text_1.txt', 'multimodal/pdf_txt/AMD_rec_text_7.txt', 'multimodal/pdf_txt/APPLE_rec_text_1.txt', 'multimodal/pdf_txt/Microsoft_rec_text_5.txt', 'multimodal/pdf_txt/APPLE_rec_text_4.txt', 'multimodal/pdf_txt/APPLE_rec_text_2.txt', 'multimodal/pdf_txt/Intel_rec_text_5.txt']\n"
     ]
    }
   ],
   "source": [
    "# Get a list of all files in the current directory\n",
    "pdf_txt_file_list = os.listdir(g.PDF_TEXT_DIR)\n",
    "\n",
    "# Get relative file paths by joining directory path with each file name\n",
    "pdf_txt_file_list = [os.path.join(g.PDF_TEXT_DIR, file) for file in pdf_txt_file_list]\n",
    "print(pdf_txt_file_list)"
   ]
  },
  {
   "cell_type": "code",
   "execution_count": 28,
   "id": "70018e8d-21ec-413a-b8b6-90e28936ca9d",
   "metadata": {
    "tags": []
   },
   "outputs": [
    {
     "name": "stderr",
     "output_type": "stream",
     "text": [
      "[2024-05-28 16:29:51,774] p4855 {790141951.py:4} INFO - going to convert multimodal/pdf_txt/APPLE_rec_text_5.txt into embeddings\n",
      "[2024-05-28 16:29:52,118] p4855 {credentials.py:1075} INFO - Found credentials from IAM Role: BaseNotebookInstanceEc2InstanceRole\n",
      "[2024-05-28 16:29:52,216] p4855 {790141951.py:38} INFO - Ingesting data into pipeline\n",
      "[2024-05-28 16:29:52,217] p4855 {790141951.py:39} INFO - Response: 1 - 200 OK\n",
      "[2024-05-28 16:29:52,218] p4855 {790141951.py:4} INFO - going to convert multimodal/pdf_txt/Intel_rec_text_7.txt into embeddings\n"
     ]
    },
    {
     "name": "stdout",
     "output_type": "stream",
     "text": [
      "json_file_path: pdf_text_json_dir/APPLE_rec_text_5.json\n"
     ]
    },
    {
     "name": "stderr",
     "output_type": "stream",
     "text": [
      "[2024-05-28 16:29:52,408] p4855 {credentials.py:1075} INFO - Found credentials from IAM Role: BaseNotebookInstanceEc2InstanceRole\n",
      "[2024-05-28 16:29:52,449] p4855 {790141951.py:38} INFO - Ingesting data into pipeline\n",
      "[2024-05-28 16:29:52,450] p4855 {790141951.py:39} INFO - Response: 2 - 200 OK\n",
      "[2024-05-28 16:29:52,451] p4855 {790141951.py:4} INFO - going to convert multimodal/pdf_txt/Boeing_rec_text_2.txt into embeddings\n"
     ]
    },
    {
     "name": "stdout",
     "output_type": "stream",
     "text": [
      "json_file_path: pdf_text_json_dir/Intel_rec_text_7.json\n"
     ]
    },
    {
     "name": "stderr",
     "output_type": "stream",
     "text": [
      "[2024-05-28 16:29:52,839] p4855 {credentials.py:1075} INFO - Found credentials from IAM Role: BaseNotebookInstanceEc2InstanceRole\n",
      "[2024-05-28 16:29:52,935] p4855 {790141951.py:38} INFO - Ingesting data into pipeline\n",
      "[2024-05-28 16:29:52,936] p4855 {790141951.py:39} INFO - Response: 3 - 200 OK\n",
      "[2024-05-28 16:29:52,937] p4855 {790141951.py:4} INFO - going to convert multimodal/pdf_txt/Boeing_rec_text_4.txt into embeddings\n"
     ]
    },
    {
     "name": "stdout",
     "output_type": "stream",
     "text": [
      "json_file_path: pdf_text_json_dir/Boeing_rec_text_2.json\n"
     ]
    },
    {
     "name": "stderr",
     "output_type": "stream",
     "text": [
      "[2024-05-28 16:29:53,114] p4855 {credentials.py:1075} INFO - Found credentials from IAM Role: BaseNotebookInstanceEc2InstanceRole\n",
      "[2024-05-28 16:29:53,158] p4855 {790141951.py:38} INFO - Ingesting data into pipeline\n",
      "[2024-05-28 16:29:53,160] p4855 {790141951.py:39} INFO - Response: 4 - 200 OK\n",
      "[2024-05-28 16:29:53,160] p4855 {790141951.py:4} INFO - going to convert multimodal/pdf_txt/Intel_rec_text_2.txt into embeddings\n"
     ]
    },
    {
     "name": "stdout",
     "output_type": "stream",
     "text": [
      "json_file_path: pdf_text_json_dir/Boeing_rec_text_4.json\n"
     ]
    },
    {
     "name": "stderr",
     "output_type": "stream",
     "text": [
      "[2024-05-28 16:29:53,584] p4855 {credentials.py:1075} INFO - Found credentials from IAM Role: BaseNotebookInstanceEc2InstanceRole\n",
      "[2024-05-28 16:29:53,625] p4855 {790141951.py:38} INFO - Ingesting data into pipeline\n",
      "[2024-05-28 16:29:53,626] p4855 {790141951.py:39} INFO - Response: 5 - 200 OK\n",
      "[2024-05-28 16:29:53,627] p4855 {790141951.py:4} INFO - going to convert multimodal/pdf_txt/Boeing_rec_text_5.txt into embeddings\n"
     ]
    },
    {
     "name": "stdout",
     "output_type": "stream",
     "text": [
      "json_file_path: pdf_text_json_dir/Intel_rec_text_2.json\n"
     ]
    },
    {
     "name": "stderr",
     "output_type": "stream",
     "text": [
      "[2024-05-28 16:29:53,942] p4855 {credentials.py:1075} INFO - Found credentials from IAM Role: BaseNotebookInstanceEc2InstanceRole\n",
      "[2024-05-28 16:29:53,975] p4855 {790141951.py:38} INFO - Ingesting data into pipeline\n",
      "[2024-05-28 16:29:53,976] p4855 {790141951.py:39} INFO - Response: 6 - 200 OK\n",
      "[2024-05-28 16:29:53,976] p4855 {790141951.py:4} INFO - going to convert multimodal/pdf_txt/AMD_rec_text_5.txt into embeddings\n"
     ]
    },
    {
     "name": "stdout",
     "output_type": "stream",
     "text": [
      "json_file_path: pdf_text_json_dir/Boeing_rec_text_5.json\n"
     ]
    },
    {
     "name": "stderr",
     "output_type": "stream",
     "text": [
      "[2024-05-28 16:29:54,362] p4855 {credentials.py:1075} INFO - Found credentials from IAM Role: BaseNotebookInstanceEc2InstanceRole\n",
      "[2024-05-28 16:29:54,403] p4855 {790141951.py:38} INFO - Ingesting data into pipeline\n",
      "[2024-05-28 16:29:54,404] p4855 {790141951.py:39} INFO - Response: 7 - 200 OK\n",
      "[2024-05-28 16:29:54,405] p4855 {790141951.py:4} INFO - going to convert multimodal/pdf_txt/Amazon_rec_text_1.txt into embeddings\n"
     ]
    },
    {
     "name": "stdout",
     "output_type": "stream",
     "text": [
      "json_file_path: pdf_text_json_dir/AMD_rec_text_5.json\n"
     ]
    },
    {
     "name": "stderr",
     "output_type": "stream",
     "text": [
      "[2024-05-28 16:29:54,754] p4855 {credentials.py:1075} INFO - Found credentials from IAM Role: BaseNotebookInstanceEc2InstanceRole\n",
      "[2024-05-28 16:29:54,786] p4855 {790141951.py:38} INFO - Ingesting data into pipeline\n",
      "[2024-05-28 16:29:54,788] p4855 {790141951.py:39} INFO - Response: 8 - 200 OK\n",
      "[2024-05-28 16:29:54,789] p4855 {790141951.py:4} INFO - going to convert multimodal/pdf_txt/AMD_rec_text_1.txt into embeddings\n"
     ]
    },
    {
     "name": "stdout",
     "output_type": "stream",
     "text": [
      "json_file_path: pdf_text_json_dir/Amazon_rec_text_1.json\n"
     ]
    },
    {
     "name": "stderr",
     "output_type": "stream",
     "text": [
      "[2024-05-28 16:29:55,166] p4855 {credentials.py:1075} INFO - Found credentials from IAM Role: BaseNotebookInstanceEc2InstanceRole\n",
      "[2024-05-28 16:29:55,208] p4855 {790141951.py:38} INFO - Ingesting data into pipeline\n",
      "[2024-05-28 16:29:55,209] p4855 {790141951.py:39} INFO - Response: 9 - 200 OK\n",
      "[2024-05-28 16:29:55,210] p4855 {790141951.py:4} INFO - going to convert multimodal/pdf_txt/Amazon_rec_text_3.txt into embeddings\n"
     ]
    },
    {
     "name": "stdout",
     "output_type": "stream",
     "text": [
      "json_file_path: pdf_text_json_dir/AMD_rec_text_1.json\n"
     ]
    },
    {
     "name": "stderr",
     "output_type": "stream",
     "text": [
      "[2024-05-28 16:29:55,608] p4855 {credentials.py:1075} INFO - Found credentials from IAM Role: BaseNotebookInstanceEc2InstanceRole\n",
      "[2024-05-28 16:29:55,653] p4855 {790141951.py:38} INFO - Ingesting data into pipeline\n",
      "[2024-05-28 16:29:55,656] p4855 {790141951.py:39} INFO - Response: 10 - 200 OK\n",
      "[2024-05-28 16:29:55,659] p4855 {790141951.py:4} INFO - going to convert multimodal/pdf_txt/Cisco_rec_text_6.txt into embeddings\n"
     ]
    },
    {
     "name": "stdout",
     "output_type": "stream",
     "text": [
      "json_file_path: pdf_text_json_dir/Amazon_rec_text_3.json\n"
     ]
    },
    {
     "name": "stderr",
     "output_type": "stream",
     "text": [
      "[2024-05-28 16:29:55,968] p4855 {credentials.py:1075} INFO - Found credentials from IAM Role: BaseNotebookInstanceEc2InstanceRole\n",
      "[2024-05-28 16:29:56,003] p4855 {790141951.py:38} INFO - Ingesting data into pipeline\n",
      "[2024-05-28 16:29:56,004] p4855 {790141951.py:39} INFO - Response: 11 - 200 OK\n",
      "[2024-05-28 16:29:56,005] p4855 {790141951.py:4} INFO - going to convert multimodal/pdf_txt/Microsoft_rec_text_3.txt into embeddings\n"
     ]
    },
    {
     "name": "stdout",
     "output_type": "stream",
     "text": [
      "json_file_path: pdf_text_json_dir/Cisco_rec_text_6.json\n"
     ]
    },
    {
     "name": "stderr",
     "output_type": "stream",
     "text": [
      "[2024-05-28 16:29:56,266] p4855 {credentials.py:1075} INFO - Found credentials from IAM Role: BaseNotebookInstanceEc2InstanceRole\n",
      "[2024-05-28 16:29:56,307] p4855 {790141951.py:38} INFO - Ingesting data into pipeline\n",
      "[2024-05-28 16:29:56,309] p4855 {790141951.py:39} INFO - Response: 12 - 200 OK\n",
      "[2024-05-28 16:29:56,310] p4855 {790141951.py:4} INFO - going to convert multimodal/pdf_txt/Amazon_rec_text_5.txt into embeddings\n"
     ]
    },
    {
     "name": "stdout",
     "output_type": "stream",
     "text": [
      "json_file_path: pdf_text_json_dir/Microsoft_rec_text_3.json\n"
     ]
    },
    {
     "name": "stderr",
     "output_type": "stream",
     "text": [
      "[2024-05-28 16:29:56,523] p4855 {credentials.py:1075} INFO - Found credentials from IAM Role: BaseNotebookInstanceEc2InstanceRole\n",
      "[2024-05-28 16:29:56,586] p4855 {790141951.py:38} INFO - Ingesting data into pipeline\n",
      "[2024-05-28 16:29:56,587] p4855 {790141951.py:39} INFO - Response: 13 - 200 OK\n",
      "[2024-05-28 16:29:56,587] p4855 {790141951.py:4} INFO - going to convert multimodal/pdf_txt/Microsoft_rec_text_1.txt into embeddings\n"
     ]
    },
    {
     "name": "stdout",
     "output_type": "stream",
     "text": [
      "json_file_path: pdf_text_json_dir/Amazon_rec_text_5.json\n"
     ]
    },
    {
     "name": "stderr",
     "output_type": "stream",
     "text": [
      "[2024-05-28 16:29:56,976] p4855 {credentials.py:1075} INFO - Found credentials from IAM Role: BaseNotebookInstanceEc2InstanceRole\n",
      "[2024-05-28 16:29:57,014] p4855 {790141951.py:38} INFO - Ingesting data into pipeline\n",
      "[2024-05-28 16:29:57,016] p4855 {790141951.py:39} INFO - Response: 14 - 200 OK\n",
      "[2024-05-28 16:29:57,017] p4855 {790141951.py:4} INFO - going to convert multimodal/pdf_txt/Amazon_rec_text_6.txt into embeddings\n"
     ]
    },
    {
     "name": "stdout",
     "output_type": "stream",
     "text": [
      "json_file_path: pdf_text_json_dir/Microsoft_rec_text_1.json\n"
     ]
    },
    {
     "name": "stderr",
     "output_type": "stream",
     "text": [
      "[2024-05-28 16:29:57,344] p4855 {credentials.py:1075} INFO - Found credentials from IAM Role: BaseNotebookInstanceEc2InstanceRole\n",
      "[2024-05-28 16:29:57,388] p4855 {790141951.py:38} INFO - Ingesting data into pipeline\n",
      "[2024-05-28 16:29:57,389] p4855 {790141951.py:39} INFO - Response: 15 - 200 OK\n",
      "[2024-05-28 16:29:57,389] p4855 {790141951.py:4} INFO - going to convert multimodal/pdf_txt/Amazon_rec_text_4.txt into embeddings\n"
     ]
    },
    {
     "name": "stdout",
     "output_type": "stream",
     "text": [
      "json_file_path: pdf_text_json_dir/Amazon_rec_text_6.json\n"
     ]
    },
    {
     "name": "stderr",
     "output_type": "stream",
     "text": [
      "[2024-05-28 16:29:57,658] p4855 {credentials.py:1075} INFO - Found credentials from IAM Role: BaseNotebookInstanceEc2InstanceRole\n",
      "[2024-05-28 16:29:57,711] p4855 {790141951.py:38} INFO - Ingesting data into pipeline\n",
      "[2024-05-28 16:29:57,717] p4855 {790141951.py:39} INFO - Response: 16 - 200 OK\n",
      "[2024-05-28 16:29:57,718] p4855 {790141951.py:4} INFO - going to convert multimodal/pdf_txt/tesla_rec_text_2.txt into embeddings\n"
     ]
    },
    {
     "name": "stdout",
     "output_type": "stream",
     "text": [
      "json_file_path: pdf_text_json_dir/Amazon_rec_text_4.json\n"
     ]
    },
    {
     "name": "stderr",
     "output_type": "stream",
     "text": [
      "[2024-05-28 16:29:58,099] p4855 {credentials.py:1075} INFO - Found credentials from IAM Role: BaseNotebookInstanceEc2InstanceRole\n",
      "[2024-05-28 16:29:58,137] p4855 {790141951.py:38} INFO - Ingesting data into pipeline\n",
      "[2024-05-28 16:29:58,139] p4855 {790141951.py:39} INFO - Response: 17 - 200 OK\n",
      "[2024-05-28 16:29:58,140] p4855 {790141951.py:4} INFO - going to convert multimodal/pdf_txt/Intel_rec_text_6.txt into embeddings\n"
     ]
    },
    {
     "name": "stdout",
     "output_type": "stream",
     "text": [
      "json_file_path: pdf_text_json_dir/tesla_rec_text_2.json\n"
     ]
    },
    {
     "name": "stderr",
     "output_type": "stream",
     "text": [
      "[2024-05-28 16:29:58,304] p4855 {credentials.py:1075} INFO - Found credentials from IAM Role: BaseNotebookInstanceEc2InstanceRole\n",
      "[2024-05-28 16:29:58,348] p4855 {790141951.py:38} INFO - Ingesting data into pipeline\n",
      "[2024-05-28 16:29:58,349] p4855 {790141951.py:39} INFO - Response: 18 - 200 OK\n",
      "[2024-05-28 16:29:58,350] p4855 {790141951.py:4} INFO - going to convert multimodal/pdf_txt/Intel_rec_text_1.txt into embeddings\n"
     ]
    },
    {
     "name": "stdout",
     "output_type": "stream",
     "text": [
      "json_file_path: pdf_text_json_dir/Intel_rec_text_6.json\n"
     ]
    },
    {
     "name": "stderr",
     "output_type": "stream",
     "text": [
      "[2024-05-28 16:29:58,622] p4855 {credentials.py:1075} INFO - Found credentials from IAM Role: BaseNotebookInstanceEc2InstanceRole\n",
      "[2024-05-28 16:29:58,701] p4855 {790141951.py:38} INFO - Ingesting data into pipeline\n",
      "[2024-05-28 16:29:58,702] p4855 {790141951.py:39} INFO - Response: 19 - 200 OK\n",
      "[2024-05-28 16:29:58,703] p4855 {790141951.py:4} INFO - going to convert multimodal/pdf_txt/Cisco_rec_text_5.txt into embeddings\n"
     ]
    },
    {
     "name": "stdout",
     "output_type": "stream",
     "text": [
      "json_file_path: pdf_text_json_dir/Intel_rec_text_1.json\n"
     ]
    },
    {
     "name": "stderr",
     "output_type": "stream",
     "text": [
      "[2024-05-28 16:29:58,878] p4855 {credentials.py:1075} INFO - Found credentials from IAM Role: BaseNotebookInstanceEc2InstanceRole\n",
      "[2024-05-28 16:29:58,923] p4855 {790141951.py:38} INFO - Ingesting data into pipeline\n",
      "[2024-05-28 16:29:58,925] p4855 {790141951.py:39} INFO - Response: 20 - 200 OK\n",
      "[2024-05-28 16:29:58,926] p4855 {790141951.py:4} INFO - going to convert multimodal/pdf_txt/Intel_rec_text_4.txt into embeddings\n"
     ]
    },
    {
     "name": "stdout",
     "output_type": "stream",
     "text": [
      "json_file_path: pdf_text_json_dir/Cisco_rec_text_5.json\n"
     ]
    },
    {
     "name": "stderr",
     "output_type": "stream",
     "text": [
      "[2024-05-28 16:29:59,135] p4855 {credentials.py:1075} INFO - Found credentials from IAM Role: BaseNotebookInstanceEc2InstanceRole\n",
      "[2024-05-28 16:29:59,174] p4855 {790141951.py:38} INFO - Ingesting data into pipeline\n",
      "[2024-05-28 16:29:59,176] p4855 {790141951.py:39} INFO - Response: 21 - 200 OK\n",
      "[2024-05-28 16:29:59,177] p4855 {790141951.py:4} INFO - going to convert multimodal/pdf_txt/Intel_rec_text_3.txt into embeddings\n"
     ]
    },
    {
     "name": "stdout",
     "output_type": "stream",
     "text": [
      "json_file_path: pdf_text_json_dir/Intel_rec_text_4.json\n"
     ]
    },
    {
     "name": "stderr",
     "output_type": "stream",
     "text": [
      "[2024-05-28 16:29:59,540] p4855 {credentials.py:1075} INFO - Found credentials from IAM Role: BaseNotebookInstanceEc2InstanceRole\n",
      "[2024-05-28 16:29:59,586] p4855 {790141951.py:38} INFO - Ingesting data into pipeline\n",
      "[2024-05-28 16:29:59,587] p4855 {790141951.py:39} INFO - Response: 22 - 200 OK\n",
      "[2024-05-28 16:29:59,588] p4855 {790141951.py:4} INFO - going to convert multimodal/pdf_txt/Microsoft_rec_text_6.txt into embeddings\n"
     ]
    },
    {
     "name": "stdout",
     "output_type": "stream",
     "text": [
      "json_file_path: pdf_text_json_dir/Intel_rec_text_3.json\n"
     ]
    },
    {
     "name": "stderr",
     "output_type": "stream",
     "text": [
      "[2024-05-28 16:29:59,926] p4855 {credentials.py:1075} INFO - Found credentials from IAM Role: BaseNotebookInstanceEc2InstanceRole\n",
      "[2024-05-28 16:29:59,968] p4855 {790141951.py:38} INFO - Ingesting data into pipeline\n",
      "[2024-05-28 16:29:59,970] p4855 {790141951.py:39} INFO - Response: 23 - 200 OK\n",
      "[2024-05-28 16:29:59,971] p4855 {790141951.py:4} INFO - going to convert multimodal/pdf_txt/Amazon_rec_text_2.txt into embeddings\n"
     ]
    },
    {
     "name": "stdout",
     "output_type": "stream",
     "text": [
      "json_file_path: pdf_text_json_dir/Microsoft_rec_text_6.json\n"
     ]
    },
    {
     "name": "stderr",
     "output_type": "stream",
     "text": [
      "[2024-05-28 16:30:00,230] p4855 {credentials.py:1075} INFO - Found credentials from IAM Role: BaseNotebookInstanceEc2InstanceRole\n",
      "[2024-05-28 16:30:00,285] p4855 {790141951.py:38} INFO - Ingesting data into pipeline\n",
      "[2024-05-28 16:30:00,286] p4855 {790141951.py:39} INFO - Response: 24 - 200 OK\n",
      "[2024-05-28 16:30:00,287] p4855 {790141951.py:4} INFO - going to convert multimodal/pdf_txt/Boeing_rec_text_1.txt into embeddings\n"
     ]
    },
    {
     "name": "stdout",
     "output_type": "stream",
     "text": [
      "json_file_path: pdf_text_json_dir/Amazon_rec_text_2.json\n"
     ]
    },
    {
     "name": "stderr",
     "output_type": "stream",
     "text": [
      "[2024-05-28 16:30:00,573] p4855 {credentials.py:1075} INFO - Found credentials from IAM Role: BaseNotebookInstanceEc2InstanceRole\n",
      "[2024-05-28 16:30:00,619] p4855 {790141951.py:38} INFO - Ingesting data into pipeline\n",
      "[2024-05-28 16:30:00,622] p4855 {790141951.py:39} INFO - Response: 25 - 200 OK\n",
      "[2024-05-28 16:30:00,624] p4855 {790141951.py:4} INFO - going to convert multimodal/pdf_txt/Cisco_rec_text_3.txt into embeddings\n"
     ]
    },
    {
     "name": "stdout",
     "output_type": "stream",
     "text": [
      "json_file_path: pdf_text_json_dir/Boeing_rec_text_1.json\n"
     ]
    },
    {
     "name": "stderr",
     "output_type": "stream",
     "text": [
      "[2024-05-28 16:30:00,881] p4855 {credentials.py:1075} INFO - Found credentials from IAM Role: BaseNotebookInstanceEc2InstanceRole\n",
      "[2024-05-28 16:30:00,922] p4855 {790141951.py:38} INFO - Ingesting data into pipeline\n",
      "[2024-05-28 16:30:00,924] p4855 {790141951.py:39} INFO - Response: 26 - 200 OK\n",
      "[2024-05-28 16:30:00,926] p4855 {790141951.py:4} INFO - going to convert multimodal/pdf_txt/AMD_rec_text_2.txt into embeddings\n"
     ]
    },
    {
     "name": "stdout",
     "output_type": "stream",
     "text": [
      "json_file_path: pdf_text_json_dir/Cisco_rec_text_3.json\n"
     ]
    },
    {
     "name": "stderr",
     "output_type": "stream",
     "text": [
      "[2024-05-28 16:30:01,302] p4855 {credentials.py:1075} INFO - Found credentials from IAM Role: BaseNotebookInstanceEc2InstanceRole\n",
      "[2024-05-28 16:30:01,354] p4855 {790141951.py:38} INFO - Ingesting data into pipeline\n",
      "[2024-05-28 16:30:01,359] p4855 {790141951.py:39} INFO - Response: 27 - 200 OK\n",
      "[2024-05-28 16:30:01,360] p4855 {790141951.py:4} INFO - going to convert multimodal/pdf_txt/tesla_rec_text_5.txt into embeddings\n"
     ]
    },
    {
     "name": "stdout",
     "output_type": "stream",
     "text": [
      "json_file_path: pdf_text_json_dir/AMD_rec_text_2.json\n"
     ]
    },
    {
     "name": "stderr",
     "output_type": "stream",
     "text": [
      "[2024-05-28 16:30:01,710] p4855 {credentials.py:1075} INFO - Found credentials from IAM Role: BaseNotebookInstanceEc2InstanceRole\n",
      "[2024-05-28 16:30:01,759] p4855 {790141951.py:38} INFO - Ingesting data into pipeline\n",
      "[2024-05-28 16:30:01,761] p4855 {790141951.py:39} INFO - Response: 28 - 200 OK\n",
      "[2024-05-28 16:30:01,762] p4855 {790141951.py:4} INFO - going to convert multimodal/pdf_txt/Cisco_rec_text_2.txt into embeddings\n"
     ]
    },
    {
     "name": "stdout",
     "output_type": "stream",
     "text": [
      "json_file_path: pdf_text_json_dir/tesla_rec_text_5.json\n"
     ]
    },
    {
     "name": "stderr",
     "output_type": "stream",
     "text": [
      "[2024-05-28 16:30:02,050] p4855 {credentials.py:1075} INFO - Found credentials from IAM Role: BaseNotebookInstanceEc2InstanceRole\n",
      "[2024-05-28 16:30:02,113] p4855 {790141951.py:38} INFO - Ingesting data into pipeline\n",
      "[2024-05-28 16:30:02,115] p4855 {790141951.py:39} INFO - Response: 29 - 200 OK\n",
      "[2024-05-28 16:30:02,116] p4855 {790141951.py:4} INFO - going to convert multimodal/pdf_txt/AMD_rec_text_4.txt into embeddings\n"
     ]
    },
    {
     "name": "stdout",
     "output_type": "stream",
     "text": [
      "json_file_path: pdf_text_json_dir/Cisco_rec_text_2.json\n"
     ]
    },
    {
     "name": "stderr",
     "output_type": "stream",
     "text": [
      "[2024-05-28 16:30:02,364] p4855 {credentials.py:1075} INFO - Found credentials from IAM Role: BaseNotebookInstanceEc2InstanceRole\n",
      "[2024-05-28 16:30:02,403] p4855 {790141951.py:38} INFO - Ingesting data into pipeline\n",
      "[2024-05-28 16:30:02,404] p4855 {790141951.py:39} INFO - Response: 30 - 200 OK\n",
      "[2024-05-28 16:30:02,405] p4855 {790141951.py:4} INFO - going to convert multimodal/pdf_txt/AMD_rec_text_6.txt into embeddings\n"
     ]
    },
    {
     "name": "stdout",
     "output_type": "stream",
     "text": [
      "json_file_path: pdf_text_json_dir/AMD_rec_text_4.json\n"
     ]
    },
    {
     "name": "stderr",
     "output_type": "stream",
     "text": [
      "[2024-05-28 16:30:02,669] p4855 {credentials.py:1075} INFO - Found credentials from IAM Role: BaseNotebookInstanceEc2InstanceRole\n",
      "[2024-05-28 16:30:02,712] p4855 {790141951.py:38} INFO - Ingesting data into pipeline\n",
      "[2024-05-28 16:30:02,713] p4855 {790141951.py:39} INFO - Response: 31 - 200 OK\n",
      "[2024-05-28 16:30:02,714] p4855 {790141951.py:4} INFO - going to convert multimodal/pdf_txt/Microsoft_rec_text_7.txt into embeddings\n"
     ]
    },
    {
     "name": "stdout",
     "output_type": "stream",
     "text": [
      "json_file_path: pdf_text_json_dir/AMD_rec_text_6.json\n"
     ]
    },
    {
     "name": "stderr",
     "output_type": "stream",
     "text": [
      "[2024-05-28 16:30:03,045] p4855 {credentials.py:1075} INFO - Found credentials from IAM Role: BaseNotebookInstanceEc2InstanceRole\n",
      "[2024-05-28 16:30:03,105] p4855 {790141951.py:38} INFO - Ingesting data into pipeline\n",
      "[2024-05-28 16:30:03,108] p4855 {790141951.py:39} INFO - Response: 32 - 200 OK\n",
      "[2024-05-28 16:30:03,109] p4855 {790141951.py:4} INFO - going to convert multimodal/pdf_txt/tesla_rec_text_4.txt into embeddings\n"
     ]
    },
    {
     "name": "stdout",
     "output_type": "stream",
     "text": [
      "json_file_path: pdf_text_json_dir/Microsoft_rec_text_7.json\n"
     ]
    },
    {
     "name": "stderr",
     "output_type": "stream",
     "text": [
      "[2024-05-28 16:30:03,441] p4855 {credentials.py:1075} INFO - Found credentials from IAM Role: BaseNotebookInstanceEc2InstanceRole\n",
      "[2024-05-28 16:30:03,476] p4855 {790141951.py:38} INFO - Ingesting data into pipeline\n",
      "[2024-05-28 16:30:03,477] p4855 {790141951.py:39} INFO - Response: 33 - 200 OK\n",
      "[2024-05-28 16:30:03,478] p4855 {790141951.py:4} INFO - going to convert multimodal/pdf_txt/Boeing_rec_text_3.txt into embeddings\n"
     ]
    },
    {
     "name": "stdout",
     "output_type": "stream",
     "text": [
      "json_file_path: pdf_text_json_dir/tesla_rec_text_4.json\n",
      "json_file_path: pdf_text_json_dir/Boeing_rec_text_3.json\n"
     ]
    },
    {
     "name": "stderr",
     "output_type": "stream",
     "text": [
      "[2024-05-28 16:30:04,053] p4855 {credentials.py:1075} INFO - Found credentials from IAM Role: BaseNotebookInstanceEc2InstanceRole\n",
      "[2024-05-28 16:30:04,111] p4855 {790141951.py:38} INFO - Ingesting data into pipeline\n",
      "[2024-05-28 16:30:04,112] p4855 {790141951.py:39} INFO - Response: 34 - 200 OK\n",
      "[2024-05-28 16:30:04,113] p4855 {790141951.py:4} INFO - going to convert multimodal/pdf_txt/Microsoft_rec_text_4.txt into embeddings\n",
      "[2024-05-28 16:30:04,460] p4855 {credentials.py:1075} INFO - Found credentials from IAM Role: BaseNotebookInstanceEc2InstanceRole\n",
      "[2024-05-28 16:30:04,508] p4855 {790141951.py:38} INFO - Ingesting data into pipeline\n",
      "[2024-05-28 16:30:04,509] p4855 {790141951.py:39} INFO - Response: 35 - 200 OK\n",
      "[2024-05-28 16:30:04,510] p4855 {790141951.py:4} INFO - going to convert multimodal/pdf_txt/AMD_rec_text_3.txt into embeddings\n"
     ]
    },
    {
     "name": "stdout",
     "output_type": "stream",
     "text": [
      "json_file_path: pdf_text_json_dir/Microsoft_rec_text_4.json\n"
     ]
    },
    {
     "name": "stderr",
     "output_type": "stream",
     "text": [
      "[2024-05-28 16:30:04,789] p4855 {credentials.py:1075} INFO - Found credentials from IAM Role: BaseNotebookInstanceEc2InstanceRole\n",
      "[2024-05-28 16:30:04,860] p4855 {790141951.py:38} INFO - Ingesting data into pipeline\n",
      "[2024-05-28 16:30:04,862] p4855 {790141951.py:39} INFO - Response: 36 - 200 OK\n",
      "[2024-05-28 16:30:04,865] p4855 {790141951.py:4} INFO - going to convert multimodal/pdf_txt/APPLE_rec_text_6.txt into embeddings\n"
     ]
    },
    {
     "name": "stdout",
     "output_type": "stream",
     "text": [
      "json_file_path: pdf_text_json_dir/AMD_rec_text_3.json\n"
     ]
    },
    {
     "name": "stderr",
     "output_type": "stream",
     "text": [
      "[2024-05-28 16:30:05,075] p4855 {credentials.py:1075} INFO - Found credentials from IAM Role: BaseNotebookInstanceEc2InstanceRole\n",
      "[2024-05-28 16:30:05,145] p4855 {790141951.py:38} INFO - Ingesting data into pipeline\n",
      "[2024-05-28 16:30:05,147] p4855 {790141951.py:39} INFO - Response: 37 - 200 OK\n",
      "[2024-05-28 16:30:05,148] p4855 {790141951.py:4} INFO - going to convert multimodal/pdf_txt/Cisco_rec_text_4.txt into embeddings\n"
     ]
    },
    {
     "name": "stdout",
     "output_type": "stream",
     "text": [
      "json_file_path: pdf_text_json_dir/APPLE_rec_text_6.json\n"
     ]
    },
    {
     "name": "stderr",
     "output_type": "stream",
     "text": [
      "[2024-05-28 16:30:05,436] p4855 {credentials.py:1075} INFO - Found credentials from IAM Role: BaseNotebookInstanceEc2InstanceRole\n",
      "[2024-05-28 16:30:05,480] p4855 {790141951.py:38} INFO - Ingesting data into pipeline\n",
      "[2024-05-28 16:30:05,481] p4855 {790141951.py:39} INFO - Response: 38 - 200 OK\n",
      "[2024-05-28 16:30:05,482] p4855 {790141951.py:4} INFO - going to convert multimodal/pdf_txt/Microsoft_rec_text_2.txt into embeddings\n"
     ]
    },
    {
     "name": "stdout",
     "output_type": "stream",
     "text": [
      "json_file_path: pdf_text_json_dir/Cisco_rec_text_4.json\n"
     ]
    },
    {
     "name": "stderr",
     "output_type": "stream",
     "text": [
      "[2024-05-28 16:30:05,854] p4855 {credentials.py:1075} INFO - Found credentials from IAM Role: BaseNotebookInstanceEc2InstanceRole\n",
      "[2024-05-28 16:30:05,898] p4855 {790141951.py:38} INFO - Ingesting data into pipeline\n",
      "[2024-05-28 16:30:05,899] p4855 {790141951.py:39} INFO - Response: 39 - 200 OK\n",
      "[2024-05-28 16:30:05,900] p4855 {790141951.py:4} INFO - going to convert multimodal/pdf_txt/tesla_rec_text_1.txt into embeddings\n"
     ]
    },
    {
     "name": "stdout",
     "output_type": "stream",
     "text": [
      "json_file_path: pdf_text_json_dir/Microsoft_rec_text_2.json\n"
     ]
    },
    {
     "name": "stderr",
     "output_type": "stream",
     "text": [
      "[2024-05-28 16:30:06,273] p4855 {credentials.py:1075} INFO - Found credentials from IAM Role: BaseNotebookInstanceEc2InstanceRole\n",
      "[2024-05-28 16:30:06,316] p4855 {790141951.py:38} INFO - Ingesting data into pipeline\n",
      "[2024-05-28 16:30:06,318] p4855 {790141951.py:39} INFO - Response: 40 - 200 OK\n",
      "[2024-05-28 16:30:06,320] p4855 {790141951.py:4} INFO - going to convert multimodal/pdf_txt/APPLE_rec_text_3.txt into embeddings\n"
     ]
    },
    {
     "name": "stdout",
     "output_type": "stream",
     "text": [
      "json_file_path: pdf_text_json_dir/tesla_rec_text_1.json\n"
     ]
    },
    {
     "name": "stderr",
     "output_type": "stream",
     "text": [
      "[2024-05-28 16:30:06,551] p4855 {credentials.py:1075} INFO - Found credentials from IAM Role: BaseNotebookInstanceEc2InstanceRole\n",
      "[2024-05-28 16:30:06,593] p4855 {790141951.py:38} INFO - Ingesting data into pipeline\n",
      "[2024-05-28 16:30:06,596] p4855 {790141951.py:39} INFO - Response: 41 - 200 OK\n",
      "[2024-05-28 16:30:06,596] p4855 {790141951.py:4} INFO - going to convert multimodal/pdf_txt/tesla_rec_text_3.txt into embeddings\n"
     ]
    },
    {
     "name": "stdout",
     "output_type": "stream",
     "text": [
      "json_file_path: pdf_text_json_dir/APPLE_rec_text_3.json\n"
     ]
    },
    {
     "name": "stderr",
     "output_type": "stream",
     "text": [
      "[2024-05-28 16:30:07,019] p4855 {credentials.py:1075} INFO - Found credentials from IAM Role: BaseNotebookInstanceEc2InstanceRole\n",
      "[2024-05-28 16:30:07,058] p4855 {790141951.py:38} INFO - Ingesting data into pipeline\n",
      "[2024-05-28 16:30:07,060] p4855 {790141951.py:39} INFO - Response: 42 - 200 OK\n",
      "[2024-05-28 16:30:07,062] p4855 {790141951.py:4} INFO - going to convert multimodal/pdf_txt/Cisco_rec_text_1.txt into embeddings\n"
     ]
    },
    {
     "name": "stdout",
     "output_type": "stream",
     "text": [
      "json_file_path: pdf_text_json_dir/tesla_rec_text_3.json\n"
     ]
    },
    {
     "name": "stderr",
     "output_type": "stream",
     "text": [
      "[2024-05-28 16:30:07,468] p4855 {credentials.py:1075} INFO - Found credentials from IAM Role: BaseNotebookInstanceEc2InstanceRole\n",
      "[2024-05-28 16:30:07,528] p4855 {790141951.py:38} INFO - Ingesting data into pipeline\n",
      "[2024-05-28 16:30:07,530] p4855 {790141951.py:39} INFO - Response: 43 - 200 OK\n",
      "[2024-05-28 16:30:07,531] p4855 {790141951.py:4} INFO - going to convert multimodal/pdf_txt/AMD_rec_text_7.txt into embeddings\n"
     ]
    },
    {
     "name": "stdout",
     "output_type": "stream",
     "text": [
      "json_file_path: pdf_text_json_dir/Cisco_rec_text_1.json\n"
     ]
    },
    {
     "name": "stderr",
     "output_type": "stream",
     "text": [
      "[2024-05-28 16:30:07,730] p4855 {credentials.py:1075} INFO - Found credentials from IAM Role: BaseNotebookInstanceEc2InstanceRole\n",
      "[2024-05-28 16:30:07,766] p4855 {790141951.py:38} INFO - Ingesting data into pipeline\n",
      "[2024-05-28 16:30:07,767] p4855 {790141951.py:39} INFO - Response: 44 - 200 OK\n",
      "[2024-05-28 16:30:07,768] p4855 {790141951.py:4} INFO - going to convert multimodal/pdf_txt/APPLE_rec_text_1.txt into embeddings\n"
     ]
    },
    {
     "name": "stdout",
     "output_type": "stream",
     "text": [
      "json_file_path: pdf_text_json_dir/AMD_rec_text_7.json\n"
     ]
    },
    {
     "name": "stderr",
     "output_type": "stream",
     "text": [
      "[2024-05-28 16:30:08,018] p4855 {credentials.py:1075} INFO - Found credentials from IAM Role: BaseNotebookInstanceEc2InstanceRole\n",
      "[2024-05-28 16:30:08,062] p4855 {790141951.py:38} INFO - Ingesting data into pipeline\n",
      "[2024-05-28 16:30:08,063] p4855 {790141951.py:39} INFO - Response: 45 - 200 OK\n",
      "[2024-05-28 16:30:08,064] p4855 {790141951.py:4} INFO - going to convert multimodal/pdf_txt/Microsoft_rec_text_5.txt into embeddings\n"
     ]
    },
    {
     "name": "stdout",
     "output_type": "stream",
     "text": [
      "json_file_path: pdf_text_json_dir/APPLE_rec_text_1.json\n"
     ]
    },
    {
     "name": "stderr",
     "output_type": "stream",
     "text": [
      "[2024-05-28 16:30:08,435] p4855 {credentials.py:1075} INFO - Found credentials from IAM Role: BaseNotebookInstanceEc2InstanceRole\n",
      "[2024-05-28 16:30:08,479] p4855 {790141951.py:38} INFO - Ingesting data into pipeline\n",
      "[2024-05-28 16:30:08,481] p4855 {790141951.py:39} INFO - Response: 46 - 200 OK\n",
      "[2024-05-28 16:30:08,482] p4855 {790141951.py:4} INFO - going to convert multimodal/pdf_txt/APPLE_rec_text_4.txt into embeddings\n"
     ]
    },
    {
     "name": "stdout",
     "output_type": "stream",
     "text": [
      "json_file_path: pdf_text_json_dir/Microsoft_rec_text_5.json\n"
     ]
    },
    {
     "name": "stderr",
     "output_type": "stream",
     "text": [
      "[2024-05-28 16:30:08,753] p4855 {credentials.py:1075} INFO - Found credentials from IAM Role: BaseNotebookInstanceEc2InstanceRole\n",
      "[2024-05-28 16:30:08,812] p4855 {790141951.py:38} INFO - Ingesting data into pipeline\n",
      "[2024-05-28 16:30:08,816] p4855 {790141951.py:39} INFO - Response: 47 - 200 OK\n",
      "[2024-05-28 16:30:08,818] p4855 {790141951.py:4} INFO - going to convert multimodal/pdf_txt/APPLE_rec_text_2.txt into embeddings\n"
     ]
    },
    {
     "name": "stdout",
     "output_type": "stream",
     "text": [
      "json_file_path: pdf_text_json_dir/APPLE_rec_text_4.json\n"
     ]
    },
    {
     "name": "stderr",
     "output_type": "stream",
     "text": [
      "[2024-05-28 16:30:09,221] p4855 {credentials.py:1075} INFO - Found credentials from IAM Role: BaseNotebookInstanceEc2InstanceRole\n",
      "[2024-05-28 16:30:09,266] p4855 {790141951.py:38} INFO - Ingesting data into pipeline\n",
      "[2024-05-28 16:30:09,267] p4855 {790141951.py:39} INFO - Response: 48 - 200 OK\n",
      "[2024-05-28 16:30:09,268] p4855 {790141951.py:4} INFO - going to convert multimodal/pdf_txt/Intel_rec_text_5.txt into embeddings\n"
     ]
    },
    {
     "name": "stdout",
     "output_type": "stream",
     "text": [
      "json_file_path: pdf_text_json_dir/APPLE_rec_text_2.json\n"
     ]
    },
    {
     "name": "stderr",
     "output_type": "stream",
     "text": [
      "[2024-05-28 16:30:09,700] p4855 {credentials.py:1075} INFO - Found credentials from IAM Role: BaseNotebookInstanceEc2InstanceRole\n",
      "[2024-05-28 16:30:09,760] p4855 {790141951.py:38} INFO - Ingesting data into pipeline\n",
      "[2024-05-28 16:30:09,762] p4855 {790141951.py:39} INFO - Response: 49 - 200 OK\n"
     ]
    },
    {
     "name": "stdout",
     "output_type": "stream",
     "text": [
      "json_file_path: pdf_text_json_dir/Intel_rec_text_5.json\n"
     ]
    }
   ],
   "source": [
    "txt_page_index = 1\n",
    "os.makedirs(g.JSON_TEXT_DIR, exist_ok=True)\n",
    "for txt_file in pdf_txt_file_list:\n",
    "    logger.info(f\"going to convert {txt_file} into embeddings\")\n",
    "    with open(txt_file, 'r') as file:\n",
    "        extracted_pdf_text = file.read()\n",
    "    embedding = get_text_embedding(bedrock, extracted_pdf_text)\n",
    "    # Adjust this logic according to your configuration\n",
    "    input_text_s3 = f\"s3://{bucket_name}/{g.BUCKET_PDF_TEXT_PREFIX}/{Path(txt_file).stem}{g.TEXT_FILE_EXTN}\"\n",
    "    obj_name = f\"{Path(txt_file).stem}{g.TEXT_FILE_EXTN}\"\n",
    "\n",
    "    data = json.dumps([{\n",
    "        \"file_path\": input_text_s3, \n",
    "        \"file_text\": extracted_pdf_text,\n",
    "        \"file_number\": txt_page_index, \n",
    "        \"metadata\": {\n",
    "            \"filename\": obj_name, \n",
    "            \"desc\": \"\" \n",
    "        }, \n",
    "        \"vector_embedding\": embedding\n",
    "    }])\n",
    "    json_data = {\n",
    "        \"file_type\": g.TEXT_FILE_EXTN,\n",
    "        \"file_name\": Path(txt_file).stem,\n",
    "        \"text\": extracted_pdf_text, \n",
    "        \"page_number\": re.search(r\"text_(\\d+)_?\", obj_name).group(1)\n",
    "    }\n",
    "    os.makedirs(g.JSON_TEXT_DIR, exist_ok=True)\n",
    "    fpath = os.path.join(g.JSON_TEXT_DIR, f\"{Path(txt_file).stem}.json\")\n",
    "    print(f\"json_file_path: {fpath}\")\n",
    "    Path(fpath).write_text(json.dumps(json_data, default=str, indent=2))\n",
    "    r = requests.request(\n",
    "        method='POST',\n",
    "        url=osi_text_endpoint,\n",
    "        data=data,\n",
    "        auth=AWSSigV4('osis'))\n",
    "\n",
    "    logger.info(\"Ingesting data into pipeline\")\n",
    "    logger.info(f\"Response: {txt_page_index} - {r.text}\")\n",
    "    txt_page_index += 1"
   ]
  },
  {
   "cell_type": "code",
   "execution_count": null,
   "id": "51abea31-2b41-4dcb-b4ac-8e56f48b327a",
   "metadata": {},
   "outputs": [],
   "source": []
  }
 ],
 "metadata": {
  "kernelspec": {
   "display_name": "conda_python3",
   "language": "python",
   "name": "conda_python3"
  },
  "language_info": {
   "codemirror_mode": {
    "name": "ipython",
    "version": 3
   },
   "file_extension": ".py",
   "mimetype": "text/x-python",
   "name": "python",
   "nbconvert_exporter": "python",
   "pygments_lexer": "ipython3",
   "version": "3.10.14"
  }
 },
 "nbformat": 4,
 "nbformat_minor": 5
}
