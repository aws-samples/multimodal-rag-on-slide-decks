{
 "cells": [
  {
   "cell_type": "markdown",
   "id": "00c6eba0-3e0f-4325-a352-1763d2749055",
   "metadata": {},
   "source": [
    "# Data preparation\n",
    "\n",
    "***This notebook works best with the `conda_python3` on the `ml.t3.large` instance***.\n",
    "\n",
    "---\n",
    "\n",
    "In this notebook we download a publicly available slide deck and convert it into images, one image for each slide. These images are then stored in Amazon S3 from where they can be made available to a Amazon SageMaker Endpoint for inference.\n",
    "\n",
    "The slide deck choose is [Train and deploy Stable Diffusion using AWS Trainium & AWS Inferentia](https://d1.awsstatic.com/events/Summits/torsummit2023/CMP301_TrainDeploy_E1_20230607_SPEdited.pdf). To use a different slide deck you can update the `SLIDE_DECK` variable in [`globals.py`](./globals.py).\n"
   ]
  },
  {
   "cell_type": "markdown",
   "id": "34c37157-7d48-4422-a107-7c2ddd843747",
   "metadata": {},
   "source": [
    "## Step 1. Setup\n",
    "\n",
    "Install the required Python packages and import the relevant files."
   ]
  },
  {
   "cell_type": "code",
   "execution_count": 1,
   "id": "6605ceea-e65d-4822-bbf5-d96f0ae77a83",
   "metadata": {
    "tags": []
   },
   "outputs": [
    {
     "name": "stdout",
     "output_type": "stream",
     "text": [
      "Requirement already satisfied: sagemaker==2.221.1 in /home/ec2-user/anaconda3/envs/python3/lib/python3.10/site-packages (from -r requirements.txt (line 1)) (2.221.1)\n",
      "Requirement already satisfied: pypdfium2==4.24.0 in /home/ec2-user/anaconda3/envs/python3/lib/python3.10/site-packages (from -r requirements.txt (line 2)) (4.24.0)\n",
      "Requirement already satisfied: ray==2.10.0 in /home/ec2-user/anaconda3/envs/python3/lib/python3.10/site-packages (from -r requirements.txt (line 3)) (2.10.0)\n",
      "Requirement already satisfied: PyPDF2==3.0.1 in /home/ec2-user/anaconda3/envs/python3/lib/python3.10/site-packages (from -r requirements.txt (line 4)) (3.0.1)\n",
      "Requirement already satisfied: PyMuPDF==1.24.3 in /home/ec2-user/anaconda3/envs/python3/lib/python3.10/site-packages (from -r requirements.txt (line 5)) (1.24.3)\n",
      "Requirement already satisfied: pdf2image==1.17.0 in /home/ec2-user/anaconda3/envs/python3/lib/python3.10/site-packages (from -r requirements.txt (line 6)) (1.17.0)\n",
      "Requirement already satisfied: litellm==1.37.20 in /home/ec2-user/anaconda3/envs/python3/lib/python3.10/site-packages (from -r requirements.txt (line 7)) (1.37.20)\n",
      "Requirement already satisfied: httplib2==0.19.0 in /home/ec2-user/anaconda3/envs/python3/lib/python3.10/site-packages (from -r requirements.txt (line 8)) (0.19.0)\n",
      "Requirement already satisfied: langchain==0.0.340 in /home/ec2-user/anaconda3/envs/python3/lib/python3.10/site-packages (from -r requirements.txt (line 9)) (0.0.340)\n",
      "Requirement already satisfied: requests==2.31.0 in /home/ec2-user/anaconda3/envs/python3/lib/python3.10/site-packages (from -r requirements.txt (line 10)) (2.31.0)\n",
      "Requirement already satisfied: pandas==1.5.3 in /home/ec2-user/anaconda3/envs/python3/lib/python3.10/site-packages (from -r requirements.txt (line 11)) (1.5.3)\n",
      "Requirement already satisfied: boto3==1.34.118 in /home/ec2-user/anaconda3/envs/python3/lib/python3.10/site-packages (from -r requirements.txt (line 12)) (1.34.118)\n",
      "Requirement already satisfied: botocore==1.34.118 in /home/ec2-user/anaconda3/envs/python3/lib/python3.10/site-packages (from -r requirements.txt (line 13)) (1.34.118)\n",
      "Requirement already satisfied: opensearch-py==2.5.0 in /home/ec2-user/anaconda3/envs/python3/lib/python3.10/site-packages (from -r requirements.txt (line 14)) (2.5.0)\n",
      "Requirement already satisfied: numexpr==2.8.0 in /home/ec2-user/anaconda3/envs/python3/lib/python3.10/site-packages (from -r requirements.txt (line 15)) (2.8.0)\n",
      "Requirement already satisfied: packaging>=22.0 in /home/ec2-user/anaconda3/envs/python3/lib/python3.10/site-packages (from -r requirements.txt (line 16)) (24.1)\n",
      "Requirement already satisfied: rouge-score==0.1.2 in /home/ec2-user/anaconda3/envs/python3/lib/python3.10/site-packages (from -r requirements.txt (line 17)) (0.1.2)\n",
      "Requirement already satisfied: docutils in /home/ec2-user/anaconda3/envs/python3/lib/python3.10/site-packages (from -r requirements.txt (line 18)) (0.16)\n",
      "Requirement already satisfied: openpyxl in /home/ec2-user/anaconda3/envs/python3/lib/python3.10/site-packages (from -r requirements.txt (line 20)) (3.1.4)\n",
      "Requirement already satisfied: requests-auth-aws-sigv4 in /home/ec2-user/anaconda3/envs/python3/lib/python3.10/site-packages (from -r requirements.txt (line 21)) (0.7)\n",
      "Requirement already satisfied: attrs<24,>=23.1.0 in /home/ec2-user/anaconda3/envs/python3/lib/python3.10/site-packages (from sagemaker==2.221.1->-r requirements.txt (line 1)) (23.2.0)\n",
      "Requirement already satisfied: cloudpickle==2.2.1 in /home/ec2-user/anaconda3/envs/python3/lib/python3.10/site-packages (from sagemaker==2.221.1->-r requirements.txt (line 1)) (2.2.1)\n",
      "Requirement already satisfied: google-pasta in /home/ec2-user/anaconda3/envs/python3/lib/python3.10/site-packages (from sagemaker==2.221.1->-r requirements.txt (line 1)) (0.2.0)\n",
      "Requirement already satisfied: numpy<2.0,>=1.9.0 in /home/ec2-user/anaconda3/envs/python3/lib/python3.10/site-packages (from sagemaker==2.221.1->-r requirements.txt (line 1)) (1.22.4)\n",
      "Requirement already satisfied: protobuf<5.0,>=3.12 in /home/ec2-user/anaconda3/envs/python3/lib/python3.10/site-packages (from sagemaker==2.221.1->-r requirements.txt (line 1)) (4.25.3)\n",
      "Requirement already satisfied: smdebug-rulesconfig==1.0.1 in /home/ec2-user/anaconda3/envs/python3/lib/python3.10/site-packages (from sagemaker==2.221.1->-r requirements.txt (line 1)) (1.0.1)\n",
      "Requirement already satisfied: importlib-metadata<7.0,>=1.4.0 in /home/ec2-user/anaconda3/envs/python3/lib/python3.10/site-packages (from sagemaker==2.221.1->-r requirements.txt (line 1)) (6.11.0)\n",
      "Requirement already satisfied: pathos in /home/ec2-user/anaconda3/envs/python3/lib/python3.10/site-packages (from sagemaker==2.221.1->-r requirements.txt (line 1)) (0.3.2)\n",
      "Requirement already satisfied: schema in /home/ec2-user/anaconda3/envs/python3/lib/python3.10/site-packages (from sagemaker==2.221.1->-r requirements.txt (line 1)) (0.7.7)\n",
      "Requirement already satisfied: PyYAML~=6.0 in /home/ec2-user/anaconda3/envs/python3/lib/python3.10/site-packages (from sagemaker==2.221.1->-r requirements.txt (line 1)) (6.0.1)\n",
      "Requirement already satisfied: jsonschema in /home/ec2-user/anaconda3/envs/python3/lib/python3.10/site-packages (from sagemaker==2.221.1->-r requirements.txt (line 1)) (4.21.1)\n",
      "Requirement already satisfied: platformdirs in /home/ec2-user/anaconda3/envs/python3/lib/python3.10/site-packages (from sagemaker==2.221.1->-r requirements.txt (line 1)) (4.2.0)\n",
      "Requirement already satisfied: tblib<4,>=1.7.0 in /home/ec2-user/anaconda3/envs/python3/lib/python3.10/site-packages (from sagemaker==2.221.1->-r requirements.txt (line 1)) (3.0.0)\n",
      "Requirement already satisfied: urllib3<3.0.0,>=1.26.8 in /home/ec2-user/anaconda3/envs/python3/lib/python3.10/site-packages (from sagemaker==2.221.1->-r requirements.txt (line 1)) (1.26.18)\n",
      "Requirement already satisfied: docker in /home/ec2-user/anaconda3/envs/python3/lib/python3.10/site-packages (from sagemaker==2.221.1->-r requirements.txt (line 1)) (6.1.3)\n",
      "Requirement already satisfied: tqdm in /home/ec2-user/anaconda3/envs/python3/lib/python3.10/site-packages (from sagemaker==2.221.1->-r requirements.txt (line 1)) (4.66.2)\n",
      "Requirement already satisfied: psutil in /home/ec2-user/anaconda3/envs/python3/lib/python3.10/site-packages (from sagemaker==2.221.1->-r requirements.txt (line 1)) (5.9.8)\n",
      "Requirement already satisfied: click>=7.0 in /home/ec2-user/anaconda3/envs/python3/lib/python3.10/site-packages (from ray==2.10.0->-r requirements.txt (line 3)) (8.1.7)\n",
      "Requirement already satisfied: filelock in /home/ec2-user/anaconda3/envs/python3/lib/python3.10/site-packages (from ray==2.10.0->-r requirements.txt (line 3)) (3.13.3)\n",
      "Requirement already satisfied: msgpack<2.0.0,>=1.0.0 in /home/ec2-user/anaconda3/envs/python3/lib/python3.10/site-packages (from ray==2.10.0->-r requirements.txt (line 3)) (1.0.7)\n",
      "Requirement already satisfied: aiosignal in /home/ec2-user/anaconda3/envs/python3/lib/python3.10/site-packages (from ray==2.10.0->-r requirements.txt (line 3)) (1.3.1)\n",
      "Requirement already satisfied: frozenlist in /home/ec2-user/anaconda3/envs/python3/lib/python3.10/site-packages (from ray==2.10.0->-r requirements.txt (line 3)) (1.4.1)\n",
      "Requirement already satisfied: PyMuPDFb==1.24.3 in /home/ec2-user/anaconda3/envs/python3/lib/python3.10/site-packages (from PyMuPDF==1.24.3->-r requirements.txt (line 5)) (1.24.3)\n",
      "Requirement already satisfied: pillow in /home/ec2-user/anaconda3/envs/python3/lib/python3.10/site-packages (from pdf2image==1.17.0->-r requirements.txt (line 6)) (10.2.0)\n",
      "Requirement already satisfied: aiohttp in /home/ec2-user/anaconda3/envs/python3/lib/python3.10/site-packages (from litellm==1.37.20->-r requirements.txt (line 7)) (3.9.3)\n",
      "Requirement already satisfied: jinja2<4.0.0,>=3.1.2 in /home/ec2-user/anaconda3/envs/python3/lib/python3.10/site-packages (from litellm==1.37.20->-r requirements.txt (line 7)) (3.1.3)\n",
      "Requirement already satisfied: openai>=1.27.0 in /home/ec2-user/anaconda3/envs/python3/lib/python3.10/site-packages (from litellm==1.37.20->-r requirements.txt (line 7)) (1.34.0)\n",
      "Requirement already satisfied: python-dotenv>=0.2.0 in /home/ec2-user/anaconda3/envs/python3/lib/python3.10/site-packages (from litellm==1.37.20->-r requirements.txt (line 7)) (1.0.1)\n",
      "Requirement already satisfied: tiktoken>=0.4.0 in /home/ec2-user/anaconda3/envs/python3/lib/python3.10/site-packages (from litellm==1.37.20->-r requirements.txt (line 7)) (0.7.0)\n",
      "Requirement already satisfied: tokenizers in /home/ec2-user/anaconda3/envs/python3/lib/python3.10/site-packages (from litellm==1.37.20->-r requirements.txt (line 7)) (0.19.1)\n",
      "Requirement already satisfied: pyparsing<3,>=2.4.2 in /home/ec2-user/anaconda3/envs/python3/lib/python3.10/site-packages (from httplib2==0.19.0->-r requirements.txt (line 8)) (2.4.7)\n",
      "Requirement already satisfied: SQLAlchemy<3,>=1.4 in /home/ec2-user/anaconda3/envs/python3/lib/python3.10/site-packages (from langchain==0.0.340->-r requirements.txt (line 9)) (2.0.29)\n",
      "Requirement already satisfied: anyio<4.0 in /home/ec2-user/anaconda3/envs/python3/lib/python3.10/site-packages (from langchain==0.0.340->-r requirements.txt (line 9)) (3.7.1)\n",
      "Requirement already satisfied: async-timeout<5.0.0,>=4.0.0 in /home/ec2-user/anaconda3/envs/python3/lib/python3.10/site-packages (from langchain==0.0.340->-r requirements.txt (line 9)) (4.0.3)\n",
      "Requirement already satisfied: dataclasses-json<0.7,>=0.5.7 in /home/ec2-user/anaconda3/envs/python3/lib/python3.10/site-packages (from langchain==0.0.340->-r requirements.txt (line 9)) (0.6.7)\n",
      "Requirement already satisfied: jsonpatch<2.0,>=1.33 in /home/ec2-user/anaconda3/envs/python3/lib/python3.10/site-packages (from langchain==0.0.340->-r requirements.txt (line 9)) (1.33)\n",
      "Requirement already satisfied: langsmith<0.1.0,>=0.0.63 in /home/ec2-user/anaconda3/envs/python3/lib/python3.10/site-packages (from langchain==0.0.340->-r requirements.txt (line 9)) (0.0.92)\n",
      "Requirement already satisfied: pydantic<3,>=1 in /home/ec2-user/anaconda3/envs/python3/lib/python3.10/site-packages (from langchain==0.0.340->-r requirements.txt (line 9)) (2.7.4)\n",
      "Requirement already satisfied: tenacity<9.0.0,>=8.1.0 in /home/ec2-user/anaconda3/envs/python3/lib/python3.10/site-packages (from langchain==0.0.340->-r requirements.txt (line 9)) (8.2.3)\n",
      "Requirement already satisfied: charset-normalizer<4,>=2 in /home/ec2-user/anaconda3/envs/python3/lib/python3.10/site-packages (from requests==2.31.0->-r requirements.txt (line 10)) (3.3.2)\n",
      "Requirement already satisfied: idna<4,>=2.5 in /home/ec2-user/anaconda3/envs/python3/lib/python3.10/site-packages (from requests==2.31.0->-r requirements.txt (line 10)) (3.6)\n",
      "Requirement already satisfied: certifi>=2017.4.17 in /home/ec2-user/anaconda3/envs/python3/lib/python3.10/site-packages (from requests==2.31.0->-r requirements.txt (line 10)) (2024.2.2)\n",
      "Requirement already satisfied: python-dateutil>=2.8.1 in /home/ec2-user/anaconda3/envs/python3/lib/python3.10/site-packages (from pandas==1.5.3->-r requirements.txt (line 11)) (2.9.0)\n",
      "Requirement already satisfied: pytz>=2020.1 in /home/ec2-user/anaconda3/envs/python3/lib/python3.10/site-packages (from pandas==1.5.3->-r requirements.txt (line 11)) (2024.1)\n",
      "Requirement already satisfied: jmespath<2.0.0,>=0.7.1 in /home/ec2-user/anaconda3/envs/python3/lib/python3.10/site-packages (from boto3==1.34.118->-r requirements.txt (line 12)) (1.0.1)\n",
      "Requirement already satisfied: s3transfer<0.11.0,>=0.10.0 in /home/ec2-user/anaconda3/envs/python3/lib/python3.10/site-packages (from boto3==1.34.118->-r requirements.txt (line 12)) (0.10.1)\n",
      "Requirement already satisfied: six in /home/ec2-user/anaconda3/envs/python3/lib/python3.10/site-packages (from opensearch-py==2.5.0->-r requirements.txt (line 14)) (1.16.0)\n",
      "Requirement already satisfied: absl-py in /home/ec2-user/anaconda3/envs/python3/lib/python3.10/site-packages (from rouge-score==0.1.2->-r requirements.txt (line 17)) (2.1.0)\n",
      "Requirement already satisfied: nltk in /home/ec2-user/anaconda3/envs/python3/lib/python3.10/site-packages (from rouge-score==0.1.2->-r requirements.txt (line 17)) (3.8.1)\n",
      "Requirement already satisfied: et-xmlfile in /home/ec2-user/anaconda3/envs/python3/lib/python3.10/site-packages (from openpyxl->-r requirements.txt (line 20)) (1.1.0)\n",
      "Requirement already satisfied: multidict<7.0,>=4.5 in /home/ec2-user/anaconda3/envs/python3/lib/python3.10/site-packages (from aiohttp->litellm==1.37.20->-r requirements.txt (line 7)) (6.0.5)\n",
      "Requirement already satisfied: yarl<2.0,>=1.0 in /home/ec2-user/anaconda3/envs/python3/lib/python3.10/site-packages (from aiohttp->litellm==1.37.20->-r requirements.txt (line 7)) (1.9.4)\n",
      "Requirement already satisfied: sniffio>=1.1 in /home/ec2-user/anaconda3/envs/python3/lib/python3.10/site-packages (from anyio<4.0->langchain==0.0.340->-r requirements.txt (line 9)) (1.3.1)\n",
      "Requirement already satisfied: exceptiongroup in /home/ec2-user/anaconda3/envs/python3/lib/python3.10/site-packages (from anyio<4.0->langchain==0.0.340->-r requirements.txt (line 9)) (1.2.0)\n",
      "Requirement already satisfied: marshmallow<4.0.0,>=3.18.0 in /home/ec2-user/anaconda3/envs/python3/lib/python3.10/site-packages (from dataclasses-json<0.7,>=0.5.7->langchain==0.0.340->-r requirements.txt (line 9)) (3.21.3)\n",
      "Requirement already satisfied: typing-inspect<1,>=0.4.0 in /home/ec2-user/anaconda3/envs/python3/lib/python3.10/site-packages (from dataclasses-json<0.7,>=0.5.7->langchain==0.0.340->-r requirements.txt (line 9)) (0.9.0)\n",
      "Requirement already satisfied: zipp>=0.5 in /home/ec2-user/anaconda3/envs/python3/lib/python3.10/site-packages (from importlib-metadata<7.0,>=1.4.0->sagemaker==2.221.1->-r requirements.txt (line 1)) (3.17.0)\n",
      "Requirement already satisfied: MarkupSafe>=2.0 in /home/ec2-user/anaconda3/envs/python3/lib/python3.10/site-packages (from jinja2<4.0.0,>=3.1.2->litellm==1.37.20->-r requirements.txt (line 7)) (2.1.5)\n",
      "Requirement already satisfied: jsonpointer>=1.9 in /home/ec2-user/anaconda3/envs/python3/lib/python3.10/site-packages (from jsonpatch<2.0,>=1.33->langchain==0.0.340->-r requirements.txt (line 9)) (2.4)\n",
      "Requirement already satisfied: distro<2,>=1.7.0 in /home/ec2-user/anaconda3/envs/python3/lib/python3.10/site-packages (from openai>=1.27.0->litellm==1.37.20->-r requirements.txt (line 7)) (1.9.0)\n",
      "Requirement already satisfied: httpx<1,>=0.23.0 in /home/ec2-user/anaconda3/envs/python3/lib/python3.10/site-packages (from openai>=1.27.0->litellm==1.37.20->-r requirements.txt (line 7)) (0.27.0)\n",
      "Requirement already satisfied: typing-extensions<5,>=4.7 in /home/ec2-user/anaconda3/envs/python3/lib/python3.10/site-packages (from openai>=1.27.0->litellm==1.37.20->-r requirements.txt (line 7)) (4.10.0)\n",
      "Requirement already satisfied: annotated-types>=0.4.0 in /home/ec2-user/anaconda3/envs/python3/lib/python3.10/site-packages (from pydantic<3,>=1->langchain==0.0.340->-r requirements.txt (line 9)) (0.7.0)\n",
      "Requirement already satisfied: pydantic-core==2.18.4 in /home/ec2-user/anaconda3/envs/python3/lib/python3.10/site-packages (from pydantic<3,>=1->langchain==0.0.340->-r requirements.txt (line 9)) (2.18.4)\n",
      "Requirement already satisfied: greenlet!=0.4.17 in /home/ec2-user/anaconda3/envs/python3/lib/python3.10/site-packages (from SQLAlchemy<3,>=1.4->langchain==0.0.340->-r requirements.txt (line 9)) (3.0.3)\n",
      "Requirement already satisfied: regex>=2022.1.18 in /home/ec2-user/anaconda3/envs/python3/lib/python3.10/site-packages (from tiktoken>=0.4.0->litellm==1.37.20->-r requirements.txt (line 7)) (2023.12.25)\n",
      "Requirement already satisfied: websocket-client>=0.32.0 in /home/ec2-user/anaconda3/envs/python3/lib/python3.10/site-packages (from docker->sagemaker==2.221.1->-r requirements.txt (line 1)) (1.7.0)\n",
      "Requirement already satisfied: jsonschema-specifications>=2023.03.6 in /home/ec2-user/anaconda3/envs/python3/lib/python3.10/site-packages (from jsonschema->sagemaker==2.221.1->-r requirements.txt (line 1)) (2023.12.1)\n",
      "Requirement already satisfied: referencing>=0.28.4 in /home/ec2-user/anaconda3/envs/python3/lib/python3.10/site-packages (from jsonschema->sagemaker==2.221.1->-r requirements.txt (line 1)) (0.34.0)\n",
      "Requirement already satisfied: rpds-py>=0.7.1 in /home/ec2-user/anaconda3/envs/python3/lib/python3.10/site-packages (from jsonschema->sagemaker==2.221.1->-r requirements.txt (line 1)) (0.18.0)\n",
      "Requirement already satisfied: joblib in /home/ec2-user/anaconda3/envs/python3/lib/python3.10/site-packages (from nltk->rouge-score==0.1.2->-r requirements.txt (line 17)) (1.3.2)\n",
      "Requirement already satisfied: ppft>=1.7.6.8 in /home/ec2-user/anaconda3/envs/python3/lib/python3.10/site-packages (from pathos->sagemaker==2.221.1->-r requirements.txt (line 1)) (1.7.6.8)\n",
      "Requirement already satisfied: dill>=0.3.8 in /home/ec2-user/anaconda3/envs/python3/lib/python3.10/site-packages (from pathos->sagemaker==2.221.1->-r requirements.txt (line 1)) (0.3.8)\n",
      "Requirement already satisfied: pox>=0.3.4 in /home/ec2-user/anaconda3/envs/python3/lib/python3.10/site-packages (from pathos->sagemaker==2.221.1->-r requirements.txt (line 1)) (0.3.4)\n",
      "Requirement already satisfied: multiprocess>=0.70.16 in /home/ec2-user/anaconda3/envs/python3/lib/python3.10/site-packages (from pathos->sagemaker==2.221.1->-r requirements.txt (line 1)) (0.70.16)\n",
      "Requirement already satisfied: huggingface-hub<1.0,>=0.16.4 in /home/ec2-user/anaconda3/envs/python3/lib/python3.10/site-packages (from tokenizers->litellm==1.37.20->-r requirements.txt (line 7)) (0.23.3)\n",
      "Requirement already satisfied: httpcore==1.* in /home/ec2-user/anaconda3/envs/python3/lib/python3.10/site-packages (from httpx<1,>=0.23.0->openai>=1.27.0->litellm==1.37.20->-r requirements.txt (line 7)) (1.0.4)\n",
      "Requirement already satisfied: h11<0.15,>=0.13 in /home/ec2-user/anaconda3/envs/python3/lib/python3.10/site-packages (from httpcore==1.*->httpx<1,>=0.23.0->openai>=1.27.0->litellm==1.37.20->-r requirements.txt (line 7)) (0.14.0)\n",
      "Requirement already satisfied: fsspec>=2023.5.0 in /home/ec2-user/anaconda3/envs/python3/lib/python3.10/site-packages (from huggingface-hub<1.0,>=0.16.4->tokenizers->litellm==1.37.20->-r requirements.txt (line 7)) (2024.3.1)\n",
      "Requirement already satisfied: mypy-extensions>=0.3.0 in /home/ec2-user/anaconda3/envs/python3/lib/python3.10/site-packages (from typing-inspect<1,>=0.4.0->dataclasses-json<0.7,>=0.5.7->langchain==0.0.340->-r requirements.txt (line 9)) (1.0.0)\n"
     ]
    }
   ],
   "source": [
    "import sys\n",
    "!{sys.executable} -m pip install -r requirements.txt"
   ]
  },
  {
   "cell_type": "code",
   "execution_count": 2,
   "id": "42e2d0f4-7495-4f54-a5b7-3a20a4524516",
   "metadata": {
    "tags": []
   },
   "outputs": [
    {
     "name": "stdout",
     "output_type": "stream",
     "text": [
      "sagemaker.config INFO - Not applying SDK defaults from location: /etc/xdg/sagemaker/config.yaml\n",
      "sagemaker.config INFO - Not applying SDK defaults from location: /home/ec2-user/.config/sagemaker/config.yaml\n"
     ]
    }
   ],
   "source": [
    "import os\n",
    "import json\n",
    "import yaml\n",
    "import logging\n",
    "import globals as g\n",
    "from PIL import Image\n",
    "import requests as req\n",
    "from typing import List\n",
    "from pathlib import Path\n",
    "import pypdfium2 as pdfium\n",
    "from utils import upload_to_s3, get_bucket_name\n",
    "\n",
    "logging.basicConfig(format='[%(asctime)s] p%(process)s {%(filename)s:%(lineno)d} %(levelname)s - %(message)s', level=logging.INFO)\n",
    "logger = logging.getLogger(__name__)"
   ]
  },
  {
   "cell_type": "code",
   "execution_count": 3,
   "id": "a94d3407-56ba-4dc4-8416-eaf69bc20aaf",
   "metadata": {
    "tags": []
   },
   "outputs": [
    {
     "name": "stderr",
     "output_type": "stream",
     "text": [
      "[2024-06-17 18:05:09,737] p13945 {3725478428.py:7} INFO - config read from config.yaml -> {\n",
      "  \"app_name\": \"multi-modal-rag-bedrock\",\n",
      "  \"aws\": {\n",
      "    \"cfn_stack_name\": \"multi-modal-revised\",\n",
      "    \"os_service\": \"aoss\"\n",
      "  },\n",
      "  \"pdf_dir_info\": {\n",
      "    \"source_pdf_dir\": \"pdf_data\",\n",
      "    \"pdf_img_path\": \"images\",\n",
      "    \"slide_deck_img_dir\": \"img\",\n",
      "    \"pdf_txt_path\": \"text_files\",\n",
      "    \"pdf_extracted_data\": \"pdf_extracted_data\",\n",
      "    \"json_img_dir\": \"pdf_img_json_dir\",\n",
      "    \"json_txt_dir\": \"pdf_text_json_dir\",\n",
      "    \"bucket_prefix\": \"multimodal\",\n",
      "    \"bucket_img_prefix\": \"img\",\n",
      "    \"qna_dir\": \"question_answer_files\",\n",
      "    \"image_format\": \"JPEG\",\n",
      "    \"prompts\": \"prompt_templates\",\n",
      "    \"manually_saved_images_path\": \"manually_saved_imgs\",\n",
      "    \"manually_saved_images_provided\": false,\n",
      "    \"processed_prompts_for_eval\": \"processed_llm_judge_evaluation_prompts.csv\",\n",
      "    \"judge_model_eval_completions\": \"data/model_eval_completions\",\n",
      "    \"llm_as_a_judge_completions\": \"llm_as_a_judge_completions.csv\",\n",
      "    \"index_response_distribution\": \"index_response_distribution.csv\",\n",
      "    \"all_explanations\": \"all_explanations.txt\",\n",
      "    \"final_summary_analysis\": \"final_summary_analysis.txt\",\n",
      "    \"p95_metrics_file\": \"p95_summary_metrics.txt\"\n",
      "  },\n",
      "  \"run_steps\": {\n",
      "    \"1_data_prep_pdf_files.ipynb\": false,\n",
      "    \"1_data_prep_slide_deck.ipynb\": false,\n",
      "    \"2_data_ingestion.ipynb\": false,\n",
      "    \"3_rag_inference.ipynb\": true,\n",
      "    \"4_rag_evaluation.ipynb\": true,\n",
      "    \"5_cleanup.ipynb\": false\n",
      "  },\n",
      "  \"metrics_dir\": {\n",
      "    \"dir_name\": \"metrics\",\n",
      "    \"text_and_image_raw_content\": \"all_content_description.csv\",\n",
      "    \"eval_score_dataset\": \"quantitative_eval_metrics.csv\",\n",
      "    \"QnA_bank\": \"synthetic_qna_bank.csv\"\n",
      "  },\n",
      "  \"page_split_imgs\": {\n",
      "    \"horizontal_split\": false,\n",
      "    \"vertical_split\": false,\n",
      "    \"image_scale\": 3\n",
      "  },\n",
      "  \"content_info\": {\n",
      "    \"content_type\": \"pdf\",\n",
      "    \"pdf_local_files\": [\n",
      "      \"https://docs.aws.amazon.com/pdfs/whitepapers/latest/ml-best-practices-healthcare-life-sciences/ml-best-practices-healthcare-life-sciences.pdf#ml-best-practices-healthcare-life-sciences\"\n",
      "    ],\n",
      "    \"slide_deck\": {\n",
      "      \"url\": \"https://d1.awsstatic.com/events/Summits/torsummit2023/CMP301_TrainDeploy_E1_20230607_SPEdited.pdf\",\n",
      "      \"local_path\": null\n",
      "    },\n",
      "    \"image_extn\": \".jpg\",\n",
      "    \"text_extn\": \".txt\"\n",
      "  },\n",
      "  \"parallel_inference_count\": 10,\n",
      "  \"minimum_entities_to_match_from_question\": 2,\n",
      "  \"bedrock_model_info\": {\n",
      "    \"bedrock_ep_url\": \"https://bedrock-runtime.{region}.amazonaws.com\",\n",
      "    \"claude_sonnet_model_id\": \"anthropic.claude-3-sonnet-20240229-v1:0\",\n",
      "    \"claude_input_tokens_pricing\": 0.003,\n",
      "    \"claude_output_tokens_pricing\": 0.015,\n",
      "    \"titan_model_id\": \"amazon.titan-embed-text-v1\"\n",
      "  },\n",
      "  \"eval_model_info\": {\n",
      "    \"model\": \"anthropic.claude-3-sonnet-20240229-v1:0\",\n",
      "    \"prompt_template\": \"eval_template.txt\",\n",
      "    \"input_tokens_pricing\": 0.003,\n",
      "    \"output_tokens_pricing\": 0.015\n",
      "  },\n",
      "  \"encoding_info\": {\n",
      "    \"accept_encoding\": \"application/json\",\n",
      "    \"content_encoding\": \"application/json\"\n",
      "  },\n",
      "  \"eval_qna_dataset_info\": {\n",
      "    \"dir_name\": \"eval_data\",\n",
      "    \"eval_dataset_name\": \"dummy_data_file.csv\",\n",
      "    \"is_given\": true,\n",
      "    \"question_key\": \"Query\",\n",
      "    \"target_response_key\": \"Response\",\n",
      "    \"updated_eval_file\": \"updated_eval_dataset.csv\",\n",
      "    \"prompt_template\": \"eval_template.txt\"\n",
      "  },\n",
      "  \"search_response_prompt_templates\": {\n",
      "    \"search_in_images_template\": \"prompt_templates/retrieve_answer_from_images_prompt.txt\",\n",
      "    \"search_in_text_template\": \"prompt_templates/retrieve_answer_from_texts_prompt.txt\",\n",
      "    \"extract_question_entities_prompt\": \"prompt_templates/extract_question_entities_prompt.txt\",\n",
      "    \"final_combined_llm_response_prompt\": \"prompt_templates/final_combined_response_prompt_template.txt\",\n",
      "    \"final_llm_as_a_judge_summary_analysis\": \"prompt_templates/claude_final_summary_analysis_prompt.txt\"\n",
      "  },\n",
      "  \"k_count_retrieval\": 4,\n",
      "  \"inference_parameters_for_explanations\": {\n",
      "    \"temperature\": 0.1,\n",
      "    \"caching\": false,\n",
      "    \"max_tokens\": 500\n",
      "  },\n",
      "  \"embeddings_model_info\": {\n",
      "    \"model\": \"amazon.titan-embed-text-v1\",\n",
      "    \"max_text_len_for_embedding\": 500,\n",
      "    \"rouge_metric_selection\": \"rougeL\",\n",
      "    \"get_quantitative_metrics_on\": [\n",
      "      \"combined_response\",\n",
      "      \"text_response\",\n",
      "      \"img_response\"\n",
      "    ]\n",
      "  },\n",
      "  \"final_llm_summarize_eval_analysis\": \"anthropic.claude-3-sonnet-20240229-v1:0\",\n",
      "  \"entity_extraction_prompt_images\": \"\\\"Please provide a detailed description of the entities present in the image. Entities, are specific pieces of information or objects within a text that carry particular significance. These can be real-world entities like names of people, places, organizations, or dates. Refer to the types of entities: Named entities: These include names of people, organizations, locations, and dates. You can have specific identifiers within this, such as person names or person occupations.\\nCustom entities: These are entities specific to a particular application or domain, such as product names, medical terms, or technical jargon.\\nTemporal entities: These are entities related to time, such as dates, times, and durations.\\nProduct entities: Names of products might be grouped together into product entities.\\nData entities: Names of the data and metrics present. This includes names of metrics in charts, graphs and tables, and throughout the image.\\nNow based on the image, create a list of these entities. Your response should be accurate. Do not make up an answer.\\\"\\n\",\n",
      "  \"QnA_generator_prompt\": \"\\\"Human: Based on the text description provided in <text_desc></text_desc> tags, generate a list of five to 10 questions. Only refer to the context in the <text_desc> tags, and do not provide questions that are not related to the context provided. Your response should be in a JSON format containing two elements: 'question' and 'answer'. The question should be directly related to the context provided in the <text_desc> tags and the answer should be the answer to that question from the <text_desc> context. Do not make up an answer.If you do not know the answer to the question just say that you don't know the answer. Don't try to make up an answer or a question. Refer to the context below:\\n<text_desc>\\n{context}\\n</text_desc>\\nAssistant: Sure, here are a list of Questions and Answers generated from the context in JSON format:\\\"\\n\",\n",
      "  \"inference_parameters_for_qna_generation\": {\n",
      "    \"temperature\": 0.1,\n",
      "    \"caching\": false,\n",
      "    \"max_tokens\": 1000\n",
      "  }\n",
      "}\n"
     ]
    }
   ],
   "source": [
    "# global constants\n",
    "CONFIG_FILE_PATH = \"config.yaml\"\n",
    "# read the config yaml file\n",
    "fpath = CONFIG_FILE_PATH\n",
    "with open(fpath, 'r') as yaml_in:\n",
    "    config = yaml.safe_load(yaml_in)\n",
    "logger.info(f\"config read from {fpath} -> {json.dumps(config, indent=2)}\")"
   ]
  },
  {
   "cell_type": "code",
   "execution_count": 4,
   "id": "4de5726f-55a7-4188-afa5-b4623c199ece",
   "metadata": {
    "tags": []
   },
   "outputs": [],
   "source": [
    "bucket_name: str = get_bucket_name(config['aws']['cfn_stack_name'])"
   ]
  },
  {
   "cell_type": "markdown",
   "id": "7c372263-60c2-4f34-b43a-f6f4285781d6",
   "metadata": {
    "tags": []
   },
   "source": [
    "## Step 2. Download slide deck and convert it into images\n",
    "\n",
    "We download a publicly available slide deck and convert each slide into a `jpg` file using the [`pypdfium2`](https://pypi.org/project/pypdfium2/) package."
   ]
  },
  {
   "cell_type": "code",
   "execution_count": 5,
   "id": "b7b51e5e-946d-41f3-b8a1-b4b89a8f39b9",
   "metadata": {
    "tags": []
   },
   "outputs": [],
   "source": [
    "def get_images(file:str, image_dir:str) -> List:\n",
    "    \"\"\"\n",
    "    Get PIL images from PDF pages and save them to a specified directory\n",
    "    :param file: Path to file\n",
    "    :return: A list of PIL images\n",
    "    \"\"\"\n",
    "\n",
    "    # Get presentation\n",
    "    pdf = pdfium.PdfDocument(file)\n",
    "    n_pages = len(pdf)\n",
    "\n",
    "    # Extracting file name and creating the directory for images\n",
    "    file_name = Path(file).stem  # Gets the file name without extension\n",
    "    os.makedirs(image_dir, exist_ok=True)\n",
    "\n",
    "    # Get images\n",
    "    image_paths = []\n",
    "    print(f\"Extracting {n_pages} images for {file}\")\n",
    "    for page_number in range(n_pages):\n",
    "        page = pdf.get_page(page_number)\n",
    "        # adding an enhancement to increase the scale to 2.5 for better accurate results\n",
    "        bitmap = page.render(scale=2.5, rotation=0, crop=(0, 0, 0, 0))\n",
    "        pil_image = bitmap.to_pil()\n",
    "        # pil_images.append(pil_image)\n",
    "\n",
    "        # Saving the image with the specified naming convention\n",
    "        image_path = os.path.join(image_dir, f\"{file_name}_image_{page_number + 1}.jpg\")\n",
    "        pil_image.save(image_path, format=\"JPEG\")\n",
    "        image_paths.append(image_path)\n",
    "\n",
    "    return image_paths"
   ]
  },
  {
   "cell_type": "markdown",
   "id": "e814fa33-b236-4962-bf4a-426ce626d8cf",
   "metadata": {},
   "source": [
    "Download a publicly available slide deck."
   ]
  },
  {
   "cell_type": "code",
   "execution_count": 6,
   "id": "01db6240-c5a6-48d6-a0d5-6056004b0bf7",
   "metadata": {
    "tags": []
   },
   "outputs": [
    {
     "name": "stderr",
     "output_type": "stream",
     "text": [
      "[2024-06-17 18:05:10,031] p13945 {1589959425.py:6} INFO - https://d1.awsstatic.com/events/Summits/torsummit2023/CMP301_TrainDeploy_E1_20230607_SPEdited.pdf downloaded successfully\n",
      "[2024-06-17 18:05:10,037] p13945 {1589959425.py:9} INFO - https://d1.awsstatic.com/events/Summits/torsummit2023/CMP301_TrainDeploy_E1_20230607_SPEdited.pdf written to CMP301_TrainDeploy_E1_20230607_SPEdited.pdf\n"
     ]
    },
    {
     "name": "stdout",
     "output_type": "stream",
     "text": [
      "https://d1.awsstatic.com/events/Summits/torsummit2023/CMP301_TrainDeploy_E1_20230607_SPEdited.pdf\n"
     ]
    }
   ],
   "source": [
    "url: str = config['content_info']['slide_deck'].get('url')\n",
    "print(url)\n",
    "local_file: str = os.path.basename(url)\n",
    "r = req.get(url, allow_redirects=True)\n",
    "if r.status_code == 200:\n",
    "    logger.info(f\"{url} downloaded successfully\")\n",
    "    with open(local_file, \"wb\") as f:\n",
    "        f.write(r.content)\n",
    "    logger.info(f\"{url} written to {local_file}\")"
   ]
  },
  {
   "cell_type": "markdown",
   "id": "84fadce2-3f67-42d3-b78c-bc09a518503a",
   "metadata": {},
   "source": [
    "Extract images from the slide deck"
   ]
  },
  {
   "cell_type": "code",
   "execution_count": 7,
   "id": "534f0ea7-8d03-483c-a81f-f187493ce4c6",
   "metadata": {
    "tags": []
   },
   "outputs": [
    {
     "name": "stdout",
     "output_type": "stream",
     "text": [
      "Extracting 31 images for CMP301_TrainDeploy_E1_20230607_SPEdited.pdf\n"
     ]
    },
    {
     "name": "stderr",
     "output_type": "stream",
     "text": [
      "[2024-06-17 18:05:20,336] p13945 {2461950259.py:2} INFO - there are 31 images extracted from this slide deck CMP301_TrainDeploy_E1_20230607_SPEdited.pdf\n"
     ]
    }
   ],
   "source": [
    "images = get_images(local_file, g.IMAGE_DIR)\n",
    "logger.info(f\"there are {len(images)} images extracted from this slide deck {local_file}\")"
   ]
  },
  {
   "cell_type": "code",
   "execution_count": 8,
   "id": "9ca567bc-ae55-4e18-adfd-b8046d45dbf7",
   "metadata": {
    "tags": []
   },
   "outputs": [
    {
     "data": {
      "text/plain": [
       "['img/CMP301_TrainDeploy_E1_20230607_SPEdited_image_1.jpg',\n",
       " 'img/CMP301_TrainDeploy_E1_20230607_SPEdited_image_2.jpg',\n",
       " 'img/CMP301_TrainDeploy_E1_20230607_SPEdited_image_3.jpg',\n",
       " 'img/CMP301_TrainDeploy_E1_20230607_SPEdited_image_4.jpg',\n",
       " 'img/CMP301_TrainDeploy_E1_20230607_SPEdited_image_5.jpg',\n",
       " 'img/CMP301_TrainDeploy_E1_20230607_SPEdited_image_6.jpg',\n",
       " 'img/CMP301_TrainDeploy_E1_20230607_SPEdited_image_7.jpg',\n",
       " 'img/CMP301_TrainDeploy_E1_20230607_SPEdited_image_8.jpg',\n",
       " 'img/CMP301_TrainDeploy_E1_20230607_SPEdited_image_9.jpg',\n",
       " 'img/CMP301_TrainDeploy_E1_20230607_SPEdited_image_10.jpg',\n",
       " 'img/CMP301_TrainDeploy_E1_20230607_SPEdited_image_11.jpg',\n",
       " 'img/CMP301_TrainDeploy_E1_20230607_SPEdited_image_12.jpg',\n",
       " 'img/CMP301_TrainDeploy_E1_20230607_SPEdited_image_13.jpg',\n",
       " 'img/CMP301_TrainDeploy_E1_20230607_SPEdited_image_14.jpg',\n",
       " 'img/CMP301_TrainDeploy_E1_20230607_SPEdited_image_15.jpg',\n",
       " 'img/CMP301_TrainDeploy_E1_20230607_SPEdited_image_16.jpg',\n",
       " 'img/CMP301_TrainDeploy_E1_20230607_SPEdited_image_17.jpg',\n",
       " 'img/CMP301_TrainDeploy_E1_20230607_SPEdited_image_18.jpg',\n",
       " 'img/CMP301_TrainDeploy_E1_20230607_SPEdited_image_19.jpg',\n",
       " 'img/CMP301_TrainDeploy_E1_20230607_SPEdited_image_20.jpg',\n",
       " 'img/CMP301_TrainDeploy_E1_20230607_SPEdited_image_21.jpg',\n",
       " 'img/CMP301_TrainDeploy_E1_20230607_SPEdited_image_22.jpg',\n",
       " 'img/CMP301_TrainDeploy_E1_20230607_SPEdited_image_23.jpg',\n",
       " 'img/CMP301_TrainDeploy_E1_20230607_SPEdited_image_24.jpg',\n",
       " 'img/CMP301_TrainDeploy_E1_20230607_SPEdited_image_25.jpg',\n",
       " 'img/CMP301_TrainDeploy_E1_20230607_SPEdited_image_26.jpg',\n",
       " 'img/CMP301_TrainDeploy_E1_20230607_SPEdited_image_27.jpg',\n",
       " 'img/CMP301_TrainDeploy_E1_20230607_SPEdited_image_28.jpg',\n",
       " 'img/CMP301_TrainDeploy_E1_20230607_SPEdited_image_29.jpg',\n",
       " 'img/CMP301_TrainDeploy_E1_20230607_SPEdited_image_30.jpg',\n",
       " 'img/CMP301_TrainDeploy_E1_20230607_SPEdited_image_31.jpg']"
      ]
     },
     "execution_count": 8,
     "metadata": {},
     "output_type": "execute_result"
    }
   ],
   "source": [
    "images"
   ]
  },
  {
   "cell_type": "markdown",
   "id": "05fc88fa-7a83-49e0-a45f-9b1640259f56",
   "metadata": {},
   "source": [
    "## Step 3. Upload the images into Amazon S3 bucket"
   ]
  },
  {
   "cell_type": "markdown",
   "id": "53600f15-e57b-4e0a-97ab-5f96c93386a3",
   "metadata": {},
   "source": [
    "Now we upload the images into an S3 bucket. This is done for two reasons:\n",
    "1. In a production environment these images could be worked upon in parallel by a batch process.\n",
    "1. An S3 bucket (that is part of a datalake) provides a secure location for an enterprise to store these images and a multimodal model can read these image files directly from the S3 bucket."
   ]
  },
  {
   "cell_type": "code",
   "execution_count": 9,
   "id": "8efa5e75-7c5f-4128-8d6b-df788fb69c6a",
   "metadata": {
    "tags": []
   },
   "outputs": [
    {
     "name": "stderr",
     "output_type": "stream",
     "text": [
      "[2024-06-17 18:05:20,455] p13945 {utils.py:36} INFO - File img/CMP301_TrainDeploy_E1_20230607_SPEdited_image_1.jpg uploaded to multimodal-blog2-bucket-121797993273-us-west-2/multimodal/img/CMP301_TrainDeploy_E1_20230607_SPEdited_image_1.jpg.\n",
      "[2024-06-17 18:05:20,576] p13945 {utils.py:36} INFO - File img/CMP301_TrainDeploy_E1_20230607_SPEdited_image_2.jpg uploaded to multimodal-blog2-bucket-121797993273-us-west-2/multimodal/img/CMP301_TrainDeploy_E1_20230607_SPEdited_image_2.jpg.\n",
      "[2024-06-17 18:05:20,625] p13945 {utils.py:36} INFO - File img/CMP301_TrainDeploy_E1_20230607_SPEdited_image_3.jpg uploaded to multimodal-blog2-bucket-121797993273-us-west-2/multimodal/img/CMP301_TrainDeploy_E1_20230607_SPEdited_image_3.jpg.\n",
      "[2024-06-17 18:05:20,700] p13945 {utils.py:36} INFO - File img/CMP301_TrainDeploy_E1_20230607_SPEdited_image_4.jpg uploaded to multimodal-blog2-bucket-121797993273-us-west-2/multimodal/img/CMP301_TrainDeploy_E1_20230607_SPEdited_image_4.jpg.\n",
      "[2024-06-17 18:05:20,894] p13945 {utils.py:36} INFO - File img/CMP301_TrainDeploy_E1_20230607_SPEdited_image_5.jpg uploaded to multimodal-blog2-bucket-121797993273-us-west-2/multimodal/img/CMP301_TrainDeploy_E1_20230607_SPEdited_image_5.jpg.\n",
      "[2024-06-17 18:05:21,014] p13945 {utils.py:36} INFO - File img/CMP301_TrainDeploy_E1_20230607_SPEdited_image_6.jpg uploaded to multimodal-blog2-bucket-121797993273-us-west-2/multimodal/img/CMP301_TrainDeploy_E1_20230607_SPEdited_image_6.jpg.\n",
      "[2024-06-17 18:05:21,069] p13945 {utils.py:36} INFO - File img/CMP301_TrainDeploy_E1_20230607_SPEdited_image_7.jpg uploaded to multimodal-blog2-bucket-121797993273-us-west-2/multimodal/img/CMP301_TrainDeploy_E1_20230607_SPEdited_image_7.jpg.\n",
      "[2024-06-17 18:05:21,139] p13945 {utils.py:36} INFO - File img/CMP301_TrainDeploy_E1_20230607_SPEdited_image_8.jpg uploaded to multimodal-blog2-bucket-121797993273-us-west-2/multimodal/img/CMP301_TrainDeploy_E1_20230607_SPEdited_image_8.jpg.\n",
      "[2024-06-17 18:05:21,201] p13945 {utils.py:36} INFO - File img/CMP301_TrainDeploy_E1_20230607_SPEdited_image_9.jpg uploaded to multimodal-blog2-bucket-121797993273-us-west-2/multimodal/img/CMP301_TrainDeploy_E1_20230607_SPEdited_image_9.jpg.\n",
      "[2024-06-17 18:05:21,317] p13945 {utils.py:36} INFO - File img/CMP301_TrainDeploy_E1_20230607_SPEdited_image_10.jpg uploaded to multimodal-blog2-bucket-121797993273-us-west-2/multimodal/img/CMP301_TrainDeploy_E1_20230607_SPEdited_image_10.jpg.\n",
      "[2024-06-17 18:05:21,437] p13945 {utils.py:36} INFO - File img/CMP301_TrainDeploy_E1_20230607_SPEdited_image_11.jpg uploaded to multimodal-blog2-bucket-121797993273-us-west-2/multimodal/img/CMP301_TrainDeploy_E1_20230607_SPEdited_image_11.jpg.\n",
      "[2024-06-17 18:05:21,564] p13945 {utils.py:36} INFO - File img/CMP301_TrainDeploy_E1_20230607_SPEdited_image_12.jpg uploaded to multimodal-blog2-bucket-121797993273-us-west-2/multimodal/img/CMP301_TrainDeploy_E1_20230607_SPEdited_image_12.jpg.\n",
      "[2024-06-17 18:05:21,718] p13945 {utils.py:36} INFO - File img/CMP301_TrainDeploy_E1_20230607_SPEdited_image_13.jpg uploaded to multimodal-blog2-bucket-121797993273-us-west-2/multimodal/img/CMP301_TrainDeploy_E1_20230607_SPEdited_image_13.jpg.\n",
      "[2024-06-17 18:05:21,840] p13945 {utils.py:36} INFO - File img/CMP301_TrainDeploy_E1_20230607_SPEdited_image_14.jpg uploaded to multimodal-blog2-bucket-121797993273-us-west-2/multimodal/img/CMP301_TrainDeploy_E1_20230607_SPEdited_image_14.jpg.\n",
      "[2024-06-17 18:05:21,928] p13945 {utils.py:36} INFO - File img/CMP301_TrainDeploy_E1_20230607_SPEdited_image_15.jpg uploaded to multimodal-blog2-bucket-121797993273-us-west-2/multimodal/img/CMP301_TrainDeploy_E1_20230607_SPEdited_image_15.jpg.\n",
      "[2024-06-17 18:05:21,969] p13945 {utils.py:36} INFO - File img/CMP301_TrainDeploy_E1_20230607_SPEdited_image_16.jpg uploaded to multimodal-blog2-bucket-121797993273-us-west-2/multimodal/img/CMP301_TrainDeploy_E1_20230607_SPEdited_image_16.jpg.\n",
      "[2024-06-17 18:05:22,023] p13945 {utils.py:36} INFO - File img/CMP301_TrainDeploy_E1_20230607_SPEdited_image_17.jpg uploaded to multimodal-blog2-bucket-121797993273-us-west-2/multimodal/img/CMP301_TrainDeploy_E1_20230607_SPEdited_image_17.jpg.\n",
      "[2024-06-17 18:05:22,118] p13945 {utils.py:36} INFO - File img/CMP301_TrainDeploy_E1_20230607_SPEdited_image_18.jpg uploaded to multimodal-blog2-bucket-121797993273-us-west-2/multimodal/img/CMP301_TrainDeploy_E1_20230607_SPEdited_image_18.jpg.\n",
      "[2024-06-17 18:05:22,345] p13945 {utils.py:36} INFO - File img/CMP301_TrainDeploy_E1_20230607_SPEdited_image_19.jpg uploaded to multimodal-blog2-bucket-121797993273-us-west-2/multimodal/img/CMP301_TrainDeploy_E1_20230607_SPEdited_image_19.jpg.\n",
      "[2024-06-17 18:05:22,443] p13945 {utils.py:36} INFO - File img/CMP301_TrainDeploy_E1_20230607_SPEdited_image_20.jpg uploaded to multimodal-blog2-bucket-121797993273-us-west-2/multimodal/img/CMP301_TrainDeploy_E1_20230607_SPEdited_image_20.jpg.\n",
      "[2024-06-17 18:05:22,522] p13945 {utils.py:36} INFO - File img/CMP301_TrainDeploy_E1_20230607_SPEdited_image_21.jpg uploaded to multimodal-blog2-bucket-121797993273-us-west-2/multimodal/img/CMP301_TrainDeploy_E1_20230607_SPEdited_image_21.jpg.\n",
      "[2024-06-17 18:05:22,708] p13945 {utils.py:36} INFO - File img/CMP301_TrainDeploy_E1_20230607_SPEdited_image_22.jpg uploaded to multimodal-blog2-bucket-121797993273-us-west-2/multimodal/img/CMP301_TrainDeploy_E1_20230607_SPEdited_image_22.jpg.\n",
      "[2024-06-17 18:05:22,866] p13945 {utils.py:36} INFO - File img/CMP301_TrainDeploy_E1_20230607_SPEdited_image_23.jpg uploaded to multimodal-blog2-bucket-121797993273-us-west-2/multimodal/img/CMP301_TrainDeploy_E1_20230607_SPEdited_image_23.jpg.\n",
      "[2024-06-17 18:05:22,935] p13945 {utils.py:36} INFO - File img/CMP301_TrainDeploy_E1_20230607_SPEdited_image_24.jpg uploaded to multimodal-blog2-bucket-121797993273-us-west-2/multimodal/img/CMP301_TrainDeploy_E1_20230607_SPEdited_image_24.jpg.\n",
      "[2024-06-17 18:05:23,116] p13945 {utils.py:36} INFO - File img/CMP301_TrainDeploy_E1_20230607_SPEdited_image_25.jpg uploaded to multimodal-blog2-bucket-121797993273-us-west-2/multimodal/img/CMP301_TrainDeploy_E1_20230607_SPEdited_image_25.jpg.\n",
      "[2024-06-17 18:05:23,183] p13945 {utils.py:36} INFO - File img/CMP301_TrainDeploy_E1_20230607_SPEdited_image_26.jpg uploaded to multimodal-blog2-bucket-121797993273-us-west-2/multimodal/img/CMP301_TrainDeploy_E1_20230607_SPEdited_image_26.jpg.\n",
      "[2024-06-17 18:05:23,271] p13945 {utils.py:36} INFO - File img/CMP301_TrainDeploy_E1_20230607_SPEdited_image_27.jpg uploaded to multimodal-blog2-bucket-121797993273-us-west-2/multimodal/img/CMP301_TrainDeploy_E1_20230607_SPEdited_image_27.jpg.\n",
      "[2024-06-17 18:05:23,378] p13945 {utils.py:36} INFO - File img/CMP301_TrainDeploy_E1_20230607_SPEdited_image_28.jpg uploaded to multimodal-blog2-bucket-121797993273-us-west-2/multimodal/img/CMP301_TrainDeploy_E1_20230607_SPEdited_image_28.jpg.\n",
      "[2024-06-17 18:05:23,577] p13945 {utils.py:36} INFO - File img/CMP301_TrainDeploy_E1_20230607_SPEdited_image_29.jpg uploaded to multimodal-blog2-bucket-121797993273-us-west-2/multimodal/img/CMP301_TrainDeploy_E1_20230607_SPEdited_image_29.jpg.\n",
      "[2024-06-17 18:05:23,754] p13945 {utils.py:36} INFO - File img/CMP301_TrainDeploy_E1_20230607_SPEdited_image_30.jpg uploaded to multimodal-blog2-bucket-121797993273-us-west-2/multimodal/img/CMP301_TrainDeploy_E1_20230607_SPEdited_image_30.jpg.\n",
      "[2024-06-17 18:05:23,877] p13945 {utils.py:36} INFO - File img/CMP301_TrainDeploy_E1_20230607_SPEdited_image_31.jpg uploaded to multimodal-blog2-bucket-121797993273-us-west-2/multimodal/img/CMP301_TrainDeploy_E1_20230607_SPEdited_image_31.jpg.\n"
     ]
    }
   ],
   "source": [
    "_ = list(map(lambda img_path: upload_to_s3(img_path, bucket_name, g.BUCKET_IMG_PREFIX), images))"
   ]
  }
 ],
 "metadata": {
  "kernelspec": {
   "display_name": "conda_python3",
   "language": "python",
   "name": "conda_python3"
  },
  "language_info": {
   "codemirror_mode": {
    "name": "ipython",
    "version": 3
   },
   "file_extension": ".py",
   "mimetype": "text/x-python",
   "name": "python",
   "nbconvert_exporter": "python",
   "pygments_lexer": "ipython3",
   "version": "3.10.14"
  }
 },
 "nbformat": 4,
 "nbformat_minor": 5
}
