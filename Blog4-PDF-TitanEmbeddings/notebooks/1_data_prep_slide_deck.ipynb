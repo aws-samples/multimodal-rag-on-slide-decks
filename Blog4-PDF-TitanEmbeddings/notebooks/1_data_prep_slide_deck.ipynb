{
 "cells": [
  {
   "cell_type": "markdown",
   "id": "00c6eba0-3e0f-4325-a352-1763d2749055",
   "metadata": {},
   "source": [
    "# Data preparation\n",
    "\n",
    "***This notebook works best with the `conda_python3` on the `ml.t3.large` instance***.\n",
    "\n",
    "---\n",
    "\n",
    "In this notebook we download a publicly available slide deck and convert it into images, one image for each slide. These images are then stored in Amazon S3 from where they can be made available to a Amazon SageMaker Endpoint for inference.\n",
    "\n",
    "The slide deck choose is [Train and deploy Stable Diffusion using AWS Trainium & AWS Inferentia](https://d1.awsstatic.com/events/Summits/torsummit2023/CMP301_TrainDeploy_E1_20230607_SPEdited.pdf). To use a different slide deck you can update the `SLIDE_DECK` variable in [`globals.py`](./globals.py).\n"
   ]
  },
  {
   "cell_type": "markdown",
   "id": "34c37157-7d48-4422-a107-7c2ddd843747",
   "metadata": {},
   "source": [
    "## Step 1. Setup\n",
    "\n",
    "Install the required Python packages and import the relevant files."
   ]
  },
  {
   "cell_type": "code",
   "execution_count": null,
   "id": "6605ceea-e65d-4822-bbf5-d96f0ae77a83",
   "metadata": {
    "tags": []
   },
   "outputs": [],
   "source": [
    "import sys\n",
    "!{sys.executable} -m pip install -r requirements.txt"
   ]
  },
  {
   "cell_type": "code",
   "execution_count": null,
   "id": "42e2d0f4-7495-4f54-a5b7-3a20a4524516",
   "metadata": {
    "tags": []
   },
   "outputs": [],
   "source": [
    "import os\n",
    "import json\n",
    "import yaml\n",
    "import logging\n",
    "import globals as g\n",
    "from PIL import Image\n",
    "import requests as req\n",
    "from typing import List\n",
    "from pathlib import Path\n",
    "import pypdfium2 as pdfium\n",
    "from utils import upload_to_s3, get_bucket_name\n",
    "\n",
    "logging.basicConfig(format='[%(asctime)s] p%(process)s {%(filename)s:%(lineno)d} %(levelname)s - %(message)s', level=logging.INFO)\n",
    "logger = logging.getLogger(__name__)"
   ]
  },
  {
   "cell_type": "code",
   "execution_count": null,
   "id": "a94d3407-56ba-4dc4-8416-eaf69bc20aaf",
   "metadata": {
    "tags": []
   },
   "outputs": [],
   "source": [
    "# global constants\n",
    "CONFIG_FILE_PATH = \"config.yaml\"\n",
    "# read the config yaml file\n",
    "fpath = CONFIG_FILE_PATH\n",
    "with open(fpath, 'r') as yaml_in:\n",
    "    config = yaml.safe_load(yaml_in)\n",
    "logger.info(f\"config read from {fpath} -> {json.dumps(config, indent=2)}\")"
   ]
  },
  {
   "cell_type": "code",
   "execution_count": null,
   "id": "4de5726f-55a7-4188-afa5-b4623c199ece",
   "metadata": {
    "tags": []
   },
   "outputs": [],
   "source": [
    "bucket_name: str = get_bucket_name(config['aws']['cfn_stack_name'])"
   ]
  },
  {
   "cell_type": "markdown",
   "id": "7c372263-60c2-4f34-b43a-f6f4285781d6",
   "metadata": {
    "tags": []
   },
   "source": [
    "## Step 2. Download slide deck and convert it into images\n",
    "\n",
    "We download a publicly available slide deck and convert each slide into a `jpg` file using the [`pypdfium2`](https://pypi.org/project/pypdfium2/) package."
   ]
  },
  {
   "cell_type": "code",
   "execution_count": null,
   "id": "b7b51e5e-946d-41f3-b8a1-b4b89a8f39b9",
   "metadata": {
    "tags": []
   },
   "outputs": [],
   "source": [
    "def get_images(file:str, image_dir:str) -> List:\n",
    "    \"\"\"\n",
    "    Get PIL images from PDF pages and save them to a specified directory\n",
    "    :param file: Path to file\n",
    "    :return: A list of PIL images\n",
    "    \"\"\"\n",
    "\n",
    "    # Get presentation\n",
    "    pdf = pdfium.PdfDocument(file)\n",
    "    n_pages = len(pdf)\n",
    "\n",
    "    # Extracting file name and creating the directory for images\n",
    "    file_name = Path(file).stem  # Gets the file name without extension\n",
    "    os.makedirs(image_dir, exist_ok=True)\n",
    "\n",
    "    # Get images\n",
    "    image_paths = []\n",
    "    print(f\"Extracting {n_pages} images for {file}\")\n",
    "    for page_number in range(n_pages):\n",
    "        page = pdf.get_page(page_number)\n",
    "        # adding an enhancement to increase the scale to 2.5 for better accurate results\n",
    "        bitmap = page.render(scale=2.5, rotation=0, crop=(0, 0, 0, 0))\n",
    "        pil_image = bitmap.to_pil()\n",
    "        # pil_images.append(pil_image)\n",
    "\n",
    "        # Saving the image with the specified naming convention\n",
    "        image_path = os.path.join(image_dir, f\"{file_name}_image_{page_number + 1}.jpg\")\n",
    "        pil_image.save(image_path, format=\"JPEG\")\n",
    "        image_paths.append(image_path)\n",
    "\n",
    "    return image_paths"
   ]
  },
  {
   "cell_type": "markdown",
   "id": "e814fa33-b236-4962-bf4a-426ce626d8cf",
   "metadata": {},
   "source": [
    "Download a publicly available slide deck."
   ]
  },
  {
   "cell_type": "code",
   "execution_count": null,
   "id": "01db6240-c5a6-48d6-a0d5-6056004b0bf7",
   "metadata": {
    "tags": []
   },
   "outputs": [],
   "source": [
    "url: str = config['content_info']['slide_deck'].get('url')\n",
    "print(url)\n",
    "local_file: str = os.path.basename(url)\n",
    "r = req.get(url, allow_redirects=True)\n",
    "if r.status_code == 200:\n",
    "    logger.info(f\"{url} downloaded successfully\")\n",
    "    with open(local_file, \"wb\") as f:\n",
    "        f.write(r.content)\n",
    "    logger.info(f\"{url} written to {local_file}\")"
   ]
  },
  {
   "cell_type": "markdown",
   "id": "84fadce2-3f67-42d3-b78c-bc09a518503a",
   "metadata": {},
   "source": [
    "Extract images from the slide deck"
   ]
  },
  {
   "cell_type": "code",
   "execution_count": null,
   "id": "534f0ea7-8d03-483c-a81f-f187493ce4c6",
   "metadata": {
    "tags": []
   },
   "outputs": [],
   "source": [
    "images = get_images(local_file, g.IMAGE_DIR)\n",
    "logger.info(f\"there are {len(images)} images extracted from this slide deck {local_file}\")"
   ]
  },
  {
   "cell_type": "code",
   "execution_count": null,
   "id": "9ca567bc-ae55-4e18-adfd-b8046d45dbf7",
   "metadata": {
    "tags": []
   },
   "outputs": [],
   "source": [
    "images"
   ]
  },
  {
   "cell_type": "markdown",
   "id": "05fc88fa-7a83-49e0-a45f-9b1640259f56",
   "metadata": {},
   "source": [
    "## Step 3. Upload the images into Amazon S3 bucket"
   ]
  },
  {
   "cell_type": "markdown",
   "id": "53600f15-e57b-4e0a-97ab-5f96c93386a3",
   "metadata": {},
   "source": [
    "Now we upload the images into an S3 bucket. This is done for two reasons:\n",
    "1. In a production environment these images could be worked upon in parallel by a batch process.\n",
    "1. An S3 bucket (that is part of a datalake) provides a secure location for an enterprise to store these images and a multimodal model can read these image files directly from the S3 bucket."
   ]
  },
  {
   "cell_type": "code",
   "execution_count": null,
   "id": "8efa5e75-7c5f-4128-8d6b-df788fb69c6a",
   "metadata": {
    "tags": []
   },
   "outputs": [],
   "source": [
    "_ = list(map(lambda img_path: upload_to_s3(img_path, bucket_name, g.BUCKET_IMG_PREFIX), images))"
   ]
  }
 ],
 "metadata": {
  "kernelspec": {
   "display_name": "conda_python3",
   "language": "python",
   "name": "conda_python3"
  },
  "language_info": {
   "codemirror_mode": {
    "name": "ipython",
    "version": 3
   },
   "file_extension": ".py",
   "mimetype": "text/x-python",
   "name": "python",
   "nbconvert_exporter": "python",
   "pygments_lexer": "ipython3",
   "version": "3.10.14"
  }
 },
 "nbformat": 4,
 "nbformat_minor": 5
}
