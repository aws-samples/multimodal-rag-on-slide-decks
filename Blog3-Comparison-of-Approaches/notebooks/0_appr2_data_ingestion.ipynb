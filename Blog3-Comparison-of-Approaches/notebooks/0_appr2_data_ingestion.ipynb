{
 "cells": [
  {
   "cell_type": "markdown",
   "id": "cf38f56b-f7fc-4544-acaa-66d60000518c",
   "metadata": {
    "tags": []
   },
   "source": [
    "## Step 1: Setup"
   ]
  },
  {
   "cell_type": "code",
   "execution_count": null,
   "id": "0cd7fb2d-f72e-4290-b5af-7b41f0dd8091",
   "metadata": {
    "tags": []
   },
   "outputs": [],
   "source": [
    "import sys\n",
    "!{sys.executable} -m pip install -r requirements.txt"
   ]
  },
  {
   "cell_type": "code",
   "execution_count": null,
   "id": "74e734d3-9341-4fb4-a2cc-e75e8dcaa820",
   "metadata": {
    "tags": []
   },
   "outputs": [],
   "source": [
    "import os\n",
    "import time\n",
    "import glob\n",
    "import json\n",
    "import time\n",
    "import boto3\n",
    "import codecs\n",
    "import base64\n",
    "import logging\n",
    "import botocore\n",
    "import sagemaker\n",
    "import jsonlines\n",
    "import numpy as np\n",
    "import pandas as pd \n",
    "import globals as g\n",
    "import requests as req\n",
    "from typing import List\n",
    "from pathlib import Path\n",
    "from requests_auth_aws_sigv4 import AWSSigV4\n",
    "from opensearchpy import OpenSearch, RequestsHttpConnection, AWSV4SignerAuth\n",
    "from utils import get_cfn_outputs, get_bucket_name, download_image_files_from_s3, get_text_embedding\n",
    "\n",
    "logging.basicConfig(format='[%(asctime)s] p%(process)s {%(filename)s:%(lineno)d} %(levelname)s - %(message)s', level=logging.INFO)\n",
    "logger = logging.getLogger(__name__)"
   ]
  },
  {
   "cell_type": "code",
   "execution_count": null,
   "id": "03da9f92-f099-4461-bd9f-2735d926ad5b",
   "metadata": {
    "tags": []
   },
   "outputs": [],
   "source": [
    "sagemaker_session = sagemaker.Session()\n",
    "sm_client = sagemaker_session.sagemaker_client\n",
    "sm_runtime_client = sagemaker_session.sagemaker_runtime_client"
   ]
  },
  {
   "cell_type": "code",
   "execution_count": null,
   "id": "796e9624-05d1-4942-a255-3eb4b9e252d3",
   "metadata": {},
   "outputs": [],
   "source": [
    "bedrock = boto3.client(service_name=\"bedrock-runtime\", region_name=g.AWS_REGION, endpoint_url=g.TITAN_URL)"
   ]
  },
  {
   "cell_type": "markdown",
   "id": "5abd845a-e674-4b3c-80c4-0e0f18146fbc",
   "metadata": {
    "tags": []
   },
   "source": [
    "## Step 2: Create the OpenSearch Service Serverless index"
   ]
  },
  {
   "cell_type": "code",
   "execution_count": null,
   "id": "b444876f-359c-401e-b006-f3e48b47286e",
   "metadata": {
    "tags": []
   },
   "outputs": [],
   "source": [
    "outputs = get_cfn_outputs(g.CFN_STACK_NAME)\n",
    "host = outputs['MultimodalCollectionEndpoint'].split('//')[1]\n",
    "# index_name = outputs['OpenSearchIndexName']\n",
    "index_name = \"blog3slides\"\n",
    "logger.info(f\"opensearchhost={host}, index={index_name}\")\n",
    "\n",
    "osi_endpoint = f\"https://outputs['OpenSearchPipelineEndpoint']/data/ingest\""
   ]
  },
  {
   "cell_type": "code",
   "execution_count": null,
   "id": "d6e9c369-182f-486f-bc95-fabd08e93297",
   "metadata": {
    "tags": []
   },
   "outputs": [],
   "source": [
    "session = boto3.Session()\n",
    "credentials = session.get_credentials()\n",
    "auth = AWSV4SignerAuth(credentials, g.AWS_REGION, g.OS_SERVICE)\n",
    "\n",
    "os_client = OpenSearch(\n",
    "    hosts = [{'host': host, 'port': 443}],\n",
    "    http_auth = auth,\n",
    "    use_ssl = True,\n",
    "    verify_certs = True,\n",
    "    connection_class = RequestsHttpConnection,\n",
    "    pool_maxsize = 20\n",
    ")"
   ]
  },
  {
   "cell_type": "code",
   "execution_count": null,
   "id": "0ef62595-dd52-4f1a-b4a2-6cd780707103",
   "metadata": {
    "tags": []
   },
   "outputs": [],
   "source": [
    "index_body = \"\"\"\n",
    "{\n",
    "  \"settings\": {\n",
    "    \"index.knn\": true\n",
    "  },\n",
    "  \"mappings\": {\n",
    "    \"properties\": {\n",
    "      \"vector_embedding\": {\n",
    "        \"type\": \"knn_vector\",\n",
    "        \"dimension\": 1536,\n",
    "        \"method\": {\n",
    "          \"name\": \"hnsw\",\n",
    "          \"engine\": \"nmslib\",\n",
    "          \"parameters\": {}\n",
    "        }\n",
    "      },\n",
    "      \"image_url\": {\n",
    "        \"type\": \"text\"\n",
    "      },\n",
    "      \"slide_text\": {\n",
    "        \"type\": \"text\"\n",
    "      },\n",
    "       \"metadata\": { \n",
    "        \"properties\" :\n",
    "          {\n",
    "            \"deck_name\" : {\n",
    "              \"type\" : \"text\"\n",
    "            },\n",
    "            \"deck_url\" : {\n",
    "              \"type\" : \"text\"\n",
    "            }\n",
    "          }\n",
    "      }\n",
    "    }\n",
    "  }\n",
    "}\n",
    "\"\"\"\n",
    "\n",
    "# We would get an index already exists exception if the index already exists, and that is fine.\n",
    "index_body = json.loads(index_body)\n",
    "try:\n",
    "    response = os_client.indices.create(index_name, body=index_body)\n",
    "    logger.info(f\"response received for the create index -> {response}\")\n",
    "except Exception as e:\n",
    "    logger.error(f\"error in creating index={index_name}, exception={e}\")"
   ]
  },
  {
   "cell_type": "markdown",
   "id": "bf952fa6-a80d-416b-9001-b3aa3bceff06",
   "metadata": {
    "tags": []
   },
   "source": [
    "## Step 3: Download images locally, get embeddings and ingest into OSI pipeline"
   ]
  },
  {
   "cell_type": "code",
   "execution_count": null,
   "id": "352b5983-6087-4632-8f63-8642601df316",
   "metadata": {},
   "outputs": [],
   "source": [
    "def download_image(url, image_dir):\n",
    "    logger.info(f\"downloading image at {url}\")\n",
    "    local_file: str = os.path.join(image_dir, os.path.basename(url))\n",
    "    r = req.get(url, allow_redirects=True)\n",
    "    if r.status_code == 200:\n",
    "        logger.info(f\"{url} downloaded successfully\")\n",
    "        with open(local_file, \"wb\") as f:\n",
    "            f.write(r.content)\n",
    "        logger.info(f\"{url} written to {local_file}\")\n",
    "        return local_file\n",
    "    return \"\""
   ]
  },
  {
   "cell_type": "code",
   "execution_count": null,
   "id": "0bcf4b1f-a3cf-48e7-9fc7-f7c763f82671",
   "metadata": {
    "tags": []
   },
   "outputs": [],
   "source": [
    "def encode_image_to_base64(image_file_path: str) -> str:\n",
    "    with open(image_file_path, \"rb\") as image_file:\n",
    "        b64_image = base64.b64encode(image_file.read()).decode('utf8')\n",
    "        b64_image_path = os.path.join(g.B64_ENCODED_IMAGES_DIR, f\"{Path(image_file_path).stem}.b64\")\n",
    "        with open(b64_image_path, \"wb\") as b64_image_file:\n",
    "            b64_image_file.write(bytes(b64_image, 'utf-8'))\n",
    "    return b64_image_path"
   ]
  },
  {
   "cell_type": "code",
   "execution_count": null,
   "id": "12028d31-c482-4799-a77f-0db55193a89c",
   "metadata": {
    "tags": []
   },
   "outputs": [],
   "source": [
    "def get_img_desc(image_file_path: str, prompt: str):\n",
    "    # read the file, MAX image size supported is 2048 * 2048 pixels\n",
    "    with open(image_file_path, \"rb\") as image_file:\n",
    "        input_image_b64 = image_file.read().decode('utf-8')\n",
    "  \n",
    "    body = json.dumps(\n",
    "        {\n",
    "            \"anthropic_version\": \"bedrock-2023-05-31\",\n",
    "            \"max_tokens\": 1000,\n",
    "            \"messages\": [\n",
    "                {\n",
    "                    \"role\": \"user\",\n",
    "                    \"content\": [\n",
    "                        {\n",
    "                            \"type\": \"image\",\n",
    "                            \"source\": {\n",
    "                                \"type\": \"base64\",\n",
    "                                \"media_type\": \"image/jpeg\",\n",
    "                                \"data\": input_image_b64\n",
    "                            },\n",
    "                        },\n",
    "                        {\"type\": \"text\", \"text\": prompt},\n",
    "                    ],\n",
    "                }\n",
    "            ],\n",
    "        }\n",
    "    )\n",
    "    \n",
    "    response = bedrock.invoke_model(\n",
    "        modelId=g.CLAUDE_MODEL_ID,\n",
    "        body=body\n",
    "    )\n",
    "\n",
    "    resp_body = json.loads(response['body'].read().decode(\"utf-8\"))\n",
    "    resp_text = resp_body['content'][0]['text'].replace('\"', \"'\")\n",
    "\n",
    "    return resp_text"
   ]
  },
  {
   "cell_type": "code",
   "execution_count": null,
   "id": "65373ad9-e59d-4313-ae90-c2ac18bc5afe",
   "metadata": {},
   "outputs": [],
   "source": [
    "prompt = \"\"\"\n",
    "Please provide a detailed description of the image. Describe the overall layout and design of the slide. Identify and describe any tables, charts, or other visual elements present, including the specific data or information contained within them. Provide as much detail as possible about the content and format of the slide. Your response should be extremely detailed and data oriented. Be completely accurate\n",
    "\"\"\"\n",
    "\n",
    "print(prompt)"
   ]
  },
  {
   "cell_type": "code",
   "execution_count": null,
   "id": "e3414505-91eb-42f7-accf-bbfcf4ec2b55",
   "metadata": {
    "tags": []
   },
   "outputs": [],
   "source": [
    "os.makedirs(g.IMAGE_DIR, exist_ok=True)\n",
    "os.makedirs(g.B64_ENCODED_IMAGES_DIR, exist_ok=True)\n",
    "\n",
    "cols = ['url']\n",
    "with jsonlines.open('qa.jsonl') as f:\n",
    "    for line in f.iter():\n",
    "        deck_name = line['deck_name']\n",
    "        deck_url = line['deck_url']\n",
    "        img_df = pd.DataFrame(line['image_urls'], columns=cols)\n",
    "        for ind, row in img_df.iterrows():\n",
    "            img_url = row['url']\n",
    "            img_path = download_image(img_url, g.IMAGE_DIR)\n",
    "            if img_path != \"\":\n",
    "                b64_img_path = encode_image_to_base64(img_path)\n",
    "\n",
    "                logger.info(f\"going to convert {img_url} into embeddings\")\n",
    "                resp_text = get_img_desc(b64_img_path, prompt)\n",
    "                embedding = get_text_embedding(bedrock, resp_text)\n",
    "\n",
    "                # convert the data we want to ingest for this image into a JSON, this include the metadata as well\n",
    "                # the metadata can be used later as part of hybrid search from the vector db\n",
    "                data = json.dumps([{\n",
    "                    \"image_url\": img_url,\n",
    "                    \"slide_text\": resp_text,\n",
    "                    \"metadata\": {\n",
    "                      \"deck_name\": deck_name,\n",
    "                      \"deck_url\": deck_url\n",
    "                    },\n",
    "                    \"vector_embedding\": embedding\n",
    "                  }])\n",
    "\n",
    "                r = req.request(\n",
    "                method='POST', \n",
    "                url=osi_endpoint, \n",
    "                data=data,\n",
    "                auth=AWSSigV4('osis'))\n",
    "\n",
    "                logger.info(\"Ingesting data into pipeline\")\n",
    "                logger.info(f\"Response: {img_url} - {r.text}\")"
   ]
  },
  {
   "cell_type": "code",
   "execution_count": null,
   "id": "9dd22e75-4bf8-458c-bc89-b99e919125b6",
   "metadata": {},
   "outputs": [],
   "source": []
  }
 ],
 "metadata": {
  "kernelspec": {
   "display_name": "conda_pytorch_p310",
   "language": "python",
   "name": "conda_pytorch_p310"
  },
  "language_info": {
   "codemirror_mode": {
    "name": "ipython",
    "version": 3
   },
   "file_extension": ".py",
   "mimetype": "text/x-python",
   "name": "python",
   "nbconvert_exporter": "python",
   "pygments_lexer": "ipython3",
   "version": "3.10.13"
  }
 },
 "nbformat": 4,
 "nbformat_minor": 5
}
