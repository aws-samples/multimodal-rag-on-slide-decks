{
 "cells": [
  {
   "cell_type": "markdown",
   "metadata": {},
   "source": [
    "# Retrieval Augumented Generation (RAG) inference\n",
    "\n",
    "***This notebook works best with the `conda_python3` on the `ml.t3.large` instance***.\n",
    "\n",
    "---\n",
    "\n",
    "At this point our slide deck data is ingested into Amazon OpenSearch Service Serverless collection. We are now ready to talk to our slide deck using a large multimodal model. We are using the [Anthropic’s Claude 3 Sonnet foundation model](https://aws.amazon.com/about-aws/whats-new/2024/03/anthropics-claude-3-sonnet-model-amazon-bedrock/) for this purpose."
   ]
  },
  {
   "cell_type": "markdown",
   "metadata": {
    "tags": []
   },
   "source": [
    "## Step 1. Setup\n",
    "\n",
    "Install the required Python packages and import the relevant files."
   ]
  },
  {
   "cell_type": "code",
   "execution_count": null,
   "metadata": {
    "tags": []
   },
   "outputs": [],
   "source": [
    "import sys\n",
    "!{sys.executable} -m pip install -r requirements.txt"
   ]
  },
  {
   "cell_type": "code",
   "execution_count": 1,
   "metadata": {
    "tags": []
   },
   "outputs": [
    {
     "name": "stdout",
     "output_type": "stream",
     "text": [
      "sagemaker.config INFO - Not applying SDK defaults from location: /etc/xdg/sagemaker/config.yaml\n",
      "sagemaker.config INFO - Not applying SDK defaults from location: /home/ec2-user/.config/sagemaker/config.yaml\n"
     ]
    }
   ],
   "source": [
    "import os\n",
    "import io\n",
    "import sys\n",
    "import json\n",
    "import glob\n",
    "import boto3\n",
    "import codecs\n",
    "import base64\n",
    "import logging\n",
    "import requests\n",
    "import botocore\n",
    "import sagemaker\n",
    "import jsonlines\n",
    "import numpy as np\n",
    "import pandas as pd\n",
    "import globals as g\n",
    "from PIL import Image\n",
    "from pathlib import Path\n",
    "from typing import List, Dict\n",
    "from IPython.display import Image\n",
    "from urllib.parse import urlparse\n",
    "from botocore.auth import SigV4Auth\n",
    "from pandas.core.series import Series\n",
    "from sagemaker import get_execution_role\n",
    "from botocore.awsrequest import AWSRequest\n",
    "from utils import get_cfn_outputs, get_text_embedding, find_similar_data\n",
    "from opensearchpy import OpenSearch, RequestsHttpConnection, AWSV4SignerAuth\n"
   ]
  },
  {
   "cell_type": "code",
   "execution_count": 2,
   "metadata": {
    "tags": []
   },
   "outputs": [],
   "source": [
    "logging.basicConfig(format='[%(asctime)s] p%(process)s {%(filename)s:%(lineno)d} %(levelname)s - %(message)s', level=logging.INFO)\n",
    "logger = logging.getLogger(__name__)"
   ]
  },
  {
   "cell_type": "markdown",
   "metadata": {
    "tags": []
   },
   "source": [
    "## Step 2. Create an OpenSearch client and SageMaker Predictor object\n",
    "\n",
    "We create an OpenSearch client so that we can query the vector database for embeddings (slides) similar to the questions that we might want to ask of our slide deck and then we run inference using the Claude 3 Sonnet model given the slide description we retrieved from OpenSearch."
   ]
  },
  {
   "cell_type": "markdown",
   "metadata": {},
   "source": [
    "Get the name of the OpenSearch Service Serverless collection endpoint and index name from the CloudFormation stack outputs."
   ]
  },
  {
   "cell_type": "code",
   "execution_count": 3,
   "metadata": {
    "tags": []
   },
   "outputs": [
    {
     "name": "stderr",
     "output_type": "stream",
     "text": [
      "[2024-07-19 02:42:22,102] p30916 {3133969832.py:5} INFO - opensearchhost=7uiiz7d87b3q8u2kfmtd.us-east-1.aoss.amazonaws.com, index=blog3slides-app2\n"
     ]
    }
   ],
   "source": [
    "outputs = get_cfn_outputs(g.CFN_STACK_NAME)\n",
    "host = outputs['MultimodalCollectionEndpoint'].split('//')[1]\n",
    "index_name = outputs['OpenSearchIndexName']\n",
    "logger.info(f\"opensearchhost={host}, index={index_name}\")\n"
   ]
  },
  {
   "cell_type": "code",
   "execution_count": 4,
   "metadata": {
    "tags": []
   },
   "outputs": [
    {
     "name": "stderr",
     "output_type": "stream",
     "text": [
      "[2024-07-19 02:42:24,715] p30916 {credentials.py:1075} INFO - Found credentials from IAM Role: BaseNotebookInstanceEc2InstanceRole\n"
     ]
    }
   ],
   "source": [
    "session = boto3.Session()\n",
    "credentials = session.get_credentials()\n",
    "auth = AWSV4SignerAuth(credentials, g.AWS_REGION, g.OS_SERVICE)\n",
    "\n",
    "os_client = OpenSearch(\n",
    "    hosts = [{'host': host, 'port': 443}],\n",
    "    http_auth = auth,\n",
    "    use_ssl = True,\n",
    "    verify_certs = True,\n",
    "    connection_class = RequestsHttpConnection,\n",
    "    pool_maxsize = 20\n",
    ")"
   ]
  },
  {
   "cell_type": "markdown",
   "metadata": {},
   "source": [
    "## Step 3. Read for RAG\n",
    "\n",
    "We now have all the pieces for RAG. Here is how we _talk to our slide deck_.\n",
    "\n",
    "1. Convert the user question into embeddings using the Titan Text Embeddings model.\n",
    "\n",
    "1. Find the most similar slide (image) corresponding to the the embeddings (for the user question) from the vector database (OpenSearch Serverless).\n",
    "\n",
    "1. Now ask Claude3 to answer the user question using the retrieved image description for the most similar slide."
   ]
  },
  {
   "cell_type": "code",
   "execution_count": 5,
   "metadata": {
    "tags": []
   },
   "outputs": [],
   "source": [
    "bedrock = boto3.client(service_name=\"bedrock-runtime\", endpoint_url=g.TITAN_URL)"
   ]
  },
  {
   "cell_type": "markdown",
   "metadata": {
    "tags": []
   },
   "source": [
    "### Ask questions\n",
    "Loop through questions in the jsonl file to -\n",
    "1. Embed the question\n",
    "2. Do a similarity search to retrive the closest image url and image description\n",
    "3. Get final response from Claude by passing question and image description\n",
    "4. Append responses to a list\n",
    "\n",
    "Save the responses"
   ]
  },
  {
   "cell_type": "code",
   "execution_count": 6,
   "metadata": {
    "tags": []
   },
   "outputs": [],
   "source": [
    "llm_prompt: str = Path('prompts/desc_response_prompt.txt').read_text()"
   ]
  },
  {
   "cell_type": "code",
   "execution_count": 7,
   "metadata": {
    "tags": []
   },
   "outputs": [],
   "source": [
    "def get_llm_response(bedrock: botocore.client, question: str, summary: str) -> str:\n",
    "    prompt = llm_prompt.format(question=question, summary=summary)\n",
    "    # print(prompt)\n",
    "    body = json.dumps(\n",
    "    {\n",
    "        \"anthropic_version\": \"bedrock-2023-05-31\",\n",
    "        \"max_tokens\": 1000,\n",
    "        \"messages\": [\n",
    "            {\n",
    "                \"role\": \"user\",\n",
    "                \"content\": [\n",
    "                    {\"type\": \"text\", \"text\": prompt},\n",
    "                ],\n",
    "            }\n",
    "        ],\n",
    "    })\n",
    "        \n",
    "    try:\n",
    "        response = bedrock.invoke_model(\n",
    "        modelId=g.CLAUDE_MODEL_ID,\n",
    "        body=body\n",
    "        )\n",
    "\n",
    "        response_body = json.loads(response['body'].read().decode(\"utf-8\"))\n",
    "        llm_response = response_body['content'][0]['text'].replace('\"', \"'\")\n",
    "        \n",
    "    except Exception as e:\n",
    "        logger.error(f\"exception while slide_text={summary[:10]}, exception={e}\")\n",
    "        llm_response = None\n",
    "\n",
    "    return llm_response"
   ]
  },
  {
   "cell_type": "code",
   "execution_count": 8,
   "metadata": {
    "tags": []
   },
   "outputs": [
    {
     "name": "stderr",
     "output_type": "stream",
     "text": [
      "[2024-07-19 02:42:49,049] p30916 {base.py:259} INFO - POST https://7uiiz7d87b3q8u2kfmtd.us-east-1.aoss.amazonaws.com:443/blog3slides-app2/_search [status:200 request:0.220s]\n",
      "[2024-07-19 02:42:49,051] p30916 {utils.py:82} INFO - received response from OpenSearch\n",
      "[2024-07-19 02:42:49,051] p30916 {3118152822.py:21} INFO - answering the question=\"In which year did Nestlé achieve higher Organic Growth, 2003 or 2004?\" using the summary for \"https://image.slidesharecdn.com/2012-02-20fy11roadshow-120221022442-phpapp02/95/feb-20-2012-nestl-2011-fullyear-roadshow-presentation-7-1024.jpg\"\n",
      "[2024-07-19 02:42:49,852] p30916 {3118152822.py:38} INFO - appended response corresponding to In which year did Nestlé achieve higher Organic Growth, 2003 or 2004?\n"
     ]
    },
    {
     "name": "stdout",
     "output_type": "stream",
     "text": [
      "2004\n"
     ]
    },
    {
     "name": "stderr",
     "output_type": "stream",
     "text": [
      "[2024-07-19 02:42:50,146] p30916 {base.py:259} INFO - POST https://7uiiz7d87b3q8u2kfmtd.us-east-1.aoss.amazonaws.com:443/blog3slides-app2/_search [status:200 request:0.063s]\n",
      "[2024-07-19 02:42:50,148] p30916 {utils.py:82} INFO - received response from OpenSearch\n",
      "[2024-07-19 02:42:50,149] p30916 {3118152822.py:21} INFO - answering the question=\"How many kinds of Business Intelligence Competence Center Key Skills are there?\" using the summary for \"https://image.slidesharecdn.com/agiledatascience-140624145954-phpapp02/95/agile-data-science-8-1024.jpg\"\n",
      "[2024-07-19 02:42:51,128] p30916 {3118152822.py:21} INFO - answering the question=\"How many kinds of Business Intelligence Competence Center Key Skills are there?\" using the summary for \"https://image.slidesharecdn.com/agile-australia-when-enterprise-meets-devops-150623023618-lva1-app6891/95/when-enterprise-meets-devops-16-1024.jpg\"\n",
      "[2024-07-19 02:42:52,496] p30916 {3118152822.py:21} INFO - answering the question=\"How many kinds of Business Intelligence Competence Center Key Skills are there?\" using the summary for \"https://image.slidesharecdn.com/agiledatascience-140624145954-phpapp02/95/agile-data-science-17-1024.jpg\"\n",
      "[2024-07-19 02:42:53,300] p30916 {3118152822.py:21} INFO - answering the question=\"How many kinds of Business Intelligence Competence Center Key Skills are there?\" using the summary for \"https://image.slidesharecdn.com/agiledatascience-140624145954-phpapp02/95/agile-data-science-14-1024.jpg\"\n",
      "[2024-07-19 02:42:55,750] p30916 {base.py:259} INFO - POST https://7uiiz7d87b3q8u2kfmtd.us-east-1.aoss.amazonaws.com:443/blog3slides-app2/_search [status:200 request:0.039s]\n",
      "[2024-07-19 02:42:55,753] p30916 {utils.py:82} INFO - received response from OpenSearch\n",
      "[2024-07-19 02:42:55,755] p30916 {3118152822.py:21} INFO - answering the question=\"Where does the company which was awarded 2400 Patents in 2010 have the IP Transformation Center in Europe?\" using the summary for \"https://image.slidesharecdn.com/alcatel-lucenteesoverview-120403090342-phpapp01/95/alcatellucent-overview-2012-6-1024.jpg\"\n",
      "[2024-07-19 02:42:57,345] p30916 {3118152822.py:21} INFO - answering the question=\"Where does the company which was awarded 2400 Patents in 2010 have the IP Transformation Center in Europe?\" using the summary for \"https://image.slidesharecdn.com/bologna1-151118100554-lva1-app6892/95/principles-and-practice-of-open-science-3-1024.jpg\"\n",
      "[2024-07-19 02:42:58,207] p30916 {3118152822.py:21} INFO - answering the question=\"Where does the company which was awarded 2400 Patents in 2010 have the IP Transformation Center in Europe?\" using the summary for \"https://image.slidesharecdn.com/alcatel-lucenteesoverview-120403090342-phpapp01/95/alcatellucent-overview-2012-5-1024.jpg\"\n",
      "[2024-07-19 02:42:59,039] p30916 {3118152822.py:21} INFO - answering the question=\"Where does the company which was awarded 2400 Patents in 2010 have the IP Transformation Center in Europe?\" using the summary for \"https://image.slidesharecdn.com/alcatel-lucenteesoverview-120403090342-phpapp01/95/alcatellucent-overview-2012-14-1024.jpg\"\n",
      "[2024-07-19 02:43:00,120] p30916 {base.py:259} INFO - POST https://7uiiz7d87b3q8u2kfmtd.us-east-1.aoss.amazonaws.com:443/blog3slides-app2/_search [status:200 request:0.061s]\n",
      "[2024-07-19 02:43:00,122] p30916 {utils.py:82} INFO - received response from OpenSearch\n",
      "[2024-07-19 02:43:00,123] p30916 {3118152822.py:21} INFO - answering the question=\"Which country spend the most in Mobile display ads in the year 79300 Romanian use Twitter, according to IAB Europe AdEx Benchmark (2013)?\" using the summary for \"https://image.slidesharecdn.com/8eeomnwqsmdmin6levsv-signature-2693c633d5e2c6d5cfd1372a7aa1d1a8df13f59c942a848ca9497686d609bddd-poli-150601151510-lva1-app6892/95/mobile-awareness-iaa-school-april-15-6-1024.jpg\"\n",
      "[2024-07-19 02:43:00,971] p30916 {3118152822.py:38} INFO - appended response corresponding to Which country spend the most in Mobile display ads in the year 79300 Romanian use Twitter, according to IAB Europe AdEx Benchmark (2013)?\n"
     ]
    },
    {
     "name": "stdout",
     "output_type": "stream",
     "text": [
      "Turkey €7.8m\n"
     ]
    },
    {
     "name": "stderr",
     "output_type": "stream",
     "text": [
      "[2024-07-19 02:43:01,234] p30916 {base.py:259} INFO - POST https://7uiiz7d87b3q8u2kfmtd.us-east-1.aoss.amazonaws.com:443/blog3slides-app2/_search [status:200 request:0.039s]\n",
      "[2024-07-19 02:43:01,236] p30916 {utils.py:82} INFO - received response from OpenSearch\n",
      "[2024-07-19 02:43:01,238] p30916 {3118152822.py:21} INFO - answering the question=\"How many points are listed for TAM Notes?\" using the summary for \"https://image.slidesharecdn.com/a-151012171903-lva1-app6891/95/a-guide-to-indepth-investor-pitches-by-elevate-ventures-12-1024.jpg\"\n",
      "[2024-07-19 02:43:02,171] p30916 {3118152822.py:21} INFO - answering the question=\"How many points are listed for TAM Notes?\" using the summary for \"https://image.slidesharecdn.com/awsustainablefinal-110317140215-phpapp01/95/case-study-sustainable-mixeduse-development-in-historic-urban-areas-10-1024.jpg\"\n",
      "[2024-07-19 02:43:02,978] p30916 {3118152822.py:38} INFO - appended response corresponding to How many points are listed for TAM Notes?\n"
     ]
    },
    {
     "name": "stdout",
     "output_type": "stream",
     "text": [
      "13\n"
     ]
    },
    {
     "name": "stderr",
     "output_type": "stream",
     "text": [
      "[2024-07-19 02:43:03,239] p30916 {base.py:259} INFO - POST https://7uiiz7d87b3q8u2kfmtd.us-east-1.aoss.amazonaws.com:443/blog3slides-app2/_search [status:200 request:0.053s]\n",
      "[2024-07-19 02:43:03,242] p30916 {utils.py:82} INFO - received response from OpenSearch\n",
      "[2024-07-19 02:43:03,243] p30916 {3118152822.py:21} INFO - answering the question=\"What are listed as the examples of Social characteristics in A framework of psychological meaning?\" using the summary for \"https://image.slidesharecdn.com/betacodex-organizeforcomplexity-120624124755-phpapp02/95/organize-for-complexity-part-iii-special-edition-paper-19-1024.jpg\"\n",
      "[2024-07-19 02:43:04,060] p30916 {3118152822.py:21} INFO - answering the question=\"What are listed as the examples of Social characteristics in A framework of psychological meaning?\" using the summary for \"https://image.slidesharecdn.com/advertisingpsychologyfinal-090705155755-phpapp02/95/advertising-psychology-17-1024.jpg\"\n",
      "[2024-07-19 02:43:06,398] p30916 {3118152822.py:38} INFO - appended response corresponding to What are listed as the examples of Social characteristics in A framework of psychological meaning?\n"
     ]
    },
    {
     "name": "stdout",
     "output_type": "stream",
     "text": [
      "gender, social class, marital status, occupation\n"
     ]
    },
    {
     "name": "stderr",
     "output_type": "stream",
     "text": [
      "[2024-07-19 02:43:06,665] p30916 {base.py:259} INFO - POST https://7uiiz7d87b3q8u2kfmtd.us-east-1.aoss.amazonaws.com:443/blog3slides-app2/_search [status:200 request:0.047s]\n",
      "[2024-07-19 02:43:06,667] p30916 {utils.py:82} INFO - received response from OpenSearch\n",
      "[2024-07-19 02:43:06,668] p30916 {3118152822.py:21} INFO - answering the question=\"Which are the bigger Debts to be repaid as of June 2013, Provincial-level government debts or Municipal-level government debts?\" using the summary for \"https://image.slidesharecdn.com/1shangxichinassubnationaldebts-issuesandsuggestions-160229201053/95/chinas-subnational-debts-problems-and-suggestions-liu-shangxi-research-institute-for-fiscal-science-ministry-of-finance-china-6-1024.jpg\"\n",
      "[2024-07-19 02:43:08,625] p30916 {3118152822.py:38} INFO - appended response corresponding to Which are the bigger Debts to be repaid as of June 2013, Provincial-level government debts or Municipal-level government debts?\n"
     ]
    },
    {
     "name": "stdout",
     "output_type": "stream",
     "text": [
      "Municipal-level government debts: 24.69% (4814.64)\n",
      "Provincial-level government debts: 16.31% (1780.84)\n"
     ]
    },
    {
     "name": "stderr",
     "output_type": "stream",
     "text": [
      "[2024-07-19 02:43:08,901] p30916 {base.py:259} INFO - POST https://7uiiz7d87b3q8u2kfmtd.us-east-1.aoss.amazonaws.com:443/blog3slides-app2/_search [status:200 request:0.042s]\n",
      "[2024-07-19 02:43:08,903] p30916 {utils.py:82} INFO - received response from OpenSearch\n",
      "[2024-07-19 02:43:08,905] p30916 {3118152822.py:21} INFO - answering the question=\"What happens before Irritation of parietal peritoneum?\" using the summary for \"https://image.slidesharecdn.com/acuteappendicitis-110202065502-phpapp02/95/acute-appendicitis-11-1024.jpg\"\n",
      "[2024-07-19 02:43:09,815] p30916 {3118152822.py:38} INFO - appended response corresponding to What happens before Irritation of parietal peritoneum?\n"
     ]
    },
    {
     "name": "stdout",
     "output_type": "stream",
     "text": [
      "Irritation of parietal peritoneum\n"
     ]
    },
    {
     "name": "stderr",
     "output_type": "stream",
     "text": [
      "[2024-07-19 02:43:10,097] p30916 {base.py:259} INFO - POST https://7uiiz7d87b3q8u2kfmtd.us-east-1.aoss.amazonaws.com:443/blog3slides-app2/_search [status:200 request:0.048s]\n",
      "[2024-07-19 02:43:10,099] p30916 {utils.py:82} INFO - received response from OpenSearch\n",
      "[2024-07-19 02:43:10,100] p30916 {3118152822.py:21} INFO - answering the question=\"What is the percentage of the respondents who answer General resistance to change is the BARRIER to further AGILE ADOPTION?\" using the summary for \"https://image.slidesharecdn.com/consultselling-150818132925-lva1-app6892/95/consultative-selling-workshop-13-1024.jpg\"\n",
      "[2024-07-19 02:43:10,901] p30916 {3118152822.py:21} INFO - answering the question=\"What is the percentage of the respondents who answer General resistance to change is the BARRIER to further AGILE ADOPTION?\" using the summary for \"https://image.slidesharecdn.com/agileenterprise-reinventingorgs-150402022438-conversion-gate01/95/agile-enterprise-reinventing-organizations-5-1024.jpg\"\n",
      "[2024-07-19 02:43:12,116] p30916 {3118152822.py:38} INFO - appended response corresponding to What is the percentage of the respondents who answer General resistance to change is the BARRIER to further AGILE ADOPTION?\n"
     ]
    },
    {
     "name": "stdout",
     "output_type": "stream",
     "text": [
      "42%\n"
     ]
    },
    {
     "name": "stderr",
     "output_type": "stream",
     "text": [
      "[2024-07-19 02:43:12,376] p30916 {base.py:259} INFO - POST https://7uiiz7d87b3q8u2kfmtd.us-east-1.aoss.amazonaws.com:443/blog3slides-app2/_search [status:200 request:0.036s]\n",
      "[2024-07-19 02:43:12,379] p30916 {utils.py:82} INFO - received response from OpenSearch\n",
      "[2024-07-19 02:43:12,380] p30916 {3118152822.py:21} INFO - answering the question=\"What is the name of the company that publishes \"Gray's Anatomy Fortieth Edition\"?\" using the summary for \"https://image.slidesharecdn.com/bologna1-151118100554-lva1-app6892/95/principles-and-practice-of-open-science-20-1024.jpg\"\n",
      "[2024-07-19 02:43:13,184] p30916 {3118152822.py:21} INFO - answering the question=\"What is the name of the company that publishes \"Gray's Anatomy Fortieth Edition\"?\" using the summary for \"https://image.slidesharecdn.com/autoreport-cs6-140415111854-phpapp02/95/auto-report-cs6-20-1024.jpg\"\n",
      "[2024-07-19 02:43:13,794] p30916 {3118152822.py:21} INFO - answering the question=\"What is the name of the company that publishes \"Gray's Anatomy Fortieth Edition\"?\" using the summary for \"https://image.slidesharecdn.com/2014periorbitalandupperfaceamimodulebnl01332014x-140707165029-phpapp02/95/training-for-periorbital-and-upper-face-treatment-with-botox-and-juvederm-4-1024.jpg\"\n",
      "[2024-07-19 02:43:14,803] p30916 {3118152822.py:21} INFO - answering the question=\"What is the name of the company that publishes \"Gray's Anatomy Fortieth Edition\"?\" using the summary for \"https://image.slidesharecdn.com/connectivetissue-150209063549-conversion-gate01/95/connective-tissuepptx-1-1024.jpg\"\n",
      "[2024-07-19 02:43:16,030] p30916 {base.py:259} INFO - POST https://7uiiz7d87b3q8u2kfmtd.us-east-1.aoss.amazonaws.com:443/blog3slides-app2/_search [status:200 request:0.049s]\n",
      "[2024-07-19 02:43:16,032] p30916 {utils.py:82} INFO - received response from OpenSearch\n",
      "[2024-07-19 02:43:16,034] p30916 {3118152822.py:21} INFO - answering the question=\"What is the tagline of APOTEX?\" using the summary for \"https://image.slidesharecdn.com/bobapollosales2-0london2013presentationfinal-130604015015-phpapp01/95/making-the-connection-sales-20-london-2013-presentation-1-1024.jpg\"\n",
      "[2024-07-19 02:43:17,172] p30916 {3118152822.py:21} INFO - answering the question=\"What is the tagline of APOTEX?\" using the summary for \"https://image.slidesharecdn.com/8apr2015gdfsession4-150408094801-conversion-gate01/95/april-08th-2015-forum-on-generic-drugs-promise-of-regulatory-science-33-16-1024.jpg\"\n",
      "[2024-07-19 02:43:18,574] p30916 {3118152822.py:21} INFO - answering the question=\"What is the tagline of APOTEX?\" using the summary for \"https://image.slidesharecdn.com/augustteamsworkpresentation1-151002172254-lva1-app6892/95/august-teams-work-6-1024.jpg\"\n",
      "[2024-07-19 02:43:19,420] p30916 {3118152822.py:21} INFO - answering the question=\"What is the tagline of APOTEX?\" using the summary for \"https://image.slidesharecdn.com/amitpresentation-141220101151-conversion-gate01/95/keynote-presentation-mobile-app-lifecycle-and-ecosystem-15-1024.jpg\"\n",
      "[2024-07-19 02:43:21,024] p30916 {base.py:259} INFO - POST https://7uiiz7d87b3q8u2kfmtd.us-east-1.aoss.amazonaws.com:443/blog3slides-app2/_search [status:200 request:0.063s]\n",
      "[2024-07-19 02:43:21,026] p30916 {utils.py:82} INFO - received response from OpenSearch\n",
      "[2024-07-19 02:43:21,027] p30916 {3118152822.py:21} INFO - answering the question=\"What comes between community resources and community change in the flow chart?\" using the summary for \"https://image.slidesharecdn.com/5benefitsofanonprofittheoryofchange-160229202540/95/5-benefits-of-a-nonprofit-theory-of-change-11-1024.jpg\"\n",
      "[2024-07-19 02:43:21,981] p30916 {3118152822.py:38} INFO - appended response corresponding to What comes between community resources and community change in the flow chart?\n"
     ]
    },
    {
     "name": "stdout",
     "output_type": "stream",
     "text": [
      "Helps Prove Impact\n"
     ]
    },
    {
     "name": "stderr",
     "output_type": "stream",
     "text": [
      "[2024-07-19 02:43:22,224] p30916 {base.py:259} INFO - POST https://7uiiz7d87b3q8u2kfmtd.us-east-1.aoss.amazonaws.com:443/blog3slides-app2/_search [status:200 request:0.042s]\n",
      "[2024-07-19 02:43:22,226] p30916 {utils.py:82} INFO - received response from OpenSearch\n",
      "[2024-07-19 02:43:22,227] p30916 {3118152822.py:21} INFO - answering the question=\"What Institutional Structures exist at the Central Govt. Level?\" using the summary for \"https://image.slidesharecdn.com/1-150711120533-lva1-app6892/95/1-new-land-acquisition-act-process-flow-6-1024.jpg\"\n",
      "[2024-07-19 02:43:23,316] p30916 {3118152822.py:38} INFO - appended response corresponding to What Institutional Structures exist at the Central Govt. Level?\n"
     ]
    },
    {
     "name": "stdout",
     "output_type": "stream",
     "text": [
      "National Monitoring Committee, Oversight at Central Level for all projects\n"
     ]
    },
    {
     "name": "stderr",
     "output_type": "stream",
     "text": [
      "[2024-07-19 02:43:23,564] p30916 {base.py:259} INFO - POST https://7uiiz7d87b3q8u2kfmtd.us-east-1.aoss.amazonaws.com:443/blog3slides-app2/_search [status:200 request:0.041s]\n",
      "[2024-07-19 02:43:23,566] p30916 {utils.py:82} INFO - received response from OpenSearch\n",
      "[2024-07-19 02:43:23,567] p30916 {3118152822.py:21} INFO - answering the question=\"Which SOCIAL PLATFORM has the most users?\" using the summary for \"https://image.slidesharecdn.com/2014globaldigitalsociallandscape-140803004322-phpapp02/95/2014-digital-landscape-overview-by-wearesocialsg-11-1024.jpg\"\n",
      "[2024-07-19 02:43:25,149] p30916 {3118152822.py:38} INFO - appended response corresponding to Which SOCIAL PLATFORM has the most users?\n"
     ]
    },
    {
     "name": "stdout",
     "output_type": "stream",
     "text": [
      "Facebook: 1,184 million\n"
     ]
    },
    {
     "name": "stderr",
     "output_type": "stream",
     "text": [
      "[2024-07-19 02:43:25,405] p30916 {base.py:259} INFO - POST https://7uiiz7d87b3q8u2kfmtd.us-east-1.aoss.amazonaws.com:443/blog3slides-app2/_search [status:200 request:0.046s]\n",
      "[2024-07-19 02:43:25,407] p30916 {utils.py:82} INFO - received response from OpenSearch\n",
      "[2024-07-19 02:43:25,408] p30916 {3118152822.py:21} INFO - answering the question=\"What additional components are there w/ Delegation Tokens compared to No Delegation Tokens?\" using the summary for \"https://image.slidesharecdn.com/02marcelovanzen-150624000117-lva1-app6891/95/sparkonyarn-the-road-aheadmarcelo-vanzin-cloudera-16-1024.jpg\"\n",
      "[2024-07-19 02:43:26,182] p30916 {3118152822.py:38} INFO - appended response corresponding to What additional components are there w/ Delegation Tokens compared to No Delegation Tokens?\n",
      "[2024-07-19 02:43:26,305] p30916 {base.py:259} INFO - POST https://7uiiz7d87b3q8u2kfmtd.us-east-1.aoss.amazonaws.com:443/blog3slides-app2/_search [status:200 request:0.039s]\n",
      "[2024-07-19 02:43:26,307] p30916 {utils.py:82} INFO - received response from OpenSearch\n",
      "[2024-07-19 02:43:26,308] p30916 {3118152822.py:21} INFO - answering the question=\"What are affiliations of the person who says resilient behaviors are active behavior intended to retain the system identity?\" using the summary for \"https://image.slidesharecdn.com/2014-11-14-inriaprovappt-141112043127-conversion-gate02/95/a-behavioral-interpretation-of-resilience-and-antifragility-9-1024.jpg\"\n"
     ]
    },
    {
     "name": "stdout",
     "output_type": "stream",
     "text": [
      "Driver\n"
     ]
    },
    {
     "name": "stderr",
     "output_type": "stream",
     "text": [
      "[2024-07-19 02:43:28,847] p30916 {3118152822.py:38} INFO - appended response corresponding to What are affiliations of the person who says resilient behaviors are active behavior intended to retain the system identity?\n"
     ]
    },
    {
     "name": "stdout",
     "output_type": "stream",
     "text": [
      "INRIA (French Institute for Research in Computer Science and Automation)\n"
     ]
    },
    {
     "name": "stderr",
     "output_type": "stream",
     "text": [
      "[2024-07-19 02:43:29,093] p30916 {base.py:259} INFO - POST https://7uiiz7d87b3q8u2kfmtd.us-east-1.aoss.amazonaws.com:443/blog3slides-app2/_search [status:200 request:0.042s]\n",
      "[2024-07-19 02:43:29,096] p30916 {utils.py:82} INFO - received response from OpenSearch\n",
      "[2024-07-19 02:43:29,097] p30916 {3118152822.py:21} INFO - answering the question=\"What are the six parts of CONCERN'S COLLABORATION MODEL?\" using the summary for \"https://image.slidesharecdn.com/20140706whatcanfundraiserslearnfromrappers-140707171243-phpapp02/95/what-fundraisers-can-learn-from-rappers-17-1024.jpg\"\n",
      "[2024-07-19 02:43:30,074] p30916 {3118152822.py:21} INFO - answering the question=\"What are the six parts of CONCERN'S COLLABORATION MODEL?\" using the summary for \"https://image.slidesharecdn.com/20140706whatcanfundraiserslearnfromrappers-140707171243-phpapp02/95/what-fundraisers-can-learn-from-rappers-18-1024.jpg\"\n",
      "[2024-07-19 02:43:30,608] p30916 {3118152822.py:21} INFO - answering the question=\"What are the six parts of CONCERN'S COLLABORATION MODEL?\" using the summary for \"https://image.slidesharecdn.com/consultselling-150818132925-lva1-app6892/95/consultative-selling-workshop-19-1024.jpg\"\n",
      "[2024-07-19 02:43:31,270] p30916 {3118152822.py:21} INFO - answering the question=\"What are the six parts of CONCERN'S COLLABORATION MODEL?\" using the summary for \"https://image.slidesharecdn.com/20140706whatcanfundraiserslearnfromrappers-140707171243-phpapp02/95/what-fundraisers-can-learn-from-rappers-19-1024.jpg\"\n",
      "[2024-07-19 02:43:32,266] p30916 {base.py:259} INFO - POST https://7uiiz7d87b3q8u2kfmtd.us-east-1.aoss.amazonaws.com:443/blog3slides-app2/_search [status:200 request:0.035s]\n",
      "[2024-07-19 02:43:32,269] p30916 {utils.py:82} INFO - received response from OpenSearch\n",
      "[2024-07-19 02:43:32,270] p30916 {3118152822.py:21} INFO - answering the question=\"Is eBook Penetration higher in Public or Academic libraries?\" using the summary for \"https://image.slidesharecdn.com/2013alapurchasing-130214144910-phpapp02/95/purchasing-ebooks-for-your-library-6-1024.jpg\"\n",
      "[2024-07-19 02:43:33,743] p30916 {3118152822.py:38} INFO - appended response corresponding to Is eBook Penetration higher in Public or Academic libraries?\n"
     ]
    },
    {
     "name": "stdout",
     "output_type": "stream",
     "text": [
      "Academic\n"
     ]
    },
    {
     "name": "stderr",
     "output_type": "stream",
     "text": [
      "[2024-07-19 02:43:34,009] p30916 {base.py:259} INFO - POST https://7uiiz7d87b3q8u2kfmtd.us-east-1.aoss.amazonaws.com:443/blog3slides-app2/_search [status:200 request:0.041s]\n",
      "[2024-07-19 02:43:34,011] p30916 {utils.py:82} INFO - received response from OpenSearch\n",
      "[2024-07-19 02:43:34,012] p30916 {3118152822.py:21} INFO - answering the question=\"How many comments were analyzed?\" using the summary for \"https://image.slidesharecdn.com/b2b-social-testing-lopez-141009140744-conversion-gate02/95/kick-your-social-strategy-into-overdrive-the-ins-outs-of-testing-social-16-1024.jpg\"\n",
      "[2024-07-19 02:43:35,561] p30916 {3118152822.py:21} INFO - answering the question=\"How many comments were analyzed?\" using the summary for \"https://image.slidesharecdn.com/asixstepcontentmarketingmodel-120206005134-phpapp01/95/a-six-step-content-marketing-model-18-1024.jpg\"\n",
      "[2024-07-19 02:43:36,796] p30916 {3118152822.py:21} INFO - answering the question=\"How many comments were analyzed?\" using the summary for \"https://image.slidesharecdn.com/bologna1-151118100554-lva1-app6892/95/principles-and-practice-of-open-science-6-1024.jpg\"\n",
      "[2024-07-19 02:43:37,503] p30916 {3118152822.py:21} INFO - answering the question=\"How many comments were analyzed?\" using the summary for \"https://image.slidesharecdn.com/b2b-social-testing-lopez-141009140744-conversion-gate02/95/kick-your-social-strategy-into-overdrive-the-ins-outs-of-testing-social-15-1024.jpg\"\n",
      "[2024-07-19 02:43:38,804] p30916 {3118152822.py:38} INFO - appended response corresponding to How many comments were analyzed?\n"
     ]
    },
    {
     "name": "stdout",
     "output_type": "stream",
     "text": [
      "10\n"
     ]
    },
    {
     "name": "stderr",
     "output_type": "stream",
     "text": [
      "[2024-07-19 02:43:39,036] p30916 {base.py:259} INFO - POST https://7uiiz7d87b3q8u2kfmtd.us-east-1.aoss.amazonaws.com:443/blog3slides-app2/_search [status:200 request:0.037s]\n",
      "[2024-07-19 02:43:39,039] p30916 {utils.py:82} INFO - received response from OpenSearch\n",
      "[2024-07-19 02:43:39,040] p30916 {3118152822.py:21} INFO - answering the question=\"What does the thing which is a process of continuous improvement connect to in the diagram?\" using the summary for \"https://image.slidesharecdn.com/bizofchangeartofcommspublic-141115203118-conversion-gate02/95/the-business-of-change-the-art-of-communication-9-1024.jpg\"\n",
      "[2024-07-19 02:43:39,909] p30916 {3118152822.py:21} INFO - answering the question=\"What does the thing which is a process of continuous improvement connect to in the diagram?\" using the summary for \"https://image.slidesharecdn.com/agile-australia-when-enterprise-meets-devops-150623023618-lva1-app6891/95/when-enterprise-meets-devops-17-1024.jpg\"\n",
      "[2024-07-19 02:43:40,544] p30916 {3118152822.py:21} INFO - answering the question=\"What does the thing which is a process of continuous improvement connect to in the diagram?\" using the summary for \"https://image.slidesharecdn.com/amethodologyforbuildingtheinternetofthings1-141127194112-conversion-gate01/95/a-methodology-for-building-the-internet-of-things-5-1024.jpg\"\n",
      "[2024-07-19 02:43:41,693] p30916 {3118152822.py:38} INFO - appended response corresponding to What does the thing which is a process of continuous improvement connect to in the diagram?\n",
      "[2024-07-19 02:43:41,814] p30916 {base.py:259} INFO - POST https://7uiiz7d87b3q8u2kfmtd.us-east-1.aoss.amazonaws.com:443/blog3slides-app2/_search [status:200 request:0.040s]\n",
      "[2024-07-19 02:43:41,816] p30916 {utils.py:82} INFO - received response from OpenSearch\n",
      "[2024-07-19 02:43:41,818] p30916 {3118152822.py:21} INFO - answering the question=\"What did the ONLINE DISPLAY do?\" using the summary for \"https://image.slidesharecdn.com/24042014iforumkievmartaklepkapublicisgroupe-140514070615-phpapp01/95/automation-integration-and-effectiveness-programmatic-buying-and-its-future-in-cee-presentation-from-iforum-conference-kiev-2014-5-1024.jpg\"\n"
     ]
    },
    {
     "name": "stdout",
     "output_type": "stream",
     "text": [
      "Continuous Deployment\n"
     ]
    },
    {
     "name": "stderr",
     "output_type": "stream",
     "text": [
      "[2024-07-19 02:43:42,613] p30916 {3118152822.py:21} INFO - answering the question=\"What did the ONLINE DISPLAY do?\" using the summary for \"https://image.slidesharecdn.com/chinajoy-sns-v3-090724053148-phpapp02/95/lessons-learned-from-sns-games-at-popcap-18-1024.jpg\"\n",
      "[2024-07-19 02:43:43,679] p30916 {3118152822.py:21} INFO - answering the question=\"What did the ONLINE DISPLAY do?\" using the summary for \"https://image.slidesharecdn.com/24042014iforumkievmartaklepkapublicisgroupe-140514070615-phpapp01/95/automation-integration-and-effectiveness-programmatic-buying-and-its-future-in-cee-presentation-from-iforum-conference-kiev-2014-9-1024.jpg\"\n",
      "[2024-07-19 02:43:45,153] p30916 {3118152822.py:21} INFO - answering the question=\"What did the ONLINE DISPLAY do?\" using the summary for \"https://image.slidesharecdn.com/avoidingdeathbypowerpointslideshare-090322075422-phpapp01/95/avoiding-death-by-powerpoint-slideshare-19-1024.jpg\"\n",
      "[2024-07-19 02:43:46,188] p30916 {base.py:259} INFO - POST https://7uiiz7d87b3q8u2kfmtd.us-east-1.aoss.amazonaws.com:443/blog3slides-app2/_search [status:200 request:0.039s]\n",
      "[2024-07-19 02:43:46,190] p30916 {utils.py:82} INFO - received response from OpenSearch\n",
      "[2024-07-19 02:43:46,193] p30916 {3118152822.py:21} INFO - answering the question=\"What are the three types of manufacturing technology for a manufactured assembly of fibres or yarns that has substantial surface area in relation to its thickness and sufficient cohesion to give the assembly useful mechanical strength?\" using the summary for \"https://image.slidesharecdn.com/afabric-manufacturing-150314104020-conversion-gate01/95/fabric-manufacturing-weaving-preparation-6-1024.jpg\"\n",
      "[2024-07-19 02:43:47,209] p30916 {3118152822.py:38} INFO - appended response corresponding to What are the three types of manufacturing technology for a manufactured assembly of fibres or yarns that has substantial surface area in relation to its thickness and sufficient cohesion to give the assembly useful mechanical strength?\n"
     ]
    },
    {
     "name": "stdout",
     "output_type": "stream",
     "text": [
      "Weaving, Knitting, Non-Woven\n"
     ]
    },
    {
     "name": "stderr",
     "output_type": "stream",
     "text": [
      "[2024-07-19 02:43:47,466] p30916 {base.py:259} INFO - POST https://7uiiz7d87b3q8u2kfmtd.us-east-1.aoss.amazonaws.com:443/blog3slides-app2/_search [status:200 request:0.040s]\n",
      "[2024-07-19 02:43:47,474] p30916 {utils.py:82} INFO - received response from OpenSearch\n",
      "[2024-07-19 02:43:47,477] p30916 {3118152822.py:21} INFO - answering the question=\"Sahaja Aharam links farmers to whom?\" using the summary for \"https://image.slidesharecdn.com/141121organicwayforward-141123090600-conversion-gate02/95/organic-way-forward-6-1024.jpg\"\n",
      "[2024-07-19 02:43:48,295] p30916 {3118152822.py:38} INFO - appended response corresponding to Sahaja Aharam links farmers to whom?\n"
     ]
    },
    {
     "name": "stdout",
     "output_type": "stream",
     "text": [
      "consumers\n"
     ]
    },
    {
     "name": "stderr",
     "output_type": "stream",
     "text": [
      "[2024-07-19 02:43:48,577] p30916 {base.py:259} INFO - POST https://7uiiz7d87b3q8u2kfmtd.us-east-1.aoss.amazonaws.com:443/blog3slides-app2/_search [status:200 request:0.037s]\n",
      "[2024-07-19 02:43:48,580] p30916 {utils.py:82} INFO - received response from OpenSearch\n",
      "[2024-07-19 02:43:48,581] p30916 {3118152822.py:21} INFO - answering the question=\"What are examples of tools that can be used?\" using the summary for \"https://image.slidesharecdn.com/aynbrandt3workshopsocialmediaprimer-1219840114878232-9/95/ayn-brand-t3-workshop-social-media-web-20-primer-8-1024.jpg\"\n",
      "[2024-07-19 02:43:50,759] p30916 {3118152822.py:38} INFO - appended response corresponding to What are examples of tools that can be used?\n",
      "[2024-07-19 02:43:50,913] p30916 {base.py:259} INFO - POST https://7uiiz7d87b3q8u2kfmtd.us-east-1.aoss.amazonaws.com:443/blog3slides-app2/_search [status:200 request:0.035s]\n",
      "[2024-07-19 02:43:50,915] p30916 {utils.py:82} INFO - received response from OpenSearch\n",
      "[2024-07-19 02:43:50,916] p30916 {3118152822.py:21} INFO - answering the question=\"What is the literacy rate as a percentage in the People's Republic of China?\" using the summary for \"https://image.slidesharecdn.com/chinatourismreport-100310054348-phpapp01/95/china-tourism-report-3-1024.jpg\"\n"
     ]
    },
    {
     "name": "stdout",
     "output_type": "stream",
     "text": [
      "Flickr, SmugMug, Picasa, Photobucket, YouTube, Vimeo, Ustream, Justin.tv, imeem, Last.fm, Pandora, iLike, Second Life, Active Worlds, IMVU, There, World of Warcraft, Halo, Miniclip.com\n"
     ]
    },
    {
     "name": "stderr",
     "output_type": "stream",
     "text": [
      "[2024-07-19 02:43:52,525] p30916 {3118152822.py:38} INFO - appended response corresponding to What is the literacy rate as a percentage in the People's Republic of China?\n"
     ]
    },
    {
     "name": "stdout",
     "output_type": "stream",
     "text": [
      "90.9%\n"
     ]
    },
    {
     "name": "stderr",
     "output_type": "stream",
     "text": [
      "[2024-07-19 02:43:52,778] p30916 {base.py:259} INFO - POST https://7uiiz7d87b3q8u2kfmtd.us-east-1.aoss.amazonaws.com:443/blog3slides-app2/_search [status:200 request:0.037s]\n",
      "[2024-07-19 02:43:52,781] p30916 {utils.py:82} INFO - received response from OpenSearch\n",
      "[2024-07-19 02:43:52,782] p30916 {3118152822.py:21} INFO - answering the question=\"What directly follows DNA extraction and PCR on the flow chart?\" using the summary for \"https://image.slidesharecdn.com/associationmappinginplants-150413205026-conversion-gate01/95/association-mapping-in-plants-5-1024.jpg\"\n",
      "[2024-07-19 02:43:53,660] p30916 {3118152822.py:38} INFO - appended response corresponding to What directly follows DNA extraction and PCR on the flow chart?\n"
     ]
    },
    {
     "name": "stdout",
     "output_type": "stream",
     "text": [
      "Electrophoresis segregation analysis\n"
     ]
    },
    {
     "name": "stderr",
     "output_type": "stream",
     "text": [
      "[2024-07-19 02:43:53,926] p30916 {base.py:259} INFO - POST https://7uiiz7d87b3q8u2kfmtd.us-east-1.aoss.amazonaws.com:443/blog3slides-app2/_search [status:200 request:0.039s]\n",
      "[2024-07-19 02:43:53,928] p30916 {utils.py:82} INFO - received response from OpenSearch\n",
      "[2024-07-19 02:43:53,929] p30916 {3118152822.py:21} INFO - answering the question=\"Who are the authors of the book about the process of coordinating work activities so that they are completed efficiently and effectively with and through other people pictured in the presentation?\" using the summary for \"https://image.slidesharecdn.com/betacodex-organizeforcomplexity-120624124755-phpapp02/95/organize-for-complexity-part-iii-special-edition-paper-1-1024.jpg\"\n",
      "[2024-07-19 02:43:55,131] p30916 {3118152822.py:38} INFO - appended response corresponding to Who are the authors of the book about the process of coordinating work activities so that they are completed efficiently and effectively with and through other people pictured in the presentation?\n"
     ]
    },
    {
     "name": "stdout",
     "output_type": "stream",
     "text": [
      "Niels Pflaeging, Silke Hermann, Lars Vollmer, Valerya Carvalho\n"
     ]
    },
    {
     "name": "stderr",
     "output_type": "stream",
     "text": [
      "[2024-07-19 02:43:55,400] p30916 {base.py:259} INFO - POST https://7uiiz7d87b3q8u2kfmtd.us-east-1.aoss.amazonaws.com:443/blog3slides-app2/_search [status:200 request:0.035s]\n",
      "[2024-07-19 02:43:55,402] p30916 {utils.py:82} INFO - received response from OpenSearch\n",
      "[2024-07-19 02:43:55,404] p30916 {3118152822.py:21} INFO - answering the question=\"What are two types of a device to permit constrained relative motion between two parts, typically rotation or linear movement?\" using the summary for \"https://image.slidesharecdn.com/bearing1-151117114834-lva1-app6892/95/bearing-description-about-basic-types-failure-causes-2-1024.jpg\"\n",
      "[2024-07-19 02:43:56,421] p30916 {3118152822.py:38} INFO - appended response corresponding to What are two types of a device to permit constrained relative motion between two parts, typically rotation or linear movement?\n",
      "[2024-07-19 02:43:56,587] p30916 {base.py:259} INFO - POST https://7uiiz7d87b3q8u2kfmtd.us-east-1.aoss.amazonaws.com:443/blog3slides-app2/_search [status:200 request:0.034s]\n",
      "[2024-07-19 02:43:56,589] p30916 {utils.py:82} INFO - received response from OpenSearch\n",
      "[2024-07-19 02:43:56,590] p30916 {3118152822.py:21} INFO - answering the question=\"Which factor has the weakest influence on a buyer's consideration list?\" using the summary for \"https://image.slidesharecdn.com/autoreport-cs6-140415111854-phpapp02/95/auto-report-cs6-8-1024.jpg\"\n"
     ]
    },
    {
     "name": "stdout",
     "output_type": "stream",
     "text": [
      "rotation or linear movement\n"
     ]
    },
    {
     "name": "stderr",
     "output_type": "stream",
     "text": [
      "[2024-07-19 02:43:57,494] p30916 {3118152822.py:21} INFO - answering the question=\"Which factor has the weakest influence on a buyer's consideration list?\" using the summary for \"https://image.slidesharecdn.com/autoreport-cs6-140415111854-phpapp02/95/auto-report-cs6-9-1024.jpg\"\n",
      "[2024-07-19 02:43:58,654] p30916 {3118152822.py:38} INFO - appended response corresponding to Which factor has the weakest influence on a buyer's consideration list?\n"
     ]
    },
    {
     "name": "stdout",
     "output_type": "stream",
     "text": [
      "Likes/tweets by auto manufacturers on social media have little influence (25%).\n"
     ]
    },
    {
     "name": "stderr",
     "output_type": "stream",
     "text": [
      "[2024-07-19 02:43:58,932] p30916 {base.py:259} INFO - POST https://7uiiz7d87b3q8u2kfmtd.us-east-1.aoss.amazonaws.com:443/blog3slides-app2/_search [status:200 request:0.036s]\n",
      "[2024-07-19 02:43:58,934] p30916 {utils.py:82} INFO - received response from OpenSearch\n",
      "[2024-07-19 02:43:58,935] p30916 {3118152822.py:21} INFO - answering the question=\"What do publishers give academia?\" using the summary for \"https://image.slidesharecdn.com/bologna1-151118100554-lva1-app6892/95/principles-and-practice-of-open-science-20-1024.jpg\"\n",
      "[2024-07-19 02:44:00,343] p30916 {3118152822.py:21} INFO - answering the question=\"What do publishers give academia?\" using the summary for \"https://image.slidesharecdn.com/bologna1-151118100554-lva1-app6892/95/principles-and-practice-of-open-science-18-1024.jpg\"\n",
      "[2024-07-19 02:44:01,184] p30916 {3118152822.py:21} INFO - answering the question=\"What do publishers give academia?\" using the summary for \"https://image.slidesharecdn.com/bologna1-151118100554-lva1-app6892/95/principles-and-practice-of-open-science-17-1024.jpg\"\n",
      "[2024-07-19 02:44:01,815] p30916 {3118152822.py:21} INFO - answering the question=\"What do publishers give academia?\" using the summary for \"https://image.slidesharecdn.com/2013alapurchasing-130214144910-phpapp02/95/purchasing-ebooks-for-your-library-16-1024.jpg\"\n",
      "[2024-07-19 02:44:02,790] p30916 {base.py:259} INFO - POST https://7uiiz7d87b3q8u2kfmtd.us-east-1.aoss.amazonaws.com:443/blog3slides-app2/_search [status:200 request:0.054s]\n",
      "[2024-07-19 02:44:02,794] p30916 {utils.py:82} INFO - received response from OpenSearch\n",
      "[2024-07-19 02:44:02,795] p30916 {3118152822.py:21} INFO - answering the question=\"Which fluctuates more, agriculture or automotive growth?\" using the summary for \"https://image.slidesharecdn.com/beerindustryfinalslides-110814110012-phpapp01/95/beer-industry-5-1024.jpg\"\n",
      "[2024-07-19 02:44:03,636] p30916 {3118152822.py:21} INFO - answering the question=\"Which fluctuates more, agriculture or automotive growth?\" using the summary for \"https://image.slidesharecdn.com/astudyoncustomerpreferebceandsatisfactiontowardsbajajbikes-150814133516-lva1-app6891/95/a-study-on-customer-preferebce-and-satisfaction-towards-bajaj-bikes-4-1024.jpg\"\n",
      "[2024-07-19 02:44:04,702] p30916 {3118152822.py:21} INFO - answering the question=\"Which fluctuates more, agriculture or automotive growth?\" using the summary for \"https://image.slidesharecdn.com/autoreport-cs6-140415111854-phpapp02/95/auto-report-cs6-7-1024.jpg\"\n",
      "[2024-07-19 02:44:05,440] p30916 {3118152822.py:21} INFO - answering the question=\"Which fluctuates more, agriculture or automotive growth?\" using the summary for \"https://image.slidesharecdn.com/avoidingdeathbypowerpointslideshare-090322075422-phpapp01/95/avoiding-death-by-powerpoint-slideshare-16-1024.jpg\"\n",
      "[2024-07-19 02:44:06,562] p30916 {base.py:259} INFO - POST https://7uiiz7d87b3q8u2kfmtd.us-east-1.aoss.amazonaws.com:443/blog3slides-app2/_search [status:200 request:0.043s]\n",
      "[2024-07-19 02:44:06,564] p30916 {utils.py:82} INFO - received response from OpenSearch\n",
      "[2024-07-19 02:44:06,565] p30916 {3118152822.py:21} INFO - answering the question=\"What does the transparent proxy intercept and proxy to the destination?\" using the summary for \"https://image.slidesharecdn.com/apachecon2014-140414104319-phpapp02/95/choosing-a-proxy-server-apachecon-2014-8-1024.jpg\"\n",
      "[2024-07-19 02:44:07,722] p30916 {3118152822.py:38} INFO - appended response corresponding to What does the transparent proxy intercept and proxy to the destination?\n"
     ]
    },
    {
     "name": "stdout",
     "output_type": "stream",
     "text": [
      "HTTP requests\n"
     ]
    },
    {
     "name": "stderr",
     "output_type": "stream",
     "text": [
      "[2024-07-19 02:44:07,957] p30916 {base.py:259} INFO - POST https://7uiiz7d87b3q8u2kfmtd.us-east-1.aoss.amazonaws.com:443/blog3slides-app2/_search [status:200 request:0.035s]\n",
      "[2024-07-19 02:44:07,959] p30916 {utils.py:82} INFO - received response from OpenSearch\n",
      "[2024-07-19 02:44:07,960] p30916 {3118152822.py:21} INFO - answering the question=\"Is a second response possible in an absolute or relative refractory period?\" using the summary for \"https://image.slidesharecdn.com/antiarrhythmicdrugs-130925005726-phpapp01/95/antiarrhythmic-drugs-18-1024.jpg\"\n",
      "[2024-07-19 02:44:09,287] p30916 {3118152822.py:38} INFO - appended response corresponding to Is a second response possible in an absolute or relative refractory period?\n",
      "[2024-07-19 02:44:09,411] p30916 {base.py:259} INFO - POST https://7uiiz7d87b3q8u2kfmtd.us-east-1.aoss.amazonaws.com:443/blog3slides-app2/_search [status:200 request:0.044s]\n",
      "[2024-07-19 02:44:09,413] p30916 {utils.py:82} INFO - received response from OpenSearch\n",
      "[2024-07-19 02:44:09,414] p30916 {3118152822.py:21} INFO - answering the question=\"Have wine import amounts and volume been trending up or down during the period from 1995 to 2014?\" using the summary for \"https://image.slidesharecdn.com/analysisofkoreanwinemarket-20150902-daejeon-150829090424-lva1-app6891/95/analysis-of-korean-wine-market-20150902daejeon-4-1024.jpg\"\n"
     ]
    },
    {
     "name": "stdout",
     "output_type": "stream",
     "text": [
      "no\n"
     ]
    },
    {
     "name": "stderr",
     "output_type": "stream",
     "text": [
      "[2024-07-19 02:44:10,505] p30916 {3118152822.py:38} INFO - appended response corresponding to Have wine import amounts and volume been trending up or down during the period from 1995 to 2014?\n"
     ]
    },
    {
     "name": "stdout",
     "output_type": "stream",
     "text": [
      "upward\n"
     ]
    },
    {
     "name": "stderr",
     "output_type": "stream",
     "text": [
      "[2024-07-19 02:44:10,757] p30916 {base.py:259} INFO - POST https://7uiiz7d87b3q8u2kfmtd.us-east-1.aoss.amazonaws.com:443/blog3slides-app2/_search [status:200 request:0.034s]\n",
      "[2024-07-19 02:44:10,759] p30916 {utils.py:82} INFO - received response from OpenSearch\n",
      "[2024-07-19 02:44:10,761] p30916 {3118152822.py:21} INFO - answering the question=\"What are some content conversion points?\" using the summary for \"https://image.slidesharecdn.com/asixstepcontentmarketingmodel-120206005134-phpapp01/95/a-six-step-content-marketing-model-10-1024.jpg\"\n",
      "[2024-07-19 02:44:11,805] p30916 {3118152822.py:38} INFO - appended response corresponding to What are some content conversion points?\n"
     ]
    },
    {
     "name": "stdout",
     "output_type": "stream",
     "text": [
      "Social Media, Other Media, Blog, External Blogs, Influence\n"
     ]
    },
    {
     "name": "stderr",
     "output_type": "stream",
     "text": [
      "[2024-07-19 02:44:12,061] p30916 {base.py:259} INFO - POST https://7uiiz7d87b3q8u2kfmtd.us-east-1.aoss.amazonaws.com:443/blog3slides-app2/_search [status:200 request:0.038s]\n",
      "[2024-07-19 02:44:12,063] p30916 {utils.py:82} INFO - received response from OpenSearch\n",
      "[2024-07-19 02:44:12,064] p30916 {3118152822.py:21} INFO - answering the question=\"What are four quantitative characteristics?\" using the summary for \"https://image.slidesharecdn.com/brainondatafinal-150314123657-conversion-gate01/95/this-is-your-brain-on-visual-data-sxsw-2015-14-1024.jpg\"\n",
      "[2024-07-19 02:44:13,037] p30916 {3118152822.py:38} INFO - appended response corresponding to What are four quantitative characteristics?\n"
     ]
    },
    {
     "name": "stdout",
     "output_type": "stream",
     "text": [
      "weight, cost, discount\n"
     ]
    },
    {
     "name": "stderr",
     "output_type": "stream",
     "text": [
      "[2024-07-19 02:44:13,293] p30916 {base.py:259} INFO - POST https://7uiiz7d87b3q8u2kfmtd.us-east-1.aoss.amazonaws.com:443/blog3slides-app2/_search [status:200 request:0.056s]\n",
      "[2024-07-19 02:44:13,295] p30916 {utils.py:82} INFO - received response from OpenSearch\n",
      "[2024-07-19 02:44:13,296] p30916 {3118152822.py:21} INFO - answering the question=\"What is the process by which the breaking of hydrogen bonds allows water to change from the liquid phase into the gaseous phase which has reached equilibrium with the liquid surface said to have done?\" using the summary for \"https://image.slidesharecdn.com/chapter-3-seawater-160218031855/95/chapter-3-seawater-8-1024.jpg\"\n",
      "[2024-07-19 02:44:14,358] p30916 {3118152822.py:38} INFO - appended response corresponding to What is the process by which the breaking of hydrogen bonds allows water to change from the liquid phase into the gaseous phase which has reached equilibrium with the liquid surface said to have done?\n"
     ]
    },
    {
     "name": "stdout",
     "output_type": "stream",
     "text": [
      "evaporated\n"
     ]
    },
    {
     "name": "stderr",
     "output_type": "stream",
     "text": [
      "[2024-07-19 02:44:14,596] p30916 {base.py:259} INFO - POST https://7uiiz7d87b3q8u2kfmtd.us-east-1.aoss.amazonaws.com:443/blog3slides-app2/_search [status:200 request:0.033s]\n",
      "[2024-07-19 02:44:14,598] p30916 {utils.py:82} INFO - received response from OpenSearch\n",
      "[2024-07-19 02:44:14,599] p30916 {3118152822.py:21} INFO - answering the question=\"How many seconds have passed according to the timer in the picture?\" using the summary for \"https://image.slidesharecdn.com/bobapollosales2-0london2013presentationfinal-130604015015-phpapp01/95/making-the-connection-sales-20-london-2013-presentation-9-1024.jpg\"\n",
      "[2024-07-19 02:44:15,810] p30916 {3118152822.py:38} INFO - appended response corresponding to How many seconds have passed according to the timer in the picture?\n"
     ]
    },
    {
     "name": "stdout",
     "output_type": "stream",
     "text": [
      "45 seconds\n"
     ]
    },
    {
     "name": "stderr",
     "output_type": "stream",
     "text": [
      "[2024-07-19 02:44:16,059] p30916 {base.py:259} INFO - POST https://7uiiz7d87b3q8u2kfmtd.us-east-1.aoss.amazonaws.com:443/blog3slides-app2/_search [status:200 request:0.039s]\n",
      "[2024-07-19 02:44:16,061] p30916 {utils.py:82} INFO - received response from OpenSearch\n",
      "[2024-07-19 02:44:16,062] p30916 {3118152822.py:21} INFO - answering the question=\"What are two factors of the visible layer above Competencies?\" using the summary for \"https://image.slidesharecdn.com/agile-australia-when-enterprise-meets-devops-150623023618-lva1-app6891/95/when-enterprise-meets-devops-16-1024.jpg\"\n",
      "[2024-07-19 02:44:17,164] p30916 {3118152822.py:21} INFO - answering the question=\"What are two factors of the visible layer above Competencies?\" using the summary for \"https://image.slidesharecdn.com/chapter1-introductiontomanagementandorganizations-090411125412-phpapp02/95/chapter-1-introduction-to-management-and-organizations-15-1024.jpg\"\n",
      "[2024-07-19 02:44:18,345] p30916 {3118152822.py:21} INFO - answering the question=\"What are two factors of the visible layer above Competencies?\" using the summary for \"https://image.slidesharecdn.com/betacodex-organizeforcomplexity-120624124755-phpapp02/95/organize-for-complexity-part-iii-special-edition-paper-16-1024.jpg\"\n",
      "[2024-07-19 02:44:19,173] p30916 {3118152822.py:21} INFO - answering the question=\"What are two factors of the visible layer above Competencies?\" using the summary for \"https://image.slidesharecdn.com/ch16-150313050025-conversion-gate01/95/chapter-16-creating-highperformance-work-systems-18-1024.jpg\"\n",
      "[2024-07-19 02:44:20,301] p30916 {base.py:259} INFO - POST https://7uiiz7d87b3q8u2kfmtd.us-east-1.aoss.amazonaws.com:443/blog3slides-app2/_search [status:200 request:0.035s]\n",
      "[2024-07-19 02:44:20,304] p30916 {utils.py:82} INFO - received response from OpenSearch\n",
      "[2024-07-19 02:44:20,305] p30916 {3118152822.py:21} INFO - answering the question=\"Which two characteristics involve a shift away from the mentality of command and control toward one more focused on employee commitment, Knowledge Development, Performance-Reward Linkage, and Egalitarianism?\" using the summary for \"https://image.slidesharecdn.com/chapter1-introductiontomanagementandorganizations-090411125412-phpapp02/95/chapter-1-introduction-to-management-and-organizations-20-1024.jpg\"\n",
      "[2024-07-19 02:44:21,082] p30916 {3118152822.py:21} INFO - answering the question=\"Which two characteristics involve a shift away from the mentality of command and control toward one more focused on employee commitment, Knowledge Development, Performance-Reward Linkage, and Egalitarianism?\" using the summary for \"https://image.slidesharecdn.com/augustteamsworkpresentation1-151002172254-lva1-app6892/95/august-teams-work-16-1024.jpg\"\n",
      "[2024-07-19 02:44:22,141] p30916 {3118152822.py:38} INFO - appended response corresponding to Which two characteristics involve a shift away from the mentality of command and control toward one more focused on employee commitment, Knowledge Development, Performance-Reward Linkage, and Egalitarianism?\n"
     ]
    },
    {
     "name": "stdout",
     "output_type": "stream",
     "text": [
      "Knowledge Development, Egalitarianism\n"
     ]
    },
    {
     "name": "stderr",
     "output_type": "stream",
     "text": [
      "[2024-07-19 02:44:22,384] p30916 {base.py:259} INFO - POST https://7uiiz7d87b3q8u2kfmtd.us-east-1.aoss.amazonaws.com:443/blog3slides-app2/_search [status:200 request:0.033s]\n",
      "[2024-07-19 02:44:22,386] p30916 {utils.py:82} INFO - received response from OpenSearch\n",
      "[2024-07-19 02:44:22,388] p30916 {3118152822.py:21} INFO - answering the question=\"What are the components of exhaust?\" using the summary for \"https://image.slidesharecdn.com/automobilematerial-141204051237-conversion-gate01/95/automobile-material-9-1024.jpg\"\n",
      "[2024-07-19 02:44:23,122] p30916 {3118152822.py:21} INFO - answering the question=\"What are the components of exhaust?\" using the summary for \"https://image.slidesharecdn.com/basicsofautomobilever2compatibilitymode-124724411173-phpapp01/95/basics-of-automobile-5-1024.jpg\"\n",
      "[2024-07-19 02:44:23,983] p30916 {3118152822.py:38} INFO - appended response corresponding to What are the components of exhaust?\n"
     ]
    },
    {
     "name": "stdout",
     "output_type": "stream",
     "text": [
      "Exhaust System\n"
     ]
    },
    {
     "name": "stderr",
     "output_type": "stream",
     "text": [
      "[2024-07-19 02:44:24,243] p30916 {base.py:259} INFO - POST https://7uiiz7d87b3q8u2kfmtd.us-east-1.aoss.amazonaws.com:443/blog3slides-app2/_search [status:200 request:0.043s]\n",
      "[2024-07-19 02:44:24,245] p30916 {utils.py:82} INFO - received response from OpenSearch\n",
      "[2024-07-19 02:44:24,246] p30916 {3118152822.py:21} INFO - answering the question=\"What substances are involved in the feeding of substrates?\" using the summary for \"https://image.slidesharecdn.com/amitpresentation-141220101151-conversion-gate01/95/keynote-presentation-mobile-app-lifecycle-and-ecosystem-4-1024.jpg\"\n",
      "[2024-07-19 02:44:25,383] p30916 {3118152822.py:38} INFO - appended response corresponding to What substances are involved in the feeding of substrates?\n"
     ]
    },
    {
     "name": "stdout",
     "output_type": "stream",
     "text": [
      "producers, organic matter\n"
     ]
    },
    {
     "name": "stderr",
     "output_type": "stream",
     "text": [
      "[2024-07-19 02:44:25,633] p30916 {base.py:259} INFO - POST https://7uiiz7d87b3q8u2kfmtd.us-east-1.aoss.amazonaws.com:443/blog3slides-app2/_search [status:200 request:0.039s]\n",
      "[2024-07-19 02:44:25,635] p30916 {utils.py:82} INFO - received response from OpenSearch\n",
      "[2024-07-19 02:44:25,636] p30916 {3118152822.py:21} INFO - answering the question=\"What are action maps an example of?\" using the summary for \"https://image.slidesharecdn.com/consultselling-150818132925-lva1-app6892/95/consultative-selling-workshop-8-1024.jpg\"\n",
      "[2024-07-19 02:44:26,432] p30916 {3118152822.py:21} INFO - answering the question=\"What are action maps an example of?\" using the summary for \"https://image.slidesharecdn.com/blueoceanstrategy-100403005918-phpapp02/95/blue-ocean-strategy-summary-and-examples-17-1024.jpg\"\n",
      "[2024-07-19 02:44:27,274] p30916 {3118152822.py:38} INFO - appended response corresponding to What are action maps an example of?\n"
     ]
    },
    {
     "name": "stdout",
     "output_type": "stream",
     "text": [
      "examples of frameworks\n"
     ]
    },
    {
     "name": "stderr",
     "output_type": "stream",
     "text": [
      "[2024-07-19 02:44:27,528] p30916 {base.py:259} INFO - POST https://7uiiz7d87b3q8u2kfmtd.us-east-1.aoss.amazonaws.com:443/blog3slides-app2/_search [status:200 request:0.041s]\n",
      "[2024-07-19 02:44:27,530] p30916 {utils.py:82} INFO - received response from OpenSearch\n",
      "[2024-07-19 02:44:27,531] p30916 {3118152822.py:21} INFO - answering the question=\"What types of infrastructures exist in the Mobile Application Ecosystem?\" using the summary for \"https://image.slidesharecdn.com/amitpresentation-141220101151-conversion-gate01/95/keynote-presentation-mobile-app-lifecycle-and-ecosystem-6-1024.jpg\"\n",
      "[2024-07-19 02:44:28,859] p30916 {3118152822.py:38} INFO - appended response corresponding to What types of infrastructures exist in the Mobile Application Ecosystem?\n"
     ]
    },
    {
     "name": "stdout",
     "output_type": "stream",
     "text": [
      "Carriers, Cloud, and Video services\n"
     ]
    },
    {
     "name": "stderr",
     "output_type": "stream",
     "text": [
      "[2024-07-19 02:44:29,098] p30916 {base.py:259} INFO - POST https://7uiiz7d87b3q8u2kfmtd.us-east-1.aoss.amazonaws.com:443/blog3slides-app2/_search [status:200 request:0.035s]\n",
      "[2024-07-19 02:44:29,100] p30916 {utils.py:82} INFO - received response from OpenSearch\n",
      "[2024-07-19 02:44:29,101] p30916 {3118152822.py:21} INFO - answering the question=\"What is the meaning of the person’s name who was of the tribe of Judah and probably a member of the royal family?\" using the summary for \"https://image.slidesharecdn.com/bookofdaniel-090827093753-phpapp01/95/the-book-of-daniel-5-1024.jpg\"\n",
      "[2024-07-19 02:44:30,206] p30916 {3118152822.py:21} INFO - answering the question=\"What is the meaning of the person’s name who was of the tribe of Judah and probably a member of the royal family?\" using the summary for \"https://image.slidesharecdn.com/bookofdaniel-090827093753-phpapp01/95/the-book-of-daniel-4-1024.jpg\"\n",
      "[2024-07-19 02:44:30,792] p30916 {3118152822.py:21} INFO - answering the question=\"What is the meaning of the person’s name who was of the tribe of Judah and probably a member of the royal family?\" using the summary for \"https://image.slidesharecdn.com/bookofdaniel-090827093753-phpapp01/95/the-book-of-daniel-6-1024.jpg\"\n",
      "[2024-07-19 02:44:31,525] p30916 {3118152822.py:21} INFO - answering the question=\"What is the meaning of the person’s name who was of the tribe of Judah and probably a member of the royal family?\" using the summary for \"https://image.slidesharecdn.com/bookofdaniel-090827093753-phpapp01/95/the-book-of-daniel-8-1024.jpg\"\n",
      "[2024-07-19 02:44:32,607] p30916 {base.py:259} INFO - POST https://7uiiz7d87b3q8u2kfmtd.us-east-1.aoss.amazonaws.com:443/blog3slides-app2/_search [status:200 request:0.037s]\n",
      "[2024-07-19 02:44:32,609] p30916 {utils.py:82} INFO - received response from OpenSearch\n",
      "[2024-07-19 02:44:32,610] p30916 {3118152822.py:21} INFO - answering the question=\"Joy of creation and service to society are examples of what?\" using the summary for \"https://image.slidesharecdn.com/aynbrandt3workshopsocialmediaprimer-1219840114878232-9/95/ayn-brand-t3-workshop-social-media-web-20-primer-18-1024.jpg\"\n",
      "[2024-07-19 02:44:33,624] p30916 {3118152822.py:21} INFO - answering the question=\"Joy of creation and service to society are examples of what?\" using the summary for \"https://image.slidesharecdn.com/5benefitsofanonprofittheoryofchange-160229202540/95/5-benefits-of-a-nonprofit-theory-of-change-1-1024.jpg\"\n",
      "[2024-07-19 02:44:34,315] p30916 {3118152822.py:21} INFO - answering the question=\"Joy of creation and service to society are examples of what?\" using the summary for \"https://image.slidesharecdn.com/citizenscience-practiceandpolicy-huji-151214131928/95/citizen-science-theory-practice-policy-workshop-13-1024.jpg\"\n",
      "[2024-07-19 02:44:35,185] p30916 {3118152822.py:21} INFO - answering the question=\"Joy of creation and service to society are examples of what?\" using the summary for \"https://image.slidesharecdn.com/betacodex-organizeforcomplexity-120624124755-phpapp02/95/organize-for-complexity-part-iii-special-edition-paper-19-1024.jpg\"\n",
      "[2024-07-19 02:44:36,551] p30916 {base.py:259} INFO - POST https://7uiiz7d87b3q8u2kfmtd.us-east-1.aoss.amazonaws.com:443/blog3slides-app2/_search [status:200 request:0.039s]\n",
      "[2024-07-19 02:44:36,553] p30916 {utils.py:82} INFO - received response from OpenSearch\n",
      "[2024-07-19 02:44:36,557] p30916 {3118152822.py:21} INFO - answering the question=\"What was the top social site in 06/08?\" using the summary for \"https://image.slidesharecdn.com/aynbrandt3workshopsocialmediaprimer-1219840114878232-9/95/ayn-brand-t3-workshop-social-media-web-20-primer-11-1024.jpg\"\n",
      "[2024-07-19 02:44:37,275] p30916 {3118152822.py:38} INFO - appended response corresponding to What was the top social site in 06/08?\n"
     ]
    },
    {
     "name": "stdout",
     "output_type": "stream",
     "text": [
      "Myspace.com\n"
     ]
    },
    {
     "name": "stderr",
     "output_type": "stream",
     "text": [
      "[2024-07-19 02:44:37,560] p30916 {base.py:259} INFO - POST https://7uiiz7d87b3q8u2kfmtd.us-east-1.aoss.amazonaws.com:443/blog3slides-app2/_search [status:200 request:0.037s]\n",
      "[2024-07-19 02:44:37,563] p30916 {utils.py:82} INFO - received response from OpenSearch\n",
      "[2024-07-19 02:44:37,564] p30916 {3118152822.py:21} INFO - answering the question=\"Where is the largest PV system in the western part of the country which has a photovoltaic potential of 600,000 GWh?\" using the summary for \"https://image.slidesharecdn.com/cleanhydrocarbonsrenewableelectrificationsolarenergyinsouthernalberta-160323184734/95/clean-hydrocarbons-renewable-electrification-solar-energy-potential-in-southern-alberta-6-1024.jpg\"\n",
      "[2024-07-19 02:44:38,308] p30916 {3118152822.py:21} INFO - answering the question=\"Where is the largest PV system in the western part of the country which has a photovoltaic potential of 600,000 GWh?\" using the summary for \"https://image.slidesharecdn.com/cleanhydrocarbonsrenewableelectrificationsolarenergyinsouthernalberta-160323184734/95/clean-hydrocarbons-renewable-electrification-solar-energy-potential-in-southern-alberta-15-1024.jpg\"\n",
      "[2024-07-19 02:44:39,115] p30916 {3118152822.py:21} INFO - answering the question=\"Where is the largest PV system in the western part of the country which has a photovoltaic potential of 600,000 GWh?\" using the summary for \"https://image.slidesharecdn.com/cleanhydrocarbonsrenewableelectrificationsolarenergyinsouthernalberta-160323184734/95/clean-hydrocarbons-renewable-electrification-solar-energy-potential-in-southern-alberta-18-1024.jpg\"\n",
      "[2024-07-19 02:44:39,820] p30916 {3118152822.py:21} INFO - answering the question=\"Where is the largest PV system in the western part of the country which has a photovoltaic potential of 600,000 GWh?\" using the summary for \"https://image.slidesharecdn.com/cleanhydrocarbonsrenewableelectrificationsolarenergyinsouthernalberta-160323184734/95/clean-hydrocarbons-renewable-electrification-solar-energy-potential-in-southern-alberta-12-1024.jpg\"\n",
      "[2024-07-19 02:44:41,239] p30916 {base.py:259} INFO - POST https://7uiiz7d87b3q8u2kfmtd.us-east-1.aoss.amazonaws.com:443/blog3slides-app2/_search [status:200 request:0.038s]\n",
      "[2024-07-19 02:44:41,241] p30916 {utils.py:82} INFO - received response from OpenSearch\n",
      "[2024-07-19 02:44:41,242] p30916 {3118152822.py:21} INFO - answering the question=\"What types of potential are shown in the PERPOT meta-model containing strain overflow?\" using the summary for \"https://image.slidesharecdn.com/alternativestotheimpulse-responsemodel-131125154606-phpapp02/95/alternatives-to-the-impulse-response-model-20-1024.jpg\"\n",
      "[2024-07-19 02:44:42,121] p30916 {3118152822.py:38} INFO - appended response corresponding to What types of potential are shown in the PERPOT meta-model containing strain overflow?\n",
      "[2024-07-19 02:44:42,250] p30916 {base.py:259} INFO - POST https://7uiiz7d87b3q8u2kfmtd.us-east-1.aoss.amazonaws.com:443/blog3slides-app2/_search [status:200 request:0.049s]\n",
      "[2024-07-19 02:44:42,252] p30916 {utils.py:82} INFO - received response from OpenSearch\n",
      "[2024-07-19 02:44:42,254] p30916 {3118152822.py:21} INFO - answering the question=\"Were Annual Energy Cost Savings greater for gas or electricity for the company which reduces the amount of process water used by 15% as compared to a typical building?\" using the summary for \"https://image.slidesharecdn.com/awsustainablefinal-110317140215-phpapp01/95/case-study-sustainable-mixeduse-development-in-historic-urban-areas-18-1024.jpg\"\n"
     ]
    },
    {
     "name": "stdout",
     "output_type": "stream",
     "text": [
      "Strain potential, Response potential\n"
     ]
    },
    {
     "name": "stderr",
     "output_type": "stream",
     "text": [
      "[2024-07-19 02:44:42,726] p30916 {3118152822.py:21} INFO - answering the question=\"Were Annual Energy Cost Savings greater for gas or electricity for the company which reduces the amount of process water used by 15% as compared to a typical building?\" using the summary for \"https://image.slidesharecdn.com/awsustainablefinal-110317140215-phpapp01/95/case-study-sustainable-mixeduse-development-in-historic-urban-areas-17-1024.jpg\"\n",
      "[2024-07-19 02:44:43,674] p30916 {3118152822.py:21} INFO - answering the question=\"Were Annual Energy Cost Savings greater for gas or electricity for the company which reduces the amount of process water used by 15% as compared to a typical building?\" using the summary for \"https://image.slidesharecdn.com/awsustainablefinal-110317140215-phpapp01/95/case-study-sustainable-mixeduse-development-in-historic-urban-areas-19-1024.jpg\"\n",
      "[2024-07-19 02:44:44,251] p30916 {3118152822.py:21} INFO - answering the question=\"Were Annual Energy Cost Savings greater for gas or electricity for the company which reduces the amount of process water used by 15% as compared to a typical building?\" using the summary for \"https://image.slidesharecdn.com/awsustainablefinal-110317140215-phpapp01/95/case-study-sustainable-mixeduse-development-in-historic-urban-areas-15-1024.jpg\"\n",
      "[2024-07-19 02:44:45,457] p30916 {base.py:259} INFO - POST https://7uiiz7d87b3q8u2kfmtd.us-east-1.aoss.amazonaws.com:443/blog3slides-app2/_search [status:200 request:0.037s]\n",
      "[2024-07-19 02:44:45,459] p30916 {utils.py:82} INFO - received response from OpenSearch\n",
      "[2024-07-19 02:44:45,460] p30916 {3118152822.py:21} INFO - answering the question=\"What is the top store choice for pantry stock-up?\" using the summary for \"https://image.slidesharecdn.com/asiasshoppingsafarifinalwebinardeckforparticipants-141105212832-conversion-gate01/95/asias-shopping-safari-15-1024.jpg\"\n",
      "[2024-07-19 02:44:46,133] p30916 {3118152822.py:38} INFO - appended response corresponding to What is the top store choice for pantry stock-up?\n",
      "[2024-07-19 02:44:46,296] p30916 {base.py:259} INFO - POST https://7uiiz7d87b3q8u2kfmtd.us-east-1.aoss.amazonaws.com:443/blog3slides-app2/_search [status:200 request:0.039s]\n",
      "[2024-07-19 02:44:46,299] p30916 {utils.py:82} INFO - received response from OpenSearch\n",
      "[2024-07-19 02:44:46,301] p30916 {3118152822.py:21} INFO - answering the question=\"On which day did the most Facebook fans of Moz see their posts?\" using the summary for \"https://image.slidesharecdn.com/b2b-social-testing-lopez-141009140744-conversion-gate02/95/kick-your-social-strategy-into-overdrive-the-ins-outs-of-testing-social-13-1024.jpg\"\n"
     ]
    },
    {
     "name": "stdout",
     "output_type": "stream",
     "text": [
      "Supermarkets\n"
     ]
    },
    {
     "name": "stderr",
     "output_type": "stream",
     "text": [
      "[2024-07-19 02:44:47,459] p30916 {3118152822.py:38} INFO - appended response corresponding to On which day did the most Facebook fans of Moz see their posts?\n"
     ]
    },
    {
     "name": "stdout",
     "output_type": "stream",
     "text": [
      "Thursday\n"
     ]
    },
    {
     "name": "stderr",
     "output_type": "stream",
     "text": [
      "[2024-07-19 02:44:47,800] p30916 {base.py:259} INFO - POST https://7uiiz7d87b3q8u2kfmtd.us-east-1.aoss.amazonaws.com:443/blog3slides-app2/_search [status:200 request:0.042s]\n",
      "[2024-07-19 02:44:47,802] p30916 {utils.py:82} INFO - received response from OpenSearch\n",
      "[2024-07-19 02:44:47,804] p30916 {3118152822.py:21} INFO - answering the question=\"What are three parts of a biosensor's electronic system?\" using the summary for \"https://image.slidesharecdn.com/biosensorsinfoodindustry-presentation-150607065755-lva1-app6891/95/biosensors-in-food-industry-presentation-by-sonika-singh-niftem-mtech-first-year-5-1024.jpg\"\n",
      "[2024-07-19 02:44:49,124] p30916 {3118152822.py:38} INFO - appended response corresponding to What are three parts of a biosensor's electronic system?\n",
      "[2024-07-19 02:44:49,291] p30916 {base.py:259} INFO - POST https://7uiiz7d87b3q8u2kfmtd.us-east-1.aoss.amazonaws.com:443/blog3slides-app2/_search [status:200 request:0.043s]\n",
      "[2024-07-19 02:44:49,294] p30916 {utils.py:82} INFO - received response from OpenSearch\n",
      "[2024-07-19 02:44:49,295] p30916 {3118152822.py:21} INFO - answering the question=\"When was BAJAJ MOTORCYCLES established?\" using the summary for \"https://image.slidesharecdn.com/astudyoncustomerpreferebceandsatisfactiontowardsbajajbikes-150814133516-lva1-app6891/95/a-study-on-customer-preferebce-and-satisfaction-towards-bajaj-bikes-12-1024.jpg\"\n"
     ]
    },
    {
     "name": "stdout",
     "output_type": "stream",
     "text": [
      "Signal Amplifier, Signal Processor, Display\n"
     ]
    },
    {
     "name": "stderr",
     "output_type": "stream",
     "text": [
      "[2024-07-19 02:44:49,992] p30916 {3118152822.py:38} INFO - appended response corresponding to When was BAJAJ MOTORCYCLES established?\n",
      "[2024-07-19 02:44:50,130] p30916 {base.py:259} INFO - POST https://7uiiz7d87b3q8u2kfmtd.us-east-1.aoss.amazonaws.com:443/blog3slides-app2/_search [status:200 request:0.038s]\n",
      "[2024-07-19 02:44:50,134] p30916 {utils.py:82} INFO - received response from OpenSearch\n",
      "[2024-07-19 02:44:50,136] p30916 {3118152822.py:21} INFO - answering the question=\"Where is Sam Shah based?\" using the summary for \"https://image.slidesharecdn.com/campaignanalysis02-mahindrae2olaunchmarch282013-130328080338-phpapp01/95/mahindra-e2o-launch-social-media-campaign-report-17-1024.jpg\"\n"
     ]
    },
    {
     "name": "stdout",
     "output_type": "stream",
     "text": [
      "November 29, 1945\n"
     ]
    },
    {
     "name": "stderr",
     "output_type": "stream",
     "text": [
      "[2024-07-19 02:44:51,644] p30916 {3118152822.py:21} INFO - answering the question=\"Where is Sam Shah based?\" using the summary for \"https://image.slidesharecdn.com/astudyoncustomerpreferebceandsatisfactiontowardsbajajbikes-150814133516-lva1-app6891/95/a-study-on-customer-preferebce-and-satisfaction-towards-bajaj-bikes-14-1024.jpg\"\n",
      "[2024-07-19 02:44:52,158] p30916 {3118152822.py:21} INFO - answering the question=\"Where is Sam Shah based?\" using the summary for \"https://image.slidesharecdn.com/ardentcapitalandthailandinvestments2014-01-15v3-140120212530-phpapp02/95/investment-perspectives-in-thailand-by-dr-adrian-vanzyl-ardent-capital-1-1024.jpg\"\n",
      "[2024-07-19 02:44:53,702] p30916 {3118152822.py:21} INFO - answering the question=\"Where is Sam Shah based?\" using the summary for \"https://image.slidesharecdn.com/20140706whatcanfundraiserslearnfromrappers-140707171243-phpapp02/95/what-fundraisers-can-learn-from-rappers-20-1024.jpg\"\n",
      "[2024-07-19 02:44:55,252] p30916 {base.py:259} INFO - POST https://7uiiz7d87b3q8u2kfmtd.us-east-1.aoss.amazonaws.com:443/blog3slides-app2/_search [status:200 request:0.043s]\n",
      "[2024-07-19 02:44:55,255] p30916 {utils.py:82} INFO - received response from OpenSearch\n",
      "[2024-07-19 02:44:55,256] p30916 {3118152822.py:21} INFO - answering the question=\"What are Krack Jack and Monaco examples of?\" using the summary for \"https://image.slidesharecdn.com/chinajoy-sns-v3-090724053148-phpapp02/95/lessons-learned-from-sns-games-at-popcap-18-1024.jpg\"\n",
      "[2024-07-19 02:44:55,832] p30916 {3118152822.py:21} INFO - answering the question=\"What are Krack Jack and Monaco examples of?\" using the summary for \"https://image.slidesharecdn.com/chinajoy-sns-v3-090724053148-phpapp02/95/lessons-learned-from-sns-games-at-popcap-2-1024.jpg\"\n",
      "[2024-07-19 02:44:56,520] p30916 {3118152822.py:21} INFO - answering the question=\"What are Krack Jack and Monaco examples of?\" using the summary for \"https://image.slidesharecdn.com/20140706whatcanfundraiserslearnfromrappers-140707171243-phpapp02/95/what-fundraisers-can-learn-from-rappers-16-1024.jpg\"\n",
      "[2024-07-19 02:44:57,699] p30916 {3118152822.py:21} INFO - answering the question=\"What are Krack Jack and Monaco examples of?\" using the summary for \"https://image.slidesharecdn.com/brandmanagement-itchotels-150823162717-lva1-app6892/95/brand-management-itc-hotels-19-1024.jpg\"\n",
      "[2024-07-19 02:44:59,360] p30916 {base.py:259} INFO - POST https://7uiiz7d87b3q8u2kfmtd.us-east-1.aoss.amazonaws.com:443/blog3slides-app2/_search [status:200 request:0.034s]\n",
      "[2024-07-19 02:44:59,363] p30916 {utils.py:82} INFO - received response from OpenSearch\n",
      "[2024-07-19 02:44:59,364] p30916 {3118152822.py:21} INFO - answering the question=\"When was Mary Anning alive?\" using the summary for \"https://image.slidesharecdn.com/citizenscience-practiceandpolicy-huji-151214131928/95/citizen-science-theory-practice-policy-workshop-8-1024.jpg\"\n",
      "[2024-07-19 02:45:00,317] p30916 {3118152822.py:38} INFO - appended response corresponding to When was Mary Anning alive?\n",
      "[2024-07-19 02:45:00,490] p30916 {base.py:259} INFO - POST https://7uiiz7d87b3q8u2kfmtd.us-east-1.aoss.amazonaws.com:443/blog3slides-app2/_search [status:200 request:0.040s]\n",
      "[2024-07-19 02:45:00,492] p30916 {utils.py:82} INFO - received response from OpenSearch\n",
      "[2024-07-19 02:45:00,493] p30916 {3118152822.py:21} INFO - answering the question=\"Do more used or new car buyers go online to have fun?\" using the summary for \"https://image.slidesharecdn.com/auto-100113133616-phpapp01/95/browsing-before-buying-auto-14-1024.jpg\"\n"
     ]
    },
    {
     "name": "stdout",
     "output_type": "stream",
     "text": [
      "1799-1847\n"
     ]
    },
    {
     "name": "stderr",
     "output_type": "stream",
     "text": [
      "[2024-07-19 02:45:01,251] p30916 {3118152822.py:21} INFO - answering the question=\"Do more used or new car buyers go online to have fun?\" using the summary for \"https://image.slidesharecdn.com/auto-100113133616-phpapp01/95/browsing-before-buying-auto-5-1024.jpg\"\n",
      "[2024-07-19 02:45:02,785] p30916 {3118152822.py:21} INFO - answering the question=\"Do more used or new car buyers go online to have fun?\" using the summary for \"https://image.slidesharecdn.com/auto-100113133616-phpapp01/95/browsing-before-buying-auto-9-1024.jpg\"\n",
      "[2024-07-19 02:45:03,645] p30916 {3118152822.py:21} INFO - answering the question=\"Do more used or new car buyers go online to have fun?\" using the summary for \"https://image.slidesharecdn.com/auto-100113133616-phpapp01/95/browsing-before-buying-auto-19-1024.jpg\"\n",
      "[2024-07-19 02:45:04,343] p30916 {base.py:259} INFO - POST https://7uiiz7d87b3q8u2kfmtd.us-east-1.aoss.amazonaws.com:443/blog3slides-app2/_search [status:200 request:0.039s]\n",
      "[2024-07-19 02:45:04,345] p30916 {utils.py:82} INFO - received response from OpenSearch\n",
      "[2024-07-19 02:45:04,346] p30916 {3118152822.py:21} INFO - answering the question=\"In a microservice architecture, what exists between Banking UI and Account Database?\" using the summary for \"https://image.slidesharecdn.com/buildingmicroserviceswithscalafunctionaldomainmodelsandspringbootchrisrichardson-141030115818-conversion-gate01/95/building-microservices-with-scala-functional-domain-models-and-spring-boot-chris-richardson-10-1024.jpg\"\n",
      "[2024-07-19 02:45:06,646] p30916 {3118152822.py:38} INFO - appended response corresponding to In a microservice architecture, what exists between Banking UI and Account Database?\n"
     ]
    },
    {
     "name": "stdout",
     "output_type": "stream",
     "text": [
      "Microservices Layer:\n",
      "   - Account Management Service\n",
      "   - Transaction Management Service\n"
     ]
    },
    {
     "name": "stderr",
     "output_type": "stream",
     "text": [
      "[2024-07-19 02:45:06,910] p30916 {base.py:259} INFO - POST https://7uiiz7d87b3q8u2kfmtd.us-east-1.aoss.amazonaws.com:443/blog3slides-app2/_search [status:200 request:0.044s]\n",
      "[2024-07-19 02:45:06,912] p30916 {utils.py:82} INFO - received response from OpenSearch\n",
      "[2024-07-19 02:45:06,914] p30916 {3118152822.py:21} INFO - answering the question=\"What is the chemical name for Teflon?\" using the summary for \"https://image.slidesharecdn.com/applicationandadvancesofpolymers-141224015235-conversion-gate02/95/application-and-advances-of-polymers-17-1024.jpg\"\n",
      "[2024-07-19 02:45:07,546] p30916 {3118152822.py:38} INFO - appended response corresponding to What is the chemical name for Teflon?\n",
      "[2024-07-19 02:45:07,720] p30916 {base.py:259} INFO - POST https://7uiiz7d87b3q8u2kfmtd.us-east-1.aoss.amazonaws.com:443/blog3slides-app2/_search [status:200 request:0.045s]\n",
      "[2024-07-19 02:45:07,722] p30916 {utils.py:82} INFO - received response from OpenSearch\n",
      "[2024-07-19 02:45:07,723] p30916 {3118152822.py:21} INFO - answering the question=\"What are the top four who had a sales increase of 2.6% in 2010?\" using the summary for \"https://image.slidesharecdn.com/auto-100113133616-phpapp01/95/browsing-before-buying-auto-16-1024.jpg\"\n"
     ]
    },
    {
     "name": "stdout",
     "output_type": "stream",
     "text": [
      "poly(tetrafluoroethylene)\n"
     ]
    },
    {
     "name": "stderr",
     "output_type": "stream",
     "text": [
      "[2024-07-19 02:45:08,485] p30916 {3118152822.py:21} INFO - answering the question=\"What are the top four who had a sales increase of 2.6% in 2010?\" using the summary for \"https://image.slidesharecdn.com/ardentcapitalandthailandinvestments2014-01-15v3-140120212530-phpapp02/95/investment-perspectives-in-thailand-by-dr-adrian-vanzyl-ardent-capital-6-1024.jpg\"\n",
      "[2024-07-19 02:45:09,290] p30916 {3118152822.py:21} INFO - answering the question=\"What are the top four who had a sales increase of 2.6% in 2010?\" using the summary for \"https://image.slidesharecdn.com/auto-100113133616-phpapp01/95/browsing-before-buying-auto-14-1024.jpg\"\n",
      "[2024-07-19 02:45:09,933] p30916 {3118152822.py:21} INFO - answering the question=\"What are the top four who had a sales increase of 2.6% in 2010?\" using the summary for \"https://image.slidesharecdn.com/autoreport-cs6-140415111854-phpapp02/95/auto-report-cs6-7-1024.jpg\"\n",
      "[2024-07-19 02:45:11,131] p30916 {base.py:259} INFO - POST https://7uiiz7d87b3q8u2kfmtd.us-east-1.aoss.amazonaws.com:443/blog3slides-app2/_search [status:200 request:0.035s]\n",
      "[2024-07-19 02:45:11,133] p30916 {utils.py:82} INFO - received response from OpenSearch\n",
      "[2024-07-19 02:45:11,134] p30916 {3118152822.py:21} INFO - answering the question=\"What is the range of slump in mm for beams & reinforced walls?\" using the summary for \"https://image.slidesharecdn.com/concretedesignmixss-140719061802-phpapp02/95/concrete-design-mix-ss-12-1024.jpg\"\n",
      "[2024-07-19 02:45:14,132] p30916 {3118152822.py:38} INFO - appended response corresponding to What is the range of slump in mm for beams & reinforced walls?\n",
      "[2024-07-19 02:45:14,269] p30916 {base.py:259} INFO - POST https://7uiiz7d87b3q8u2kfmtd.us-east-1.aoss.amazonaws.com:443/blog3slides-app2/_search [status:200 request:0.038s]\n",
      "[2024-07-19 02:45:14,271] p30916 {utils.py:82} INFO - received response from OpenSearch\n",
      "[2024-07-19 02:45:14,272] p30916 {3118152822.py:21} INFO - answering the question=\"What are four characteristics of Dot Com?\" using the summary for \"https://image.slidesharecdn.com/consultselling-150818132925-lva1-app6892/95/consultative-selling-workshop-4-1024.jpg\"\n"
     ]
    },
    {
     "name": "stdout",
     "output_type": "stream",
     "text": [
      "20-100 mm\n"
     ]
    },
    {
     "name": "stderr",
     "output_type": "stream",
     "text": [
      "[2024-07-19 02:45:15,574] p30916 {3118152822.py:21} INFO - answering the question=\"What are four characteristics of Dot Com?\" using the summary for \"https://image.slidesharecdn.com/24042014iforumkievmartaklepkapublicisgroupe-140514070615-phpapp01/95/automation-integration-and-effectiveness-programmatic-buying-and-its-future-in-cee-presentation-from-iforum-conference-kiev-2014-12-1024.jpg\"\n",
      "[2024-07-19 02:45:17,214] p30916 {3118152822.py:38} INFO - appended response corresponding to What are four characteristics of Dot Com?\n",
      "[2024-07-19 02:45:17,325] p30916 {base.py:259} INFO - POST https://7uiiz7d87b3q8u2kfmtd.us-east-1.aoss.amazonaws.com:443/blog3slides-app2/_search [status:200 request:0.035s]\n",
      "[2024-07-19 02:45:17,327] p30916 {utils.py:82} INFO - received response from OpenSearch\n",
      "[2024-07-19 02:45:17,328] p30916 {3118152822.py:21} INFO - answering the question=\"Which color is associated with security and intelligence?\" using the summary for \"https://image.slidesharecdn.com/colors-141027065047-conversion-gate01/95/the-big-bang-theory-of-colors-5-1024.jpg\"\n"
     ]
    },
    {
     "name": "stdout",
     "output_type": "stream",
     "text": [
      "Transparency, Programmatic, Scale/reach/quality, Technology\n"
     ]
    },
    {
     "name": "stderr",
     "output_type": "stream",
     "text": [
      "[2024-07-19 02:45:20,582] p30916 {3118152822.py:38} INFO - appended response corresponding to Which color is associated with security and intelligence?\n"
     ]
    },
    {
     "name": "stdout",
     "output_type": "stream",
     "text": [
      "Solid Security Reliability Intelligent\n"
     ]
    },
    {
     "name": "stderr",
     "output_type": "stream",
     "text": [
      "[2024-07-19 02:45:20,833] p30916 {base.py:259} INFO - POST https://7uiiz7d87b3q8u2kfmtd.us-east-1.aoss.amazonaws.com:443/blog3slides-app2/_search [status:200 request:0.037s]\n",
      "[2024-07-19 02:45:20,836] p30916 {utils.py:82} INFO - received response from OpenSearch\n",
      "[2024-07-19 02:45:20,837] p30916 {3118152822.py:21} INFO - answering the question=\"How many billions of dollars are spent annually on anti-aging skincare products?\" using the summary for \"https://image.slidesharecdn.com/businesssystempresentation-150211162506-conversion-gate02/95/rodan-fields-business-presentation-2015-6-1024.jpg\"\n",
      "[2024-07-19 02:45:21,875] p30916 {3118152822.py:21} INFO - answering the question=\"How many billions of dollars are spent annually on anti-aging skincare products?\" using the summary for \"https://image.slidesharecdn.com/businesssystempresentation-150211162506-conversion-gate02/95/rodan-fields-business-presentation-2015-3-1024.jpg\"\n",
      "[2024-07-19 02:45:22,812] p30916 {3118152822.py:38} INFO - appended response corresponding to How many billions of dollars are spent annually on anti-aging skincare products?\n"
     ]
    },
    {
     "name": "stdout",
     "output_type": "stream",
     "text": [
      "$3.9 Billion\n"
     ]
    },
    {
     "name": "stderr",
     "output_type": "stream",
     "text": [
      "[2024-07-19 02:45:23,086] p30916 {base.py:259} INFO - POST https://7uiiz7d87b3q8u2kfmtd.us-east-1.aoss.amazonaws.com:443/blog3slides-app2/_search [status:200 request:0.037s]\n",
      "[2024-07-19 02:45:23,088] p30916 {utils.py:82} INFO - received response from OpenSearch\n",
      "[2024-07-19 02:45:23,089] p30916 {3118152822.py:21} INFO - answering the question=\"Where does Horizon send the HTTP request to?\" using the summary for \"https://image.slidesharecdn.com/architecture-150102195159-conversion-gate01/95/openstack-architecture-7-1024.jpg\"\n",
      "[2024-07-19 02:45:24,514] p30916 {3118152822.py:21} INFO - answering the question=\"Where does Horizon send the HTTP request to?\" using the summary for \"https://image.slidesharecdn.com/architecture-150102195159-conversion-gate01/95/openstack-architecture-9-1024.jpg\"\n",
      "[2024-07-19 02:45:25,514] p30916 {3118152822.py:38} INFO - appended response corresponding to Where does Horizon send the HTTP request to?\n",
      "[2024-07-19 02:45:25,683] p30916 {base.py:259} INFO - POST https://7uiiz7d87b3q8u2kfmtd.us-east-1.aoss.amazonaws.com:443/blog3slides-app2/_search [status:200 request:0.036s]\n",
      "[2024-07-19 02:45:25,685] p30916 {utils.py:82} INFO - received response from OpenSearch\n",
      "[2024-07-19 02:45:25,686] p30916 {3118152822.py:21} INFO - answering the question=\"According to Ryan Calo's tweet, how many years prior to the situation described in the Wired article from July 21, 2015 were the car companies warned?\" using the summary for \"https://image.slidesharecdn.com/connectedcarsecurity-150902031020-lva1-app6892/95/connected-car-security-5-1024.jpg\"\n"
     ]
    },
    {
     "name": "stdout",
     "output_type": "stream",
     "text": [
      "to the back-end\n"
     ]
    },
    {
     "name": "stderr",
     "output_type": "stream",
     "text": [
      "[2024-07-19 02:45:27,300] p30916 {3118152822.py:38} INFO - appended response corresponding to According to Ryan Calo's tweet, how many years prior to the situation described in the Wired article from July 21, 2015 were the car companies warned?\n"
     ]
    },
    {
     "name": "stdout",
     "output_type": "stream",
     "text": [
      "Five years ago\n"
     ]
    },
    {
     "name": "stderr",
     "output_type": "stream",
     "text": [
      "[2024-07-19 02:45:27,551] p30916 {base.py:259} INFO - POST https://7uiiz7d87b3q8u2kfmtd.us-east-1.aoss.amazonaws.com:443/blog3slides-app2/_search [status:200 request:0.047s]\n",
      "[2024-07-19 02:45:27,553] p30916 {utils.py:82} INFO - received response from OpenSearch\n",
      "[2024-07-19 02:45:27,555] p30916 {3118152822.py:21} INFO - answering the question=\"Who is more satisfied and optimistic than recruiters and account managers?\" using the summary for \"https://image.slidesharecdn.com/cboppsinstaffingwebinarslideshare10-151013182434-lva1-app6891/95/staffing-trends-you-need-to-know-when-planning-for-2016-8-1024.jpg\"\n",
      "[2024-07-19 02:45:28,413] p30916 {3118152822.py:38} INFO - appended response corresponding to Who is more satisfied and optimistic than recruiters and account managers?\n"
     ]
    },
    {
     "name": "stdout",
     "output_type": "stream",
     "text": [
      "Firm Leadership\n"
     ]
    },
    {
     "name": "stderr",
     "output_type": "stream",
     "text": [
      "[2024-07-19 02:45:28,670] p30916 {base.py:259} INFO - POST https://7uiiz7d87b3q8u2kfmtd.us-east-1.aoss.amazonaws.com:443/blog3slides-app2/_search [status:200 request:0.037s]\n",
      "[2024-07-19 02:45:28,672] p30916 {utils.py:82} INFO - received response from OpenSearch\n",
      "[2024-07-19 02:45:28,673] p30916 {3118152822.py:21} INFO - answering the question=\"What is the positioning of the WELCOME HERITAGE brand?\" using the summary for \"https://image.slidesharecdn.com/brandmanagement-itchotels-150823162717-lva1-app6892/95/brand-management-itc-hotels-19-1024.jpg\"\n",
      "[2024-07-19 02:45:31,892] p30916 {3118152822.py:38} INFO - appended response corresponding to What is the positioning of the WELCOME HERITAGE brand?\n"
     ]
    },
    {
     "name": "stdout",
     "output_type": "stream",
     "text": [
      "Heritage Properties\n"
     ]
    },
    {
     "name": "stderr",
     "output_type": "stream",
     "text": [
      "[2024-07-19 02:45:32,165] p30916 {base.py:259} INFO - POST https://7uiiz7d87b3q8u2kfmtd.us-east-1.aoss.amazonaws.com:443/blog3slides-app2/_search [status:200 request:0.046s]\n",
      "[2024-07-19 02:45:32,168] p30916 {utils.py:82} INFO - received response from OpenSearch\n",
      "[2024-07-19 02:45:32,169] p30916 {3118152822.py:21} INFO - answering the question=\"How many monthly active uniques does Farm Town have?\" using the summary for \"https://image.slidesharecdn.com/chinajoy-sns-v3-090724053148-phpapp02/95/lessons-learned-from-sns-games-at-popcap-7-1024.jpg\"\n",
      "[2024-07-19 02:45:33,260] p30916 {3118152822.py:38} INFO - appended response corresponding to How many monthly active uniques does Farm Town have?\n"
     ]
    },
    {
     "name": "stdout",
     "output_type": "stream",
     "text": [
      "12,968,126\n"
     ]
    },
    {
     "name": "stderr",
     "output_type": "stream",
     "text": [
      "[2024-07-19 02:45:33,490] p30916 {base.py:259} INFO - POST https://7uiiz7d87b3q8u2kfmtd.us-east-1.aoss.amazonaws.com:443/blog3slides-app2/_search [status:200 request:0.037s]\n",
      "[2024-07-19 02:45:33,492] p30916 {utils.py:82} INFO - received response from OpenSearch\n",
      "[2024-07-19 02:45:33,495] p30916 {3118152822.py:21} INFO - answering the question=\"What are the components of a glass electrode in the device made by Arnold Orville Beckman?\" using the summary for \"https://image.slidesharecdn.com/basicsofphitsmeasurementslideshare-140909024224-phpapp01/95/ph-its-measurement-7-1024.jpg\"\n",
      "[2024-07-19 02:45:34,697] p30916 {3118152822.py:38} INFO - appended response corresponding to What are the components of a glass electrode in the device made by Arnold Orville Beckman?\n",
      "[2024-07-19 02:45:34,852] p30916 {base.py:259} INFO - POST https://7uiiz7d87b3q8u2kfmtd.us-east-1.aoss.amazonaws.com:443/blog3slides-app2/_search [status:200 request:0.037s]\n",
      "[2024-07-19 02:45:34,854] p30916 {utils.py:82} INFO - received response from OpenSearch\n",
      "[2024-07-19 02:45:34,856] p30916 {3118152822.py:21} INFO - answering the question=\"Nintendo created a Blue Ocean for Nintendo Wii by doing what?\" using the summary for \"https://image.slidesharecdn.com/blueoceanstrategy-100403005918-phpapp02/95/blue-ocean-strategy-summary-and-examples-13-1024.jpg\"\n"
     ]
    },
    {
     "name": "stdout",
     "output_type": "stream",
     "text": [
      "The components of a glass electrode in the device made by Arnold Orville Beckman are: Glass Electrode, Membrane, Inner Buffer, Lead-off Element, Shield.\n"
     ]
    },
    {
     "name": "stderr",
     "output_type": "stream",
     "text": [
      "[2024-07-19 02:45:37,120] p30916 {3118152822.py:38} INFO - appended response corresponding to Nintendo created a Blue Ocean for Nintendo Wii by doing what?\n",
      "[2024-07-19 02:45:37,239] p30916 {base.py:259} INFO - POST https://7uiiz7d87b3q8u2kfmtd.us-east-1.aoss.amazonaws.com:443/blog3slides-app2/_search [status:200 request:0.040s]\n",
      "[2024-07-19 02:45:37,241] p30916 {utils.py:82} INFO - received response from OpenSearch\n",
      "[2024-07-19 02:45:37,242] p30916 {3118152822.py:21} INFO - answering the question=\"What do buyers say when there is weak resonance?\" using the summary for \"https://image.slidesharecdn.com/b2bproductsalesforstartupsbylucboillyv0-160406160814/95/b2b-product-sales-101-for-startups-support-deck-15-1024.jpg\"\n"
     ]
    },
    {
     "name": "stdout",
     "output_type": "stream",
     "text": [
      "reducing complexity, adding ease of use, and incorporating fun elements\n"
     ]
    },
    {
     "name": "stderr",
     "output_type": "stream",
     "text": [
      "[2024-07-19 02:45:38,892] p30916 {3118152822.py:38} INFO - appended response corresponding to What do buyers say when there is weak resonance?\n"
     ]
    },
    {
     "name": "stdout",
     "output_type": "stream",
     "text": [
      "I don't need\n"
     ]
    },
    {
     "name": "stderr",
     "output_type": "stream",
     "text": [
      "[2024-07-19 02:45:39,154] p30916 {base.py:259} INFO - POST https://7uiiz7d87b3q8u2kfmtd.us-east-1.aoss.amazonaws.com:443/blog3slides-app2/_search [status:200 request:0.035s]\n",
      "[2024-07-19 02:45:39,156] p30916 {utils.py:82} INFO - received response from OpenSearch\n",
      "[2024-07-19 02:45:39,171] p30916 {3118152822.py:21} INFO - answering the question=\"For the brand that had a Facebook Unmetric Score of 42, what is coupon code for Black Friday?\" using the summary for \"https://image.slidesharecdn.com/blackfriday-131210025239-phpapp02/95/how-social-media-helped-brands-reach-a-wider-audience-this-black-friday-cyber-monday-4-1024.jpg\"\n",
      "[2024-07-19 02:45:40,098] p30916 {3118152822.py:21} INFO - answering the question=\"For the brand that had a Facebook Unmetric Score of 42, what is coupon code for Black Friday?\" using the summary for \"https://image.slidesharecdn.com/blackfriday-131210025239-phpapp02/95/how-social-media-helped-brands-reach-a-wider-audience-this-black-friday-cyber-monday-6-1024.jpg\"\n",
      "[2024-07-19 02:45:40,729] p30916 {3118152822.py:21} INFO - answering the question=\"For the brand that had a Facebook Unmetric Score of 42, what is coupon code for Black Friday?\" using the summary for \"https://image.slidesharecdn.com/blackfriday-131210025239-phpapp02/95/how-social-media-helped-brands-reach-a-wider-audience-this-black-friday-cyber-monday-11-1024.jpg\"\n",
      "[2024-07-19 02:45:41,956] p30916 {3118152822.py:21} INFO - answering the question=\"For the brand that had a Facebook Unmetric Score of 42, what is coupon code for Black Friday?\" using the summary for \"https://image.slidesharecdn.com/blackfriday-131210025239-phpapp02/95/how-social-media-helped-brands-reach-a-wider-audience-this-black-friday-cyber-monday-18-1024.jpg\"\n",
      "[2024-07-19 02:45:43,006] p30916 {base.py:259} INFO - POST https://7uiiz7d87b3q8u2kfmtd.us-east-1.aoss.amazonaws.com:443/blog3slides-app2/_search [status:200 request:0.043s]\n",
      "[2024-07-19 02:45:43,008] p30916 {utils.py:82} INFO - received response from OpenSearch\n",
      "[2024-07-19 02:45:43,009] p30916 {3118152822.py:21} INFO - answering the question=\"Which two seasons have the lowest rate of rainfall?\" using the summary for \"https://image.slidesharecdn.com/aviewoffruitcultureinafghanistan-141025192131-conversion-gate02/95/a-view-of-fruit-culture-in-afghanistan-8-1024.jpg\"\n",
      "[2024-07-19 02:45:43,715] p30916 {3118152822.py:38} INFO - appended response corresponding to Which two seasons have the lowest rate of rainfall?\n",
      "[2024-07-19 02:45:43,841] p30916 {base.py:259} INFO - POST https://7uiiz7d87b3q8u2kfmtd.us-east-1.aoss.amazonaws.com:443/blog3slides-app2/_search [status:200 request:0.036s]\n",
      "[2024-07-19 02:45:43,843] p30916 {utils.py:82} INFO - received response from OpenSearch\n",
      "[2024-07-19 02:45:43,844] p30916 {3118152822.py:21} INFO - answering the question=\"What is Adobe Site Catalyst's application?\" using the summary for \"https://image.slidesharecdn.com/agiledatascience-140624145954-phpapp02/95/agile-data-science-16-1024.jpg\"\n"
     ]
    },
    {
     "name": "stdout",
     "output_type": "stream",
     "text": [
      "summer, winter\n"
     ]
    },
    {
     "name": "stderr",
     "output_type": "stream",
     "text": [
      "[2024-07-19 02:45:45,178] p30916 {3118152822.py:21} INFO - answering the question=\"What is Adobe Site Catalyst's application?\" using the summary for \"https://image.slidesharecdn.com/24042014iforumkievmartaklepkapublicisgroupe-140514070615-phpapp01/95/automation-integration-and-effectiveness-programmatic-buying-and-its-future-in-cee-presentation-from-iforum-conference-kiev-2014-5-1024.jpg\"\n",
      "[2024-07-19 02:45:45,725] p30916 {3118152822.py:21} INFO - answering the question=\"What is Adobe Site Catalyst's application?\" using the summary for \"https://image.slidesharecdn.com/24042014iforumkievmartaklepkapublicisgroupe-140514070615-phpapp01/95/automation-integration-and-effectiveness-programmatic-buying-and-its-future-in-cee-presentation-from-iforum-conference-kiev-2014-20-1024.jpg\"\n",
      "[2024-07-19 02:45:46,593] p30916 {3118152822.py:21} INFO - answering the question=\"What is Adobe Site Catalyst's application?\" using the summary for \"https://image.slidesharecdn.com/asixstepcontentmarketingmodel-120206005134-phpapp01/95/a-six-step-content-marketing-model-10-1024.jpg\"\n",
      "[2024-07-19 02:45:47,616] p30916 {base.py:259} INFO - POST https://7uiiz7d87b3q8u2kfmtd.us-east-1.aoss.amazonaws.com:443/blog3slides-app2/_search [status:200 request:0.035s]\n",
      "[2024-07-19 02:45:47,619] p30916 {utils.py:82} INFO - received response from OpenSearch\n",
      "[2024-07-19 02:45:47,620] p30916 {3118152822.py:21} INFO - answering the question=\"Which animated series that is available on Netflix and produced by DreamWorks is pictured in the presentation?\" using the summary for \"https://image.slidesharecdn.com/awsreinvent2014perftuningec2-141112191859-conversion-gate02/95/performance-tuning-ec2-instances-4-1024.jpg\"\n",
      "[2024-07-19 02:45:48,373] p30916 {3118152822.py:21} INFO - answering the question=\"Which animated series that is available on Netflix and produced by DreamWorks is pictured in the presentation?\" using the summary for \"https://image.slidesharecdn.com/awsreinvent2014perftuningec2-141112191859-conversion-gate02/95/performance-tuning-ec2-instances-12-1024.jpg\"\n",
      "[2024-07-19 02:45:49,095] p30916 {3118152822.py:21} INFO - answering the question=\"Which animated series that is available on Netflix and produced by DreamWorks is pictured in the presentation?\" using the summary for \"https://image.slidesharecdn.com/awsreinvent2014perftuningec2-141112191859-conversion-gate02/95/performance-tuning-ec2-instances-3-1024.jpg\"\n",
      "[2024-07-19 02:45:50,324] p30916 {3118152822.py:38} INFO - appended response corresponding to Which animated series that is available on Netflix and produced by DreamWorks is pictured in the presentation?\n",
      "[2024-07-19 02:45:50,469] p30916 {base.py:259} INFO - POST https://7uiiz7d87b3q8u2kfmtd.us-east-1.aoss.amazonaws.com:443/blog3slides-app2/_search [status:200 request:0.041s]\n",
      "[2024-07-19 02:45:50,471] p30916 {utils.py:82} INFO - received response from OpenSearch\n",
      "[2024-07-19 02:45:50,472] p30916 {3118152822.py:21} INFO - answering the question=\"Which group is most likely to believe that which was a very hot topic in 2006, 2007, and most of 2008 is happening?\" using the summary for \"https://image.slidesharecdn.com/climatechange2009perceptions-091204092626-phpapp02/95/climate-change-2009-perceptions-11-1024.jpg\"\n"
     ]
    },
    {
     "name": "stdout",
     "output_type": "stream",
     "text": [
      "BoJack Horseman\n"
     ]
    },
    {
     "name": "stderr",
     "output_type": "stream",
     "text": [
      "[2024-07-19 02:45:51,322] p30916 {3118152822.py:38} INFO - appended response corresponding to Which group is most likely to believe that which was a very hot topic in 2006, 2007, and most of 2008 is happening?\n"
     ]
    },
    {
     "name": "stdout",
     "output_type": "stream",
     "text": [
      "Leaned Dems (Liberals)\n"
     ]
    },
    {
     "name": "stderr",
     "output_type": "stream",
     "text": [
      "[2024-07-19 02:45:51,579] p30916 {base.py:259} INFO - POST https://7uiiz7d87b3q8u2kfmtd.us-east-1.aoss.amazonaws.com:443/blog3slides-app2/_search [status:200 request:0.038s]\n",
      "[2024-07-19 02:45:51,581] p30916 {utils.py:82} INFO - received response from OpenSearch\n",
      "[2024-07-19 02:45:51,582] p30916 {3118152822.py:21} INFO - answering the question=\"Regarding \"BUY FROM PHILIPPINES\", which is higher after PTA, product cost or shipping?\" using the summary for \"https://image.slidesharecdn.com/ardentcapitalandthailandinvestments2014-01-15v3-140120212530-phpapp02/95/investment-perspectives-in-thailand-by-dr-adrian-vanzyl-ardent-capital-6-1024.jpg\"\n",
      "[2024-07-19 02:45:52,386] p30916 {3118152822.py:21} INFO - answering the question=\"Regarding \"BUY FROM PHILIPPINES\", which is higher after PTA, product cost or shipping?\" using the summary for \"https://image.slidesharecdn.com/aseaneconomicintegration-100314152951-phpapp01/95/asean-economic-integration-13-1024.jpg\"\n",
      "[2024-07-19 02:45:53,397] p30916 {3118152822.py:38} INFO - appended response corresponding to Regarding \"BUY FROM PHILIPPINES\", which is higher after PTA, product cost or shipping?\n",
      "[2024-07-19 02:45:53,501] p30916 {base.py:259} INFO - POST https://7uiiz7d87b3q8u2kfmtd.us-east-1.aoss.amazonaws.com:443/blog3slides-app2/_search [status:200 request:0.033s]\n",
      "[2024-07-19 02:45:53,503] p30916 {utils.py:82} INFO - received response from OpenSearch\n",
      "[2024-07-19 02:45:53,504] p30916 {3118152822.py:21} INFO - answering the question=\"What is Hay Day's rank by revenue?\" using the summary for \"https://image.slidesharecdn.com/chinajoy-sns-v3-090724053148-phpapp02/95/lessons-learned-from-sns-games-at-popcap-7-1024.jpg\"\n"
     ]
    },
    {
     "name": "stdout",
     "output_type": "stream",
     "text": [
      "shipping\n"
     ]
    },
    {
     "name": "stderr",
     "output_type": "stream",
     "text": [
      "[2024-07-19 02:45:54,246] p30916 {3118152822.py:21} INFO - answering the question=\"What is Hay Day's rank by revenue?\" using the summary for \"https://image.slidesharecdn.com/aquacultureproducerorganisationscairo25sept2012-121023231529-phpapp02/95/producer-organizations-some-worldfish-experiences-16-1024.jpg\"\n",
      "[2024-07-19 02:45:54,839] p30916 {3118152822.py:21} INFO - answering the question=\"What is Hay Day's rank by revenue?\" using the summary for \"https://image.slidesharecdn.com/appannieapp012015new0126-150126041258-conversion-gate02/95/app-economy-in-taiwan-and-worldwide-20-1024.jpg\"\n",
      "[2024-07-19 02:45:55,665] p30916 {3118152822.py:38} INFO - appended response corresponding to What is Hay Day's rank by revenue?\n"
     ]
    },
    {
     "name": "stdout",
     "output_type": "stream",
     "text": [
      "2\n"
     ]
    },
    {
     "name": "stderr",
     "output_type": "stream",
     "text": [
      "[2024-07-19 02:45:55,909] p30916 {base.py:259} INFO - POST https://7uiiz7d87b3q8u2kfmtd.us-east-1.aoss.amazonaws.com:443/blog3slides-app2/_search [status:200 request:0.040s]\n",
      "[2024-07-19 02:45:55,911] p30916 {utils.py:82} INFO - received response from OpenSearch\n",
      "[2024-07-19 02:45:55,912] p30916 {3118152822.py:21} INFO - answering the question=\"What did 56% of employers do last year?\" using the summary for \"https://image.slidesharecdn.com/cboppsinstaffingwebinarslideshare10-151013182434-lva1-app6891/95/staffing-trends-you-need-to-know-when-planning-for-2016-7-1024.jpg\"\n",
      "[2024-07-19 02:45:57,011] p30916 {3118152822.py:21} INFO - answering the question=\"What did 56% of employers do last year?\" using the summary for \"https://image.slidesharecdn.com/contentmarketingplaybookforstaffing-150723060004-lva1-app6891/95/5-steps-to-boosting-recruitment-agencys-brand-through-content-18-1024.jpg\"\n",
      "[2024-07-19 02:45:57,948] p30916 {3118152822.py:38} INFO - appended response corresponding to What did 56% of employers do last year?\n",
      "[2024-07-19 02:45:58,094] p30916 {base.py:259} INFO - POST https://7uiiz7d87b3q8u2kfmtd.us-east-1.aoss.amazonaws.com:443/blog3slides-app2/_search [status:200 request:0.042s]\n",
      "[2024-07-19 02:45:58,096] p30916 {utils.py:82} INFO - received response from OpenSearch\n",
      "[2024-07-19 02:45:58,097] p30916 {3118152822.py:21} INFO - answering the question=\"Are the conversations on the car whose campaign had 1,722 Average Likes primarily positive or negative?\" using the summary for \"https://image.slidesharecdn.com/autoreport-cs6-140415111854-phpapp02/95/auto-report-cs6-18-1024.jpg\"\n"
     ]
    },
    {
     "name": "stdout",
     "output_type": "stream",
     "text": [
      "56% of employers increased salaries by less than three percent last year.\n"
     ]
    },
    {
     "name": "stderr",
     "output_type": "stream",
     "text": [
      "[2024-07-19 02:45:58,691] p30916 {3118152822.py:21} INFO - answering the question=\"Are the conversations on the car whose campaign had 1,722 Average Likes primarily positive or negative?\" using the summary for \"https://image.slidesharecdn.com/asixstepcontentmarketingmodel-120206005134-phpapp01/95/a-six-step-content-marketing-model-18-1024.jpg\"\n",
      "[2024-07-19 02:45:59,323] p30916 {3118152822.py:21} INFO - answering the question=\"Are the conversations on the car whose campaign had 1,722 Average Likes primarily positive or negative?\" using the summary for \"https://image.slidesharecdn.com/campaignanalysis02-mahindrae2olaunchmarch282013-130328080338-phpapp01/95/mahindra-e2o-launch-social-media-campaign-report-10-1024.jpg\"\n",
      "[2024-07-19 02:46:00,055] p30916 {3118152822.py:21} INFO - answering the question=\"Are the conversations on the car whose campaign had 1,722 Average Likes primarily positive or negative?\" using the summary for \"https://image.slidesharecdn.com/campaignanalysis02-mahindrae2olaunchmarch282013-130328080338-phpapp01/95/mahindra-e2o-launch-social-media-campaign-report-16-1024.jpg\"\n",
      "[2024-07-19 02:46:00,676] p30916 {3118152822.py:38} INFO - appended response corresponding to Are the conversations on the car whose campaign had 1,722 Average Likes primarily positive or negative?\n"
     ]
    },
    {
     "name": "stdout",
     "output_type": "stream",
     "text": [
      "positive\n"
     ]
    },
    {
     "name": "stderr",
     "output_type": "stream",
     "text": [
      "[2024-07-19 02:46:00,947] p30916 {base.py:259} INFO - POST https://7uiiz7d87b3q8u2kfmtd.us-east-1.aoss.amazonaws.com:443/blog3slides-app2/_search [status:200 request:0.042s]\n",
      "[2024-07-19 02:46:00,950] p30916 {utils.py:82} INFO - received response from OpenSearch\n",
      "[2024-07-19 02:46:00,951] p30916 {3118152822.py:21} INFO - answering the question=\"Which country had the highest percentage of respondents for whom, in aggregate, accounted for 54% of respondents in 2014?\" using the summary for \"https://image.slidesharecdn.com/2014globaldigitalsociallandscape-140803004322-phpapp02/95/2014-digital-landscape-overview-by-wearesocialsg-6-1024.jpg\"\n",
      "[2024-07-19 02:46:02,945] p30916 {3118152822.py:38} INFO - appended response corresponding to Which country had the highest percentage of respondents for whom, in aggregate, accounted for 54% of respondents in 2014?\n"
     ]
    },
    {
     "name": "stdout",
     "output_type": "stream",
     "text": [
      "East Asia\n"
     ]
    },
    {
     "name": "stderr",
     "output_type": "stream",
     "text": [
      "[2024-07-19 02:46:03,190] p30916 {base.py:259} INFO - POST https://7uiiz7d87b3q8u2kfmtd.us-east-1.aoss.amazonaws.com:443/blog3slides-app2/_search [status:200 request:0.041s]\n",
      "[2024-07-19 02:46:03,192] p30916 {utils.py:82} INFO - received response from OpenSearch\n",
      "[2024-07-19 02:46:03,194] p30916 {3118152822.py:21} INFO - answering the question=\"Which area of Business Performance grew the most by percentage between Q4'13 and Q4'12?\" using the summary for \"https://image.slidesharecdn.com/augustteamsworkpresentation1-151002172254-lva1-app6892/95/august-teams-work-9-1024.jpg\"\n",
      "[2024-07-19 02:46:03,954] p30916 {3118152822.py:21} INFO - answering the question=\"Which area of Business Performance grew the most by percentage between Q4'13 and Q4'12?\" using the summary for \"https://image.slidesharecdn.com/aquacultureproducerorganisationscairo25sept2012-121023231529-phpapp02/95/producer-organizations-some-worldfish-experiences-16-1024.jpg\"\n",
      "[2024-07-19 02:46:04,625] p30916 {3118152822.py:21} INFO - answering the question=\"Which area of Business Performance grew the most by percentage between Q4'13 and Q4'12?\" using the summary for \"https://image.slidesharecdn.com/beerindustryfinalslides-110814110012-phpapp01/95/beer-industry-5-1024.jpg\"\n",
      "[2024-07-19 02:46:06,863] p30916 {3118152822.py:21} INFO - answering the question=\"Which area of Business Performance grew the most by percentage between Q4'13 and Q4'12?\" using the summary for \"https://image.slidesharecdn.com/cboppsinstaffingwebinarslideshare10-151013182434-lva1-app6891/95/staffing-trends-you-need-to-know-when-planning-for-2016-7-1024.jpg\"\n",
      "[2024-07-19 02:46:07,842] p30916 {base.py:259} INFO - POST https://7uiiz7d87b3q8u2kfmtd.us-east-1.aoss.amazonaws.com:443/blog3slides-app2/_search [status:200 request:0.040s]\n",
      "[2024-07-19 02:46:07,844] p30916 {utils.py:82} INFO - received response from OpenSearch\n",
      "[2024-07-19 02:46:07,845] p30916 {3118152822.py:21} INFO - answering the question=\"Which two activities happen in advance of the workshop?\" using the summary for \"https://image.slidesharecdn.com/citizenscience-practiceandpolicy-huji-151214131928/95/citizen-science-theory-practice-policy-workshop-2-1024.jpg\"\n",
      "[2024-07-19 02:46:09,364] p30916 {3118152822.py:38} INFO - appended response corresponding to Which two activities happen in advance of the workshop?\n",
      "[2024-07-19 02:46:09,508] p30916 {base.py:259} INFO - POST https://7uiiz7d87b3q8u2kfmtd.us-east-1.aoss.amazonaws.com:443/blog3slides-app2/_search [status:200 request:0.034s]\n",
      "[2024-07-19 02:46:09,511] p30916 {utils.py:82} INFO - received response from OpenSearch\n",
      "[2024-07-19 02:46:09,512] p30916 {3118152822.py:21} INFO - answering the question=\"How many volts is the Electrolytic Capacitor pictured?\" using the summary for \"https://image.slidesharecdn.com/book-130721143302-phpapp01/95/electronics-project-book-7-1024.jpg\"\n"
     ]
    },
    {
     "name": "stdout",
     "output_type": "stream",
     "text": [
      "Introduction to citizen science: history, trends that facilitate it, types of citizen science activities, examples of projects. Q&A about the introduction, and the role of citizen science in projects.\n"
     ]
    },
    {
     "name": "stderr",
     "output_type": "stream",
     "text": [
      "[2024-07-19 02:46:10,858] p30916 {3118152822.py:21} INFO - answering the question=\"How many volts is the Electrolytic Capacitor pictured?\" using the summary for \"https://image.slidesharecdn.com/book-130721143302-phpapp01/95/electronics-project-book-8-1024.jpg\"\n",
      "[2024-07-19 02:46:11,924] p30916 {3118152822.py:21} INFO - answering the question=\"How many volts is the Electrolytic Capacitor pictured?\" using the summary for \"https://image.slidesharecdn.com/basicsofphitsmeasurementslideshare-140909024224-phpapp01/95/ph-its-measurement-8-1024.jpg\"\n",
      "[2024-07-19 02:46:12,515] p30916 {3118152822.py:21} INFO - answering the question=\"How many volts is the Electrolytic Capacitor pictured?\" using the summary for \"https://image.slidesharecdn.com/book-130721143302-phpapp01/95/electronics-project-book-6-1024.jpg\"\n",
      "[2024-07-19 02:46:13,620] p30916 {base.py:259} INFO - POST https://7uiiz7d87b3q8u2kfmtd.us-east-1.aoss.amazonaws.com:443/blog3slides-app2/_search [status:200 request:0.031s]\n",
      "[2024-07-19 02:46:13,622] p30916 {utils.py:82} INFO - received response from OpenSearch\n",
      "[2024-07-19 02:46:13,623] p30916 {3118152822.py:21} INFO - answering the question=\"In which year did the number of users on the platform which has >20M users in Thailand alone surpass Kakao Talk users?\" using the summary for \"https://image.slidesharecdn.com/ardentcapitalandthailandinvestments2014-01-15v3-140120212530-phpapp02/95/investment-perspectives-in-thailand-by-dr-adrian-vanzyl-ardent-capital-12-1024.jpg\"\n",
      "[2024-07-19 02:46:14,262] p30916 {3118152822.py:21} INFO - answering the question=\"In which year did the number of users on the platform which has >20M users in Thailand alone surpass Kakao Talk users?\" using the summary for \"https://image.slidesharecdn.com/ardentcapitalandthailandinvestments2014-01-15v3-140120212530-phpapp02/95/investment-perspectives-in-thailand-by-dr-adrian-vanzyl-ardent-capital-13-1024.jpg\"\n",
      "[2024-07-19 02:46:14,901] p30916 {3118152822.py:21} INFO - answering the question=\"In which year did the number of users on the platform which has >20M users in Thailand alone surpass Kakao Talk users?\" using the summary for \"https://image.slidesharecdn.com/brandinnovators2015trends-150105172645-conversion-gate01/95/25-disruptive-technology-trends-2015-2016-10-1024.jpg\"\n",
      "[2024-07-19 02:46:15,617] p30916 {3118152822.py:21} INFO - answering the question=\"In which year did the number of users on the platform which has >20M users in Thailand alone surpass Kakao Talk users?\" using the summary for \"https://image.slidesharecdn.com/ardentcapitalandthailandinvestments2014-01-15v3-140120212530-phpapp02/95/investment-perspectives-in-thailand-by-dr-adrian-vanzyl-ardent-capital-14-1024.jpg\"\n",
      "[2024-07-19 02:46:17,463] p30916 {base.py:259} INFO - POST https://7uiiz7d87b3q8u2kfmtd.us-east-1.aoss.amazonaws.com:443/blog3slides-app2/_search [status:200 request:0.038s]\n",
      "[2024-07-19 02:46:17,465] p30916 {utils.py:82} INFO - received response from OpenSearch\n",
      "[2024-07-19 02:46:17,466] p30916 {3118152822.py:21} INFO - answering the question=\"How many types of ignitions are there in the case of injected spark ignitions?\" using the summary for \"https://image.slidesharecdn.com/basicsofautomobilever2compatibilitymode-124724411173-phpapp01/95/basics-of-automobile-13-1024.jpg\"\n",
      "[2024-07-19 02:46:18,249] p30916 {3118152822.py:21} INFO - answering the question=\"How many types of ignitions are there in the case of injected spark ignitions?\" using the summary for \"https://image.slidesharecdn.com/basicsofautomobilever2compatibilitymode-124724411173-phpapp01/95/basics-of-automobile-10-1024.jpg\"\n",
      "[2024-07-19 02:46:19,623] p30916 {3118152822.py:21} INFO - answering the question=\"How many types of ignitions are there in the case of injected spark ignitions?\" using the summary for \"https://image.slidesharecdn.com/basicsofautomobilever2compatibilitymode-124724411173-phpapp01/95/basics-of-automobile-12-1024.jpg\"\n",
      "[2024-07-19 02:46:20,451] p30916 {3118152822.py:38} INFO - appended response corresponding to How many types of ignitions are there in the case of injected spark ignitions?\n",
      "[2024-07-19 02:46:20,564] p30916 {base.py:259} INFO - POST https://7uiiz7d87b3q8u2kfmtd.us-east-1.aoss.amazonaws.com:443/blog3slides-app2/_search [status:200 request:0.040s]\n",
      "[2024-07-19 02:46:20,568] p30916 {utils.py:82} INFO - received response from OpenSearch\n",
      "[2024-07-19 02:46:20,570] p30916 {3118152822.py:21} INFO - answering the question=\"Where is Kik from?\" using the summary for \"https://image.slidesharecdn.com/brandinnovators2015trends-150105172645-conversion-gate01/95/25-disruptive-technology-trends-2015-2016-10-1024.jpg\"\n"
     ]
    },
    {
     "name": "stdout",
     "output_type": "stream",
     "text": [
      "2\n"
     ]
    },
    {
     "name": "stderr",
     "output_type": "stream",
     "text": [
      "[2024-07-19 02:46:21,504] p30916 {3118152822.py:38} INFO - appended response corresponding to Where is Kik from?\n",
      "[2024-07-19 02:46:21,619] p30916 {base.py:259} INFO - POST https://7uiiz7d87b3q8u2kfmtd.us-east-1.aoss.amazonaws.com:443/blog3slides-app2/_search [status:200 request:0.034s]\n",
      "[2024-07-19 02:46:21,622] p30916 {utils.py:82} INFO - received response from OpenSearch\n",
      "[2024-07-19 02:46:21,623] p30916 {3118152822.py:21} INFO - answering the question=\"What is the least used Android screen size for web browsing?\" using the summary for \"https://image.slidesharecdn.com/appotamobilemarketreportq1-140409223140-phpapp01/95/vietnam-mobile-game-mobile-application-market-overview-in-q12014-10-1024.jpg\"\n"
     ]
    },
    {
     "name": "stdout",
     "output_type": "stream",
     "text": [
      "Ontario, Canada\n"
     ]
    },
    {
     "name": "stderr",
     "output_type": "stream",
     "text": [
      "[2024-07-19 02:46:22,232] p30916 {3118152822.py:38} INFO - appended response corresponding to What is the least used Android screen size for web browsing?\n"
     ]
    },
    {
     "name": "stdout",
     "output_type": "stream",
     "text": [
      "540x960\n"
     ]
    },
    {
     "name": "stderr",
     "output_type": "stream",
     "text": [
      "[2024-07-19 02:46:22,496] p30916 {base.py:259} INFO - POST https://7uiiz7d87b3q8u2kfmtd.us-east-1.aoss.amazonaws.com:443/blog3slides-app2/_search [status:200 request:0.038s]\n",
      "[2024-07-19 02:46:22,499] p30916 {utils.py:82} INFO - received response from OpenSearch\n",
      "[2024-07-19 02:46:22,500] p30916 {3118152822.py:21} INFO - answering the question=\"How many more automotive OEM plants are there in the Middle West Region of China compared to the South Region?\" using the summary for \"https://image.slidesharecdn.com/chinatourismreport-100310054348-phpapp01/95/china-tourism-report-15-1024.jpg\"\n",
      "[2024-07-19 02:46:23,535] p30916 {3118152822.py:21} INFO - answering the question=\"How many more automotive OEM plants are there in the Middle West Region of China compared to the South Region?\" using the summary for \"https://image.slidesharecdn.com/astudyoncustomerpreferebceandsatisfactiontowardsbajajbikes-150814133516-lva1-app6891/95/a-study-on-customer-preferebce-and-satisfaction-towards-bajaj-bikes-4-1024.jpg\"\n",
      "[2024-07-19 02:46:24,134] p30916 {3118152822.py:21} INFO - answering the question=\"How many more automotive OEM plants are there in the Middle West Region of China compared to the South Region?\" using the summary for \"https://image.slidesharecdn.com/aseaneconomicintegration-100314152951-phpapp01/95/asean-economic-integration-16-1024.jpg\"\n",
      "[2024-07-19 02:46:25,522] p30916 {3118152822.py:21} INFO - answering the question=\"How many more automotive OEM plants are there in the Middle West Region of China compared to the South Region?\" using the summary for \"https://image.slidesharecdn.com/auto-100113133616-phpapp01/95/browsing-before-buying-auto-15-1024.jpg\"\n",
      "[2024-07-19 02:46:26,454] p30916 {base.py:259} INFO - POST https://7uiiz7d87b3q8u2kfmtd.us-east-1.aoss.amazonaws.com:443/blog3slides-app2/_search [status:200 request:0.034s]\n",
      "[2024-07-19 02:46:26,462] p30916 {utils.py:82} INFO - received response from OpenSearch\n",
      "[2024-07-19 02:46:26,465] p30916 {3118152822.py:21} INFO - answering the question=\"What are the four V's of big data?\" using the summary for \"https://image.slidesharecdn.com/agiledatascience-140624145954-phpapp02/95/agile-data-science-10-1024.jpg\"\n",
      "[2024-07-19 02:46:27,589] p30916 {3118152822.py:21} INFO - answering the question=\"What are the four V's of big data?\" using the summary for \"https://image.slidesharecdn.com/agiledatascience-140624145954-phpapp02/95/agile-data-science-19-1024.jpg\"\n",
      "[2024-07-19 02:46:28,140] p30916 {3118152822.py:21} INFO - answering the question=\"What are the four V's of big data?\" using the summary for \"https://image.slidesharecdn.com/apachekafkaatlinkedin-150108003805-conversion-gate01/95/apache-kafka-at-linkedin-14-1024.jpg\"\n",
      "[2024-07-19 02:46:29,212] p30916 {3118152822.py:21} INFO - answering the question=\"What are the four V's of big data?\" using the summary for \"https://image.slidesharecdn.com/agiledatascience-140624145954-phpapp02/95/agile-data-science-15-1024.jpg\"\n",
      "[2024-07-19 02:46:30,332] p30916 {base.py:259} INFO - POST https://7uiiz7d87b3q8u2kfmtd.us-east-1.aoss.amazonaws.com:443/blog3slides-app2/_search [status:200 request:0.043s]\n",
      "[2024-07-19 02:46:30,334] p30916 {utils.py:82} INFO - received response from OpenSearch\n",
      "[2024-07-19 02:46:30,335] p30916 {3118152822.py:21} INFO - answering the question=\"What does OSI add?\" using the summary for \"https://image.slidesharecdn.com/amethodologyforbuildingtheinternetofthings1-141127194112-conversion-gate01/95/a-methodology-for-building-the-internet-of-things-12-1024.jpg\"\n",
      "[2024-07-19 02:46:30,929] p30916 {3118152822.py:21} INFO - answering the question=\"What does OSI add?\" using the summary for \"https://image.slidesharecdn.com/amethodologyforbuildingtheinternetofthings1-141127194112-conversion-gate01/95/a-methodology-for-building-the-internet-of-things-13-1024.jpg\"\n",
      "[2024-07-19 02:46:31,696] p30916 {3118152822.py:21} INFO - answering the question=\"What does OSI add?\" using the summary for \"https://image.slidesharecdn.com/amethodologyforbuildingtheinternetofthings1-141127194112-conversion-gate01/95/a-methodology-for-building-the-internet-of-things-16-1024.jpg\"\n",
      "[2024-07-19 02:46:32,271] p30916 {3118152822.py:21} INFO - answering the question=\"What does OSI add?\" using the summary for \"https://image.slidesharecdn.com/amethodologyforbuildingtheinternetofthings1-141127194112-conversion-gate01/95/a-methodology-for-building-the-internet-of-things-17-1024.jpg\"\n",
      "[2024-07-19 02:46:33,484] p30916 {base.py:259} INFO - POST https://7uiiz7d87b3q8u2kfmtd.us-east-1.aoss.amazonaws.com:443/blog3slides-app2/_search [status:200 request:0.037s]\n",
      "[2024-07-19 02:46:33,486] p30916 {utils.py:82} INFO - received response from OpenSearch\n",
      "[2024-07-19 02:46:33,487] p30916 {3118152822.py:21} INFO - answering the question=\"Is the average company lifespan on S&P 500 Index in 2029 projected to be higher or lower than in 2011?\" using the summary for \"https://image.slidesharecdn.com/augustteamsworkpresentation1-151002172254-lva1-app6892/95/august-teams-work-10-1024.jpg\"\n",
      "[2024-07-19 02:46:34,116] p30916 {3118152822.py:38} INFO - appended response corresponding to Is the average company lifespan on S&P 500 Index in 2029 projected to be higher or lower than in 2011?\n",
      "[2024-07-19 02:46:34,255] p30916 {base.py:259} INFO - POST https://7uiiz7d87b3q8u2kfmtd.us-east-1.aoss.amazonaws.com:443/blog3slides-app2/_search [status:200 request:0.055s]\n",
      "[2024-07-19 02:46:34,258] p30916 {utils.py:82} INFO - received response from OpenSearch\n",
      "[2024-07-19 02:46:34,260] p30916 {3118152822.py:21} INFO - answering the question=\"What is the formula to determine Distance?\" using the summary for \"https://image.slidesharecdn.com/basicsofcalculus-150407154114-conversion-gate01/95/basics-of-calculus-14-1024.jpg\"\n"
     ]
    },
    {
     "name": "stdout",
     "output_type": "stream",
     "text": [
      "Higher\n"
     ]
    },
    {
     "name": "stderr",
     "output_type": "stream",
     "text": [
      "[2024-07-19 02:46:35,165] p30916 {3118152822.py:38} INFO - appended response corresponding to What is the formula to determine Distance?\n",
      "[2024-07-19 02:46:35,326] p30916 {base.py:259} INFO - POST https://7uiiz7d87b3q8u2kfmtd.us-east-1.aoss.amazonaws.com:443/blog3slides-app2/_search [status:200 request:0.033s]\n",
      "[2024-07-19 02:46:35,328] p30916 {utils.py:82} INFO - received response from OpenSearch\n",
      "[2024-07-19 02:46:35,329] p30916 {3118152822.py:21} INFO - answering the question=\"Who works under the Head of Export?\" using the summary for \"https://image.slidesharecdn.com/chp9-121208092412-phpapp01/95/chp9-7-1024.jpg\"\n"
     ]
    },
    {
     "name": "stdout",
     "output_type": "stream",
     "text": [
      "Distance = (velocity)(time)\n"
     ]
    },
    {
     "name": "stderr",
     "output_type": "stream",
     "text": [
      "[2024-07-19 02:46:37,215] p30916 {3118152822.py:38} INFO - appended response corresponding to Who works under the Head of Export?\n",
      "[2024-07-19 02:46:37,343] p30916 {base.py:259} INFO - POST https://7uiiz7d87b3q8u2kfmtd.us-east-1.aoss.amazonaws.com:443/blog3slides-app2/_search [status:200 request:0.044s]\n",
      "[2024-07-19 02:46:37,345] p30916 {utils.py:82} INFO - received response from OpenSearch\n",
      "[2024-07-19 02:46:37,346] p30916 {3118152822.py:21} INFO - answering the question=\"What are the two types of connective tissue proper?\" using the summary for \"https://image.slidesharecdn.com/connectivetissue-150209063549-conversion-gate01/95/connective-tissuepptx-6-1024.jpg\"\n"
     ]
    },
    {
     "name": "stdout",
     "output_type": "stream",
     "text": [
      "Export Marketing Staff, Administration, Distribution, Overseas Representatives\n"
     ]
    },
    {
     "name": "stderr",
     "output_type": "stream",
     "text": [
      "[2024-07-19 02:46:38,349] p30916 {3118152822.py:21} INFO - answering the question=\"What are the two types of connective tissue proper?\" using the summary for \"https://image.slidesharecdn.com/connectivetissue-150209063549-conversion-gate01/95/connective-tissuepptx-3-1024.jpg\"\n",
      "[2024-07-19 02:46:38,894] p30916 {3118152822.py:21} INFO - answering the question=\"What are the two types of connective tissue proper?\" using the summary for \"https://image.slidesharecdn.com/connectivetissue-150209063549-conversion-gate01/95/connective-tissuepptx-10-1024.jpg\"\n",
      "[2024-07-19 02:46:39,461] p30916 {3118152822.py:21} INFO - answering the question=\"What are the two types of connective tissue proper?\" using the summary for \"https://image.slidesharecdn.com/connectivetissue-150209063549-conversion-gate01/95/connective-tissuepptx-4-1024.jpg\"\n",
      "[2024-07-19 02:46:42,207] p30916 {3118152822.py:38} INFO - appended response corresponding to What are the two types of connective tissue proper?\n"
     ]
    },
    {
     "name": "stdout",
     "output_type": "stream",
     "text": [
      "loose connective tissue, dense connective tissue\n"
     ]
    },
    {
     "name": "stderr",
     "output_type": "stream",
     "text": [
      "[2024-07-19 02:46:42,439] p30916 {base.py:259} INFO - POST https://7uiiz7d87b3q8u2kfmtd.us-east-1.aoss.amazonaws.com:443/blog3slides-app2/_search [status:200 request:0.035s]\n",
      "[2024-07-19 02:46:42,441] p30916 {utils.py:82} INFO - received response from OpenSearch\n",
      "[2024-07-19 02:46:42,442] p30916 {3118152822.py:21} INFO - answering the question=\"How many trophies are the hands holding up in the image?\" using the summary for \"https://image.slidesharecdn.com/avoidingdeathbypowerpointslideshare-090322075422-phpapp01/95/avoiding-death-by-powerpoint-slideshare-11-1024.jpg\"\n",
      "[2024-07-19 02:46:44,403] p30916 {3118152822.py:38} INFO - appended response corresponding to How many trophies are the hands holding up in the image?\n"
     ]
    },
    {
     "name": "stdout",
     "output_type": "stream",
     "text": [
      "3\n"
     ]
    },
    {
     "name": "stderr",
     "output_type": "stream",
     "text": [
      "[2024-07-19 02:46:44,686] p30916 {base.py:259} INFO - POST https://7uiiz7d87b3q8u2kfmtd.us-east-1.aoss.amazonaws.com:443/blog3slides-app2/_search [status:200 request:0.043s]\n",
      "[2024-07-19 02:46:44,688] p30916 {utils.py:82} INFO - received response from OpenSearch\n",
      "[2024-07-19 02:46:44,689] p30916 {3118152822.py:21} INFO - answering the question=\"Are there more Early Adopters or Trailblazers?\" using the summary for \"https://image.slidesharecdn.com/bizofchangeartofcommspublic-141115203118-conversion-gate02/95/the-business-of-change-the-art-of-communication-10-1024.jpg\"\n",
      "[2024-07-19 02:46:45,617] p30916 {3118152822.py:38} INFO - appended response corresponding to Are there more Early Adopters or Trailblazers?\n",
      "[2024-07-19 02:46:45,739] p30916 {base.py:259} INFO - POST https://7uiiz7d87b3q8u2kfmtd.us-east-1.aoss.amazonaws.com:443/blog3slides-app2/_search [status:200 request:0.032s]\n",
      "[2024-07-19 02:46:45,741] p30916 {utils.py:82} INFO - received response from OpenSearch\n",
      "[2024-07-19 02:46:45,743] p30916 {3118152822.py:21} INFO - answering the question=\"What is the difference in revenue per farmer p.a. between 2005 and 2006?\" using the summary for \"https://image.slidesharecdn.com/aquacultureproducerorganisationscairo25sept2012-121023231529-phpapp02/95/producer-organizations-some-worldfish-experiences-15-1024.jpg\"\n"
     ]
    },
    {
     "name": "stdout",
     "output_type": "stream",
     "text": [
      "Early Adopters (18%), Trailblazers (2%)\n"
     ]
    },
    {
     "name": "stderr",
     "output_type": "stream",
     "text": [
      "[2024-07-19 02:46:46,519] p30916 {3118152822.py:38} INFO - appended response corresponding to What is the difference in revenue per farmer p.a. between 2005 and 2006?\n"
     ]
    },
    {
     "name": "stdout",
     "output_type": "stream",
     "text": [
      "$1,090\n"
     ]
    }
   ],
   "source": [
    "responses_list = []\n",
    "with jsonlines.open('qa.jsonl') as f:\n",
    "    for line in f.iter():\n",
    "        question: str = line['question']\n",
    "        question_deckname: str = line['deck_name']\n",
    "        question_deckurl: str = line['deck_url']\n",
    "        text_embedding = get_text_embedding(bedrock, question, g.TITAN_MODEL_ID)\n",
    "\n",
    "        k = 4\n",
    "        vector_db_response: Dict = find_similar_data(os_client, text_embedding, k, index_name, question_deckname, question_deckurl)\n",
    "        response_count = len(vector_db_response.get('hits', {}).get('hits'))\n",
    "        if response_count >= 1:\n",
    "            for i in range(k):\n",
    "                deck_name = vector_db_response.get('hits', {}).get('hits')[i].get('_source').get('metadata').get('deck_name')\n",
    "                deck_url = vector_db_response.get('hits', {}).get('hits')[i].get('_source').get('metadata').get('deck_url')\n",
    "                slide_text = vector_db_response.get('hits', {}).get('hits')[i].get('_source').get('slide_text')\n",
    "                img_url = vector_db_response.get('hits', {}).get('hits')[i].get('_source').get('image_url')\n",
    "\n",
    "                logger.info(f\"answering the question=\\\"{question}\\\" using the summary for \\\"{img_url}\\\"\")\n",
    "                llm_response = get_llm_response(bedrock, question, slide_text)\n",
    "\n",
    "                if llm_response.lower() != 'no answer':\n",
    "                    response = {\n",
    "                        \"question\": question,\n",
    "                        \"question_deckname\": question_deckname,\n",
    "                        \"question_deckurl\": question_deckurl,\n",
    "                        \"response\": {\n",
    "                            \"resp_txt\": llm_response,\n",
    "                            \"resp_img_url\": img_url,\n",
    "                            \"resp_deck_name\": deck_name,\n",
    "                            \"resp_deck_url\": deck_url\n",
    "                        }\n",
    "                    }\n",
    "                    responses_list.append(response)\n",
    "                    logger.info(f\"appended response corresponding to {question}\")\n",
    "                    break"
   ]
  },
  {
   "cell_type": "markdown",
   "metadata": {},
   "source": [
    "For each question, save the question and response"
   ]
  },
  {
   "cell_type": "code",
   "execution_count": 9,
   "metadata": {
    "tags": []
   },
   "outputs": [
    {
     "name": "stderr",
     "output_type": "stream",
     "text": [
      "[2024-07-19 02:54:53,086] p30916 {1177031128.py:6} INFO - saved responses for all questions in responses-appr2.json\n"
     ]
    }
   ],
   "source": [
    "fpath: str = \"responses-appr2.json\"\n",
    "json.dump(responses_list, codecs.open(fpath, 'w', encoding='utf-8'), \n",
    "          separators=(',', ':'), \n",
    "          sort_keys=True, \n",
    "          indent=4)\n",
    "logger.info(f\"saved responses for all questions in {fpath}\")"
   ]
  }
 ],
 "metadata": {
  "availableInstances": [
   {
    "_defaultOrder": 0,
    "_isFastLaunch": true,
    "category": "General purpose",
    "gpuNum": 0,
    "hideHardwareSpecs": false,
    "memoryGiB": 4,
    "name": "ml.t3.medium",
    "vcpuNum": 2
   },
   {
    "_defaultOrder": 1,
    "_isFastLaunch": false,
    "category": "General purpose",
    "gpuNum": 0,
    "hideHardwareSpecs": false,
    "memoryGiB": 8,
    "name": "ml.t3.large",
    "vcpuNum": 2
   },
   {
    "_defaultOrder": 2,
    "_isFastLaunch": false,
    "category": "General purpose",
    "gpuNum": 0,
    "hideHardwareSpecs": false,
    "memoryGiB": 16,
    "name": "ml.t3.xlarge",
    "vcpuNum": 4
   },
   {
    "_defaultOrder": 3,
    "_isFastLaunch": false,
    "category": "General purpose",
    "gpuNum": 0,
    "hideHardwareSpecs": false,
    "memoryGiB": 32,
    "name": "ml.t3.2xlarge",
    "vcpuNum": 8
   },
   {
    "_defaultOrder": 4,
    "_isFastLaunch": true,
    "category": "General purpose",
    "gpuNum": 0,
    "hideHardwareSpecs": false,
    "memoryGiB": 8,
    "name": "ml.m5.large",
    "vcpuNum": 2
   },
   {
    "_defaultOrder": 5,
    "_isFastLaunch": false,
    "category": "General purpose",
    "gpuNum": 0,
    "hideHardwareSpecs": false,
    "memoryGiB": 16,
    "name": "ml.m5.xlarge",
    "vcpuNum": 4
   },
   {
    "_defaultOrder": 6,
    "_isFastLaunch": false,
    "category": "General purpose",
    "gpuNum": 0,
    "hideHardwareSpecs": false,
    "memoryGiB": 32,
    "name": "ml.m5.2xlarge",
    "vcpuNum": 8
   },
   {
    "_defaultOrder": 7,
    "_isFastLaunch": false,
    "category": "General purpose",
    "gpuNum": 0,
    "hideHardwareSpecs": false,
    "memoryGiB": 64,
    "name": "ml.m5.4xlarge",
    "vcpuNum": 16
   },
   {
    "_defaultOrder": 8,
    "_isFastLaunch": false,
    "category": "General purpose",
    "gpuNum": 0,
    "hideHardwareSpecs": false,
    "memoryGiB": 128,
    "name": "ml.m5.8xlarge",
    "vcpuNum": 32
   },
   {
    "_defaultOrder": 9,
    "_isFastLaunch": false,
    "category": "General purpose",
    "gpuNum": 0,
    "hideHardwareSpecs": false,
    "memoryGiB": 192,
    "name": "ml.m5.12xlarge",
    "vcpuNum": 48
   },
   {
    "_defaultOrder": 10,
    "_isFastLaunch": false,
    "category": "General purpose",
    "gpuNum": 0,
    "hideHardwareSpecs": false,
    "memoryGiB": 256,
    "name": "ml.m5.16xlarge",
    "vcpuNum": 64
   },
   {
    "_defaultOrder": 11,
    "_isFastLaunch": false,
    "category": "General purpose",
    "gpuNum": 0,
    "hideHardwareSpecs": false,
    "memoryGiB": 384,
    "name": "ml.m5.24xlarge",
    "vcpuNum": 96
   },
   {
    "_defaultOrder": 12,
    "_isFastLaunch": false,
    "category": "General purpose",
    "gpuNum": 0,
    "hideHardwareSpecs": false,
    "memoryGiB": 8,
    "name": "ml.m5d.large",
    "vcpuNum": 2
   },
   {
    "_defaultOrder": 13,
    "_isFastLaunch": false,
    "category": "General purpose",
    "gpuNum": 0,
    "hideHardwareSpecs": false,
    "memoryGiB": 16,
    "name": "ml.m5d.xlarge",
    "vcpuNum": 4
   },
   {
    "_defaultOrder": 14,
    "_isFastLaunch": false,
    "category": "General purpose",
    "gpuNum": 0,
    "hideHardwareSpecs": false,
    "memoryGiB": 32,
    "name": "ml.m5d.2xlarge",
    "vcpuNum": 8
   },
   {
    "_defaultOrder": 15,
    "_isFastLaunch": false,
    "category": "General purpose",
    "gpuNum": 0,
    "hideHardwareSpecs": false,
    "memoryGiB": 64,
    "name": "ml.m5d.4xlarge",
    "vcpuNum": 16
   },
   {
    "_defaultOrder": 16,
    "_isFastLaunch": false,
    "category": "General purpose",
    "gpuNum": 0,
    "hideHardwareSpecs": false,
    "memoryGiB": 128,
    "name": "ml.m5d.8xlarge",
    "vcpuNum": 32
   },
   {
    "_defaultOrder": 17,
    "_isFastLaunch": false,
    "category": "General purpose",
    "gpuNum": 0,
    "hideHardwareSpecs": false,
    "memoryGiB": 192,
    "name": "ml.m5d.12xlarge",
    "vcpuNum": 48
   },
   {
    "_defaultOrder": 18,
    "_isFastLaunch": false,
    "category": "General purpose",
    "gpuNum": 0,
    "hideHardwareSpecs": false,
    "memoryGiB": 256,
    "name": "ml.m5d.16xlarge",
    "vcpuNum": 64
   },
   {
    "_defaultOrder": 19,
    "_isFastLaunch": false,
    "category": "General purpose",
    "gpuNum": 0,
    "hideHardwareSpecs": false,
    "memoryGiB": 384,
    "name": "ml.m5d.24xlarge",
    "vcpuNum": 96
   },
   {
    "_defaultOrder": 20,
    "_isFastLaunch": false,
    "category": "General purpose",
    "gpuNum": 0,
    "hideHardwareSpecs": true,
    "memoryGiB": 0,
    "name": "ml.geospatial.interactive",
    "supportedImageNames": [
     "sagemaker-geospatial-v1-0"
    ],
    "vcpuNum": 0
   },
   {
    "_defaultOrder": 21,
    "_isFastLaunch": true,
    "category": "Compute optimized",
    "gpuNum": 0,
    "hideHardwareSpecs": false,
    "memoryGiB": 4,
    "name": "ml.c5.large",
    "vcpuNum": 2
   },
   {
    "_defaultOrder": 22,
    "_isFastLaunch": false,
    "category": "Compute optimized",
    "gpuNum": 0,
    "hideHardwareSpecs": false,
    "memoryGiB": 8,
    "name": "ml.c5.xlarge",
    "vcpuNum": 4
   },
   {
    "_defaultOrder": 23,
    "_isFastLaunch": false,
    "category": "Compute optimized",
    "gpuNum": 0,
    "hideHardwareSpecs": false,
    "memoryGiB": 16,
    "name": "ml.c5.2xlarge",
    "vcpuNum": 8
   },
   {
    "_defaultOrder": 24,
    "_isFastLaunch": false,
    "category": "Compute optimized",
    "gpuNum": 0,
    "hideHardwareSpecs": false,
    "memoryGiB": 32,
    "name": "ml.c5.4xlarge",
    "vcpuNum": 16
   },
   {
    "_defaultOrder": 25,
    "_isFastLaunch": false,
    "category": "Compute optimized",
    "gpuNum": 0,
    "hideHardwareSpecs": false,
    "memoryGiB": 72,
    "name": "ml.c5.9xlarge",
    "vcpuNum": 36
   },
   {
    "_defaultOrder": 26,
    "_isFastLaunch": false,
    "category": "Compute optimized",
    "gpuNum": 0,
    "hideHardwareSpecs": false,
    "memoryGiB": 96,
    "name": "ml.c5.12xlarge",
    "vcpuNum": 48
   },
   {
    "_defaultOrder": 27,
    "_isFastLaunch": false,
    "category": "Compute optimized",
    "gpuNum": 0,
    "hideHardwareSpecs": false,
    "memoryGiB": 144,
    "name": "ml.c5.18xlarge",
    "vcpuNum": 72
   },
   {
    "_defaultOrder": 28,
    "_isFastLaunch": false,
    "category": "Compute optimized",
    "gpuNum": 0,
    "hideHardwareSpecs": false,
    "memoryGiB": 192,
    "name": "ml.c5.24xlarge",
    "vcpuNum": 96
   },
   {
    "_defaultOrder": 29,
    "_isFastLaunch": true,
    "category": "Accelerated computing",
    "gpuNum": 1,
    "hideHardwareSpecs": false,
    "memoryGiB": 16,
    "name": "ml.g4dn.xlarge",
    "vcpuNum": 4
   },
   {
    "_defaultOrder": 30,
    "_isFastLaunch": false,
    "category": "Accelerated computing",
    "gpuNum": 1,
    "hideHardwareSpecs": false,
    "memoryGiB": 32,
    "name": "ml.g4dn.2xlarge",
    "vcpuNum": 8
   },
   {
    "_defaultOrder": 31,
    "_isFastLaunch": false,
    "category": "Accelerated computing",
    "gpuNum": 1,
    "hideHardwareSpecs": false,
    "memoryGiB": 64,
    "name": "ml.g4dn.4xlarge",
    "vcpuNum": 16
   },
   {
    "_defaultOrder": 32,
    "_isFastLaunch": false,
    "category": "Accelerated computing",
    "gpuNum": 1,
    "hideHardwareSpecs": false,
    "memoryGiB": 128,
    "name": "ml.g4dn.8xlarge",
    "vcpuNum": 32
   },
   {
    "_defaultOrder": 33,
    "_isFastLaunch": false,
    "category": "Accelerated computing",
    "gpuNum": 4,
    "hideHardwareSpecs": false,
    "memoryGiB": 192,
    "name": "ml.g4dn.12xlarge",
    "vcpuNum": 48
   },
   {
    "_defaultOrder": 34,
    "_isFastLaunch": false,
    "category": "Accelerated computing",
    "gpuNum": 1,
    "hideHardwareSpecs": false,
    "memoryGiB": 256,
    "name": "ml.g4dn.16xlarge",
    "vcpuNum": 64
   },
   {
    "_defaultOrder": 35,
    "_isFastLaunch": false,
    "category": "Accelerated computing",
    "gpuNum": 1,
    "hideHardwareSpecs": false,
    "memoryGiB": 61,
    "name": "ml.p3.2xlarge",
    "vcpuNum": 8
   },
   {
    "_defaultOrder": 36,
    "_isFastLaunch": false,
    "category": "Accelerated computing",
    "gpuNum": 4,
    "hideHardwareSpecs": false,
    "memoryGiB": 244,
    "name": "ml.p3.8xlarge",
    "vcpuNum": 32
   },
   {
    "_defaultOrder": 37,
    "_isFastLaunch": false,
    "category": "Accelerated computing",
    "gpuNum": 8,
    "hideHardwareSpecs": false,
    "memoryGiB": 488,
    "name": "ml.p3.16xlarge",
    "vcpuNum": 64
   },
   {
    "_defaultOrder": 38,
    "_isFastLaunch": false,
    "category": "Accelerated computing",
    "gpuNum": 8,
    "hideHardwareSpecs": false,
    "memoryGiB": 768,
    "name": "ml.p3dn.24xlarge",
    "vcpuNum": 96
   },
   {
    "_defaultOrder": 39,
    "_isFastLaunch": false,
    "category": "Memory Optimized",
    "gpuNum": 0,
    "hideHardwareSpecs": false,
    "memoryGiB": 16,
    "name": "ml.r5.large",
    "vcpuNum": 2
   },
   {
    "_defaultOrder": 40,
    "_isFastLaunch": false,
    "category": "Memory Optimized",
    "gpuNum": 0,
    "hideHardwareSpecs": false,
    "memoryGiB": 32,
    "name": "ml.r5.xlarge",
    "vcpuNum": 4
   },
   {
    "_defaultOrder": 41,
    "_isFastLaunch": false,
    "category": "Memory Optimized",
    "gpuNum": 0,
    "hideHardwareSpecs": false,
    "memoryGiB": 64,
    "name": "ml.r5.2xlarge",
    "vcpuNum": 8
   },
   {
    "_defaultOrder": 42,
    "_isFastLaunch": false,
    "category": "Memory Optimized",
    "gpuNum": 0,
    "hideHardwareSpecs": false,
    "memoryGiB": 128,
    "name": "ml.r5.4xlarge",
    "vcpuNum": 16
   },
   {
    "_defaultOrder": 43,
    "_isFastLaunch": false,
    "category": "Memory Optimized",
    "gpuNum": 0,
    "hideHardwareSpecs": false,
    "memoryGiB": 256,
    "name": "ml.r5.8xlarge",
    "vcpuNum": 32
   },
   {
    "_defaultOrder": 44,
    "_isFastLaunch": false,
    "category": "Memory Optimized",
    "gpuNum": 0,
    "hideHardwareSpecs": false,
    "memoryGiB": 384,
    "name": "ml.r5.12xlarge",
    "vcpuNum": 48
   },
   {
    "_defaultOrder": 45,
    "_isFastLaunch": false,
    "category": "Memory Optimized",
    "gpuNum": 0,
    "hideHardwareSpecs": false,
    "memoryGiB": 512,
    "name": "ml.r5.16xlarge",
    "vcpuNum": 64
   },
   {
    "_defaultOrder": 46,
    "_isFastLaunch": false,
    "category": "Memory Optimized",
    "gpuNum": 0,
    "hideHardwareSpecs": false,
    "memoryGiB": 768,
    "name": "ml.r5.24xlarge",
    "vcpuNum": 96
   },
   {
    "_defaultOrder": 47,
    "_isFastLaunch": false,
    "category": "Accelerated computing",
    "gpuNum": 1,
    "hideHardwareSpecs": false,
    "memoryGiB": 16,
    "name": "ml.g5.xlarge",
    "vcpuNum": 4
   },
   {
    "_defaultOrder": 48,
    "_isFastLaunch": false,
    "category": "Accelerated computing",
    "gpuNum": 1,
    "hideHardwareSpecs": false,
    "memoryGiB": 32,
    "name": "ml.g5.2xlarge",
    "vcpuNum": 8
   },
   {
    "_defaultOrder": 49,
    "_isFastLaunch": false,
    "category": "Accelerated computing",
    "gpuNum": 1,
    "hideHardwareSpecs": false,
    "memoryGiB": 64,
    "name": "ml.g5.4xlarge",
    "vcpuNum": 16
   },
   {
    "_defaultOrder": 50,
    "_isFastLaunch": false,
    "category": "Accelerated computing",
    "gpuNum": 1,
    "hideHardwareSpecs": false,
    "memoryGiB": 128,
    "name": "ml.g5.8xlarge",
    "vcpuNum": 32
   },
   {
    "_defaultOrder": 51,
    "_isFastLaunch": false,
    "category": "Accelerated computing",
    "gpuNum": 1,
    "hideHardwareSpecs": false,
    "memoryGiB": 256,
    "name": "ml.g5.16xlarge",
    "vcpuNum": 64
   },
   {
    "_defaultOrder": 52,
    "_isFastLaunch": false,
    "category": "Accelerated computing",
    "gpuNum": 4,
    "hideHardwareSpecs": false,
    "memoryGiB": 192,
    "name": "ml.g5.12xlarge",
    "vcpuNum": 48
   },
   {
    "_defaultOrder": 53,
    "_isFastLaunch": false,
    "category": "Accelerated computing",
    "gpuNum": 4,
    "hideHardwareSpecs": false,
    "memoryGiB": 384,
    "name": "ml.g5.24xlarge",
    "vcpuNum": 96
   },
   {
    "_defaultOrder": 54,
    "_isFastLaunch": false,
    "category": "Accelerated computing",
    "gpuNum": 8,
    "hideHardwareSpecs": false,
    "memoryGiB": 768,
    "name": "ml.g5.48xlarge",
    "vcpuNum": 192
   },
   {
    "_defaultOrder": 55,
    "_isFastLaunch": false,
    "category": "Accelerated computing",
    "gpuNum": 8,
    "hideHardwareSpecs": false,
    "memoryGiB": 1152,
    "name": "ml.p4d.24xlarge",
    "vcpuNum": 96
   },
   {
    "_defaultOrder": 56,
    "_isFastLaunch": false,
    "category": "Accelerated computing",
    "gpuNum": 8,
    "hideHardwareSpecs": false,
    "memoryGiB": 1152,
    "name": "ml.p4de.24xlarge",
    "vcpuNum": 96
   },
   {
    "_defaultOrder": 57,
    "_isFastLaunch": false,
    "category": "Accelerated computing",
    "gpuNum": 0,
    "hideHardwareSpecs": false,
    "memoryGiB": 32,
    "name": "ml.trn1.2xlarge",
    "vcpuNum": 8
   },
   {
    "_defaultOrder": 58,
    "_isFastLaunch": false,
    "category": "Accelerated computing",
    "gpuNum": 0,
    "hideHardwareSpecs": false,
    "memoryGiB": 512,
    "name": "ml.trn1.32xlarge",
    "vcpuNum": 128
   },
   {
    "_defaultOrder": 59,
    "_isFastLaunch": false,
    "category": "Accelerated computing",
    "gpuNum": 0,
    "hideHardwareSpecs": false,
    "memoryGiB": 512,
    "name": "ml.trn1n.32xlarge",
    "vcpuNum": 128
   }
  ],
  "instance_type": "ml.t3.medium",
  "kernelspec": {
   "display_name": "conda_python3",
   "language": "python",
   "name": "conda_python3"
  },
  "language_info": {
   "codemirror_mode": {
    "name": "ipython",
    "version": 3
   },
   "file_extension": ".py",
   "mimetype": "text/x-python",
   "name": "python",
   "nbconvert_exporter": "python",
   "pygments_lexer": "ipython3",
   "version": "3.10.13"
  }
 },
 "nbformat": 4,
 "nbformat_minor": 4
}
