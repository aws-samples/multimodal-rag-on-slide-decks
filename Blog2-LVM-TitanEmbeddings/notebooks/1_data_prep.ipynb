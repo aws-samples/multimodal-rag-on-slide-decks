{
 "cells": [
  {
   "cell_type": "markdown",
   "id": "00c6eba0-3e0f-4325-a352-1763d2749055",
   "metadata": {},
   "source": [
    "# Data preparation\n",
    "\n",
    "***This notebook works best with the `conda_python3` on the `ml.t3.large` instance***.\n",
    "\n",
    "---\n",
    "\n",
    "In this notebook we download a publicly available slide deck and convert it into images, one image for each slide. These images are then stored in Amazon S3 from where they can be made available to a Amazon SageMaker Endpoint for inference.\n",
    "\n",
    "The slide deck choose is [Train and deploy Stable Diffusion using AWS Trainium & AWS Inferentia](https://d1.awsstatic.com/events/Summits/torsummit2023/CMP301_TrainDeploy_E1_20230607_SPEdited.pdf). To use a different slide deck you can update the `SLIDE_DECK` variable in [`globals.py`](./globals.py).\n"
   ]
  },
  {
   "cell_type": "markdown",
   "id": "34c37157-7d48-4422-a107-7c2ddd843747",
   "metadata": {},
   "source": [
    "## Step 1. Setup\n",
    "\n",
    "Install the required Python packages and import the relevant files."
   ]
  },
  {
   "cell_type": "code",
   "execution_count": 1,
   "id": "6605ceea-e65d-4822-bbf5-d96f0ae77a83",
   "metadata": {
    "tags": []
   },
   "outputs": [
    {
     "name": "stdout",
     "output_type": "stream",
     "text": [
      "Collecting git+https://github.com/haotian-liu/LLaVA.git@v1.1.1 (from -r requirements.txt (line 2))\n",
      "  Cloning https://github.com/haotian-liu/LLaVA.git (to revision v1.1.1) to /tmp/pip-req-build-8vw5rxsr\n",
      "  Running command git clone --filter=blob:none --quiet https://github.com/haotian-liu/LLaVA.git /tmp/pip-req-build-8vw5rxsr\n",
      "  Running command git checkout -q 1619889c712e347be1cb4f78ec66e7cf414ac1a6\n",
      "  Resolved https://github.com/haotian-liu/LLaVA.git to commit 1619889c712e347be1cb4f78ec66e7cf414ac1a6\n",
      "  Installing build dependencies ... \u001b[?25ldone\n",
      "\u001b[?25h  Getting requirements to build wheel ... \u001b[?25ldone\n",
      "\u001b[?25h  Installing backend dependencies ... \u001b[?25ldone\n",
      "\u001b[?25h  Preparing metadata (pyproject.toml) ... \u001b[?25ldone\n",
      "\u001b[?25hRequirement already satisfied: huggingface-hub==0.19.4 in /home/ec2-user/anaconda3/envs/python3/lib/python3.10/site-packages (from -r requirements.txt (line 3)) (0.19.4)\n",
      "Requirement already satisfied: sagemaker==2.199.0 in /home/ec2-user/anaconda3/envs/python3/lib/python3.10/site-packages (from -r requirements.txt (line 4)) (2.199.0)\n",
      "Requirement already satisfied: pypdfium2==4.24.0 in /home/ec2-user/anaconda3/envs/python3/lib/python3.10/site-packages (from -r requirements.txt (line 5)) (4.24.0)\n",
      "Requirement already satisfied: httplib2==0.19.0 in /home/ec2-user/anaconda3/envs/python3/lib/python3.10/site-packages (from -r requirements.txt (line 6)) (0.19.0)\n",
      "Requirement already satisfied: langchain==0.0.340 in /home/ec2-user/anaconda3/envs/python3/lib/python3.10/site-packages (from -r requirements.txt (line 7)) (0.0.340)\n",
      "Requirement already satisfied: requests==2.31.0 in /home/ec2-user/anaconda3/envs/python3/lib/python3.10/site-packages (from -r requirements.txt (line 8)) (2.31.0)\n",
      "Requirement already satisfied: pandas==1.5.3 in /home/ec2-user/anaconda3/envs/python3/lib/python3.10/site-packages (from -r requirements.txt (line 9)) (1.5.3)\n",
      "Requirement already satisfied: boto3==1.34.0 in /home/ec2-user/anaconda3/envs/python3/lib/python3.10/site-packages (from -r requirements.txt (line 10)) (1.34.0)\n",
      "Requirement already satisfied: botocore==1.34.0 in /home/ec2-user/anaconda3/envs/python3/lib/python3.10/site-packages (from -r requirements.txt (line 11)) (1.34.0)\n",
      "Requirement already satisfied: opensearch-py==2.4.2 in /home/ec2-user/anaconda3/envs/python3/lib/python3.10/site-packages (from -r requirements.txt (line 12)) (2.4.2)\n",
      "Requirement already satisfied: numexpr==2.8.0 in /home/ec2-user/anaconda3/envs/python3/lib/python3.10/site-packages (from -r requirements.txt (line 13)) (2.8.0)\n",
      "Requirement already satisfied: packaging>=22.0 in /home/ec2-user/anaconda3/envs/python3/lib/python3.10/site-packages (from -r requirements.txt (line 14)) (23.2)\n",
      "Requirement already satisfied: docutils in /home/ec2-user/anaconda3/envs/python3/lib/python3.10/site-packages (from -r requirements.txt (line 15)) (0.16)\n",
      "Requirement already satisfied: requests-auth-aws-sigv4 in /home/ec2-user/anaconda3/envs/python3/lib/python3.10/site-packages (from -r requirements.txt (line 17)) (0.7)\n",
      "Requirement already satisfied: filelock in /home/ec2-user/anaconda3/envs/python3/lib/python3.10/site-packages (from huggingface-hub==0.19.4->-r requirements.txt (line 3)) (3.12.4)\n",
      "Requirement already satisfied: fsspec>=2023.5.0 in /home/ec2-user/anaconda3/envs/python3/lib/python3.10/site-packages (from huggingface-hub==0.19.4->-r requirements.txt (line 3)) (2023.10.0)\n",
      "Requirement already satisfied: tqdm>=4.42.1 in /home/ec2-user/anaconda3/envs/python3/lib/python3.10/site-packages (from huggingface-hub==0.19.4->-r requirements.txt (line 3)) (4.66.1)\n",
      "Requirement already satisfied: pyyaml>=5.1 in /home/ec2-user/anaconda3/envs/python3/lib/python3.10/site-packages (from huggingface-hub==0.19.4->-r requirements.txt (line 3)) (6.0.1)\n",
      "Requirement already satisfied: typing-extensions>=3.7.4.3 in /home/ec2-user/anaconda3/envs/python3/lib/python3.10/site-packages (from huggingface-hub==0.19.4->-r requirements.txt (line 3)) (4.8.0)\n",
      "Requirement already satisfied: attrs<24,>=23.1.0 in /home/ec2-user/anaconda3/envs/python3/lib/python3.10/site-packages (from sagemaker==2.199.0->-r requirements.txt (line 4)) (23.1.0)\n",
      "Requirement already satisfied: cloudpickle==2.2.1 in /home/ec2-user/anaconda3/envs/python3/lib/python3.10/site-packages (from sagemaker==2.199.0->-r requirements.txt (line 4)) (2.2.1)\n",
      "Requirement already satisfied: google-pasta in /home/ec2-user/anaconda3/envs/python3/lib/python3.10/site-packages (from sagemaker==2.199.0->-r requirements.txt (line 4)) (0.2.0)\n",
      "Requirement already satisfied: numpy<2.0,>=1.9.0 in /home/ec2-user/anaconda3/envs/python3/lib/python3.10/site-packages (from sagemaker==2.199.0->-r requirements.txt (line 4)) (1.22.4)\n",
      "Requirement already satisfied: protobuf<5.0,>=3.12 in /home/ec2-user/anaconda3/envs/python3/lib/python3.10/site-packages (from sagemaker==2.199.0->-r requirements.txt (line 4)) (4.25.3)\n",
      "Requirement already satisfied: smdebug-rulesconfig==1.0.1 in /home/ec2-user/anaconda3/envs/python3/lib/python3.10/site-packages (from sagemaker==2.199.0->-r requirements.txt (line 4)) (1.0.1)\n",
      "Requirement already satisfied: importlib-metadata<7.0,>=1.4.0 in /home/ec2-user/anaconda3/envs/python3/lib/python3.10/site-packages (from sagemaker==2.199.0->-r requirements.txt (line 4)) (6.8.0)\n",
      "Requirement already satisfied: pathos in /home/ec2-user/anaconda3/envs/python3/lib/python3.10/site-packages (from sagemaker==2.199.0->-r requirements.txt (line 4)) (0.3.2)\n",
      "Requirement already satisfied: schema in /home/ec2-user/anaconda3/envs/python3/lib/python3.10/site-packages (from sagemaker==2.199.0->-r requirements.txt (line 4)) (0.7.5)\n",
      "Requirement already satisfied: jsonschema in /home/ec2-user/anaconda3/envs/python3/lib/python3.10/site-packages (from sagemaker==2.199.0->-r requirements.txt (line 4)) (4.19.1)\n",
      "Requirement already satisfied: platformdirs in /home/ec2-user/anaconda3/envs/python3/lib/python3.10/site-packages (from sagemaker==2.199.0->-r requirements.txt (line 4)) (3.11.0)\n",
      "Requirement already satisfied: tblib==1.7.0 in /home/ec2-user/anaconda3/envs/python3/lib/python3.10/site-packages (from sagemaker==2.199.0->-r requirements.txt (line 4)) (1.7.0)\n",
      "Requirement already satisfied: urllib3<1.27 in /home/ec2-user/anaconda3/envs/python3/lib/python3.10/site-packages (from sagemaker==2.199.0->-r requirements.txt (line 4)) (1.26.18)\n",
      "Requirement already satisfied: uvicorn==0.22.0 in /home/ec2-user/anaconda3/envs/python3/lib/python3.10/site-packages (from sagemaker==2.199.0->-r requirements.txt (line 4)) (0.22.0)\n",
      "Requirement already satisfied: fastapi==0.95.2 in /home/ec2-user/anaconda3/envs/python3/lib/python3.10/site-packages (from sagemaker==2.199.0->-r requirements.txt (line 4)) (0.95.2)\n",
      "Requirement already satisfied: docker in /home/ec2-user/anaconda3/envs/python3/lib/python3.10/site-packages (from sagemaker==2.199.0->-r requirements.txt (line 4)) (6.1.3)\n",
      "Requirement already satisfied: psutil in /home/ec2-user/anaconda3/envs/python3/lib/python3.10/site-packages (from sagemaker==2.199.0->-r requirements.txt (line 4)) (5.9.5)\n",
      "Requirement already satisfied: pyparsing<3,>=2.4.2 in /home/ec2-user/anaconda3/envs/python3/lib/python3.10/site-packages (from httplib2==0.19.0->-r requirements.txt (line 6)) (2.4.7)\n",
      "Requirement already satisfied: SQLAlchemy<3,>=1.4 in /home/ec2-user/anaconda3/envs/python3/lib/python3.10/site-packages (from langchain==0.0.340->-r requirements.txt (line 7)) (2.0.22)\n",
      "Requirement already satisfied: aiohttp<4.0.0,>=3.8.3 in /home/ec2-user/anaconda3/envs/python3/lib/python3.10/site-packages (from langchain==0.0.340->-r requirements.txt (line 7)) (3.8.6)\n",
      "Requirement already satisfied: anyio<4.0 in /home/ec2-user/anaconda3/envs/python3/lib/python3.10/site-packages (from langchain==0.0.340->-r requirements.txt (line 7)) (3.7.1)\n",
      "Requirement already satisfied: async-timeout<5.0.0,>=4.0.0 in /home/ec2-user/anaconda3/envs/python3/lib/python3.10/site-packages (from langchain==0.0.340->-r requirements.txt (line 7)) (4.0.3)\n",
      "Requirement already satisfied: dataclasses-json<0.7,>=0.5.7 in /home/ec2-user/anaconda3/envs/python3/lib/python3.10/site-packages (from langchain==0.0.340->-r requirements.txt (line 7)) (0.6.4)\n",
      "Requirement already satisfied: jsonpatch<2.0,>=1.33 in /home/ec2-user/anaconda3/envs/python3/lib/python3.10/site-packages (from langchain==0.0.340->-r requirements.txt (line 7)) (1.33)\n",
      "Requirement already satisfied: langsmith<0.1.0,>=0.0.63 in /home/ec2-user/anaconda3/envs/python3/lib/python3.10/site-packages (from langchain==0.0.340->-r requirements.txt (line 7)) (0.0.92)\n",
      "Requirement already satisfied: pydantic<3,>=1 in /home/ec2-user/anaconda3/envs/python3/lib/python3.10/site-packages (from langchain==0.0.340->-r requirements.txt (line 7)) (1.10.14)\n",
      "Requirement already satisfied: tenacity<9.0.0,>=8.1.0 in /home/ec2-user/anaconda3/envs/python3/lib/python3.10/site-packages (from langchain==0.0.340->-r requirements.txt (line 7)) (8.2.3)\n",
      "Requirement already satisfied: charset-normalizer<4,>=2 in /home/ec2-user/anaconda3/envs/python3/lib/python3.10/site-packages (from requests==2.31.0->-r requirements.txt (line 8)) (3.3.1)\n",
      "Requirement already satisfied: idna<4,>=2.5 in /home/ec2-user/anaconda3/envs/python3/lib/python3.10/site-packages (from requests==2.31.0->-r requirements.txt (line 8)) (3.4)\n",
      "Requirement already satisfied: certifi>=2017.4.17 in /home/ec2-user/anaconda3/envs/python3/lib/python3.10/site-packages (from requests==2.31.0->-r requirements.txt (line 8)) (2023.7.22)\n",
      "Requirement already satisfied: python-dateutil>=2.8.1 in /home/ec2-user/anaconda3/envs/python3/lib/python3.10/site-packages (from pandas==1.5.3->-r requirements.txt (line 9)) (2.8.2)\n",
      "Requirement already satisfied: pytz>=2020.1 in /home/ec2-user/anaconda3/envs/python3/lib/python3.10/site-packages (from pandas==1.5.3->-r requirements.txt (line 9)) (2023.3.post1)\n",
      "Requirement already satisfied: jmespath<2.0.0,>=0.7.1 in /home/ec2-user/anaconda3/envs/python3/lib/python3.10/site-packages (from boto3==1.34.0->-r requirements.txt (line 10)) (1.0.1)\n",
      "Requirement already satisfied: s3transfer<0.10.0,>=0.9.0 in /home/ec2-user/anaconda3/envs/python3/lib/python3.10/site-packages (from boto3==1.34.0->-r requirements.txt (line 10)) (0.9.0)\n",
      "Requirement already satisfied: six in /home/ec2-user/anaconda3/envs/python3/lib/python3.10/site-packages (from opensearch-py==2.4.2->-r requirements.txt (line 12)) (1.16.0)\n",
      "Requirement already satisfied: starlette<0.28.0,>=0.27.0 in /home/ec2-user/anaconda3/envs/python3/lib/python3.10/site-packages (from fastapi==0.95.2->sagemaker==2.199.0->-r requirements.txt (line 4)) (0.27.0)\n",
      "Requirement already satisfied: click>=7.0 in /home/ec2-user/anaconda3/envs/python3/lib/python3.10/site-packages (from uvicorn==0.22.0->sagemaker==2.199.0->-r requirements.txt (line 4)) (8.1.7)\n",
      "Requirement already satisfied: h11>=0.8 in /home/ec2-user/anaconda3/envs/python3/lib/python3.10/site-packages (from uvicorn==0.22.0->sagemaker==2.199.0->-r requirements.txt (line 4)) (0.14.0)\n",
      "Requirement already satisfied: einops in /home/ec2-user/anaconda3/envs/python3/lib/python3.10/site-packages (from llava==1.1.1->-r requirements.txt (line 2)) (0.6.1)\n",
      "Requirement already satisfied: gradio==3.35.2 in /home/ec2-user/anaconda3/envs/python3/lib/python3.10/site-packages (from llava==1.1.1->-r requirements.txt (line 2)) (3.35.2)\n",
      "Requirement already satisfied: markdown2[all] in /home/ec2-user/anaconda3/envs/python3/lib/python3.10/site-packages (from llava==1.1.1->-r requirements.txt (line 2)) (2.4.13)\n",
      "Requirement already satisfied: sentencepiece in /home/ec2-user/anaconda3/envs/python3/lib/python3.10/site-packages (from llava==1.1.1->-r requirements.txt (line 2)) (0.1.99)\n",
      "Requirement already satisfied: tokenizers>=0.12.1 in /home/ec2-user/anaconda3/envs/python3/lib/python3.10/site-packages (from llava==1.1.1->-r requirements.txt (line 2)) (0.13.3)\n",
      "Requirement already satisfied: torch==2.0.1 in /home/ec2-user/anaconda3/envs/python3/lib/python3.10/site-packages (from llava==1.1.1->-r requirements.txt (line 2)) (2.0.1)\n",
      "Requirement already satisfied: torchvision==0.15.2 in /home/ec2-user/anaconda3/envs/python3/lib/python3.10/site-packages (from llava==1.1.1->-r requirements.txt (line 2)) (0.15.2)\n",
      "Requirement already satisfied: wandb in /home/ec2-user/anaconda3/envs/python3/lib/python3.10/site-packages (from llava==1.1.1->-r requirements.txt (line 2)) (0.16.3)\n",
      "Requirement already satisfied: shortuuid in /home/ec2-user/anaconda3/envs/python3/lib/python3.10/site-packages (from llava==1.1.1->-r requirements.txt (line 2)) (1.0.12)\n",
      "Requirement already satisfied: httpx==0.24.0 in /home/ec2-user/anaconda3/envs/python3/lib/python3.10/site-packages (from llava==1.1.1->-r requirements.txt (line 2)) (0.24.0)\n",
      "Requirement already satisfied: deepspeed==0.9.5 in /home/ec2-user/anaconda3/envs/python3/lib/python3.10/site-packages (from llava==1.1.1->-r requirements.txt (line 2)) (0.9.5)\n",
      "Requirement already satisfied: peft==0.4.0 in /home/ec2-user/anaconda3/envs/python3/lib/python3.10/site-packages (from llava==1.1.1->-r requirements.txt (line 2)) (0.4.0)\n",
      "Requirement already satisfied: transformers==4.31.0 in /home/ec2-user/anaconda3/envs/python3/lib/python3.10/site-packages (from llava==1.1.1->-r requirements.txt (line 2)) (4.31.0)\n",
      "Requirement already satisfied: accelerate==0.21.0 in /home/ec2-user/anaconda3/envs/python3/lib/python3.10/site-packages (from llava==1.1.1->-r requirements.txt (line 2)) (0.21.0)\n",
      "Requirement already satisfied: bitsandbytes==0.41.0 in /home/ec2-user/anaconda3/envs/python3/lib/python3.10/site-packages (from llava==1.1.1->-r requirements.txt (line 2)) (0.41.0)\n",
      "Requirement already satisfied: scikit-learn==1.2.2 in /home/ec2-user/anaconda3/envs/python3/lib/python3.10/site-packages (from llava==1.1.1->-r requirements.txt (line 2)) (1.2.2)\n",
      "Requirement already satisfied: einops-exts==0.0.4 in /home/ec2-user/anaconda3/envs/python3/lib/python3.10/site-packages (from llava==1.1.1->-r requirements.txt (line 2)) (0.0.4)\n",
      "Requirement already satisfied: timm==0.6.13 in /home/ec2-user/anaconda3/envs/python3/lib/python3.10/site-packages (from llava==1.1.1->-r requirements.txt (line 2)) (0.6.13)\n",
      "Requirement already satisfied: gradio-client==0.2.9 in /home/ec2-user/anaconda3/envs/python3/lib/python3.10/site-packages (from llava==1.1.1->-r requirements.txt (line 2)) (0.2.9)\n",
      "Requirement already satisfied: hjson in /home/ec2-user/anaconda3/envs/python3/lib/python3.10/site-packages (from deepspeed==0.9.5->llava==1.1.1->-r requirements.txt (line 2)) (3.1.0)\n",
      "Requirement already satisfied: ninja in /home/ec2-user/anaconda3/envs/python3/lib/python3.10/site-packages (from deepspeed==0.9.5->llava==1.1.1->-r requirements.txt (line 2)) (1.11.1.1)\n",
      "Requirement already satisfied: py-cpuinfo in /home/ec2-user/anaconda3/envs/python3/lib/python3.10/site-packages (from deepspeed==0.9.5->llava==1.1.1->-r requirements.txt (line 2)) (9.0.0)\n",
      "Requirement already satisfied: aiofiles in /home/ec2-user/anaconda3/envs/python3/lib/python3.10/site-packages (from gradio==3.35.2->llava==1.1.1->-r requirements.txt (line 2)) (23.2.1)\n",
      "Requirement already satisfied: altair>=4.2.0 in /home/ec2-user/anaconda3/envs/python3/lib/python3.10/site-packages (from gradio==3.35.2->llava==1.1.1->-r requirements.txt (line 2)) (5.2.0)\n",
      "Requirement already satisfied: ffmpy in /home/ec2-user/anaconda3/envs/python3/lib/python3.10/site-packages (from gradio==3.35.2->llava==1.1.1->-r requirements.txt (line 2)) (0.3.2)\n",
      "Requirement already satisfied: jinja2 in /home/ec2-user/anaconda3/envs/python3/lib/python3.10/site-packages (from gradio==3.35.2->llava==1.1.1->-r requirements.txt (line 2)) (3.1.2)\n",
      "Requirement already satisfied: markdown-it-py>=2.0.0 in /home/ec2-user/anaconda3/envs/python3/lib/python3.10/site-packages (from markdown-it-py[linkify]>=2.0.0->gradio==3.35.2->llava==1.1.1->-r requirements.txt (line 2)) (2.2.0)\n",
      "Requirement already satisfied: markupsafe in /home/ec2-user/anaconda3/envs/python3/lib/python3.10/site-packages (from gradio==3.35.2->llava==1.1.1->-r requirements.txt (line 2)) (2.1.3)\n",
      "Requirement already satisfied: matplotlib in /home/ec2-user/anaconda3/envs/python3/lib/python3.10/site-packages (from gradio==3.35.2->llava==1.1.1->-r requirements.txt (line 2)) (3.8.0)\n",
      "Requirement already satisfied: mdit-py-plugins<=0.3.3 in /home/ec2-user/anaconda3/envs/python3/lib/python3.10/site-packages (from gradio==3.35.2->llava==1.1.1->-r requirements.txt (line 2)) (0.3.3)\n",
      "Requirement already satisfied: orjson in /home/ec2-user/anaconda3/envs/python3/lib/python3.10/site-packages (from gradio==3.35.2->llava==1.1.1->-r requirements.txt (line 2)) (3.9.15)\n",
      "Requirement already satisfied: pillow in /home/ec2-user/anaconda3/envs/python3/lib/python3.10/site-packages (from gradio==3.35.2->llava==1.1.1->-r requirements.txt (line 2)) (10.0.1)\n",
      "Requirement already satisfied: pydub in /home/ec2-user/anaconda3/envs/python3/lib/python3.10/site-packages (from gradio==3.35.2->llava==1.1.1->-r requirements.txt (line 2)) (0.25.1)\n",
      "Requirement already satisfied: pygments>=2.12.0 in /home/ec2-user/anaconda3/envs/python3/lib/python3.10/site-packages (from gradio==3.35.2->llava==1.1.1->-r requirements.txt (line 2)) (2.16.1)\n",
      "Requirement already satisfied: python-multipart in /home/ec2-user/anaconda3/envs/python3/lib/python3.10/site-packages (from gradio==3.35.2->llava==1.1.1->-r requirements.txt (line 2)) (0.0.9)\n",
      "Requirement already satisfied: semantic-version in /home/ec2-user/anaconda3/envs/python3/lib/python3.10/site-packages (from gradio==3.35.2->llava==1.1.1->-r requirements.txt (line 2)) (2.10.0)\n",
      "Requirement already satisfied: websockets>=10.0 in /home/ec2-user/anaconda3/envs/python3/lib/python3.10/site-packages (from gradio==3.35.2->llava==1.1.1->-r requirements.txt (line 2)) (12.0)\n",
      "Requirement already satisfied: httpcore<0.18.0,>=0.15.0 in /home/ec2-user/anaconda3/envs/python3/lib/python3.10/site-packages (from httpx==0.24.0->llava==1.1.1->-r requirements.txt (line 2)) (0.17.3)\n",
      "Requirement already satisfied: sniffio in /home/ec2-user/anaconda3/envs/python3/lib/python3.10/site-packages (from httpx==0.24.0->llava==1.1.1->-r requirements.txt (line 2)) (1.3.0)\n",
      "Requirement already satisfied: safetensors in /home/ec2-user/anaconda3/envs/python3/lib/python3.10/site-packages (from peft==0.4.0->llava==1.1.1->-r requirements.txt (line 2)) (0.4.2)\n",
      "Requirement already satisfied: scipy>=1.3.2 in /home/ec2-user/anaconda3/envs/python3/lib/python3.10/site-packages (from scikit-learn==1.2.2->llava==1.1.1->-r requirements.txt (line 2)) (1.11.3)\n",
      "Requirement already satisfied: joblib>=1.1.1 in /home/ec2-user/anaconda3/envs/python3/lib/python3.10/site-packages (from scikit-learn==1.2.2->llava==1.1.1->-r requirements.txt (line 2)) (1.3.2)\n",
      "Requirement already satisfied: threadpoolctl>=2.0.0 in /home/ec2-user/anaconda3/envs/python3/lib/python3.10/site-packages (from scikit-learn==1.2.2->llava==1.1.1->-r requirements.txt (line 2)) (3.2.0)\n",
      "Requirement already satisfied: sympy in /home/ec2-user/anaconda3/envs/python3/lib/python3.10/site-packages (from torch==2.0.1->llava==1.1.1->-r requirements.txt (line 2)) (1.12)\n",
      "Requirement already satisfied: networkx in /home/ec2-user/anaconda3/envs/python3/lib/python3.10/site-packages (from torch==2.0.1->llava==1.1.1->-r requirements.txt (line 2)) (3.2)\n",
      "Requirement already satisfied: nvidia-cuda-nvrtc-cu11==11.7.99 in /home/ec2-user/anaconda3/envs/python3/lib/python3.10/site-packages (from torch==2.0.1->llava==1.1.1->-r requirements.txt (line 2)) (11.7.99)\n",
      "Requirement already satisfied: nvidia-cuda-runtime-cu11==11.7.99 in /home/ec2-user/anaconda3/envs/python3/lib/python3.10/site-packages (from torch==2.0.1->llava==1.1.1->-r requirements.txt (line 2)) (11.7.99)\n",
      "Requirement already satisfied: nvidia-cuda-cupti-cu11==11.7.101 in /home/ec2-user/anaconda3/envs/python3/lib/python3.10/site-packages (from torch==2.0.1->llava==1.1.1->-r requirements.txt (line 2)) (11.7.101)\n",
      "Requirement already satisfied: nvidia-cudnn-cu11==8.5.0.96 in /home/ec2-user/anaconda3/envs/python3/lib/python3.10/site-packages (from torch==2.0.1->llava==1.1.1->-r requirements.txt (line 2)) (8.5.0.96)\n",
      "Requirement already satisfied: nvidia-cublas-cu11==11.10.3.66 in /home/ec2-user/anaconda3/envs/python3/lib/python3.10/site-packages (from torch==2.0.1->llava==1.1.1->-r requirements.txt (line 2)) (11.10.3.66)\n",
      "Requirement already satisfied: nvidia-cufft-cu11==10.9.0.58 in /home/ec2-user/anaconda3/envs/python3/lib/python3.10/site-packages (from torch==2.0.1->llava==1.1.1->-r requirements.txt (line 2)) (10.9.0.58)\n",
      "Requirement already satisfied: nvidia-curand-cu11==10.2.10.91 in /home/ec2-user/anaconda3/envs/python3/lib/python3.10/site-packages (from torch==2.0.1->llava==1.1.1->-r requirements.txt (line 2)) (10.2.10.91)\n",
      "Requirement already satisfied: nvidia-cusolver-cu11==11.4.0.1 in /home/ec2-user/anaconda3/envs/python3/lib/python3.10/site-packages (from torch==2.0.1->llava==1.1.1->-r requirements.txt (line 2)) (11.4.0.1)\n",
      "Requirement already satisfied: nvidia-cusparse-cu11==11.7.4.91 in /home/ec2-user/anaconda3/envs/python3/lib/python3.10/site-packages (from torch==2.0.1->llava==1.1.1->-r requirements.txt (line 2)) (11.7.4.91)\n",
      "Requirement already satisfied: nvidia-nccl-cu11==2.14.3 in /home/ec2-user/anaconda3/envs/python3/lib/python3.10/site-packages (from torch==2.0.1->llava==1.1.1->-r requirements.txt (line 2)) (2.14.3)\n",
      "Requirement already satisfied: nvidia-nvtx-cu11==11.7.91 in /home/ec2-user/anaconda3/envs/python3/lib/python3.10/site-packages (from torch==2.0.1->llava==1.1.1->-r requirements.txt (line 2)) (11.7.91)\n",
      "Requirement already satisfied: triton==2.0.0 in /home/ec2-user/anaconda3/envs/python3/lib/python3.10/site-packages (from torch==2.0.1->llava==1.1.1->-r requirements.txt (line 2)) (2.0.0)\n",
      "Requirement already satisfied: regex!=2019.12.17 in /home/ec2-user/anaconda3/envs/python3/lib/python3.10/site-packages (from transformers==4.31.0->llava==1.1.1->-r requirements.txt (line 2)) (2023.10.3)\n",
      "Requirement already satisfied: setuptools in /home/ec2-user/anaconda3/envs/python3/lib/python3.10/site-packages (from nvidia-cublas-cu11==11.10.3.66->torch==2.0.1->llava==1.1.1->-r requirements.txt (line 2)) (68.2.2)\n",
      "Requirement already satisfied: wheel in /home/ec2-user/anaconda3/envs/python3/lib/python3.10/site-packages (from nvidia-cublas-cu11==11.10.3.66->torch==2.0.1->llava==1.1.1->-r requirements.txt (line 2)) (0.41.2)\n",
      "Requirement already satisfied: cmake in /home/ec2-user/anaconda3/envs/python3/lib/python3.10/site-packages (from triton==2.0.0->torch==2.0.1->llava==1.1.1->-r requirements.txt (line 2)) (3.28.3)\n",
      "Requirement already satisfied: lit in /home/ec2-user/anaconda3/envs/python3/lib/python3.10/site-packages (from triton==2.0.0->torch==2.0.1->llava==1.1.1->-r requirements.txt (line 2)) (17.0.6)\n",
      "Requirement already satisfied: multidict<7.0,>=4.5 in /home/ec2-user/anaconda3/envs/python3/lib/python3.10/site-packages (from aiohttp<4.0.0,>=3.8.3->langchain==0.0.340->-r requirements.txt (line 7)) (6.0.4)\n",
      "Requirement already satisfied: yarl<2.0,>=1.0 in /home/ec2-user/anaconda3/envs/python3/lib/python3.10/site-packages (from aiohttp<4.0.0,>=3.8.3->langchain==0.0.340->-r requirements.txt (line 7)) (1.9.2)\n",
      "Requirement already satisfied: frozenlist>=1.1.1 in /home/ec2-user/anaconda3/envs/python3/lib/python3.10/site-packages (from aiohttp<4.0.0,>=3.8.3->langchain==0.0.340->-r requirements.txt (line 7)) (1.4.0)\n",
      "Requirement already satisfied: aiosignal>=1.1.2 in /home/ec2-user/anaconda3/envs/python3/lib/python3.10/site-packages (from aiohttp<4.0.0,>=3.8.3->langchain==0.0.340->-r requirements.txt (line 7)) (1.3.1)\n",
      "Requirement already satisfied: exceptiongroup in /home/ec2-user/anaconda3/envs/python3/lib/python3.10/site-packages (from anyio<4.0->langchain==0.0.340->-r requirements.txt (line 7)) (1.1.3)\n",
      "Requirement already satisfied: marshmallow<4.0.0,>=3.18.0 in /home/ec2-user/anaconda3/envs/python3/lib/python3.10/site-packages (from dataclasses-json<0.7,>=0.5.7->langchain==0.0.340->-r requirements.txt (line 7)) (3.21.0)\n",
      "Requirement already satisfied: typing-inspect<1,>=0.4.0 in /home/ec2-user/anaconda3/envs/python3/lib/python3.10/site-packages (from dataclasses-json<0.7,>=0.5.7->langchain==0.0.340->-r requirements.txt (line 7)) (0.9.0)\n",
      "Requirement already satisfied: zipp>=0.5 in /home/ec2-user/anaconda3/envs/python3/lib/python3.10/site-packages (from importlib-metadata<7.0,>=1.4.0->sagemaker==2.199.0->-r requirements.txt (line 4)) (3.17.0)\n",
      "Requirement already satisfied: jsonpointer>=1.9 in /home/ec2-user/anaconda3/envs/python3/lib/python3.10/site-packages (from jsonpatch<2.0,>=1.33->langchain==0.0.340->-r requirements.txt (line 7)) (2.4)\n",
      "Requirement already satisfied: greenlet!=0.4.17 in /home/ec2-user/anaconda3/envs/python3/lib/python3.10/site-packages (from SQLAlchemy<3,>=1.4->langchain==0.0.340->-r requirements.txt (line 7)) (3.0.1)\n",
      "Requirement already satisfied: websocket-client>=0.32.0 in /home/ec2-user/anaconda3/envs/python3/lib/python3.10/site-packages (from docker->sagemaker==2.199.0->-r requirements.txt (line 4)) (1.6.4)\n",
      "Requirement already satisfied: jsonschema-specifications>=2023.03.6 in /home/ec2-user/anaconda3/envs/python3/lib/python3.10/site-packages (from jsonschema->sagemaker==2.199.0->-r requirements.txt (line 4)) (2023.7.1)\n",
      "Requirement already satisfied: referencing>=0.28.4 in /home/ec2-user/anaconda3/envs/python3/lib/python3.10/site-packages (from jsonschema->sagemaker==2.199.0->-r requirements.txt (line 4)) (0.30.2)\n",
      "Requirement already satisfied: rpds-py>=0.7.1 in /home/ec2-user/anaconda3/envs/python3/lib/python3.10/site-packages (from jsonschema->sagemaker==2.199.0->-r requirements.txt (line 4)) (0.10.6)\n",
      "Requirement already satisfied: wavedrom in /home/ec2-user/anaconda3/envs/python3/lib/python3.10/site-packages (from markdown2[all]->llava==1.1.1->-r requirements.txt (line 2)) (2.0.3.post3)\n",
      "Requirement already satisfied: ppft>=1.7.6.8 in /home/ec2-user/anaconda3/envs/python3/lib/python3.10/site-packages (from pathos->sagemaker==2.199.0->-r requirements.txt (line 4)) (1.7.6.8)\n",
      "Requirement already satisfied: dill>=0.3.8 in /home/ec2-user/anaconda3/envs/python3/lib/python3.10/site-packages (from pathos->sagemaker==2.199.0->-r requirements.txt (line 4)) (0.3.8)\n",
      "Requirement already satisfied: pox>=0.3.4 in /home/ec2-user/anaconda3/envs/python3/lib/python3.10/site-packages (from pathos->sagemaker==2.199.0->-r requirements.txt (line 4)) (0.3.4)\n",
      "Requirement already satisfied: multiprocess>=0.70.16 in /home/ec2-user/anaconda3/envs/python3/lib/python3.10/site-packages (from pathos->sagemaker==2.199.0->-r requirements.txt (line 4)) (0.70.16)\n",
      "Requirement already satisfied: contextlib2>=0.5.5 in /home/ec2-user/anaconda3/envs/python3/lib/python3.10/site-packages (from schema->sagemaker==2.199.0->-r requirements.txt (line 4)) (21.6.0)\n",
      "Requirement already satisfied: GitPython!=3.1.29,>=1.0.0 in /home/ec2-user/anaconda3/envs/python3/lib/python3.10/site-packages (from wandb->llava==1.1.1->-r requirements.txt (line 2)) (3.1.42)\n",
      "Requirement already satisfied: sentry-sdk>=1.0.0 in /home/ec2-user/anaconda3/envs/python3/lib/python3.10/site-packages (from wandb->llava==1.1.1->-r requirements.txt (line 2)) (1.40.6)\n",
      "Requirement already satisfied: docker-pycreds>=0.4.0 in /home/ec2-user/anaconda3/envs/python3/lib/python3.10/site-packages (from wandb->llava==1.1.1->-r requirements.txt (line 2)) (0.4.0)\n",
      "Requirement already satisfied: setproctitle in /home/ec2-user/anaconda3/envs/python3/lib/python3.10/site-packages (from wandb->llava==1.1.1->-r requirements.txt (line 2)) (1.3.3)\n",
      "Requirement already satisfied: appdirs>=1.4.3 in /home/ec2-user/anaconda3/envs/python3/lib/python3.10/site-packages (from wandb->llava==1.1.1->-r requirements.txt (line 2)) (1.4.4)\n",
      "Requirement already satisfied: toolz in /home/ec2-user/anaconda3/envs/python3/lib/python3.10/site-packages (from altair>=4.2.0->gradio==3.35.2->llava==1.1.1->-r requirements.txt (line 2)) (0.12.0)\n",
      "Requirement already satisfied: gitdb<5,>=4.0.1 in /home/ec2-user/anaconda3/envs/python3/lib/python3.10/site-packages (from GitPython!=3.1.29,>=1.0.0->wandb->llava==1.1.1->-r requirements.txt (line 2)) (4.0.11)\n",
      "Requirement already satisfied: mdurl~=0.1 in /home/ec2-user/anaconda3/envs/python3/lib/python3.10/site-packages (from markdown-it-py>=2.0.0->markdown-it-py[linkify]>=2.0.0->gradio==3.35.2->llava==1.1.1->-r requirements.txt (line 2)) (0.1.0)\n",
      "Requirement already satisfied: linkify-it-py<3,>=1 in /home/ec2-user/anaconda3/envs/python3/lib/python3.10/site-packages (from markdown-it-py[linkify]>=2.0.0->gradio==3.35.2->llava==1.1.1->-r requirements.txt (line 2)) (2.0.3)\n",
      "Requirement already satisfied: mypy-extensions>=0.3.0 in /home/ec2-user/anaconda3/envs/python3/lib/python3.10/site-packages (from typing-inspect<1,>=0.4.0->dataclasses-json<0.7,>=0.5.7->langchain==0.0.340->-r requirements.txt (line 7)) (1.0.0)\n",
      "Requirement already satisfied: contourpy>=1.0.1 in /home/ec2-user/anaconda3/envs/python3/lib/python3.10/site-packages (from matplotlib->gradio==3.35.2->llava==1.1.1->-r requirements.txt (line 2)) (1.1.1)\n",
      "Requirement already satisfied: cycler>=0.10 in /home/ec2-user/anaconda3/envs/python3/lib/python3.10/site-packages (from matplotlib->gradio==3.35.2->llava==1.1.1->-r requirements.txt (line 2)) (0.12.1)\n",
      "Requirement already satisfied: fonttools>=4.22.0 in /home/ec2-user/anaconda3/envs/python3/lib/python3.10/site-packages (from matplotlib->gradio==3.35.2->llava==1.1.1->-r requirements.txt (line 2)) (4.43.1)\n",
      "Requirement already satisfied: kiwisolver>=1.0.1 in /home/ec2-user/anaconda3/envs/python3/lib/python3.10/site-packages (from matplotlib->gradio==3.35.2->llava==1.1.1->-r requirements.txt (line 2)) (1.4.5)\n",
      "Requirement already satisfied: mpmath>=0.19 in /home/ec2-user/anaconda3/envs/python3/lib/python3.10/site-packages (from sympy->torch==2.0.1->llava==1.1.1->-r requirements.txt (line 2)) (1.3.0)\n",
      "Requirement already satisfied: svgwrite in /home/ec2-user/anaconda3/envs/python3/lib/python3.10/site-packages (from wavedrom->markdown2[all]->llava==1.1.1->-r requirements.txt (line 2)) (1.4.3)\n",
      "Requirement already satisfied: smmap<6,>=3.0.1 in /home/ec2-user/anaconda3/envs/python3/lib/python3.10/site-packages (from gitdb<5,>=4.0.1->GitPython!=3.1.29,>=1.0.0->wandb->llava==1.1.1->-r requirements.txt (line 2)) (5.0.1)\n",
      "Requirement already satisfied: uc-micro-py in /home/ec2-user/anaconda3/envs/python3/lib/python3.10/site-packages (from linkify-it-py<3,>=1->markdown-it-py[linkify]>=2.0.0->gradio==3.35.2->llava==1.1.1->-r requirements.txt (line 2)) (1.0.3)\n"
     ]
    }
   ],
   "source": [
    "import sys\n",
    "!{sys.executable} -m pip install -r requirements.txt"
   ]
  },
  {
   "cell_type": "code",
   "execution_count": 2,
   "id": "42e2d0f4-7495-4f54-a5b7-3a20a4524516",
   "metadata": {
    "tags": []
   },
   "outputs": [
    {
     "name": "stdout",
     "output_type": "stream",
     "text": [
      "sagemaker.config INFO - Not applying SDK defaults from location: /etc/xdg/sagemaker/config.yaml\n",
      "sagemaker.config INFO - Not applying SDK defaults from location: /home/ec2-user/.config/sagemaker/config.yaml\n"
     ]
    }
   ],
   "source": [
    "import os\n",
    "import json\n",
    "import glob\n",
    "import boto3\n",
    "import base64\n",
    "import logging\n",
    "import sagemaker\n",
    "import globals as g\n",
    "from PIL import Image\n",
    "import requests as req\n",
    "from typing import List\n",
    "from pathlib import Path\n",
    "import pypdfium2 as pdfium\n",
    "from utils import upload_to_s3, get_bucket_name\n",
    "\n",
    "logging.basicConfig(format='[%(asctime)s] p%(process)s {%(filename)s:%(lineno)d} %(levelname)s - %(message)s', level=logging.INFO)\n",
    "logger = logging.getLogger(__name__)"
   ]
  },
  {
   "cell_type": "code",
   "execution_count": 3,
   "id": "4de5726f-55a7-4188-afa5-b4623c199ece",
   "metadata": {},
   "outputs": [],
   "source": [
    "bucket_name: str = get_bucket_name(g.CFN_STACK_NAME)"
   ]
  },
  {
   "cell_type": "markdown",
   "id": "7c372263-60c2-4f34-b43a-f6f4285781d6",
   "metadata": {
    "tags": []
   },
   "source": [
    "## Step 2. Download slide deck and convert it into images\n",
    "\n",
    "We download a publicly available slide deck and convert each slide into a `jpg` file using the [`pypdfium2`](https://pypi.org/project/pypdfium2/) package."
   ]
  },
  {
   "cell_type": "code",
   "execution_count": 4,
   "id": "b7b51e5e-946d-41f3-b8a1-b4b89a8f39b9",
   "metadata": {
    "tags": []
   },
   "outputs": [],
   "source": [
    "def get_images(file:str, image_dir:str) -> List:\n",
    "    \"\"\"\n",
    "    Get PIL images from PDF pages and save them to a specified directory\n",
    "    :param file: Path to file\n",
    "    :return: A list of PIL images\n",
    "    \"\"\"\n",
    "\n",
    "    # Get presentation\n",
    "    pdf = pdfium.PdfDocument(file)\n",
    "    n_pages = len(pdf)\n",
    "\n",
    "    # Extracting file name and creating the directory for images\n",
    "    file_name = Path(file).stem  # Gets the file name without extension\n",
    "    os.makedirs(image_dir, exist_ok=True)\n",
    "\n",
    "    # Get images\n",
    "    image_paths = []\n",
    "    print(f\"Extracting {n_pages} images for {file}\")\n",
    "    for page_number in range(n_pages):\n",
    "        page = pdf.get_page(page_number)\n",
    "        bitmap = page.render(scale=1, rotation=0, crop=(0, 0, 0, 0))\n",
    "        pil_image = bitmap.to_pil()\n",
    "        # pil_images.append(pil_image)\n",
    "\n",
    "        # Saving the image with the specified naming convention\n",
    "        image_path = os.path.join(image_dir, f\"{file_name}_image_{page_number + 1}.jpg\")\n",
    "        pil_image.save(image_path, format=\"JPEG\")\n",
    "        image_paths.append(image_path)\n",
    "\n",
    "    return image_paths"
   ]
  },
  {
   "cell_type": "markdown",
   "id": "e814fa33-b236-4962-bf4a-426ce626d8cf",
   "metadata": {},
   "source": [
    "Download a publicly available slide deck."
   ]
  },
  {
   "cell_type": "code",
   "execution_count": 5,
   "id": "01db6240-c5a6-48d6-a0d5-6056004b0bf7",
   "metadata": {
    "tags": []
   },
   "outputs": [
    {
     "name": "stderr",
     "output_type": "stream",
     "text": [
      "[2024-03-04 20:12:00,397] p28962 {4264793631.py:6} INFO - https://d1.awsstatic.com/events/Summits/torsummit2023/CMP301_TrainDeploy_E1_20230607_SPEdited.pdf downloaded successfully\n",
      "[2024-03-04 20:12:00,400] p28962 {4264793631.py:9} INFO - https://d1.awsstatic.com/events/Summits/torsummit2023/CMP301_TrainDeploy_E1_20230607_SPEdited.pdf written to CMP301_TrainDeploy_E1_20230607_SPEdited.pdf\n"
     ]
    },
    {
     "name": "stdout",
     "output_type": "stream",
     "text": [
      "https://d1.awsstatic.com/events/Summits/torsummit2023/CMP301_TrainDeploy_E1_20230607_SPEdited.pdf\n"
     ]
    }
   ],
   "source": [
    "url: str = g.SLIDE_DECK\n",
    "print(g.SLIDE_DECK)\n",
    "local_file: str = os.path.basename(url)\n",
    "r = req.get(url, allow_redirects=True)\n",
    "if r.status_code == 200:\n",
    "    logger.info(f\"{url} downloaded successfully\")\n",
    "    with open(local_file, \"wb\") as f:\n",
    "        f.write(r.content)\n",
    "    logger.info(f\"{url} written to {local_file}\")"
   ]
  },
  {
   "cell_type": "markdown",
   "id": "84fadce2-3f67-42d3-b78c-bc09a518503a",
   "metadata": {},
   "source": [
    "Extract images from the slide deck"
   ]
  },
  {
   "cell_type": "code",
   "execution_count": 6,
   "id": "534f0ea7-8d03-483c-a81f-f187493ce4c6",
   "metadata": {
    "tags": []
   },
   "outputs": [
    {
     "name": "stdout",
     "output_type": "stream",
     "text": [
      "Extracting 31 images for CMP301_TrainDeploy_E1_20230607_SPEdited.pdf\n"
     ]
    },
    {
     "name": "stderr",
     "output_type": "stream",
     "text": [
      "[2024-03-04 20:12:03,973] p28962 {2461950259.py:2} INFO - there are 31 images extracted from this slide deck CMP301_TrainDeploy_E1_20230607_SPEdited.pdf\n"
     ]
    }
   ],
   "source": [
    "images = get_images(local_file, g.IMAGE_DIR)\n",
    "logger.info(f\"there are {len(images)} images extracted from this slide deck {local_file}\")"
   ]
  },
  {
   "cell_type": "markdown",
   "id": "05fc88fa-7a83-49e0-a45f-9b1640259f56",
   "metadata": {},
   "source": [
    "## Step 3. Upload the images into Amazon S3 bucket"
   ]
  },
  {
   "cell_type": "markdown",
   "id": "53600f15-e57b-4e0a-97ab-5f96c93386a3",
   "metadata": {},
   "source": [
    "Now we upload the images into an S3 bucket. This is done for two reasons:\n",
    "1. In a production environment these images could be worked upon in parallel by a batch process.\n",
    "1. An S3 bucket (that is part of a datalake) provides a secure location for an enterprise to store these images and a multimodal model can read these image files directly from the S3 bucket."
   ]
  },
  {
   "cell_type": "code",
   "execution_count": 7,
   "id": "8efa5e75-7c5f-4128-8d6b-df788fb69c6a",
   "metadata": {
    "tags": []
   },
   "outputs": [
    {
     "name": "stderr",
     "output_type": "stream",
     "text": [
      "[2024-03-04 20:12:04,131] p28962 {utils.py:24} INFO - File img/CMP301_TrainDeploy_E1_20230607_SPEdited_image_1.jpg uploaded to multimodal-blog2-bucket-731963050968/multimodal/img/CMP301_TrainDeploy_E1_20230607_SPEdited_image_1.jpg.\n",
      "[2024-03-04 20:12:04,243] p28962 {utils.py:24} INFO - File img/CMP301_TrainDeploy_E1_20230607_SPEdited_image_2.jpg uploaded to multimodal-blog2-bucket-731963050968/multimodal/img/CMP301_TrainDeploy_E1_20230607_SPEdited_image_2.jpg.\n",
      "[2024-03-04 20:12:04,336] p28962 {utils.py:24} INFO - File img/CMP301_TrainDeploy_E1_20230607_SPEdited_image_3.jpg uploaded to multimodal-blog2-bucket-731963050968/multimodal/img/CMP301_TrainDeploy_E1_20230607_SPEdited_image_3.jpg.\n",
      "[2024-03-04 20:12:04,407] p28962 {utils.py:24} INFO - File img/CMP301_TrainDeploy_E1_20230607_SPEdited_image_4.jpg uploaded to multimodal-blog2-bucket-731963050968/multimodal/img/CMP301_TrainDeploy_E1_20230607_SPEdited_image_4.jpg.\n",
      "[2024-03-04 20:12:04,462] p28962 {utils.py:24} INFO - File img/CMP301_TrainDeploy_E1_20230607_SPEdited_image_5.jpg uploaded to multimodal-blog2-bucket-731963050968/multimodal/img/CMP301_TrainDeploy_E1_20230607_SPEdited_image_5.jpg.\n",
      "[2024-03-04 20:12:04,548] p28962 {utils.py:24} INFO - File img/CMP301_TrainDeploy_E1_20230607_SPEdited_image_6.jpg uploaded to multimodal-blog2-bucket-731963050968/multimodal/img/CMP301_TrainDeploy_E1_20230607_SPEdited_image_6.jpg.\n",
      "[2024-03-04 20:12:04,652] p28962 {utils.py:24} INFO - File img/CMP301_TrainDeploy_E1_20230607_SPEdited_image_7.jpg uploaded to multimodal-blog2-bucket-731963050968/multimodal/img/CMP301_TrainDeploy_E1_20230607_SPEdited_image_7.jpg.\n",
      "[2024-03-04 20:12:04,712] p28962 {utils.py:24} INFO - File img/CMP301_TrainDeploy_E1_20230607_SPEdited_image_8.jpg uploaded to multimodal-blog2-bucket-731963050968/multimodal/img/CMP301_TrainDeploy_E1_20230607_SPEdited_image_8.jpg.\n",
      "[2024-03-04 20:12:04,775] p28962 {utils.py:24} INFO - File img/CMP301_TrainDeploy_E1_20230607_SPEdited_image_9.jpg uploaded to multimodal-blog2-bucket-731963050968/multimodal/img/CMP301_TrainDeploy_E1_20230607_SPEdited_image_9.jpg.\n",
      "[2024-03-04 20:12:04,863] p28962 {utils.py:24} INFO - File img/CMP301_TrainDeploy_E1_20230607_SPEdited_image_10.jpg uploaded to multimodal-blog2-bucket-731963050968/multimodal/img/CMP301_TrainDeploy_E1_20230607_SPEdited_image_10.jpg.\n",
      "[2024-03-04 20:12:04,923] p28962 {utils.py:24} INFO - File img/CMP301_TrainDeploy_E1_20230607_SPEdited_image_11.jpg uploaded to multimodal-blog2-bucket-731963050968/multimodal/img/CMP301_TrainDeploy_E1_20230607_SPEdited_image_11.jpg.\n",
      "[2024-03-04 20:12:04,983] p28962 {utils.py:24} INFO - File img/CMP301_TrainDeploy_E1_20230607_SPEdited_image_12.jpg uploaded to multimodal-blog2-bucket-731963050968/multimodal/img/CMP301_TrainDeploy_E1_20230607_SPEdited_image_12.jpg.\n",
      "[2024-03-04 20:12:05,055] p28962 {utils.py:24} INFO - File img/CMP301_TrainDeploy_E1_20230607_SPEdited_image_13.jpg uploaded to multimodal-blog2-bucket-731963050968/multimodal/img/CMP301_TrainDeploy_E1_20230607_SPEdited_image_13.jpg.\n",
      "[2024-03-04 20:12:05,131] p28962 {utils.py:24} INFO - File img/CMP301_TrainDeploy_E1_20230607_SPEdited_image_14.jpg uploaded to multimodal-blog2-bucket-731963050968/multimodal/img/CMP301_TrainDeploy_E1_20230607_SPEdited_image_14.jpg.\n",
      "[2024-03-04 20:12:05,254] p28962 {utils.py:24} INFO - File img/CMP301_TrainDeploy_E1_20230607_SPEdited_image_15.jpg uploaded to multimodal-blog2-bucket-731963050968/multimodal/img/CMP301_TrainDeploy_E1_20230607_SPEdited_image_15.jpg.\n",
      "[2024-03-04 20:12:05,362] p28962 {utils.py:24} INFO - File img/CMP301_TrainDeploy_E1_20230607_SPEdited_image_16.jpg uploaded to multimodal-blog2-bucket-731963050968/multimodal/img/CMP301_TrainDeploy_E1_20230607_SPEdited_image_16.jpg.\n",
      "[2024-03-04 20:12:05,414] p28962 {utils.py:24} INFO - File img/CMP301_TrainDeploy_E1_20230607_SPEdited_image_17.jpg uploaded to multimodal-blog2-bucket-731963050968/multimodal/img/CMP301_TrainDeploy_E1_20230607_SPEdited_image_17.jpg.\n",
      "[2024-03-04 20:12:05,524] p28962 {utils.py:24} INFO - File img/CMP301_TrainDeploy_E1_20230607_SPEdited_image_18.jpg uploaded to multimodal-blog2-bucket-731963050968/multimodal/img/CMP301_TrainDeploy_E1_20230607_SPEdited_image_18.jpg.\n",
      "[2024-03-04 20:12:05,600] p28962 {utils.py:24} INFO - File img/CMP301_TrainDeploy_E1_20230607_SPEdited_image_19.jpg uploaded to multimodal-blog2-bucket-731963050968/multimodal/img/CMP301_TrainDeploy_E1_20230607_SPEdited_image_19.jpg.\n",
      "[2024-03-04 20:12:05,656] p28962 {utils.py:24} INFO - File img/CMP301_TrainDeploy_E1_20230607_SPEdited_image_20.jpg uploaded to multimodal-blog2-bucket-731963050968/multimodal/img/CMP301_TrainDeploy_E1_20230607_SPEdited_image_20.jpg.\n",
      "[2024-03-04 20:12:05,732] p28962 {utils.py:24} INFO - File img/CMP301_TrainDeploy_E1_20230607_SPEdited_image_21.jpg uploaded to multimodal-blog2-bucket-731963050968/multimodal/img/CMP301_TrainDeploy_E1_20230607_SPEdited_image_21.jpg.\n",
      "[2024-03-04 20:12:05,772] p28962 {utils.py:24} INFO - File img/CMP301_TrainDeploy_E1_20230607_SPEdited_image_22.jpg uploaded to multimodal-blog2-bucket-731963050968/multimodal/img/CMP301_TrainDeploy_E1_20230607_SPEdited_image_22.jpg.\n",
      "[2024-03-04 20:12:05,843] p28962 {utils.py:24} INFO - File img/CMP301_TrainDeploy_E1_20230607_SPEdited_image_23.jpg uploaded to multimodal-blog2-bucket-731963050968/multimodal/img/CMP301_TrainDeploy_E1_20230607_SPEdited_image_23.jpg.\n",
      "[2024-03-04 20:12:05,892] p28962 {utils.py:24} INFO - File img/CMP301_TrainDeploy_E1_20230607_SPEdited_image_24.jpg uploaded to multimodal-blog2-bucket-731963050968/multimodal/img/CMP301_TrainDeploy_E1_20230607_SPEdited_image_24.jpg.\n",
      "[2024-03-04 20:12:06,014] p28962 {utils.py:24} INFO - File img/CMP301_TrainDeploy_E1_20230607_SPEdited_image_25.jpg uploaded to multimodal-blog2-bucket-731963050968/multimodal/img/CMP301_TrainDeploy_E1_20230607_SPEdited_image_25.jpg.\n",
      "[2024-03-04 20:12:06,092] p28962 {utils.py:24} INFO - File img/CMP301_TrainDeploy_E1_20230607_SPEdited_image_26.jpg uploaded to multimodal-blog2-bucket-731963050968/multimodal/img/CMP301_TrainDeploy_E1_20230607_SPEdited_image_26.jpg.\n",
      "[2024-03-04 20:12:06,169] p28962 {utils.py:24} INFO - File img/CMP301_TrainDeploy_E1_20230607_SPEdited_image_27.jpg uploaded to multimodal-blog2-bucket-731963050968/multimodal/img/CMP301_TrainDeploy_E1_20230607_SPEdited_image_27.jpg.\n",
      "[2024-03-04 20:12:06,268] p28962 {utils.py:24} INFO - File img/CMP301_TrainDeploy_E1_20230607_SPEdited_image_28.jpg uploaded to multimodal-blog2-bucket-731963050968/multimodal/img/CMP301_TrainDeploy_E1_20230607_SPEdited_image_28.jpg.\n",
      "[2024-03-04 20:12:06,318] p28962 {utils.py:24} INFO - File img/CMP301_TrainDeploy_E1_20230607_SPEdited_image_29.jpg uploaded to multimodal-blog2-bucket-731963050968/multimodal/img/CMP301_TrainDeploy_E1_20230607_SPEdited_image_29.jpg.\n",
      "[2024-03-04 20:12:06,373] p28962 {utils.py:24} INFO - File img/CMP301_TrainDeploy_E1_20230607_SPEdited_image_30.jpg uploaded to multimodal-blog2-bucket-731963050968/multimodal/img/CMP301_TrainDeploy_E1_20230607_SPEdited_image_30.jpg.\n",
      "[2024-03-04 20:12:06,450] p28962 {utils.py:24} INFO - File img/CMP301_TrainDeploy_E1_20230607_SPEdited_image_31.jpg uploaded to multimodal-blog2-bucket-731963050968/multimodal/img/CMP301_TrainDeploy_E1_20230607_SPEdited_image_31.jpg.\n"
     ]
    }
   ],
   "source": [
    "_ = list(map(lambda img_path: upload_to_s3(img_path, bucket_name, g.BUCKET_IMG_PREFIX), images))"
   ]
  },
  {
   "cell_type": "code",
   "execution_count": null,
   "id": "b139338d-9f99-4964-b75c-aa0b487d6cf2",
   "metadata": {},
   "outputs": [],
   "source": []
  }
 ],
 "metadata": {
  "kernelspec": {
   "display_name": "conda_python3",
   "language": "python",
   "name": "conda_python3"
  },
  "language_info": {
   "codemirror_mode": {
    "name": "ipython",
    "version": 3
   },
   "file_extension": ".py",
   "mimetype": "text/x-python",
   "name": "python",
   "nbconvert_exporter": "python",
   "pygments_lexer": "ipython3",
   "version": "3.10.13"
  }
 },
 "nbformat": 4,
 "nbformat_minor": 5
}
