{
 "cells": [
  {
   "cell_type": "markdown",
   "id": "00c6eba0-3e0f-4325-a352-1763d2749055",
   "metadata": {},
   "source": [
    "# Data preparation\n",
    "\n",
    "***This notebook works best with the `conda_python3` on the `ml.t3.large` instance***.\n",
    "\n",
    "---\n",
    "\n",
    "In this notebook we download a publicly available slide deck and convert it into images, one image for each slide. These images are then stored in Amazon S3 from where they can be made available to a Amazon SageMaker Endpoint for inference.\n",
    "\n",
    "The slide deck choose is [Train and deploy Stable Diffusion using AWS Trainium & AWS Inferentia](https://d1.awsstatic.com/events/Summits/torsummit2023/CMP301_TrainDeploy_E1_20230607_SPEdited.pdf). To use a different slide deck you can update the `SLIDE_DECK` variable in [`globals.py`](./globals.py).\n"
   ]
  },
  {
   "cell_type": "markdown",
   "id": "34c37157-7d48-4422-a107-7c2ddd843747",
   "metadata": {},
   "source": [
    "## Step 1. Setup\n",
    "\n",
    "Install the required Python packages and import the relevant files."
   ]
  },
  {
   "cell_type": "code",
   "execution_count": 1,
   "id": "6605ceea-e65d-4822-bbf5-d96f0ae77a83",
   "metadata": {
    "tags": []
   },
   "outputs": [
    {
     "name": "stdout",
     "output_type": "stream",
     "text": [
      "Collecting sagemaker==2.199.0 (from -r requirements.txt (line 1))\n",
      "  Using cached sagemaker-2.199.0.tar.gz (1.0 MB)\n",
      "  Preparing metadata (setup.py) ... \u001b[?25ldone\n",
      "\u001b[?25hCollecting pypdfium2==4.24.0 (from -r requirements.txt (line 2))\n",
      "  Downloading pypdfium2-4.24.0-py3-none-manylinux_2_17_x86_64.whl.metadata (45 kB)\n",
      "\u001b[2K     \u001b[90m━━━━━━━━━━━━━━━━━━━━━━━━━━━━━━━━━━━━━━━━\u001b[0m \u001b[32m45.6/45.6 kB\u001b[0m \u001b[31m2.4 MB/s\u001b[0m eta \u001b[36m0:00:00\u001b[0m\n",
      "\u001b[?25hCollecting httplib2==0.19.0 (from -r requirements.txt (line 3))\n",
      "  Downloading httplib2-0.19.0-py3-none-any.whl.metadata (2.2 kB)\n",
      "Collecting langchain==0.0.340 (from -r requirements.txt (line 4))\n",
      "  Downloading langchain-0.0.340-py3-none-any.whl.metadata (16 kB)\n",
      "Requirement already satisfied: requests==2.31.0 in /home/ec2-user/anaconda3/envs/python3/lib/python3.10/site-packages (from -r requirements.txt (line 5)) (2.31.0)\n",
      "Collecting pandas==1.5.3 (from -r requirements.txt (line 6))\n",
      "  Downloading pandas-1.5.3-cp310-cp310-manylinux_2_17_x86_64.manylinux2014_x86_64.whl.metadata (11 kB)\n",
      "Collecting boto3==1.34.0 (from -r requirements.txt (line 7))\n",
      "  Downloading boto3-1.34.0-py3-none-any.whl.metadata (6.6 kB)\n",
      "Collecting botocore==1.34.0 (from -r requirements.txt (line 8))\n",
      "  Downloading botocore-1.34.0-py3-none-any.whl.metadata (5.6 kB)\n",
      "Collecting opensearch-py==2.4.2 (from -r requirements.txt (line 9))\n",
      "  Downloading opensearch_py-2.4.2-py2.py3-none-any.whl.metadata (6.8 kB)\n",
      "Collecting numexpr==2.8.0 (from -r requirements.txt (line 10))\n",
      "  Downloading numexpr-2.8.0-cp310-cp310-manylinux_2_17_x86_64.manylinux2014_x86_64.whl.metadata (8.0 kB)\n",
      "Collecting packaging>=22.0 (from -r requirements.txt (line 11))\n",
      "  Downloading packaging-24.0-py3-none-any.whl.metadata (3.2 kB)\n",
      "Requirement already satisfied: docutils in /home/ec2-user/anaconda3/envs/python3/lib/python3.10/site-packages (from -r requirements.txt (line 12)) (0.16)\n",
      "Collecting requests-auth-aws-sigv4 (from -r requirements.txt (line 14))\n",
      "  Downloading requests_auth_aws_sigv4-0.7-py3-none-any.whl.metadata (5.5 kB)\n",
      "Requirement already satisfied: attrs<24,>=23.1.0 in /home/ec2-user/anaconda3/envs/python3/lib/python3.10/site-packages (from sagemaker==2.199.0->-r requirements.txt (line 1)) (23.2.0)\n",
      "Requirement already satisfied: cloudpickle==2.2.1 in /home/ec2-user/anaconda3/envs/python3/lib/python3.10/site-packages (from sagemaker==2.199.0->-r requirements.txt (line 1)) (2.2.1)\n",
      "Requirement already satisfied: google-pasta in /home/ec2-user/anaconda3/envs/python3/lib/python3.10/site-packages (from sagemaker==2.199.0->-r requirements.txt (line 1)) (0.2.0)\n",
      "Requirement already satisfied: numpy<2.0,>=1.9.0 in /home/ec2-user/anaconda3/envs/python3/lib/python3.10/site-packages (from sagemaker==2.199.0->-r requirements.txt (line 1)) (1.22.4)\n",
      "Requirement already satisfied: protobuf<5.0,>=3.12 in /home/ec2-user/anaconda3/envs/python3/lib/python3.10/site-packages (from sagemaker==2.199.0->-r requirements.txt (line 1)) (4.25.3)\n",
      "Requirement already satisfied: smdebug_rulesconfig==1.0.1 in /home/ec2-user/anaconda3/envs/python3/lib/python3.10/site-packages (from sagemaker==2.199.0->-r requirements.txt (line 1)) (1.0.1)\n",
      "Requirement already satisfied: importlib-metadata<7.0,>=1.4.0 in /home/ec2-user/anaconda3/envs/python3/lib/python3.10/site-packages (from sagemaker==2.199.0->-r requirements.txt (line 1)) (6.11.0)\n",
      "Requirement already satisfied: pathos in /home/ec2-user/anaconda3/envs/python3/lib/python3.10/site-packages (from sagemaker==2.199.0->-r requirements.txt (line 1)) (0.3.2)\n",
      "Requirement already satisfied: schema in /home/ec2-user/anaconda3/envs/python3/lib/python3.10/site-packages (from sagemaker==2.199.0->-r requirements.txt (line 1)) (0.7.5)\n",
      "Requirement already satisfied: PyYAML~=6.0 in /home/ec2-user/anaconda3/envs/python3/lib/python3.10/site-packages (from sagemaker==2.199.0->-r requirements.txt (line 1)) (6.0.1)\n",
      "Requirement already satisfied: jsonschema in /home/ec2-user/anaconda3/envs/python3/lib/python3.10/site-packages (from sagemaker==2.199.0->-r requirements.txt (line 1)) (4.21.1)\n",
      "Requirement already satisfied: platformdirs in /home/ec2-user/anaconda3/envs/python3/lib/python3.10/site-packages (from sagemaker==2.199.0->-r requirements.txt (line 1)) (4.2.0)\n",
      "Collecting tblib==1.7.0 (from sagemaker==2.199.0->-r requirements.txt (line 1))\n",
      "  Downloading tblib-1.7.0-py2.py3-none-any.whl.metadata (24 kB)\n",
      "Requirement already satisfied: urllib3<1.27 in /home/ec2-user/anaconda3/envs/python3/lib/python3.10/site-packages (from sagemaker==2.199.0->-r requirements.txt (line 1)) (1.26.18)\n",
      "Collecting uvicorn==0.22.0 (from sagemaker==2.199.0->-r requirements.txt (line 1))\n",
      "  Downloading uvicorn-0.22.0-py3-none-any.whl.metadata (6.3 kB)\n",
      "Collecting fastapi==0.95.2 (from sagemaker==2.199.0->-r requirements.txt (line 1))\n",
      "  Downloading fastapi-0.95.2-py3-none-any.whl.metadata (24 kB)\n",
      "Requirement already satisfied: docker in /home/ec2-user/anaconda3/envs/python3/lib/python3.10/site-packages (from sagemaker==2.199.0->-r requirements.txt (line 1)) (6.1.3)\n",
      "Requirement already satisfied: tqdm in /home/ec2-user/anaconda3/envs/python3/lib/python3.10/site-packages (from sagemaker==2.199.0->-r requirements.txt (line 1)) (4.66.1)\n",
      "Requirement already satisfied: psutil in /home/ec2-user/anaconda3/envs/python3/lib/python3.10/site-packages (from sagemaker==2.199.0->-r requirements.txt (line 1)) (5.9.8)\n",
      "Collecting pyparsing<3,>=2.4.2 (from httplib2==0.19.0->-r requirements.txt (line 3))\n",
      "  Downloading pyparsing-2.4.7-py2.py3-none-any.whl.metadata (3.6 kB)\n",
      "Requirement already satisfied: SQLAlchemy<3,>=1.4 in /home/ec2-user/anaconda3/envs/python3/lib/python3.10/site-packages (from langchain==0.0.340->-r requirements.txt (line 4)) (2.0.25)\n",
      "Requirement already satisfied: aiohttp<4.0.0,>=3.8.3 in /home/ec2-user/anaconda3/envs/python3/lib/python3.10/site-packages (from langchain==0.0.340->-r requirements.txt (line 4)) (3.9.1)\n",
      "Collecting anyio<4.0 (from langchain==0.0.340->-r requirements.txt (line 4))\n",
      "  Downloading anyio-3.7.1-py3-none-any.whl.metadata (4.7 kB)\n",
      "Requirement already satisfied: async-timeout<5.0.0,>=4.0.0 in /home/ec2-user/anaconda3/envs/python3/lib/python3.10/site-packages (from langchain==0.0.340->-r requirements.txt (line 4)) (4.0.3)\n",
      "Collecting dataclasses-json<0.7,>=0.5.7 (from langchain==0.0.340->-r requirements.txt (line 4))\n",
      "  Downloading dataclasses_json-0.6.4-py3-none-any.whl.metadata (25 kB)\n",
      "Collecting jsonpatch<2.0,>=1.33 (from langchain==0.0.340->-r requirements.txt (line 4))\n",
      "  Downloading jsonpatch-1.33-py2.py3-none-any.whl.metadata (3.0 kB)\n",
      "Collecting langsmith<0.1.0,>=0.0.63 (from langchain==0.0.340->-r requirements.txt (line 4))\n",
      "  Downloading langsmith-0.0.92-py3-none-any.whl.metadata (9.9 kB)\n",
      "Collecting pydantic<3,>=1 (from langchain==0.0.340->-r requirements.txt (line 4))\n",
      "  Downloading pydantic-2.6.4-py3-none-any.whl.metadata (85 kB)\n",
      "\u001b[2K     \u001b[90m━━━━━━━━━━━━━━━━━━━━━━━━━━━━━━━━━━━━━━━━\u001b[0m \u001b[32m85.1/85.1 kB\u001b[0m \u001b[31m1.9 MB/s\u001b[0m eta \u001b[36m0:00:00\u001b[0ma \u001b[36m0:00:01\u001b[0m\n",
      "\u001b[?25hRequirement already satisfied: tenacity<9.0.0,>=8.1.0 in /home/ec2-user/anaconda3/envs/python3/lib/python3.10/site-packages (from langchain==0.0.340->-r requirements.txt (line 4)) (8.2.3)\n",
      "Requirement already satisfied: charset-normalizer<4,>=2 in /home/ec2-user/anaconda3/envs/python3/lib/python3.10/site-packages (from requests==2.31.0->-r requirements.txt (line 5)) (3.3.2)\n",
      "Requirement already satisfied: idna<4,>=2.5 in /home/ec2-user/anaconda3/envs/python3/lib/python3.10/site-packages (from requests==2.31.0->-r requirements.txt (line 5)) (3.6)\n",
      "Requirement already satisfied: certifi>=2017.4.17 in /home/ec2-user/anaconda3/envs/python3/lib/python3.10/site-packages (from requests==2.31.0->-r requirements.txt (line 5)) (2024.2.2)\n",
      "Requirement already satisfied: python-dateutil>=2.8.1 in /home/ec2-user/anaconda3/envs/python3/lib/python3.10/site-packages (from pandas==1.5.3->-r requirements.txt (line 6)) (2.8.2)\n",
      "Requirement already satisfied: pytz>=2020.1 in /home/ec2-user/anaconda3/envs/python3/lib/python3.10/site-packages (from pandas==1.5.3->-r requirements.txt (line 6)) (2023.4)\n",
      "Requirement already satisfied: jmespath<2.0.0,>=0.7.1 in /home/ec2-user/anaconda3/envs/python3/lib/python3.10/site-packages (from boto3==1.34.0->-r requirements.txt (line 7)) (1.0.1)\n",
      "Collecting s3transfer<0.10.0,>=0.9.0 (from boto3==1.34.0->-r requirements.txt (line 7))\n",
      "  Downloading s3transfer-0.9.0-py3-none-any.whl.metadata (1.7 kB)\n",
      "Requirement already satisfied: six in /home/ec2-user/anaconda3/envs/python3/lib/python3.10/site-packages (from opensearch-py==2.4.2->-r requirements.txt (line 9)) (1.16.0)\n",
      "Collecting pydantic<3,>=1 (from langchain==0.0.340->-r requirements.txt (line 4))\n",
      "  Downloading pydantic-1.10.14-cp310-cp310-manylinux_2_17_x86_64.manylinux2014_x86_64.whl.metadata (150 kB)\n",
      "\u001b[2K     \u001b[90m━━━━━━━━━━━━━━━━━━━━━━━━━━━━━━━━━━━━━━\u001b[0m \u001b[32m150.2/150.2 kB\u001b[0m \u001b[31m11.4 MB/s\u001b[0m eta \u001b[36m0:00:00\u001b[0m\n",
      "\u001b[?25hCollecting starlette<0.28.0,>=0.27.0 (from fastapi==0.95.2->sagemaker==2.199.0->-r requirements.txt (line 1))\n",
      "  Downloading starlette-0.27.0-py3-none-any.whl.metadata (5.8 kB)\n",
      "Requirement already satisfied: click>=7.0 in /home/ec2-user/anaconda3/envs/python3/lib/python3.10/site-packages (from uvicorn==0.22.0->sagemaker==2.199.0->-r requirements.txt (line 1)) (8.1.7)\n",
      "Collecting h11>=0.8 (from uvicorn==0.22.0->sagemaker==2.199.0->-r requirements.txt (line 1))\n",
      "  Downloading h11-0.14.0-py3-none-any.whl.metadata (8.2 kB)\n",
      "Requirement already satisfied: multidict<7.0,>=4.5 in /home/ec2-user/anaconda3/envs/python3/lib/python3.10/site-packages (from aiohttp<4.0.0,>=3.8.3->langchain==0.0.340->-r requirements.txt (line 4)) (6.0.4)\n",
      "Requirement already satisfied: yarl<2.0,>=1.0 in /home/ec2-user/anaconda3/envs/python3/lib/python3.10/site-packages (from aiohttp<4.0.0,>=3.8.3->langchain==0.0.340->-r requirements.txt (line 4)) (1.9.4)\n",
      "Requirement already satisfied: frozenlist>=1.1.1 in /home/ec2-user/anaconda3/envs/python3/lib/python3.10/site-packages (from aiohttp<4.0.0,>=3.8.3->langchain==0.0.340->-r requirements.txt (line 4)) (1.4.1)\n",
      "Requirement already satisfied: aiosignal>=1.1.2 in /home/ec2-user/anaconda3/envs/python3/lib/python3.10/site-packages (from aiohttp<4.0.0,>=3.8.3->langchain==0.0.340->-r requirements.txt (line 4)) (1.3.1)\n",
      "Requirement already satisfied: sniffio>=1.1 in /home/ec2-user/anaconda3/envs/python3/lib/python3.10/site-packages (from anyio<4.0->langchain==0.0.340->-r requirements.txt (line 4)) (1.3.0)\n",
      "Requirement already satisfied: exceptiongroup in /home/ec2-user/anaconda3/envs/python3/lib/python3.10/site-packages (from anyio<4.0->langchain==0.0.340->-r requirements.txt (line 4)) (1.2.0)\n",
      "Collecting marshmallow<4.0.0,>=3.18.0 (from dataclasses-json<0.7,>=0.5.7->langchain==0.0.340->-r requirements.txt (line 4))\n",
      "  Downloading marshmallow-3.21.1-py3-none-any.whl.metadata (7.2 kB)\n",
      "Collecting typing-inspect<1,>=0.4.0 (from dataclasses-json<0.7,>=0.5.7->langchain==0.0.340->-r requirements.txt (line 4))\n",
      "  Downloading typing_inspect-0.9.0-py3-none-any.whl.metadata (1.5 kB)\n",
      "Requirement already satisfied: zipp>=0.5 in /home/ec2-user/anaconda3/envs/python3/lib/python3.10/site-packages (from importlib-metadata<7.0,>=1.4.0->sagemaker==2.199.0->-r requirements.txt (line 1)) (3.17.0)\n",
      "Requirement already satisfied: jsonpointer>=1.9 in /home/ec2-user/anaconda3/envs/python3/lib/python3.10/site-packages (from jsonpatch<2.0,>=1.33->langchain==0.0.340->-r requirements.txt (line 4)) (2.4)\n",
      "Requirement already satisfied: typing-extensions>=4.2.0 in /home/ec2-user/anaconda3/envs/python3/lib/python3.10/site-packages (from pydantic<3,>=1->langchain==0.0.340->-r requirements.txt (line 4)) (4.9.0)\n",
      "Requirement already satisfied: greenlet!=0.4.17 in /home/ec2-user/anaconda3/envs/python3/lib/python3.10/site-packages (from SQLAlchemy<3,>=1.4->langchain==0.0.340->-r requirements.txt (line 4)) (3.0.3)\n",
      "Requirement already satisfied: websocket-client>=0.32.0 in /home/ec2-user/anaconda3/envs/python3/lib/python3.10/site-packages (from docker->sagemaker==2.199.0->-r requirements.txt (line 1)) (1.7.0)\n",
      "Requirement already satisfied: jsonschema-specifications>=2023.03.6 in /home/ec2-user/anaconda3/envs/python3/lib/python3.10/site-packages (from jsonschema->sagemaker==2.199.0->-r requirements.txt (line 1)) (2023.12.1)\n",
      "Requirement already satisfied: referencing>=0.28.4 in /home/ec2-user/anaconda3/envs/python3/lib/python3.10/site-packages (from jsonschema->sagemaker==2.199.0->-r requirements.txt (line 1)) (0.33.0)\n",
      "Requirement already satisfied: rpds-py>=0.7.1 in /home/ec2-user/anaconda3/envs/python3/lib/python3.10/site-packages (from jsonschema->sagemaker==2.199.0->-r requirements.txt (line 1)) (0.17.1)\n",
      "Requirement already satisfied: ppft>=1.7.6.8 in /home/ec2-user/anaconda3/envs/python3/lib/python3.10/site-packages (from pathos->sagemaker==2.199.0->-r requirements.txt (line 1)) (1.7.6.8)\n",
      "Requirement already satisfied: dill>=0.3.8 in /home/ec2-user/anaconda3/envs/python3/lib/python3.10/site-packages (from pathos->sagemaker==2.199.0->-r requirements.txt (line 1)) (0.3.8)\n",
      "Requirement already satisfied: pox>=0.3.4 in /home/ec2-user/anaconda3/envs/python3/lib/python3.10/site-packages (from pathos->sagemaker==2.199.0->-r requirements.txt (line 1)) (0.3.4)\n",
      "Requirement already satisfied: multiprocess>=0.70.16 in /home/ec2-user/anaconda3/envs/python3/lib/python3.10/site-packages (from pathos->sagemaker==2.199.0->-r requirements.txt (line 1)) (0.70.16)\n",
      "Requirement already satisfied: contextlib2>=0.5.5 in /home/ec2-user/anaconda3/envs/python3/lib/python3.10/site-packages (from schema->sagemaker==2.199.0->-r requirements.txt (line 1)) (21.6.0)\n",
      "Requirement already satisfied: mypy-extensions>=0.3.0 in /home/ec2-user/anaconda3/envs/python3/lib/python3.10/site-packages (from typing-inspect<1,>=0.4.0->dataclasses-json<0.7,>=0.5.7->langchain==0.0.340->-r requirements.txt (line 4)) (1.0.0)\n",
      "Downloading pypdfium2-4.24.0-py3-none-manylinux_2_17_x86_64.whl (3.0 MB)\n",
      "\u001b[2K   \u001b[90m━━━━━━━━━━━━━━━━━━━━━━━━━━━━━━━━━━━━━━━━\u001b[0m \u001b[32m3.0/3.0 MB\u001b[0m \u001b[31m32.2 MB/s\u001b[0m eta \u001b[36m0:00:00\u001b[0m00:01\u001b[0m\n",
      "\u001b[?25hDownloading httplib2-0.19.0-py3-none-any.whl (95 kB)\n",
      "\u001b[2K   \u001b[90m━━━━━━━━━━━━━━━━━━━━━━━━━━━━━━━━━━━━━━━━\u001b[0m \u001b[32m95.4/95.4 kB\u001b[0m \u001b[31m12.8 MB/s\u001b[0m eta \u001b[36m0:00:00\u001b[0m\n",
      "\u001b[?25hDownloading langchain-0.0.340-py3-none-any.whl (2.0 MB)\n",
      "\u001b[2K   \u001b[90m━━━━━━━━━━━━━━━━━━━━━━━━━━━━━━━━━━━━━━━━\u001b[0m \u001b[32m2.0/2.0 MB\u001b[0m \u001b[31m20.7 MB/s\u001b[0m eta \u001b[36m0:00:00\u001b[0m:00:01\u001b[0m\n",
      "\u001b[?25hDownloading pandas-1.5.3-cp310-cp310-manylinux_2_17_x86_64.manylinux2014_x86_64.whl (12.1 MB)\n",
      "\u001b[2K   \u001b[90m━━━━━━━━━━━━━━━━━━━━━━━━━━━━━━━━━━━━━━━━\u001b[0m \u001b[32m12.1/12.1 MB\u001b[0m \u001b[31m40.1 MB/s\u001b[0m eta \u001b[36m0:00:00\u001b[0m:00:01\u001b[0m0:01\u001b[0m\n",
      "\u001b[?25hDownloading boto3-1.34.0-py3-none-any.whl (139 kB)\n",
      "\u001b[2K   \u001b[90m━━━━━━━━━━━━━━━━━━━━━━━━━━━━━━━━━━━━━━━━\u001b[0m \u001b[32m139.3/139.3 kB\u001b[0m \u001b[31m4.8 MB/s\u001b[0m eta \u001b[36m0:00:00\u001b[0m\n",
      "\u001b[?25hDownloading botocore-1.34.0-py3-none-any.whl (11.8 MB)\n",
      "\u001b[2K   \u001b[90m━━━━━━━━━━━━━━━━━━━━━━━━━━━━━━━━━━━━━━━━\u001b[0m \u001b[32m11.8/11.8 MB\u001b[0m \u001b[31m41.8 MB/s\u001b[0m eta \u001b[36m0:00:00\u001b[0m:00:01\u001b[0m00:01\u001b[0m\n",
      "\u001b[?25hDownloading opensearch_py-2.4.2-py2.py3-none-any.whl (258 kB)\n",
      "\u001b[2K   \u001b[90m━━━━━━━━━━━━━━━━━━━━━━━━━━━━━━━━━━━━━━━━\u001b[0m \u001b[32m258.6/258.6 kB\u001b[0m \u001b[31m8.3 MB/s\u001b[0m eta \u001b[36m0:00:00\u001b[0m\n",
      "\u001b[?25hDownloading numexpr-2.8.0-cp310-cp310-manylinux_2_17_x86_64.manylinux2014_x86_64.whl (380 kB)\n",
      "\u001b[2K   \u001b[90m━━━━━━━━━━━━━━━━━━━━━━━━━━━━━━━━━━━━━━━━\u001b[0m \u001b[32m380.9/380.9 kB\u001b[0m \u001b[31m37.1 MB/s\u001b[0m eta \u001b[36m0:00:00\u001b[0m\n",
      "\u001b[?25hDownloading fastapi-0.95.2-py3-none-any.whl (56 kB)\n",
      "\u001b[2K   \u001b[90m━━━━━━━━━━━━━━━━━━━━━━━━━━━━━━━━━━━━━━━━\u001b[0m \u001b[32m57.0/57.0 kB\u001b[0m \u001b[31m8.8 MB/s\u001b[0m eta \u001b[36m0:00:00\u001b[0m\n",
      "\u001b[?25hDownloading tblib-1.7.0-py2.py3-none-any.whl (12 kB)\n",
      "Downloading uvicorn-0.22.0-py3-none-any.whl (58 kB)\n",
      "\u001b[2K   \u001b[90m━━━━━━━━━━━━━━━━━━━━━━━━━━━━━━━━━━━━━━━━\u001b[0m \u001b[32m58.3/58.3 kB\u001b[0m \u001b[31m8.6 MB/s\u001b[0m eta \u001b[36m0:00:00\u001b[0m\n",
      "\u001b[?25hDownloading packaging-24.0-py3-none-any.whl (53 kB)\n",
      "\u001b[2K   \u001b[90m━━━━━━━━━━━━━━━━━━━━━━━━━━━━━━━━━━━━━━━━\u001b[0m \u001b[32m53.5/53.5 kB\u001b[0m \u001b[31m8.0 MB/s\u001b[0m eta \u001b[36m0:00:00\u001b[0m\n",
      "\u001b[?25hDownloading requests_auth_aws_sigv4-0.7-py3-none-any.whl (12 kB)\n",
      "Downloading anyio-3.7.1-py3-none-any.whl (80 kB)\n",
      "\u001b[2K   \u001b[90m━━━━━━━━━━━━━━━━━━━━━━━━━━━━━━━━━━━━━━━━\u001b[0m \u001b[32m80.9/80.9 kB\u001b[0m \u001b[31m2.7 MB/s\u001b[0m eta \u001b[36m0:00:00\u001b[0m\n",
      "\u001b[?25hDownloading dataclasses_json-0.6.4-py3-none-any.whl (28 kB)\n",
      "Downloading jsonpatch-1.33-py2.py3-none-any.whl (12 kB)\n",
      "Downloading langsmith-0.0.92-py3-none-any.whl (56 kB)\n",
      "\u001b[2K   \u001b[90m━━━━━━━━━━━━━━━━━━━━━━━━━━━━━━━━━━━━━━━━\u001b[0m \u001b[32m56.5/56.5 kB\u001b[0m \u001b[31m7.8 MB/s\u001b[0m eta \u001b[36m0:00:00\u001b[0m\n",
      "\u001b[?25hDownloading pydantic-1.10.14-cp310-cp310-manylinux_2_17_x86_64.manylinux2014_x86_64.whl (3.1 MB)\n",
      "\u001b[2K   \u001b[90m━━━━━━━━━━━━━━━━━━━━━━━━━━━━━━━━━━━━━━━━\u001b[0m \u001b[32m3.1/3.1 MB\u001b[0m \u001b[31m84.3 MB/s\u001b[0m eta \u001b[36m0:00:00\u001b[0m:00:01\u001b[0m\n",
      "\u001b[?25hDownloading pyparsing-2.4.7-py2.py3-none-any.whl (67 kB)\n",
      "\u001b[2K   \u001b[90m━━━━━━━━━━━━━━━━━━━━━━━━━━━━━━━━━━━━━━━━\u001b[0m \u001b[32m67.8/67.8 kB\u001b[0m \u001b[31m9.8 MB/s\u001b[0m eta \u001b[36m0:00:00\u001b[0m\n",
      "\u001b[?25hDownloading s3transfer-0.9.0-py3-none-any.whl (82 kB)\n",
      "\u001b[2K   \u001b[90m━━━━━━━━━━━━━━━━━━━━━━━━━━━━━━━━━━━━━━━━\u001b[0m \u001b[32m82.0/82.0 kB\u001b[0m \u001b[31m12.1 MB/s\u001b[0m eta \u001b[36m0:00:00\u001b[0m\n",
      "\u001b[?25hDownloading h11-0.14.0-py3-none-any.whl (58 kB)\n",
      "\u001b[2K   \u001b[90m━━━━━━━━━━━━━━━━━━━━━━━━━━━━━━━━━━━━━━━━\u001b[0m \u001b[32m58.3/58.3 kB\u001b[0m \u001b[31m9.7 MB/s\u001b[0m eta \u001b[36m0:00:00\u001b[0m\n",
      "\u001b[?25hDownloading marshmallow-3.21.1-py3-none-any.whl (49 kB)\n",
      "\u001b[2K   \u001b[90m━━━━━━━━━━━━━━━━━━━━━━━━━━━━━━━━━━━━━━━━\u001b[0m \u001b[32m49.4/49.4 kB\u001b[0m \u001b[31m1.4 MB/s\u001b[0m eta \u001b[36m0:00:00\u001b[0m\n",
      "\u001b[?25hDownloading starlette-0.27.0-py3-none-any.whl (66 kB)\n",
      "\u001b[2K   \u001b[90m━━━━━━━━━━━━━━━━━━━━━━━━━━━━━━━━━━━━━━━━\u001b[0m \u001b[32m67.0/67.0 kB\u001b[0m \u001b[31m8.4 MB/s\u001b[0m eta \u001b[36m0:00:00\u001b[0m\n",
      "\u001b[?25hDownloading typing_inspect-0.9.0-py3-none-any.whl (8.8 kB)\n",
      "Building wheels for collected packages: sagemaker\n",
      "  Building wheel for sagemaker (setup.py) ... \u001b[?25ldone\n",
      "\u001b[?25h  Created wheel for sagemaker: filename=sagemaker-2.199.0-py2.py3-none-any.whl size=1374438 sha256=1f50fc585161095d1bf9da45ac6abf934b0185e0cc921c1150805846d20dd611\n",
      "  Stored in directory: /home/ec2-user/.cache/pip/wheels/0b/36/29/905c1d229d6d1e782514dfda3d24640d41953098bb3061ad6c\n",
      "Successfully built sagemaker\n",
      "Installing collected packages: typing-inspect, tblib, pypdfium2, pyparsing, pydantic, packaging, numexpr, jsonpatch, h11, anyio, uvicorn, starlette, requests-auth-aws-sigv4, pandas, opensearch-py, marshmallow, langsmith, httplib2, botocore, s3transfer, fastapi, dataclasses-json, langchain, boto3, sagemaker\n",
      "  Attempting uninstall: tblib\n",
      "    Found existing installation: tblib 2.0.0\n",
      "    Uninstalling tblib-2.0.0:\n",
      "      Successfully uninstalled tblib-2.0.0\n",
      "  Attempting uninstall: pyparsing\n",
      "    Found existing installation: pyparsing 3.1.1\n",
      "    Uninstalling pyparsing-3.1.1:\n",
      "      Successfully uninstalled pyparsing-3.1.1\n",
      "  Attempting uninstall: packaging\n",
      "    Found existing installation: packaging 21.3\n",
      "    Uninstalling packaging-21.3:\n",
      "      Successfully uninstalled packaging-21.3\n",
      "  Attempting uninstall: numexpr\n",
      "    Found existing installation: numexpr 2.8.8\n",
      "    Uninstalling numexpr-2.8.8:\n",
      "      Successfully uninstalled numexpr-2.8.8\n",
      "  Attempting uninstall: anyio\n",
      "    Found existing installation: anyio 4.2.0\n",
      "    Uninstalling anyio-4.2.0:\n",
      "      Successfully uninstalled anyio-4.2.0\n",
      "  Attempting uninstall: pandas\n",
      "    Found existing installation: pandas 2.2.0\n",
      "    Uninstalling pandas-2.2.0:\n",
      "      Successfully uninstalled pandas-2.2.0\n",
      "  Attempting uninstall: botocore\n",
      "    Found existing installation: botocore 1.34.55\n",
      "    Uninstalling botocore-1.34.55:\n",
      "      Successfully uninstalled botocore-1.34.55\n",
      "  Attempting uninstall: s3transfer\n",
      "    Found existing installation: s3transfer 0.10.0\n",
      "    Uninstalling s3transfer-0.10.0:\n",
      "      Successfully uninstalled s3transfer-0.10.0\n",
      "  Attempting uninstall: boto3\n",
      "    Found existing installation: boto3 1.34.55\n",
      "    Uninstalling boto3-1.34.55:\n",
      "      Successfully uninstalled boto3-1.34.55\n",
      "  Attempting uninstall: sagemaker\n",
      "    Found existing installation: sagemaker 2.210.0\n",
      "    Uninstalling sagemaker-2.210.0:\n",
      "      Successfully uninstalled sagemaker-2.210.0\n",
      "\u001b[31mERROR: pip's dependency resolver does not currently take into account all the packages that are installed. This behaviour is the source of the following dependency conflicts.\n",
      "awscli 1.32.55 requires botocore==1.34.55, but you have botocore 1.34.0 which is incompatible.\n",
      "awscli 1.32.55 requires s3transfer<0.11.0,>=0.10.0, but you have s3transfer 0.9.0 which is incompatible.\n",
      "sphinx 7.2.6 requires docutils<0.21,>=0.18.1, but you have docutils 0.16 which is incompatible.\u001b[0m\u001b[31m\n",
      "\u001b[0mSuccessfully installed anyio-3.7.1 boto3-1.34.0 botocore-1.34.0 dataclasses-json-0.6.4 fastapi-0.95.2 h11-0.14.0 httplib2-0.19.0 jsonpatch-1.33 langchain-0.0.340 langsmith-0.0.92 marshmallow-3.21.1 numexpr-2.8.0 opensearch-py-2.4.2 packaging-24.0 pandas-1.5.3 pydantic-1.10.14 pyparsing-2.4.7 pypdfium2-4.24.0 requests-auth-aws-sigv4-0.7 s3transfer-0.9.0 sagemaker-2.199.0 starlette-0.27.0 tblib-1.7.0 typing-inspect-0.9.0 uvicorn-0.22.0\n"
     ]
    }
   ],
   "source": [
    "import sys\n",
    "!{sys.executable} -m pip install -r requirements.txt"
   ]
  },
  {
   "cell_type": "code",
   "execution_count": 2,
   "id": "42e2d0f4-7495-4f54-a5b7-3a20a4524516",
   "metadata": {
    "tags": []
   },
   "outputs": [
    {
     "name": "stdout",
     "output_type": "stream",
     "text": [
      "sagemaker.config INFO - Not applying SDK defaults from location: /etc/xdg/sagemaker/config.yaml\n",
      "sagemaker.config INFO - Not applying SDK defaults from location: /home/ec2-user/.config/sagemaker/config.yaml\n"
     ]
    }
   ],
   "source": [
    "import os\n",
    "import json\n",
    "import glob\n",
    "import boto3\n",
    "import base64\n",
    "import logging\n",
    "import sagemaker\n",
    "import globals as g\n",
    "from PIL import Image\n",
    "import requests as req\n",
    "from typing import List\n",
    "from pathlib import Path\n",
    "import pypdfium2 as pdfium\n",
    "from utils import upload_to_s3, get_bucket_name\n",
    "\n",
    "logging.basicConfig(format='[%(asctime)s] p%(process)s {%(filename)s:%(lineno)d} %(levelname)s - %(message)s', level=logging.INFO)\n",
    "logger = logging.getLogger(__name__)"
   ]
  },
  {
   "cell_type": "code",
   "execution_count": 3,
   "id": "4de5726f-55a7-4188-afa5-b4623c199ece",
   "metadata": {},
   "outputs": [],
   "source": [
    "bucket_name: str = get_bucket_name(g.CFN_STACK_NAME)"
   ]
  },
  {
   "cell_type": "markdown",
   "id": "7c372263-60c2-4f34-b43a-f6f4285781d6",
   "metadata": {
    "tags": []
   },
   "source": [
    "## Step 2. Download slide deck and convert it into images\n",
    "\n",
    "We download a publicly available slide deck and convert each slide into a `jpg` file using the [`pypdfium2`](https://pypi.org/project/pypdfium2/) package."
   ]
  },
  {
   "cell_type": "code",
   "execution_count": 4,
   "id": "b7b51e5e-946d-41f3-b8a1-b4b89a8f39b9",
   "metadata": {
    "tags": []
   },
   "outputs": [],
   "source": [
    "def get_images(file:str, image_dir:str) -> List:\n",
    "    \"\"\"\n",
    "    Get PIL images from PDF pages and save them to a specified directory\n",
    "    :param file: Path to file\n",
    "    :return: A list of PIL images\n",
    "    \"\"\"\n",
    "\n",
    "    # Get presentation\n",
    "    pdf = pdfium.PdfDocument(file)\n",
    "    n_pages = len(pdf)\n",
    "\n",
    "    # Extracting file name and creating the directory for images\n",
    "    file_name = Path(file).stem  # Gets the file name without extension\n",
    "    os.makedirs(image_dir, exist_ok=True)\n",
    "\n",
    "    # Get images\n",
    "    image_paths = []\n",
    "    print(f\"Extracting {n_pages} images for {file}\")\n",
    "    for page_number in range(n_pages):\n",
    "        page = pdf.get_page(page_number)\n",
    "        bitmap = page.render(scale=1, rotation=0, crop=(0, 0, 0, 0))\n",
    "        pil_image = bitmap.to_pil()\n",
    "        # pil_images.append(pil_image)\n",
    "\n",
    "        # Saving the image with the specified naming convention\n",
    "        image_path = os.path.join(image_dir, f\"{file_name}_image_{page_number + 1}.jpg\")\n",
    "        pil_image.save(image_path, format=\"JPEG\")\n",
    "        image_paths.append(image_path)\n",
    "\n",
    "    return image_paths"
   ]
  },
  {
   "cell_type": "markdown",
   "id": "e814fa33-b236-4962-bf4a-426ce626d8cf",
   "metadata": {},
   "source": [
    "Download a publicly available slide deck."
   ]
  },
  {
   "cell_type": "code",
   "execution_count": 5,
   "id": "01db6240-c5a6-48d6-a0d5-6056004b0bf7",
   "metadata": {
    "tags": []
   },
   "outputs": [
    {
     "name": "stdout",
     "output_type": "stream",
     "text": [
      "https://d1.awsstatic.com/events/Summits/torsummit2023/CMP301_TrainDeploy_E1_20230607_SPEdited.pdf\n"
     ]
    },
    {
     "name": "stderr",
     "output_type": "stream",
     "text": [
      "[2024-03-22 22:14:42,840] p15184 {4264793631.py:6} INFO - https://d1.awsstatic.com/events/Summits/torsummit2023/CMP301_TrainDeploy_E1_20230607_SPEdited.pdf downloaded successfully\n",
      "[2024-03-22 22:14:42,846] p15184 {4264793631.py:9} INFO - https://d1.awsstatic.com/events/Summits/torsummit2023/CMP301_TrainDeploy_E1_20230607_SPEdited.pdf written to CMP301_TrainDeploy_E1_20230607_SPEdited.pdf\n"
     ]
    }
   ],
   "source": [
    "url: str = g.SLIDE_DECK\n",
    "print(g.SLIDE_DECK)\n",
    "local_file: str = os.path.basename(url)\n",
    "r = req.get(url, allow_redirects=True)\n",
    "if r.status_code == 200:\n",
    "    logger.info(f\"{url} downloaded successfully\")\n",
    "    with open(local_file, \"wb\") as f:\n",
    "        f.write(r.content)\n",
    "    logger.info(f\"{url} written to {local_file}\")"
   ]
  },
  {
   "cell_type": "markdown",
   "id": "84fadce2-3f67-42d3-b78c-bc09a518503a",
   "metadata": {},
   "source": [
    "Extract images from the slide deck"
   ]
  },
  {
   "cell_type": "code",
   "execution_count": 6,
   "id": "534f0ea7-8d03-483c-a81f-f187493ce4c6",
   "metadata": {
    "tags": []
   },
   "outputs": [
    {
     "name": "stdout",
     "output_type": "stream",
     "text": [
      "Extracting 31 images for CMP301_TrainDeploy_E1_20230607_SPEdited.pdf\n"
     ]
    },
    {
     "name": "stderr",
     "output_type": "stream",
     "text": [
      "[2024-03-22 22:14:46,440] p15184 {2461950259.py:2} INFO - there are 31 images extracted from this slide deck CMP301_TrainDeploy_E1_20230607_SPEdited.pdf\n"
     ]
    }
   ],
   "source": [
    "images = get_images(local_file, g.IMAGE_DIR)\n",
    "logger.info(f\"there are {len(images)} images extracted from this slide deck {local_file}\")"
   ]
  },
  {
   "cell_type": "markdown",
   "id": "05fc88fa-7a83-49e0-a45f-9b1640259f56",
   "metadata": {},
   "source": [
    "## Step 3. Upload the images into Amazon S3 bucket"
   ]
  },
  {
   "cell_type": "markdown",
   "id": "53600f15-e57b-4e0a-97ab-5f96c93386a3",
   "metadata": {},
   "source": [
    "Now we upload the images into an S3 bucket. This is done for two reasons:\n",
    "1. In a production environment these images could be worked upon in parallel by a batch process.\n",
    "1. An S3 bucket (that is part of a datalake) provides a secure location for an enterprise to store these images and a multimodal model can read these image files directly from the S3 bucket."
   ]
  },
  {
   "cell_type": "code",
   "execution_count": 7,
   "id": "8efa5e75-7c5f-4128-8d6b-df788fb69c6a",
   "metadata": {
    "tags": []
   },
   "outputs": [
    {
     "name": "stderr",
     "output_type": "stream",
     "text": [
      "[2024-03-22 22:14:46,543] p15184 {utils.py:37} INFO - File img/CMP301_TrainDeploy_E1_20230607_SPEdited_image_1.jpg uploaded to multimodal-blog2-bucket-597703351594/multimodal/img/CMP301_TrainDeploy_E1_20230607_SPEdited_image_1.jpg.\n",
      "[2024-03-22 22:14:46,584] p15184 {utils.py:37} INFO - File img/CMP301_TrainDeploy_E1_20230607_SPEdited_image_2.jpg uploaded to multimodal-blog2-bucket-597703351594/multimodal/img/CMP301_TrainDeploy_E1_20230607_SPEdited_image_2.jpg.\n",
      "[2024-03-22 22:14:46,630] p15184 {utils.py:37} INFO - File img/CMP301_TrainDeploy_E1_20230607_SPEdited_image_3.jpg uploaded to multimodal-blog2-bucket-597703351594/multimodal/img/CMP301_TrainDeploy_E1_20230607_SPEdited_image_3.jpg.\n",
      "[2024-03-22 22:14:46,661] p15184 {utils.py:37} INFO - File img/CMP301_TrainDeploy_E1_20230607_SPEdited_image_4.jpg uploaded to multimodal-blog2-bucket-597703351594/multimodal/img/CMP301_TrainDeploy_E1_20230607_SPEdited_image_4.jpg.\n",
      "[2024-03-22 22:14:46,714] p15184 {utils.py:37} INFO - File img/CMP301_TrainDeploy_E1_20230607_SPEdited_image_5.jpg uploaded to multimodal-blog2-bucket-597703351594/multimodal/img/CMP301_TrainDeploy_E1_20230607_SPEdited_image_5.jpg.\n",
      "[2024-03-22 22:14:46,763] p15184 {utils.py:37} INFO - File img/CMP301_TrainDeploy_E1_20230607_SPEdited_image_6.jpg uploaded to multimodal-blog2-bucket-597703351594/multimodal/img/CMP301_TrainDeploy_E1_20230607_SPEdited_image_6.jpg.\n",
      "[2024-03-22 22:14:46,819] p15184 {utils.py:37} INFO - File img/CMP301_TrainDeploy_E1_20230607_SPEdited_image_7.jpg uploaded to multimodal-blog2-bucket-597703351594/multimodal/img/CMP301_TrainDeploy_E1_20230607_SPEdited_image_7.jpg.\n",
      "[2024-03-22 22:14:46,883] p15184 {utils.py:37} INFO - File img/CMP301_TrainDeploy_E1_20230607_SPEdited_image_8.jpg uploaded to multimodal-blog2-bucket-597703351594/multimodal/img/CMP301_TrainDeploy_E1_20230607_SPEdited_image_8.jpg.\n",
      "[2024-03-22 22:14:46,918] p15184 {utils.py:37} INFO - File img/CMP301_TrainDeploy_E1_20230607_SPEdited_image_9.jpg uploaded to multimodal-blog2-bucket-597703351594/multimodal/img/CMP301_TrainDeploy_E1_20230607_SPEdited_image_9.jpg.\n",
      "[2024-03-22 22:14:46,948] p15184 {utils.py:37} INFO - File img/CMP301_TrainDeploy_E1_20230607_SPEdited_image_10.jpg uploaded to multimodal-blog2-bucket-597703351594/multimodal/img/CMP301_TrainDeploy_E1_20230607_SPEdited_image_10.jpg.\n",
      "[2024-03-22 22:14:47,037] p15184 {utils.py:37} INFO - File img/CMP301_TrainDeploy_E1_20230607_SPEdited_image_11.jpg uploaded to multimodal-blog2-bucket-597703351594/multimodal/img/CMP301_TrainDeploy_E1_20230607_SPEdited_image_11.jpg.\n",
      "[2024-03-22 22:14:47,086] p15184 {utils.py:37} INFO - File img/CMP301_TrainDeploy_E1_20230607_SPEdited_image_12.jpg uploaded to multimodal-blog2-bucket-597703351594/multimodal/img/CMP301_TrainDeploy_E1_20230607_SPEdited_image_12.jpg.\n",
      "[2024-03-22 22:14:47,121] p15184 {utils.py:37} INFO - File img/CMP301_TrainDeploy_E1_20230607_SPEdited_image_13.jpg uploaded to multimodal-blog2-bucket-597703351594/multimodal/img/CMP301_TrainDeploy_E1_20230607_SPEdited_image_13.jpg.\n",
      "[2024-03-22 22:14:47,153] p15184 {utils.py:37} INFO - File img/CMP301_TrainDeploy_E1_20230607_SPEdited_image_14.jpg uploaded to multimodal-blog2-bucket-597703351594/multimodal/img/CMP301_TrainDeploy_E1_20230607_SPEdited_image_14.jpg.\n",
      "[2024-03-22 22:14:47,179] p15184 {utils.py:37} INFO - File img/CMP301_TrainDeploy_E1_20230607_SPEdited_image_15.jpg uploaded to multimodal-blog2-bucket-597703351594/multimodal/img/CMP301_TrainDeploy_E1_20230607_SPEdited_image_15.jpg.\n",
      "[2024-03-22 22:14:47,209] p15184 {utils.py:37} INFO - File img/CMP301_TrainDeploy_E1_20230607_SPEdited_image_16.jpg uploaded to multimodal-blog2-bucket-597703351594/multimodal/img/CMP301_TrainDeploy_E1_20230607_SPEdited_image_16.jpg.\n",
      "[2024-03-22 22:14:47,240] p15184 {utils.py:37} INFO - File img/CMP301_TrainDeploy_E1_20230607_SPEdited_image_17.jpg uploaded to multimodal-blog2-bucket-597703351594/multimodal/img/CMP301_TrainDeploy_E1_20230607_SPEdited_image_17.jpg.\n",
      "[2024-03-22 22:14:47,306] p15184 {utils.py:37} INFO - File img/CMP301_TrainDeploy_E1_20230607_SPEdited_image_18.jpg uploaded to multimodal-blog2-bucket-597703351594/multimodal/img/CMP301_TrainDeploy_E1_20230607_SPEdited_image_18.jpg.\n",
      "[2024-03-22 22:14:47,379] p15184 {utils.py:37} INFO - File img/CMP301_TrainDeploy_E1_20230607_SPEdited_image_19.jpg uploaded to multimodal-blog2-bucket-597703351594/multimodal/img/CMP301_TrainDeploy_E1_20230607_SPEdited_image_19.jpg.\n",
      "[2024-03-22 22:14:47,426] p15184 {utils.py:37} INFO - File img/CMP301_TrainDeploy_E1_20230607_SPEdited_image_20.jpg uploaded to multimodal-blog2-bucket-597703351594/multimodal/img/CMP301_TrainDeploy_E1_20230607_SPEdited_image_20.jpg.\n",
      "[2024-03-22 22:14:47,521] p15184 {utils.py:37} INFO - File img/CMP301_TrainDeploy_E1_20230607_SPEdited_image_21.jpg uploaded to multimodal-blog2-bucket-597703351594/multimodal/img/CMP301_TrainDeploy_E1_20230607_SPEdited_image_21.jpg.\n",
      "[2024-03-22 22:14:47,562] p15184 {utils.py:37} INFO - File img/CMP301_TrainDeploy_E1_20230607_SPEdited_image_22.jpg uploaded to multimodal-blog2-bucket-597703351594/multimodal/img/CMP301_TrainDeploy_E1_20230607_SPEdited_image_22.jpg.\n",
      "[2024-03-22 22:14:47,607] p15184 {utils.py:37} INFO - File img/CMP301_TrainDeploy_E1_20230607_SPEdited_image_23.jpg uploaded to multimodal-blog2-bucket-597703351594/multimodal/img/CMP301_TrainDeploy_E1_20230607_SPEdited_image_23.jpg.\n",
      "[2024-03-22 22:14:47,680] p15184 {utils.py:37} INFO - File img/CMP301_TrainDeploy_E1_20230607_SPEdited_image_24.jpg uploaded to multimodal-blog2-bucket-597703351594/multimodal/img/CMP301_TrainDeploy_E1_20230607_SPEdited_image_24.jpg.\n",
      "[2024-03-22 22:14:47,715] p15184 {utils.py:37} INFO - File img/CMP301_TrainDeploy_E1_20230607_SPEdited_image_25.jpg uploaded to multimodal-blog2-bucket-597703351594/multimodal/img/CMP301_TrainDeploy_E1_20230607_SPEdited_image_25.jpg.\n",
      "[2024-03-22 22:14:47,748] p15184 {utils.py:37} INFO - File img/CMP301_TrainDeploy_E1_20230607_SPEdited_image_26.jpg uploaded to multimodal-blog2-bucket-597703351594/multimodal/img/CMP301_TrainDeploy_E1_20230607_SPEdited_image_26.jpg.\n",
      "[2024-03-22 22:14:47,803] p15184 {utils.py:37} INFO - File img/CMP301_TrainDeploy_E1_20230607_SPEdited_image_27.jpg uploaded to multimodal-blog2-bucket-597703351594/multimodal/img/CMP301_TrainDeploy_E1_20230607_SPEdited_image_27.jpg.\n",
      "[2024-03-22 22:14:47,837] p15184 {utils.py:37} INFO - File img/CMP301_TrainDeploy_E1_20230607_SPEdited_image_28.jpg uploaded to multimodal-blog2-bucket-597703351594/multimodal/img/CMP301_TrainDeploy_E1_20230607_SPEdited_image_28.jpg.\n",
      "[2024-03-22 22:14:47,911] p15184 {utils.py:37} INFO - File img/CMP301_TrainDeploy_E1_20230607_SPEdited_image_29.jpg uploaded to multimodal-blog2-bucket-597703351594/multimodal/img/CMP301_TrainDeploy_E1_20230607_SPEdited_image_29.jpg.\n",
      "[2024-03-22 22:14:47,981] p15184 {utils.py:37} INFO - File img/CMP301_TrainDeploy_E1_20230607_SPEdited_image_30.jpg uploaded to multimodal-blog2-bucket-597703351594/multimodal/img/CMP301_TrainDeploy_E1_20230607_SPEdited_image_30.jpg.\n",
      "[2024-03-22 22:14:48,073] p15184 {utils.py:37} INFO - File img/CMP301_TrainDeploy_E1_20230607_SPEdited_image_31.jpg uploaded to multimodal-blog2-bucket-597703351594/multimodal/img/CMP301_TrainDeploy_E1_20230607_SPEdited_image_31.jpg.\n"
     ]
    }
   ],
   "source": [
    "_ = list(map(lambda img_path: upload_to_s3(img_path, bucket_name, g.BUCKET_IMG_PREFIX), images))"
   ]
  }
 ],
 "metadata": {
  "kernelspec": {
   "display_name": "conda_python3",
   "language": "python",
   "name": "conda_python3"
  },
  "language_info": {
   "codemirror_mode": {
    "name": "ipython",
    "version": 3
   },
   "file_extension": ".py",
   "mimetype": "text/x-python",
   "name": "python",
   "nbconvert_exporter": "python",
   "pygments_lexer": "ipython3",
   "version": "3.10.13"
  }
 },
 "nbformat": 4,
 "nbformat_minor": 5
}
