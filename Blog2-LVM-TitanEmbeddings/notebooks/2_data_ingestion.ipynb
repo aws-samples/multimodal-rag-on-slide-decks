{
 "cells": [
  {
   "cell_type": "markdown",
   "id": "8bbb582e-d21a-41cf-b45e-e2f462424ebe",
   "metadata": {
    "tags": []
   },
   "source": [
    "# Data ingestion\n",
    "\n",
    "***This notebook works best with the `conda_python3` on the `ml.t3.xlarge` instance***.\n",
    "\n",
    "---\n",
    "\n",
    "In this notebook we download the images corresponding to the slide deck that we uploaded into Amazon S3 in the [1_data_prep.ipynb](./1_data_prep) notebook, convert them into embeddings and then ingest these embeddings into a vector database i.e. [Amazon OpenSearch Service Serverless](https://aws.amazon.com/opensearch-service/features/serverless/).\n",
    "\n",
    "1. We use the [Anthropic’s Claude 3 Sonnet foundation model](https://aws.amazon.com/about-aws/whats-new/2024/03/anthropics-claude-3-sonnet-model-amazon-bedrock/) available on Bedrock to convert image to text.\n",
    "\n",
    "1. We then use [Amazon Titan Text Embeddings](https://docs.aws.amazon.com/bedrock/latest/userguide/titan-embedding-models.html) model to convert the text into embeddings.\n",
    "\n",
    "1. The embeddings are then ingested into OpenSearch Service Serverless using the [Amazon OpenSearch Ingestion](https://docs.aws.amazon.com/opensearch-service/latest/developerguide/ingestion.html) pipeline. We ingest the embeddings into an OpenSearch Serverless index via the OpenSearch Ingestion API.\n",
    "\n",
    "1. The OpenSearch Service Serverless Collection is created via the AWS CloudFormation stack for this blog post.\n"
   ]
  },
  {
   "cell_type": "markdown",
   "id": "32a62857-6a66-44db-9d92-3df221c6bd21",
   "metadata": {},
   "source": [
    "## Step 1. Setup\n",
    "\n",
    "Install the required Python packages and import the relevant files."
   ]
  },
  {
   "cell_type": "code",
   "execution_count": 1,
   "id": "7f869e5d-8e4b-4d44-9e2a-4f20b77b92d6",
   "metadata": {
    "collapsed": true,
    "jupyter": {
     "outputs_hidden": true
    },
    "tags": []
   },
   "outputs": [
    {
     "name": "stdout",
     "output_type": "stream",
     "text": [
      "Requirement already satisfied: sagemaker==2.199.0 in /home/ec2-user/anaconda3/envs/python3/lib/python3.10/site-packages (from -r requirements.txt (line 1)) (2.199.0)\n",
      "Requirement already satisfied: pypdfium2==4.24.0 in /home/ec2-user/anaconda3/envs/python3/lib/python3.10/site-packages (from -r requirements.txt (line 2)) (4.24.0)\n",
      "Requirement already satisfied: httplib2==0.19.0 in /home/ec2-user/anaconda3/envs/python3/lib/python3.10/site-packages (from -r requirements.txt (line 3)) (0.19.0)\n",
      "Requirement already satisfied: langchain==0.0.340 in /home/ec2-user/anaconda3/envs/python3/lib/python3.10/site-packages (from -r requirements.txt (line 4)) (0.0.340)\n",
      "Requirement already satisfied: requests==2.31.0 in /home/ec2-user/anaconda3/envs/python3/lib/python3.10/site-packages (from -r requirements.txt (line 5)) (2.31.0)\n",
      "Requirement already satisfied: pandas==1.5.3 in /home/ec2-user/anaconda3/envs/python3/lib/python3.10/site-packages (from -r requirements.txt (line 6)) (1.5.3)\n",
      "Requirement already satisfied: boto3==1.34.0 in /home/ec2-user/anaconda3/envs/python3/lib/python3.10/site-packages (from -r requirements.txt (line 7)) (1.34.0)\n",
      "Requirement already satisfied: botocore==1.34.0 in /home/ec2-user/anaconda3/envs/python3/lib/python3.10/site-packages (from -r requirements.txt (line 8)) (1.34.0)\n",
      "Requirement already satisfied: opensearch-py==2.4.2 in /home/ec2-user/anaconda3/envs/python3/lib/python3.10/site-packages (from -r requirements.txt (line 9)) (2.4.2)\n",
      "Requirement already satisfied: numexpr==2.8.0 in /home/ec2-user/anaconda3/envs/python3/lib/python3.10/site-packages (from -r requirements.txt (line 10)) (2.8.0)\n",
      "Requirement already satisfied: packaging>=22.0 in /home/ec2-user/anaconda3/envs/python3/lib/python3.10/site-packages (from -r requirements.txt (line 11)) (24.0)\n",
      "Requirement already satisfied: docutils in /home/ec2-user/anaconda3/envs/python3/lib/python3.10/site-packages (from -r requirements.txt (line 12)) (0.16)\n",
      "Requirement already satisfied: requests-auth-aws-sigv4 in /home/ec2-user/anaconda3/envs/python3/lib/python3.10/site-packages (from -r requirements.txt (line 14)) (0.7)\n",
      "Requirement already satisfied: attrs<24,>=23.1.0 in /home/ec2-user/anaconda3/envs/python3/lib/python3.10/site-packages (from sagemaker==2.199.0->-r requirements.txt (line 1)) (23.2.0)\n",
      "Requirement already satisfied: cloudpickle==2.2.1 in /home/ec2-user/anaconda3/envs/python3/lib/python3.10/site-packages (from sagemaker==2.199.0->-r requirements.txt (line 1)) (2.2.1)\n",
      "Requirement already satisfied: google-pasta in /home/ec2-user/anaconda3/envs/python3/lib/python3.10/site-packages (from sagemaker==2.199.0->-r requirements.txt (line 1)) (0.2.0)\n",
      "Requirement already satisfied: numpy<2.0,>=1.9.0 in /home/ec2-user/anaconda3/envs/python3/lib/python3.10/site-packages (from sagemaker==2.199.0->-r requirements.txt (line 1)) (1.22.4)\n",
      "Requirement already satisfied: protobuf<5.0,>=3.12 in /home/ec2-user/anaconda3/envs/python3/lib/python3.10/site-packages (from sagemaker==2.199.0->-r requirements.txt (line 1)) (4.25.3)\n",
      "Requirement already satisfied: smdebug-rulesconfig==1.0.1 in /home/ec2-user/anaconda3/envs/python3/lib/python3.10/site-packages (from sagemaker==2.199.0->-r requirements.txt (line 1)) (1.0.1)\n",
      "Requirement already satisfied: importlib-metadata<7.0,>=1.4.0 in /home/ec2-user/anaconda3/envs/python3/lib/python3.10/site-packages (from sagemaker==2.199.0->-r requirements.txt (line 1)) (6.11.0)\n",
      "Requirement already satisfied: pathos in /home/ec2-user/anaconda3/envs/python3/lib/python3.10/site-packages (from sagemaker==2.199.0->-r requirements.txt (line 1)) (0.3.2)\n",
      "Requirement already satisfied: schema in /home/ec2-user/anaconda3/envs/python3/lib/python3.10/site-packages (from sagemaker==2.199.0->-r requirements.txt (line 1)) (0.7.5)\n",
      "Requirement already satisfied: PyYAML~=6.0 in /home/ec2-user/anaconda3/envs/python3/lib/python3.10/site-packages (from sagemaker==2.199.0->-r requirements.txt (line 1)) (6.0.1)\n",
      "Requirement already satisfied: jsonschema in /home/ec2-user/anaconda3/envs/python3/lib/python3.10/site-packages (from sagemaker==2.199.0->-r requirements.txt (line 1)) (4.21.1)\n",
      "Requirement already satisfied: platformdirs in /home/ec2-user/anaconda3/envs/python3/lib/python3.10/site-packages (from sagemaker==2.199.0->-r requirements.txt (line 1)) (4.2.0)\n",
      "Requirement already satisfied: tblib==1.7.0 in /home/ec2-user/anaconda3/envs/python3/lib/python3.10/site-packages (from sagemaker==2.199.0->-r requirements.txt (line 1)) (1.7.0)\n",
      "Requirement already satisfied: urllib3<1.27 in /home/ec2-user/anaconda3/envs/python3/lib/python3.10/site-packages (from sagemaker==2.199.0->-r requirements.txt (line 1)) (1.26.18)\n",
      "Requirement already satisfied: uvicorn==0.22.0 in /home/ec2-user/anaconda3/envs/python3/lib/python3.10/site-packages (from sagemaker==2.199.0->-r requirements.txt (line 1)) (0.22.0)\n",
      "Requirement already satisfied: fastapi==0.95.2 in /home/ec2-user/anaconda3/envs/python3/lib/python3.10/site-packages (from sagemaker==2.199.0->-r requirements.txt (line 1)) (0.95.2)\n",
      "Requirement already satisfied: docker in /home/ec2-user/anaconda3/envs/python3/lib/python3.10/site-packages (from sagemaker==2.199.0->-r requirements.txt (line 1)) (6.1.3)\n",
      "Requirement already satisfied: tqdm in /home/ec2-user/anaconda3/envs/python3/lib/python3.10/site-packages (from sagemaker==2.199.0->-r requirements.txt (line 1)) (4.66.1)\n",
      "Requirement already satisfied: psutil in /home/ec2-user/anaconda3/envs/python3/lib/python3.10/site-packages (from sagemaker==2.199.0->-r requirements.txt (line 1)) (5.9.8)\n",
      "Requirement already satisfied: pyparsing<3,>=2.4.2 in /home/ec2-user/anaconda3/envs/python3/lib/python3.10/site-packages (from httplib2==0.19.0->-r requirements.txt (line 3)) (2.4.7)\n",
      "Requirement already satisfied: SQLAlchemy<3,>=1.4 in /home/ec2-user/anaconda3/envs/python3/lib/python3.10/site-packages (from langchain==0.0.340->-r requirements.txt (line 4)) (2.0.25)\n",
      "Requirement already satisfied: aiohttp<4.0.0,>=3.8.3 in /home/ec2-user/anaconda3/envs/python3/lib/python3.10/site-packages (from langchain==0.0.340->-r requirements.txt (line 4)) (3.9.1)\n",
      "Requirement already satisfied: anyio<4.0 in /home/ec2-user/anaconda3/envs/python3/lib/python3.10/site-packages (from langchain==0.0.340->-r requirements.txt (line 4)) (3.7.1)\n",
      "Requirement already satisfied: async-timeout<5.0.0,>=4.0.0 in /home/ec2-user/anaconda3/envs/python3/lib/python3.10/site-packages (from langchain==0.0.340->-r requirements.txt (line 4)) (4.0.3)\n",
      "Requirement already satisfied: dataclasses-json<0.7,>=0.5.7 in /home/ec2-user/anaconda3/envs/python3/lib/python3.10/site-packages (from langchain==0.0.340->-r requirements.txt (line 4)) (0.6.4)\n",
      "Requirement already satisfied: jsonpatch<2.0,>=1.33 in /home/ec2-user/anaconda3/envs/python3/lib/python3.10/site-packages (from langchain==0.0.340->-r requirements.txt (line 4)) (1.33)\n",
      "Requirement already satisfied: langsmith<0.1.0,>=0.0.63 in /home/ec2-user/anaconda3/envs/python3/lib/python3.10/site-packages (from langchain==0.0.340->-r requirements.txt (line 4)) (0.0.92)\n",
      "Requirement already satisfied: pydantic<3,>=1 in /home/ec2-user/anaconda3/envs/python3/lib/python3.10/site-packages (from langchain==0.0.340->-r requirements.txt (line 4)) (1.10.14)\n",
      "Requirement already satisfied: tenacity<9.0.0,>=8.1.0 in /home/ec2-user/anaconda3/envs/python3/lib/python3.10/site-packages (from langchain==0.0.340->-r requirements.txt (line 4)) (8.2.3)\n",
      "Requirement already satisfied: charset-normalizer<4,>=2 in /home/ec2-user/anaconda3/envs/python3/lib/python3.10/site-packages (from requests==2.31.0->-r requirements.txt (line 5)) (3.3.2)\n",
      "Requirement already satisfied: idna<4,>=2.5 in /home/ec2-user/anaconda3/envs/python3/lib/python3.10/site-packages (from requests==2.31.0->-r requirements.txt (line 5)) (3.6)\n",
      "Requirement already satisfied: certifi>=2017.4.17 in /home/ec2-user/anaconda3/envs/python3/lib/python3.10/site-packages (from requests==2.31.0->-r requirements.txt (line 5)) (2024.2.2)\n",
      "Requirement already satisfied: python-dateutil>=2.8.1 in /home/ec2-user/anaconda3/envs/python3/lib/python3.10/site-packages (from pandas==1.5.3->-r requirements.txt (line 6)) (2.8.2)\n",
      "Requirement already satisfied: pytz>=2020.1 in /home/ec2-user/anaconda3/envs/python3/lib/python3.10/site-packages (from pandas==1.5.3->-r requirements.txt (line 6)) (2023.4)\n",
      "Requirement already satisfied: jmespath<2.0.0,>=0.7.1 in /home/ec2-user/anaconda3/envs/python3/lib/python3.10/site-packages (from boto3==1.34.0->-r requirements.txt (line 7)) (1.0.1)\n",
      "Requirement already satisfied: s3transfer<0.10.0,>=0.9.0 in /home/ec2-user/anaconda3/envs/python3/lib/python3.10/site-packages (from boto3==1.34.0->-r requirements.txt (line 7)) (0.9.0)\n",
      "Requirement already satisfied: six in /home/ec2-user/anaconda3/envs/python3/lib/python3.10/site-packages (from opensearch-py==2.4.2->-r requirements.txt (line 9)) (1.16.0)\n",
      "Requirement already satisfied: starlette<0.28.0,>=0.27.0 in /home/ec2-user/anaconda3/envs/python3/lib/python3.10/site-packages (from fastapi==0.95.2->sagemaker==2.199.0->-r requirements.txt (line 1)) (0.27.0)\n",
      "Requirement already satisfied: click>=7.0 in /home/ec2-user/anaconda3/envs/python3/lib/python3.10/site-packages (from uvicorn==0.22.0->sagemaker==2.199.0->-r requirements.txt (line 1)) (8.1.7)\n",
      "Requirement already satisfied: h11>=0.8 in /home/ec2-user/anaconda3/envs/python3/lib/python3.10/site-packages (from uvicorn==0.22.0->sagemaker==2.199.0->-r requirements.txt (line 1)) (0.14.0)\n",
      "Requirement already satisfied: multidict<7.0,>=4.5 in /home/ec2-user/anaconda3/envs/python3/lib/python3.10/site-packages (from aiohttp<4.0.0,>=3.8.3->langchain==0.0.340->-r requirements.txt (line 4)) (6.0.4)\n",
      "Requirement already satisfied: yarl<2.0,>=1.0 in /home/ec2-user/anaconda3/envs/python3/lib/python3.10/site-packages (from aiohttp<4.0.0,>=3.8.3->langchain==0.0.340->-r requirements.txt (line 4)) (1.9.4)\n",
      "Requirement already satisfied: frozenlist>=1.1.1 in /home/ec2-user/anaconda3/envs/python3/lib/python3.10/site-packages (from aiohttp<4.0.0,>=3.8.3->langchain==0.0.340->-r requirements.txt (line 4)) (1.4.1)\n",
      "Requirement already satisfied: aiosignal>=1.1.2 in /home/ec2-user/anaconda3/envs/python3/lib/python3.10/site-packages (from aiohttp<4.0.0,>=3.8.3->langchain==0.0.340->-r requirements.txt (line 4)) (1.3.1)\n",
      "Requirement already satisfied: sniffio>=1.1 in /home/ec2-user/anaconda3/envs/python3/lib/python3.10/site-packages (from anyio<4.0->langchain==0.0.340->-r requirements.txt (line 4)) (1.3.0)\n",
      "Requirement already satisfied: exceptiongroup in /home/ec2-user/anaconda3/envs/python3/lib/python3.10/site-packages (from anyio<4.0->langchain==0.0.340->-r requirements.txt (line 4)) (1.2.0)\n",
      "Requirement already satisfied: marshmallow<4.0.0,>=3.18.0 in /home/ec2-user/anaconda3/envs/python3/lib/python3.10/site-packages (from dataclasses-json<0.7,>=0.5.7->langchain==0.0.340->-r requirements.txt (line 4)) (3.21.1)\n",
      "Requirement already satisfied: typing-inspect<1,>=0.4.0 in /home/ec2-user/anaconda3/envs/python3/lib/python3.10/site-packages (from dataclasses-json<0.7,>=0.5.7->langchain==0.0.340->-r requirements.txt (line 4)) (0.9.0)\n",
      "Requirement already satisfied: zipp>=0.5 in /home/ec2-user/anaconda3/envs/python3/lib/python3.10/site-packages (from importlib-metadata<7.0,>=1.4.0->sagemaker==2.199.0->-r requirements.txt (line 1)) (3.17.0)\n",
      "Requirement already satisfied: jsonpointer>=1.9 in /home/ec2-user/anaconda3/envs/python3/lib/python3.10/site-packages (from jsonpatch<2.0,>=1.33->langchain==0.0.340->-r requirements.txt (line 4)) (2.4)\n",
      "Requirement already satisfied: typing-extensions>=4.2.0 in /home/ec2-user/anaconda3/envs/python3/lib/python3.10/site-packages (from pydantic<3,>=1->langchain==0.0.340->-r requirements.txt (line 4)) (4.9.0)\n",
      "Requirement already satisfied: greenlet!=0.4.17 in /home/ec2-user/anaconda3/envs/python3/lib/python3.10/site-packages (from SQLAlchemy<3,>=1.4->langchain==0.0.340->-r requirements.txt (line 4)) (3.0.3)\n",
      "Requirement already satisfied: websocket-client>=0.32.0 in /home/ec2-user/anaconda3/envs/python3/lib/python3.10/site-packages (from docker->sagemaker==2.199.0->-r requirements.txt (line 1)) (1.7.0)\n",
      "Requirement already satisfied: jsonschema-specifications>=2023.03.6 in /home/ec2-user/anaconda3/envs/python3/lib/python3.10/site-packages (from jsonschema->sagemaker==2.199.0->-r requirements.txt (line 1)) (2023.12.1)\n",
      "Requirement already satisfied: referencing>=0.28.4 in /home/ec2-user/anaconda3/envs/python3/lib/python3.10/site-packages (from jsonschema->sagemaker==2.199.0->-r requirements.txt (line 1)) (0.33.0)\n",
      "Requirement already satisfied: rpds-py>=0.7.1 in /home/ec2-user/anaconda3/envs/python3/lib/python3.10/site-packages (from jsonschema->sagemaker==2.199.0->-r requirements.txt (line 1)) (0.17.1)\n",
      "Requirement already satisfied: ppft>=1.7.6.8 in /home/ec2-user/anaconda3/envs/python3/lib/python3.10/site-packages (from pathos->sagemaker==2.199.0->-r requirements.txt (line 1)) (1.7.6.8)\n",
      "Requirement already satisfied: dill>=0.3.8 in /home/ec2-user/anaconda3/envs/python3/lib/python3.10/site-packages (from pathos->sagemaker==2.199.0->-r requirements.txt (line 1)) (0.3.8)\n",
      "Requirement already satisfied: pox>=0.3.4 in /home/ec2-user/anaconda3/envs/python3/lib/python3.10/site-packages (from pathos->sagemaker==2.199.0->-r requirements.txt (line 1)) (0.3.4)\n",
      "Requirement already satisfied: multiprocess>=0.70.16 in /home/ec2-user/anaconda3/envs/python3/lib/python3.10/site-packages (from pathos->sagemaker==2.199.0->-r requirements.txt (line 1)) (0.70.16)\n",
      "Requirement already satisfied: contextlib2>=0.5.5 in /home/ec2-user/anaconda3/envs/python3/lib/python3.10/site-packages (from schema->sagemaker==2.199.0->-r requirements.txt (line 1)) (21.6.0)\n",
      "Requirement already satisfied: mypy-extensions>=0.3.0 in /home/ec2-user/anaconda3/envs/python3/lib/python3.10/site-packages (from typing-inspect<1,>=0.4.0->dataclasses-json<0.7,>=0.5.7->langchain==0.0.340->-r requirements.txt (line 4)) (1.0.0)\n"
     ]
    }
   ],
   "source": [
    "import sys\n",
    "!{sys.executable} -m pip install -r requirements.txt"
   ]
  },
  {
   "cell_type": "code",
   "execution_count": 2,
   "id": "beda5d30-06f7-44a6-9b1d-8ac27fb93cfa",
   "metadata": {
    "tags": []
   },
   "outputs": [
    {
     "name": "stdout",
     "output_type": "stream",
     "text": [
      "sagemaker.config INFO - Not applying SDK defaults from location: /etc/xdg/sagemaker/config.yaml\n",
      "sagemaker.config INFO - Not applying SDK defaults from location: /home/ec2-user/.config/sagemaker/config.yaml\n"
     ]
    }
   ],
   "source": [
    "import os\n",
    "import time\n",
    "import glob\n",
    "import json\n",
    "import time\n",
    "import boto3\n",
    "import codecs\n",
    "import base64\n",
    "import logging\n",
    "import requests\n",
    "import botocore\n",
    "import sagemaker\n",
    "import numpy as np\n",
    "import globals as g\n",
    "from typing import List\n",
    "from pathlib import Path\n",
    "from requests_auth_aws_sigv4 import AWSSigV4\n",
    "from opensearchpy import OpenSearch, RequestsHttpConnection, AWSV4SignerAuth\n",
    "from utils import get_cfn_outputs, get_bucket_name, download_image_files_from_s3, get_text_embedding\n",
    "\n",
    "logging.basicConfig(format='[%(asctime)s] p%(process)s {%(filename)s:%(lineno)d} %(levelname)s - %(message)s', level=logging.INFO)\n",
    "logger = logging.getLogger(__name__)"
   ]
  },
  {
   "cell_type": "code",
   "execution_count": 3,
   "id": "bcf9ddf2-d8f5-404a-8fcf-a5efa3f3fad1",
   "metadata": {},
   "outputs": [],
   "source": [
    "bucket_name: str = get_bucket_name(g.CFN_STACK_NAME)\n",
    "s3 = boto3.client('s3')"
   ]
  },
  {
   "cell_type": "code",
   "execution_count": 4,
   "id": "90d273a8-4d5a-4ede-bc3f-b7d9c8fe6825",
   "metadata": {
    "tags": []
   },
   "outputs": [
    {
     "name": "stdout",
     "output_type": "stream",
     "text": [
      "sagemaker.config INFO - Not applying SDK defaults from location: /etc/xdg/sagemaker/config.yaml\n",
      "sagemaker.config INFO - Not applying SDK defaults from location: /home/ec2-user/.config/sagemaker/config.yaml\n"
     ]
    }
   ],
   "source": [
    "sagemaker_session = sagemaker.Session()\n",
    "sm_client = sagemaker_session.sagemaker_client\n",
    "sm_runtime_client = sagemaker_session.sagemaker_runtime_client"
   ]
  },
  {
   "cell_type": "code",
   "execution_count": 5,
   "id": "e428171a-b0fa-4640-af74-8ec2b032d7e5",
   "metadata": {},
   "outputs": [],
   "source": [
    "bedrock = boto3.client(service_name=\"bedrock-runtime\", region_name=g.AWS_REGION, endpoint_url=g.TITAN_URL)"
   ]
  },
  {
   "cell_type": "code",
   "execution_count": 6,
   "id": "88ba8ccd-7e5e-48c5-93fd-2a98319f33c3",
   "metadata": {
    "tags": []
   },
   "outputs": [
    {
     "name": "stderr",
     "output_type": "stream",
     "text": [
      "[2024-03-22 22:15:14,392] p11865 {3657514484.py:4} INFO - opensearchhost=qg3ibzbsjrmc1szxroih.us-west-2.aoss.amazonaws.com, index=slides\n"
     ]
    }
   ],
   "source": [
    "outputs = get_cfn_outputs(g.CFN_STACK_NAME)\n",
    "host = outputs['MultimodalCollectionEndpoint'].split('//')[1]\n",
    "index_name = outputs['OpenSearchIndexName']\n",
    "logger.info(f\"opensearchhost={host}, index={index_name}\")\n",
    "\n",
    "osi_endpoint = f\"https://{outputs['OpenSearchPipelineEndpoint']}/data/ingest\""
   ]
  },
  {
   "cell_type": "markdown",
   "id": "c9213968-f87b-4e19-9d4d-99d0ab8f19d6",
   "metadata": {},
   "source": [
    "We use the OpenSearch client to create an index."
   ]
  },
  {
   "cell_type": "code",
   "execution_count": 7,
   "id": "95923df7-fe11-4ace-ba2a-f56edf0ac1d0",
   "metadata": {
    "tags": []
   },
   "outputs": [
    {
     "name": "stderr",
     "output_type": "stream",
     "text": [
      "[2024-03-22 22:15:14,431] p11865 {credentials.py:1075} INFO - Found credentials from IAM Role: BaseNotebookInstanceEc2InstanceRole\n"
     ]
    }
   ],
   "source": [
    "session = boto3.Session()\n",
    "credentials = session.get_credentials()\n",
    "auth = AWSV4SignerAuth(credentials, g.AWS_REGION, g.OS_SERVICE)\n",
    "\n",
    "os_client = OpenSearch(\n",
    "    hosts = [{'host': host, 'port': 443}],\n",
    "    http_auth = auth,\n",
    "    use_ssl = True,\n",
    "    verify_certs = True,\n",
    "    connection_class = RequestsHttpConnection,\n",
    "    pool_maxsize = 20\n",
    ")"
   ]
  },
  {
   "cell_type": "code",
   "execution_count": 8,
   "id": "1921892a-e599-490b-bd91-accc5cdb5f4b",
   "metadata": {
    "tags": []
   },
   "outputs": [
    {
     "name": "stderr",
     "output_type": "stream",
     "text": [
      "[2024-03-22 22:15:15,739] p11865 {base.py:259} INFO - PUT https://qg3ibzbsjrmc1szxroih.us-west-2.aoss.amazonaws.com:443/slides [status:200 request:1.295s]\n",
      "[2024-03-22 22:15:15,740] p11865 {952156850.py:46} INFO - response received for the create index -> {'acknowledged': True, 'shards_acknowledged': True, 'index': 'slides'}\n"
     ]
    }
   ],
   "source": [
    "index_body = \"\"\"\n",
    "{\n",
    "  \"settings\": {\n",
    "    \"index.knn\": true\n",
    "  },\n",
    "  \"mappings\": {\n",
    "    \"properties\": {\n",
    "      \"vector_embedding\": {\n",
    "        \"type\": \"knn_vector\",\n",
    "        \"dimension\": 1536,\n",
    "        \"method\": {\n",
    "          \"name\": \"hnsw\",\n",
    "          \"engine\": \"nmslib\",\n",
    "          \"parameters\": {}\n",
    "        }\n",
    "      },\n",
    "      \"image_path\": {\n",
    "        \"type\": \"text\"\n",
    "      },\n",
    "      \"slide_text\": {\n",
    "        \"type\": \"text\"\n",
    "      },\n",
    "      \"slide_number\": {\n",
    "        \"type\": \"text\"\n",
    "      },\n",
    "       \"metadata\": { \n",
    "        \"properties\" :\n",
    "          {\n",
    "            \"filename\" : {\n",
    "              \"type\" : \"text\"\n",
    "            },\n",
    "            \"desc\":{\n",
    "              \"type\": \"text\"\n",
    "            }\n",
    "          }\n",
    "      }\n",
    "    }\n",
    "  }\n",
    "}\n",
    "\"\"\"\n",
    "\n",
    "# We would get an index already exists exception if the index already exists, and that is fine.\n",
    "index_body = json.loads(index_body)\n",
    "try:\n",
    "    response = os_client.indices.create(index_name, body=index_body)\n",
    "    logger.info(f\"response received for the create index -> {response}\")\n",
    "except Exception as e:\n",
    "    logger.error(f\"error in creating index={index_name}, exception={e}\")"
   ]
  },
  {
   "cell_type": "markdown",
   "id": "369078c2-94b1-4510-940a-78e6b029e506",
   "metadata": {},
   "source": [
    "## Step 2. Download the images files from S3 and convert to Base64\n",
    "\n",
    "Now we download the image files from the S3 bucket. Once downloaded these files are converted into [Base64](https://en.wikipedia.org/wiki/Base64) encoding so that we can create embeddings from the images."
   ]
  },
  {
   "cell_type": "code",
   "execution_count": 9,
   "id": "14d0ec15-3aca-41d9-a4b1-4b6dde4a2f75",
   "metadata": {
    "tags": []
   },
   "outputs": [
    {
     "name": "stderr",
     "output_type": "stream",
     "text": [
      "[2024-03-22 22:15:15,852] p11865 {utils.py:48} INFO - downloaded multimodal-blog2-bucket-597703351594/multimodal/img/CMP301_TrainDeploy_E1_20230607_SPEdited_image_1.jpg to img/CMP301_TrainDeploy_E1_20230607_SPEdited_image_1.jpg\n",
      "[2024-03-22 22:15:15,923] p11865 {utils.py:48} INFO - downloaded multimodal-blog2-bucket-597703351594/multimodal/img/CMP301_TrainDeploy_E1_20230607_SPEdited_image_10.jpg to img/CMP301_TrainDeploy_E1_20230607_SPEdited_image_10.jpg\n",
      "[2024-03-22 22:15:15,962] p11865 {utils.py:48} INFO - downloaded multimodal-blog2-bucket-597703351594/multimodal/img/CMP301_TrainDeploy_E1_20230607_SPEdited_image_11.jpg to img/CMP301_TrainDeploy_E1_20230607_SPEdited_image_11.jpg\n",
      "[2024-03-22 22:15:15,998] p11865 {utils.py:48} INFO - downloaded multimodal-blog2-bucket-597703351594/multimodal/img/CMP301_TrainDeploy_E1_20230607_SPEdited_image_12.jpg to img/CMP301_TrainDeploy_E1_20230607_SPEdited_image_12.jpg\n",
      "[2024-03-22 22:15:16,031] p11865 {utils.py:48} INFO - downloaded multimodal-blog2-bucket-597703351594/multimodal/img/CMP301_TrainDeploy_E1_20230607_SPEdited_image_13.jpg to img/CMP301_TrainDeploy_E1_20230607_SPEdited_image_13.jpg\n",
      "[2024-03-22 22:15:16,098] p11865 {utils.py:48} INFO - downloaded multimodal-blog2-bucket-597703351594/multimodal/img/CMP301_TrainDeploy_E1_20230607_SPEdited_image_14.jpg to img/CMP301_TrainDeploy_E1_20230607_SPEdited_image_14.jpg\n",
      "[2024-03-22 22:15:16,139] p11865 {utils.py:48} INFO - downloaded multimodal-blog2-bucket-597703351594/multimodal/img/CMP301_TrainDeploy_E1_20230607_SPEdited_image_15.jpg to img/CMP301_TrainDeploy_E1_20230607_SPEdited_image_15.jpg\n",
      "[2024-03-22 22:15:16,177] p11865 {utils.py:48} INFO - downloaded multimodal-blog2-bucket-597703351594/multimodal/img/CMP301_TrainDeploy_E1_20230607_SPEdited_image_16.jpg to img/CMP301_TrainDeploy_E1_20230607_SPEdited_image_16.jpg\n",
      "[2024-03-22 22:15:16,219] p11865 {utils.py:48} INFO - downloaded multimodal-blog2-bucket-597703351594/multimodal/img/CMP301_TrainDeploy_E1_20230607_SPEdited_image_17.jpg to img/CMP301_TrainDeploy_E1_20230607_SPEdited_image_17.jpg\n",
      "[2024-03-22 22:15:16,292] p11865 {utils.py:48} INFO - downloaded multimodal-blog2-bucket-597703351594/multimodal/img/CMP301_TrainDeploy_E1_20230607_SPEdited_image_18.jpg to img/CMP301_TrainDeploy_E1_20230607_SPEdited_image_18.jpg\n",
      "[2024-03-22 22:15:16,332] p11865 {utils.py:48} INFO - downloaded multimodal-blog2-bucket-597703351594/multimodal/img/CMP301_TrainDeploy_E1_20230607_SPEdited_image_19.jpg to img/CMP301_TrainDeploy_E1_20230607_SPEdited_image_19.jpg\n",
      "[2024-03-22 22:15:16,378] p11865 {utils.py:48} INFO - downloaded multimodal-blog2-bucket-597703351594/multimodal/img/CMP301_TrainDeploy_E1_20230607_SPEdited_image_2.jpg to img/CMP301_TrainDeploy_E1_20230607_SPEdited_image_2.jpg\n",
      "[2024-03-22 22:15:16,436] p11865 {utils.py:48} INFO - downloaded multimodal-blog2-bucket-597703351594/multimodal/img/CMP301_TrainDeploy_E1_20230607_SPEdited_image_20.jpg to img/CMP301_TrainDeploy_E1_20230607_SPEdited_image_20.jpg\n",
      "[2024-03-22 22:15:16,475] p11865 {utils.py:48} INFO - downloaded multimodal-blog2-bucket-597703351594/multimodal/img/CMP301_TrainDeploy_E1_20230607_SPEdited_image_21.jpg to img/CMP301_TrainDeploy_E1_20230607_SPEdited_image_21.jpg\n",
      "[2024-03-22 22:15:16,514] p11865 {utils.py:48} INFO - downloaded multimodal-blog2-bucket-597703351594/multimodal/img/CMP301_TrainDeploy_E1_20230607_SPEdited_image_22.jpg to img/CMP301_TrainDeploy_E1_20230607_SPEdited_image_22.jpg\n",
      "[2024-03-22 22:15:16,559] p11865 {utils.py:48} INFO - downloaded multimodal-blog2-bucket-597703351594/multimodal/img/CMP301_TrainDeploy_E1_20230607_SPEdited_image_23.jpg to img/CMP301_TrainDeploy_E1_20230607_SPEdited_image_23.jpg\n",
      "[2024-03-22 22:15:16,599] p11865 {utils.py:48} INFO - downloaded multimodal-blog2-bucket-597703351594/multimodal/img/CMP301_TrainDeploy_E1_20230607_SPEdited_image_24.jpg to img/CMP301_TrainDeploy_E1_20230607_SPEdited_image_24.jpg\n",
      "[2024-03-22 22:15:16,661] p11865 {utils.py:48} INFO - downloaded multimodal-blog2-bucket-597703351594/multimodal/img/CMP301_TrainDeploy_E1_20230607_SPEdited_image_25.jpg to img/CMP301_TrainDeploy_E1_20230607_SPEdited_image_25.jpg\n",
      "[2024-03-22 22:15:16,741] p11865 {utils.py:48} INFO - downloaded multimodal-blog2-bucket-597703351594/multimodal/img/CMP301_TrainDeploy_E1_20230607_SPEdited_image_26.jpg to img/CMP301_TrainDeploy_E1_20230607_SPEdited_image_26.jpg\n",
      "[2024-03-22 22:15:16,778] p11865 {utils.py:48} INFO - downloaded multimodal-blog2-bucket-597703351594/multimodal/img/CMP301_TrainDeploy_E1_20230607_SPEdited_image_27.jpg to img/CMP301_TrainDeploy_E1_20230607_SPEdited_image_27.jpg\n",
      "[2024-03-22 22:15:16,817] p11865 {utils.py:48} INFO - downloaded multimodal-blog2-bucket-597703351594/multimodal/img/CMP301_TrainDeploy_E1_20230607_SPEdited_image_28.jpg to img/CMP301_TrainDeploy_E1_20230607_SPEdited_image_28.jpg\n",
      "[2024-03-22 22:15:16,863] p11865 {utils.py:48} INFO - downloaded multimodal-blog2-bucket-597703351594/multimodal/img/CMP301_TrainDeploy_E1_20230607_SPEdited_image_29.jpg to img/CMP301_TrainDeploy_E1_20230607_SPEdited_image_29.jpg\n",
      "[2024-03-22 22:15:16,900] p11865 {utils.py:48} INFO - downloaded multimodal-blog2-bucket-597703351594/multimodal/img/CMP301_TrainDeploy_E1_20230607_SPEdited_image_3.jpg to img/CMP301_TrainDeploy_E1_20230607_SPEdited_image_3.jpg\n",
      "[2024-03-22 22:15:16,936] p11865 {utils.py:48} INFO - downloaded multimodal-blog2-bucket-597703351594/multimodal/img/CMP301_TrainDeploy_E1_20230607_SPEdited_image_30.jpg to img/CMP301_TrainDeploy_E1_20230607_SPEdited_image_30.jpg\n",
      "[2024-03-22 22:15:16,974] p11865 {utils.py:48} INFO - downloaded multimodal-blog2-bucket-597703351594/multimodal/img/CMP301_TrainDeploy_E1_20230607_SPEdited_image_31.jpg to img/CMP301_TrainDeploy_E1_20230607_SPEdited_image_31.jpg\n",
      "[2024-03-22 22:15:17,010] p11865 {utils.py:48} INFO - downloaded multimodal-blog2-bucket-597703351594/multimodal/img/CMP301_TrainDeploy_E1_20230607_SPEdited_image_4.jpg to img/CMP301_TrainDeploy_E1_20230607_SPEdited_image_4.jpg\n",
      "[2024-03-22 22:15:17,069] p11865 {utils.py:48} INFO - downloaded multimodal-blog2-bucket-597703351594/multimodal/img/CMP301_TrainDeploy_E1_20230607_SPEdited_image_5.jpg to img/CMP301_TrainDeploy_E1_20230607_SPEdited_image_5.jpg\n",
      "[2024-03-22 22:15:17,111] p11865 {utils.py:48} INFO - downloaded multimodal-blog2-bucket-597703351594/multimodal/img/CMP301_TrainDeploy_E1_20230607_SPEdited_image_6.jpg to img/CMP301_TrainDeploy_E1_20230607_SPEdited_image_6.jpg\n",
      "[2024-03-22 22:15:17,150] p11865 {utils.py:48} INFO - downloaded multimodal-blog2-bucket-597703351594/multimodal/img/CMP301_TrainDeploy_E1_20230607_SPEdited_image_7.jpg to img/CMP301_TrainDeploy_E1_20230607_SPEdited_image_7.jpg\n",
      "[2024-03-22 22:15:17,186] p11865 {utils.py:48} INFO - downloaded multimodal-blog2-bucket-597703351594/multimodal/img/CMP301_TrainDeploy_E1_20230607_SPEdited_image_8.jpg to img/CMP301_TrainDeploy_E1_20230607_SPEdited_image_8.jpg\n",
      "[2024-03-22 22:15:17,223] p11865 {utils.py:48} INFO - downloaded multimodal-blog2-bucket-597703351594/multimodal/img/CMP301_TrainDeploy_E1_20230607_SPEdited_image_9.jpg to img/CMP301_TrainDeploy_E1_20230607_SPEdited_image_9.jpg\n",
      "[2024-03-22 22:15:17,226] p11865 {1297213205.py:3} INFO - downloaded 31 from s3\n"
     ]
    }
   ],
   "source": [
    "# download images from S3, we would be converting these to embeddings\n",
    "image_files: List = download_image_files_from_s3(bucket_name, g.BUCKET_IMG_PREFIX, g.IMAGE_DIR, g.IMAGE_FILE_EXTN)\n",
    "logger.info(f\"downloaded {len(image_files)} from s3\")"
   ]
  },
  {
   "cell_type": "markdown",
   "id": "c70833d4-b585-477b-93ec-5556c994b9ba",
   "metadata": {},
   "source": [
    "Convert jpg files into Base64."
   ]
  },
  {
   "cell_type": "code",
   "execution_count": 10,
   "id": "6e2c8f80-d457-46d5-9d20-f1ca8ebe106b",
   "metadata": {
    "tags": []
   },
   "outputs": [],
   "source": [
    "def encode_image_to_base64(image_file_path: str) -> str:\n",
    "    with open(image_file_path, \"rb\") as image_file:\n",
    "        b64_image = base64.b64encode(image_file.read()).decode('utf8')\n",
    "        b64_image_path = os.path.join(g.B64_ENCODED_IMAGES_DIR, f\"{Path(image_file_path).stem}.b64\")\n",
    "        with open(b64_image_path, \"wb\") as b64_image_file:\n",
    "            b64_image_file.write(bytes(b64_image, 'utf-8'))\n",
    "    return b64_image_path"
   ]
  },
  {
   "cell_type": "markdown",
   "id": "d1d70875-7b8b-44ff-bb5a-0f8b9e43adca",
   "metadata": {},
   "source": [
    "## Step 3. Get embeddings for the base64 encoded images\n",
    "\n",
    "Now we are ready to use Amazon Bedrock via the  Anthropic’s Claude 3 Sonnet foundation model and Amazon Titan Text Embeddings model to convert the base64 version of the images into embeddings. We ingest embeddings into the pipeline using the [requests](https://pypi.org/project/requests/) HTTP library\n",
    "\n",
    "You must sign all HTTP requests to the pipeline using [Signature Version 4](https://docs.aws.amazon.com/general/latest/gr/signature-version-4.html)."
   ]
  },
  {
   "cell_type": "code",
   "execution_count": 11,
   "id": "aef0ed32-9e7f-448b-93d5-ef0e65404f8d",
   "metadata": {
    "tags": []
   },
   "outputs": [],
   "source": [
    "def get_img_desc(image_file_path: str, prompt: str):\n",
    "    # read the file, MAX image size supported is 2048 * 2048 pixels\n",
    "    with open(image_file_path, \"rb\") as image_file:\n",
    "        input_image_b64 = image_file.read().decode('utf-8')\n",
    "  \n",
    "    body = json.dumps(\n",
    "        {\n",
    "            \"anthropic_version\": \"bedrock-2023-05-31\",\n",
    "            \"max_tokens\": 1000,\n",
    "            \"messages\": [\n",
    "                {\n",
    "                    \"role\": \"user\",\n",
    "                    \"content\": [\n",
    "                        {\n",
    "                            \"type\": \"image\",\n",
    "                            \"source\": {\n",
    "                                \"type\": \"base64\",\n",
    "                                \"media_type\": \"image/jpeg\",\n",
    "                                \"data\": input_image_b64\n",
    "                            },\n",
    "                        },\n",
    "                        {\"type\": \"text\", \"text\": prompt},\n",
    "                    ],\n",
    "                }\n",
    "            ],\n",
    "        }\n",
    "    )\n",
    "    \n",
    "    response = bedrock.invoke_model(\n",
    "        modelId=g.CLAUDE_MODEL_ID,\n",
    "        body=body\n",
    "    )\n",
    "\n",
    "    resp_body = json.loads(response['body'].read().decode(\"utf-8\"))\n",
    "    resp_text = resp_body['content'][0]['text'].replace('\"', \"'\")\n",
    "\n",
    "    return resp_text"
   ]
  },
  {
   "cell_type": "code",
   "execution_count": 12,
   "id": "952d6845-1dc7-4d47-b296-d717a25d2494",
   "metadata": {
    "tags": []
   },
   "outputs": [
    {
     "name": "stderr",
     "output_type": "stream",
     "text": [
      "[2024-03-22 22:15:17,318] p11865 {utils.py:48} INFO - downloaded multimodal-blog2-bucket-597703351594/multimodal/img/CMP301_TrainDeploy_E1_20230607_SPEdited_image_1.jpg to img/CMP301_TrainDeploy_E1_20230607_SPEdited_image_1.jpg\n",
      "[2024-03-22 22:15:17,349] p11865 {utils.py:48} INFO - downloaded multimodal-blog2-bucket-597703351594/multimodal/img/CMP301_TrainDeploy_E1_20230607_SPEdited_image_10.jpg to img/CMP301_TrainDeploy_E1_20230607_SPEdited_image_10.jpg\n",
      "[2024-03-22 22:15:17,381] p11865 {utils.py:48} INFO - downloaded multimodal-blog2-bucket-597703351594/multimodal/img/CMP301_TrainDeploy_E1_20230607_SPEdited_image_11.jpg to img/CMP301_TrainDeploy_E1_20230607_SPEdited_image_11.jpg\n",
      "[2024-03-22 22:15:17,414] p11865 {utils.py:48} INFO - downloaded multimodal-blog2-bucket-597703351594/multimodal/img/CMP301_TrainDeploy_E1_20230607_SPEdited_image_12.jpg to img/CMP301_TrainDeploy_E1_20230607_SPEdited_image_12.jpg\n",
      "[2024-03-22 22:15:17,447] p11865 {utils.py:48} INFO - downloaded multimodal-blog2-bucket-597703351594/multimodal/img/CMP301_TrainDeploy_E1_20230607_SPEdited_image_13.jpg to img/CMP301_TrainDeploy_E1_20230607_SPEdited_image_13.jpg\n",
      "[2024-03-22 22:15:17,500] p11865 {utils.py:48} INFO - downloaded multimodal-blog2-bucket-597703351594/multimodal/img/CMP301_TrainDeploy_E1_20230607_SPEdited_image_14.jpg to img/CMP301_TrainDeploy_E1_20230607_SPEdited_image_14.jpg\n",
      "[2024-03-22 22:15:17,533] p11865 {utils.py:48} INFO - downloaded multimodal-blog2-bucket-597703351594/multimodal/img/CMP301_TrainDeploy_E1_20230607_SPEdited_image_15.jpg to img/CMP301_TrainDeploy_E1_20230607_SPEdited_image_15.jpg\n",
      "[2024-03-22 22:15:17,569] p11865 {utils.py:48} INFO - downloaded multimodal-blog2-bucket-597703351594/multimodal/img/CMP301_TrainDeploy_E1_20230607_SPEdited_image_16.jpg to img/CMP301_TrainDeploy_E1_20230607_SPEdited_image_16.jpg\n",
      "[2024-03-22 22:15:17,598] p11865 {utils.py:48} INFO - downloaded multimodal-blog2-bucket-597703351594/multimodal/img/CMP301_TrainDeploy_E1_20230607_SPEdited_image_17.jpg to img/CMP301_TrainDeploy_E1_20230607_SPEdited_image_17.jpg\n",
      "[2024-03-22 22:15:17,643] p11865 {utils.py:48} INFO - downloaded multimodal-blog2-bucket-597703351594/multimodal/img/CMP301_TrainDeploy_E1_20230607_SPEdited_image_18.jpg to img/CMP301_TrainDeploy_E1_20230607_SPEdited_image_18.jpg\n",
      "[2024-03-22 22:15:17,678] p11865 {utils.py:48} INFO - downloaded multimodal-blog2-bucket-597703351594/multimodal/img/CMP301_TrainDeploy_E1_20230607_SPEdited_image_19.jpg to img/CMP301_TrainDeploy_E1_20230607_SPEdited_image_19.jpg\n",
      "[2024-03-22 22:15:17,711] p11865 {utils.py:48} INFO - downloaded multimodal-blog2-bucket-597703351594/multimodal/img/CMP301_TrainDeploy_E1_20230607_SPEdited_image_2.jpg to img/CMP301_TrainDeploy_E1_20230607_SPEdited_image_2.jpg\n",
      "[2024-03-22 22:15:17,748] p11865 {utils.py:48} INFO - downloaded multimodal-blog2-bucket-597703351594/multimodal/img/CMP301_TrainDeploy_E1_20230607_SPEdited_image_20.jpg to img/CMP301_TrainDeploy_E1_20230607_SPEdited_image_20.jpg\n",
      "[2024-03-22 22:15:17,780] p11865 {utils.py:48} INFO - downloaded multimodal-blog2-bucket-597703351594/multimodal/img/CMP301_TrainDeploy_E1_20230607_SPEdited_image_21.jpg to img/CMP301_TrainDeploy_E1_20230607_SPEdited_image_21.jpg\n",
      "[2024-03-22 22:15:17,817] p11865 {utils.py:48} INFO - downloaded multimodal-blog2-bucket-597703351594/multimodal/img/CMP301_TrainDeploy_E1_20230607_SPEdited_image_22.jpg to img/CMP301_TrainDeploy_E1_20230607_SPEdited_image_22.jpg\n",
      "[2024-03-22 22:15:17,861] p11865 {utils.py:48} INFO - downloaded multimodal-blog2-bucket-597703351594/multimodal/img/CMP301_TrainDeploy_E1_20230607_SPEdited_image_23.jpg to img/CMP301_TrainDeploy_E1_20230607_SPEdited_image_23.jpg\n",
      "[2024-03-22 22:15:17,894] p11865 {utils.py:48} INFO - downloaded multimodal-blog2-bucket-597703351594/multimodal/img/CMP301_TrainDeploy_E1_20230607_SPEdited_image_24.jpg to img/CMP301_TrainDeploy_E1_20230607_SPEdited_image_24.jpg\n",
      "[2024-03-22 22:15:17,928] p11865 {utils.py:48} INFO - downloaded multimodal-blog2-bucket-597703351594/multimodal/img/CMP301_TrainDeploy_E1_20230607_SPEdited_image_25.jpg to img/CMP301_TrainDeploy_E1_20230607_SPEdited_image_25.jpg\n",
      "[2024-03-22 22:15:17,990] p11865 {utils.py:48} INFO - downloaded multimodal-blog2-bucket-597703351594/multimodal/img/CMP301_TrainDeploy_E1_20230607_SPEdited_image_26.jpg to img/CMP301_TrainDeploy_E1_20230607_SPEdited_image_26.jpg\n",
      "[2024-03-22 22:15:18,022] p11865 {utils.py:48} INFO - downloaded multimodal-blog2-bucket-597703351594/multimodal/img/CMP301_TrainDeploy_E1_20230607_SPEdited_image_27.jpg to img/CMP301_TrainDeploy_E1_20230607_SPEdited_image_27.jpg\n",
      "[2024-03-22 22:15:18,053] p11865 {utils.py:48} INFO - downloaded multimodal-blog2-bucket-597703351594/multimodal/img/CMP301_TrainDeploy_E1_20230607_SPEdited_image_28.jpg to img/CMP301_TrainDeploy_E1_20230607_SPEdited_image_28.jpg\n",
      "[2024-03-22 22:15:18,083] p11865 {utils.py:48} INFO - downloaded multimodal-blog2-bucket-597703351594/multimodal/img/CMP301_TrainDeploy_E1_20230607_SPEdited_image_29.jpg to img/CMP301_TrainDeploy_E1_20230607_SPEdited_image_29.jpg\n",
      "[2024-03-22 22:15:18,122] p11865 {utils.py:48} INFO - downloaded multimodal-blog2-bucket-597703351594/multimodal/img/CMP301_TrainDeploy_E1_20230607_SPEdited_image_3.jpg to img/CMP301_TrainDeploy_E1_20230607_SPEdited_image_3.jpg\n",
      "[2024-03-22 22:15:18,181] p11865 {utils.py:48} INFO - downloaded multimodal-blog2-bucket-597703351594/multimodal/img/CMP301_TrainDeploy_E1_20230607_SPEdited_image_30.jpg to img/CMP301_TrainDeploy_E1_20230607_SPEdited_image_30.jpg\n",
      "[2024-03-22 22:15:18,211] p11865 {utils.py:48} INFO - downloaded multimodal-blog2-bucket-597703351594/multimodal/img/CMP301_TrainDeploy_E1_20230607_SPEdited_image_31.jpg to img/CMP301_TrainDeploy_E1_20230607_SPEdited_image_31.jpg\n",
      "[2024-03-22 22:15:18,245] p11865 {utils.py:48} INFO - downloaded multimodal-blog2-bucket-597703351594/multimodal/img/CMP301_TrainDeploy_E1_20230607_SPEdited_image_4.jpg to img/CMP301_TrainDeploy_E1_20230607_SPEdited_image_4.jpg\n",
      "[2024-03-22 22:15:18,277] p11865 {utils.py:48} INFO - downloaded multimodal-blog2-bucket-597703351594/multimodal/img/CMP301_TrainDeploy_E1_20230607_SPEdited_image_5.jpg to img/CMP301_TrainDeploy_E1_20230607_SPEdited_image_5.jpg\n",
      "[2024-03-22 22:15:18,304] p11865 {utils.py:48} INFO - downloaded multimodal-blog2-bucket-597703351594/multimodal/img/CMP301_TrainDeploy_E1_20230607_SPEdited_image_6.jpg to img/CMP301_TrainDeploy_E1_20230607_SPEdited_image_6.jpg\n",
      "[2024-03-22 22:15:18,345] p11865 {utils.py:48} INFO - downloaded multimodal-blog2-bucket-597703351594/multimodal/img/CMP301_TrainDeploy_E1_20230607_SPEdited_image_7.jpg to img/CMP301_TrainDeploy_E1_20230607_SPEdited_image_7.jpg\n",
      "[2024-03-22 22:15:18,380] p11865 {utils.py:48} INFO - downloaded multimodal-blog2-bucket-597703351594/multimodal/img/CMP301_TrainDeploy_E1_20230607_SPEdited_image_8.jpg to img/CMP301_TrainDeploy_E1_20230607_SPEdited_image_8.jpg\n",
      "[2024-03-22 22:15:18,414] p11865 {utils.py:48} INFO - downloaded multimodal-blog2-bucket-597703351594/multimodal/img/CMP301_TrainDeploy_E1_20230607_SPEdited_image_9.jpg to img/CMP301_TrainDeploy_E1_20230607_SPEdited_image_9.jpg\n",
      "[2024-03-22 22:15:18,416] p11865 {1297213205.py:3} INFO - downloaded 31 from s3\n"
     ]
    }
   ],
   "source": [
    "# download images from S3, we would be converting these to embeddings\n",
    "image_files: List = download_image_files_from_s3(bucket_name, g.BUCKET_IMG_PREFIX, g.IMAGE_DIR, g.IMAGE_FILE_EXTN)\n",
    "logger.info(f\"downloaded {len(image_files)} from s3\")"
   ]
  },
  {
   "cell_type": "code",
   "execution_count": 13,
   "id": "b67111d9-359d-46fe-997e-cbb8e5f7992f",
   "metadata": {
    "tags": []
   },
   "outputs": [
    {
     "name": "stderr",
     "output_type": "stream",
     "text": [
      "[2024-03-22 22:15:18,431] p11865 {4025043965.py:3} INFO - there are 31 files in the img directory for conversion to base64\n",
      "[2024-03-22 22:15:18,446] p11865 {4025043965.py:7} INFO - base64 conversion done, there are 31 base64 encoded files\n"
     ]
    }
   ],
   "source": [
    "os.makedirs(g.B64_ENCODED_IMAGES_DIR, exist_ok=True)\n",
    "file_list: List = glob.glob(os.path.join(g.IMAGE_DIR, f\"*{g.IMAGE_FILE_EXTN}\"))\n",
    "logger.info(f\"there are {len(file_list)} files in the {g.IMAGE_DIR} directory for conversion to base64\")\n",
    "\n",
    "# convert each file to base64 and store the base64 in a new file\n",
    "b64_image_file_list = list(map(encode_image_to_base64, file_list))\n",
    "logger.info(f\"base64 conversion done, there are {len(b64_image_file_list)} base64 encoded files\")"
   ]
  },
  {
   "cell_type": "code",
   "execution_count": 14,
   "id": "b42fa6d7-1291-4fed-a75a-cb6f225208bc",
   "metadata": {},
   "outputs": [
    {
     "name": "stdout",
     "output_type": "stream",
     "text": [
      "\n",
      "Please provide a detailed description of the image. Describe the overall layout and design of the slide. Identify and describe any tables, charts, or other visual elements present, including the specific data or information contained within them. Provide as much detail as possible about the content and format of the slide. Your response should be extremely detailed and data oriented. Be completely accurate\n",
      "\n"
     ]
    }
   ],
   "source": [
    "# prompt = \"Describe the image in detail, include titles and numbers.\"\n",
    "\n",
    "prompt = \"\"\"\n",
    "Please provide a detailed description of the image. Describe the overall layout and design of the slide. Identify and describe any tables, charts, or other visual elements present, including the specific data or information contained within them. Provide as much detail as possible about the content and format of the slide. Your response should be extremely detailed and data oriented. Be completely accurate\n",
    "\"\"\"\n",
    "\n",
    "print(prompt)"
   ]
  },
  {
   "cell_type": "markdown",
   "id": "e11b8685-58b6-42a2-b826-e243cac2b781",
   "metadata": {
    "tags": []
   },
   "source": [
    "Loop through b64 images to 1/get image desc from Claude3, 2/get embedding from Titan text.\n",
    "Call OSI pipeline API to ingest embedding."
   ]
  },
  {
   "cell_type": "code",
   "execution_count": 16,
   "id": "09201d8d-bc92-43b7-8ebe-d185e5234fd5",
   "metadata": {
    "tags": []
   },
   "outputs": [
    {
     "name": "stderr",
     "output_type": "stream",
     "text": [
      "[2024-03-22 22:17:03,977] p11865 {3505597840.py:3} INFO - going to convert img/b64_images/CMP301_TrainDeploy_E1_20230607_SPEdited_image_13.b64 into embeddings\n",
      "[2024-03-22 22:17:17,377] p11865 {credentials.py:1075} INFO - Found credentials from IAM Role: BaseNotebookInstanceEc2InstanceRole\n",
      "[2024-03-22 22:17:19,215] p11865 {3505597840.py:28} INFO - Ingesting data into pipeline\n",
      "[2024-03-22 22:17:19,216] p11865 {3505597840.py:29} INFO - Response: 1 - 200 OK\n",
      "[2024-03-22 22:17:19,217] p11865 {3505597840.py:3} INFO - going to convert img/b64_images/CMP301_TrainDeploy_E1_20230607_SPEdited_image_1.b64 into embeddings\n",
      "[2024-03-22 22:17:30,979] p11865 {credentials.py:1075} INFO - Found credentials from IAM Role: BaseNotebookInstanceEc2InstanceRole\n",
      "[2024-03-22 22:17:31,043] p11865 {3505597840.py:28} INFO - Ingesting data into pipeline\n",
      "[2024-03-22 22:17:31,048] p11865 {3505597840.py:29} INFO - Response: 2 - 200 OK\n",
      "[2024-03-22 22:17:31,049] p11865 {3505597840.py:3} INFO - going to convert img/b64_images/CMP301_TrainDeploy_E1_20230607_SPEdited_image_2.b64 into embeddings\n",
      "[2024-03-22 22:17:44,427] p11865 {credentials.py:1075} INFO - Found credentials from IAM Role: BaseNotebookInstanceEc2InstanceRole\n",
      "[2024-03-22 22:17:46,282] p11865 {3505597840.py:28} INFO - Ingesting data into pipeline\n",
      "[2024-03-22 22:17:46,284] p11865 {3505597840.py:29} INFO - Response: 3 - 200 OK\n",
      "[2024-03-22 22:17:46,285] p11865 {3505597840.py:3} INFO - going to convert img/b64_images/CMP301_TrainDeploy_E1_20230607_SPEdited_image_4.b64 into embeddings\n",
      "[2024-03-22 22:17:57,801] p11865 {credentials.py:1075} INFO - Found credentials from IAM Role: BaseNotebookInstanceEc2InstanceRole\n",
      "[2024-03-22 22:17:57,850] p11865 {3505597840.py:28} INFO - Ingesting data into pipeline\n",
      "[2024-03-22 22:17:57,851] p11865 {3505597840.py:29} INFO - Response: 4 - 200 OK\n",
      "[2024-03-22 22:17:57,852] p11865 {3505597840.py:3} INFO - going to convert img/b64_images/CMP301_TrainDeploy_E1_20230607_SPEdited_image_5.b64 into embeddings\n",
      "[2024-03-22 22:18:11,711] p11865 {credentials.py:1075} INFO - Found credentials from IAM Role: BaseNotebookInstanceEc2InstanceRole\n",
      "[2024-03-22 22:18:11,762] p11865 {3505597840.py:28} INFO - Ingesting data into pipeline\n",
      "[2024-03-22 22:18:11,765] p11865 {3505597840.py:29} INFO - Response: 5 - 200 OK\n",
      "[2024-03-22 22:18:11,766] p11865 {3505597840.py:3} INFO - going to convert img/b64_images/CMP301_TrainDeploy_E1_20230607_SPEdited_image_26.b64 into embeddings\n",
      "[2024-03-22 22:18:34,313] p11865 {credentials.py:1075} INFO - Found credentials from IAM Role: BaseNotebookInstanceEc2InstanceRole\n",
      "[2024-03-22 22:18:34,398] p11865 {3505597840.py:28} INFO - Ingesting data into pipeline\n",
      "[2024-03-22 22:18:34,399] p11865 {3505597840.py:29} INFO - Response: 6 - 200 OK\n",
      "[2024-03-22 22:18:34,400] p11865 {3505597840.py:3} INFO - going to convert img/b64_images/CMP301_TrainDeploy_E1_20230607_SPEdited_image_30.b64 into embeddings\n",
      "[2024-03-22 22:18:53,818] p11865 {credentials.py:1075} INFO - Found credentials from IAM Role: BaseNotebookInstanceEc2InstanceRole\n",
      "[2024-03-22 22:18:53,875] p11865 {3505597840.py:28} INFO - Ingesting data into pipeline\n",
      "[2024-03-22 22:18:53,877] p11865 {3505597840.py:29} INFO - Response: 7 - 200 OK\n",
      "[2024-03-22 22:18:53,878] p11865 {3505597840.py:3} INFO - going to convert img/b64_images/CMP301_TrainDeploy_E1_20230607_SPEdited_image_8.b64 into embeddings\n",
      "[2024-03-22 22:19:11,227] p11865 {credentials.py:1075} INFO - Found credentials from IAM Role: BaseNotebookInstanceEc2InstanceRole\n",
      "[2024-03-22 22:19:11,274] p11865 {3505597840.py:28} INFO - Ingesting data into pipeline\n",
      "[2024-03-22 22:19:11,276] p11865 {3505597840.py:29} INFO - Response: 8 - 200 OK\n",
      "[2024-03-22 22:19:11,276] p11865 {3505597840.py:3} INFO - going to convert img/b64_images/CMP301_TrainDeploy_E1_20230607_SPEdited_image_23.b64 into embeddings\n",
      "[2024-03-22 22:19:23,738] p11865 {credentials.py:1075} INFO - Found credentials from IAM Role: BaseNotebookInstanceEc2InstanceRole\n",
      "[2024-03-22 22:19:23,791] p11865 {3505597840.py:28} INFO - Ingesting data into pipeline\n",
      "[2024-03-22 22:19:23,792] p11865 {3505597840.py:29} INFO - Response: 9 - 200 OK\n",
      "[2024-03-22 22:19:23,792] p11865 {3505597840.py:3} INFO - going to convert img/b64_images/CMP301_TrainDeploy_E1_20230607_SPEdited_image_28.b64 into embeddings\n",
      "[2024-03-22 22:19:42,323] p11865 {credentials.py:1075} INFO - Found credentials from IAM Role: BaseNotebookInstanceEc2InstanceRole\n",
      "[2024-03-22 22:19:42,372] p11865 {3505597840.py:28} INFO - Ingesting data into pipeline\n",
      "[2024-03-22 22:19:42,374] p11865 {3505597840.py:29} INFO - Response: 10 - 200 OK\n",
      "[2024-03-22 22:19:42,376] p11865 {3505597840.py:3} INFO - going to convert img/b64_images/CMP301_TrainDeploy_E1_20230607_SPEdited_image_18.b64 into embeddings\n",
      "[2024-03-22 22:19:56,738] p11865 {credentials.py:1075} INFO - Found credentials from IAM Role: BaseNotebookInstanceEc2InstanceRole\n",
      "[2024-03-22 22:19:56,799] p11865 {3505597840.py:28} INFO - Ingesting data into pipeline\n",
      "[2024-03-22 22:19:56,801] p11865 {3505597840.py:29} INFO - Response: 11 - 200 OK\n",
      "[2024-03-22 22:19:56,801] p11865 {3505597840.py:3} INFO - going to convert img/b64_images/CMP301_TrainDeploy_E1_20230607_SPEdited_image_21.b64 into embeddings\n",
      "[2024-03-22 22:20:09,656] p11865 {credentials.py:1075} INFO - Found credentials from IAM Role: BaseNotebookInstanceEc2InstanceRole\n",
      "[2024-03-22 22:20:09,720] p11865 {3505597840.py:28} INFO - Ingesting data into pipeline\n",
      "[2024-03-22 22:20:09,721] p11865 {3505597840.py:29} INFO - Response: 12 - 200 OK\n",
      "[2024-03-22 22:20:09,722] p11865 {3505597840.py:3} INFO - going to convert img/b64_images/CMP301_TrainDeploy_E1_20230607_SPEdited_image_10.b64 into embeddings\n",
      "[2024-03-22 22:20:33,165] p11865 {credentials.py:1075} INFO - Found credentials from IAM Role: BaseNotebookInstanceEc2InstanceRole\n",
      "[2024-03-22 22:20:33,220] p11865 {3505597840.py:28} INFO - Ingesting data into pipeline\n",
      "[2024-03-22 22:20:33,221] p11865 {3505597840.py:29} INFO - Response: 13 - 200 OK\n",
      "[2024-03-22 22:20:33,222] p11865 {3505597840.py:3} INFO - going to convert img/b64_images/CMP301_TrainDeploy_E1_20230607_SPEdited_image_24.b64 into embeddings\n",
      "[2024-03-22 22:20:50,889] p11865 {credentials.py:1075} INFO - Found credentials from IAM Role: BaseNotebookInstanceEc2InstanceRole\n",
      "[2024-03-22 22:20:50,935] p11865 {3505597840.py:28} INFO - Ingesting data into pipeline\n",
      "[2024-03-22 22:20:50,936] p11865 {3505597840.py:29} INFO - Response: 14 - 200 OK\n",
      "[2024-03-22 22:20:50,938] p11865 {3505597840.py:3} INFO - going to convert img/b64_images/CMP301_TrainDeploy_E1_20230607_SPEdited_image_12.b64 into embeddings\n",
      "[2024-03-22 22:21:11,002] p11865 {credentials.py:1075} INFO - Found credentials from IAM Role: BaseNotebookInstanceEc2InstanceRole\n",
      "[2024-03-22 22:21:11,158] p11865 {3505597840.py:28} INFO - Ingesting data into pipeline\n",
      "[2024-03-22 22:21:11,159] p11865 {3505597840.py:29} INFO - Response: 15 - 200 OK\n",
      "[2024-03-22 22:21:11,160] p11865 {3505597840.py:3} INFO - going to convert img/b64_images/CMP301_TrainDeploy_E1_20230607_SPEdited_image_6.b64 into embeddings\n",
      "[2024-03-22 22:21:22,840] p11865 {credentials.py:1075} INFO - Found credentials from IAM Role: BaseNotebookInstanceEc2InstanceRole\n",
      "[2024-03-22 22:21:22,884] p11865 {3505597840.py:28} INFO - Ingesting data into pipeline\n",
      "[2024-03-22 22:21:22,886] p11865 {3505597840.py:29} INFO - Response: 16 - 200 OK\n",
      "[2024-03-22 22:21:22,887] p11865 {3505597840.py:3} INFO - going to convert img/b64_images/CMP301_TrainDeploy_E1_20230607_SPEdited_image_15.b64 into embeddings\n",
      "[2024-03-22 22:21:36,781] p11865 {credentials.py:1075} INFO - Found credentials from IAM Role: BaseNotebookInstanceEc2InstanceRole\n",
      "[2024-03-22 22:21:36,831] p11865 {3505597840.py:28} INFO - Ingesting data into pipeline\n",
      "[2024-03-22 22:21:36,832] p11865 {3505597840.py:29} INFO - Response: 17 - 200 OK\n",
      "[2024-03-22 22:21:36,833] p11865 {3505597840.py:3} INFO - going to convert img/b64_images/CMP301_TrainDeploy_E1_20230607_SPEdited_image_25.b64 into embeddings\n",
      "[2024-03-22 22:21:52,688] p11865 {credentials.py:1075} INFO - Found credentials from IAM Role: BaseNotebookInstanceEc2InstanceRole\n",
      "[2024-03-22 22:21:52,732] p11865 {3505597840.py:28} INFO - Ingesting data into pipeline\n",
      "[2024-03-22 22:21:52,733] p11865 {3505597840.py:29} INFO - Response: 18 - 200 OK\n",
      "[2024-03-22 22:21:52,734] p11865 {3505597840.py:3} INFO - going to convert img/b64_images/CMP301_TrainDeploy_E1_20230607_SPEdited_image_22.b64 into embeddings\n",
      "[2024-03-22 22:22:05,836] p11865 {credentials.py:1075} INFO - Found credentials from IAM Role: BaseNotebookInstanceEc2InstanceRole\n",
      "[2024-03-22 22:22:05,911] p11865 {3505597840.py:28} INFO - Ingesting data into pipeline\n",
      "[2024-03-22 22:22:05,912] p11865 {3505597840.py:29} INFO - Response: 19 - 200 OK\n",
      "[2024-03-22 22:22:05,913] p11865 {3505597840.py:3} INFO - going to convert img/b64_images/CMP301_TrainDeploy_E1_20230607_SPEdited_image_20.b64 into embeddings\n",
      "[2024-03-22 22:22:19,457] p11865 {credentials.py:1075} INFO - Found credentials from IAM Role: BaseNotebookInstanceEc2InstanceRole\n",
      "[2024-03-22 22:22:19,505] p11865 {3505597840.py:28} INFO - Ingesting data into pipeline\n",
      "[2024-03-22 22:22:19,509] p11865 {3505597840.py:29} INFO - Response: 20 - 200 OK\n",
      "[2024-03-22 22:22:19,511] p11865 {3505597840.py:3} INFO - going to convert img/b64_images/CMP301_TrainDeploy_E1_20230607_SPEdited_image_7.b64 into embeddings\n",
      "[2024-03-22 22:22:29,320] p11865 {credentials.py:1075} INFO - Found credentials from IAM Role: BaseNotebookInstanceEc2InstanceRole\n",
      "[2024-03-22 22:22:29,368] p11865 {3505597840.py:28} INFO - Ingesting data into pipeline\n",
      "[2024-03-22 22:22:29,369] p11865 {3505597840.py:29} INFO - Response: 21 - 200 OK\n",
      "[2024-03-22 22:22:29,370] p11865 {3505597840.py:3} INFO - going to convert img/b64_images/CMP301_TrainDeploy_E1_20230607_SPEdited_image_3.b64 into embeddings\n",
      "[2024-03-22 22:22:39,735] p11865 {credentials.py:1075} INFO - Found credentials from IAM Role: BaseNotebookInstanceEc2InstanceRole\n",
      "[2024-03-22 22:22:39,867] p11865 {3505597840.py:28} INFO - Ingesting data into pipeline\n",
      "[2024-03-22 22:22:39,868] p11865 {3505597840.py:29} INFO - Response: 22 - 200 OK\n",
      "[2024-03-22 22:22:39,869] p11865 {3505597840.py:3} INFO - going to convert img/b64_images/CMP301_TrainDeploy_E1_20230607_SPEdited_image_11.b64 into embeddings\n",
      "[2024-03-22 22:22:49,742] p11865 {credentials.py:1075} INFO - Found credentials from IAM Role: BaseNotebookInstanceEc2InstanceRole\n",
      "[2024-03-22 22:22:49,806] p11865 {3505597840.py:28} INFO - Ingesting data into pipeline\n",
      "[2024-03-22 22:22:49,810] p11865 {3505597840.py:29} INFO - Response: 23 - 200 OK\n",
      "[2024-03-22 22:22:49,811] p11865 {3505597840.py:3} INFO - going to convert img/b64_images/CMP301_TrainDeploy_E1_20230607_SPEdited_image_19.b64 into embeddings\n",
      "[2024-03-22 22:23:07,482] p11865 {credentials.py:1075} INFO - Found credentials from IAM Role: BaseNotebookInstanceEc2InstanceRole\n",
      "[2024-03-22 22:23:07,593] p11865 {3505597840.py:28} INFO - Ingesting data into pipeline\n",
      "[2024-03-22 22:23:07,594] p11865 {3505597840.py:29} INFO - Response: 24 - 200 OK\n",
      "[2024-03-22 22:23:07,598] p11865 {3505597840.py:3} INFO - going to convert img/b64_images/CMP301_TrainDeploy_E1_20230607_SPEdited_image_14.b64 into embeddings\n",
      "[2024-03-22 22:23:19,231] p11865 {credentials.py:1075} INFO - Found credentials from IAM Role: BaseNotebookInstanceEc2InstanceRole\n",
      "[2024-03-22 22:23:19,274] p11865 {3505597840.py:28} INFO - Ingesting data into pipeline\n",
      "[2024-03-22 22:23:19,275] p11865 {3505597840.py:29} INFO - Response: 25 - 200 OK\n",
      "[2024-03-22 22:23:19,276] p11865 {3505597840.py:3} INFO - going to convert img/b64_images/CMP301_TrainDeploy_E1_20230607_SPEdited_image_27.b64 into embeddings\n",
      "[2024-03-22 22:23:49,740] p11865 {credentials.py:1075} INFO - Found credentials from IAM Role: BaseNotebookInstanceEc2InstanceRole\n",
      "[2024-03-22 22:23:49,787] p11865 {3505597840.py:28} INFO - Ingesting data into pipeline\n",
      "[2024-03-22 22:23:49,788] p11865 {3505597840.py:29} INFO - Response: 26 - 200 OK\n",
      "[2024-03-22 22:23:49,789] p11865 {3505597840.py:3} INFO - going to convert img/b64_images/CMP301_TrainDeploy_E1_20230607_SPEdited_image_9.b64 into embeddings\n",
      "[2024-03-22 22:24:02,047] p11865 {credentials.py:1075} INFO - Found credentials from IAM Role: BaseNotebookInstanceEc2InstanceRole\n",
      "[2024-03-22 22:24:02,097] p11865 {3505597840.py:28} INFO - Ingesting data into pipeline\n",
      "[2024-03-22 22:24:02,098] p11865 {3505597840.py:29} INFO - Response: 27 - 200 OK\n",
      "[2024-03-22 22:24:02,099] p11865 {3505597840.py:3} INFO - going to convert img/b64_images/CMP301_TrainDeploy_E1_20230607_SPEdited_image_16.b64 into embeddings\n",
      "[2024-03-22 22:24:13,141] p11865 {credentials.py:1075} INFO - Found credentials from IAM Role: BaseNotebookInstanceEc2InstanceRole\n",
      "[2024-03-22 22:24:13,212] p11865 {3505597840.py:28} INFO - Ingesting data into pipeline\n",
      "[2024-03-22 22:24:13,217] p11865 {3505597840.py:29} INFO - Response: 28 - 200 OK\n",
      "[2024-03-22 22:24:13,223] p11865 {3505597840.py:3} INFO - going to convert img/b64_images/CMP301_TrainDeploy_E1_20230607_SPEdited_image_29.b64 into embeddings\n",
      "[2024-03-22 22:24:25,204] p11865 {credentials.py:1075} INFO - Found credentials from IAM Role: BaseNotebookInstanceEc2InstanceRole\n",
      "[2024-03-22 22:24:25,263] p11865 {3505597840.py:28} INFO - Ingesting data into pipeline\n",
      "[2024-03-22 22:24:25,270] p11865 {3505597840.py:29} INFO - Response: 29 - 200 OK\n",
      "[2024-03-22 22:24:25,275] p11865 {3505597840.py:3} INFO - going to convert img/b64_images/CMP301_TrainDeploy_E1_20230607_SPEdited_image_17.b64 into embeddings\n",
      "[2024-03-22 22:24:34,500] p11865 {credentials.py:1075} INFO - Found credentials from IAM Role: BaseNotebookInstanceEc2InstanceRole\n",
      "[2024-03-22 22:24:34,557] p11865 {3505597840.py:28} INFO - Ingesting data into pipeline\n",
      "[2024-03-22 22:24:34,559] p11865 {3505597840.py:29} INFO - Response: 30 - 200 OK\n",
      "[2024-03-22 22:24:34,561] p11865 {3505597840.py:3} INFO - going to convert img/b64_images/CMP301_TrainDeploy_E1_20230607_SPEdited_image_31.b64 into embeddings\n",
      "[2024-03-22 22:24:43,888] p11865 {credentials.py:1075} INFO - Found credentials from IAM Role: BaseNotebookInstanceEc2InstanceRole\n",
      "[2024-03-22 22:24:43,945] p11865 {3505597840.py:28} INFO - Ingesting data into pipeline\n",
      "[2024-03-22 22:24:43,948] p11865 {3505597840.py:29} INFO - Response: 31 - 200 OK\n"
     ]
    }
   ],
   "source": [
    "slide_number = 1\n",
    "for image_file_path in b64_image_file_list:  \n",
    "    logger.info(f\"going to convert {image_file_path} into embeddings\")\n",
    "    resp_text = get_img_desc(image_file_path, prompt)\n",
    "    embedding = get_text_embedding(bedrock, resp_text)\n",
    "\n",
    "    input_image_s3 = f\"s3://{bucket_name}/{g.BUCKET_IMG_PREFIX}/{Path(image_file_path).stem}{g.IMAGE_FILE_EXTN}\"\n",
    "    obj_name = f\"{Path(image_file_path).stem}{g.IMAGE_FILE_EXTN}\"\n",
    "    \n",
    "    \n",
    "    data = json.dumps([{\n",
    "        \"image_path\": input_image_s3, \n",
    "        \"slide_text\": resp_text, \n",
    "        \"slide_number\": slide_number, \n",
    "        \"metadata\": {\n",
    "            \"filename\": obj_name, \n",
    "            \"desc\": \"\" \n",
    "        }, \n",
    "        \"vector_embedding\": embedding\n",
    "    }])\n",
    "\n",
    "    r = requests.request(\n",
    "        method='POST', \n",
    "        url=osi_endpoint, \n",
    "        data=data,\n",
    "        auth=AWSSigV4('osis'))\n",
    "\n",
    "    logger.info(\"Ingesting data into pipeline\")\n",
    "    logger.info(f\"Response: {slide_number} - {r.text}\")\n",
    "    slide_number = slide_number + 1"
   ]
  },
  {
   "cell_type": "code",
   "execution_count": null,
   "id": "514f3747-53b4-4975-a623-de814735052c",
   "metadata": {},
   "outputs": [],
   "source": []
  }
 ],
 "metadata": {
  "kernelspec": {
   "display_name": "conda_python3",
   "language": "python",
   "name": "conda_python3"
  },
  "language_info": {
   "codemirror_mode": {
    "name": "ipython",
    "version": 3
   },
   "file_extension": ".py",
   "mimetype": "text/x-python",
   "name": "python",
   "nbconvert_exporter": "python",
   "pygments_lexer": "ipython3",
   "version": "3.10.13"
  }
 },
 "nbformat": 4,
 "nbformat_minor": 5
}
