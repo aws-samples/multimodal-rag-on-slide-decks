{
 "cells": [
  {
   "cell_type": "markdown",
   "id": "8bbb582e-d21a-41cf-b45e-e2f462424ebe",
   "metadata": {
    "tags": []
   },
   "source": [
    "# Data ingestion\n",
    "\n",
    "***This notebook works best with the `conda_python3` on the `ml.t3.xlarge` instance***.\n",
    "\n",
    "---\n",
    "\n",
    "In this notebook we download the images corresponding to the slide deck that we uploaded into Amazon S3 in the [1_data_prep.ipynb](./1_data_prep) notebook, convert them into embeddings and then ingest these embeddings into a vector database i.e. [Amazon OpenSearch Service Serverless](https://aws.amazon.com/opensearch-service/features/serverless/).\n",
    "\n",
    "1. We use the [Anthropic’s Claude 3 Sonnet foundation model](https://aws.amazon.com/about-aws/whats-new/2024/03/anthropics-claude-3-sonnet-model-amazon-bedrock/) available on Bedrock to convert image to text.\n",
    "\n",
    "1. We then use [Amazon Titan Text Embeddings](https://docs.aws.amazon.com/bedrock/latest/userguide/titan-embedding-models.html) model to convert the text into embeddings.\n",
    "\n",
    "1. The embeddings are then ingested into OpenSearch Service Serverless using the [Amazon OpenSearch Ingestion](https://docs.aws.amazon.com/opensearch-service/latest/developerguide/ingestion.html) pipeline. We ingest the embeddings into an OpenSearch Serverless index via the OpenSearch Ingestion API.\n",
    "\n",
    "1. The OpenSearch Service Serverless Collection is created via the AWS CloudFormation stack for this blog post.\n"
   ]
  },
  {
   "cell_type": "markdown",
   "id": "32a62857-6a66-44db-9d92-3df221c6bd21",
   "metadata": {},
   "source": [
    "## Step 1. Setup\n",
    "\n",
    "Install the required Python packages and import the relevant files."
   ]
  },
  {
   "cell_type": "code",
   "execution_count": 44,
   "id": "7f869e5d-8e4b-4d44-9e2a-4f20b77b92d6",
   "metadata": {
    "collapsed": true,
    "jupyter": {
     "outputs_hidden": true
    },
    "tags": []
   },
   "outputs": [
    {
     "name": "stdout",
     "output_type": "stream",
     "text": [
      "Collecting git+https://github.com/haotian-liu/LLaVA.git@v1.1.1 (from -r requirements.txt (line 2))\n",
      "  Cloning https://github.com/haotian-liu/LLaVA.git (to revision v1.1.1) to /tmp/pip-req-build-vvqut4f_\n",
      "  Running command git clone --filter=blob:none --quiet https://github.com/haotian-liu/LLaVA.git /tmp/pip-req-build-vvqut4f_\n",
      "  Running command git checkout -q 1619889c712e347be1cb4f78ec66e7cf414ac1a6\n",
      "  Resolved https://github.com/haotian-liu/LLaVA.git to commit 1619889c712e347be1cb4f78ec66e7cf414ac1a6\n",
      "  Installing build dependencies ... \u001b[?25ldone\n",
      "\u001b[?25h  Getting requirements to build wheel ... \u001b[?25ldone\n",
      "\u001b[?25h  Installing backend dependencies ... \u001b[?25ldone\n",
      "\u001b[?25h  Preparing metadata (pyproject.toml) ... \u001b[?25ldone\n",
      "\u001b[?25hRequirement already satisfied: huggingface-hub==0.19.4 in /home/ec2-user/anaconda3/envs/python3/lib/python3.10/site-packages (from -r requirements.txt (line 3)) (0.19.4)\n",
      "Requirement already satisfied: sagemaker==2.199.0 in /home/ec2-user/anaconda3/envs/python3/lib/python3.10/site-packages (from -r requirements.txt (line 4)) (2.199.0)\n",
      "Requirement already satisfied: pypdfium2==4.24.0 in /home/ec2-user/anaconda3/envs/python3/lib/python3.10/site-packages (from -r requirements.txt (line 5)) (4.24.0)\n",
      "Requirement already satisfied: httplib2==0.19.0 in /home/ec2-user/anaconda3/envs/python3/lib/python3.10/site-packages (from -r requirements.txt (line 6)) (0.19.0)\n",
      "Requirement already satisfied: langchain==0.0.340 in /home/ec2-user/anaconda3/envs/python3/lib/python3.10/site-packages (from -r requirements.txt (line 7)) (0.0.340)\n",
      "Requirement already satisfied: requests==2.31.0 in /home/ec2-user/anaconda3/envs/python3/lib/python3.10/site-packages (from -r requirements.txt (line 8)) (2.31.0)\n",
      "Requirement already satisfied: pandas==1.5.3 in /home/ec2-user/anaconda3/envs/python3/lib/python3.10/site-packages (from -r requirements.txt (line 9)) (1.5.3)\n",
      "Requirement already satisfied: boto3==1.34.0 in /home/ec2-user/anaconda3/envs/python3/lib/python3.10/site-packages (from -r requirements.txt (line 10)) (1.34.0)\n",
      "Requirement already satisfied: botocore==1.34.0 in /home/ec2-user/anaconda3/envs/python3/lib/python3.10/site-packages (from -r requirements.txt (line 11)) (1.34.0)\n",
      "Requirement already satisfied: opensearch-py==2.4.2 in /home/ec2-user/anaconda3/envs/python3/lib/python3.10/site-packages (from -r requirements.txt (line 12)) (2.4.2)\n",
      "Requirement already satisfied: numexpr==2.8.0 in /home/ec2-user/anaconda3/envs/python3/lib/python3.10/site-packages (from -r requirements.txt (line 13)) (2.8.0)\n",
      "Requirement already satisfied: packaging>=22.0 in /home/ec2-user/anaconda3/envs/python3/lib/python3.10/site-packages (from -r requirements.txt (line 14)) (24.0)\n",
      "Requirement already satisfied: docutils in /home/ec2-user/anaconda3/envs/python3/lib/python3.10/site-packages (from -r requirements.txt (line 15)) (0.16)\n",
      "Requirement already satisfied: requests-auth-aws-sigv4 in /home/ec2-user/anaconda3/envs/python3/lib/python3.10/site-packages (from -r requirements.txt (line 17)) (0.7)\n",
      "Requirement already satisfied: filelock in /home/ec2-user/anaconda3/envs/python3/lib/python3.10/site-packages (from huggingface-hub==0.19.4->-r requirements.txt (line 3)) (3.13.1)\n",
      "Requirement already satisfied: fsspec>=2023.5.0 in /home/ec2-user/anaconda3/envs/python3/lib/python3.10/site-packages (from huggingface-hub==0.19.4->-r requirements.txt (line 3)) (2023.12.2)\n",
      "Requirement already satisfied: tqdm>=4.42.1 in /home/ec2-user/anaconda3/envs/python3/lib/python3.10/site-packages (from huggingface-hub==0.19.4->-r requirements.txt (line 3)) (4.66.1)\n",
      "Requirement already satisfied: pyyaml>=5.1 in /home/ec2-user/anaconda3/envs/python3/lib/python3.10/site-packages (from huggingface-hub==0.19.4->-r requirements.txt (line 3)) (6.0.1)\n",
      "Requirement already satisfied: typing-extensions>=3.7.4.3 in /home/ec2-user/anaconda3/envs/python3/lib/python3.10/site-packages (from huggingface-hub==0.19.4->-r requirements.txt (line 3)) (4.9.0)\n",
      "Requirement already satisfied: attrs<24,>=23.1.0 in /home/ec2-user/anaconda3/envs/python3/lib/python3.10/site-packages (from sagemaker==2.199.0->-r requirements.txt (line 4)) (23.2.0)\n",
      "Requirement already satisfied: cloudpickle==2.2.1 in /home/ec2-user/anaconda3/envs/python3/lib/python3.10/site-packages (from sagemaker==2.199.0->-r requirements.txt (line 4)) (2.2.1)\n",
      "Requirement already satisfied: google-pasta in /home/ec2-user/anaconda3/envs/python3/lib/python3.10/site-packages (from sagemaker==2.199.0->-r requirements.txt (line 4)) (0.2.0)\n",
      "Requirement already satisfied: numpy<2.0,>=1.9.0 in /home/ec2-user/anaconda3/envs/python3/lib/python3.10/site-packages (from sagemaker==2.199.0->-r requirements.txt (line 4)) (1.22.4)\n",
      "Requirement already satisfied: protobuf<5.0,>=3.12 in /home/ec2-user/anaconda3/envs/python3/lib/python3.10/site-packages (from sagemaker==2.199.0->-r requirements.txt (line 4)) (4.25.3)\n",
      "Requirement already satisfied: smdebug-rulesconfig==1.0.1 in /home/ec2-user/anaconda3/envs/python3/lib/python3.10/site-packages (from sagemaker==2.199.0->-r requirements.txt (line 4)) (1.0.1)\n",
      "Requirement already satisfied: importlib-metadata<7.0,>=1.4.0 in /home/ec2-user/anaconda3/envs/python3/lib/python3.10/site-packages (from sagemaker==2.199.0->-r requirements.txt (line 4)) (6.11.0)\n",
      "Requirement already satisfied: pathos in /home/ec2-user/anaconda3/envs/python3/lib/python3.10/site-packages (from sagemaker==2.199.0->-r requirements.txt (line 4)) (0.3.2)\n",
      "Requirement already satisfied: schema in /home/ec2-user/anaconda3/envs/python3/lib/python3.10/site-packages (from sagemaker==2.199.0->-r requirements.txt (line 4)) (0.7.5)\n",
      "Requirement already satisfied: jsonschema in /home/ec2-user/anaconda3/envs/python3/lib/python3.10/site-packages (from sagemaker==2.199.0->-r requirements.txt (line 4)) (4.21.1)\n",
      "Requirement already satisfied: platformdirs in /home/ec2-user/anaconda3/envs/python3/lib/python3.10/site-packages (from sagemaker==2.199.0->-r requirements.txt (line 4)) (4.2.0)\n",
      "Requirement already satisfied: tblib==1.7.0 in /home/ec2-user/anaconda3/envs/python3/lib/python3.10/site-packages (from sagemaker==2.199.0->-r requirements.txt (line 4)) (1.7.0)\n",
      "Requirement already satisfied: urllib3<1.27 in /home/ec2-user/anaconda3/envs/python3/lib/python3.10/site-packages (from sagemaker==2.199.0->-r requirements.txt (line 4)) (1.26.18)\n",
      "Requirement already satisfied: uvicorn==0.22.0 in /home/ec2-user/anaconda3/envs/python3/lib/python3.10/site-packages (from sagemaker==2.199.0->-r requirements.txt (line 4)) (0.22.0)\n",
      "Requirement already satisfied: fastapi==0.95.2 in /home/ec2-user/anaconda3/envs/python3/lib/python3.10/site-packages (from sagemaker==2.199.0->-r requirements.txt (line 4)) (0.95.2)\n",
      "Requirement already satisfied: docker in /home/ec2-user/anaconda3/envs/python3/lib/python3.10/site-packages (from sagemaker==2.199.0->-r requirements.txt (line 4)) (6.1.3)\n",
      "Requirement already satisfied: psutil in /home/ec2-user/anaconda3/envs/python3/lib/python3.10/site-packages (from sagemaker==2.199.0->-r requirements.txt (line 4)) (5.9.8)\n",
      "Requirement already satisfied: pyparsing<3,>=2.4.2 in /home/ec2-user/anaconda3/envs/python3/lib/python3.10/site-packages (from httplib2==0.19.0->-r requirements.txt (line 6)) (2.4.7)\n",
      "Requirement already satisfied: SQLAlchemy<3,>=1.4 in /home/ec2-user/anaconda3/envs/python3/lib/python3.10/site-packages (from langchain==0.0.340->-r requirements.txt (line 7)) (2.0.25)\n",
      "Requirement already satisfied: aiohttp<4.0.0,>=3.8.3 in /home/ec2-user/anaconda3/envs/python3/lib/python3.10/site-packages (from langchain==0.0.340->-r requirements.txt (line 7)) (3.9.1)\n",
      "Requirement already satisfied: anyio<4.0 in /home/ec2-user/anaconda3/envs/python3/lib/python3.10/site-packages (from langchain==0.0.340->-r requirements.txt (line 7)) (3.7.1)\n",
      "Requirement already satisfied: async-timeout<5.0.0,>=4.0.0 in /home/ec2-user/anaconda3/envs/python3/lib/python3.10/site-packages (from langchain==0.0.340->-r requirements.txt (line 7)) (4.0.3)\n",
      "Requirement already satisfied: dataclasses-json<0.7,>=0.5.7 in /home/ec2-user/anaconda3/envs/python3/lib/python3.10/site-packages (from langchain==0.0.340->-r requirements.txt (line 7)) (0.6.4)\n",
      "Requirement already satisfied: jsonpatch<2.0,>=1.33 in /home/ec2-user/anaconda3/envs/python3/lib/python3.10/site-packages (from langchain==0.0.340->-r requirements.txt (line 7)) (1.33)\n",
      "Requirement already satisfied: langsmith<0.1.0,>=0.0.63 in /home/ec2-user/anaconda3/envs/python3/lib/python3.10/site-packages (from langchain==0.0.340->-r requirements.txt (line 7)) (0.0.92)\n",
      "Requirement already satisfied: pydantic<3,>=1 in /home/ec2-user/anaconda3/envs/python3/lib/python3.10/site-packages (from langchain==0.0.340->-r requirements.txt (line 7)) (1.10.14)\n",
      "Requirement already satisfied: tenacity<9.0.0,>=8.1.0 in /home/ec2-user/anaconda3/envs/python3/lib/python3.10/site-packages (from langchain==0.0.340->-r requirements.txt (line 7)) (8.2.3)\n",
      "Requirement already satisfied: charset-normalizer<4,>=2 in /home/ec2-user/anaconda3/envs/python3/lib/python3.10/site-packages (from requests==2.31.0->-r requirements.txt (line 8)) (3.3.2)\n",
      "Requirement already satisfied: idna<4,>=2.5 in /home/ec2-user/anaconda3/envs/python3/lib/python3.10/site-packages (from requests==2.31.0->-r requirements.txt (line 8)) (3.6)\n",
      "Requirement already satisfied: certifi>=2017.4.17 in /home/ec2-user/anaconda3/envs/python3/lib/python3.10/site-packages (from requests==2.31.0->-r requirements.txt (line 8)) (2024.2.2)\n",
      "Requirement already satisfied: python-dateutil>=2.8.1 in /home/ec2-user/anaconda3/envs/python3/lib/python3.10/site-packages (from pandas==1.5.3->-r requirements.txt (line 9)) (2.8.2)\n",
      "Requirement already satisfied: pytz>=2020.1 in /home/ec2-user/anaconda3/envs/python3/lib/python3.10/site-packages (from pandas==1.5.3->-r requirements.txt (line 9)) (2023.4)\n",
      "Requirement already satisfied: jmespath<2.0.0,>=0.7.1 in /home/ec2-user/anaconda3/envs/python3/lib/python3.10/site-packages (from boto3==1.34.0->-r requirements.txt (line 10)) (1.0.1)\n",
      "Requirement already satisfied: s3transfer<0.10.0,>=0.9.0 in /home/ec2-user/anaconda3/envs/python3/lib/python3.10/site-packages (from boto3==1.34.0->-r requirements.txt (line 10)) (0.9.0)\n",
      "Requirement already satisfied: six in /home/ec2-user/anaconda3/envs/python3/lib/python3.10/site-packages (from opensearch-py==2.4.2->-r requirements.txt (line 12)) (1.16.0)\n",
      "Requirement already satisfied: starlette<0.28.0,>=0.27.0 in /home/ec2-user/anaconda3/envs/python3/lib/python3.10/site-packages (from fastapi==0.95.2->sagemaker==2.199.0->-r requirements.txt (line 4)) (0.27.0)\n",
      "Requirement already satisfied: click>=7.0 in /home/ec2-user/anaconda3/envs/python3/lib/python3.10/site-packages (from uvicorn==0.22.0->sagemaker==2.199.0->-r requirements.txt (line 4)) (8.1.7)\n",
      "Requirement already satisfied: h11>=0.8 in /home/ec2-user/anaconda3/envs/python3/lib/python3.10/site-packages (from uvicorn==0.22.0->sagemaker==2.199.0->-r requirements.txt (line 4)) (0.14.0)\n",
      "Requirement already satisfied: einops in /home/ec2-user/anaconda3/envs/python3/lib/python3.10/site-packages (from llava==1.1.1->-r requirements.txt (line 2)) (0.6.1)\n",
      "Requirement already satisfied: gradio==3.35.2 in /home/ec2-user/anaconda3/envs/python3/lib/python3.10/site-packages (from llava==1.1.1->-r requirements.txt (line 2)) (3.35.2)\n",
      "Requirement already satisfied: markdown2[all] in /home/ec2-user/anaconda3/envs/python3/lib/python3.10/site-packages (from llava==1.1.1->-r requirements.txt (line 2)) (2.4.13)\n",
      "Requirement already satisfied: sentencepiece in /home/ec2-user/anaconda3/envs/python3/lib/python3.10/site-packages (from llava==1.1.1->-r requirements.txt (line 2)) (0.1.99)\n",
      "Requirement already satisfied: tokenizers>=0.12.1 in /home/ec2-user/anaconda3/envs/python3/lib/python3.10/site-packages (from llava==1.1.1->-r requirements.txt (line 2)) (0.13.3)\n",
      "Requirement already satisfied: torch==2.0.1 in /home/ec2-user/anaconda3/envs/python3/lib/python3.10/site-packages (from llava==1.1.1->-r requirements.txt (line 2)) (2.0.1)\n",
      "Requirement already satisfied: torchvision==0.15.2 in /home/ec2-user/anaconda3/envs/python3/lib/python3.10/site-packages (from llava==1.1.1->-r requirements.txt (line 2)) (0.15.2)\n",
      "Requirement already satisfied: wandb in /home/ec2-user/anaconda3/envs/python3/lib/python3.10/site-packages (from llava==1.1.1->-r requirements.txt (line 2)) (0.16.4)\n",
      "Requirement already satisfied: shortuuid in /home/ec2-user/anaconda3/envs/python3/lib/python3.10/site-packages (from llava==1.1.1->-r requirements.txt (line 2)) (1.0.13)\n",
      "Requirement already satisfied: httpx==0.24.0 in /home/ec2-user/anaconda3/envs/python3/lib/python3.10/site-packages (from llava==1.1.1->-r requirements.txt (line 2)) (0.24.0)\n",
      "Requirement already satisfied: deepspeed==0.9.5 in /home/ec2-user/anaconda3/envs/python3/lib/python3.10/site-packages (from llava==1.1.1->-r requirements.txt (line 2)) (0.9.5)\n",
      "Requirement already satisfied: peft==0.4.0 in /home/ec2-user/anaconda3/envs/python3/lib/python3.10/site-packages (from llava==1.1.1->-r requirements.txt (line 2)) (0.4.0)\n",
      "Requirement already satisfied: transformers==4.31.0 in /home/ec2-user/anaconda3/envs/python3/lib/python3.10/site-packages (from llava==1.1.1->-r requirements.txt (line 2)) (4.31.0)\n",
      "Requirement already satisfied: accelerate==0.21.0 in /home/ec2-user/anaconda3/envs/python3/lib/python3.10/site-packages (from llava==1.1.1->-r requirements.txt (line 2)) (0.21.0)\n",
      "Requirement already satisfied: bitsandbytes==0.41.0 in /home/ec2-user/anaconda3/envs/python3/lib/python3.10/site-packages (from llava==1.1.1->-r requirements.txt (line 2)) (0.41.0)\n",
      "Requirement already satisfied: scikit-learn==1.2.2 in /home/ec2-user/anaconda3/envs/python3/lib/python3.10/site-packages (from llava==1.1.1->-r requirements.txt (line 2)) (1.2.2)\n",
      "Requirement already satisfied: einops-exts==0.0.4 in /home/ec2-user/anaconda3/envs/python3/lib/python3.10/site-packages (from llava==1.1.1->-r requirements.txt (line 2)) (0.0.4)\n",
      "Requirement already satisfied: timm==0.6.13 in /home/ec2-user/anaconda3/envs/python3/lib/python3.10/site-packages (from llava==1.1.1->-r requirements.txt (line 2)) (0.6.13)\n",
      "Requirement already satisfied: gradio-client==0.2.9 in /home/ec2-user/anaconda3/envs/python3/lib/python3.10/site-packages (from llava==1.1.1->-r requirements.txt (line 2)) (0.2.9)\n",
      "Requirement already satisfied: hjson in /home/ec2-user/anaconda3/envs/python3/lib/python3.10/site-packages (from deepspeed==0.9.5->llava==1.1.1->-r requirements.txt (line 2)) (3.1.0)\n",
      "Requirement already satisfied: ninja in /home/ec2-user/anaconda3/envs/python3/lib/python3.10/site-packages (from deepspeed==0.9.5->llava==1.1.1->-r requirements.txt (line 2)) (1.11.1.1)\n",
      "Requirement already satisfied: py-cpuinfo in /home/ec2-user/anaconda3/envs/python3/lib/python3.10/site-packages (from deepspeed==0.9.5->llava==1.1.1->-r requirements.txt (line 2)) (9.0.0)\n",
      "Requirement already satisfied: aiofiles in /home/ec2-user/anaconda3/envs/python3/lib/python3.10/site-packages (from gradio==3.35.2->llava==1.1.1->-r requirements.txt (line 2)) (23.2.1)\n",
      "Requirement already satisfied: altair>=4.2.0 in /home/ec2-user/anaconda3/envs/python3/lib/python3.10/site-packages (from gradio==3.35.2->llava==1.1.1->-r requirements.txt (line 2)) (5.2.0)\n",
      "Requirement already satisfied: ffmpy in /home/ec2-user/anaconda3/envs/python3/lib/python3.10/site-packages (from gradio==3.35.2->llava==1.1.1->-r requirements.txt (line 2)) (0.3.2)\n",
      "Requirement already satisfied: jinja2 in /home/ec2-user/anaconda3/envs/python3/lib/python3.10/site-packages (from gradio==3.35.2->llava==1.1.1->-r requirements.txt (line 2)) (3.1.3)\n",
      "Requirement already satisfied: markdown-it-py>=2.0.0 in /home/ec2-user/anaconda3/envs/python3/lib/python3.10/site-packages (from markdown-it-py[linkify]>=2.0.0->gradio==3.35.2->llava==1.1.1->-r requirements.txt (line 2)) (2.2.0)\n",
      "Requirement already satisfied: markupsafe in /home/ec2-user/anaconda3/envs/python3/lib/python3.10/site-packages (from gradio==3.35.2->llava==1.1.1->-r requirements.txt (line 2)) (2.1.4)\n",
      "Requirement already satisfied: matplotlib in /home/ec2-user/anaconda3/envs/python3/lib/python3.10/site-packages (from gradio==3.35.2->llava==1.1.1->-r requirements.txt (line 2)) (3.8.2)\n",
      "Requirement already satisfied: mdit-py-plugins<=0.3.3 in /home/ec2-user/anaconda3/envs/python3/lib/python3.10/site-packages (from gradio==3.35.2->llava==1.1.1->-r requirements.txt (line 2)) (0.3.3)\n",
      "Requirement already satisfied: orjson in /home/ec2-user/anaconda3/envs/python3/lib/python3.10/site-packages (from gradio==3.35.2->llava==1.1.1->-r requirements.txt (line 2)) (3.9.15)\n",
      "Requirement already satisfied: pillow in /home/ec2-user/anaconda3/envs/python3/lib/python3.10/site-packages (from gradio==3.35.2->llava==1.1.1->-r requirements.txt (line 2)) (10.2.0)\n",
      "Requirement already satisfied: pydub in /home/ec2-user/anaconda3/envs/python3/lib/python3.10/site-packages (from gradio==3.35.2->llava==1.1.1->-r requirements.txt (line 2)) (0.25.1)\n",
      "Requirement already satisfied: pygments>=2.12.0 in /home/ec2-user/anaconda3/envs/python3/lib/python3.10/site-packages (from gradio==3.35.2->llava==1.1.1->-r requirements.txt (line 2)) (2.17.2)\n",
      "Requirement already satisfied: python-multipart in /home/ec2-user/anaconda3/envs/python3/lib/python3.10/site-packages (from gradio==3.35.2->llava==1.1.1->-r requirements.txt (line 2)) (0.0.9)\n",
      "Requirement already satisfied: semantic-version in /home/ec2-user/anaconda3/envs/python3/lib/python3.10/site-packages (from gradio==3.35.2->llava==1.1.1->-r requirements.txt (line 2)) (2.10.0)\n",
      "Requirement already satisfied: websockets>=10.0 in /home/ec2-user/anaconda3/envs/python3/lib/python3.10/site-packages (from gradio==3.35.2->llava==1.1.1->-r requirements.txt (line 2)) (12.0)\n",
      "Requirement already satisfied: httpcore<0.18.0,>=0.15.0 in /home/ec2-user/anaconda3/envs/python3/lib/python3.10/site-packages (from httpx==0.24.0->llava==1.1.1->-r requirements.txt (line 2)) (0.17.3)\n",
      "Requirement already satisfied: sniffio in /home/ec2-user/anaconda3/envs/python3/lib/python3.10/site-packages (from httpx==0.24.0->llava==1.1.1->-r requirements.txt (line 2)) (1.3.0)\n",
      "Requirement already satisfied: safetensors in /home/ec2-user/anaconda3/envs/python3/lib/python3.10/site-packages (from peft==0.4.0->llava==1.1.1->-r requirements.txt (line 2)) (0.4.2)\n",
      "Requirement already satisfied: scipy>=1.3.2 in /home/ec2-user/anaconda3/envs/python3/lib/python3.10/site-packages (from scikit-learn==1.2.2->llava==1.1.1->-r requirements.txt (line 2)) (1.12.0)\n",
      "Requirement already satisfied: joblib>=1.1.1 in /home/ec2-user/anaconda3/envs/python3/lib/python3.10/site-packages (from scikit-learn==1.2.2->llava==1.1.1->-r requirements.txt (line 2)) (1.3.2)\n",
      "Requirement already satisfied: threadpoolctl>=2.0.0 in /home/ec2-user/anaconda3/envs/python3/lib/python3.10/site-packages (from scikit-learn==1.2.2->llava==1.1.1->-r requirements.txt (line 2)) (3.2.0)\n",
      "Requirement already satisfied: sympy in /home/ec2-user/anaconda3/envs/python3/lib/python3.10/site-packages (from torch==2.0.1->llava==1.1.1->-r requirements.txt (line 2)) (1.12)\n",
      "Requirement already satisfied: networkx in /home/ec2-user/anaconda3/envs/python3/lib/python3.10/site-packages (from torch==2.0.1->llava==1.1.1->-r requirements.txt (line 2)) (3.2.1)\n",
      "Requirement already satisfied: nvidia-cuda-nvrtc-cu11==11.7.99 in /home/ec2-user/anaconda3/envs/python3/lib/python3.10/site-packages (from torch==2.0.1->llava==1.1.1->-r requirements.txt (line 2)) (11.7.99)\n",
      "Requirement already satisfied: nvidia-cuda-runtime-cu11==11.7.99 in /home/ec2-user/anaconda3/envs/python3/lib/python3.10/site-packages (from torch==2.0.1->llava==1.1.1->-r requirements.txt (line 2)) (11.7.99)\n",
      "Requirement already satisfied: nvidia-cuda-cupti-cu11==11.7.101 in /home/ec2-user/anaconda3/envs/python3/lib/python3.10/site-packages (from torch==2.0.1->llava==1.1.1->-r requirements.txt (line 2)) (11.7.101)\n",
      "Requirement already satisfied: nvidia-cudnn-cu11==8.5.0.96 in /home/ec2-user/anaconda3/envs/python3/lib/python3.10/site-packages (from torch==2.0.1->llava==1.1.1->-r requirements.txt (line 2)) (8.5.0.96)\n",
      "Requirement already satisfied: nvidia-cublas-cu11==11.10.3.66 in /home/ec2-user/anaconda3/envs/python3/lib/python3.10/site-packages (from torch==2.0.1->llava==1.1.1->-r requirements.txt (line 2)) (11.10.3.66)\n",
      "Requirement already satisfied: nvidia-cufft-cu11==10.9.0.58 in /home/ec2-user/anaconda3/envs/python3/lib/python3.10/site-packages (from torch==2.0.1->llava==1.1.1->-r requirements.txt (line 2)) (10.9.0.58)\n",
      "Requirement already satisfied: nvidia-curand-cu11==10.2.10.91 in /home/ec2-user/anaconda3/envs/python3/lib/python3.10/site-packages (from torch==2.0.1->llava==1.1.1->-r requirements.txt (line 2)) (10.2.10.91)\n",
      "Requirement already satisfied: nvidia-cusolver-cu11==11.4.0.1 in /home/ec2-user/anaconda3/envs/python3/lib/python3.10/site-packages (from torch==2.0.1->llava==1.1.1->-r requirements.txt (line 2)) (11.4.0.1)\n",
      "Requirement already satisfied: nvidia-cusparse-cu11==11.7.4.91 in /home/ec2-user/anaconda3/envs/python3/lib/python3.10/site-packages (from torch==2.0.1->llava==1.1.1->-r requirements.txt (line 2)) (11.7.4.91)\n",
      "Requirement already satisfied: nvidia-nccl-cu11==2.14.3 in /home/ec2-user/anaconda3/envs/python3/lib/python3.10/site-packages (from torch==2.0.1->llava==1.1.1->-r requirements.txt (line 2)) (2.14.3)\n",
      "Requirement already satisfied: nvidia-nvtx-cu11==11.7.91 in /home/ec2-user/anaconda3/envs/python3/lib/python3.10/site-packages (from torch==2.0.1->llava==1.1.1->-r requirements.txt (line 2)) (11.7.91)\n",
      "Requirement already satisfied: triton==2.0.0 in /home/ec2-user/anaconda3/envs/python3/lib/python3.10/site-packages (from torch==2.0.1->llava==1.1.1->-r requirements.txt (line 2)) (2.0.0)\n",
      "Requirement already satisfied: regex!=2019.12.17 in /home/ec2-user/anaconda3/envs/python3/lib/python3.10/site-packages (from transformers==4.31.0->llava==1.1.1->-r requirements.txt (line 2)) (2023.12.25)\n",
      "Requirement already satisfied: setuptools in /home/ec2-user/anaconda3/envs/python3/lib/python3.10/site-packages (from nvidia-cublas-cu11==11.10.3.66->torch==2.0.1->llava==1.1.1->-r requirements.txt (line 2)) (69.0.3)\n",
      "Requirement already satisfied: wheel in /home/ec2-user/anaconda3/envs/python3/lib/python3.10/site-packages (from nvidia-cublas-cu11==11.10.3.66->torch==2.0.1->llava==1.1.1->-r requirements.txt (line 2)) (0.42.0)\n",
      "Requirement already satisfied: cmake in /home/ec2-user/anaconda3/envs/python3/lib/python3.10/site-packages (from triton==2.0.0->torch==2.0.1->llava==1.1.1->-r requirements.txt (line 2)) (3.28.3)\n",
      "Requirement already satisfied: lit in /home/ec2-user/anaconda3/envs/python3/lib/python3.10/site-packages (from triton==2.0.0->torch==2.0.1->llava==1.1.1->-r requirements.txt (line 2)) (18.1.1)\n",
      "Requirement already satisfied: multidict<7.0,>=4.5 in /home/ec2-user/anaconda3/envs/python3/lib/python3.10/site-packages (from aiohttp<4.0.0,>=3.8.3->langchain==0.0.340->-r requirements.txt (line 7)) (6.0.4)\n",
      "Requirement already satisfied: yarl<2.0,>=1.0 in /home/ec2-user/anaconda3/envs/python3/lib/python3.10/site-packages (from aiohttp<4.0.0,>=3.8.3->langchain==0.0.340->-r requirements.txt (line 7)) (1.9.4)\n",
      "Requirement already satisfied: frozenlist>=1.1.1 in /home/ec2-user/anaconda3/envs/python3/lib/python3.10/site-packages (from aiohttp<4.0.0,>=3.8.3->langchain==0.0.340->-r requirements.txt (line 7)) (1.4.1)\n",
      "Requirement already satisfied: aiosignal>=1.1.2 in /home/ec2-user/anaconda3/envs/python3/lib/python3.10/site-packages (from aiohttp<4.0.0,>=3.8.3->langchain==0.0.340->-r requirements.txt (line 7)) (1.3.1)\n",
      "Requirement already satisfied: exceptiongroup in /home/ec2-user/anaconda3/envs/python3/lib/python3.10/site-packages (from anyio<4.0->langchain==0.0.340->-r requirements.txt (line 7)) (1.2.0)\n",
      "Requirement already satisfied: marshmallow<4.0.0,>=3.18.0 in /home/ec2-user/anaconda3/envs/python3/lib/python3.10/site-packages (from dataclasses-json<0.7,>=0.5.7->langchain==0.0.340->-r requirements.txt (line 7)) (3.21.1)\n",
      "Requirement already satisfied: typing-inspect<1,>=0.4.0 in /home/ec2-user/anaconda3/envs/python3/lib/python3.10/site-packages (from dataclasses-json<0.7,>=0.5.7->langchain==0.0.340->-r requirements.txt (line 7)) (0.9.0)\n",
      "Requirement already satisfied: zipp>=0.5 in /home/ec2-user/anaconda3/envs/python3/lib/python3.10/site-packages (from importlib-metadata<7.0,>=1.4.0->sagemaker==2.199.0->-r requirements.txt (line 4)) (3.17.0)\n",
      "Requirement already satisfied: jsonpointer>=1.9 in /home/ec2-user/anaconda3/envs/python3/lib/python3.10/site-packages (from jsonpatch<2.0,>=1.33->langchain==0.0.340->-r requirements.txt (line 7)) (2.4)\n",
      "Requirement already satisfied: greenlet!=0.4.17 in /home/ec2-user/anaconda3/envs/python3/lib/python3.10/site-packages (from SQLAlchemy<3,>=1.4->langchain==0.0.340->-r requirements.txt (line 7)) (3.0.3)\n",
      "Requirement already satisfied: websocket-client>=0.32.0 in /home/ec2-user/anaconda3/envs/python3/lib/python3.10/site-packages (from docker->sagemaker==2.199.0->-r requirements.txt (line 4)) (1.7.0)\n",
      "Requirement already satisfied: jsonschema-specifications>=2023.03.6 in /home/ec2-user/anaconda3/envs/python3/lib/python3.10/site-packages (from jsonschema->sagemaker==2.199.0->-r requirements.txt (line 4)) (2023.12.1)\n",
      "Requirement already satisfied: referencing>=0.28.4 in /home/ec2-user/anaconda3/envs/python3/lib/python3.10/site-packages (from jsonschema->sagemaker==2.199.0->-r requirements.txt (line 4)) (0.33.0)\n",
      "Requirement already satisfied: rpds-py>=0.7.1 in /home/ec2-user/anaconda3/envs/python3/lib/python3.10/site-packages (from jsonschema->sagemaker==2.199.0->-r requirements.txt (line 4)) (0.17.1)\n",
      "Requirement already satisfied: wavedrom in /home/ec2-user/anaconda3/envs/python3/lib/python3.10/site-packages (from markdown2[all]->llava==1.1.1->-r requirements.txt (line 2)) (2.0.3.post3)\n",
      "Requirement already satisfied: ppft>=1.7.6.8 in /home/ec2-user/anaconda3/envs/python3/lib/python3.10/site-packages (from pathos->sagemaker==2.199.0->-r requirements.txt (line 4)) (1.7.6.8)\n",
      "Requirement already satisfied: dill>=0.3.8 in /home/ec2-user/anaconda3/envs/python3/lib/python3.10/site-packages (from pathos->sagemaker==2.199.0->-r requirements.txt (line 4)) (0.3.8)\n",
      "Requirement already satisfied: pox>=0.3.4 in /home/ec2-user/anaconda3/envs/python3/lib/python3.10/site-packages (from pathos->sagemaker==2.199.0->-r requirements.txt (line 4)) (0.3.4)\n",
      "Requirement already satisfied: multiprocess>=0.70.16 in /home/ec2-user/anaconda3/envs/python3/lib/python3.10/site-packages (from pathos->sagemaker==2.199.0->-r requirements.txt (line 4)) (0.70.16)\n",
      "Requirement already satisfied: contextlib2>=0.5.5 in /home/ec2-user/anaconda3/envs/python3/lib/python3.10/site-packages (from schema->sagemaker==2.199.0->-r requirements.txt (line 4)) (21.6.0)\n",
      "Requirement already satisfied: GitPython!=3.1.29,>=1.0.0 in /home/ec2-user/anaconda3/envs/python3/lib/python3.10/site-packages (from wandb->llava==1.1.1->-r requirements.txt (line 2)) (3.1.42)\n",
      "Requirement already satisfied: sentry-sdk>=1.0.0 in /home/ec2-user/anaconda3/envs/python3/lib/python3.10/site-packages (from wandb->llava==1.1.1->-r requirements.txt (line 2)) (1.42.0)\n",
      "Requirement already satisfied: docker-pycreds>=0.4.0 in /home/ec2-user/anaconda3/envs/python3/lib/python3.10/site-packages (from wandb->llava==1.1.1->-r requirements.txt (line 2)) (0.4.0)\n",
      "Requirement already satisfied: setproctitle in /home/ec2-user/anaconda3/envs/python3/lib/python3.10/site-packages (from wandb->llava==1.1.1->-r requirements.txt (line 2)) (1.3.3)\n",
      "Requirement already satisfied: appdirs>=1.4.3 in /home/ec2-user/anaconda3/envs/python3/lib/python3.10/site-packages (from wandb->llava==1.1.1->-r requirements.txt (line 2)) (1.4.4)\n",
      "Requirement already satisfied: toolz in /home/ec2-user/anaconda3/envs/python3/lib/python3.10/site-packages (from altair>=4.2.0->gradio==3.35.2->llava==1.1.1->-r requirements.txt (line 2)) (0.12.1)\n",
      "Requirement already satisfied: gitdb<5,>=4.0.1 in /home/ec2-user/anaconda3/envs/python3/lib/python3.10/site-packages (from GitPython!=3.1.29,>=1.0.0->wandb->llava==1.1.1->-r requirements.txt (line 2)) (4.0.11)\n",
      "Requirement already satisfied: mdurl~=0.1 in /home/ec2-user/anaconda3/envs/python3/lib/python3.10/site-packages (from markdown-it-py>=2.0.0->markdown-it-py[linkify]>=2.0.0->gradio==3.35.2->llava==1.1.1->-r requirements.txt (line 2)) (0.1.2)\n",
      "Requirement already satisfied: linkify-it-py<3,>=1 in /home/ec2-user/anaconda3/envs/python3/lib/python3.10/site-packages (from markdown-it-py[linkify]>=2.0.0->gradio==3.35.2->llava==1.1.1->-r requirements.txt (line 2)) (2.0.3)\n",
      "Requirement already satisfied: mypy-extensions>=0.3.0 in /home/ec2-user/anaconda3/envs/python3/lib/python3.10/site-packages (from typing-inspect<1,>=0.4.0->dataclasses-json<0.7,>=0.5.7->langchain==0.0.340->-r requirements.txt (line 7)) (1.0.0)\n",
      "Requirement already satisfied: contourpy>=1.0.1 in /home/ec2-user/anaconda3/envs/python3/lib/python3.10/site-packages (from matplotlib->gradio==3.35.2->llava==1.1.1->-r requirements.txt (line 2)) (1.2.0)\n",
      "Requirement already satisfied: cycler>=0.10 in /home/ec2-user/anaconda3/envs/python3/lib/python3.10/site-packages (from matplotlib->gradio==3.35.2->llava==1.1.1->-r requirements.txt (line 2)) (0.12.1)\n",
      "Requirement already satisfied: fonttools>=4.22.0 in /home/ec2-user/anaconda3/envs/python3/lib/python3.10/site-packages (from matplotlib->gradio==3.35.2->llava==1.1.1->-r requirements.txt (line 2)) (4.47.2)\n",
      "Requirement already satisfied: kiwisolver>=1.3.1 in /home/ec2-user/anaconda3/envs/python3/lib/python3.10/site-packages (from matplotlib->gradio==3.35.2->llava==1.1.1->-r requirements.txt (line 2)) (1.4.5)\n",
      "Requirement already satisfied: mpmath>=0.19 in /home/ec2-user/anaconda3/envs/python3/lib/python3.10/site-packages (from sympy->torch==2.0.1->llava==1.1.1->-r requirements.txt (line 2)) (1.3.0)\n",
      "Requirement already satisfied: svgwrite in /home/ec2-user/anaconda3/envs/python3/lib/python3.10/site-packages (from wavedrom->markdown2[all]->llava==1.1.1->-r requirements.txt (line 2)) (1.4.3)\n",
      "Requirement already satisfied: smmap<6,>=3.0.1 in /home/ec2-user/anaconda3/envs/python3/lib/python3.10/site-packages (from gitdb<5,>=4.0.1->GitPython!=3.1.29,>=1.0.0->wandb->llava==1.1.1->-r requirements.txt (line 2)) (5.0.1)\n",
      "Requirement already satisfied: uc-micro-py in /home/ec2-user/anaconda3/envs/python3/lib/python3.10/site-packages (from linkify-it-py<3,>=1->markdown-it-py[linkify]>=2.0.0->gradio==3.35.2->llava==1.1.1->-r requirements.txt (line 2)) (1.0.3)\n"
     ]
    }
   ],
   "source": [
    "import sys\n",
    "!{sys.executable} -m pip install -r requirements.txt"
   ]
  },
  {
   "cell_type": "code",
   "execution_count": 45,
   "id": "beda5d30-06f7-44a6-9b1d-8ac27fb93cfa",
   "metadata": {
    "tags": []
   },
   "outputs": [],
   "source": [
    "import os\n",
    "import time\n",
    "import glob\n",
    "import json\n",
    "import time\n",
    "import boto3\n",
    "import codecs\n",
    "import base64\n",
    "import logging\n",
    "import requests\n",
    "import botocore\n",
    "import sagemaker\n",
    "import numpy as np\n",
    "import globals as g\n",
    "from typing import List\n",
    "from pathlib import Path\n",
    "from requests_auth_aws_sigv4 import AWSSigV4\n",
    "from opensearchpy import OpenSearch, RequestsHttpConnection, AWSV4SignerAuth\n",
    "from utils import get_cfn_outputs, get_bucket_name, download_image_files_from_s3, get_text_embedding\n",
    "\n",
    "logging.basicConfig(format='[%(asctime)s] p%(process)s {%(filename)s:%(lineno)d} %(levelname)s - %(message)s', level=logging.INFO)\n",
    "logger = logging.getLogger(__name__)"
   ]
  },
  {
   "cell_type": "code",
   "execution_count": 46,
   "id": "bcf9ddf2-d8f5-404a-8fcf-a5efa3f3fad1",
   "metadata": {},
   "outputs": [],
   "source": [
    "bucket_name: str = get_bucket_name(g.CFN_STACK_NAME)\n",
    "s3 = boto3.client('s3')"
   ]
  },
  {
   "cell_type": "code",
   "execution_count": 47,
   "id": "90d273a8-4d5a-4ede-bc3f-b7d9c8fe6825",
   "metadata": {
    "tags": []
   },
   "outputs": [
    {
     "name": "stdout",
     "output_type": "stream",
     "text": [
      "sagemaker.config INFO - Not applying SDK defaults from location: /etc/xdg/sagemaker/config.yaml\n",
      "sagemaker.config INFO - Not applying SDK defaults from location: /home/ec2-user/.config/sagemaker/config.yaml\n"
     ]
    }
   ],
   "source": [
    "sagemaker_session = sagemaker.Session()\n",
    "sm_client = sagemaker_session.sagemaker_client\n",
    "sm_runtime_client = sagemaker_session.sagemaker_runtime_client"
   ]
  },
  {
   "cell_type": "code",
   "execution_count": 48,
   "id": "e428171a-b0fa-4640-af74-8ec2b032d7e5",
   "metadata": {},
   "outputs": [],
   "source": [
    "bedrock = boto3.client(service_name=\"bedrock-runtime\", region_name=g.AWS_REGION, endpoint_url=g.FMC_URL)"
   ]
  },
  {
   "cell_type": "code",
   "execution_count": 49,
   "id": "88ba8ccd-7e5e-48c5-93fd-2a98319f33c3",
   "metadata": {
    "tags": []
   },
   "outputs": [
    {
     "name": "stderr",
     "output_type": "stream",
     "text": [
      "[2024-03-18 22:05:26,709] p29444 {2152910682.py:5} INFO - opensearchhost=erl0gs7pm3an9js60q6j.us-east-1.aoss.amazonaws.com, index=attempt2\n"
     ]
    }
   ],
   "source": [
    "outputs = get_cfn_outputs(g.CFN_STACK_NAME)\n",
    "host = outputs['MultimodalCollectionEndpoint'].split('//')[1]\n",
    "index_name = outputs['OpenSearchIndexName']\n",
    "logger.info(f\"opensearchhost={host}, index={index_name}\")\n",
    "\n",
    "osi_endpoint = f\"https://{outputs['OpenSearchPipelineEndpoint']}/data/ingest\""
   ]
  },
  {
   "cell_type": "markdown",
   "id": "c9213968-f87b-4e19-9d4d-99d0ab8f19d6",
   "metadata": {},
   "source": [
    "We use the OpenSearch client to create an index."
   ]
  },
  {
   "cell_type": "code",
   "execution_count": 50,
   "id": "95923df7-fe11-4ace-ba2a-f56edf0ac1d0",
   "metadata": {
    "tags": []
   },
   "outputs": [
    {
     "name": "stderr",
     "output_type": "stream",
     "text": [
      "[2024-03-18 22:05:26,770] p29444 {credentials.py:1075} INFO - Found credentials from IAM Role: BaseNotebookInstanceEc2InstanceRole\n"
     ]
    }
   ],
   "source": [
    "session = boto3.Session()\n",
    "credentials = session.get_credentials()\n",
    "auth = AWSV4SignerAuth(credentials, g.AWS_REGION, g.OS_SERVICE)\n",
    "\n",
    "os_client = OpenSearch(\n",
    "    hosts = [{'host': host, 'port': 443}],\n",
    "    http_auth = auth,\n",
    "    use_ssl = True,\n",
    "    verify_certs = True,\n",
    "    connection_class = RequestsHttpConnection,\n",
    "    pool_maxsize = 20\n",
    ")"
   ]
  },
  {
   "cell_type": "code",
   "execution_count": 51,
   "id": "1921892a-e599-490b-bd91-accc5cdb5f4b",
   "metadata": {
    "tags": []
   },
   "outputs": [
    {
     "name": "stderr",
     "output_type": "stream",
     "text": [
      "[2024-03-18 22:05:27,265] p29444 {base.py:259} INFO - PUT https://erl0gs7pm3an9js60q6j.us-east-1.aoss.amazonaws.com:443/attempt2 [status:200 request:0.470s]\n",
      "[2024-03-18 22:05:27,266] p29444 {952156850.py:46} INFO - response received for the create index -> {'acknowledged': True, 'shards_acknowledged': True, 'index': 'attempt2'}\n"
     ]
    }
   ],
   "source": [
    "index_body = \"\"\"\n",
    "{\n",
    "  \"settings\": {\n",
    "    \"index.knn\": true\n",
    "  },\n",
    "  \"mappings\": {\n",
    "    \"properties\": {\n",
    "      \"vector_embedding\": {\n",
    "        \"type\": \"knn_vector\",\n",
    "        \"dimension\": 1536,\n",
    "        \"method\": {\n",
    "          \"name\": \"hnsw\",\n",
    "          \"engine\": \"nmslib\",\n",
    "          \"parameters\": {}\n",
    "        }\n",
    "      },\n",
    "      \"image_path\": {\n",
    "        \"type\": \"text\"\n",
    "      },\n",
    "      \"slide_text\": {\n",
    "        \"type\": \"text\"\n",
    "      },\n",
    "      \"slide_number\": {\n",
    "        \"type\": \"text\"\n",
    "      },\n",
    "       \"metadata\": { \n",
    "        \"properties\" :\n",
    "          {\n",
    "            \"filename\" : {\n",
    "              \"type\" : \"text\"\n",
    "            },\n",
    "            \"desc\":{\n",
    "              \"type\": \"text\"\n",
    "            }\n",
    "          }\n",
    "      }\n",
    "    }\n",
    "  }\n",
    "}\n",
    "\"\"\"\n",
    "\n",
    "# We would get an index already exists exception if the index already exists, and that is fine.\n",
    "index_body = json.loads(index_body)\n",
    "try:\n",
    "    response = os_client.indices.create(index_name, body=index_body)\n",
    "    logger.info(f\"response received for the create index -> {response}\")\n",
    "except Exception as e:\n",
    "    logger.error(f\"error in creating index={index_name}, exception={e}\")"
   ]
  },
  {
   "cell_type": "markdown",
   "id": "369078c2-94b1-4510-940a-78e6b029e506",
   "metadata": {},
   "source": [
    "## Step 2. Download the images files from S3 and convert to Base64\n",
    "\n",
    "Now we download the image files from the S3 bucket. Once downloaded these files are converted into [Base64](https://en.wikipedia.org/wiki/Base64) encoding so that we can create embeddings from the images."
   ]
  },
  {
   "cell_type": "code",
   "execution_count": 52,
   "id": "14d0ec15-3aca-41d9-a4b1-4b6dde4a2f75",
   "metadata": {
    "tags": []
   },
   "outputs": [
    {
     "name": "stderr",
     "output_type": "stream",
     "text": [
      "[2024-03-18 22:05:27,388] p29444 {utils.py:48} INFO - downloaded multimodal-blog2-bucket-597703351594/multimodal/img/CMP301_TrainDeploy_E1_20230607_SPEdited_image_1.jpg to img/CMP301_TrainDeploy_E1_20230607_SPEdited_image_1.jpg\n",
      "[2024-03-18 22:05:27,445] p29444 {utils.py:48} INFO - downloaded multimodal-blog2-bucket-597703351594/multimodal/img/CMP301_TrainDeploy_E1_20230607_SPEdited_image_10.jpg to img/CMP301_TrainDeploy_E1_20230607_SPEdited_image_10.jpg\n",
      "[2024-03-18 22:05:27,501] p29444 {utils.py:48} INFO - downloaded multimodal-blog2-bucket-597703351594/multimodal/img/CMP301_TrainDeploy_E1_20230607_SPEdited_image_11.jpg to img/CMP301_TrainDeploy_E1_20230607_SPEdited_image_11.jpg\n",
      "[2024-03-18 22:05:27,554] p29444 {utils.py:48} INFO - downloaded multimodal-blog2-bucket-597703351594/multimodal/img/CMP301_TrainDeploy_E1_20230607_SPEdited_image_12.jpg to img/CMP301_TrainDeploy_E1_20230607_SPEdited_image_12.jpg\n",
      "[2024-03-18 22:05:27,600] p29444 {utils.py:48} INFO - downloaded multimodal-blog2-bucket-597703351594/multimodal/img/CMP301_TrainDeploy_E1_20230607_SPEdited_image_13.jpg to img/CMP301_TrainDeploy_E1_20230607_SPEdited_image_13.jpg\n",
      "[2024-03-18 22:05:27,646] p29444 {utils.py:48} INFO - downloaded multimodal-blog2-bucket-597703351594/multimodal/img/CMP301_TrainDeploy_E1_20230607_SPEdited_image_14.jpg to img/CMP301_TrainDeploy_E1_20230607_SPEdited_image_14.jpg\n",
      "[2024-03-18 22:05:27,691] p29444 {utils.py:48} INFO - downloaded multimodal-blog2-bucket-597703351594/multimodal/img/CMP301_TrainDeploy_E1_20230607_SPEdited_image_15.jpg to img/CMP301_TrainDeploy_E1_20230607_SPEdited_image_15.jpg\n",
      "[2024-03-18 22:05:27,771] p29444 {utils.py:48} INFO - downloaded multimodal-blog2-bucket-597703351594/multimodal/img/CMP301_TrainDeploy_E1_20230607_SPEdited_image_16.jpg to img/CMP301_TrainDeploy_E1_20230607_SPEdited_image_16.jpg\n",
      "[2024-03-18 22:05:27,881] p29444 {utils.py:48} INFO - downloaded multimodal-blog2-bucket-597703351594/multimodal/img/CMP301_TrainDeploy_E1_20230607_SPEdited_image_17.jpg to img/CMP301_TrainDeploy_E1_20230607_SPEdited_image_17.jpg\n",
      "[2024-03-18 22:05:27,947] p29444 {utils.py:48} INFO - downloaded multimodal-blog2-bucket-597703351594/multimodal/img/CMP301_TrainDeploy_E1_20230607_SPEdited_image_18.jpg to img/CMP301_TrainDeploy_E1_20230607_SPEdited_image_18.jpg\n",
      "[2024-03-18 22:05:27,981] p29444 {utils.py:48} INFO - downloaded multimodal-blog2-bucket-597703351594/multimodal/img/CMP301_TrainDeploy_E1_20230607_SPEdited_image_19.jpg to img/CMP301_TrainDeploy_E1_20230607_SPEdited_image_19.jpg\n",
      "[2024-03-18 22:05:28,045] p29444 {utils.py:48} INFO - downloaded multimodal-blog2-bucket-597703351594/multimodal/img/CMP301_TrainDeploy_E1_20230607_SPEdited_image_2.jpg to img/CMP301_TrainDeploy_E1_20230607_SPEdited_image_2.jpg\n",
      "[2024-03-18 22:05:28,092] p29444 {utils.py:48} INFO - downloaded multimodal-blog2-bucket-597703351594/multimodal/img/CMP301_TrainDeploy_E1_20230607_SPEdited_image_20.jpg to img/CMP301_TrainDeploy_E1_20230607_SPEdited_image_20.jpg\n",
      "[2024-03-18 22:05:28,171] p29444 {utils.py:48} INFO - downloaded multimodal-blog2-bucket-597703351594/multimodal/img/CMP301_TrainDeploy_E1_20230607_SPEdited_image_21.jpg to img/CMP301_TrainDeploy_E1_20230607_SPEdited_image_21.jpg\n",
      "[2024-03-18 22:05:28,223] p29444 {utils.py:48} INFO - downloaded multimodal-blog2-bucket-597703351594/multimodal/img/CMP301_TrainDeploy_E1_20230607_SPEdited_image_22.jpg to img/CMP301_TrainDeploy_E1_20230607_SPEdited_image_22.jpg\n",
      "[2024-03-18 22:05:28,301] p29444 {utils.py:48} INFO - downloaded multimodal-blog2-bucket-597703351594/multimodal/img/CMP301_TrainDeploy_E1_20230607_SPEdited_image_23.jpg to img/CMP301_TrainDeploy_E1_20230607_SPEdited_image_23.jpg\n",
      "[2024-03-18 22:05:28,345] p29444 {utils.py:48} INFO - downloaded multimodal-blog2-bucket-597703351594/multimodal/img/CMP301_TrainDeploy_E1_20230607_SPEdited_image_24.jpg to img/CMP301_TrainDeploy_E1_20230607_SPEdited_image_24.jpg\n",
      "[2024-03-18 22:05:28,525] p29444 {utils.py:48} INFO - downloaded multimodal-blog2-bucket-597703351594/multimodal/img/CMP301_TrainDeploy_E1_20230607_SPEdited_image_25.jpg to img/CMP301_TrainDeploy_E1_20230607_SPEdited_image_25.jpg\n",
      "[2024-03-18 22:05:28,575] p29444 {utils.py:48} INFO - downloaded multimodal-blog2-bucket-597703351594/multimodal/img/CMP301_TrainDeploy_E1_20230607_SPEdited_image_26.jpg to img/CMP301_TrainDeploy_E1_20230607_SPEdited_image_26.jpg\n",
      "[2024-03-18 22:05:28,644] p29444 {utils.py:48} INFO - downloaded multimodal-blog2-bucket-597703351594/multimodal/img/CMP301_TrainDeploy_E1_20230607_SPEdited_image_27.jpg to img/CMP301_TrainDeploy_E1_20230607_SPEdited_image_27.jpg\n",
      "[2024-03-18 22:05:28,691] p29444 {utils.py:48} INFO - downloaded multimodal-blog2-bucket-597703351594/multimodal/img/CMP301_TrainDeploy_E1_20230607_SPEdited_image_28.jpg to img/CMP301_TrainDeploy_E1_20230607_SPEdited_image_28.jpg\n",
      "[2024-03-18 22:05:28,757] p29444 {utils.py:48} INFO - downloaded multimodal-blog2-bucket-597703351594/multimodal/img/CMP301_TrainDeploy_E1_20230607_SPEdited_image_29.jpg to img/CMP301_TrainDeploy_E1_20230607_SPEdited_image_29.jpg\n",
      "[2024-03-18 22:05:28,798] p29444 {utils.py:48} INFO - downloaded multimodal-blog2-bucket-597703351594/multimodal/img/CMP301_TrainDeploy_E1_20230607_SPEdited_image_3.jpg to img/CMP301_TrainDeploy_E1_20230607_SPEdited_image_3.jpg\n",
      "[2024-03-18 22:05:28,846] p29444 {utils.py:48} INFO - downloaded multimodal-blog2-bucket-597703351594/multimodal/img/CMP301_TrainDeploy_E1_20230607_SPEdited_image_30.jpg to img/CMP301_TrainDeploy_E1_20230607_SPEdited_image_30.jpg\n",
      "[2024-03-18 22:05:28,889] p29444 {utils.py:48} INFO - downloaded multimodal-blog2-bucket-597703351594/multimodal/img/CMP301_TrainDeploy_E1_20230607_SPEdited_image_31.jpg to img/CMP301_TrainDeploy_E1_20230607_SPEdited_image_31.jpg\n",
      "[2024-03-18 22:05:28,965] p29444 {utils.py:48} INFO - downloaded multimodal-blog2-bucket-597703351594/multimodal/img/CMP301_TrainDeploy_E1_20230607_SPEdited_image_4.jpg to img/CMP301_TrainDeploy_E1_20230607_SPEdited_image_4.jpg\n",
      "[2024-03-18 22:05:29,072] p29444 {utils.py:48} INFO - downloaded multimodal-blog2-bucket-597703351594/multimodal/img/CMP301_TrainDeploy_E1_20230607_SPEdited_image_5.jpg to img/CMP301_TrainDeploy_E1_20230607_SPEdited_image_5.jpg\n",
      "[2024-03-18 22:05:29,118] p29444 {utils.py:48} INFO - downloaded multimodal-blog2-bucket-597703351594/multimodal/img/CMP301_TrainDeploy_E1_20230607_SPEdited_image_6.jpg to img/CMP301_TrainDeploy_E1_20230607_SPEdited_image_6.jpg\n",
      "[2024-03-18 22:05:29,163] p29444 {utils.py:48} INFO - downloaded multimodal-blog2-bucket-597703351594/multimodal/img/CMP301_TrainDeploy_E1_20230607_SPEdited_image_7.jpg to img/CMP301_TrainDeploy_E1_20230607_SPEdited_image_7.jpg\n",
      "[2024-03-18 22:05:29,262] p29444 {utils.py:48} INFO - downloaded multimodal-blog2-bucket-597703351594/multimodal/img/CMP301_TrainDeploy_E1_20230607_SPEdited_image_8.jpg to img/CMP301_TrainDeploy_E1_20230607_SPEdited_image_8.jpg\n",
      "[2024-03-18 22:05:29,321] p29444 {utils.py:48} INFO - downloaded multimodal-blog2-bucket-597703351594/multimodal/img/CMP301_TrainDeploy_E1_20230607_SPEdited_image_9.jpg to img/CMP301_TrainDeploy_E1_20230607_SPEdited_image_9.jpg\n",
      "[2024-03-18 22:05:29,322] p29444 {1297213205.py:3} INFO - downloaded 31 from s3\n"
     ]
    }
   ],
   "source": [
    "# download images from S3, we would be converting these to embeddings\n",
    "image_files: List = download_image_files_from_s3(bucket_name, g.BUCKET_IMG_PREFIX, g.IMAGE_DIR, g.IMAGE_FILE_EXTN)\n",
    "logger.info(f\"downloaded {len(image_files)} from s3\")"
   ]
  },
  {
   "cell_type": "markdown",
   "id": "c70833d4-b585-477b-93ec-5556c994b9ba",
   "metadata": {},
   "source": [
    "Convert jpg files into Base64."
   ]
  },
  {
   "cell_type": "code",
   "execution_count": 53,
   "id": "6e2c8f80-d457-46d5-9d20-f1ca8ebe106b",
   "metadata": {
    "tags": []
   },
   "outputs": [],
   "source": [
    "def encode_image_to_base64(image_file_path: str) -> str:\n",
    "    with open(image_file_path, \"rb\") as image_file:\n",
    "        b64_image = base64.b64encode(image_file.read()).decode('utf8')\n",
    "        b64_image_path = os.path.join(g.B64_ENCODED_IMAGES_DIR, f\"{Path(image_file_path).stem}.b64\")\n",
    "        with open(b64_image_path, \"wb\") as b64_image_file:\n",
    "            b64_image_file.write(bytes(b64_image, 'utf-8'))\n",
    "    return b64_image_path"
   ]
  },
  {
   "cell_type": "markdown",
   "id": "d1d70875-7b8b-44ff-bb5a-0f8b9e43adca",
   "metadata": {},
   "source": [
    "## Step 3. Get embeddings for the base64 encoded images\n",
    "\n",
    "Now we are ready to use Amazon Bedrock via the  Anthropic’s Claude 3 Sonnet foundation model and Amazon Titan Text Embeddings model to convert the base64 version of the images into embeddings. We ingest embeddings into the pipeline using the [requests](https://pypi.org/project/requests/) HTTP library\n",
    "\n",
    "You must sign all HTTP requests to the pipeline using [Signature Version 4](https://docs.aws.amazon.com/general/latest/gr/signature-version-4.html)."
   ]
  },
  {
   "cell_type": "code",
   "execution_count": 54,
   "id": "aef0ed32-9e7f-448b-93d5-ef0e65404f8d",
   "metadata": {
    "tags": []
   },
   "outputs": [],
   "source": [
    "def get_img_desc(image_file_path: str, prompt: str):\n",
    "    # read the file, MAX image size supported is 2048 * 2048 pixels\n",
    "    with open(image_file_path, \"rb\") as image_file:\n",
    "        input_image_b64 = image_file.read().decode('utf-8')\n",
    "  \n",
    "    body = json.dumps(\n",
    "        {\n",
    "            \"anthropic_version\": \"bedrock-2023-05-31\",\n",
    "            \"max_tokens\": 1000,\n",
    "            \"messages\": [\n",
    "                {\n",
    "                    \"role\": \"user\",\n",
    "                    \"content\": [\n",
    "                        {\n",
    "                            \"type\": \"image\",\n",
    "                            \"source\": {\n",
    "                                \"type\": \"base64\",\n",
    "                                \"media_type\": \"image/jpeg\",\n",
    "                                \"data\": input_image_b64\n",
    "                            },\n",
    "                        },\n",
    "                        {\"type\": \"text\", \"text\": prompt},\n",
    "                    ],\n",
    "                }\n",
    "            ],\n",
    "        }\n",
    "    )\n",
    "    \n",
    "    response = bedrock.invoke_model(\n",
    "        modelId=g.CLAUDE_MODEL_ID,\n",
    "        body=body\n",
    "    )\n",
    "\n",
    "    resp_body = json.loads(response['body'].read().decode(\"utf-8\"))\n",
    "    resp_text = resp_body['content'][0]['text'].replace('\"', \"'\")\n",
    "\n",
    "    return resp_text"
   ]
  },
  {
   "cell_type": "code",
   "execution_count": 55,
   "id": "952d6845-1dc7-4d47-b296-d717a25d2494",
   "metadata": {
    "tags": []
   },
   "outputs": [
    {
     "name": "stderr",
     "output_type": "stream",
     "text": [
      "[2024-03-18 22:05:29,435] p29444 {utils.py:48} INFO - downloaded multimodal-blog2-bucket-597703351594/multimodal/img/CMP301_TrainDeploy_E1_20230607_SPEdited_image_1.jpg to img/CMP301_TrainDeploy_E1_20230607_SPEdited_image_1.jpg\n",
      "[2024-03-18 22:05:29,481] p29444 {utils.py:48} INFO - downloaded multimodal-blog2-bucket-597703351594/multimodal/img/CMP301_TrainDeploy_E1_20230607_SPEdited_image_10.jpg to img/CMP301_TrainDeploy_E1_20230607_SPEdited_image_10.jpg\n",
      "[2024-03-18 22:05:29,519] p29444 {utils.py:48} INFO - downloaded multimodal-blog2-bucket-597703351594/multimodal/img/CMP301_TrainDeploy_E1_20230607_SPEdited_image_11.jpg to img/CMP301_TrainDeploy_E1_20230607_SPEdited_image_11.jpg\n",
      "[2024-03-18 22:05:29,554] p29444 {utils.py:48} INFO - downloaded multimodal-blog2-bucket-597703351594/multimodal/img/CMP301_TrainDeploy_E1_20230607_SPEdited_image_12.jpg to img/CMP301_TrainDeploy_E1_20230607_SPEdited_image_12.jpg\n",
      "[2024-03-18 22:05:29,602] p29444 {utils.py:48} INFO - downloaded multimodal-blog2-bucket-597703351594/multimodal/img/CMP301_TrainDeploy_E1_20230607_SPEdited_image_13.jpg to img/CMP301_TrainDeploy_E1_20230607_SPEdited_image_13.jpg\n",
      "[2024-03-18 22:05:29,648] p29444 {utils.py:48} INFO - downloaded multimodal-blog2-bucket-597703351594/multimodal/img/CMP301_TrainDeploy_E1_20230607_SPEdited_image_14.jpg to img/CMP301_TrainDeploy_E1_20230607_SPEdited_image_14.jpg\n",
      "[2024-03-18 22:05:29,687] p29444 {utils.py:48} INFO - downloaded multimodal-blog2-bucket-597703351594/multimodal/img/CMP301_TrainDeploy_E1_20230607_SPEdited_image_15.jpg to img/CMP301_TrainDeploy_E1_20230607_SPEdited_image_15.jpg\n",
      "[2024-03-18 22:05:29,776] p29444 {utils.py:48} INFO - downloaded multimodal-blog2-bucket-597703351594/multimodal/img/CMP301_TrainDeploy_E1_20230607_SPEdited_image_16.jpg to img/CMP301_TrainDeploy_E1_20230607_SPEdited_image_16.jpg\n",
      "[2024-03-18 22:05:29,891] p29444 {utils.py:48} INFO - downloaded multimodal-blog2-bucket-597703351594/multimodal/img/CMP301_TrainDeploy_E1_20230607_SPEdited_image_17.jpg to img/CMP301_TrainDeploy_E1_20230607_SPEdited_image_17.jpg\n",
      "[2024-03-18 22:05:29,977] p29444 {utils.py:48} INFO - downloaded multimodal-blog2-bucket-597703351594/multimodal/img/CMP301_TrainDeploy_E1_20230607_SPEdited_image_18.jpg to img/CMP301_TrainDeploy_E1_20230607_SPEdited_image_18.jpg\n",
      "[2024-03-18 22:05:30,039] p29444 {utils.py:48} INFO - downloaded multimodal-blog2-bucket-597703351594/multimodal/img/CMP301_TrainDeploy_E1_20230607_SPEdited_image_19.jpg to img/CMP301_TrainDeploy_E1_20230607_SPEdited_image_19.jpg\n",
      "[2024-03-18 22:05:30,109] p29444 {utils.py:48} INFO - downloaded multimodal-blog2-bucket-597703351594/multimodal/img/CMP301_TrainDeploy_E1_20230607_SPEdited_image_2.jpg to img/CMP301_TrainDeploy_E1_20230607_SPEdited_image_2.jpg\n",
      "[2024-03-18 22:05:30,143] p29444 {utils.py:48} INFO - downloaded multimodal-blog2-bucket-597703351594/multimodal/img/CMP301_TrainDeploy_E1_20230607_SPEdited_image_20.jpg to img/CMP301_TrainDeploy_E1_20230607_SPEdited_image_20.jpg\n",
      "[2024-03-18 22:05:30,183] p29444 {utils.py:48} INFO - downloaded multimodal-blog2-bucket-597703351594/multimodal/img/CMP301_TrainDeploy_E1_20230607_SPEdited_image_21.jpg to img/CMP301_TrainDeploy_E1_20230607_SPEdited_image_21.jpg\n",
      "[2024-03-18 22:05:30,225] p29444 {utils.py:48} INFO - downloaded multimodal-blog2-bucket-597703351594/multimodal/img/CMP301_TrainDeploy_E1_20230607_SPEdited_image_22.jpg to img/CMP301_TrainDeploy_E1_20230607_SPEdited_image_22.jpg\n",
      "[2024-03-18 22:05:30,265] p29444 {utils.py:48} INFO - downloaded multimodal-blog2-bucket-597703351594/multimodal/img/CMP301_TrainDeploy_E1_20230607_SPEdited_image_23.jpg to img/CMP301_TrainDeploy_E1_20230607_SPEdited_image_23.jpg\n",
      "[2024-03-18 22:05:30,303] p29444 {utils.py:48} INFO - downloaded multimodal-blog2-bucket-597703351594/multimodal/img/CMP301_TrainDeploy_E1_20230607_SPEdited_image_24.jpg to img/CMP301_TrainDeploy_E1_20230607_SPEdited_image_24.jpg\n",
      "[2024-03-18 22:05:30,338] p29444 {utils.py:48} INFO - downloaded multimodal-blog2-bucket-597703351594/multimodal/img/CMP301_TrainDeploy_E1_20230607_SPEdited_image_25.jpg to img/CMP301_TrainDeploy_E1_20230607_SPEdited_image_25.jpg\n",
      "[2024-03-18 22:05:30,409] p29444 {utils.py:48} INFO - downloaded multimodal-blog2-bucket-597703351594/multimodal/img/CMP301_TrainDeploy_E1_20230607_SPEdited_image_26.jpg to img/CMP301_TrainDeploy_E1_20230607_SPEdited_image_26.jpg\n",
      "[2024-03-18 22:05:30,448] p29444 {utils.py:48} INFO - downloaded multimodal-blog2-bucket-597703351594/multimodal/img/CMP301_TrainDeploy_E1_20230607_SPEdited_image_27.jpg to img/CMP301_TrainDeploy_E1_20230607_SPEdited_image_27.jpg\n",
      "[2024-03-18 22:05:30,487] p29444 {utils.py:48} INFO - downloaded multimodal-blog2-bucket-597703351594/multimodal/img/CMP301_TrainDeploy_E1_20230607_SPEdited_image_28.jpg to img/CMP301_TrainDeploy_E1_20230607_SPEdited_image_28.jpg\n",
      "[2024-03-18 22:05:30,530] p29444 {utils.py:48} INFO - downloaded multimodal-blog2-bucket-597703351594/multimodal/img/CMP301_TrainDeploy_E1_20230607_SPEdited_image_29.jpg to img/CMP301_TrainDeploy_E1_20230607_SPEdited_image_29.jpg\n",
      "[2024-03-18 22:05:30,598] p29444 {utils.py:48} INFO - downloaded multimodal-blog2-bucket-597703351594/multimodal/img/CMP301_TrainDeploy_E1_20230607_SPEdited_image_3.jpg to img/CMP301_TrainDeploy_E1_20230607_SPEdited_image_3.jpg\n",
      "[2024-03-18 22:05:30,635] p29444 {utils.py:48} INFO - downloaded multimodal-blog2-bucket-597703351594/multimodal/img/CMP301_TrainDeploy_E1_20230607_SPEdited_image_30.jpg to img/CMP301_TrainDeploy_E1_20230607_SPEdited_image_30.jpg\n",
      "[2024-03-18 22:05:30,697] p29444 {utils.py:48} INFO - downloaded multimodal-blog2-bucket-597703351594/multimodal/img/CMP301_TrainDeploy_E1_20230607_SPEdited_image_31.jpg to img/CMP301_TrainDeploy_E1_20230607_SPEdited_image_31.jpg\n",
      "[2024-03-18 22:05:30,751] p29444 {utils.py:48} INFO - downloaded multimodal-blog2-bucket-597703351594/multimodal/img/CMP301_TrainDeploy_E1_20230607_SPEdited_image_4.jpg to img/CMP301_TrainDeploy_E1_20230607_SPEdited_image_4.jpg\n",
      "[2024-03-18 22:05:30,823] p29444 {utils.py:48} INFO - downloaded multimodal-blog2-bucket-597703351594/multimodal/img/CMP301_TrainDeploy_E1_20230607_SPEdited_image_5.jpg to img/CMP301_TrainDeploy_E1_20230607_SPEdited_image_5.jpg\n",
      "[2024-03-18 22:05:30,866] p29444 {utils.py:48} INFO - downloaded multimodal-blog2-bucket-597703351594/multimodal/img/CMP301_TrainDeploy_E1_20230607_SPEdited_image_6.jpg to img/CMP301_TrainDeploy_E1_20230607_SPEdited_image_6.jpg\n",
      "[2024-03-18 22:05:30,923] p29444 {utils.py:48} INFO - downloaded multimodal-blog2-bucket-597703351594/multimodal/img/CMP301_TrainDeploy_E1_20230607_SPEdited_image_7.jpg to img/CMP301_TrainDeploy_E1_20230607_SPEdited_image_7.jpg\n",
      "[2024-03-18 22:05:31,034] p29444 {utils.py:48} INFO - downloaded multimodal-blog2-bucket-597703351594/multimodal/img/CMP301_TrainDeploy_E1_20230607_SPEdited_image_8.jpg to img/CMP301_TrainDeploy_E1_20230607_SPEdited_image_8.jpg\n",
      "[2024-03-18 22:05:31,072] p29444 {utils.py:48} INFO - downloaded multimodal-blog2-bucket-597703351594/multimodal/img/CMP301_TrainDeploy_E1_20230607_SPEdited_image_9.jpg to img/CMP301_TrainDeploy_E1_20230607_SPEdited_image_9.jpg\n",
      "[2024-03-18 22:05:31,075] p29444 {1297213205.py:3} INFO - downloaded 31 from s3\n"
     ]
    }
   ],
   "source": [
    "# download images from S3, we would be converting these to embeddings\n",
    "image_files: List = download_image_files_from_s3(bucket_name, g.BUCKET_IMG_PREFIX, g.IMAGE_DIR, g.IMAGE_FILE_EXTN)\n",
    "logger.info(f\"downloaded {len(image_files)} from s3\")"
   ]
  },
  {
   "cell_type": "code",
   "execution_count": 56,
   "id": "b67111d9-359d-46fe-997e-cbb8e5f7992f",
   "metadata": {
    "tags": []
   },
   "outputs": [
    {
     "name": "stderr",
     "output_type": "stream",
     "text": [
      "[2024-03-18 22:05:31,095] p29444 {4025043965.py:3} INFO - there are 31 files in the img directory for conversion to base64\n",
      "[2024-03-18 22:05:31,120] p29444 {4025043965.py:7} INFO - base64 conversion done, there are 31 base64 encoded files\n"
     ]
    }
   ],
   "source": [
    "os.makedirs(g.B64_ENCODED_IMAGES_DIR, exist_ok=True)\n",
    "file_list: List = glob.glob(os.path.join(g.IMAGE_DIR, f\"*{g.IMAGE_FILE_EXTN}\"))\n",
    "logger.info(f\"there are {len(file_list)} files in the {g.IMAGE_DIR} directory for conversion to base64\")\n",
    "\n",
    "# convert each file to base64 and store the base64 in a new file\n",
    "b64_image_file_list = list(map(encode_image_to_base64, file_list))\n",
    "logger.info(f\"base64 conversion done, there are {len(b64_image_file_list)} base64 encoded files\")"
   ]
  },
  {
   "cell_type": "code",
   "execution_count": 57,
   "id": "b42fa6d7-1291-4fed-a75a-cb6f225208bc",
   "metadata": {},
   "outputs": [
    {
     "name": "stdout",
     "output_type": "stream",
     "text": [
      "\n",
      "Please provide a detailed description of the image. Describe the overall layout and design of the slide. Identify and describe any tables, charts, or other visual elements present, including the specific data or information contained within them. Provide as much detail as possible about the content and format of the slide. Your response should be extremely detailed and data oriented. Be completely accurate\n",
      "\n"
     ]
    }
   ],
   "source": [
    "# prompt = \"Describe the image in detail, include titles and numbers.\"\n",
    "\n",
    "prompt = \"\"\"\n",
    "Please provide a detailed description of the image. Describe the overall layout and design of the slide. Identify and describe any tables, charts, or other visual elements present, including the specific data or information contained within them. Provide as much detail as possible about the content and format of the slide. Your response should be extremely detailed and data oriented. Be completely accurate\n",
    "\"\"\"\n",
    "\n",
    "print(prompt)"
   ]
  },
  {
   "cell_type": "markdown",
   "id": "e11b8685-58b6-42a2-b826-e243cac2b781",
   "metadata": {
    "tags": []
   },
   "source": [
    "Loop through b64 images to 1/get image desc from Claude3, 2/get embedding from Titan text.\n",
    "Call OSI pipeline API to ingest embedding."
   ]
  },
  {
   "cell_type": "code",
   "execution_count": 58,
   "id": "09201d8d-bc92-43b7-8ebe-d185e5234fd5",
   "metadata": {
    "tags": []
   },
   "outputs": [
    {
     "name": "stderr",
     "output_type": "stream",
     "text": [
      "[2024-03-18 22:05:31,161] p29444 {3505597840.py:3} INFO - going to convert img/b64_images/CMP301_TrainDeploy_E1_20230607_SPEdited_image_26.b64 into embeddings\n",
      "[2024-03-18 22:05:35,693] p29444 {credentials.py:1075} INFO - Found credentials from IAM Role: BaseNotebookInstanceEc2InstanceRole\n",
      "[2024-03-18 22:05:35,807] p29444 {3505597840.py:28} INFO - Ingesting data into pipeline\n",
      "[2024-03-18 22:05:35,810] p29444 {3505597840.py:29} INFO - Response: 1 - 200 OK\n",
      "[2024-03-18 22:05:35,811] p29444 {3505597840.py:3} INFO - going to convert img/b64_images/CMP301_TrainDeploy_E1_20230607_SPEdited_image_1.b64 into embeddings\n",
      "[2024-03-18 22:05:39,414] p29444 {credentials.py:1075} INFO - Found credentials from IAM Role: BaseNotebookInstanceEc2InstanceRole\n",
      "[2024-03-18 22:05:39,482] p29444 {3505597840.py:28} INFO - Ingesting data into pipeline\n",
      "[2024-03-18 22:05:39,484] p29444 {3505597840.py:29} INFO - Response: 2 - 200 OK\n",
      "[2024-03-18 22:05:39,485] p29444 {3505597840.py:3} INFO - going to convert img/b64_images/CMP301_TrainDeploy_E1_20230607_SPEdited_image_11.b64 into embeddings\n",
      "[2024-03-18 22:05:46,111] p29444 {credentials.py:1075} INFO - Found credentials from IAM Role: BaseNotebookInstanceEc2InstanceRole\n",
      "[2024-03-18 22:05:46,220] p29444 {3505597840.py:28} INFO - Ingesting data into pipeline\n",
      "[2024-03-18 22:05:46,222] p29444 {3505597840.py:29} INFO - Response: 3 - 200 OK\n",
      "[2024-03-18 22:05:46,223] p29444 {3505597840.py:3} INFO - going to convert img/b64_images/CMP301_TrainDeploy_E1_20230607_SPEdited_image_13.b64 into embeddings\n",
      "[2024-03-18 22:05:51,582] p29444 {credentials.py:1075} INFO - Found credentials from IAM Role: BaseNotebookInstanceEc2InstanceRole\n",
      "[2024-03-18 22:05:51,630] p29444 {3505597840.py:28} INFO - Ingesting data into pipeline\n",
      "[2024-03-18 22:05:51,631] p29444 {3505597840.py:29} INFO - Response: 4 - 200 OK\n",
      "[2024-03-18 22:05:51,632] p29444 {3505597840.py:3} INFO - going to convert img/b64_images/CMP301_TrainDeploy_E1_20230607_SPEdited_image_21.b64 into embeddings\n",
      "[2024-03-18 22:05:55,910] p29444 {credentials.py:1075} INFO - Found credentials from IAM Role: BaseNotebookInstanceEc2InstanceRole\n",
      "[2024-03-18 22:05:55,960] p29444 {3505597840.py:28} INFO - Ingesting data into pipeline\n",
      "[2024-03-18 22:05:55,961] p29444 {3505597840.py:29} INFO - Response: 5 - 200 OK\n",
      "[2024-03-18 22:05:55,962] p29444 {3505597840.py:3} INFO - going to convert img/b64_images/CMP301_TrainDeploy_E1_20230607_SPEdited_image_19.b64 into embeddings\n",
      "[2024-03-18 22:06:00,888] p29444 {credentials.py:1075} INFO - Found credentials from IAM Role: BaseNotebookInstanceEc2InstanceRole\n",
      "[2024-03-18 22:06:00,926] p29444 {3505597840.py:28} INFO - Ingesting data into pipeline\n",
      "[2024-03-18 22:06:00,929] p29444 {3505597840.py:29} INFO - Response: 6 - 200 OK\n",
      "[2024-03-18 22:06:00,930] p29444 {3505597840.py:3} INFO - going to convert img/b64_images/CMP301_TrainDeploy_E1_20230607_SPEdited_image_4.b64 into embeddings\n",
      "[2024-03-18 22:06:04,528] p29444 {credentials.py:1075} INFO - Found credentials from IAM Role: BaseNotebookInstanceEc2InstanceRole\n",
      "[2024-03-18 22:06:04,571] p29444 {3505597840.py:28} INFO - Ingesting data into pipeline\n",
      "[2024-03-18 22:06:04,573] p29444 {3505597840.py:29} INFO - Response: 7 - 200 OK\n",
      "[2024-03-18 22:06:04,574] p29444 {3505597840.py:3} INFO - going to convert img/b64_images/CMP301_TrainDeploy_E1_20230607_SPEdited_image_9.b64 into embeddings\n",
      "[2024-03-18 22:06:07,828] p29444 {credentials.py:1075} INFO - Found credentials from IAM Role: BaseNotebookInstanceEc2InstanceRole\n",
      "[2024-03-18 22:06:07,877] p29444 {3505597840.py:28} INFO - Ingesting data into pipeline\n",
      "[2024-03-18 22:06:07,878] p29444 {3505597840.py:29} INFO - Response: 8 - 200 OK\n",
      "[2024-03-18 22:06:07,879] p29444 {3505597840.py:3} INFO - going to convert img/b64_images/CMP301_TrainDeploy_E1_20230607_SPEdited_image_8.b64 into embeddings\n",
      "[2024-03-18 22:06:11,245] p29444 {credentials.py:1075} INFO - Found credentials from IAM Role: BaseNotebookInstanceEc2InstanceRole\n",
      "[2024-03-18 22:06:11,283] p29444 {3505597840.py:28} INFO - Ingesting data into pipeline\n",
      "[2024-03-18 22:06:11,284] p29444 {3505597840.py:29} INFO - Response: 9 - 200 OK\n",
      "[2024-03-18 22:06:11,285] p29444 {3505597840.py:3} INFO - going to convert img/b64_images/CMP301_TrainDeploy_E1_20230607_SPEdited_image_7.b64 into embeddings\n",
      "[2024-03-18 22:06:15,008] p29444 {credentials.py:1075} INFO - Found credentials from IAM Role: BaseNotebookInstanceEc2InstanceRole\n",
      "[2024-03-18 22:06:15,086] p29444 {3505597840.py:28} INFO - Ingesting data into pipeline\n",
      "[2024-03-18 22:06:15,089] p29444 {3505597840.py:29} INFO - Response: 10 - 200 OK\n",
      "[2024-03-18 22:06:15,094] p29444 {3505597840.py:3} INFO - going to convert img/b64_images/CMP301_TrainDeploy_E1_20230607_SPEdited_image_27.b64 into embeddings\n",
      "[2024-03-18 22:06:20,430] p29444 {credentials.py:1075} INFO - Found credentials from IAM Role: BaseNotebookInstanceEc2InstanceRole\n",
      "[2024-03-18 22:06:20,484] p29444 {3505597840.py:28} INFO - Ingesting data into pipeline\n",
      "[2024-03-18 22:06:20,486] p29444 {3505597840.py:29} INFO - Response: 11 - 200 OK\n",
      "[2024-03-18 22:06:20,488] p29444 {3505597840.py:3} INFO - going to convert img/b64_images/CMP301_TrainDeploy_E1_20230607_SPEdited_image_18.b64 into embeddings\n",
      "[2024-03-18 22:06:26,496] p29444 {credentials.py:1075} INFO - Found credentials from IAM Role: BaseNotebookInstanceEc2InstanceRole\n",
      "[2024-03-18 22:06:26,543] p29444 {3505597840.py:28} INFO - Ingesting data into pipeline\n",
      "[2024-03-18 22:06:26,544] p29444 {3505597840.py:29} INFO - Response: 12 - 200 OK\n",
      "[2024-03-18 22:06:26,546] p29444 {3505597840.py:3} INFO - going to convert img/b64_images/CMP301_TrainDeploy_E1_20230607_SPEdited_image_30.b64 into embeddings\n",
      "[2024-03-18 22:06:29,867] p29444 {credentials.py:1075} INFO - Found credentials from IAM Role: BaseNotebookInstanceEc2InstanceRole\n",
      "[2024-03-18 22:06:29,926] p29444 {3505597840.py:28} INFO - Ingesting data into pipeline\n",
      "[2024-03-18 22:06:29,928] p29444 {3505597840.py:29} INFO - Response: 13 - 200 OK\n",
      "[2024-03-18 22:06:29,932] p29444 {3505597840.py:3} INFO - going to convert img/b64_images/CMP301_TrainDeploy_E1_20230607_SPEdited_image_16.b64 into embeddings\n",
      "[2024-03-18 22:06:32,877] p29444 {credentials.py:1075} INFO - Found credentials from IAM Role: BaseNotebookInstanceEc2InstanceRole\n",
      "[2024-03-18 22:06:32,936] p29444 {3505597840.py:28} INFO - Ingesting data into pipeline\n",
      "[2024-03-18 22:06:32,938] p29444 {3505597840.py:29} INFO - Response: 14 - 200 OK\n",
      "[2024-03-18 22:06:32,939] p29444 {3505597840.py:3} INFO - going to convert img/b64_images/CMP301_TrainDeploy_E1_20230607_SPEdited_image_15.b64 into embeddings\n",
      "[2024-03-18 22:06:38,037] p29444 {credentials.py:1075} INFO - Found credentials from IAM Role: BaseNotebookInstanceEc2InstanceRole\n",
      "[2024-03-18 22:06:38,102] p29444 {3505597840.py:28} INFO - Ingesting data into pipeline\n",
      "[2024-03-18 22:06:38,106] p29444 {3505597840.py:29} INFO - Response: 15 - 200 OK\n",
      "[2024-03-18 22:06:38,108] p29444 {3505597840.py:3} INFO - going to convert img/b64_images/CMP301_TrainDeploy_E1_20230607_SPEdited_image_31.b64 into embeddings\n",
      "[2024-03-18 22:06:43,288] p29444 {credentials.py:1075} INFO - Found credentials from IAM Role: BaseNotebookInstanceEc2InstanceRole\n",
      "[2024-03-18 22:06:43,346] p29444 {3505597840.py:28} INFO - Ingesting data into pipeline\n",
      "[2024-03-18 22:06:43,349] p29444 {3505597840.py:29} INFO - Response: 16 - 200 OK\n",
      "[2024-03-18 22:06:43,349] p29444 {3505597840.py:3} INFO - going to convert img/b64_images/CMP301_TrainDeploy_E1_20230607_SPEdited_image_3.b64 into embeddings\n",
      "[2024-03-18 22:06:46,144] p29444 {credentials.py:1075} INFO - Found credentials from IAM Role: BaseNotebookInstanceEc2InstanceRole\n",
      "[2024-03-18 22:06:46,188] p29444 {3505597840.py:28} INFO - Ingesting data into pipeline\n",
      "[2024-03-18 22:06:46,190] p29444 {3505597840.py:29} INFO - Response: 17 - 200 OK\n",
      "[2024-03-18 22:06:46,190] p29444 {3505597840.py:3} INFO - going to convert img/b64_images/CMP301_TrainDeploy_E1_20230607_SPEdited_image_29.b64 into embeddings\n",
      "[2024-03-18 22:06:50,370] p29444 {credentials.py:1075} INFO - Found credentials from IAM Role: BaseNotebookInstanceEc2InstanceRole\n",
      "[2024-03-18 22:06:50,416] p29444 {3505597840.py:28} INFO - Ingesting data into pipeline\n",
      "[2024-03-18 22:06:50,418] p29444 {3505597840.py:29} INFO - Response: 18 - 200 OK\n",
      "[2024-03-18 22:06:50,418] p29444 {3505597840.py:3} INFO - going to convert img/b64_images/CMP301_TrainDeploy_E1_20230607_SPEdited_image_22.b64 into embeddings\n",
      "[2024-03-18 22:06:54,314] p29444 {credentials.py:1075} INFO - Found credentials from IAM Role: BaseNotebookInstanceEc2InstanceRole\n",
      "[2024-03-18 22:06:54,352] p29444 {3505597840.py:28} INFO - Ingesting data into pipeline\n",
      "[2024-03-18 22:06:54,354] p29444 {3505597840.py:29} INFO - Response: 19 - 200 OK\n",
      "[2024-03-18 22:06:54,355] p29444 {3505597840.py:3} INFO - going to convert img/b64_images/CMP301_TrainDeploy_E1_20230607_SPEdited_image_2.b64 into embeddings\n",
      "[2024-03-18 22:06:59,723] p29444 {credentials.py:1075} INFO - Found credentials from IAM Role: BaseNotebookInstanceEc2InstanceRole\n",
      "[2024-03-18 22:06:59,779] p29444 {3505597840.py:28} INFO - Ingesting data into pipeline\n",
      "[2024-03-18 22:06:59,780] p29444 {3505597840.py:29} INFO - Response: 20 - 200 OK\n",
      "[2024-03-18 22:06:59,781] p29444 {3505597840.py:3} INFO - going to convert img/b64_images/CMP301_TrainDeploy_E1_20230607_SPEdited_image_17.b64 into embeddings\n",
      "[2024-03-18 22:07:03,961] p29444 {credentials.py:1075} INFO - Found credentials from IAM Role: BaseNotebookInstanceEc2InstanceRole\n",
      "[2024-03-18 22:07:04,009] p29444 {3505597840.py:28} INFO - Ingesting data into pipeline\n",
      "[2024-03-18 22:07:04,017] p29444 {3505597840.py:29} INFO - Response: 21 - 200 OK\n",
      "[2024-03-18 22:07:04,019] p29444 {3505597840.py:3} INFO - going to convert img/b64_images/CMP301_TrainDeploy_E1_20230607_SPEdited_image_5.b64 into embeddings\n",
      "[2024-03-18 22:07:07,573] p29444 {credentials.py:1075} INFO - Found credentials from IAM Role: BaseNotebookInstanceEc2InstanceRole\n",
      "[2024-03-18 22:07:07,620] p29444 {3505597840.py:28} INFO - Ingesting data into pipeline\n",
      "[2024-03-18 22:07:07,621] p29444 {3505597840.py:29} INFO - Response: 22 - 200 OK\n",
      "[2024-03-18 22:07:07,623] p29444 {3505597840.py:3} INFO - going to convert img/b64_images/CMP301_TrainDeploy_E1_20230607_SPEdited_image_20.b64 into embeddings\n",
      "[2024-03-18 22:07:11,507] p29444 {credentials.py:1075} INFO - Found credentials from IAM Role: BaseNotebookInstanceEc2InstanceRole\n",
      "[2024-03-18 22:07:11,559] p29444 {3505597840.py:28} INFO - Ingesting data into pipeline\n",
      "[2024-03-18 22:07:11,561] p29444 {3505597840.py:29} INFO - Response: 23 - 200 OK\n",
      "[2024-03-18 22:07:11,563] p29444 {3505597840.py:3} INFO - going to convert img/b64_images/CMP301_TrainDeploy_E1_20230607_SPEdited_image_25.b64 into embeddings\n",
      "[2024-03-18 22:07:19,306] p29444 {credentials.py:1075} INFO - Found credentials from IAM Role: BaseNotebookInstanceEc2InstanceRole\n",
      "[2024-03-18 22:07:19,351] p29444 {3505597840.py:28} INFO - Ingesting data into pipeline\n",
      "[2024-03-18 22:07:19,352] p29444 {3505597840.py:29} INFO - Response: 24 - 200 OK\n",
      "[2024-03-18 22:07:19,353] p29444 {3505597840.py:3} INFO - going to convert img/b64_images/CMP301_TrainDeploy_E1_20230607_SPEdited_image_14.b64 into embeddings\n",
      "[2024-03-18 22:07:23,529] p29444 {credentials.py:1075} INFO - Found credentials from IAM Role: BaseNotebookInstanceEc2InstanceRole\n",
      "[2024-03-18 22:07:23,567] p29444 {3505597840.py:28} INFO - Ingesting data into pipeline\n",
      "[2024-03-18 22:07:23,570] p29444 {3505597840.py:29} INFO - Response: 25 - 200 OK\n",
      "[2024-03-18 22:07:23,571] p29444 {3505597840.py:3} INFO - going to convert img/b64_images/CMP301_TrainDeploy_E1_20230607_SPEdited_image_10.b64 into embeddings\n",
      "[2024-03-18 22:07:25,889] p29444 {credentials.py:1075} INFO - Found credentials from IAM Role: BaseNotebookInstanceEc2InstanceRole\n",
      "[2024-03-18 22:07:25,933] p29444 {3505597840.py:28} INFO - Ingesting data into pipeline\n",
      "[2024-03-18 22:07:25,935] p29444 {3505597840.py:29} INFO - Response: 26 - 200 OK\n",
      "[2024-03-18 22:07:25,935] p29444 {3505597840.py:3} INFO - going to convert img/b64_images/CMP301_TrainDeploy_E1_20230607_SPEdited_image_28.b64 into embeddings\n",
      "[2024-03-18 22:07:31,001] p29444 {credentials.py:1075} INFO - Found credentials from IAM Role: BaseNotebookInstanceEc2InstanceRole\n",
      "[2024-03-18 22:07:31,041] p29444 {3505597840.py:28} INFO - Ingesting data into pipeline\n",
      "[2024-03-18 22:07:31,042] p29444 {3505597840.py:29} INFO - Response: 27 - 200 OK\n",
      "[2024-03-18 22:07:31,043] p29444 {3505597840.py:3} INFO - going to convert img/b64_images/CMP301_TrainDeploy_E1_20230607_SPEdited_image_23.b64 into embeddings\n",
      "[2024-03-18 22:07:36,155] p29444 {credentials.py:1075} INFO - Found credentials from IAM Role: BaseNotebookInstanceEc2InstanceRole\n",
      "[2024-03-18 22:07:36,197] p29444 {3505597840.py:28} INFO - Ingesting data into pipeline\n",
      "[2024-03-18 22:07:36,198] p29444 {3505597840.py:29} INFO - Response: 28 - 200 OK\n",
      "[2024-03-18 22:07:36,199] p29444 {3505597840.py:3} INFO - going to convert img/b64_images/CMP301_TrainDeploy_E1_20230607_SPEdited_image_12.b64 into embeddings\n",
      "[2024-03-18 22:07:41,977] p29444 {credentials.py:1075} INFO - Found credentials from IAM Role: BaseNotebookInstanceEc2InstanceRole\n",
      "[2024-03-18 22:07:42,022] p29444 {3505597840.py:28} INFO - Ingesting data into pipeline\n",
      "[2024-03-18 22:07:42,024] p29444 {3505597840.py:29} INFO - Response: 29 - 200 OK\n",
      "[2024-03-18 22:07:42,026] p29444 {3505597840.py:3} INFO - going to convert img/b64_images/CMP301_TrainDeploy_E1_20230607_SPEdited_image_6.b64 into embeddings\n",
      "[2024-03-18 22:07:45,546] p29444 {credentials.py:1075} INFO - Found credentials from IAM Role: BaseNotebookInstanceEc2InstanceRole\n",
      "[2024-03-18 22:07:45,586] p29444 {3505597840.py:28} INFO - Ingesting data into pipeline\n",
      "[2024-03-18 22:07:45,587] p29444 {3505597840.py:29} INFO - Response: 30 - 200 OK\n",
      "[2024-03-18 22:07:45,588] p29444 {3505597840.py:3} INFO - going to convert img/b64_images/CMP301_TrainDeploy_E1_20230607_SPEdited_image_24.b64 into embeddings\n",
      "[2024-03-18 22:07:49,873] p29444 {credentials.py:1075} INFO - Found credentials from IAM Role: BaseNotebookInstanceEc2InstanceRole\n",
      "[2024-03-18 22:07:49,930] p29444 {3505597840.py:28} INFO - Ingesting data into pipeline\n",
      "[2024-03-18 22:07:49,933] p29444 {3505597840.py:29} INFO - Response: 31 - 200 OK\n"
     ]
    }
   ],
   "source": [
    "slide_number = 1\n",
    "for image_file_path in b64_image_file_list:  \n",
    "    logger.info(f\"going to convert {image_file_path} into embeddings\")\n",
    "    resp_text = get_img_desc(image_file_path, prompt)\n",
    "    embedding = get_text_embedding(bedrock, resp_text)\n",
    "\n",
    "    input_image_s3 = f\"s3://{bucket_name}/{g.BUCKET_IMG_PREFIX}/{Path(image_file_path).stem}{g.IMAGE_FILE_EXTN}\"\n",
    "    obj_name = f\"{Path(image_file_path).stem}{g.IMAGE_FILE_EXTN}\"\n",
    "    \n",
    "    \n",
    "    data = json.dumps([{\n",
    "        \"image_path\": input_image_s3, \n",
    "        \"slide_text\": resp_text, \n",
    "        \"slide_number\": slide_number, \n",
    "        \"metadata\": {\n",
    "            \"filename\": obj_name, \n",
    "            \"desc\": \"\" \n",
    "        }, \n",
    "        \"vector_embedding\": embedding\n",
    "    }])\n",
    "\n",
    "    r = requests.request(\n",
    "        method='POST', \n",
    "        url=osi_endpoint, \n",
    "        data=data,\n",
    "        auth=AWSSigV4('osis'))\n",
    "\n",
    "    logger.info(\"Ingesting data into pipeline\")\n",
    "    logger.info(f\"Response: {slide_number} - {r.text}\")\n",
    "    slide_number = slide_number + 1"
   ]
  },
  {
   "cell_type": "code",
   "execution_count": null,
   "id": "514f3747-53b4-4975-a623-de814735052c",
   "metadata": {},
   "outputs": [],
   "source": []
  }
 ],
 "metadata": {
  "kernelspec": {
   "display_name": "conda_python3",
   "language": "python",
   "name": "conda_python3"
  },
  "language_info": {
   "codemirror_mode": {
    "name": "ipython",
    "version": 3
   },
   "file_extension": ".py",
   "mimetype": "text/x-python",
   "name": "python",
   "nbconvert_exporter": "python",
   "pygments_lexer": "ipython3",
   "version": "3.10.13"
  }
 },
 "nbformat": 4,
 "nbformat_minor": 5
}
