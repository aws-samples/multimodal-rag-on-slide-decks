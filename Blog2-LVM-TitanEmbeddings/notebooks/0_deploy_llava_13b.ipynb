{
 "cells": [
  {
   "cell_type": "markdown",
   "id": "8ccc0afa-5ffe-4f76-ad86-74e25a9679cd",
   "metadata": {
    "tags": []
   },
   "source": [
    "# Deploy LLaVA-v1.5-13B model on Amazon SageMaker\n",
    "\n",
    "***This notebook works best with the `conda_python3` kernel on a `ml.t3.large` machine***.\n",
    "\n",
    "---\n",
    "\n",
    "In this notebook we download the [LLaVA-v1.5-13B]() and deploy it on SageMaker. We use the `huggingface-pytorch-inference` container and deploy this model on a `ml.g5.xlarge` instance type. \n",
    "\n",
    "The downloaded model files are archived into a `model.tar.gz` file that is uploaded to the default SageMaker S3 bucket."
   ]
  },
  {
   "cell_type": "code",
   "execution_count": null,
   "id": "9a6649e6-70b5-4f23-ab25-4a0b4b49fa50",
   "metadata": {
    "tags": []
   },
   "outputs": [],
   "source": [
    "import sys\n",
    "!{sys.executable} -m pip install -r requirements.txt"
   ]
  },
  {
   "cell_type": "code",
   "execution_count": 10,
   "id": "5fd89e24-f256-4e1f-96be-b798b10b0574",
   "metadata": {
    "tags": []
   },
   "outputs": [],
   "source": [
    "import os\n",
    "import time\n",
    "import boto3\n",
    "import sagemaker\n",
    "import globals as g\n",
    "from pathlib import Path\n",
    "from sagemaker import image_uris\n",
    "from utils import get_bucket_name\n",
    "from sagemaker.s3 import S3Uploader\n",
    "from sagemaker.utils import name_from_base\n",
    "from huggingface_hub import snapshot_download"
   ]
  },
  {
   "cell_type": "code",
   "execution_count": null,
   "id": "c8400d86-7742-43c4-8868-eb9193769a55",
   "metadata": {
    "tags": []
   },
   "outputs": [],
   "source": [
    "# global constants\n",
    "!pygmentize globals.py"
   ]
  },
  {
   "cell_type": "code",
   "execution_count": 4,
   "id": "89ad18ac-0a61-4009-8e52-d2449ac07c92",
   "metadata": {
    "tags": []
   },
   "outputs": [],
   "source": [
    "sagemaker_session = sagemaker.Session()\n",
    "role = sagemaker.get_execution_role()\n",
    "sm_client = sagemaker_session.sagemaker_client\n",
    "s3_client = boto3.client('s3')\n"
   ]
  },
  {
   "cell_type": "code",
   "execution_count": 5,
   "id": "79f41a3d-745c-41d0-b7ad-690f5e3673de",
   "metadata": {
    "tags": []
   },
   "outputs": [],
   "source": [
    "bucket_name: str = get_bucket_name(g.CFN_STACK_NAME)\n",
    "s3_model_uri: str = os.path.join(\"s3://\", bucket_name, g.BUCKET_PREFIX, os.path.basename(g.HF_MODEL_ID), g.S3_MODEL_PREFIX)\n",
    "s3_model_code_uri: str = os.path.join(\"s3://\", bucket_name, g.BUCKET_PREFIX, os.path.basename(g.HF_MODEL_ID), g.S3_MODEL_CODE_PREFIX, \"llava-src.tar.gz\")"
   ]
  },
  {
   "cell_type": "code",
   "execution_count": 6,
   "id": "f40ff2d1-ac37-4e2b-85b8-599b7decfadc",
   "metadata": {
    "tags": []
   },
   "outputs": [
    {
     "name": "stdout",
     "output_type": "stream",
     "text": [
      "multimodal-bucket-563851014557\n",
      "s3://multimodal-bucket-563851014557/multimodal/llava-v1.5-13b/model\n",
      "s3://multimodal-bucket-563851014557/multimodal/llava-v1.5-13b/code/llava-src.tar.gz\n"
     ]
    }
   ],
   "source": [
    "print(bucket_name)\n",
    "print(s3_model_uri)\n",
    "print(s3_model_code_uri)"
   ]
  },
  {
   "cell_type": "code",
   "execution_count": 8,
   "id": "3cfe0398-6840-4811-84dc-53b0c126c93f",
   "metadata": {
    "tags": []
   },
   "outputs": [
    {
     "data": {
      "application/vnd.jupyter.widget-view+json": {
       "model_id": "89af874635704185b89adfb74200a5b4",
       "version_major": 2,
       "version_minor": 0
      },
      "text/plain": [
       "Fetching 10 files:   0%|          | 0/10 [00:00<?, ?it/s]"
      ]
     },
     "metadata": {},
     "output_type": "display_data"
    },
    {
     "data": {
      "application/vnd.jupyter.widget-view+json": {
       "model_id": "044c96f0091a44c799d20d7c6c84f85a",
       "version_major": 2,
       "version_minor": 0
      },
      "text/plain": [
       "generation_config.json:   0%|          | 0.00/154 [00:00<?, ?B/s]"
      ]
     },
     "metadata": {},
     "output_type": "display_data"
    },
    {
     "data": {
      "application/vnd.jupyter.widget-view+json": {
       "model_id": "12fcb20819bd43719d734d37715b0f9f",
       "version_major": 2,
       "version_minor": 0
      },
      "text/plain": [
       "config.json:   0%|          | 0.00/1.16k [00:00<?, ?B/s]"
      ]
     },
     "metadata": {},
     "output_type": "display_data"
    },
    {
     "data": {
      "application/vnd.jupyter.widget-view+json": {
       "model_id": "35988697f91e49718e6bc9c912f3999d",
       "version_major": 2,
       "version_minor": 0
      },
      "text/plain": [
       "pytorch_model.bin.index.json:   0%|          | 0.00/33.7k [00:00<?, ?B/s]"
      ]
     },
     "metadata": {},
     "output_type": "display_data"
    },
    {
     "data": {
      "application/vnd.jupyter.widget-view+json": {
       "model_id": "6c7a149f3f884570a4359403cd5110dc",
       "version_major": 2,
       "version_minor": 0
      },
      "text/plain": [
       "pytorch_model-00002-of-00003.bin:   0%|          | 0.00/9.90G [00:00<?, ?B/s]"
      ]
     },
     "metadata": {},
     "output_type": "display_data"
    },
    {
     "data": {
      "application/vnd.jupyter.widget-view+json": {
       "model_id": "2b1617be6da94225b1fe9cad6d987830",
       "version_major": 2,
       "version_minor": 0
      },
      "text/plain": [
       "mm_projector.bin:   0%|          | 0.00/62.9M [00:00<?, ?B/s]"
      ]
     },
     "metadata": {},
     "output_type": "display_data"
    },
    {
     "data": {
      "application/vnd.jupyter.widget-view+json": {
       "model_id": "175f9c4046d54288a7e5d4f3913dfc44",
       "version_major": 2,
       "version_minor": 0
      },
      "text/plain": [
       "pytorch_model-00003-of-00003.bin:   0%|          | 0.00/6.24G [00:00<?, ?B/s]"
      ]
     },
     "metadata": {},
     "output_type": "display_data"
    },
    {
     "data": {
      "application/vnd.jupyter.widget-view+json": {
       "model_id": "5976edc1c7fe4122a2c8894768c19d94",
       "version_major": 2,
       "version_minor": 0
      },
      "text/plain": [
       "special_tokens_map.json:   0%|          | 0.00/438 [00:00<?, ?B/s]"
      ]
     },
     "metadata": {},
     "output_type": "display_data"
    },
    {
     "data": {
      "application/vnd.jupyter.widget-view+json": {
       "model_id": "070183a6ef4b4881aba53dc9a8df18db",
       "version_major": 2,
       "version_minor": 0
      },
      "text/plain": [
       "pytorch_model-00001-of-00003.bin:   0%|          | 0.00/9.95G [00:00<?, ?B/s]"
      ]
     },
     "metadata": {},
     "output_type": "display_data"
    },
    {
     "data": {
      "application/vnd.jupyter.widget-view+json": {
       "model_id": "dc7b8b33c930489087f4afb68d7c2893",
       "version_major": 2,
       "version_minor": 0
      },
      "text/plain": [
       "tokenizer_config.json:   0%|          | 0.00/749 [00:00<?, ?B/s]"
      ]
     },
     "metadata": {},
     "output_type": "display_data"
    },
    {
     "data": {
      "application/vnd.jupyter.widget-view+json": {
       "model_id": "1836f40d3eea475197b52ce5c629051e",
       "version_major": 2,
       "version_minor": 0
      },
      "text/plain": [
       "tokenizer.model:   0%|          | 0.00/500k [00:00<?, ?B/s]"
      ]
     },
     "metadata": {},
     "output_type": "display_data"
    }
   ],
   "source": [
    "local_model_path: str = os.path.join(os.path.dirname(os.getcwd()), os.path.basename(g.HF_MODEL_ID))\n",
    "Path(local_model_path).mkdir(exist_ok=True)\n",
    "# model_name = \"liuhaotian/llava-v1.5-13b\"\n",
    "allow_patterns = [\"*.json\", \"*.pt\", \"*.bin\", \"*.txt\", \"*.model\"]\n",
    "\n",
    "model_download_path = snapshot_download(\n",
    "    repo_id=g.HF_MODEL_ID,\n",
    "    cache_dir=local_model_path,\n",
    "    allow_patterns=allow_patterns,\n",
    ")"
   ]
  },
  {
   "cell_type": "code",
   "execution_count": null,
   "id": "f33a6ad1-b48d-45f0-9e1f-2e850f269e21",
   "metadata": {
    "tags": []
   },
   "outputs": [],
   "source": [
    "%%time\n",
    "# upload model to s3\n",
    "S3Uploader.upload(local_path=model_download_path, desired_s3_uri=s3_model_uri)\n"
   ]
  },
  {
   "cell_type": "code",
   "execution_count": 19,
   "id": "f03cf32c-39d2-4e1e-8733-4e25728400c9",
   "metadata": {
    "tags": []
   },
   "outputs": [
    {
     "name": "stdout",
     "output_type": "stream",
     "text": [
      "tar: Removing leading `../' from member names\n",
      "../llava-src/\n",
      "../llava-src/model.py\n",
      "../llava-src/requirements.txt\n",
      "../llava-src/serving.properties\n",
      "../llava-src/run_llava_local.py\n",
      "upload: ./llava-src.tar.gz to s3://multimodal-bucket-563851014557/multimodal/llava-v1.5-13b/code/llava-src.tar.gz\n"
     ]
    }
   ],
   "source": [
    "!rm llava-src.tar.gz\n",
    "!tar zcvf llava-src.tar.gz ../llava-src --exclude \".ipynb_checkpoints\" --exclude \"__pycache__\"\n",
    "!aws s3 cp llava-src.tar.gz {s3_model_code_uri}"
   ]
  },
  {
   "cell_type": "code",
   "execution_count": 20,
   "id": "84c521db-f722-434b-9b32-5fc3cb25cb9e",
   "metadata": {
    "tags": []
   },
   "outputs": [
    {
     "name": "stdout",
     "output_type": "stream",
     "text": [
      "Inference container uri: 763104351884.dkr.ecr.us-east-1.amazonaws.com/djl-inference:0.23.0-deepspeed0.9.5-cu118\n"
     ]
    }
   ],
   "source": [
    "# framework_name = f\"djl-{g.LLM_ENGINE}\"\n",
    "framework_name = \"djl-deepspeed\"\n",
    "\n",
    "inference_image_uri = image_uris.retrieve(\n",
    "    framework=framework_name, region=g.AWS_REGION, version=\"0.23.0\"\n",
    ")\n",
    "\n",
    "print(f\"Inference container uri: {inference_image_uri}\")"
   ]
  },
  {
   "cell_type": "markdown",
   "id": "0b5ed609-7249-42d4-97c6-a26060c50c31",
   "metadata": {},
   "source": [
    "### SageMaker endpoint\n",
    "\n",
    "- Async Endpoint"
   ]
  },
  {
   "cell_type": "code",
   "execution_count": 21,
   "id": "6053f9d7-abb1-4e4f-8ee8-73b3b19eb061",
   "metadata": {
    "tags": []
   },
   "outputs": [
    {
     "name": "stdout",
     "output_type": "stream",
     "text": [
      "llava-djl-2024-02-03-00-34-24-295\n",
      "Created Model: arn:aws:sagemaker:us-east-1:563851014557:model/llava-djl-2024-02-03-00-34-24-295\n"
     ]
    }
   ],
   "source": [
    "model_name = name_from_base(f\"llava-djl\")\n",
    "print(model_name)\n",
    "\n",
    "create_model_response = sm_client.create_model(\n",
    "    ModelName=model_name,\n",
    "    ExecutionRoleArn=role,\n",
    "    PrimaryContainer={\"Image\": inference_image_uri, \"ModelDataUrl\": s3_model_code_uri},\n",
    ")\n",
    "model_arn = create_model_response[\"ModelArn\"]\n",
    "\n",
    "print(f\"Created Model: {model_arn}\")"
   ]
  },
  {
   "cell_type": "code",
   "execution_count": 22,
   "id": "332615df-6117-4f0d-93f1-233acf03a27a",
   "metadata": {
    "tags": []
   },
   "outputs": [
    {
     "name": "stdout",
     "output_type": "stream",
     "text": [
      "s3://multimodal-bucket-563851014557/multimodal/outputs/llava-djl-2024-02-03-00-34-24-295\n"
     ]
    }
   ],
   "source": [
    "# async_output_uri = f\"s3://{bucket_name}/{g.BUCKET_PREFIX}/outputs/{model_name}/\"\n",
    "async_output_uri = os.path.join(\"s3://\", bucket_name, g.BUCKET_PREFIX, \"outputs\", model_name)\n",
    "print(async_output_uri)"
   ]
  },
  {
   "cell_type": "code",
   "execution_count": 23,
   "id": "6bc6521b-a03a-49ab-93e9-34e6d5011e55",
   "metadata": {
    "tags": []
   },
   "outputs": [
    {
     "name": "stdout",
     "output_type": "stream",
     "text": [
      "{'EndpointConfigArn': 'arn:aws:sagemaker:us-east-1:563851014557:endpoint-config/llava-djl-2024-02-03-00-34-24-295-async-config', 'ResponseMetadata': {'RequestId': '092be8fe-610c-4922-aebe-1454edad08b9', 'HTTPStatusCode': 200, 'HTTPHeaders': {'x-amzn-requestid': '092be8fe-610c-4922-aebe-1454edad08b9', 'content-type': 'application/x-amz-json-1.1', 'content-length': '127', 'date': 'Sat, 03 Feb 2024 00:34:30 GMT'}, 'RetryAttempts': 0}}\n"
     ]
    }
   ],
   "source": [
    "instance_type = \"ml.g5.2xlarge\"\n",
    "# instance_type = \"ml.g5.xlarge\"\n",
    "# instance_type = \"ml.g4dn.xlarge\"\n",
    "\n",
    "endpoint_config_name = f\"{model_name}-async-config\"\n",
    "endpoint_name = f\"{model_name}-async-endpoint\"\n",
    "\n",
    "endpoint_config_response = sm_client.create_endpoint_config(\n",
    "    EndpointConfigName=endpoint_config_name,\n",
    "    ProductionVariants=[\n",
    "        {\n",
    "            \"VariantName\": \"variant1\",\n",
    "            \"ModelName\": model_name,\n",
    "            \"InstanceType\": instance_type,\n",
    "            \"InitialInstanceCount\": 1,\n",
    "            \"ContainerStartupHealthCheckTimeoutInSeconds\": 600,\n",
    "        },\n",
    "    ],\n",
    "    AsyncInferenceConfig={\n",
    "        \"OutputConfig\": {\n",
    "            \"S3OutputPath\": async_output_uri,\n",
    "        },\n",
    "        \"ClientConfig\": {\n",
    "            \"MaxConcurrentInvocationsPerInstance\": 1\n",
    "        }\n",
    "    }\n",
    ")\n",
    "print(endpoint_config_response)"
   ]
  },
  {
   "cell_type": "code",
   "execution_count": 24,
   "id": "47dbf7c2-1297-4aa6-af1a-b9d1229790a8",
   "metadata": {
    "tags": []
   },
   "outputs": [
    {
     "name": "stdout",
     "output_type": "stream",
     "text": [
      "Created Endpoint: arn:aws:sagemaker:us-east-1:563851014557:endpoint/llava-djl-2024-02-03-00-34-24-295-async-endpoint\n"
     ]
    }
   ],
   "source": [
    "create_endpoint_response = sm_client.create_endpoint(\n",
    "    EndpointName=f\"{endpoint_name}\", EndpointConfigName=endpoint_config_name\n",
    ")\n",
    "print(f\"Created Endpoint: {create_endpoint_response['EndpointArn']}\")"
   ]
  },
  {
   "cell_type": "code",
   "execution_count": null,
   "id": "6ad94a6d-ca40-41ce-9b91-12f66728768b",
   "metadata": {},
   "outputs": [],
   "source": []
  }
 ],
 "metadata": {
  "kernelspec": {
   "display_name": "conda_pytorch_p310",
   "language": "python",
   "name": "conda_pytorch_p310"
  },
  "language_info": {
   "codemirror_mode": {
    "name": "ipython",
    "version": 3
   },
   "file_extension": ".py",
   "mimetype": "text/x-python",
   "name": "python",
   "nbconvert_exporter": "python",
   "pygments_lexer": "ipython3",
   "version": "3.10.13"
  }
 },
 "nbformat": 4,
 "nbformat_minor": 5
}
