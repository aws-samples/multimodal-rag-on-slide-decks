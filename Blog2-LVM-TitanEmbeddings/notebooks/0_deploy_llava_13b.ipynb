{
 "cells": [
  {
   "cell_type": "markdown",
   "id": "8ccc0afa-5ffe-4f76-ad86-74e25a9679cd",
   "metadata": {
    "tags": []
   },
   "source": [
    "# Deploy LLaVA-v1.5-13B model on Amazon SageMaker\n",
    "\n",
    "***This notebook works best with the `conda_python3` kernel on a `ml.t3.xlarge` machine***.\n",
    "\n",
    "---\n",
    "\n",
    "In this notebook we download the LLaVA-v1.5-13B and deploy it on SageMaker. We deploy this model on a `ml.g5.12xlarge` instance type. \n",
    "\n",
    "The downloaded model files are archived into a `model.tar.gz` file that is uploaded to an S3 bucket."
   ]
  },
  {
   "cell_type": "code",
   "execution_count": 15,
   "id": "9a6649e6-70b5-4f23-ab25-4a0b4b49fa50",
   "metadata": {
    "tags": []
   },
   "outputs": [
    {
     "name": "stdout",
     "output_type": "stream",
     "text": [
      "Collecting git+https://github.com/haotian-liu/LLaVA.git@v1.1.1 (from -r requirements.txt (line 2))\n",
      "  Cloning https://github.com/haotian-liu/LLaVA.git (to revision v1.1.1) to /tmp/pip-req-build-3kf78r45\n",
      "  Running command git clone --filter=blob:none --quiet https://github.com/haotian-liu/LLaVA.git /tmp/pip-req-build-3kf78r45\n",
      "  Running command git checkout -q 1619889c712e347be1cb4f78ec66e7cf414ac1a6\n",
      "  Resolved https://github.com/haotian-liu/LLaVA.git to commit 1619889c712e347be1cb4f78ec66e7cf414ac1a6\n",
      "  Installing build dependencies ... \u001b[?25ldone\n",
      "\u001b[?25h  Getting requirements to build wheel ... \u001b[?25ldone\n",
      "\u001b[?25h  Installing backend dependencies ... \u001b[?25ldone\n",
      "\u001b[?25h  Preparing metadata (pyproject.toml) ... \u001b[?25ldone\n",
      "\u001b[?25hRequirement already satisfied: boto3 in /home/ec2-user/anaconda3/envs/pytorch_p310/lib/python3.10/site-packages (from -r requirements.txt (line 1)) (1.34.32)\n",
      "Collecting huggingface-hub==0.19.4 (from -r requirements.txt (line 3))\n",
      "  Using cached huggingface_hub-0.19.4-py3-none-any.whl.metadata (14 kB)\n",
      "Collecting sagemaker==2.199.0 (from -r requirements.txt (line 4))\n",
      "  Using cached sagemaker-2.199.0-py2.py3-none-any.whl\n",
      "Collecting pypdfium2==4.24.0 (from -r requirements.txt (line 5))\n",
      "  Using cached pypdfium2-4.24.0-py3-none-manylinux_2_17_x86_64.whl.metadata (45 kB)\n",
      "Collecting httplib2==0.19.0 (from -r requirements.txt (line 6))\n",
      "  Using cached httplib2-0.19.0-py3-none-any.whl (95 kB)\n",
      "Collecting langchain==0.0.340 (from -r requirements.txt (line 7))\n",
      "  Using cached langchain-0.0.340-py3-none-any.whl.metadata (16 kB)\n",
      "Requirement already satisfied: requests==2.31.0 in /home/ec2-user/anaconda3/envs/pytorch_p310/lib/python3.10/site-packages (from -r requirements.txt (line 8)) (2.31.0)\n",
      "Requirement already satisfied: pandas==1.5.3 in /home/ec2-user/anaconda3/envs/pytorch_p310/lib/python3.10/site-packages (from -r requirements.txt (line 9)) (1.5.3)\n",
      "Collecting boto3 (from -r requirements.txt (line 1))\n",
      "  Using cached boto3-1.34.0-py3-none-any.whl.metadata (6.6 kB)\n",
      "Collecting botocore==1.34.0 (from -r requirements.txt (line 11))\n",
      "  Using cached botocore-1.34.0-py3-none-any.whl.metadata (5.6 kB)\n",
      "Collecting opensearch-py==2.4.2 (from -r requirements.txt (line 12))\n",
      "  Using cached opensearch_py-2.4.2-py2.py3-none-any.whl.metadata (6.8 kB)\n",
      "Collecting numexpr==2.8.0 (from -r requirements.txt (line 13))\n",
      "  Using cached numexpr-2.8.0-cp310-cp310-manylinux_2_17_x86_64.manylinux2014_x86_64.whl (380 kB)\n",
      "Collecting packaging>=22.0 (from -r requirements.txt (line 14))\n",
      "  Using cached packaging-23.2-py3-none-any.whl.metadata (3.2 kB)\n",
      "Requirement already satisfied: docutils in /home/ec2-user/anaconda3/envs/pytorch_p310/lib/python3.10/site-packages (from -r requirements.txt (line 15)) (0.15.2)\n",
      "Requirement already satisfied: jmespath<2.0.0,>=0.7.1 in /home/ec2-user/anaconda3/envs/pytorch_p310/lib/python3.10/site-packages (from boto3->-r requirements.txt (line 1)) (1.0.1)\n",
      "Collecting s3transfer<0.10.0,>=0.9.0 (from boto3->-r requirements.txt (line 1))\n",
      "  Using cached s3transfer-0.9.0-py3-none-any.whl.metadata (1.7 kB)\n",
      "Requirement already satisfied: filelock in /home/ec2-user/anaconda3/envs/pytorch_p310/lib/python3.10/site-packages (from huggingface-hub==0.19.4->-r requirements.txt (line 3)) (3.12.4)\n",
      "Requirement already satisfied: fsspec>=2023.5.0 in /home/ec2-user/anaconda3/envs/pytorch_p310/lib/python3.10/site-packages (from huggingface-hub==0.19.4->-r requirements.txt (line 3)) (2023.10.0)\n",
      "Requirement already satisfied: tqdm>=4.42.1 in /home/ec2-user/anaconda3/envs/pytorch_p310/lib/python3.10/site-packages (from huggingface-hub==0.19.4->-r requirements.txt (line 3)) (4.66.1)\n",
      "Requirement already satisfied: pyyaml>=5.1 in /home/ec2-user/anaconda3/envs/pytorch_p310/lib/python3.10/site-packages (from huggingface-hub==0.19.4->-r requirements.txt (line 3)) (6.0.1)\n",
      "Requirement already satisfied: typing-extensions>=3.7.4.3 in /home/ec2-user/anaconda3/envs/pytorch_p310/lib/python3.10/site-packages (from huggingface-hub==0.19.4->-r requirements.txt (line 3)) (4.8.0)\n",
      "Requirement already satisfied: attrs<24,>=23.1.0 in /home/ec2-user/anaconda3/envs/pytorch_p310/lib/python3.10/site-packages (from sagemaker==2.199.0->-r requirements.txt (line 4)) (23.1.0)\n",
      "Requirement already satisfied: cloudpickle==2.2.1 in /home/ec2-user/anaconda3/envs/pytorch_p310/lib/python3.10/site-packages (from sagemaker==2.199.0->-r requirements.txt (line 4)) (2.2.1)\n",
      "Requirement already satisfied: google-pasta in /home/ec2-user/anaconda3/envs/pytorch_p310/lib/python3.10/site-packages (from sagemaker==2.199.0->-r requirements.txt (line 4)) (0.2.0)\n",
      "Requirement already satisfied: numpy<2.0,>=1.9.0 in /home/ec2-user/anaconda3/envs/pytorch_p310/lib/python3.10/site-packages (from sagemaker==2.199.0->-r requirements.txt (line 4)) (1.26.1)\n",
      "Requirement already satisfied: protobuf<5.0,>=3.12 in /home/ec2-user/anaconda3/envs/pytorch_p310/lib/python3.10/site-packages (from sagemaker==2.199.0->-r requirements.txt (line 4)) (4.24.4)\n",
      "Requirement already satisfied: smdebug-rulesconfig==1.0.1 in /home/ec2-user/anaconda3/envs/pytorch_p310/lib/python3.10/site-packages (from sagemaker==2.199.0->-r requirements.txt (line 4)) (1.0.1)\n",
      "Requirement already satisfied: importlib-metadata<7.0,>=1.4.0 in /home/ec2-user/anaconda3/envs/pytorch_p310/lib/python3.10/site-packages (from sagemaker==2.199.0->-r requirements.txt (line 4)) (6.8.0)\n",
      "Requirement already satisfied: pathos in /home/ec2-user/anaconda3/envs/pytorch_p310/lib/python3.10/site-packages (from sagemaker==2.199.0->-r requirements.txt (line 4)) (0.3.1)\n",
      "Requirement already satisfied: schema in /home/ec2-user/anaconda3/envs/pytorch_p310/lib/python3.10/site-packages (from sagemaker==2.199.0->-r requirements.txt (line 4)) (0.7.5)\n",
      "Requirement already satisfied: jsonschema in /home/ec2-user/anaconda3/envs/pytorch_p310/lib/python3.10/site-packages (from sagemaker==2.199.0->-r requirements.txt (line 4)) (4.19.1)\n",
      "Requirement already satisfied: platformdirs in /home/ec2-user/anaconda3/envs/pytorch_p310/lib/python3.10/site-packages (from sagemaker==2.199.0->-r requirements.txt (line 4)) (3.11.0)\n",
      "Requirement already satisfied: tblib==1.7.0 in /home/ec2-user/anaconda3/envs/pytorch_p310/lib/python3.10/site-packages (from sagemaker==2.199.0->-r requirements.txt (line 4)) (1.7.0)\n",
      "Requirement already satisfied: urllib3<1.27 in /home/ec2-user/anaconda3/envs/pytorch_p310/lib/python3.10/site-packages (from sagemaker==2.199.0->-r requirements.txt (line 4)) (1.26.18)\n",
      "Collecting uvicorn==0.22.0 (from sagemaker==2.199.0->-r requirements.txt (line 4))\n",
      "  Using cached uvicorn-0.22.0-py3-none-any.whl (58 kB)\n",
      "Collecting fastapi==0.95.2 (from sagemaker==2.199.0->-r requirements.txt (line 4))\n",
      "  Using cached fastapi-0.95.2-py3-none-any.whl.metadata (24 kB)\n",
      "Requirement already satisfied: docker in /home/ec2-user/anaconda3/envs/pytorch_p310/lib/python3.10/site-packages (from sagemaker==2.199.0->-r requirements.txt (line 4)) (6.1.3)\n",
      "Requirement already satisfied: psutil in /home/ec2-user/anaconda3/envs/pytorch_p310/lib/python3.10/site-packages (from sagemaker==2.199.0->-r requirements.txt (line 4)) (5.9.5)\n",
      "Collecting pyparsing<3,>=2.4.2 (from httplib2==0.19.0->-r requirements.txt (line 6))\n",
      "  Using cached pyparsing-2.4.7-py2.py3-none-any.whl (67 kB)\n",
      "Collecting SQLAlchemy<3,>=1.4 (from langchain==0.0.340->-r requirements.txt (line 7))\n",
      "  Downloading SQLAlchemy-2.0.25-cp310-cp310-manylinux_2_17_x86_64.manylinux2014_x86_64.whl.metadata (9.6 kB)\n",
      "Requirement already satisfied: aiohttp<4.0.0,>=3.8.3 in /home/ec2-user/anaconda3/envs/pytorch_p310/lib/python3.10/site-packages (from langchain==0.0.340->-r requirements.txt (line 7)) (3.9.3)\n",
      "Collecting anyio<4.0 (from langchain==0.0.340->-r requirements.txt (line 7))\n",
      "  Using cached anyio-3.7.1-py3-none-any.whl.metadata (4.7 kB)\n",
      "Requirement already satisfied: async-timeout<5.0.0,>=4.0.0 in /home/ec2-user/anaconda3/envs/pytorch_p310/lib/python3.10/site-packages (from langchain==0.0.340->-r requirements.txt (line 7)) (4.0.3)\n",
      "Collecting dataclasses-json<0.7,>=0.5.7 (from langchain==0.0.340->-r requirements.txt (line 7))\n",
      "  Using cached dataclasses_json-0.6.4-py3-none-any.whl.metadata (25 kB)\n",
      "Collecting jsonpatch<2.0,>=1.33 (from langchain==0.0.340->-r requirements.txt (line 7))\n",
      "  Using cached jsonpatch-1.33-py2.py3-none-any.whl.metadata (3.0 kB)\n",
      "Collecting langsmith<0.1.0,>=0.0.63 (from langchain==0.0.340->-r requirements.txt (line 7))\n",
      "  Downloading langsmith-0.0.87-py3-none-any.whl.metadata (10 kB)\n",
      "Requirement already satisfied: pydantic<3,>=1 in /home/ec2-user/anaconda3/envs/pytorch_p310/lib/python3.10/site-packages (from langchain==0.0.340->-r requirements.txt (line 7)) (1.10.14)\n",
      "Requirement already satisfied: tenacity<9.0.0,>=8.1.0 in /home/ec2-user/anaconda3/envs/pytorch_p310/lib/python3.10/site-packages (from langchain==0.0.340->-r requirements.txt (line 7)) (8.2.3)\n",
      "Requirement already satisfied: charset-normalizer<4,>=2 in /home/ec2-user/anaconda3/envs/pytorch_p310/lib/python3.10/site-packages (from requests==2.31.0->-r requirements.txt (line 8)) (3.3.1)\n",
      "Requirement already satisfied: idna<4,>=2.5 in /home/ec2-user/anaconda3/envs/pytorch_p310/lib/python3.10/site-packages (from requests==2.31.0->-r requirements.txt (line 8)) (3.4)\n",
      "Requirement already satisfied: certifi>=2017.4.17 in /home/ec2-user/anaconda3/envs/pytorch_p310/lib/python3.10/site-packages (from requests==2.31.0->-r requirements.txt (line 8)) (2023.7.22)\n",
      "Requirement already satisfied: python-dateutil>=2.8.1 in /home/ec2-user/anaconda3/envs/pytorch_p310/lib/python3.10/site-packages (from pandas==1.5.3->-r requirements.txt (line 9)) (2.8.2)\n",
      "Requirement already satisfied: pytz>=2020.1 in /home/ec2-user/anaconda3/envs/pytorch_p310/lib/python3.10/site-packages (from pandas==1.5.3->-r requirements.txt (line 9)) (2023.3.post1)\n",
      "Requirement already satisfied: six in /home/ec2-user/anaconda3/envs/pytorch_p310/lib/python3.10/site-packages (from opensearch-py==2.4.2->-r requirements.txt (line 12)) (1.16.0)\n",
      "Collecting starlette<0.28.0,>=0.27.0 (from fastapi==0.95.2->sagemaker==2.199.0->-r requirements.txt (line 4))\n",
      "  Using cached starlette-0.27.0-py3-none-any.whl.metadata (5.8 kB)\n",
      "Requirement already satisfied: click>=7.0 in /home/ec2-user/anaconda3/envs/pytorch_p310/lib/python3.10/site-packages (from uvicorn==0.22.0->sagemaker==2.199.0->-r requirements.txt (line 4)) (8.1.7)\n",
      "Requirement already satisfied: h11>=0.8 in /home/ec2-user/anaconda3/envs/pytorch_p310/lib/python3.10/site-packages (from uvicorn==0.22.0->sagemaker==2.199.0->-r requirements.txt (line 4)) (0.14.0)\n",
      "Requirement already satisfied: einops in /home/ec2-user/anaconda3/envs/pytorch_p310/lib/python3.10/site-packages (from llava==1.1.1->-r requirements.txt (line 2)) (0.6.1)\n",
      "Requirement already satisfied: gradio==3.35.2 in /home/ec2-user/anaconda3/envs/pytorch_p310/lib/python3.10/site-packages (from llava==1.1.1->-r requirements.txt (line 2)) (3.35.2)\n",
      "Requirement already satisfied: markdown2[all] in /home/ec2-user/anaconda3/envs/pytorch_p310/lib/python3.10/site-packages (from llava==1.1.1->-r requirements.txt (line 2)) (2.4.12)\n",
      "Requirement already satisfied: sentencepiece in /home/ec2-user/anaconda3/envs/pytorch_p310/lib/python3.10/site-packages (from llava==1.1.1->-r requirements.txt (line 2)) (0.1.99)\n",
      "Requirement already satisfied: tokenizers>=0.12.1 in /home/ec2-user/anaconda3/envs/pytorch_p310/lib/python3.10/site-packages (from llava==1.1.1->-r requirements.txt (line 2)) (0.13.3)\n",
      "Requirement already satisfied: torch==2.0.1 in /home/ec2-user/anaconda3/envs/pytorch_p310/lib/python3.10/site-packages (from llava==1.1.1->-r requirements.txt (line 2)) (2.0.1)\n",
      "Requirement already satisfied: torchvision==0.15.2 in /home/ec2-user/anaconda3/envs/pytorch_p310/lib/python3.10/site-packages (from llava==1.1.1->-r requirements.txt (line 2)) (0.15.2)\n",
      "Requirement already satisfied: wandb in /home/ec2-user/anaconda3/envs/pytorch_p310/lib/python3.10/site-packages (from llava==1.1.1->-r requirements.txt (line 2)) (0.16.2)\n",
      "Requirement already satisfied: shortuuid in /home/ec2-user/anaconda3/envs/pytorch_p310/lib/python3.10/site-packages (from llava==1.1.1->-r requirements.txt (line 2)) (1.0.11)\n",
      "Requirement already satisfied: httpx==0.24.0 in /home/ec2-user/anaconda3/envs/pytorch_p310/lib/python3.10/site-packages (from llava==1.1.1->-r requirements.txt (line 2)) (0.24.0)\n",
      "Requirement already satisfied: deepspeed==0.9.5 in /home/ec2-user/anaconda3/envs/pytorch_p310/lib/python3.10/site-packages (from llava==1.1.1->-r requirements.txt (line 2)) (0.9.5)\n",
      "Requirement already satisfied: peft==0.4.0 in /home/ec2-user/anaconda3/envs/pytorch_p310/lib/python3.10/site-packages (from llava==1.1.1->-r requirements.txt (line 2)) (0.4.0)\n",
      "Requirement already satisfied: transformers==4.31.0 in /home/ec2-user/anaconda3/envs/pytorch_p310/lib/python3.10/site-packages (from llava==1.1.1->-r requirements.txt (line 2)) (4.31.0)\n",
      "Requirement already satisfied: accelerate==0.21.0 in /home/ec2-user/anaconda3/envs/pytorch_p310/lib/python3.10/site-packages (from llava==1.1.1->-r requirements.txt (line 2)) (0.21.0)\n",
      "Requirement already satisfied: bitsandbytes==0.41.0 in /home/ec2-user/anaconda3/envs/pytorch_p310/lib/python3.10/site-packages (from llava==1.1.1->-r requirements.txt (line 2)) (0.41.0)\n",
      "Requirement already satisfied: scikit-learn==1.2.2 in /home/ec2-user/anaconda3/envs/pytorch_p310/lib/python3.10/site-packages (from llava==1.1.1->-r requirements.txt (line 2)) (1.2.2)\n",
      "Requirement already satisfied: einops-exts==0.0.4 in /home/ec2-user/anaconda3/envs/pytorch_p310/lib/python3.10/site-packages (from llava==1.1.1->-r requirements.txt (line 2)) (0.0.4)\n",
      "Requirement already satisfied: timm==0.6.13 in /home/ec2-user/anaconda3/envs/pytorch_p310/lib/python3.10/site-packages (from llava==1.1.1->-r requirements.txt (line 2)) (0.6.13)\n",
      "Requirement already satisfied: gradio-client==0.2.9 in /home/ec2-user/anaconda3/envs/pytorch_p310/lib/python3.10/site-packages (from llava==1.1.1->-r requirements.txt (line 2)) (0.2.9)\n",
      "Requirement already satisfied: hjson in /home/ec2-user/anaconda3/envs/pytorch_p310/lib/python3.10/site-packages (from deepspeed==0.9.5->llava==1.1.1->-r requirements.txt (line 2)) (3.1.0)\n",
      "Requirement already satisfied: ninja in /home/ec2-user/anaconda3/envs/pytorch_p310/lib/python3.10/site-packages (from deepspeed==0.9.5->llava==1.1.1->-r requirements.txt (line 2)) (1.11.1.1)\n",
      "Requirement already satisfied: py-cpuinfo in /home/ec2-user/anaconda3/envs/pytorch_p310/lib/python3.10/site-packages (from deepspeed==0.9.5->llava==1.1.1->-r requirements.txt (line 2)) (9.0.0)\n",
      "Requirement already satisfied: aiofiles in /home/ec2-user/anaconda3/envs/pytorch_p310/lib/python3.10/site-packages (from gradio==3.35.2->llava==1.1.1->-r requirements.txt (line 2)) (23.2.1)\n",
      "Requirement already satisfied: altair>=4.2.0 in /home/ec2-user/anaconda3/envs/pytorch_p310/lib/python3.10/site-packages (from gradio==3.35.2->llava==1.1.1->-r requirements.txt (line 2)) (5.2.0)\n",
      "Requirement already satisfied: ffmpy in /home/ec2-user/anaconda3/envs/pytorch_p310/lib/python3.10/site-packages (from gradio==3.35.2->llava==1.1.1->-r requirements.txt (line 2)) (0.3.1)\n",
      "Requirement already satisfied: jinja2 in /home/ec2-user/anaconda3/envs/pytorch_p310/lib/python3.10/site-packages (from gradio==3.35.2->llava==1.1.1->-r requirements.txt (line 2)) (3.1.2)\n",
      "Requirement already satisfied: markdown-it-py>=2.0.0 in /home/ec2-user/anaconda3/envs/pytorch_p310/lib/python3.10/site-packages (from markdown-it-py[linkify]>=2.0.0->gradio==3.35.2->llava==1.1.1->-r requirements.txt (line 2)) (2.2.0)\n",
      "Requirement already satisfied: markupsafe in /home/ec2-user/anaconda3/envs/pytorch_p310/lib/python3.10/site-packages (from gradio==3.35.2->llava==1.1.1->-r requirements.txt (line 2)) (2.1.3)\n",
      "Requirement already satisfied: matplotlib in /home/ec2-user/anaconda3/envs/pytorch_p310/lib/python3.10/site-packages (from gradio==3.35.2->llava==1.1.1->-r requirements.txt (line 2)) (3.8.0)\n",
      "Requirement already satisfied: mdit-py-plugins<=0.3.3 in /home/ec2-user/anaconda3/envs/pytorch_p310/lib/python3.10/site-packages (from gradio==3.35.2->llava==1.1.1->-r requirements.txt (line 2)) (0.3.3)\n",
      "Requirement already satisfied: orjson in /home/ec2-user/anaconda3/envs/pytorch_p310/lib/python3.10/site-packages (from gradio==3.35.2->llava==1.1.1->-r requirements.txt (line 2)) (3.9.12)\n",
      "Requirement already satisfied: pillow in /home/ec2-user/anaconda3/envs/pytorch_p310/lib/python3.10/site-packages (from gradio==3.35.2->llava==1.1.1->-r requirements.txt (line 2)) (10.1.0)\n",
      "Requirement already satisfied: pydub in /home/ec2-user/anaconda3/envs/pytorch_p310/lib/python3.10/site-packages (from gradio==3.35.2->llava==1.1.1->-r requirements.txt (line 2)) (0.25.1)\n",
      "Requirement already satisfied: pygments>=2.12.0 in /home/ec2-user/anaconda3/envs/pytorch_p310/lib/python3.10/site-packages (from gradio==3.35.2->llava==1.1.1->-r requirements.txt (line 2)) (2.16.1)\n",
      "Requirement already satisfied: python-multipart in /home/ec2-user/anaconda3/envs/pytorch_p310/lib/python3.10/site-packages (from gradio==3.35.2->llava==1.1.1->-r requirements.txt (line 2)) (0.0.6)\n",
      "Requirement already satisfied: semantic-version in /home/ec2-user/anaconda3/envs/pytorch_p310/lib/python3.10/site-packages (from gradio==3.35.2->llava==1.1.1->-r requirements.txt (line 2)) (2.10.0)\n",
      "Requirement already satisfied: websockets>=10.0 in /home/ec2-user/anaconda3/envs/pytorch_p310/lib/python3.10/site-packages (from gradio==3.35.2->llava==1.1.1->-r requirements.txt (line 2)) (12.0)\n",
      "Requirement already satisfied: httpcore<0.18.0,>=0.15.0 in /home/ec2-user/anaconda3/envs/pytorch_p310/lib/python3.10/site-packages (from httpx==0.24.0->llava==1.1.1->-r requirements.txt (line 2)) (0.17.3)\n",
      "Requirement already satisfied: sniffio in /home/ec2-user/anaconda3/envs/pytorch_p310/lib/python3.10/site-packages (from httpx==0.24.0->llava==1.1.1->-r requirements.txt (line 2)) (1.3.0)\n",
      "Requirement already satisfied: safetensors in /home/ec2-user/anaconda3/envs/pytorch_p310/lib/python3.10/site-packages (from peft==0.4.0->llava==1.1.1->-r requirements.txt (line 2)) (0.4.2)\n",
      "Requirement already satisfied: scipy>=1.3.2 in /home/ec2-user/anaconda3/envs/pytorch_p310/lib/python3.10/site-packages (from scikit-learn==1.2.2->llava==1.1.1->-r requirements.txt (line 2)) (1.11.3)\n",
      "Requirement already satisfied: joblib>=1.1.1 in /home/ec2-user/anaconda3/envs/pytorch_p310/lib/python3.10/site-packages (from scikit-learn==1.2.2->llava==1.1.1->-r requirements.txt (line 2)) (1.3.2)\n",
      "Requirement already satisfied: threadpoolctl>=2.0.0 in /home/ec2-user/anaconda3/envs/pytorch_p310/lib/python3.10/site-packages (from scikit-learn==1.2.2->llava==1.1.1->-r requirements.txt (line 2)) (3.2.0)\n",
      "Requirement already satisfied: sympy in /home/ec2-user/anaconda3/envs/pytorch_p310/lib/python3.10/site-packages (from torch==2.0.1->llava==1.1.1->-r requirements.txt (line 2)) (1.12)\n",
      "Requirement already satisfied: networkx in /home/ec2-user/anaconda3/envs/pytorch_p310/lib/python3.10/site-packages (from torch==2.0.1->llava==1.1.1->-r requirements.txt (line 2)) (3.2)\n",
      "Requirement already satisfied: regex!=2019.12.17 in /home/ec2-user/anaconda3/envs/pytorch_p310/lib/python3.10/site-packages (from transformers==4.31.0->llava==1.1.1->-r requirements.txt (line 2)) (2023.12.25)\n",
      "Requirement already satisfied: aiosignal>=1.1.2 in /home/ec2-user/anaconda3/envs/pytorch_p310/lib/python3.10/site-packages (from aiohttp<4.0.0,>=3.8.3->langchain==0.0.340->-r requirements.txt (line 7)) (1.3.1)\n",
      "Requirement already satisfied: frozenlist>=1.1.1 in /home/ec2-user/anaconda3/envs/pytorch_p310/lib/python3.10/site-packages (from aiohttp<4.0.0,>=3.8.3->langchain==0.0.340->-r requirements.txt (line 7)) (1.4.1)\n",
      "Requirement already satisfied: multidict<7.0,>=4.5 in /home/ec2-user/anaconda3/envs/pytorch_p310/lib/python3.10/site-packages (from aiohttp<4.0.0,>=3.8.3->langchain==0.0.340->-r requirements.txt (line 7)) (6.0.5)\n",
      "Requirement already satisfied: yarl<2.0,>=1.0 in /home/ec2-user/anaconda3/envs/pytorch_p310/lib/python3.10/site-packages (from aiohttp<4.0.0,>=3.8.3->langchain==0.0.340->-r requirements.txt (line 7)) (1.9.4)\n",
      "Requirement already satisfied: exceptiongroup in /home/ec2-user/anaconda3/envs/pytorch_p310/lib/python3.10/site-packages (from anyio<4.0->langchain==0.0.340->-r requirements.txt (line 7)) (1.1.3)\n",
      "Collecting marshmallow<4.0.0,>=3.18.0 (from dataclasses-json<0.7,>=0.5.7->langchain==0.0.340->-r requirements.txt (line 7))\n",
      "  Using cached marshmallow-3.20.2-py3-none-any.whl.metadata (7.5 kB)\n",
      "Collecting typing-inspect<1,>=0.4.0 (from dataclasses-json<0.7,>=0.5.7->langchain==0.0.340->-r requirements.txt (line 7))\n",
      "  Using cached typing_inspect-0.9.0-py3-none-any.whl.metadata (1.5 kB)\n",
      "Requirement already satisfied: zipp>=0.5 in /home/ec2-user/anaconda3/envs/pytorch_p310/lib/python3.10/site-packages (from importlib-metadata<7.0,>=1.4.0->sagemaker==2.199.0->-r requirements.txt (line 4)) (3.17.0)\n",
      "Requirement already satisfied: jsonpointer>=1.9 in /home/ec2-user/anaconda3/envs/pytorch_p310/lib/python3.10/site-packages (from jsonpatch<2.0,>=1.33->langchain==0.0.340->-r requirements.txt (line 7)) (2.4)\n",
      "Collecting greenlet!=0.4.17 (from SQLAlchemy<3,>=1.4->langchain==0.0.340->-r requirements.txt (line 7))\n",
      "  Downloading greenlet-3.0.3-cp310-cp310-manylinux_2_24_x86_64.manylinux_2_28_x86_64.whl.metadata (3.8 kB)\n",
      "Requirement already satisfied: websocket-client>=0.32.0 in /home/ec2-user/anaconda3/envs/pytorch_p310/lib/python3.10/site-packages (from docker->sagemaker==2.199.0->-r requirements.txt (line 4)) (1.6.4)\n",
      "Requirement already satisfied: jsonschema-specifications>=2023.03.6 in /home/ec2-user/anaconda3/envs/pytorch_p310/lib/python3.10/site-packages (from jsonschema->sagemaker==2.199.0->-r requirements.txt (line 4)) (2023.7.1)\n",
      "Requirement already satisfied: referencing>=0.28.4 in /home/ec2-user/anaconda3/envs/pytorch_p310/lib/python3.10/site-packages (from jsonschema->sagemaker==2.199.0->-r requirements.txt (line 4)) (0.30.2)\n",
      "Requirement already satisfied: rpds-py>=0.7.1 in /home/ec2-user/anaconda3/envs/pytorch_p310/lib/python3.10/site-packages (from jsonschema->sagemaker==2.199.0->-r requirements.txt (line 4)) (0.10.6)\n",
      "Requirement already satisfied: wavedrom in /home/ec2-user/anaconda3/envs/pytorch_p310/lib/python3.10/site-packages (from markdown2[all]->llava==1.1.1->-r requirements.txt (line 2)) (2.0.3.post3)\n",
      "Requirement already satisfied: ppft>=1.7.6.7 in /home/ec2-user/anaconda3/envs/pytorch_p310/lib/python3.10/site-packages (from pathos->sagemaker==2.199.0->-r requirements.txt (line 4)) (1.7.6.7)\n",
      "Requirement already satisfied: dill>=0.3.7 in /home/ec2-user/anaconda3/envs/pytorch_p310/lib/python3.10/site-packages (from pathos->sagemaker==2.199.0->-r requirements.txt (line 4)) (0.3.7)\n",
      "Requirement already satisfied: pox>=0.3.3 in /home/ec2-user/anaconda3/envs/pytorch_p310/lib/python3.10/site-packages (from pathos->sagemaker==2.199.0->-r requirements.txt (line 4)) (0.3.3)\n",
      "Requirement already satisfied: multiprocess>=0.70.15 in /home/ec2-user/anaconda3/envs/pytorch_p310/lib/python3.10/site-packages (from pathos->sagemaker==2.199.0->-r requirements.txt (line 4)) (0.70.15)\n",
      "Requirement already satisfied: contextlib2>=0.5.5 in /home/ec2-user/anaconda3/envs/pytorch_p310/lib/python3.10/site-packages (from schema->sagemaker==2.199.0->-r requirements.txt (line 4)) (21.6.0)\n",
      "Requirement already satisfied: GitPython!=3.1.29,>=1.0.0 in /home/ec2-user/anaconda3/envs/pytorch_p310/lib/python3.10/site-packages (from wandb->llava==1.1.1->-r requirements.txt (line 2)) (3.1.41)\n",
      "Requirement already satisfied: sentry-sdk>=1.0.0 in /home/ec2-user/anaconda3/envs/pytorch_p310/lib/python3.10/site-packages (from wandb->llava==1.1.1->-r requirements.txt (line 2)) (1.40.0)\n",
      "Requirement already satisfied: docker-pycreds>=0.4.0 in /home/ec2-user/anaconda3/envs/pytorch_p310/lib/python3.10/site-packages (from wandb->llava==1.1.1->-r requirements.txt (line 2)) (0.4.0)\n",
      "Requirement already satisfied: setproctitle in /home/ec2-user/anaconda3/envs/pytorch_p310/lib/python3.10/site-packages (from wandb->llava==1.1.1->-r requirements.txt (line 2)) (1.3.3)\n",
      "Requirement already satisfied: setuptools in /home/ec2-user/anaconda3/envs/pytorch_p310/lib/python3.10/site-packages (from wandb->llava==1.1.1->-r requirements.txt (line 2)) (68.2.2)\n",
      "Requirement already satisfied: appdirs>=1.4.3 in /home/ec2-user/anaconda3/envs/pytorch_p310/lib/python3.10/site-packages (from wandb->llava==1.1.1->-r requirements.txt (line 2)) (1.4.4)\n",
      "Requirement already satisfied: toolz in /home/ec2-user/anaconda3/envs/pytorch_p310/lib/python3.10/site-packages (from altair>=4.2.0->gradio==3.35.2->llava==1.1.1->-r requirements.txt (line 2)) (0.12.1)\n",
      "Requirement already satisfied: gitdb<5,>=4.0.1 in /home/ec2-user/anaconda3/envs/pytorch_p310/lib/python3.10/site-packages (from GitPython!=3.1.29,>=1.0.0->wandb->llava==1.1.1->-r requirements.txt (line 2)) (4.0.11)\n",
      "Requirement already satisfied: mdurl~=0.1 in /home/ec2-user/anaconda3/envs/pytorch_p310/lib/python3.10/site-packages (from markdown-it-py>=2.0.0->markdown-it-py[linkify]>=2.0.0->gradio==3.35.2->llava==1.1.1->-r requirements.txt (line 2)) (0.1.2)\n",
      "Requirement already satisfied: linkify-it-py<3,>=1 in /home/ec2-user/anaconda3/envs/pytorch_p310/lib/python3.10/site-packages (from markdown-it-py[linkify]>=2.0.0->gradio==3.35.2->llava==1.1.1->-r requirements.txt (line 2)) (2.0.2)\n",
      "Collecting mypy-extensions>=0.3.0 (from typing-inspect<1,>=0.4.0->dataclasses-json<0.7,>=0.5.7->langchain==0.0.340->-r requirements.txt (line 7))\n",
      "  Downloading mypy_extensions-1.0.0-py3-none-any.whl (4.7 kB)\n",
      "Requirement already satisfied: contourpy>=1.0.1 in /home/ec2-user/anaconda3/envs/pytorch_p310/lib/python3.10/site-packages (from matplotlib->gradio==3.35.2->llava==1.1.1->-r requirements.txt (line 2)) (1.1.1)\n",
      "Requirement already satisfied: cycler>=0.10 in /home/ec2-user/anaconda3/envs/pytorch_p310/lib/python3.10/site-packages (from matplotlib->gradio==3.35.2->llava==1.1.1->-r requirements.txt (line 2)) (0.12.1)\n",
      "Requirement already satisfied: fonttools>=4.22.0 in /home/ec2-user/anaconda3/envs/pytorch_p310/lib/python3.10/site-packages (from matplotlib->gradio==3.35.2->llava==1.1.1->-r requirements.txt (line 2)) (4.43.1)\n",
      "Requirement already satisfied: kiwisolver>=1.0.1 in /home/ec2-user/anaconda3/envs/pytorch_p310/lib/python3.10/site-packages (from matplotlib->gradio==3.35.2->llava==1.1.1->-r requirements.txt (line 2)) (1.4.5)\n",
      "Requirement already satisfied: mpmath>=0.19 in /home/ec2-user/anaconda3/envs/pytorch_p310/lib/python3.10/site-packages (from sympy->torch==2.0.1->llava==1.1.1->-r requirements.txt (line 2)) (1.3.0)\n",
      "Requirement already satisfied: svgwrite in /home/ec2-user/anaconda3/envs/pytorch_p310/lib/python3.10/site-packages (from wavedrom->markdown2[all]->llava==1.1.1->-r requirements.txt (line 2)) (1.4.3)\n",
      "Requirement already satisfied: smmap<6,>=3.0.1 in /home/ec2-user/anaconda3/envs/pytorch_p310/lib/python3.10/site-packages (from gitdb<5,>=4.0.1->GitPython!=3.1.29,>=1.0.0->wandb->llava==1.1.1->-r requirements.txt (line 2)) (5.0.1)\n",
      "Requirement already satisfied: uc-micro-py in /home/ec2-user/anaconda3/envs/pytorch_p310/lib/python3.10/site-packages (from linkify-it-py<3,>=1->markdown-it-py[linkify]>=2.0.0->gradio==3.35.2->llava==1.1.1->-r requirements.txt (line 2)) (1.0.2)\n",
      "Using cached boto3-1.34.0-py3-none-any.whl (139 kB)\n",
      "Using cached huggingface_hub-0.19.4-py3-none-any.whl (311 kB)\n",
      "Using cached pypdfium2-4.24.0-py3-none-manylinux_2_17_x86_64.whl (3.0 MB)\n",
      "Using cached langchain-0.0.340-py3-none-any.whl (2.0 MB)\n",
      "Using cached botocore-1.34.0-py3-none-any.whl (11.8 MB)\n",
      "Using cached opensearch_py-2.4.2-py2.py3-none-any.whl (258 kB)\n",
      "Using cached fastapi-0.95.2-py3-none-any.whl (56 kB)\n",
      "Using cached packaging-23.2-py3-none-any.whl (53 kB)\n",
      "Using cached anyio-3.7.1-py3-none-any.whl (80 kB)\n",
      "Using cached dataclasses_json-0.6.4-py3-none-any.whl (28 kB)\n",
      "Using cached jsonpatch-1.33-py2.py3-none-any.whl (12 kB)\n",
      "Downloading langsmith-0.0.87-py3-none-any.whl (55 kB)\n",
      "\u001b[2K   \u001b[90m━━━━━━━━━━━━━━━━━━━━━━━━━━━━━━━━━━━━━━━━\u001b[0m \u001b[32m55.4/55.4 kB\u001b[0m \u001b[31m8.1 MB/s\u001b[0m eta \u001b[36m0:00:00\u001b[0m\n",
      "\u001b[?25hUsing cached s3transfer-0.9.0-py3-none-any.whl (82 kB)\n",
      "Downloading SQLAlchemy-2.0.25-cp310-cp310-manylinux_2_17_x86_64.manylinux2014_x86_64.whl (3.1 MB)\n",
      "\u001b[2K   \u001b[90m━━━━━━━━━━━━━━━━━━━━━━━━━━━━━━━━━━━━━━━━\u001b[0m \u001b[32m3.1/3.1 MB\u001b[0m \u001b[31m95.3 MB/s\u001b[0m eta \u001b[36m0:00:00\u001b[0m\n",
      "\u001b[?25hDownloading greenlet-3.0.3-cp310-cp310-manylinux_2_24_x86_64.manylinux_2_28_x86_64.whl (616 kB)\n",
      "\u001b[2K   \u001b[90m━━━━━━━━━━━━━━━━━━━━━━━━━━━━━━━━━━━━━━━━\u001b[0m \u001b[32m616.0/616.0 kB\u001b[0m \u001b[31m61.3 MB/s\u001b[0m eta \u001b[36m0:00:00\u001b[0m\n",
      "\u001b[?25hUsing cached marshmallow-3.20.2-py3-none-any.whl (49 kB)\n",
      "Using cached starlette-0.27.0-py3-none-any.whl (66 kB)\n",
      "Using cached typing_inspect-0.9.0-py3-none-any.whl (8.8 kB)\n",
      "Installing collected packages: uvicorn, pypdfium2, pyparsing, packaging, numexpr, mypy-extensions, jsonpatch, greenlet, anyio, typing-inspect, starlette, SQLAlchemy, opensearch-py, marshmallow, langsmith, huggingface-hub, httplib2, botocore, s3transfer, fastapi, dataclasses-json, langchain, boto3, sagemaker\n",
      "  Attempting uninstall: uvicorn\n",
      "    Found existing installation: uvicorn 0.27.0.post1\n",
      "    Uninstalling uvicorn-0.27.0.post1:\n",
      "      Successfully uninstalled uvicorn-0.27.0.post1\n",
      "  Attempting uninstall: pyparsing\n",
      "    Found existing installation: pyparsing 3.1.1\n",
      "    Uninstalling pyparsing-3.1.1:\n",
      "      Successfully uninstalled pyparsing-3.1.1\n",
      "  Attempting uninstall: packaging\n",
      "    Found existing installation: packaging 21.3\n",
      "    Uninstalling packaging-21.3:\n",
      "      Successfully uninstalled packaging-21.3\n",
      "  Attempting uninstall: anyio\n",
      "    Found existing installation: anyio 4.0.0\n",
      "    Uninstalling anyio-4.0.0:\n",
      "      Successfully uninstalled anyio-4.0.0\n",
      "  Attempting uninstall: starlette\n",
      "    Found existing installation: starlette 0.35.1\n",
      "    Uninstalling starlette-0.35.1:\n",
      "      Successfully uninstalled starlette-0.35.1\n",
      "  Attempting uninstall: huggingface-hub\n",
      "    Found existing installation: huggingface-hub 0.20.3\n",
      "    Uninstalling huggingface-hub-0.20.3:\n",
      "      Successfully uninstalled huggingface-hub-0.20.3\n",
      "  Attempting uninstall: botocore\n",
      "    Found existing installation: botocore 1.34.32\n",
      "    Uninstalling botocore-1.34.32:\n",
      "      Successfully uninstalled botocore-1.34.32\n",
      "  Attempting uninstall: s3transfer\n",
      "    Found existing installation: s3transfer 0.10.0\n",
      "    Uninstalling s3transfer-0.10.0:\n",
      "      Successfully uninstalled s3transfer-0.10.0\n",
      "  Attempting uninstall: fastapi\n",
      "    Found existing installation: fastapi 0.109.0\n",
      "    Uninstalling fastapi-0.109.0:\n",
      "      Successfully uninstalled fastapi-0.109.0\n",
      "  Attempting uninstall: boto3\n",
      "    Found existing installation: boto3 1.34.32\n",
      "    Uninstalling boto3-1.34.32:\n",
      "      Successfully uninstalled boto3-1.34.32\n",
      "  Attempting uninstall: sagemaker\n",
      "    Found existing installation: sagemaker 2.206.0\n",
      "    Uninstalling sagemaker-2.206.0:\n",
      "      Successfully uninstalled sagemaker-2.206.0\n",
      "\u001b[31mERROR: pip's dependency resolver does not currently take into account all the packages that are installed. This behaviour is the source of the following dependency conflicts.\n",
      "awscli 1.32.32 requires botocore==1.34.32, but you have botocore 1.34.0 which is incompatible.\n",
      "awscli 1.32.32 requires s3transfer<0.11.0,>=0.10.0, but you have s3transfer 0.9.0 which is incompatible.\u001b[0m\u001b[31m\n",
      "\u001b[0mSuccessfully installed SQLAlchemy-2.0.25 anyio-3.7.1 boto3-1.34.0 botocore-1.34.0 dataclasses-json-0.6.4 fastapi-0.95.2 greenlet-3.0.3 httplib2-0.19.0 huggingface-hub-0.19.4 jsonpatch-1.33 langchain-0.0.340 langsmith-0.0.87 marshmallow-3.20.2 mypy-extensions-1.0.0 numexpr-2.8.0 opensearch-py-2.4.2 packaging-23.2 pyparsing-2.4.7 pypdfium2-4.24.0 s3transfer-0.9.0 sagemaker-2.199.0 starlette-0.27.0 typing-inspect-0.9.0 uvicorn-0.22.0\n"
     ]
    }
   ],
   "source": [
    "import sys\n",
    "!{sys.executable} -m pip install -r requirements.txt"
   ]
  },
  {
   "cell_type": "code",
   "execution_count": 16,
   "id": "5fd89e24-f256-4e1f-96be-b798b10b0574",
   "metadata": {
    "tags": []
   },
   "outputs": [],
   "source": [
    "import os\n",
    "import time\n",
    "import boto3\n",
    "import sagemaker\n",
    "import globals as g\n",
    "from pathlib import Path\n",
    "from sagemaker import image_uris\n",
    "from utils import get_bucket_name\n",
    "from sagemaker.s3 import S3Uploader\n",
    "from sagemaker.utils import name_from_base\n",
    "from huggingface_hub import snapshot_download"
   ]
  },
  {
   "cell_type": "code",
   "execution_count": 17,
   "id": "c8400d86-7742-43c4-8868-eb9193769a55",
   "metadata": {
    "tags": []
   },
   "outputs": [
    {
     "name": "stdout",
     "output_type": "stream",
     "text": [
      "\u001b[33m\"\"\"\u001b[39;49;00m\n",
      "\u001b[33mGlobal variables used throughout the code.\u001b[39;49;00m\n",
      "\u001b[33m\"\"\"\u001b[39;49;00m\u001b[37m\u001b[39;49;00m\n",
      "\u001b[34mimport\u001b[39;49;00m \u001b[04m\u001b[36mos\u001b[39;49;00m\u001b[37m\u001b[39;49;00m\n",
      "\u001b[34mimport\u001b[39;49;00m \u001b[04m\u001b[36mboto3\u001b[39;49;00m\u001b[37m\u001b[39;49;00m\n",
      "\u001b[34mimport\u001b[39;49;00m \u001b[04m\u001b[36msagemaker\u001b[39;49;00m\u001b[37m\u001b[39;49;00m\n",
      "\u001b[37m\u001b[39;49;00m\n",
      "\u001b[37m# model deployment\u001b[39;49;00m\u001b[37m\u001b[39;49;00m\n",
      "HF_MODEL_ID: \u001b[36mstr\u001b[39;49;00m = \u001b[33m\"\u001b[39;49;00m\u001b[33mliuhaotian/llava-v1.5-13b\u001b[39;49;00m\u001b[33m\"\u001b[39;49;00m\u001b[37m\u001b[39;49;00m\n",
      "LLM_ENGINE: \u001b[36mstr\u001b[39;49;00m = \u001b[33m\"\u001b[39;49;00m\u001b[33mdeepspeed\u001b[39;49;00m\u001b[33m\"\u001b[39;49;00m\u001b[37m\u001b[39;49;00m\n",
      "\u001b[37m\u001b[39;49;00m\n",
      "\u001b[37m# HF_TASK: str = \"question-answering\"\u001b[39;49;00m\u001b[37m\u001b[39;49;00m\n",
      "\u001b[37m# TRANSFORMERS_VERSION: str = \"4.28.1\"\u001b[39;49;00m\u001b[37m\u001b[39;49;00m\n",
      "\u001b[37m# PYTORCH_VERSION: str = \"2.0.0\"\u001b[39;49;00m\u001b[37m\u001b[39;49;00m\n",
      "\u001b[37m# PYTHON_VERSION: str = \"py310\"\u001b[39;49;00m\u001b[37m\u001b[39;49;00m\n",
      "\u001b[37m\u001b[39;49;00m\n",
      "\u001b[37m# S3 bucket strucutre, we use the default sagemaker bucket in the current region\u001b[39;49;00m\u001b[37m\u001b[39;49;00m\n",
      "\u001b[37m# BUCKET_NAME: str = sagemaker.Session().default_bucket()\u001b[39;49;00m\u001b[37m\u001b[39;49;00m\n",
      "BUCKET_PREFIX: \u001b[36mstr\u001b[39;49;00m = \u001b[33m\"\u001b[39;49;00m\u001b[33mmultimodal\u001b[39;49;00m\u001b[33m\"\u001b[39;49;00m\u001b[37m\u001b[39;49;00m\n",
      "BUCKET_EMB_PREFIX: \u001b[36mstr\u001b[39;49;00m = \u001b[33mf\u001b[39;49;00m\u001b[33m\"\u001b[39;49;00m\u001b[33m{\u001b[39;49;00mBUCKET_PREFIX\u001b[33m}\u001b[39;49;00m\u001b[33m/osi-embeddings-json\u001b[39;49;00m\u001b[33m\"\u001b[39;49;00m\u001b[37m\u001b[39;49;00m\n",
      "BUCKET_IMG_PREFIX: \u001b[36mstr\u001b[39;49;00m = \u001b[33mf\u001b[39;49;00m\u001b[33m\"\u001b[39;49;00m\u001b[33m{\u001b[39;49;00mBUCKET_PREFIX\u001b[33m}\u001b[39;49;00m\u001b[33m/img\u001b[39;49;00m\u001b[33m\"\u001b[39;49;00m\u001b[37m\u001b[39;49;00m\n",
      "LLAVA_PROMPT_PREFIX: \u001b[36mstr\u001b[39;49;00m = \u001b[33m'\u001b[39;49;00m\u001b[33mmultimodal/llavaPrompt/\u001b[39;49;00m\u001b[33m'\u001b[39;49;00m\u001b[37m\u001b[39;49;00m\n",
      "\u001b[37m\u001b[39;49;00m\n",
      "S3_MODEL_CODE_PREFIX: \u001b[36mstr\u001b[39;49;00m = \u001b[33m\"\u001b[39;49;00m\u001b[33mcode\u001b[39;49;00m\u001b[33m\"\u001b[39;49;00m\u001b[37m\u001b[39;49;00m\n",
      "S3_MODEL_PREFIX: \u001b[36mstr\u001b[39;49;00m = \u001b[33m\"\u001b[39;49;00m\u001b[33mmodel\u001b[39;49;00m\u001b[33m\"\u001b[39;49;00m\u001b[37m\u001b[39;49;00m\n",
      "\u001b[37m\u001b[39;49;00m\n",
      "\u001b[37m# Amazon Titan multimodal model\u001b[39;49;00m\u001b[37m\u001b[39;49;00m\n",
      "AWS_REGION: \u001b[36mstr\u001b[39;49;00m = boto3.Session().region_name\u001b[37m\u001b[39;49;00m\n",
      "FMC_URL: \u001b[36mstr\u001b[39;49;00m = \u001b[33mf\u001b[39;49;00m\u001b[33m\"\u001b[39;49;00m\u001b[33mhttps://bedrock-runtime.\u001b[39;49;00m\u001b[33m{\u001b[39;49;00mAWS_REGION\u001b[33m}\u001b[39;49;00m\u001b[33m.amazonaws.com\u001b[39;49;00m\u001b[33m\"\u001b[39;49;00m\u001b[37m\u001b[39;49;00m\n",
      "FMC_MODEL_ID: \u001b[36mstr\u001b[39;49;00m = \u001b[33m\"\u001b[39;49;00m\u001b[33mamazon.titan-embed-image-v1\u001b[39;49;00m\u001b[33m\"\u001b[39;49;00m\u001b[37m\u001b[39;49;00m\n",
      "ACCEPT_ENCODING: \u001b[36mstr\u001b[39;49;00m = \u001b[33m\"\u001b[39;49;00m\u001b[33mapplication/json\u001b[39;49;00m\u001b[33m\"\u001b[39;49;00m\u001b[37m\u001b[39;49;00m\n",
      "CONTENT_ENCODING: \u001b[36mstr\u001b[39;49;00m = \u001b[33m\"\u001b[39;49;00m\u001b[33mapplication/json\u001b[39;49;00m\u001b[33m\"\u001b[39;49;00m\u001b[37m\u001b[39;49;00m\n",
      "\u001b[37m\u001b[39;49;00m\n",
      "\u001b[37m# model.tar.gz path in S3\u001b[39;49;00m\u001b[37m\u001b[39;49;00m\n",
      "\u001b[37m# S3_MODEL_URI: str = os.path.join(\"s3://\", BUCKET_NAME, BUCKET_PREFIX, os.path.basename(HF_MODEL_ID))\u001b[39;49;00m\u001b[37m\u001b[39;49;00m\n",
      "\u001b[37m\u001b[39;49;00m\n",
      "\u001b[37m# Amazon OpenSearch Service Serverless\u001b[39;49;00m\u001b[37m\u001b[39;49;00m\n",
      "OS_SERVICE: \u001b[36mstr\u001b[39;49;00m = \u001b[33m\"\u001b[39;49;00m\u001b[33maoss\u001b[39;49;00m\u001b[33m\"\u001b[39;49;00m\u001b[37m\u001b[39;49;00m\n",
      "\u001b[37m\u001b[39;49;00m\n",
      "\u001b[37m# local files and folder structure\u001b[39;49;00m\u001b[37m\u001b[39;49;00m\n",
      "IMAGE_DIR: \u001b[36mstr\u001b[39;49;00m = \u001b[33m\"\u001b[39;49;00m\u001b[33mimg\u001b[39;49;00m\u001b[33m\"\u001b[39;49;00m\u001b[37m\u001b[39;49;00m\n",
      "IMAGE_FILE_EXTN: \u001b[36mstr\u001b[39;49;00m = \u001b[33m\"\u001b[39;49;00m\u001b[33m.jpg\u001b[39;49;00m\u001b[33m\"\u001b[39;49;00m\u001b[37m\u001b[39;49;00m\n",
      "B64_ENCODED_IMAGES_DIR: \u001b[36mstr\u001b[39;49;00m = os.path.join(IMAGE_DIR, \u001b[33m\"\u001b[39;49;00m\u001b[33mb64_images\u001b[39;49;00m\u001b[33m\"\u001b[39;49;00m)\u001b[37m\u001b[39;49;00m\n",
      "ENDPOINT_FILENAME: \u001b[36mstr\u001b[39;49;00m = \u001b[33m\"\u001b[39;49;00m\u001b[33mendpoint.txt\u001b[39;49;00m\u001b[33m\"\u001b[39;49;00m\u001b[37m\u001b[39;49;00m\n",
      "\u001b[37m\u001b[39;49;00m\n",
      "\u001b[37m# this is the slide deck to which we will be talking to. Replace with your slide deck's URL to analyze a different deck\u001b[39;49;00m\u001b[37m\u001b[39;49;00m\n",
      "SLIDE_DECK: \u001b[36mstr\u001b[39;49;00m = \u001b[33m\"\u001b[39;49;00m\u001b[33mhttps://d1.awsstatic.com/events/Summits/torsummit2023/CMP301_TrainDeploy_E1_20230607_SPEdited.pdf\u001b[39;49;00m\u001b[33m\"\u001b[39;49;00m\u001b[37m\u001b[39;49;00m\n",
      "\u001b[37m\u001b[39;49;00m\n",
      "\u001b[37m# AWS CloudFormation stack that created the resources for this blog post including this notebook\u001b[39;49;00m\u001b[37m\u001b[39;49;00m\n",
      "\u001b[37m# if a different name is used while creating the CloudFormation stack then change this to match the name you used\u001b[39;49;00m\u001b[37m\u001b[39;49;00m\n",
      "CFN_STACK_NAME: \u001b[36mstr\u001b[39;49;00m = \u001b[33m\"\u001b[39;49;00m\u001b[33mmultimodal-stack\u001b[39;49;00m\u001b[33m\"\u001b[39;49;00m\u001b[37m\u001b[39;49;00m\n",
      "\u001b[37m\u001b[39;49;00m\n",
      "GENERIC_PROMPT = \u001b[33m\"\u001b[39;49;00m\u001b[33mDescribe image and the table with variables chart in the image. Identify the rows and features or criteria (columns) including their names, data or ratings, or any numbers that are present. Explain what these numbers might signify. Give me any additional information or descriptions, outside the chart. Conclude with a cost or value comparison of the products based on the chart data. Your response should be extremely detailed and data oriented. Only give the data/numbers that are clearly visible in the image and DO NOT mention anything if it is not in the image or if it is blurry. Be completely accurate\u001b[39;49;00m\u001b[33m\"\u001b[39;49;00m\u001b[37m\u001b[39;49;00m\n"
     ]
    }
   ],
   "source": [
    "# global constants\n",
    "!pygmentize globals.py"
   ]
  },
  {
   "cell_type": "code",
   "execution_count": 18,
   "id": "89ad18ac-0a61-4009-8e52-d2449ac07c92",
   "metadata": {
    "tags": []
   },
   "outputs": [],
   "source": [
    "sagemaker_session = sagemaker.Session()\n",
    "role = sagemaker.get_execution_role()\n",
    "sm_client = sagemaker_session.sagemaker_client\n",
    "s3_client = boto3.client('s3')\n"
   ]
  },
  {
   "cell_type": "code",
   "execution_count": 19,
   "id": "79f41a3d-745c-41d0-b7ad-690f5e3673de",
   "metadata": {
    "tags": []
   },
   "outputs": [],
   "source": [
    "bucket_name: str = get_bucket_name(g.CFN_STACK_NAME)\n",
    "s3_model_uri: str = os.path.join(\"s3://\", bucket_name, g.BUCKET_PREFIX, os.path.basename(g.HF_MODEL_ID), g.S3_MODEL_PREFIX)\n",
    "s3_model_code_uri: str = os.path.join(\"s3://\", bucket_name, g.BUCKET_PREFIX, os.path.basename(g.HF_MODEL_ID), g.S3_MODEL_CODE_PREFIX, \"llava-src.tar.gz\")"
   ]
  },
  {
   "cell_type": "code",
   "execution_count": 20,
   "id": "3cfe0398-6840-4811-84dc-53b0c126c93f",
   "metadata": {
    "tags": []
   },
   "outputs": [
    {
     "data": {
      "application/vnd.jupyter.widget-view+json": {
       "model_id": "f0b0f387de834b4a8dccc596df0c0c22",
       "version_major": 2,
       "version_minor": 0
      },
      "text/plain": [
       "Fetching 10 files:   0%|          | 0/10 [00:00<?, ?it/s]"
      ]
     },
     "metadata": {},
     "output_type": "display_data"
    }
   ],
   "source": [
    "local_model_path: str = os.path.join(os.path.dirname(os.getcwd()), os.path.basename(g.HF_MODEL_ID))\n",
    "Path(local_model_path).mkdir(exist_ok=True)\n",
    "allow_patterns = [\"*.json\", \"*.pt\", \"*.bin\", \"*.txt\", \"*.model\"]\n",
    "\n",
    "model_download_path = snapshot_download(\n",
    "    repo_id=g.HF_MODEL_ID,\n",
    "    cache_dir=local_model_path,\n",
    "    allow_patterns=allow_patterns,\n",
    ")"
   ]
  },
  {
   "cell_type": "code",
   "execution_count": 21,
   "id": "f33a6ad1-b48d-45f0-9e1f-2e850f269e21",
   "metadata": {
    "tags": []
   },
   "outputs": [
    {
     "name": "stdout",
     "output_type": "stream",
     "text": [
      "CPU times: user 3min 37s, sys: 3min 45s, total: 7min 22s\n",
      "Wall time: 7min 47s\n"
     ]
    },
    {
     "data": {
      "text/plain": [
       "'s3://multimodal-bucket-563851014557/multimodal/llava-v1.5-13b/model'"
      ]
     },
     "execution_count": 21,
     "metadata": {},
     "output_type": "execute_result"
    }
   ],
   "source": [
    "%%time\n",
    "# upload model to s3\n",
    "S3Uploader.upload(local_path=model_download_path, desired_s3_uri=s3_model_uri)\n"
   ]
  },
  {
   "cell_type": "code",
   "execution_count": 22,
   "id": "f03cf32c-39d2-4e1e-8733-4e25728400c9",
   "metadata": {
    "tags": []
   },
   "outputs": [
    {
     "name": "stdout",
     "output_type": "stream",
     "text": [
      "tar: Removing leading `../' from member names\n",
      "../llava-src/\n",
      "../llava-src/model.py\n",
      "../llava-src/requirements.txt\n",
      "../llava-src/serving.properties\n",
      "../llava-src/run_llava_local.py\n",
      "upload: ./llava-src.tar.gz to s3://multimodal-bucket-563851014557/multimodal/llava-v1.5-13b/code/llava-src.tar.gz\n"
     ]
    }
   ],
   "source": [
    "!rm llava-src.tar.gz\n",
    "!tar zcvf llava-src.tar.gz ../llava-src --exclude \".ipynb_checkpoints\" --exclude \"__pycache__\"\n",
    "!aws s3 cp llava-src.tar.gz {s3_model_code_uri}"
   ]
  },
  {
   "cell_type": "code",
   "execution_count": 23,
   "id": "84c521db-f722-434b-9b32-5fc3cb25cb9e",
   "metadata": {
    "tags": []
   },
   "outputs": [
    {
     "name": "stdout",
     "output_type": "stream",
     "text": [
      "Inference container uri: 763104351884.dkr.ecr.us-east-1.amazonaws.com/djl-inference:0.23.0-deepspeed0.9.5-cu118\n"
     ]
    }
   ],
   "source": [
    "framework_name = f\"djl-{g.LLM_ENGINE}\"\n",
    "\n",
    "inference_image_uri = image_uris.retrieve(\n",
    "    framework=framework_name, region=g.AWS_REGION, version=\"0.23.0\"\n",
    ")\n",
    "\n",
    "print(f\"Inference container uri: {inference_image_uri}\")"
   ]
  },
  {
   "cell_type": "markdown",
   "id": "0b5ed609-7249-42d4-97c6-a26060c50c31",
   "metadata": {},
   "source": [
    "### SageMaker endpoint\n",
    "\n",
    "- Realtime Endpoint"
   ]
  },
  {
   "cell_type": "code",
   "execution_count": 24,
   "id": "6053f9d7-abb1-4e4f-8ee8-73b3b19eb061",
   "metadata": {
    "tags": []
   },
   "outputs": [
    {
     "name": "stdout",
     "output_type": "stream",
     "text": [
      "llava-djl-2024-02-08-22-47-21-804\n",
      "Created Model: arn:aws:sagemaker:us-east-1:563851014557:model/llava-djl-2024-02-08-22-47-21-804\n"
     ]
    }
   ],
   "source": [
    "model_name = name_from_base(f\"llava-djl\")\n",
    "print(model_name)\n",
    "\n",
    "create_model_response = sm_client.create_model(\n",
    "    ModelName=model_name,\n",
    "    ExecutionRoleArn=role,\n",
    "    PrimaryContainer={\"Image\": inference_image_uri, \"ModelDataUrl\": s3_model_code_uri},\n",
    ")\n",
    "model_arn = create_model_response[\"ModelArn\"]\n",
    "\n",
    "print(f\"Created Model: {model_arn}\")"
   ]
  },
  {
   "cell_type": "code",
   "execution_count": 25,
   "id": "c6fab949-6700-4f28-a2b3-f49e89d0eb60",
   "metadata": {
    "tags": []
   },
   "outputs": [
    {
     "name": "stdout",
     "output_type": "stream",
     "text": [
      "{'EndpointConfigArn': 'arn:aws:sagemaker:us-east-1:563851014557:endpoint-config/llava-djl-2024-02-08-22-47-21-804-12xl-config', 'ResponseMetadata': {'RequestId': 'b09d0478-2152-4c5d-8842-3e583ac4a03d', 'HTTPStatusCode': 200, 'HTTPHeaders': {'x-amzn-requestid': 'b09d0478-2152-4c5d-8842-3e583ac4a03d', 'content-type': 'application/x-amz-json-1.1', 'content-length': '126', 'date': 'Thu, 08 Feb 2024 22:47:22 GMT'}, 'RetryAttempts': 0}}\n"
     ]
    }
   ],
   "source": [
    "instance_type = \"ml.g5.12xlarge\"\n",
    "\n",
    "endpoint_config_name = f\"{model_name}-12xl-config\"\n",
    "endpoint_name = f\"{model_name}-12xl-endpoint\"\n",
    "\n",
    "endpoint_config_response = sm_client.create_endpoint_config(\n",
    "    EndpointConfigName=endpoint_config_name,\n",
    "    ProductionVariants=[\n",
    "        {\n",
    "            \"VariantName\": \"variant1\",\n",
    "            \"ModelName\": model_name,\n",
    "            \"InstanceType\": instance_type,\n",
    "            \"InitialInstanceCount\": 1,\n",
    "            \"ContainerStartupHealthCheckTimeoutInSeconds\": 600,\n",
    "        },\n",
    "    ]\n",
    ")\n",
    "print(endpoint_config_response)"
   ]
  },
  {
   "cell_type": "code",
   "execution_count": 26,
   "id": "47dbf7c2-1297-4aa6-af1a-b9d1229790a8",
   "metadata": {
    "tags": []
   },
   "outputs": [
    {
     "name": "stdout",
     "output_type": "stream",
     "text": [
      "Created Endpoint: arn:aws:sagemaker:us-east-1:563851014557:endpoint/llava-djl-2024-02-08-22-47-21-804-12xl-endpoint\n"
     ]
    }
   ],
   "source": [
    "create_endpoint_response = sm_client.create_endpoint(\n",
    "    EndpointName=f\"{endpoint_name}\", EndpointConfigName=endpoint_config_name\n",
    ")\n",
    "print(f\"Created Endpoint: {create_endpoint_response['EndpointArn']}\")"
   ]
  },
  {
   "cell_type": "code",
   "execution_count": 27,
   "id": "6ad94a6d-ca40-41ce-9b91-12f66728768b",
   "metadata": {},
   "outputs": [],
   "source": [
    "_ = Path(g.ENDPOINT_FILENAME).write_text(create_endpoint_response['EndpointArn'].split('/')[1])"
   ]
  },
  {
   "cell_type": "code",
   "execution_count": null,
   "id": "97fbd2c3-3f01-41b9-b91c-b6f62693fa2f",
   "metadata": {},
   "outputs": [],
   "source": []
  }
 ],
 "metadata": {
  "kernelspec": {
   "display_name": "conda_pytorch_p310",
   "language": "python",
   "name": "conda_pytorch_p310"
  },
  "language_info": {
   "codemirror_mode": {
    "name": "ipython",
    "version": 3
   },
   "file_extension": ".py",
   "mimetype": "text/x-python",
   "name": "python",
   "nbconvert_exporter": "python",
   "pygments_lexer": "ipython3",
   "version": "3.10.13"
  }
 },
 "nbformat": 4,
 "nbformat_minor": 5
}
