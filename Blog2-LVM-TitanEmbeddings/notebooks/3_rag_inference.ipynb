{
 "cells": [
  {
   "cell_type": "markdown",
   "metadata": {},
   "source": [
    "# Retrieval Augumented Generation (RAG) inference\n",
    "\n",
    "***This notebook works best with the `conda_python3` on the `ml.t3.large` instance***.\n",
    "\n",
    "---\n",
    "\n",
    "At this point our slide deck data is ingested into Amazon OpenSearch Service Serverless collection. We are now ready to talk to our slide deck using a large multimodal model. We are using the [Anthropic’s Claude 3 Sonnet foundation model](https://aws.amazon.com/about-aws/whats-new/2024/03/anthropics-claude-3-sonnet-model-amazon-bedrock/) for this purpose."
   ]
  },
  {
   "cell_type": "markdown",
   "metadata": {
    "tags": []
   },
   "source": [
    "## Step 1. Setup\n",
    "\n",
    "Install the required Python packages and import the relevant files."
   ]
  },
  {
   "cell_type": "code",
   "execution_count": 40,
   "metadata": {
    "collapsed": true,
    "jupyter": {
     "outputs_hidden": true
    },
    "tags": []
   },
   "outputs": [
    {
     "name": "stdout",
     "output_type": "stream",
     "text": [
      "Collecting git+https://github.com/haotian-liu/LLaVA.git@v1.1.1 (from -r requirements.txt (line 2))\n",
      "  Cloning https://github.com/haotian-liu/LLaVA.git (to revision v1.1.1) to /tmp/pip-req-build-lj64bofx\n",
      "  Running command git clone --filter=blob:none --quiet https://github.com/haotian-liu/LLaVA.git /tmp/pip-req-build-lj64bofx\n",
      "  Running command git checkout -q 1619889c712e347be1cb4f78ec66e7cf414ac1a6\n",
      "  Resolved https://github.com/haotian-liu/LLaVA.git to commit 1619889c712e347be1cb4f78ec66e7cf414ac1a6\n",
      "  Installing build dependencies ... \u001b[?25ldone\n",
      "\u001b[?25h  Getting requirements to build wheel ... \u001b[?25ldone\n",
      "\u001b[?25h  Installing backend dependencies ... \u001b[?25ldone\n",
      "\u001b[?25h  Preparing metadata (pyproject.toml) ... \u001b[?25ldone\n",
      "\u001b[?25hRequirement already satisfied: huggingface-hub==0.19.4 in /home/ec2-user/anaconda3/envs/python3/lib/python3.10/site-packages (from -r requirements.txt (line 3)) (0.19.4)\n",
      "Requirement already satisfied: sagemaker==2.199.0 in /home/ec2-user/anaconda3/envs/python3/lib/python3.10/site-packages (from -r requirements.txt (line 4)) (2.199.0)\n",
      "Requirement already satisfied: pypdfium2==4.24.0 in /home/ec2-user/anaconda3/envs/python3/lib/python3.10/site-packages (from -r requirements.txt (line 5)) (4.24.0)\n",
      "Requirement already satisfied: httplib2==0.19.0 in /home/ec2-user/anaconda3/envs/python3/lib/python3.10/site-packages (from -r requirements.txt (line 6)) (0.19.0)\n",
      "Requirement already satisfied: langchain==0.0.340 in /home/ec2-user/anaconda3/envs/python3/lib/python3.10/site-packages (from -r requirements.txt (line 7)) (0.0.340)\n",
      "Requirement already satisfied: requests==2.31.0 in /home/ec2-user/anaconda3/envs/python3/lib/python3.10/site-packages (from -r requirements.txt (line 8)) (2.31.0)\n",
      "Requirement already satisfied: pandas==1.5.3 in /home/ec2-user/anaconda3/envs/python3/lib/python3.10/site-packages (from -r requirements.txt (line 9)) (1.5.3)\n",
      "Requirement already satisfied: boto3==1.34.0 in /home/ec2-user/anaconda3/envs/python3/lib/python3.10/site-packages (from -r requirements.txt (line 10)) (1.34.0)\n",
      "Requirement already satisfied: botocore==1.34.0 in /home/ec2-user/anaconda3/envs/python3/lib/python3.10/site-packages (from -r requirements.txt (line 11)) (1.34.0)\n",
      "Requirement already satisfied: opensearch-py==2.4.2 in /home/ec2-user/anaconda3/envs/python3/lib/python3.10/site-packages (from -r requirements.txt (line 12)) (2.4.2)\n",
      "Requirement already satisfied: numexpr==2.8.0 in /home/ec2-user/anaconda3/envs/python3/lib/python3.10/site-packages (from -r requirements.txt (line 13)) (2.8.0)\n",
      "Requirement already satisfied: packaging>=22.0 in /home/ec2-user/anaconda3/envs/python3/lib/python3.10/site-packages (from -r requirements.txt (line 14)) (24.0)\n",
      "Requirement already satisfied: docutils in /home/ec2-user/anaconda3/envs/python3/lib/python3.10/site-packages (from -r requirements.txt (line 15)) (0.16)\n",
      "Requirement already satisfied: requests-auth-aws-sigv4 in /home/ec2-user/anaconda3/envs/python3/lib/python3.10/site-packages (from -r requirements.txt (line 17)) (0.7)\n",
      "Requirement already satisfied: filelock in /home/ec2-user/anaconda3/envs/python3/lib/python3.10/site-packages (from huggingface-hub==0.19.4->-r requirements.txt (line 3)) (3.13.1)\n",
      "Requirement already satisfied: fsspec>=2023.5.0 in /home/ec2-user/anaconda3/envs/python3/lib/python3.10/site-packages (from huggingface-hub==0.19.4->-r requirements.txt (line 3)) (2023.12.2)\n",
      "Requirement already satisfied: tqdm>=4.42.1 in /home/ec2-user/anaconda3/envs/python3/lib/python3.10/site-packages (from huggingface-hub==0.19.4->-r requirements.txt (line 3)) (4.66.1)\n",
      "Requirement already satisfied: pyyaml>=5.1 in /home/ec2-user/anaconda3/envs/python3/lib/python3.10/site-packages (from huggingface-hub==0.19.4->-r requirements.txt (line 3)) (6.0.1)\n",
      "Requirement already satisfied: typing-extensions>=3.7.4.3 in /home/ec2-user/anaconda3/envs/python3/lib/python3.10/site-packages (from huggingface-hub==0.19.4->-r requirements.txt (line 3)) (4.9.0)\n",
      "Requirement already satisfied: attrs<24,>=23.1.0 in /home/ec2-user/anaconda3/envs/python3/lib/python3.10/site-packages (from sagemaker==2.199.0->-r requirements.txt (line 4)) (23.2.0)\n",
      "Requirement already satisfied: cloudpickle==2.2.1 in /home/ec2-user/anaconda3/envs/python3/lib/python3.10/site-packages (from sagemaker==2.199.0->-r requirements.txt (line 4)) (2.2.1)\n",
      "Requirement already satisfied: google-pasta in /home/ec2-user/anaconda3/envs/python3/lib/python3.10/site-packages (from sagemaker==2.199.0->-r requirements.txt (line 4)) (0.2.0)\n",
      "Requirement already satisfied: numpy<2.0,>=1.9.0 in /home/ec2-user/anaconda3/envs/python3/lib/python3.10/site-packages (from sagemaker==2.199.0->-r requirements.txt (line 4)) (1.22.4)\n",
      "Requirement already satisfied: protobuf<5.0,>=3.12 in /home/ec2-user/anaconda3/envs/python3/lib/python3.10/site-packages (from sagemaker==2.199.0->-r requirements.txt (line 4)) (4.25.3)\n",
      "Requirement already satisfied: smdebug-rulesconfig==1.0.1 in /home/ec2-user/anaconda3/envs/python3/lib/python3.10/site-packages (from sagemaker==2.199.0->-r requirements.txt (line 4)) (1.0.1)\n",
      "Requirement already satisfied: importlib-metadata<7.0,>=1.4.0 in /home/ec2-user/anaconda3/envs/python3/lib/python3.10/site-packages (from sagemaker==2.199.0->-r requirements.txt (line 4)) (6.11.0)\n",
      "Requirement already satisfied: pathos in /home/ec2-user/anaconda3/envs/python3/lib/python3.10/site-packages (from sagemaker==2.199.0->-r requirements.txt (line 4)) (0.3.2)\n",
      "Requirement already satisfied: schema in /home/ec2-user/anaconda3/envs/python3/lib/python3.10/site-packages (from sagemaker==2.199.0->-r requirements.txt (line 4)) (0.7.5)\n",
      "Requirement already satisfied: jsonschema in /home/ec2-user/anaconda3/envs/python3/lib/python3.10/site-packages (from sagemaker==2.199.0->-r requirements.txt (line 4)) (4.21.1)\n",
      "Requirement already satisfied: platformdirs in /home/ec2-user/anaconda3/envs/python3/lib/python3.10/site-packages (from sagemaker==2.199.0->-r requirements.txt (line 4)) (4.2.0)\n",
      "Requirement already satisfied: tblib==1.7.0 in /home/ec2-user/anaconda3/envs/python3/lib/python3.10/site-packages (from sagemaker==2.199.0->-r requirements.txt (line 4)) (1.7.0)\n",
      "Requirement already satisfied: urllib3<1.27 in /home/ec2-user/anaconda3/envs/python3/lib/python3.10/site-packages (from sagemaker==2.199.0->-r requirements.txt (line 4)) (1.26.18)\n",
      "Requirement already satisfied: uvicorn==0.22.0 in /home/ec2-user/anaconda3/envs/python3/lib/python3.10/site-packages (from sagemaker==2.199.0->-r requirements.txt (line 4)) (0.22.0)\n",
      "Requirement already satisfied: fastapi==0.95.2 in /home/ec2-user/anaconda3/envs/python3/lib/python3.10/site-packages (from sagemaker==2.199.0->-r requirements.txt (line 4)) (0.95.2)\n",
      "Requirement already satisfied: docker in /home/ec2-user/anaconda3/envs/python3/lib/python3.10/site-packages (from sagemaker==2.199.0->-r requirements.txt (line 4)) (6.1.3)\n",
      "Requirement already satisfied: psutil in /home/ec2-user/anaconda3/envs/python3/lib/python3.10/site-packages (from sagemaker==2.199.0->-r requirements.txt (line 4)) (5.9.8)\n",
      "Requirement already satisfied: pyparsing<3,>=2.4.2 in /home/ec2-user/anaconda3/envs/python3/lib/python3.10/site-packages (from httplib2==0.19.0->-r requirements.txt (line 6)) (2.4.7)\n",
      "Requirement already satisfied: SQLAlchemy<3,>=1.4 in /home/ec2-user/anaconda3/envs/python3/lib/python3.10/site-packages (from langchain==0.0.340->-r requirements.txt (line 7)) (2.0.25)\n",
      "Requirement already satisfied: aiohttp<4.0.0,>=3.8.3 in /home/ec2-user/anaconda3/envs/python3/lib/python3.10/site-packages (from langchain==0.0.340->-r requirements.txt (line 7)) (3.9.1)\n",
      "Requirement already satisfied: anyio<4.0 in /home/ec2-user/anaconda3/envs/python3/lib/python3.10/site-packages (from langchain==0.0.340->-r requirements.txt (line 7)) (3.7.1)\n",
      "Requirement already satisfied: async-timeout<5.0.0,>=4.0.0 in /home/ec2-user/anaconda3/envs/python3/lib/python3.10/site-packages (from langchain==0.0.340->-r requirements.txt (line 7)) (4.0.3)\n",
      "Requirement already satisfied: dataclasses-json<0.7,>=0.5.7 in /home/ec2-user/anaconda3/envs/python3/lib/python3.10/site-packages (from langchain==0.0.340->-r requirements.txt (line 7)) (0.6.4)\n",
      "Requirement already satisfied: jsonpatch<2.0,>=1.33 in /home/ec2-user/anaconda3/envs/python3/lib/python3.10/site-packages (from langchain==0.0.340->-r requirements.txt (line 7)) (1.33)\n",
      "Requirement already satisfied: langsmith<0.1.0,>=0.0.63 in /home/ec2-user/anaconda3/envs/python3/lib/python3.10/site-packages (from langchain==0.0.340->-r requirements.txt (line 7)) (0.0.92)\n",
      "Requirement already satisfied: pydantic<3,>=1 in /home/ec2-user/anaconda3/envs/python3/lib/python3.10/site-packages (from langchain==0.0.340->-r requirements.txt (line 7)) (1.10.14)\n",
      "Requirement already satisfied: tenacity<9.0.0,>=8.1.0 in /home/ec2-user/anaconda3/envs/python3/lib/python3.10/site-packages (from langchain==0.0.340->-r requirements.txt (line 7)) (8.2.3)\n",
      "Requirement already satisfied: charset-normalizer<4,>=2 in /home/ec2-user/anaconda3/envs/python3/lib/python3.10/site-packages (from requests==2.31.0->-r requirements.txt (line 8)) (3.3.2)\n",
      "Requirement already satisfied: idna<4,>=2.5 in /home/ec2-user/anaconda3/envs/python3/lib/python3.10/site-packages (from requests==2.31.0->-r requirements.txt (line 8)) (3.6)\n",
      "Requirement already satisfied: certifi>=2017.4.17 in /home/ec2-user/anaconda3/envs/python3/lib/python3.10/site-packages (from requests==2.31.0->-r requirements.txt (line 8)) (2024.2.2)\n",
      "Requirement already satisfied: python-dateutil>=2.8.1 in /home/ec2-user/anaconda3/envs/python3/lib/python3.10/site-packages (from pandas==1.5.3->-r requirements.txt (line 9)) (2.8.2)\n",
      "Requirement already satisfied: pytz>=2020.1 in /home/ec2-user/anaconda3/envs/python3/lib/python3.10/site-packages (from pandas==1.5.3->-r requirements.txt (line 9)) (2023.4)\n",
      "Requirement already satisfied: jmespath<2.0.0,>=0.7.1 in /home/ec2-user/anaconda3/envs/python3/lib/python3.10/site-packages (from boto3==1.34.0->-r requirements.txt (line 10)) (1.0.1)\n",
      "Requirement already satisfied: s3transfer<0.10.0,>=0.9.0 in /home/ec2-user/anaconda3/envs/python3/lib/python3.10/site-packages (from boto3==1.34.0->-r requirements.txt (line 10)) (0.9.0)\n",
      "Requirement already satisfied: six in /home/ec2-user/anaconda3/envs/python3/lib/python3.10/site-packages (from opensearch-py==2.4.2->-r requirements.txt (line 12)) (1.16.0)\n",
      "Requirement already satisfied: starlette<0.28.0,>=0.27.0 in /home/ec2-user/anaconda3/envs/python3/lib/python3.10/site-packages (from fastapi==0.95.2->sagemaker==2.199.0->-r requirements.txt (line 4)) (0.27.0)\n",
      "Requirement already satisfied: click>=7.0 in /home/ec2-user/anaconda3/envs/python3/lib/python3.10/site-packages (from uvicorn==0.22.0->sagemaker==2.199.0->-r requirements.txt (line 4)) (8.1.7)\n",
      "Requirement already satisfied: h11>=0.8 in /home/ec2-user/anaconda3/envs/python3/lib/python3.10/site-packages (from uvicorn==0.22.0->sagemaker==2.199.0->-r requirements.txt (line 4)) (0.14.0)\n",
      "Requirement already satisfied: einops in /home/ec2-user/anaconda3/envs/python3/lib/python3.10/site-packages (from llava==1.1.1->-r requirements.txt (line 2)) (0.6.1)\n",
      "Requirement already satisfied: gradio==3.35.2 in /home/ec2-user/anaconda3/envs/python3/lib/python3.10/site-packages (from llava==1.1.1->-r requirements.txt (line 2)) (3.35.2)\n",
      "Requirement already satisfied: markdown2[all] in /home/ec2-user/anaconda3/envs/python3/lib/python3.10/site-packages (from llava==1.1.1->-r requirements.txt (line 2)) (2.4.13)\n",
      "Requirement already satisfied: sentencepiece in /home/ec2-user/anaconda3/envs/python3/lib/python3.10/site-packages (from llava==1.1.1->-r requirements.txt (line 2)) (0.1.99)\n",
      "Requirement already satisfied: tokenizers>=0.12.1 in /home/ec2-user/anaconda3/envs/python3/lib/python3.10/site-packages (from llava==1.1.1->-r requirements.txt (line 2)) (0.13.3)\n",
      "Requirement already satisfied: torch==2.0.1 in /home/ec2-user/anaconda3/envs/python3/lib/python3.10/site-packages (from llava==1.1.1->-r requirements.txt (line 2)) (2.0.1)\n",
      "Requirement already satisfied: torchvision==0.15.2 in /home/ec2-user/anaconda3/envs/python3/lib/python3.10/site-packages (from llava==1.1.1->-r requirements.txt (line 2)) (0.15.2)\n",
      "Requirement already satisfied: wandb in /home/ec2-user/anaconda3/envs/python3/lib/python3.10/site-packages (from llava==1.1.1->-r requirements.txt (line 2)) (0.16.4)\n",
      "Requirement already satisfied: shortuuid in /home/ec2-user/anaconda3/envs/python3/lib/python3.10/site-packages (from llava==1.1.1->-r requirements.txt (line 2)) (1.0.13)\n",
      "Requirement already satisfied: httpx==0.24.0 in /home/ec2-user/anaconda3/envs/python3/lib/python3.10/site-packages (from llava==1.1.1->-r requirements.txt (line 2)) (0.24.0)\n",
      "Requirement already satisfied: deepspeed==0.9.5 in /home/ec2-user/anaconda3/envs/python3/lib/python3.10/site-packages (from llava==1.1.1->-r requirements.txt (line 2)) (0.9.5)\n",
      "Requirement already satisfied: peft==0.4.0 in /home/ec2-user/anaconda3/envs/python3/lib/python3.10/site-packages (from llava==1.1.1->-r requirements.txt (line 2)) (0.4.0)\n",
      "Requirement already satisfied: transformers==4.31.0 in /home/ec2-user/anaconda3/envs/python3/lib/python3.10/site-packages (from llava==1.1.1->-r requirements.txt (line 2)) (4.31.0)\n",
      "Requirement already satisfied: accelerate==0.21.0 in /home/ec2-user/anaconda3/envs/python3/lib/python3.10/site-packages (from llava==1.1.1->-r requirements.txt (line 2)) (0.21.0)\n",
      "Requirement already satisfied: bitsandbytes==0.41.0 in /home/ec2-user/anaconda3/envs/python3/lib/python3.10/site-packages (from llava==1.1.1->-r requirements.txt (line 2)) (0.41.0)\n",
      "Requirement already satisfied: scikit-learn==1.2.2 in /home/ec2-user/anaconda3/envs/python3/lib/python3.10/site-packages (from llava==1.1.1->-r requirements.txt (line 2)) (1.2.2)\n",
      "Requirement already satisfied: einops-exts==0.0.4 in /home/ec2-user/anaconda3/envs/python3/lib/python3.10/site-packages (from llava==1.1.1->-r requirements.txt (line 2)) (0.0.4)\n",
      "Requirement already satisfied: timm==0.6.13 in /home/ec2-user/anaconda3/envs/python3/lib/python3.10/site-packages (from llava==1.1.1->-r requirements.txt (line 2)) (0.6.13)\n",
      "Requirement already satisfied: gradio-client==0.2.9 in /home/ec2-user/anaconda3/envs/python3/lib/python3.10/site-packages (from llava==1.1.1->-r requirements.txt (line 2)) (0.2.9)\n",
      "Requirement already satisfied: hjson in /home/ec2-user/anaconda3/envs/python3/lib/python3.10/site-packages (from deepspeed==0.9.5->llava==1.1.1->-r requirements.txt (line 2)) (3.1.0)\n",
      "Requirement already satisfied: ninja in /home/ec2-user/anaconda3/envs/python3/lib/python3.10/site-packages (from deepspeed==0.9.5->llava==1.1.1->-r requirements.txt (line 2)) (1.11.1.1)\n",
      "Requirement already satisfied: py-cpuinfo in /home/ec2-user/anaconda3/envs/python3/lib/python3.10/site-packages (from deepspeed==0.9.5->llava==1.1.1->-r requirements.txt (line 2)) (9.0.0)\n",
      "Requirement already satisfied: aiofiles in /home/ec2-user/anaconda3/envs/python3/lib/python3.10/site-packages (from gradio==3.35.2->llava==1.1.1->-r requirements.txt (line 2)) (23.2.1)\n",
      "Requirement already satisfied: altair>=4.2.0 in /home/ec2-user/anaconda3/envs/python3/lib/python3.10/site-packages (from gradio==3.35.2->llava==1.1.1->-r requirements.txt (line 2)) (5.2.0)\n",
      "Requirement already satisfied: ffmpy in /home/ec2-user/anaconda3/envs/python3/lib/python3.10/site-packages (from gradio==3.35.2->llava==1.1.1->-r requirements.txt (line 2)) (0.3.2)\n",
      "Requirement already satisfied: jinja2 in /home/ec2-user/anaconda3/envs/python3/lib/python3.10/site-packages (from gradio==3.35.2->llava==1.1.1->-r requirements.txt (line 2)) (3.1.3)\n",
      "Requirement already satisfied: markdown-it-py>=2.0.0 in /home/ec2-user/anaconda3/envs/python3/lib/python3.10/site-packages (from markdown-it-py[linkify]>=2.0.0->gradio==3.35.2->llava==1.1.1->-r requirements.txt (line 2)) (2.2.0)\n",
      "Requirement already satisfied: markupsafe in /home/ec2-user/anaconda3/envs/python3/lib/python3.10/site-packages (from gradio==3.35.2->llava==1.1.1->-r requirements.txt (line 2)) (2.1.4)\n",
      "Requirement already satisfied: matplotlib in /home/ec2-user/anaconda3/envs/python3/lib/python3.10/site-packages (from gradio==3.35.2->llava==1.1.1->-r requirements.txt (line 2)) (3.8.2)\n",
      "Requirement already satisfied: mdit-py-plugins<=0.3.3 in /home/ec2-user/anaconda3/envs/python3/lib/python3.10/site-packages (from gradio==3.35.2->llava==1.1.1->-r requirements.txt (line 2)) (0.3.3)\n",
      "Requirement already satisfied: orjson in /home/ec2-user/anaconda3/envs/python3/lib/python3.10/site-packages (from gradio==3.35.2->llava==1.1.1->-r requirements.txt (line 2)) (3.9.15)\n",
      "Requirement already satisfied: pillow in /home/ec2-user/anaconda3/envs/python3/lib/python3.10/site-packages (from gradio==3.35.2->llava==1.1.1->-r requirements.txt (line 2)) (10.2.0)\n",
      "Requirement already satisfied: pydub in /home/ec2-user/anaconda3/envs/python3/lib/python3.10/site-packages (from gradio==3.35.2->llava==1.1.1->-r requirements.txt (line 2)) (0.25.1)\n",
      "Requirement already satisfied: pygments>=2.12.0 in /home/ec2-user/anaconda3/envs/python3/lib/python3.10/site-packages (from gradio==3.35.2->llava==1.1.1->-r requirements.txt (line 2)) (2.17.2)\n",
      "Requirement already satisfied: python-multipart in /home/ec2-user/anaconda3/envs/python3/lib/python3.10/site-packages (from gradio==3.35.2->llava==1.1.1->-r requirements.txt (line 2)) (0.0.9)\n",
      "Requirement already satisfied: semantic-version in /home/ec2-user/anaconda3/envs/python3/lib/python3.10/site-packages (from gradio==3.35.2->llava==1.1.1->-r requirements.txt (line 2)) (2.10.0)\n",
      "Requirement already satisfied: websockets>=10.0 in /home/ec2-user/anaconda3/envs/python3/lib/python3.10/site-packages (from gradio==3.35.2->llava==1.1.1->-r requirements.txt (line 2)) (12.0)\n",
      "Requirement already satisfied: httpcore<0.18.0,>=0.15.0 in /home/ec2-user/anaconda3/envs/python3/lib/python3.10/site-packages (from httpx==0.24.0->llava==1.1.1->-r requirements.txt (line 2)) (0.17.3)\n",
      "Requirement already satisfied: sniffio in /home/ec2-user/anaconda3/envs/python3/lib/python3.10/site-packages (from httpx==0.24.0->llava==1.1.1->-r requirements.txt (line 2)) (1.3.0)\n",
      "Requirement already satisfied: safetensors in /home/ec2-user/anaconda3/envs/python3/lib/python3.10/site-packages (from peft==0.4.0->llava==1.1.1->-r requirements.txt (line 2)) (0.4.2)\n",
      "Requirement already satisfied: scipy>=1.3.2 in /home/ec2-user/anaconda3/envs/python3/lib/python3.10/site-packages (from scikit-learn==1.2.2->llava==1.1.1->-r requirements.txt (line 2)) (1.12.0)\n",
      "Requirement already satisfied: joblib>=1.1.1 in /home/ec2-user/anaconda3/envs/python3/lib/python3.10/site-packages (from scikit-learn==1.2.2->llava==1.1.1->-r requirements.txt (line 2)) (1.3.2)\n",
      "Requirement already satisfied: threadpoolctl>=2.0.0 in /home/ec2-user/anaconda3/envs/python3/lib/python3.10/site-packages (from scikit-learn==1.2.2->llava==1.1.1->-r requirements.txt (line 2)) (3.2.0)\n",
      "Requirement already satisfied: sympy in /home/ec2-user/anaconda3/envs/python3/lib/python3.10/site-packages (from torch==2.0.1->llava==1.1.1->-r requirements.txt (line 2)) (1.12)\n",
      "Requirement already satisfied: networkx in /home/ec2-user/anaconda3/envs/python3/lib/python3.10/site-packages (from torch==2.0.1->llava==1.1.1->-r requirements.txt (line 2)) (3.2.1)\n",
      "Requirement already satisfied: nvidia-cuda-nvrtc-cu11==11.7.99 in /home/ec2-user/anaconda3/envs/python3/lib/python3.10/site-packages (from torch==2.0.1->llava==1.1.1->-r requirements.txt (line 2)) (11.7.99)\n",
      "Requirement already satisfied: nvidia-cuda-runtime-cu11==11.7.99 in /home/ec2-user/anaconda3/envs/python3/lib/python3.10/site-packages (from torch==2.0.1->llava==1.1.1->-r requirements.txt (line 2)) (11.7.99)\n",
      "Requirement already satisfied: nvidia-cuda-cupti-cu11==11.7.101 in /home/ec2-user/anaconda3/envs/python3/lib/python3.10/site-packages (from torch==2.0.1->llava==1.1.1->-r requirements.txt (line 2)) (11.7.101)\n",
      "Requirement already satisfied: nvidia-cudnn-cu11==8.5.0.96 in /home/ec2-user/anaconda3/envs/python3/lib/python3.10/site-packages (from torch==2.0.1->llava==1.1.1->-r requirements.txt (line 2)) (8.5.0.96)\n",
      "Requirement already satisfied: nvidia-cublas-cu11==11.10.3.66 in /home/ec2-user/anaconda3/envs/python3/lib/python3.10/site-packages (from torch==2.0.1->llava==1.1.1->-r requirements.txt (line 2)) (11.10.3.66)\n",
      "Requirement already satisfied: nvidia-cufft-cu11==10.9.0.58 in /home/ec2-user/anaconda3/envs/python3/lib/python3.10/site-packages (from torch==2.0.1->llava==1.1.1->-r requirements.txt (line 2)) (10.9.0.58)\n",
      "Requirement already satisfied: nvidia-curand-cu11==10.2.10.91 in /home/ec2-user/anaconda3/envs/python3/lib/python3.10/site-packages (from torch==2.0.1->llava==1.1.1->-r requirements.txt (line 2)) (10.2.10.91)\n",
      "Requirement already satisfied: nvidia-cusolver-cu11==11.4.0.1 in /home/ec2-user/anaconda3/envs/python3/lib/python3.10/site-packages (from torch==2.0.1->llava==1.1.1->-r requirements.txt (line 2)) (11.4.0.1)\n",
      "Requirement already satisfied: nvidia-cusparse-cu11==11.7.4.91 in /home/ec2-user/anaconda3/envs/python3/lib/python3.10/site-packages (from torch==2.0.1->llava==1.1.1->-r requirements.txt (line 2)) (11.7.4.91)\n",
      "Requirement already satisfied: nvidia-nccl-cu11==2.14.3 in /home/ec2-user/anaconda3/envs/python3/lib/python3.10/site-packages (from torch==2.0.1->llava==1.1.1->-r requirements.txt (line 2)) (2.14.3)\n",
      "Requirement already satisfied: nvidia-nvtx-cu11==11.7.91 in /home/ec2-user/anaconda3/envs/python3/lib/python3.10/site-packages (from torch==2.0.1->llava==1.1.1->-r requirements.txt (line 2)) (11.7.91)\n",
      "Requirement already satisfied: triton==2.0.0 in /home/ec2-user/anaconda3/envs/python3/lib/python3.10/site-packages (from torch==2.0.1->llava==1.1.1->-r requirements.txt (line 2)) (2.0.0)\n",
      "Requirement already satisfied: regex!=2019.12.17 in /home/ec2-user/anaconda3/envs/python3/lib/python3.10/site-packages (from transformers==4.31.0->llava==1.1.1->-r requirements.txt (line 2)) (2023.12.25)\n",
      "Requirement already satisfied: setuptools in /home/ec2-user/anaconda3/envs/python3/lib/python3.10/site-packages (from nvidia-cublas-cu11==11.10.3.66->torch==2.0.1->llava==1.1.1->-r requirements.txt (line 2)) (69.0.3)\n",
      "Requirement already satisfied: wheel in /home/ec2-user/anaconda3/envs/python3/lib/python3.10/site-packages (from nvidia-cublas-cu11==11.10.3.66->torch==2.0.1->llava==1.1.1->-r requirements.txt (line 2)) (0.42.0)\n",
      "Requirement already satisfied: cmake in /home/ec2-user/anaconda3/envs/python3/lib/python3.10/site-packages (from triton==2.0.0->torch==2.0.1->llava==1.1.1->-r requirements.txt (line 2)) (3.28.3)\n",
      "Requirement already satisfied: lit in /home/ec2-user/anaconda3/envs/python3/lib/python3.10/site-packages (from triton==2.0.0->torch==2.0.1->llava==1.1.1->-r requirements.txt (line 2)) (18.1.1)\n",
      "Requirement already satisfied: multidict<7.0,>=4.5 in /home/ec2-user/anaconda3/envs/python3/lib/python3.10/site-packages (from aiohttp<4.0.0,>=3.8.3->langchain==0.0.340->-r requirements.txt (line 7)) (6.0.4)\n",
      "Requirement already satisfied: yarl<2.0,>=1.0 in /home/ec2-user/anaconda3/envs/python3/lib/python3.10/site-packages (from aiohttp<4.0.0,>=3.8.3->langchain==0.0.340->-r requirements.txt (line 7)) (1.9.4)\n",
      "Requirement already satisfied: frozenlist>=1.1.1 in /home/ec2-user/anaconda3/envs/python3/lib/python3.10/site-packages (from aiohttp<4.0.0,>=3.8.3->langchain==0.0.340->-r requirements.txt (line 7)) (1.4.1)\n",
      "Requirement already satisfied: aiosignal>=1.1.2 in /home/ec2-user/anaconda3/envs/python3/lib/python3.10/site-packages (from aiohttp<4.0.0,>=3.8.3->langchain==0.0.340->-r requirements.txt (line 7)) (1.3.1)\n",
      "Requirement already satisfied: exceptiongroup in /home/ec2-user/anaconda3/envs/python3/lib/python3.10/site-packages (from anyio<4.0->langchain==0.0.340->-r requirements.txt (line 7)) (1.2.0)\n",
      "Requirement already satisfied: marshmallow<4.0.0,>=3.18.0 in /home/ec2-user/anaconda3/envs/python3/lib/python3.10/site-packages (from dataclasses-json<0.7,>=0.5.7->langchain==0.0.340->-r requirements.txt (line 7)) (3.21.1)\n",
      "Requirement already satisfied: typing-inspect<1,>=0.4.0 in /home/ec2-user/anaconda3/envs/python3/lib/python3.10/site-packages (from dataclasses-json<0.7,>=0.5.7->langchain==0.0.340->-r requirements.txt (line 7)) (0.9.0)\n",
      "Requirement already satisfied: zipp>=0.5 in /home/ec2-user/anaconda3/envs/python3/lib/python3.10/site-packages (from importlib-metadata<7.0,>=1.4.0->sagemaker==2.199.0->-r requirements.txt (line 4)) (3.17.0)\n",
      "Requirement already satisfied: jsonpointer>=1.9 in /home/ec2-user/anaconda3/envs/python3/lib/python3.10/site-packages (from jsonpatch<2.0,>=1.33->langchain==0.0.340->-r requirements.txt (line 7)) (2.4)\n",
      "Requirement already satisfied: greenlet!=0.4.17 in /home/ec2-user/anaconda3/envs/python3/lib/python3.10/site-packages (from SQLAlchemy<3,>=1.4->langchain==0.0.340->-r requirements.txt (line 7)) (3.0.3)\n",
      "Requirement already satisfied: websocket-client>=0.32.0 in /home/ec2-user/anaconda3/envs/python3/lib/python3.10/site-packages (from docker->sagemaker==2.199.0->-r requirements.txt (line 4)) (1.7.0)\n",
      "Requirement already satisfied: jsonschema-specifications>=2023.03.6 in /home/ec2-user/anaconda3/envs/python3/lib/python3.10/site-packages (from jsonschema->sagemaker==2.199.0->-r requirements.txt (line 4)) (2023.12.1)\n",
      "Requirement already satisfied: referencing>=0.28.4 in /home/ec2-user/anaconda3/envs/python3/lib/python3.10/site-packages (from jsonschema->sagemaker==2.199.0->-r requirements.txt (line 4)) (0.33.0)\n",
      "Requirement already satisfied: rpds-py>=0.7.1 in /home/ec2-user/anaconda3/envs/python3/lib/python3.10/site-packages (from jsonschema->sagemaker==2.199.0->-r requirements.txt (line 4)) (0.17.1)\n",
      "Requirement already satisfied: wavedrom in /home/ec2-user/anaconda3/envs/python3/lib/python3.10/site-packages (from markdown2[all]->llava==1.1.1->-r requirements.txt (line 2)) (2.0.3.post3)\n",
      "Requirement already satisfied: ppft>=1.7.6.8 in /home/ec2-user/anaconda3/envs/python3/lib/python3.10/site-packages (from pathos->sagemaker==2.199.0->-r requirements.txt (line 4)) (1.7.6.8)\n",
      "Requirement already satisfied: dill>=0.3.8 in /home/ec2-user/anaconda3/envs/python3/lib/python3.10/site-packages (from pathos->sagemaker==2.199.0->-r requirements.txt (line 4)) (0.3.8)\n",
      "Requirement already satisfied: pox>=0.3.4 in /home/ec2-user/anaconda3/envs/python3/lib/python3.10/site-packages (from pathos->sagemaker==2.199.0->-r requirements.txt (line 4)) (0.3.4)\n",
      "Requirement already satisfied: multiprocess>=0.70.16 in /home/ec2-user/anaconda3/envs/python3/lib/python3.10/site-packages (from pathos->sagemaker==2.199.0->-r requirements.txt (line 4)) (0.70.16)\n",
      "Requirement already satisfied: contextlib2>=0.5.5 in /home/ec2-user/anaconda3/envs/python3/lib/python3.10/site-packages (from schema->sagemaker==2.199.0->-r requirements.txt (line 4)) (21.6.0)\n",
      "Requirement already satisfied: GitPython!=3.1.29,>=1.0.0 in /home/ec2-user/anaconda3/envs/python3/lib/python3.10/site-packages (from wandb->llava==1.1.1->-r requirements.txt (line 2)) (3.1.42)\n",
      "Requirement already satisfied: sentry-sdk>=1.0.0 in /home/ec2-user/anaconda3/envs/python3/lib/python3.10/site-packages (from wandb->llava==1.1.1->-r requirements.txt (line 2)) (1.42.0)\n",
      "Requirement already satisfied: docker-pycreds>=0.4.0 in /home/ec2-user/anaconda3/envs/python3/lib/python3.10/site-packages (from wandb->llava==1.1.1->-r requirements.txt (line 2)) (0.4.0)\n",
      "Requirement already satisfied: setproctitle in /home/ec2-user/anaconda3/envs/python3/lib/python3.10/site-packages (from wandb->llava==1.1.1->-r requirements.txt (line 2)) (1.3.3)\n",
      "Requirement already satisfied: appdirs>=1.4.3 in /home/ec2-user/anaconda3/envs/python3/lib/python3.10/site-packages (from wandb->llava==1.1.1->-r requirements.txt (line 2)) (1.4.4)\n",
      "Requirement already satisfied: toolz in /home/ec2-user/anaconda3/envs/python3/lib/python3.10/site-packages (from altair>=4.2.0->gradio==3.35.2->llava==1.1.1->-r requirements.txt (line 2)) (0.12.1)\n",
      "Requirement already satisfied: gitdb<5,>=4.0.1 in /home/ec2-user/anaconda3/envs/python3/lib/python3.10/site-packages (from GitPython!=3.1.29,>=1.0.0->wandb->llava==1.1.1->-r requirements.txt (line 2)) (4.0.11)\n",
      "Requirement already satisfied: mdurl~=0.1 in /home/ec2-user/anaconda3/envs/python3/lib/python3.10/site-packages (from markdown-it-py>=2.0.0->markdown-it-py[linkify]>=2.0.0->gradio==3.35.2->llava==1.1.1->-r requirements.txt (line 2)) (0.1.2)\n",
      "Requirement already satisfied: linkify-it-py<3,>=1 in /home/ec2-user/anaconda3/envs/python3/lib/python3.10/site-packages (from markdown-it-py[linkify]>=2.0.0->gradio==3.35.2->llava==1.1.1->-r requirements.txt (line 2)) (2.0.3)\n",
      "Requirement already satisfied: mypy-extensions>=0.3.0 in /home/ec2-user/anaconda3/envs/python3/lib/python3.10/site-packages (from typing-inspect<1,>=0.4.0->dataclasses-json<0.7,>=0.5.7->langchain==0.0.340->-r requirements.txt (line 7)) (1.0.0)\n",
      "Requirement already satisfied: contourpy>=1.0.1 in /home/ec2-user/anaconda3/envs/python3/lib/python3.10/site-packages (from matplotlib->gradio==3.35.2->llava==1.1.1->-r requirements.txt (line 2)) (1.2.0)\n",
      "Requirement already satisfied: cycler>=0.10 in /home/ec2-user/anaconda3/envs/python3/lib/python3.10/site-packages (from matplotlib->gradio==3.35.2->llava==1.1.1->-r requirements.txt (line 2)) (0.12.1)\n",
      "Requirement already satisfied: fonttools>=4.22.0 in /home/ec2-user/anaconda3/envs/python3/lib/python3.10/site-packages (from matplotlib->gradio==3.35.2->llava==1.1.1->-r requirements.txt (line 2)) (4.47.2)\n",
      "Requirement already satisfied: kiwisolver>=1.3.1 in /home/ec2-user/anaconda3/envs/python3/lib/python3.10/site-packages (from matplotlib->gradio==3.35.2->llava==1.1.1->-r requirements.txt (line 2)) (1.4.5)\n",
      "Requirement already satisfied: mpmath>=0.19 in /home/ec2-user/anaconda3/envs/python3/lib/python3.10/site-packages (from sympy->torch==2.0.1->llava==1.1.1->-r requirements.txt (line 2)) (1.3.0)\n",
      "Requirement already satisfied: svgwrite in /home/ec2-user/anaconda3/envs/python3/lib/python3.10/site-packages (from wavedrom->markdown2[all]->llava==1.1.1->-r requirements.txt (line 2)) (1.4.3)\n",
      "Requirement already satisfied: smmap<6,>=3.0.1 in /home/ec2-user/anaconda3/envs/python3/lib/python3.10/site-packages (from gitdb<5,>=4.0.1->GitPython!=3.1.29,>=1.0.0->wandb->llava==1.1.1->-r requirements.txt (line 2)) (5.0.1)\n",
      "Requirement already satisfied: uc-micro-py in /home/ec2-user/anaconda3/envs/python3/lib/python3.10/site-packages (from linkify-it-py<3,>=1->markdown-it-py[linkify]>=2.0.0->gradio==3.35.2->llava==1.1.1->-r requirements.txt (line 2)) (1.0.3)\n"
     ]
    }
   ],
   "source": [
    "import sys\n",
    "!{sys.executable} -m pip install -r requirements.txt"
   ]
  },
  {
   "cell_type": "code",
   "execution_count": 55,
   "metadata": {
    "jupyter": {
     "source_hidden": true
    },
    "tags": []
   },
   "outputs": [],
   "source": [
    "import os\n",
    "import io\n",
    "import sys\n",
    "import json\n",
    "import glob\n",
    "import boto3\n",
    "import base64\n",
    "import logging\n",
    "import requests\n",
    "import botocore\n",
    "import sagemaker\n",
    "import numpy as np\n",
    "import pandas as pd\n",
    "import globals as g\n",
    "from PIL import Image\n",
    "from pathlib import Path\n",
    "from typing import List, Dict\n",
    "from IPython.display import Image\n",
    "from urllib.parse import urlparse\n",
    "from botocore.auth import SigV4Auth\n",
    "from pandas.core.series import Series\n",
    "from sagemaker import get_execution_role\n",
    "from botocore.awsrequest import AWSRequest\n",
    "from utils import get_cfn_outputs, get_text_embedding, get_llm_response\n",
    "from opensearchpy import OpenSearch, RequestsHttpConnection, AWSV4SignerAuth\n"
   ]
  },
  {
   "cell_type": "code",
   "execution_count": 56,
   "metadata": {
    "tags": []
   },
   "outputs": [
    {
     "name": "stdout",
     "output_type": "stream",
     "text": [
      "\u001b[33m\"\"\"\u001b[39;49;00m\n",
      "\u001b[33mGlobal variables used throughout the code.\u001b[39;49;00m\n",
      "\u001b[33m\"\"\"\u001b[39;49;00m\u001b[37m\u001b[39;49;00m\n",
      "\u001b[34mimport\u001b[39;49;00m \u001b[04m\u001b[36mos\u001b[39;49;00m\u001b[37m\u001b[39;49;00m\n",
      "\u001b[34mimport\u001b[39;49;00m \u001b[04m\u001b[36mboto3\u001b[39;49;00m\u001b[37m\u001b[39;49;00m\n",
      "\u001b[34mimport\u001b[39;49;00m \u001b[04m\u001b[36msagemaker\u001b[39;49;00m\u001b[37m\u001b[39;49;00m\n",
      "\u001b[37m\u001b[39;49;00m\n",
      "\u001b[37m# S3 bucket strucutre, we use the default sagemaker bucket in the current region\u001b[39;49;00m\u001b[37m\u001b[39;49;00m\n",
      "\u001b[37m# BUCKET_NAME: str = sagemaker.Session().default_bucket()\u001b[39;49;00m\u001b[37m\u001b[39;49;00m\n",
      "BUCKET_PREFIX: \u001b[36mstr\u001b[39;49;00m = \u001b[33m\"\u001b[39;49;00m\u001b[33mmultimodal\u001b[39;49;00m\u001b[33m\"\u001b[39;49;00m\u001b[37m\u001b[39;49;00m\n",
      "BUCKET_EMB_PREFIX: \u001b[36mstr\u001b[39;49;00m = \u001b[33mf\u001b[39;49;00m\u001b[33m\"\u001b[39;49;00m\u001b[33m{\u001b[39;49;00mBUCKET_PREFIX\u001b[33m}\u001b[39;49;00m\u001b[33m/osi-embeddings-json\u001b[39;49;00m\u001b[33m\"\u001b[39;49;00m\u001b[37m\u001b[39;49;00m\n",
      "BUCKET_IMG_PREFIX: \u001b[36mstr\u001b[39;49;00m = \u001b[33mf\u001b[39;49;00m\u001b[33m\"\u001b[39;49;00m\u001b[33m{\u001b[39;49;00mBUCKET_PREFIX\u001b[33m}\u001b[39;49;00m\u001b[33m/img\u001b[39;49;00m\u001b[33m\"\u001b[39;49;00m\u001b[37m\u001b[39;49;00m\n",
      "LLAVA_PROMPT_PREFIX: \u001b[36mstr\u001b[39;49;00m = \u001b[33m'\u001b[39;49;00m\u001b[33mmultimodal/llavaPrompt/\u001b[39;49;00m\u001b[33m'\u001b[39;49;00m\u001b[37m\u001b[39;49;00m\n",
      "\u001b[37m\u001b[39;49;00m\n",
      "S3_MODEL_CODE_PREFIX: \u001b[36mstr\u001b[39;49;00m = \u001b[33m\"\u001b[39;49;00m\u001b[33mcode\u001b[39;49;00m\u001b[33m\"\u001b[39;49;00m\u001b[37m\u001b[39;49;00m\n",
      "S3_MODEL_PREFIX: \u001b[36mstr\u001b[39;49;00m = \u001b[33m\"\u001b[39;49;00m\u001b[33mmodel\u001b[39;49;00m\u001b[33m\"\u001b[39;49;00m\u001b[37m\u001b[39;49;00m\n",
      "\u001b[37m\u001b[39;49;00m\n",
      "\u001b[37m# Amazon Titan multimodal model\u001b[39;49;00m\u001b[37m\u001b[39;49;00m\n",
      "AWS_REGION: \u001b[36mstr\u001b[39;49;00m = boto3.Session().region_name\u001b[37m\u001b[39;49;00m\n",
      "FMC_URL: \u001b[36mstr\u001b[39;49;00m = \u001b[33mf\u001b[39;49;00m\u001b[33m\"\u001b[39;49;00m\u001b[33mhttps://bedrock-runtime.\u001b[39;49;00m\u001b[33m{\u001b[39;49;00mAWS_REGION\u001b[33m}\u001b[39;49;00m\u001b[33m.amazonaws.com\u001b[39;49;00m\u001b[33m\"\u001b[39;49;00m\u001b[37m\u001b[39;49;00m\n",
      "FMC_MODEL_ID: \u001b[36mstr\u001b[39;49;00m = \u001b[33m\"\u001b[39;49;00m\u001b[33mamazon.titan-embed-text-v1\u001b[39;49;00m\u001b[33m\"\u001b[39;49;00m\u001b[37m\u001b[39;49;00m\n",
      "CLAUDE_MODEL_ID: \u001b[36mstr\u001b[39;49;00m = \u001b[33m\"\u001b[39;49;00m\u001b[33manthropic.claude-3-haiku-20240307-v1:0\u001b[39;49;00m\u001b[33m\"\u001b[39;49;00m\u001b[37m\u001b[39;49;00m\n",
      "ACCEPT_ENCODING: \u001b[36mstr\u001b[39;49;00m = \u001b[33m\"\u001b[39;49;00m\u001b[33mapplication/json\u001b[39;49;00m\u001b[33m\"\u001b[39;49;00m\u001b[37m\u001b[39;49;00m\n",
      "CONTENT_ENCODING: \u001b[36mstr\u001b[39;49;00m = \u001b[33m\"\u001b[39;49;00m\u001b[33mapplication/json\u001b[39;49;00m\u001b[33m\"\u001b[39;49;00m\u001b[37m\u001b[39;49;00m\n",
      "\u001b[37m\u001b[39;49;00m\n",
      "\u001b[37m# Amazon OpenSearch Service Serverless\u001b[39;49;00m\u001b[37m\u001b[39;49;00m\n",
      "OS_SERVICE: \u001b[36mstr\u001b[39;49;00m = \u001b[33m\"\u001b[39;49;00m\u001b[33maoss\u001b[39;49;00m\u001b[33m\"\u001b[39;49;00m\u001b[37m\u001b[39;49;00m\n",
      "\u001b[37m\u001b[39;49;00m\n",
      "\u001b[37m# local files and folder structure\u001b[39;49;00m\u001b[37m\u001b[39;49;00m\n",
      "IMAGE_DIR: \u001b[36mstr\u001b[39;49;00m = \u001b[33m\"\u001b[39;49;00m\u001b[33mimg\u001b[39;49;00m\u001b[33m\"\u001b[39;49;00m\u001b[37m\u001b[39;49;00m\n",
      "IMAGE_FILE_EXTN: \u001b[36mstr\u001b[39;49;00m = \u001b[33m\"\u001b[39;49;00m\u001b[33m.jpg\u001b[39;49;00m\u001b[33m\"\u001b[39;49;00m\u001b[37m\u001b[39;49;00m\n",
      "B64_ENCODED_IMAGES_DIR: \u001b[36mstr\u001b[39;49;00m = os.path.join(IMAGE_DIR, \u001b[33m\"\u001b[39;49;00m\u001b[33mb64_images\u001b[39;49;00m\u001b[33m\"\u001b[39;49;00m)\u001b[37m\u001b[39;49;00m\n",
      "\u001b[37m\u001b[39;49;00m\n",
      "\u001b[37m# this is the slide deck to which we will be talking to. Replace with your slide deck's URL to analyze a different deck\u001b[39;49;00m\u001b[37m\u001b[39;49;00m\n",
      "SLIDE_DECK: \u001b[36mstr\u001b[39;49;00m = \u001b[33m\"\u001b[39;49;00m\u001b[33mhttps://d1.awsstatic.com/events/Summits/torsummit2023/CMP301_TrainDeploy_E1_20230607_SPEdited.pdf\u001b[39;49;00m\u001b[33m\"\u001b[39;49;00m\u001b[37m\u001b[39;49;00m\n",
      "\u001b[37m\u001b[39;49;00m\n",
      "\u001b[37m# AWS CloudFormation stack that created the resources for this blog post including this notebook\u001b[39;49;00m\u001b[37m\u001b[39;49;00m\n",
      "\u001b[37m# if a different name is used while creating the CloudFormation stack then change this to match the name you used\u001b[39;49;00m\u001b[37m\u001b[39;49;00m\n",
      "CFN_STACK_NAME: \u001b[36mstr\u001b[39;49;00m = \u001b[33m\"\u001b[39;49;00m\u001b[33mmultimodal-blog2-stack\u001b[39;49;00m\u001b[33m\"\u001b[39;49;00m\u001b[37m\u001b[39;49;00m\n"
     ]
    }
   ],
   "source": [
    "!pygmentize globals.py"
   ]
  },
  {
   "cell_type": "code",
   "execution_count": 57,
   "metadata": {
    "tags": []
   },
   "outputs": [],
   "source": [
    "logging.basicConfig(format='[%(asctime)s] p%(process)s {%(filename)s:%(lineno)d} %(levelname)s - %(message)s', level=logging.INFO)\n",
    "logger = logging.getLogger(__name__)"
   ]
  },
  {
   "cell_type": "markdown",
   "metadata": {
    "tags": []
   },
   "source": [
    "## Step 2. Create an OpenSearch client and SageMaker Predictor object\n",
    "\n",
    "We create an OpenSearch client so that we can query the vector database for embeddings (slides) similar to the questions that we might want to ask of our slide deck and then we create a SageMaker [`Predictor`](https://sagemaker.readthedocs.io/en/stable/api/inference/predictors.html) to run inference using the LLaVA model given the slide we retrieved from OpenSearch."
   ]
  },
  {
   "cell_type": "markdown",
   "metadata": {},
   "source": [
    "Get the name of the OpenSearch Service Serverless collection endpoint and index name from the CloudFormation stack outputs."
   ]
  },
  {
   "cell_type": "code",
   "execution_count": 58,
   "metadata": {
    "tags": []
   },
   "outputs": [
    {
     "name": "stderr",
     "output_type": "stream",
     "text": [
      "[2024-03-18 22:11:06,771] p29487 {2998865555.py:5} INFO - opensearchhost=erl0gs7pm3an9js60q6j.us-east-1.aoss.amazonaws.com, index=attempt2\n"
     ]
    }
   ],
   "source": [
    "outputs = get_cfn_outputs(g.CFN_STACK_NAME)\n",
    "host = outputs['MultimodalCollectionEndpoint'].split('//')[1]\n",
    "index_name = outputs['OpenSearchIndexName']\n",
    "logger.info(f\"opensearchhost={host}, index={index_name}\")\n"
   ]
  },
  {
   "cell_type": "code",
   "execution_count": 70,
   "metadata": {
    "tags": []
   },
   "outputs": [
    {
     "name": "stderr",
     "output_type": "stream",
     "text": [
      "[2024-03-18 22:16:58,420] p29487 {credentials.py:1075} INFO - Found credentials from IAM Role: BaseNotebookInstanceEc2InstanceRole\n"
     ]
    }
   ],
   "source": [
    "session = boto3.Session()\n",
    "credentials = session.get_credentials()\n",
    "auth = AWSV4SignerAuth(credentials, g.AWS_REGION, g.OS_SERVICE)\n",
    "\n",
    "os_client = OpenSearch(\n",
    "    hosts = [{'host': host, 'port': 443}],\n",
    "    http_auth = auth,\n",
    "    use_ssl = True,\n",
    "    verify_certs = True,\n",
    "    connection_class = RequestsHttpConnection,\n",
    "    pool_maxsize = 20\n",
    ")"
   ]
  },
  {
   "cell_type": "markdown",
   "metadata": {},
   "source": [
    "## Step 3. Read for RAG\n",
    "\n",
    "We now have all the pieces for RAG. Here is how we _talk to our slide deck_.\n",
    "\n",
    "1. Convert the user question into embeddings using the Titan Text Embeddings model.\n",
    "\n",
    "1. Find the most similar slide (image) corresponding to the the embeddings (for the user question) from the vector database (OpenSearch Serverless).\n",
    "\n",
    "1. Now ask Claude3 to answer the user question using the retrieved image description for the most similar slide."
   ]
  },
  {
   "cell_type": "code",
   "execution_count": 71,
   "metadata": {
    "tags": []
   },
   "outputs": [],
   "source": [
    "bedrock = boto3.client(service_name=\"bedrock-runtime\", endpoint_url=g.FMC_URL)"
   ]
  },
  {
   "cell_type": "markdown",
   "metadata": {},
   "source": [
    "A handy function for similarity search in the vector db"
   ]
  },
  {
   "cell_type": "code",
   "execution_count": 72,
   "metadata": {
    "tags": []
   },
   "outputs": [],
   "source": [
    "def find_similar_data(text_embeddings: np.ndarray) -> Dict:\n",
    "    query = {\n",
    "        \"size\": 1,\n",
    "        \"query\": {\n",
    "            \"knn\": {\n",
    "                \"vector_embedding\": {\n",
    "                    \"vector\": text_embeddings,\n",
    "                    \"k\": 1\n",
    "                }\n",
    "            }\n",
    "        }\n",
    "    }\n",
    "    try:\n",
    "        image_based_search_response = os_client.search(body=query, index=index_name)\n",
    "        # remove the vector_embedding field for readability purposes, it was needed during\n",
    "        # the similarity search (by the vector db), we do not need it any more.\n",
    "        source = image_based_search_response['hits']['hits'][0]['_source'].pop('vector_embedding')\n",
    "        logger.info(f\"received response from OpenSearch, response={json.dumps(image_based_search_response, indent=2)}\")\n",
    "    except Exception as e:\n",
    "        logger.error(f\"error occured while querying OpenSearch index={index_name}, exception={e}\")\n",
    "        image_based_search_response = None\n",
    "    return image_based_search_response"
   ]
  },
  {
   "cell_type": "markdown",
   "metadata": {},
   "source": [
    "### Question 1\n",
    "\n",
    "Create a prompt and convert it to embeddings."
   ]
  },
  {
   "cell_type": "code",
   "execution_count": 73,
   "metadata": {
    "tags": []
   },
   "outputs": [],
   "source": [
    "question: str = \"How does Inf2 compare in performance to comparable EC2 instances? I need numbers.\"\n",
    "text_embedding = get_text_embedding(bedrock, question)"
   ]
  },
  {
   "cell_type": "markdown",
   "metadata": {},
   "source": [
    "Find the most similar slide from the vector db."
   ]
  },
  {
   "cell_type": "code",
   "execution_count": 74,
   "metadata": {
    "tags": []
   },
   "outputs": [
    {
     "name": "stderr",
     "output_type": "stream",
     "text": [
      "[2024-03-18 22:17:02,679] p29487 {base.py:259} INFO - POST https://erl0gs7pm3an9js60q6j.us-east-1.aoss.amazonaws.com:443/attempt2/_search [status:200 request:0.113s]\n",
      "[2024-03-18 22:17:02,680] p29487 {1697326408.py:20} ERROR - error occured while querying OpenSearch index=attempt2, exception=list index out of range\n"
     ]
    }
   ],
   "source": [
    "vector_db_response: Dict = find_similar_data(text_embedding)"
   ]
  },
  {
   "cell_type": "markdown",
   "metadata": {},
   "source": [
    "Retrieve the image path from the search results and provide it to Claude3 along with the user question."
   ]
  },
  {
   "cell_type": "code",
   "execution_count": 75,
   "metadata": {
    "tags": []
   },
   "outputs": [
    {
     "ename": "AttributeError",
     "evalue": "'NoneType' object has no attribute 'get'",
     "output_type": "error",
     "traceback": [
      "\u001b[0;31m---------------------------------------------------------------------------\u001b[0m",
      "\u001b[0;31mAttributeError\u001b[0m                            Traceback (most recent call last)",
      "Cell \u001b[0;32mIn[75], line 1\u001b[0m\n\u001b[0;32m----> 1\u001b[0m s3_img_path \u001b[38;5;241m=\u001b[39m \u001b[43mvector_db_response\u001b[49m\u001b[38;5;241;43m.\u001b[39;49m\u001b[43mget\u001b[49m(\u001b[38;5;124m'\u001b[39m\u001b[38;5;124mhits\u001b[39m\u001b[38;5;124m'\u001b[39m, {})\u001b[38;5;241m.\u001b[39mget(\u001b[38;5;124m'\u001b[39m\u001b[38;5;124mhits\u001b[39m\u001b[38;5;124m'\u001b[39m)[\u001b[38;5;241m0\u001b[39m]\u001b[38;5;241m.\u001b[39mget(\u001b[38;5;124m'\u001b[39m\u001b[38;5;124m_source\u001b[39m\u001b[38;5;124m'\u001b[39m)\u001b[38;5;241m.\u001b[39mget(\u001b[38;5;124m'\u001b[39m\u001b[38;5;124mimage_path\u001b[39m\u001b[38;5;124m'\u001b[39m)\n\u001b[1;32m      2\u001b[0m logger\u001b[38;5;241m.\u001b[39minfo(\u001b[38;5;124mf\u001b[39m\u001b[38;5;124m\"\u001b[39m\u001b[38;5;124mgoing to answer the question=\u001b[39m\u001b[38;5;130;01m\\\"\u001b[39;00m\u001b[38;5;132;01m{\u001b[39;00mquestion\u001b[38;5;132;01m}\u001b[39;00m\u001b[38;5;130;01m\\\"\u001b[39;00m\u001b[38;5;124m using the image \u001b[39m\u001b[38;5;130;01m\\\"\u001b[39;00m\u001b[38;5;132;01m{\u001b[39;00ms3_img_path\u001b[38;5;132;01m}\u001b[39;00m\u001b[38;5;130;01m\\\"\u001b[39;00m\u001b[38;5;124m\"\u001b[39m)\n\u001b[1;32m      4\u001b[0m get_ipython()\u001b[38;5;241m.\u001b[39msystem(\u001b[38;5;124m'\u001b[39m\u001b[38;5;124maws s3 cp \u001b[39m\u001b[38;5;132;01m{s3_img_path}\u001b[39;00m\u001b[38;5;124m .\u001b[39m\u001b[38;5;124m'\u001b[39m)\n",
      "\u001b[0;31mAttributeError\u001b[0m: 'NoneType' object has no attribute 'get'"
     ]
    }
   ],
   "source": [
    "s3_img_path = vector_db_response.get('hits', {}).get('hits')[0].get('_source').get('image_path')\n",
    "logger.info(f\"going to answer the question=\\\"{question}\\\" using the image \\\"{s3_img_path}\\\"\")\n",
    "\n",
    "!aws s3 cp {s3_img_path} .\n",
    "local_img_path = os.path.basename(s3_img_path)\n",
    "Image(filename=local_img_path) "
   ]
  },
  {
   "cell_type": "code",
   "execution_count": null,
   "metadata": {
    "tags": []
   },
   "outputs": [],
   "source": [
    "slide_text = vector_db_response.get('hits', {}).get('hits')[0].get('_source').get('slide_text')\n",
    "print(slide_text)"
   ]
  },
  {
   "cell_type": "code",
   "execution_count": null,
   "metadata": {
    "tags": []
   },
   "outputs": [],
   "source": [
    "llm_response = get_llm_response(bedrock, question, slide_text)\n",
    "print(llm_response)"
   ]
  },
  {
   "cell_type": "markdown",
   "metadata": {
    "tags": []
   },
   "source": [
    "### Question 2"
   ]
  },
  {
   "cell_type": "code",
   "execution_count": 51,
   "metadata": {
    "tags": []
   },
   "outputs": [
    {
     "name": "stderr",
     "output_type": "stream",
     "text": [
      "[2024-03-18 22:09:17,568] p29487 {base.py:259} INFO - POST https://erl0gs7pm3an9js60q6j.us-east-1.aoss.amazonaws.com:443/attempt2/_search [status:200 request:0.114s]\n",
      "[2024-03-18 22:09:17,570] p29487 {1697326408.py:20} ERROR - error occured while querying OpenSearch index=attempt2, exception=list index out of range\n"
     ]
    },
    {
     "ename": "AttributeError",
     "evalue": "'NoneType' object has no attribute 'get'",
     "output_type": "error",
     "traceback": [
      "\u001b[0;31m---------------------------------------------------------------------------\u001b[0m",
      "\u001b[0;31mAttributeError\u001b[0m                            Traceback (most recent call last)",
      "Cell \u001b[0;32mIn[51], line 4\u001b[0m\n\u001b[1;32m      2\u001b[0m text_embedding \u001b[38;5;241m=\u001b[39m get_text_embedding(bedrock, question)\n\u001b[1;32m      3\u001b[0m vector_db_response: Dict \u001b[38;5;241m=\u001b[39m find_similar_data(text_embedding)\n\u001b[0;32m----> 4\u001b[0m s3_img_path \u001b[38;5;241m=\u001b[39m \u001b[43mvector_db_response\u001b[49m\u001b[38;5;241;43m.\u001b[39;49m\u001b[43mget\u001b[49m(\u001b[38;5;124m'\u001b[39m\u001b[38;5;124mhits\u001b[39m\u001b[38;5;124m'\u001b[39m, {})\u001b[38;5;241m.\u001b[39mget(\u001b[38;5;124m'\u001b[39m\u001b[38;5;124mhits\u001b[39m\u001b[38;5;124m'\u001b[39m)[\u001b[38;5;241m0\u001b[39m]\u001b[38;5;241m.\u001b[39mget(\u001b[38;5;124m'\u001b[39m\u001b[38;5;124m_source\u001b[39m\u001b[38;5;124m'\u001b[39m)\u001b[38;5;241m.\u001b[39mget(\u001b[38;5;124m'\u001b[39m\u001b[38;5;124mimage_path\u001b[39m\u001b[38;5;124m'\u001b[39m)\n\u001b[1;32m      5\u001b[0m logger\u001b[38;5;241m.\u001b[39minfo(\u001b[38;5;124mf\u001b[39m\u001b[38;5;124m\"\u001b[39m\u001b[38;5;124mgoing to answer the question=\u001b[39m\u001b[38;5;130;01m\\\"\u001b[39;00m\u001b[38;5;132;01m{\u001b[39;00mquestion\u001b[38;5;132;01m}\u001b[39;00m\u001b[38;5;130;01m\\\"\u001b[39;00m\u001b[38;5;124m using the image \u001b[39m\u001b[38;5;130;01m\\\"\u001b[39;00m\u001b[38;5;132;01m{\u001b[39;00ms3_img_path\u001b[38;5;132;01m}\u001b[39;00m\u001b[38;5;130;01m\\\"\u001b[39;00m\u001b[38;5;124m\"\u001b[39m)\n\u001b[1;32m      7\u001b[0m get_ipython()\u001b[38;5;241m.\u001b[39msystem(\u001b[38;5;124m'\u001b[39m\u001b[38;5;124maws s3 cp \u001b[39m\u001b[38;5;132;01m{s3_img_path}\u001b[39;00m\u001b[38;5;124m .\u001b[39m\u001b[38;5;124m'\u001b[39m)\n",
      "\u001b[0;31mAttributeError\u001b[0m: 'NoneType' object has no attribute 'get'"
     ]
    }
   ],
   "source": [
    "question: str = \"As per the AI/ML flywheel, what do the AWS AI/ML services provide?\"\n",
    "text_embedding = get_text_embedding(bedrock, question)\n",
    "vector_db_response: Dict = find_similar_data(text_embedding)\n",
    "s3_img_path = vector_db_response.get('hits', {}).get('hits')[0].get('_source').get('image_path')\n",
    "logger.info(f\"going to answer the question=\\\"{question}\\\" using the image \\\"{s3_img_path}\\\"\")\n",
    "\n",
    "!aws s3 cp {s3_img_path} .\n",
    "local_img_path = os.path.basename(s3_img_path)\n",
    "Image(filename=local_img_path) \n",
    "slide_text = vector_db_response.get('hits', {}).get('hits')[0].get('_source').get('slide_text')\n",
    "print(slide_text)\n",
    "llm_response = get_llm_response(bedrock, question, slide_text)\n",
    "print(llm_response)\n"
   ]
  },
  {
   "cell_type": "code",
   "execution_count": null,
   "metadata": {
    "tags": []
   },
   "outputs": [],
   "source": [
    "# create prompt and convert to embeddings\n",
    "question: str = \"As per the AI/ML flywheel, what do the AWS AI/ML services provide?\"\n",
    "text_embedding = get_text_embedding(bedrock, question)\n",
    "\n",
    "# vector db search\n",
    "vector_db_response: Dict = find_similar_data(text_embedding)\n",
    "\n",
    "# download image for local notebook display\n",
    "s3_img_path = vector_db_response.get('hits', {}).get('hits')[0].get('_source').get('image_path')\n",
    "logger.info(f\"going to answer the question=\\\"{question}\\\" using the image \\\"{s3_img_path}\\\"\")\n",
    "\n",
    "!aws s3 cp {s3_img_path} .\n",
    "local_img_path = os.path.basename(s3_img_path)\n",
    "display(Image(filename=local_img_path))\n",
    "\n",
    "# Ask Claude\n",
    "slide_text = vector_db_response.get('hits', {}).get('hits')[0].get('_source').get('slide_text')\n",
    "print(slide_text)\n",
    "llm_response = get_llm_response(bedrock, question, slide_text)\n",
    "print(llm_response)"
   ]
  },
  {
   "cell_type": "markdown",
   "metadata": {},
   "source": [
    "### Question 3\n",
    "\n",
    "What about slides that contain charts and graphs? We want to see if the LLaVA model can correcly analyze a graph and pull appropriate metrics from the slide. "
   ]
  },
  {
   "cell_type": "code",
   "execution_count": null,
   "metadata": {
    "tags": []
   },
   "outputs": [],
   "source": [
    "# create prompt and convert to embeddings\n",
    "question: str = \"Compared to GPT-2, how many more parameters does GPT-3 have? What is the numerical difference between the parameter size of GPT-2 and GPT-3?\"\n",
    "text_embedding = get_text_embedding(bedrock, question)\n",
    "\n",
    "# vector db search\n",
    "vector_db_response: Dict = find_similar_data(text_embedding)\n",
    "\n",
    "# download image for local notebook display\n",
    "s3_img_path = vector_db_response.get('hits', {}).get('hits')[0].get('_source').get('image_path')\n",
    "logger.info(f\"going to answer the question=\\\"{question}\\\" using the image \\\"{s3_img_path}\\\"\")\n",
    "\n",
    "!aws s3 cp {s3_img_path} .\n",
    "local_img_path = os.path.basename(s3_img_path)\n",
    "display(Image(filename=local_img_path))\n",
    "\n",
    "# Ask Claude\n",
    "slide_text = vector_db_response.get('hits', {}).get('hits')[0].get('_source').get('slide_text')\n",
    "print(slide_text)\n",
    "llm_response = get_llm_response(bedrock, question, slide_text)\n",
    "print(llm_response)"
   ]
  },
  {
   "cell_type": "markdown",
   "metadata": {},
   "source": [
    "### Question 4\n",
    "\n",
    "How about a question that cannot be answered based on this slide deck? We want to confirm that while some slide image will be retrieved but the Claude model does not hallucinate and correctly says  \"I do not know\"."
   ]
  },
  {
   "cell_type": "code",
   "execution_count": null,
   "metadata": {
    "tags": []
   },
   "outputs": [],
   "source": [
    "# create prompt and convert to embeddings\n",
    "question: str = \"What are quarks in particle physics?\"\n",
    "text_embedding = get_text_embedding(bedrock, question)\n",
    "\n",
    "# vector db search\n",
    "vector_db_response: Dict = find_similar_data(text_embedding)\n",
    "\n",
    "# download image for local notebook display\n",
    "s3_img_path = vector_db_response.get('hits', {}).get('hits')[0].get('_source').get('image_path')\n",
    "logger.info(f\"going to answer the question=\\\"{question}\\\" using the image \\\"{s3_img_path}\\\"\")\n",
    "\n",
    "!aws s3 cp {s3_img_path} .\n",
    "local_img_path = os.path.basename(s3_img_path)\n",
    "display(Image(filename=local_img_path))\n",
    "\n",
    "# Ask Claude\n",
    "slide_text = vector_db_response.get('hits', {}).get('hits')[0].get('_source').get('slide_text')\n",
    "print(slide_text)\n",
    "llm_response = get_llm_response(bedrock, question, slide_text)\n",
    "print(llm_response)"
   ]
  },
  {
   "cell_type": "markdown",
   "metadata": {},
   "source": [
    "## Clean Up\n"
   ]
  }
 ],
 "metadata": {
  "availableInstances": [
   {
    "_defaultOrder": 0,
    "_isFastLaunch": true,
    "category": "General purpose",
    "gpuNum": 0,
    "hideHardwareSpecs": false,
    "memoryGiB": 4,
    "name": "ml.t3.medium",
    "vcpuNum": 2
   },
   {
    "_defaultOrder": 1,
    "_isFastLaunch": false,
    "category": "General purpose",
    "gpuNum": 0,
    "hideHardwareSpecs": false,
    "memoryGiB": 8,
    "name": "ml.t3.large",
    "vcpuNum": 2
   },
   {
    "_defaultOrder": 2,
    "_isFastLaunch": false,
    "category": "General purpose",
    "gpuNum": 0,
    "hideHardwareSpecs": false,
    "memoryGiB": 16,
    "name": "ml.t3.xlarge",
    "vcpuNum": 4
   },
   {
    "_defaultOrder": 3,
    "_isFastLaunch": false,
    "category": "General purpose",
    "gpuNum": 0,
    "hideHardwareSpecs": false,
    "memoryGiB": 32,
    "name": "ml.t3.2xlarge",
    "vcpuNum": 8
   },
   {
    "_defaultOrder": 4,
    "_isFastLaunch": true,
    "category": "General purpose",
    "gpuNum": 0,
    "hideHardwareSpecs": false,
    "memoryGiB": 8,
    "name": "ml.m5.large",
    "vcpuNum": 2
   },
   {
    "_defaultOrder": 5,
    "_isFastLaunch": false,
    "category": "General purpose",
    "gpuNum": 0,
    "hideHardwareSpecs": false,
    "memoryGiB": 16,
    "name": "ml.m5.xlarge",
    "vcpuNum": 4
   },
   {
    "_defaultOrder": 6,
    "_isFastLaunch": false,
    "category": "General purpose",
    "gpuNum": 0,
    "hideHardwareSpecs": false,
    "memoryGiB": 32,
    "name": "ml.m5.2xlarge",
    "vcpuNum": 8
   },
   {
    "_defaultOrder": 7,
    "_isFastLaunch": false,
    "category": "General purpose",
    "gpuNum": 0,
    "hideHardwareSpecs": false,
    "memoryGiB": 64,
    "name": "ml.m5.4xlarge",
    "vcpuNum": 16
   },
   {
    "_defaultOrder": 8,
    "_isFastLaunch": false,
    "category": "General purpose",
    "gpuNum": 0,
    "hideHardwareSpecs": false,
    "memoryGiB": 128,
    "name": "ml.m5.8xlarge",
    "vcpuNum": 32
   },
   {
    "_defaultOrder": 9,
    "_isFastLaunch": false,
    "category": "General purpose",
    "gpuNum": 0,
    "hideHardwareSpecs": false,
    "memoryGiB": 192,
    "name": "ml.m5.12xlarge",
    "vcpuNum": 48
   },
   {
    "_defaultOrder": 10,
    "_isFastLaunch": false,
    "category": "General purpose",
    "gpuNum": 0,
    "hideHardwareSpecs": false,
    "memoryGiB": 256,
    "name": "ml.m5.16xlarge",
    "vcpuNum": 64
   },
   {
    "_defaultOrder": 11,
    "_isFastLaunch": false,
    "category": "General purpose",
    "gpuNum": 0,
    "hideHardwareSpecs": false,
    "memoryGiB": 384,
    "name": "ml.m5.24xlarge",
    "vcpuNum": 96
   },
   {
    "_defaultOrder": 12,
    "_isFastLaunch": false,
    "category": "General purpose",
    "gpuNum": 0,
    "hideHardwareSpecs": false,
    "memoryGiB": 8,
    "name": "ml.m5d.large",
    "vcpuNum": 2
   },
   {
    "_defaultOrder": 13,
    "_isFastLaunch": false,
    "category": "General purpose",
    "gpuNum": 0,
    "hideHardwareSpecs": false,
    "memoryGiB": 16,
    "name": "ml.m5d.xlarge",
    "vcpuNum": 4
   },
   {
    "_defaultOrder": 14,
    "_isFastLaunch": false,
    "category": "General purpose",
    "gpuNum": 0,
    "hideHardwareSpecs": false,
    "memoryGiB": 32,
    "name": "ml.m5d.2xlarge",
    "vcpuNum": 8
   },
   {
    "_defaultOrder": 15,
    "_isFastLaunch": false,
    "category": "General purpose",
    "gpuNum": 0,
    "hideHardwareSpecs": false,
    "memoryGiB": 64,
    "name": "ml.m5d.4xlarge",
    "vcpuNum": 16
   },
   {
    "_defaultOrder": 16,
    "_isFastLaunch": false,
    "category": "General purpose",
    "gpuNum": 0,
    "hideHardwareSpecs": false,
    "memoryGiB": 128,
    "name": "ml.m5d.8xlarge",
    "vcpuNum": 32
   },
   {
    "_defaultOrder": 17,
    "_isFastLaunch": false,
    "category": "General purpose",
    "gpuNum": 0,
    "hideHardwareSpecs": false,
    "memoryGiB": 192,
    "name": "ml.m5d.12xlarge",
    "vcpuNum": 48
   },
   {
    "_defaultOrder": 18,
    "_isFastLaunch": false,
    "category": "General purpose",
    "gpuNum": 0,
    "hideHardwareSpecs": false,
    "memoryGiB": 256,
    "name": "ml.m5d.16xlarge",
    "vcpuNum": 64
   },
   {
    "_defaultOrder": 19,
    "_isFastLaunch": false,
    "category": "General purpose",
    "gpuNum": 0,
    "hideHardwareSpecs": false,
    "memoryGiB": 384,
    "name": "ml.m5d.24xlarge",
    "vcpuNum": 96
   },
   {
    "_defaultOrder": 20,
    "_isFastLaunch": false,
    "category": "General purpose",
    "gpuNum": 0,
    "hideHardwareSpecs": true,
    "memoryGiB": 0,
    "name": "ml.geospatial.interactive",
    "supportedImageNames": [
     "sagemaker-geospatial-v1-0"
    ],
    "vcpuNum": 0
   },
   {
    "_defaultOrder": 21,
    "_isFastLaunch": true,
    "category": "Compute optimized",
    "gpuNum": 0,
    "hideHardwareSpecs": false,
    "memoryGiB": 4,
    "name": "ml.c5.large",
    "vcpuNum": 2
   },
   {
    "_defaultOrder": 22,
    "_isFastLaunch": false,
    "category": "Compute optimized",
    "gpuNum": 0,
    "hideHardwareSpecs": false,
    "memoryGiB": 8,
    "name": "ml.c5.xlarge",
    "vcpuNum": 4
   },
   {
    "_defaultOrder": 23,
    "_isFastLaunch": false,
    "category": "Compute optimized",
    "gpuNum": 0,
    "hideHardwareSpecs": false,
    "memoryGiB": 16,
    "name": "ml.c5.2xlarge",
    "vcpuNum": 8
   },
   {
    "_defaultOrder": 24,
    "_isFastLaunch": false,
    "category": "Compute optimized",
    "gpuNum": 0,
    "hideHardwareSpecs": false,
    "memoryGiB": 32,
    "name": "ml.c5.4xlarge",
    "vcpuNum": 16
   },
   {
    "_defaultOrder": 25,
    "_isFastLaunch": false,
    "category": "Compute optimized",
    "gpuNum": 0,
    "hideHardwareSpecs": false,
    "memoryGiB": 72,
    "name": "ml.c5.9xlarge",
    "vcpuNum": 36
   },
   {
    "_defaultOrder": 26,
    "_isFastLaunch": false,
    "category": "Compute optimized",
    "gpuNum": 0,
    "hideHardwareSpecs": false,
    "memoryGiB": 96,
    "name": "ml.c5.12xlarge",
    "vcpuNum": 48
   },
   {
    "_defaultOrder": 27,
    "_isFastLaunch": false,
    "category": "Compute optimized",
    "gpuNum": 0,
    "hideHardwareSpecs": false,
    "memoryGiB": 144,
    "name": "ml.c5.18xlarge",
    "vcpuNum": 72
   },
   {
    "_defaultOrder": 28,
    "_isFastLaunch": false,
    "category": "Compute optimized",
    "gpuNum": 0,
    "hideHardwareSpecs": false,
    "memoryGiB": 192,
    "name": "ml.c5.24xlarge",
    "vcpuNum": 96
   },
   {
    "_defaultOrder": 29,
    "_isFastLaunch": true,
    "category": "Accelerated computing",
    "gpuNum": 1,
    "hideHardwareSpecs": false,
    "memoryGiB": 16,
    "name": "ml.g4dn.xlarge",
    "vcpuNum": 4
   },
   {
    "_defaultOrder": 30,
    "_isFastLaunch": false,
    "category": "Accelerated computing",
    "gpuNum": 1,
    "hideHardwareSpecs": false,
    "memoryGiB": 32,
    "name": "ml.g4dn.2xlarge",
    "vcpuNum": 8
   },
   {
    "_defaultOrder": 31,
    "_isFastLaunch": false,
    "category": "Accelerated computing",
    "gpuNum": 1,
    "hideHardwareSpecs": false,
    "memoryGiB": 64,
    "name": "ml.g4dn.4xlarge",
    "vcpuNum": 16
   },
   {
    "_defaultOrder": 32,
    "_isFastLaunch": false,
    "category": "Accelerated computing",
    "gpuNum": 1,
    "hideHardwareSpecs": false,
    "memoryGiB": 128,
    "name": "ml.g4dn.8xlarge",
    "vcpuNum": 32
   },
   {
    "_defaultOrder": 33,
    "_isFastLaunch": false,
    "category": "Accelerated computing",
    "gpuNum": 4,
    "hideHardwareSpecs": false,
    "memoryGiB": 192,
    "name": "ml.g4dn.12xlarge",
    "vcpuNum": 48
   },
   {
    "_defaultOrder": 34,
    "_isFastLaunch": false,
    "category": "Accelerated computing",
    "gpuNum": 1,
    "hideHardwareSpecs": false,
    "memoryGiB": 256,
    "name": "ml.g4dn.16xlarge",
    "vcpuNum": 64
   },
   {
    "_defaultOrder": 35,
    "_isFastLaunch": false,
    "category": "Accelerated computing",
    "gpuNum": 1,
    "hideHardwareSpecs": false,
    "memoryGiB": 61,
    "name": "ml.p3.2xlarge",
    "vcpuNum": 8
   },
   {
    "_defaultOrder": 36,
    "_isFastLaunch": false,
    "category": "Accelerated computing",
    "gpuNum": 4,
    "hideHardwareSpecs": false,
    "memoryGiB": 244,
    "name": "ml.p3.8xlarge",
    "vcpuNum": 32
   },
   {
    "_defaultOrder": 37,
    "_isFastLaunch": false,
    "category": "Accelerated computing",
    "gpuNum": 8,
    "hideHardwareSpecs": false,
    "memoryGiB": 488,
    "name": "ml.p3.16xlarge",
    "vcpuNum": 64
   },
   {
    "_defaultOrder": 38,
    "_isFastLaunch": false,
    "category": "Accelerated computing",
    "gpuNum": 8,
    "hideHardwareSpecs": false,
    "memoryGiB": 768,
    "name": "ml.p3dn.24xlarge",
    "vcpuNum": 96
   },
   {
    "_defaultOrder": 39,
    "_isFastLaunch": false,
    "category": "Memory Optimized",
    "gpuNum": 0,
    "hideHardwareSpecs": false,
    "memoryGiB": 16,
    "name": "ml.r5.large",
    "vcpuNum": 2
   },
   {
    "_defaultOrder": 40,
    "_isFastLaunch": false,
    "category": "Memory Optimized",
    "gpuNum": 0,
    "hideHardwareSpecs": false,
    "memoryGiB": 32,
    "name": "ml.r5.xlarge",
    "vcpuNum": 4
   },
   {
    "_defaultOrder": 41,
    "_isFastLaunch": false,
    "category": "Memory Optimized",
    "gpuNum": 0,
    "hideHardwareSpecs": false,
    "memoryGiB": 64,
    "name": "ml.r5.2xlarge",
    "vcpuNum": 8
   },
   {
    "_defaultOrder": 42,
    "_isFastLaunch": false,
    "category": "Memory Optimized",
    "gpuNum": 0,
    "hideHardwareSpecs": false,
    "memoryGiB": 128,
    "name": "ml.r5.4xlarge",
    "vcpuNum": 16
   },
   {
    "_defaultOrder": 43,
    "_isFastLaunch": false,
    "category": "Memory Optimized",
    "gpuNum": 0,
    "hideHardwareSpecs": false,
    "memoryGiB": 256,
    "name": "ml.r5.8xlarge",
    "vcpuNum": 32
   },
   {
    "_defaultOrder": 44,
    "_isFastLaunch": false,
    "category": "Memory Optimized",
    "gpuNum": 0,
    "hideHardwareSpecs": false,
    "memoryGiB": 384,
    "name": "ml.r5.12xlarge",
    "vcpuNum": 48
   },
   {
    "_defaultOrder": 45,
    "_isFastLaunch": false,
    "category": "Memory Optimized",
    "gpuNum": 0,
    "hideHardwareSpecs": false,
    "memoryGiB": 512,
    "name": "ml.r5.16xlarge",
    "vcpuNum": 64
   },
   {
    "_defaultOrder": 46,
    "_isFastLaunch": false,
    "category": "Memory Optimized",
    "gpuNum": 0,
    "hideHardwareSpecs": false,
    "memoryGiB": 768,
    "name": "ml.r5.24xlarge",
    "vcpuNum": 96
   },
   {
    "_defaultOrder": 47,
    "_isFastLaunch": false,
    "category": "Accelerated computing",
    "gpuNum": 1,
    "hideHardwareSpecs": false,
    "memoryGiB": 16,
    "name": "ml.g5.xlarge",
    "vcpuNum": 4
   },
   {
    "_defaultOrder": 48,
    "_isFastLaunch": false,
    "category": "Accelerated computing",
    "gpuNum": 1,
    "hideHardwareSpecs": false,
    "memoryGiB": 32,
    "name": "ml.g5.2xlarge",
    "vcpuNum": 8
   },
   {
    "_defaultOrder": 49,
    "_isFastLaunch": false,
    "category": "Accelerated computing",
    "gpuNum": 1,
    "hideHardwareSpecs": false,
    "memoryGiB": 64,
    "name": "ml.g5.4xlarge",
    "vcpuNum": 16
   },
   {
    "_defaultOrder": 50,
    "_isFastLaunch": false,
    "category": "Accelerated computing",
    "gpuNum": 1,
    "hideHardwareSpecs": false,
    "memoryGiB": 128,
    "name": "ml.g5.8xlarge",
    "vcpuNum": 32
   },
   {
    "_defaultOrder": 51,
    "_isFastLaunch": false,
    "category": "Accelerated computing",
    "gpuNum": 1,
    "hideHardwareSpecs": false,
    "memoryGiB": 256,
    "name": "ml.g5.16xlarge",
    "vcpuNum": 64
   },
   {
    "_defaultOrder": 52,
    "_isFastLaunch": false,
    "category": "Accelerated computing",
    "gpuNum": 4,
    "hideHardwareSpecs": false,
    "memoryGiB": 192,
    "name": "ml.g5.12xlarge",
    "vcpuNum": 48
   },
   {
    "_defaultOrder": 53,
    "_isFastLaunch": false,
    "category": "Accelerated computing",
    "gpuNum": 4,
    "hideHardwareSpecs": false,
    "memoryGiB": 384,
    "name": "ml.g5.24xlarge",
    "vcpuNum": 96
   },
   {
    "_defaultOrder": 54,
    "_isFastLaunch": false,
    "category": "Accelerated computing",
    "gpuNum": 8,
    "hideHardwareSpecs": false,
    "memoryGiB": 768,
    "name": "ml.g5.48xlarge",
    "vcpuNum": 192
   },
   {
    "_defaultOrder": 55,
    "_isFastLaunch": false,
    "category": "Accelerated computing",
    "gpuNum": 8,
    "hideHardwareSpecs": false,
    "memoryGiB": 1152,
    "name": "ml.p4d.24xlarge",
    "vcpuNum": 96
   },
   {
    "_defaultOrder": 56,
    "_isFastLaunch": false,
    "category": "Accelerated computing",
    "gpuNum": 8,
    "hideHardwareSpecs": false,
    "memoryGiB": 1152,
    "name": "ml.p4de.24xlarge",
    "vcpuNum": 96
   },
   {
    "_defaultOrder": 57,
    "_isFastLaunch": false,
    "category": "Accelerated computing",
    "gpuNum": 0,
    "hideHardwareSpecs": false,
    "memoryGiB": 32,
    "name": "ml.trn1.2xlarge",
    "vcpuNum": 8
   },
   {
    "_defaultOrder": 58,
    "_isFastLaunch": false,
    "category": "Accelerated computing",
    "gpuNum": 0,
    "hideHardwareSpecs": false,
    "memoryGiB": 512,
    "name": "ml.trn1.32xlarge",
    "vcpuNum": 128
   },
   {
    "_defaultOrder": 59,
    "_isFastLaunch": false,
    "category": "Accelerated computing",
    "gpuNum": 0,
    "hideHardwareSpecs": false,
    "memoryGiB": 512,
    "name": "ml.trn1n.32xlarge",
    "vcpuNum": 128
   }
  ],
  "instance_type": "ml.t3.medium",
  "kernelspec": {
   "display_name": "conda_python3",
   "language": "python",
   "name": "conda_python3"
  },
  "language_info": {
   "codemirror_mode": {
    "name": "ipython",
    "version": 3
   },
   "file_extension": ".py",
   "mimetype": "text/x-python",
   "name": "python",
   "nbconvert_exporter": "python",
   "pygments_lexer": "ipython3",
   "version": "3.10.13"
  }
 },
 "nbformat": 4,
 "nbformat_minor": 4
}
